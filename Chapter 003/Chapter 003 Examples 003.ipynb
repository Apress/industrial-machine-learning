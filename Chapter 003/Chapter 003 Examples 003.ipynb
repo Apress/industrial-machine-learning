{
 "cells": [
  {
   "cell_type": "markdown",
   "metadata": {},
   "source": [
    "# Chapter 01 Examples 003"
   ]
  },
  {
   "cell_type": "code",
   "execution_count": 3,
   "metadata": {},
   "outputs": [],
   "source": [
    "from sklearn.model_selection import train_test_split\n",
    "from sklearn import svm\n",
    "import numpy as np"
   ]
  },
  {
   "cell_type": "code",
   "execution_count": 4,
   "metadata": {},
   "outputs": [
    {
     "name": "stdout",
     "output_type": "stream",
     "text": [
      "(150, 4) (150,)\n"
     ]
    }
   ],
   "source": [
    "# Import data about my roses\n",
    "X = np.loadtxt(\"./data/x-roses.csv\", delimiter=\",\")\n",
    "y = np.loadtxt(\"./data/y-roses.csv\", delimiter=\",\")\n",
    "print(X.shape, y.shape)"
   ]
  },
  {
   "cell_type": "code",
   "execution_count": 79,
   "metadata": {},
   "outputs": [],
   "source": [
    "X_train, X_test, y_train, y_test = train_test_split(\n",
    "    X, y, test_size=0.1, random_state=123)"
   ]
  },
  {
   "cell_type": "code",
   "execution_count": 80,
   "metadata": {},
   "outputs": [
    {
     "name": "stdout",
     "output_type": "stream",
     "text": [
      "Train: (135, 4) (135,)\n",
      "Test : (15, 4) (15,)\n"
     ]
    }
   ],
   "source": [
    "print('Train:', X_train.shape, y_train.shape)\n",
    "print('Test :', X_test.shape, y_test.shape)"
   ]
  },
  {
   "cell_type": "code",
   "execution_count": 81,
   "metadata": {},
   "outputs": [
    {
     "name": "stdout",
     "output_type": "stream",
     "text": [
      "0.9333333333333333\n"
     ]
    }
   ],
   "source": [
    "clf = svm.SVC(kernel='linear', C=1).fit(X_train, y_train)\n",
    "scoreResult=clf.score(X_test, y_test)  \n",
    "print(scoreResult)  "
   ]
  },
  {
   "cell_type": "code",
   "execution_count": 82,
   "metadata": {},
   "outputs": [],
   "source": [
    "from sklearn.model_selection import cross_val_score"
   ]
  },
  {
   "cell_type": "code",
   "execution_count": 89,
   "metadata": {},
   "outputs": [],
   "source": [
    "clf = svm.SVC(kernel='linear', C=4, random_state=10)"
   ]
  },
  {
   "cell_type": "code",
   "execution_count": 108,
   "metadata": {},
   "outputs": [
    {
     "name": "stdout",
     "output_type": "stream",
     "text": [
      "accuracy\n",
      "-------------------------------\n",
      "1.0000\n",
      "0.9216\n",
      "1.0000\n",
      "-------------------------------\n",
      "Score: 0.9739 (+/- 0.0739)\n",
      "-------------------------------- \n",
      "\n",
      "precision_macro\n",
      "-------------------------------\n",
      "1.0000\n",
      "0.9365\n",
      "1.0000\n",
      "-------------------------------\n",
      "Score: 0.9788 (+/- 0.0599)\n",
      "-------------------------------- \n",
      "\n",
      "precision_micro\n",
      "-------------------------------\n",
      "1.0000\n",
      "0.9216\n",
      "1.0000\n",
      "-------------------------------\n",
      "Score: 0.9739 (+/- 0.0739)\n",
      "-------------------------------- \n",
      "\n",
      "precision_weighted\n",
      "-------------------------------\n",
      "1.0000\n",
      "0.9365\n",
      "1.0000\n",
      "-------------------------------\n",
      "Score: 0.9788 (+/- 0.0599)\n",
      "-------------------------------- \n",
      "\n",
      "r2\n",
      "-------------------------------\n",
      "1.0000\n",
      "0.8824\n",
      "1.0000\n",
      "-------------------------------\n",
      "Score: 0.9608 (+/- 0.1109)\n",
      "-------------------------------- \n",
      "\n",
      "recall_macro\n",
      "-------------------------------\n",
      "1.0000\n",
      "0.9216\n",
      "1.0000\n",
      "-------------------------------\n",
      "Score: 0.9739 (+/- 0.0739)\n",
      "-------------------------------- \n",
      "\n",
      "recall_micro\n",
      "-------------------------------\n",
      "1.0000\n",
      "0.9216\n",
      "1.0000\n",
      "-------------------------------\n",
      "Score: 0.9739 (+/- 0.0739)\n",
      "-------------------------------- \n",
      "\n",
      "recall_weighted\n",
      "-------------------------------\n",
      "1.0000\n",
      "0.9216\n",
      "1.0000\n",
      "-------------------------------\n",
      "Score: 0.9739 (+/- 0.0739)\n",
      "-------------------------------- \n",
      "\n"
     ]
    }
   ],
   "source": [
    "scoreTypes = [\n",
    "        'accuracy',\n",
    "        'precision_macro', \n",
    "        'precision_micro', \n",
    "        'precision_weighted', \n",
    "        'r2', \n",
    "        'recall_macro', \n",
    "        'recall_micro', \n",
    "        'recall_weighted']\n",
    "\n",
    "\n",
    "for scoreType in scoreTypes:\n",
    "    print(scoreType)\n",
    "    print('-------------------------------')\n",
    "    scores = cross_val_score(clf, X, y, cv=3, scoring=scoreType)\n",
    "    for i in range(scores.shape[0]):\n",
    "        print('%0.4f' % scores[i])\n",
    "    print('-------------------------------')\n",
    "    print(\"Score: %0.4f (+/- %0.4f)\" % (scores.mean(), scores.std() * 2))\n",
    "    print('--------------------------------','\\n')"
   ]
  }
 ],
 "metadata": {
  "kernelspec": {
   "display_name": "Python 3",
   "language": "python",
   "name": "python3"
  },
  "language_info": {
   "codemirror_mode": {
    "name": "ipython",
    "version": 3
   },
   "file_extension": ".py",
   "mimetype": "text/x-python",
   "name": "python",
   "nbconvert_exporter": "python",
   "pygments_lexer": "ipython3",
   "version": "3.6.7"
  }
 },
 "nbformat": 4,
 "nbformat_minor": 2
}
