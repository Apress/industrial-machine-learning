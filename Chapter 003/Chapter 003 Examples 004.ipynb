{
 "cells": [
  {
   "cell_type": "markdown",
   "metadata": {},
   "source": [
    "# Chapter 003 Examples 004"
   ]
  },
  {
   "cell_type": "code",
   "execution_count": 1,
   "metadata": {},
   "outputs": [],
   "source": [
    "import matplotlib\n",
    "matplotlib.use('TkAgg')\n",
    "%matplotlib inline\n",
    "\n",
    "import numpy as np\n",
    "import matplotlib.pyplot as plt\n",
    "from sklearn.ensemble import RandomForestRegressor\n",
    "from sklearn.pipeline import make_pipeline, make_union\n",
    "from sklearn.impute import SimpleImputer, MissingIndicator\n",
    "from sklearn.model_selection import cross_val_score\n",
    "import json as js\n",
    "import pandas as pd\n",
    "import os"
   ]
  },
  {
   "cell_type": "code",
   "execution_count": 2,
   "metadata": {},
   "outputs": [],
   "source": [
    "rng = np.random.RandomState(123)"
   ]
  },
  {
   "cell_type": "code",
   "execution_count": 3,
   "metadata": {},
   "outputs": [
    {
     "name": "stdout",
     "output_type": "stream",
     "text": [
      "(303, 14)\n",
      "Index([u'F01', u'F02', u'F03', u'F04', u'F05', u'F06', u'F07', u'F08', u'F09',\n",
      "       u'F10', u'F11', u'F12', u'F13', u'T'],\n",
      "      dtype='object')\n"
     ]
    }
   ],
   "source": [
    "sickdf= pd.read_csv(os.path.abspath('../../Data/sickness02.csv'),header=0)\n",
    "print(sickdf.shape)\n",
    "print(sickdf.columns)"
   ]
  },
  {
   "cell_type": "code",
   "execution_count": 4,
   "metadata": {},
   "outputs": [
    {
     "name": "stdout",
     "output_type": "stream",
     "text": [
      "(21613, 5)\n",
      "Index([u'F01', u'F02', u'F03', u'F04', u'T'], dtype='object')\n"
     ]
    }
   ],
   "source": [
    "homesdf= pd.read_csv(os.path.abspath('../../Data/Homes02.csv'),header=0)\n",
    "print(homesdf.shape)\n",
    "print(homesdf.columns)"
   ]
  },
  {
   "cell_type": "code",
   "execution_count": 5,
   "metadata": {},
   "outputs": [],
   "source": [
    "def get_results(dataset):\n",
    "    X_full_df = dataset.copy(deep=True)\n",
    "    X_full_df.drop(['T'], axis=1, inplace=True)\n",
    "    y_full_df = dataset[['T']]\n",
    "    \n",
    "    X_full=np.array(X_full_df)\n",
    "    y_full=np.array(y_full_df['T'])\n",
    "    \n",
    "    n_samples = X_full.shape[0]\n",
    "    n_features = X_full.shape[1]\n",
    "\n",
    "    # Estimate the score on the entire dataset, with no missing values\n",
    "    estimator = RandomForestRegressor(random_state=0, n_estimators=100)\n",
    "    full_scores = cross_val_score(estimator, X_full, y_full,\n",
    "                                  scoring='neg_mean_squared_error', cv=5)\n",
    "\n",
    "    # Add missing values in 80% of the lines\n",
    "    missing_rate = 0.8\n",
    "    n_missing_samples = int(np.floor(n_samples * missing_rate))\n",
    "    missing_samples = np.hstack((np.zeros(n_samples - n_missing_samples,\n",
    "                                          dtype=np.bool),\n",
    "                                 np.ones(n_missing_samples,\n",
    "                                         dtype=np.bool)))\n",
    "    rng.shuffle(missing_samples)\n",
    "    missing_features = rng.randint(0, n_features, n_missing_samples)\n",
    "\n",
    "    # Estimate the score after replacing missing values by 0\n",
    "    X_missing = X_full.copy()\n",
    "    X_missing[np.where(missing_samples)[0], missing_features] = 0\n",
    "    y_missing = y_full.copy()\n",
    "    estimator = RandomForestRegressor(random_state=0, n_estimators=100)\n",
    "    zero_impute_scores = cross_val_score(estimator, X_missing, y_missing,\n",
    "                                         scoring='neg_mean_squared_error',\n",
    "                                         cv=5)\n",
    "\n",
    "    # Estimate the score after imputation (mean strategy) of the missing values\n",
    "    X_missing = X_full.copy()\n",
    "    X_missing[np.where(missing_samples)[0], missing_features] = 0\n",
    "    y_missing = y_full.copy()\n",
    "    estimator = make_pipeline(\n",
    "        make_union(SimpleImputer(missing_values=0, strategy=\"mean\"),\n",
    "                   MissingIndicator(missing_values=0)),\n",
    "        RandomForestRegressor(random_state=0, n_estimators=100))\n",
    "    mean_impute_scores = cross_val_score(estimator, X_missing, y_missing,\n",
    "                                         scoring='neg_mean_squared_error',\n",
    "                                         cv=5)\n",
    "\n",
    "\n",
    "    return ((full_scores.mean(), full_scores.std()),\n",
    "            (zero_impute_scores.mean(), zero_impute_scores.std()),\n",
    "            (mean_impute_scores.mean(), mean_impute_scores.std()))\n"
   ]
  },
  {
   "cell_type": "code",
   "execution_count": 6,
   "metadata": {},
   "outputs": [
    {
     "data": {
      "image/png": "[encoded data removed]",
      "text/plain": [
       "<Figure size 864x432 with 2 Axes>"
      ]
     },
     "metadata": {
      "needs_background": "light"
     },
     "output_type": "display_data"
    }
   ],
   "source": [
    "results_sick = np.array(get_results(sickdf))\n",
    "mses_sick = results_sick[:, 0] * -1\n",
    "stds_sick = results_sick[:, 1]\n",
    "\n",
    "results_homes = np.array(get_results(homesdf))\n",
    "mses_homes = results_homes[:, 0] * -1\n",
    "stds_homes = results_homes[:, 1]\n",
    "\n",
    "n_bars = len(mses_sick)\n",
    "xval = np.arange(n_bars)\n",
    "\n",
    "x_labels = ['Full Data',\n",
    "            'Zero Imputation',\n",
    "            'Mean Imputation']\n",
    "colors = ['red', 'green', 'blue', 'orange']\n",
    "\n",
    "# plot sickness results\n",
    "fig=plt.figure(figsize=(12, 6))\n",
    "ax1 = plt.subplot(121)\n",
    "for j in xval:\n",
    "    ax1.barh(j, mses_sick[j], xerr=stds_sick[j],\n",
    "             color=colors[j], alpha=0.6, align='center')\n",
    "\n",
    "ax1.set_title('Imputation Techniques with Sickness Blood Count Data')\n",
    "ax1.set_xlim(left=np.min(mses_sick) * 0.9,\n",
    "             right=np.max(mses_sick) * 1.1)\n",
    "ax1.set_yticks(xval)\n",
    "ax1.set_xlabel('MSE')\n",
    "ax1.invert_yaxis()\n",
    "ax1.set_yticklabels(x_labels)\n",
    "\n",
    "# plot homes results\n",
    "ax2 = plt.subplot(122)\n",
    "for j in xval:\n",
    "    ax2.barh(j, mses_homes[j], xerr=stds_homes[j],\n",
    "             color=colors[j], alpha=0.6, align='center')\n",
    "\n",
    "ax2.set_title('Imputation Techniques with Homes Data')\n",
    "ax2.set_yticks(xval)\n",
    "ax2.set_xlabel('MSE')\n",
    "ax2.invert_yaxis()\n",
    "ax2.set_yticklabels([''] * n_bars)\n",
    "\n",
    "plt.show()"
   ]
  },
  {
   "cell_type": "code",
   "execution_count": 7,
   "metadata": {},
   "outputs": [
    {
     "name": "stdout",
     "output_type": "stream",
     "text": [
      "C:\\Users\\AndreVermeulen\\Documents\\My Book\\apress\\Industrialized Machine Learning\\book\\IML\\Results\\Chapter 03\n"
     ]
    }
   ],
   "source": [
    "imagepath = os.path.join(*[os.path.dirname(os.path.dirname(os.getcwd())),'Results','Chapter 03'])\n",
    "print(imagepath)"
   ]
  },
  {
   "cell_type": "code",
   "execution_count": 8,
   "metadata": {},
   "outputs": [],
   "source": [
    "if not os.path.exists(imagepath):\n",
    "    os.makedirs(imagepath)"
   ]
  },
  {
   "cell_type": "code",
   "execution_count": 9,
   "metadata": {},
   "outputs": [],
   "source": [
    "imagename = os.path.join(*[os.path.dirname(os.path.dirname(os.getcwd())),'Results','Chapter 03','Chapter-003-Examples-004-01.jpg'])\n",
    "fig.savefig(imagename, bbox_inches='tight')"
   ]
  },
  {
   "cell_type": "code",
   "execution_count": 10,
   "metadata": {},
   "outputs": [
    {
     "name": "stdout",
     "output_type": "stream",
     "text": [
      "Done!\n"
     ]
    }
   ],
   "source": [
    "print('Done!')"
   ]
  }
 ],
 "metadata": {
  "kernelspec": {
   "display_name": "Python 2",
   "language": "python",
   "name": "python2"
  },
  "language_info": {
   "codemirror_mode": {
    "name": "ipython",
    "version": 2
   },
   "file_extension": ".py",
   "mimetype": "text/x-python",
   "name": "python",
   "nbconvert_exporter": "python",
   "pygments_lexer": "ipython2",
   "version": "2.7.16"
  }
 },
 "nbformat": 4,
 "nbformat_minor": 2
}
