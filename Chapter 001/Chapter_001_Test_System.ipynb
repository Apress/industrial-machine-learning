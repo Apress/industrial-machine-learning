{
 "cells": [
  {
   "cell_type": "markdown",
   "metadata": {},
   "source": [
    "# Chapter 001 Test Eco-system"
   ]
  },
  {
   "cell_type": "code",
   "execution_count": 1,
   "metadata": {},
   "outputs": [
    {
     "name": "stdout",
     "output_type": "stream",
     "text": [
      "Requirement already up-to-date: pip in c:\\users\\andrevermeulen\\appdata\\local\\conda\\conda\\envs\\py36\\lib\\site-packages (19.0.3)\n"
     ]
    }
   ],
   "source": [
    "!pip install -U pip --user"
   ]
  },
  {
   "cell_type": "code",
   "execution_count": 2,
   "metadata": {},
   "outputs": [
    {
     "name": "stdout",
     "output_type": "stream",
     "text": [
      "Your current directory is: C:\\Users\\AndreVermeulen\\Documents\\My Book\\apress\\Industrialized Machine Learning\\book\\IML\\Code\\Chapter 001\n"
     ]
    }
   ],
   "source": [
    "import os\n",
    "curDir = os.getcwd()\n",
    "print('Your current directory is:', curDir)"
   ]
  },
  {
   "cell_type": "code",
   "execution_count": 3,
   "metadata": {},
   "outputs": [
    {
     "name": "stdout",
     "output_type": "stream",
     "text": [
      "Requirement already up-to-date: numpy in c:\\users\\andrevermeulen\\appdata\\local\\conda\\conda\\envs\\py36\\lib\\site-packages (1.16.2)\n"
     ]
    }
   ],
   "source": [
    "!pip install -U numpy --user"
   ]
  },
  {
   "cell_type": "code",
   "execution_count": 4,
   "metadata": {},
   "outputs": [
    {
     "name": "stdout",
     "output_type": "stream",
     "text": [
      "Requirement already up-to-date: matplotlib in c:\\users\\andrevermeulen\\appdata\\roaming\\python\\python36\\site-packages (3.0.3)\n",
      "Requirement already satisfied, skipping upgrade: cycler>=0.10 in c:\\users\\andrevermeulen\\appdata\\local\\conda\\conda\\envs\\py36\\lib\\site-packages (from matplotlib) (0.10.0)\n",
      "Requirement already satisfied, skipping upgrade: pyparsing!=2.0.4,!=2.1.2,!=2.1.6,>=2.0.1 in c:\\users\\andrevermeulen\\appdata\\local\\conda\\conda\\envs\\py36\\lib\\site-packages (from matplotlib) (2.3.0)\n",
      "Requirement already satisfied, skipping upgrade: python-dateutil>=2.1 in c:\\users\\andrevermeulen\\appdata\\local\\conda\\conda\\envs\\py36\\lib\\site-packages (from matplotlib) (2.7.5)\n",
      "Requirement already satisfied, skipping upgrade: kiwisolver>=1.0.1 in c:\\users\\andrevermeulen\\appdata\\local\\conda\\conda\\envs\\py36\\lib\\site-packages (from matplotlib) (1.0.1)\n",
      "Requirement already satisfied, skipping upgrade: numpy>=1.10.0 in c:\\users\\andrevermeulen\\appdata\\local\\conda\\conda\\envs\\py36\\lib\\site-packages (from matplotlib) (1.16.2)\n",
      "Requirement already satisfied, skipping upgrade: six in c:\\users\\andrevermeulen\\appdata\\local\\conda\\conda\\envs\\py36\\lib\\site-packages (from cycler>=0.10->matplotlib) (1.12.0)\n",
      "Requirement already satisfied, skipping upgrade: setuptools in c:\\users\\andrevermeulen\\appdata\\local\\conda\\conda\\envs\\py36\\lib\\site-packages (from kiwisolver>=1.0.1->matplotlib) (40.6.3)\n"
     ]
    }
   ],
   "source": [
    "!pip install -U matplotlib --user"
   ]
  },
  {
   "cell_type": "code",
   "execution_count": 5,
   "metadata": {},
   "outputs": [
    {
     "name": "stdout",
     "output_type": "stream",
     "text": [
      "Requirement already up-to-date: scipy in c:\\users\\andrevermeulen\\appdata\\roaming\\python\\python36\\site-packages (1.2.1)\n",
      "Requirement already satisfied, skipping upgrade: numpy>=1.8.2 in c:\\users\\andrevermeulen\\appdata\\local\\conda\\conda\\envs\\py36\\lib\\site-packages (from scipy) (1.16.2)\n"
     ]
    }
   ],
   "source": [
    "!pip install -U scipy --user"
   ]
  },
  {
   "cell_type": "code",
   "execution_count": 6,
   "metadata": {},
   "outputs": [
    {
     "data": {
      "text/plain": [
       "<Figure size 1500x500 with 1 Axes>"
      ]
     },
     "metadata": {},
     "output_type": "display_data"
    }
   ],
   "source": [
    "from scipy import special, optimize, linspace\n",
    "import matplotlib.pyplot as plt\n",
    "\n",
    "f = lambda x: -special.jv(3, x)\n",
    "sol = optimize.minimize(f, 1.0)\n",
    "x = linspace(0, 50, 500)\n",
    "fig = plt.figure(figsize=(15, 5))\n",
    "plt.plot(x, special.jv(3, x), '-', sol.x, -sol.fun, 'o')\n",
    "plt.show()"
   ]
  },
  {
   "cell_type": "code",
   "execution_count": 7,
   "metadata": {},
   "outputs": [
    {
     "name": "stdout",
     "output_type": "stream",
     "text": [
      "Requirement already up-to-date: scikit-learn in c:\\users\\andrevermeulen\\appdata\\roaming\\python\\python36\\site-packages (0.20.3)\n",
      "Requirement already satisfied, skipping upgrade: numpy>=1.8.2 in c:\\users\\andrevermeulen\\appdata\\local\\conda\\conda\\envs\\py36\\lib\\site-packages (from scikit-learn) (1.16.2)\n",
      "Requirement already satisfied, skipping upgrade: scipy>=0.13.3 in c:\\users\\andrevermeulen\\appdata\\roaming\\python\\python36\\site-packages (from scikit-learn) (1.2.1)\n"
     ]
    }
   ],
   "source": [
    "!pip install -U scikit-learn --user"
   ]
  },
  {
   "cell_type": "code",
   "execution_count": 8,
   "metadata": {},
   "outputs": [
    {
     "name": "stdout",
     "output_type": "stream",
     "text": [
      "Requirement already up-to-date: pandas in c:\\users\\andrevermeulen\\appdata\\roaming\\python\\python36\\site-packages (0.24.2)\n",
      "Requirement already satisfied, skipping upgrade: python-dateutil>=2.5.0 in c:\\users\\andrevermeulen\\appdata\\local\\conda\\conda\\envs\\py36\\lib\\site-packages (from pandas) (2.7.5)\n",
      "Requirement already satisfied, skipping upgrade: pytz>=2011k in c:\\users\\andrevermeulen\\appdata\\local\\conda\\conda\\envs\\py36\\lib\\site-packages (from pandas) (2018.7)\n",
      "Requirement already satisfied, skipping upgrade: numpy>=1.12.0 in c:\\users\\andrevermeulen\\appdata\\local\\conda\\conda\\envs\\py36\\lib\\site-packages (from pandas) (1.16.2)\n",
      "Requirement already satisfied, skipping upgrade: six>=1.5 in c:\\users\\andrevermeulen\\appdata\\local\\conda\\conda\\envs\\py36\\lib\\site-packages (from python-dateutil>=2.5.0->pandas) (1.12.0)\n"
     ]
    }
   ],
   "source": [
    "!pip install -U pandas --user"
   ]
  },
  {
   "cell_type": "code",
   "execution_count": 9,
   "metadata": {},
   "outputs": [
    {
     "name": "stdout",
     "output_type": "stream",
     "text": [
      "(178, 13)\n"
     ]
    }
   ],
   "source": [
    "import pandas as pd\n",
    "from sklearn.datasets import load_wine\n",
    "dataraw = load_wine()\n",
    "data = pd.DataFrame(dataraw['data'])\n",
    "print(data.shape)"
   ]
  },
  {
   "cell_type": "code",
   "execution_count": 10,
   "metadata": {},
   "outputs": [
    {
     "name": "stdout",
     "output_type": "stream",
     "text": [
      "Requirement already up-to-date: PyYAML in c:\\users\\andrevermeulen\\appdata\\roaming\\python\\python36\\site-packages (5.1)\n"
     ]
    }
   ],
   "source": [
    "!pip install -U PyYAML --user"
   ]
  },
  {
   "cell_type": "code",
   "execution_count": 11,
   "metadata": {},
   "outputs": [
    {
     "name": "stdout",
     "output_type": "stream",
     "text": [
      "Requirement already up-to-date: networkx in c:\\users\\andrevermeulen\\appdata\\local\\conda\\conda\\envs\\py36\\lib\\site-packages (2.2)\n",
      "Requirement already satisfied, skipping upgrade: decorator>=4.3.0 in c:\\users\\andrevermeulen\\appdata\\local\\conda\\conda\\envs\\py36\\lib\\site-packages (from networkx) (4.3.0)\n"
     ]
    }
   ],
   "source": [
    "!pip install -U networkx --user"
   ]
  },
  {
   "cell_type": "code",
   "execution_count": 40,
   "metadata": {},
   "outputs": [
    {
     "name": "stdout",
     "output_type": "stream",
     "text": [
      "8\n",
      "[(0, 3), (1, 3), (2, 3), (3, 3), (4, 3), (5, 3), (6, 3), (7, 3)]\n"
     ]
    }
   ],
   "source": [
    "import networkx as nx\n",
    "G=nx.cubical_graph()\n",
    "print(G.number_of_nodes())\n",
    "print(G.degree())"
   ]
  },
  {
   "cell_type": "code",
   "execution_count": 47,
   "metadata": {},
   "outputs": [
    {
     "data": {
      "image/png": "[encoded data removed]",
      "text/plain": [
       "<Figure size 432x288 with 1 Axes>"
      ]
     },
     "metadata": {
      "needs_background": "light"
     },
     "output_type": "display_data"
    }
   ],
   "source": [
    "import matplotlib.pyplot as plt\n",
    "pos=nx.spring_layout(G)\n",
    "nx.draw_networkx_nodes(G,pos,\n",
    "                       nodelist=[0,1,2,3],\n",
    "                       node_color='r',\n",
    "                       node_size=500,\n",
    "                       alpha=0.8)\n",
    "nx.draw_networkx_nodes(G,pos,\n",
    "                       nodelist=[4,5,6,7],\n",
    "                       node_color='b',\n",
    "                       node_size=500,\n",
    "                       alpha=0.5)\n",
    "nx.draw_networkx_edges(G,pos,width=3.0,alpha=0.5)\n",
    "nx.draw_networkx_edges(G,pos,\n",
    "                       edgelist=[(0,1),(1,2),(2,3),(3,0)],\n",
    "                       width=5,alpha=0.5,edge_color='r')\n",
    "nx.draw_networkx_edges(G,pos,\n",
    "                       edgelist=[(4,5),(5,6),(6,7),(7,4)],\n",
    "                       width=5,alpha=0.5,edge_color='b')\n",
    "plt.axis('off')\n",
    "plt.show()"
   ]
  },
  {
   "cell_type": "code",
   "execution_count": 13,
   "metadata": {},
   "outputs": [
    {
     "name": "stdout",
     "output_type": "stream",
     "text": [
      "Your system is ready!\n"
     ]
    }
   ],
   "source": [
    "print('Your system is ready!')"
   ]
  }
 ],
 "metadata": {
  "kernelspec": {
   "display_name": "Python 3",
   "language": "python",
   "name": "python3"
  },
  "language_info": {
   "codemirror_mode": {
    "name": "ipython",
    "version": 3
   },
   "file_extension": ".py",
   "mimetype": "text/x-python",
   "name": "python",
   "nbconvert_exporter": "python",
   "pygments_lexer": "ipython3",
   "version": "3.6.7"
  }
 },
 "nbformat": 4,
 "nbformat_minor": 2
}
