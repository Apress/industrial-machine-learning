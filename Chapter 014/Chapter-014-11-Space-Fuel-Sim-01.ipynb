{
 "cells": [
  {
   "cell_type": "markdown",
   "metadata": {},
   "source": [
    "## Apress - Industrialized Machine Learning Examples\n",
    "\n",
    "Andreas Francois Vermeulen\n",
    "2019\n",
    "\n",
    "### This is an example add-on to a book and needs to be accepted as part of that copyright."
   ]
  },
  {
   "cell_type": "markdown",
   "metadata": {},
   "source": [
    "# Chapter-014-11-Space-Fuel-Sim-01"
   ]
  },
  {
   "cell_type": "markdown",
   "metadata": {},
   "source": [
    "![RIF plus Data Lake](../../images/spaceship.png)"
   ]
  },
  {
   "cell_type": "code",
   "execution_count": 1,
   "metadata": {},
   "outputs": [],
   "source": [
    "import random\n",
    "import simpy\n",
    "\n",
    "\n",
    "RANDOM_SEED = 1968\n",
    "SIM_TIME = 120"
   ]
  },
  {
   "cell_type": "code",
   "execution_count": 2,
   "metadata": {},
   "outputs": [
    {
     "data": {
      "application/javascript": [
       "IPython.OutputArea.auto_scroll_threshold = 9999;"
      ],
      "text/plain": [
       "<IPython.core.display.Javascript object>"
      ]
     },
     "metadata": {},
     "output_type": "display_data"
    }
   ],
   "source": [
    "%%javascript\n",
    "IPython.OutputArea.auto_scroll_threshold = 9999;"
   ]
  },
  {
   "cell_type": "code",
   "execution_count": 3,
   "metadata": {},
   "outputs": [],
   "source": [
    "def HighwayA(name, env, out_pipe):\n",
    "    \"\"\"A process which randomly generates clients.\"\"\"\n",
    "    while True:\n",
    "        # wait for next transmission\n",
    "        yield env.timeout(random.randint(6, 10))\n",
    "\n",
    "        msg = (env.now, '%s client from Space Highway A needs fuel at %d' % (name, env.now))\n",
    "        out_pipe.put(msg)"
   ]
  },
  {
   "cell_type": "code",
   "execution_count": 4,
   "metadata": {},
   "outputs": [],
   "source": [
    "def HighwayB(name, env, out_pipe):\n",
    "    \"\"\"A process which randomly generates clients.\"\"\"\n",
    "    while True:\n",
    "        # wait for next transmission\n",
    "        yield env.timeout(random.randint(1, 4))\n",
    "\n",
    "        msg = (env.now, '%s client from Space Highway B needs fuel at %d' % (name, env.now))\n",
    "        out_pipe.put(msg)"
   ]
  },
  {
   "cell_type": "code",
   "execution_count": 5,
   "metadata": {},
   "outputs": [],
   "source": [
    "class FuelLine(object):\n",
    "    def __init__(self, env, capacity=simpy.core.Infinity):\n",
    "        self.env = env\n",
    "        self.capacity = capacity\n",
    "        self.pipes = []\n",
    "\n",
    "    def put(self, value):\n",
    "        \"\"\"Transfer to all fuel pumps.\"\"\"\n",
    "        if not self.pipes:\n",
    "            raise RuntimeError('There are no output pumps.')\n",
    "        events = [store.put(value) for store in self.pipes]\n",
    "        return self.env.all_of(events)  # Condition event for all \"events\"\n",
    "\n",
    "    def get_output_conn(self):\n",
    "        pipe = simpy.Store(self.env, capacity=self.capacity)\n",
    "        self.pipes.append(pipe)\n",
    "        return pipe"
   ]
  },
  {
   "cell_type": "code",
   "execution_count": 6,
   "metadata": {},
   "outputs": [],
   "source": [
    "def FuelClient(name, env, in_pipe):\n",
    "    \"\"\"A process which consumes fuel.\"\"\"\n",
    "    while True:\n",
    "        msg = yield in_pipe.get()\n",
    "\n",
    "        if msg[0] < env.now:\n",
    "            print('No fuel: at time %d: %s received fuel request: %s' %\n",
    "                  (env.now, name, msg[1]))\n",
    "\n",
    "        else:\n",
    "            print('at time %d: %s received fuel request: %s.' %\n",
    "                  (env.now, name, msg[1]))\n",
    "\n",
    "        # Process is interfering with your work!!!\n",
    "        # The new fuel connections is stiff.\n",
    "        \n",
    "        yield env.timeout(random.randint(1, 2))"
   ]
  },
  {
   "cell_type": "code",
   "execution_count": 7,
   "metadata": {},
   "outputs": [
    {
     "name": "stdout",
     "output_type": "stream",
     "text": [
      "\n",
      "Fuel Station Simulation\n",
      "\n",
      "at time 1: Spaceship B received fuel request: Fuel-B client from Space Highway B needs fuel at 1.\n",
      "at time 1: Spaceship C received fuel request: Fuel-B client from Space Highway B needs fuel at 1.\n",
      "at time 4: Spaceship B received fuel request: Fuel-B client from Space Highway B needs fuel at 4.\n",
      "at time 4: Spaceship C received fuel request: Fuel-B client from Space Highway B needs fuel at 4.\n",
      "at time 8: Spaceship B received fuel request: Fuel-B client from Space Highway B needs fuel at 8.\n",
      "at time 8: Spaceship C received fuel request: Fuel-B client from Space Highway B needs fuel at 8.\n",
      "at time 9: Spaceship C received fuel request: Fuel-B client from Space Highway B needs fuel at 9.\n",
      "at time 9: Spaceship A received fuel request: Fuel-A client from Space Highway A needs fuel at 9.\n",
      "No fuel: at time 10: Spaceship B received fuel request: Fuel-B client from Space Highway B needs fuel at 9\n",
      "at time 10: Spaceship C received fuel request: Fuel-B client from Space Highway B needs fuel at 10.\n",
      "No fuel: at time 11: Spaceship B received fuel request: Fuel-B client from Space Highway B needs fuel at 10\n",
      "No fuel: at time 12: Spaceship C received fuel request: Fuel-B client from Space Highway B needs fuel at 11\n",
      "No fuel: at time 12: Spaceship B received fuel request: Fuel-B client from Space Highway B needs fuel at 11\n",
      "at time 15: Spaceship B received fuel request: Fuel-B client from Space Highway B needs fuel at 15.\n",
      "at time 15: Spaceship C received fuel request: Fuel-B client from Space Highway B needs fuel at 15.\n",
      "at time 16: Spaceship C received fuel request: Fuel-B client from Space Highway B needs fuel at 16.\n",
      "at time 16: Spaceship A received fuel request: Fuel-A client from Space Highway A needs fuel at 16.\n",
      "No fuel: at time 17: Spaceship B received fuel request: Fuel-B client from Space Highway B needs fuel at 16\n",
      "at time 18: Spaceship C received fuel request: Fuel-B client from Space Highway B needs fuel at 18.\n",
      "at time 18: Spaceship B received fuel request: Fuel-B client from Space Highway B needs fuel at 18.\n",
      "at time 20: Spaceship C received fuel request: Fuel-B client from Space Highway B needs fuel at 20.\n",
      "at time 20: Spaceship B received fuel request: Fuel-B client from Space Highway B needs fuel at 20.\n",
      "at time 22: Spaceship C received fuel request: Fuel-B client from Space Highway B needs fuel at 22.\n",
      "at time 22: Spaceship B received fuel request: Fuel-B client from Space Highway B needs fuel at 22.\n",
      "at time 22: Spaceship A received fuel request: Fuel-A client from Space Highway A needs fuel at 22.\n",
      "No fuel: at time 24: Spaceship C received fuel request: Fuel-B client from Space Highway B needs fuel at 23\n",
      "No fuel: at time 24: Spaceship B received fuel request: Fuel-B client from Space Highway B needs fuel at 23\n",
      "No fuel: at time 26: Spaceship C received fuel request: Fuel-B client from Space Highway B needs fuel at 25\n",
      "No fuel: at time 26: Spaceship B received fuel request: Fuel-B client from Space Highway B needs fuel at 25\n",
      "No fuel: at time 27: Spaceship C received fuel request: Fuel-B client from Space Highway B needs fuel at 26\n",
      "No fuel: at time 28: Spaceship B received fuel request: Fuel-B client from Space Highway B needs fuel at 26\n",
      "at time 29: Spaceship C received fuel request: Fuel-B client from Space Highway B needs fuel at 29.\n",
      "at time 29: Spaceship B received fuel request: Fuel-B client from Space Highway B needs fuel at 29.\n",
      "at time 31: Spaceship A received fuel request: Fuel-A client from Space Highway A needs fuel at 31.\n",
      "at time 32: Spaceship B received fuel request: Fuel-B client from Space Highway B needs fuel at 32.\n",
      "at time 32: Spaceship C received fuel request: Fuel-B client from Space Highway B needs fuel at 32.\n",
      "at time 35: Spaceship B received fuel request: Fuel-B client from Space Highway B needs fuel at 35.\n",
      "at time 35: Spaceship C received fuel request: Fuel-B client from Space Highway B needs fuel at 35.\n",
      "at time 39: Spaceship B received fuel request: Fuel-B client from Space Highway B needs fuel at 39.\n",
      "at time 39: Spaceship C received fuel request: Fuel-B client from Space Highway B needs fuel at 39.\n",
      "at time 40: Spaceship A received fuel request: Fuel-A client from Space Highway A needs fuel at 40.\n",
      "at time 43: Spaceship B received fuel request: Fuel-B client from Space Highway B needs fuel at 43.\n",
      "at time 43: Spaceship C received fuel request: Fuel-B client from Space Highway B needs fuel at 43.\n",
      "at time 46: Spaceship B received fuel request: Fuel-B client from Space Highway B needs fuel at 46.\n",
      "at time 46: Spaceship C received fuel request: Fuel-B client from Space Highway B needs fuel at 46.\n",
      "at time 49: Spaceship A received fuel request: Fuel-A client from Space Highway A needs fuel at 49.\n",
      "at time 50: Spaceship B received fuel request: Fuel-B client from Space Highway B needs fuel at 50.\n",
      "at time 50: Spaceship C received fuel request: Fuel-B client from Space Highway B needs fuel at 50.\n",
      "at time 52: Spaceship B received fuel request: Fuel-B client from Space Highway B needs fuel at 52.\n",
      "at time 52: Spaceship C received fuel request: Fuel-B client from Space Highway B needs fuel at 52.\n",
      "at time 56: Spaceship A received fuel request: Fuel-A client from Space Highway A needs fuel at 56.\n",
      "at time 56: Spaceship B received fuel request: Fuel-B client from Space Highway B needs fuel at 56.\n",
      "at time 56: Spaceship C received fuel request: Fuel-B client from Space Highway B needs fuel at 56.\n",
      "at time 59: Spaceship B received fuel request: Fuel-B client from Space Highway B needs fuel at 59.\n",
      "at time 59: Spaceship C received fuel request: Fuel-B client from Space Highway B needs fuel at 59.\n",
      "at time 62: Spaceship A received fuel request: Fuel-A client from Space Highway A needs fuel at 62.\n",
      "at time 63: Spaceship B received fuel request: Fuel-B client from Space Highway B needs fuel at 63.\n",
      "at time 63: Spaceship C received fuel request: Fuel-B client from Space Highway B needs fuel at 63.\n",
      "at time 66: Spaceship B received fuel request: Fuel-B client from Space Highway B needs fuel at 66.\n",
      "at time 66: Spaceship C received fuel request: Fuel-B client from Space Highway B needs fuel at 66.\n",
      "at time 69: Spaceship A received fuel request: Fuel-A client from Space Highway A needs fuel at 69.\n",
      "at time 70: Spaceship B received fuel request: Fuel-B client from Space Highway B needs fuel at 70.\n",
      "at time 70: Spaceship C received fuel request: Fuel-B client from Space Highway B needs fuel at 70.\n",
      "at time 74: Spaceship B received fuel request: Fuel-B client from Space Highway B needs fuel at 74.\n",
      "at time 74: Spaceship C received fuel request: Fuel-B client from Space Highway B needs fuel at 74.\n",
      "at time 77: Spaceship B received fuel request: Fuel-B client from Space Highway B needs fuel at 77.\n",
      "at time 77: Spaceship C received fuel request: Fuel-B client from Space Highway B needs fuel at 77.\n",
      "at time 79: Spaceship A received fuel request: Fuel-A client from Space Highway A needs fuel at 79.\n",
      "at time 80: Spaceship B received fuel request: Fuel-B client from Space Highway B needs fuel at 80.\n",
      "at time 80: Spaceship C received fuel request: Fuel-B client from Space Highway B needs fuel at 80.\n",
      "at time 83: Spaceship B received fuel request: Fuel-B client from Space Highway B needs fuel at 83.\n",
      "at time 83: Spaceship C received fuel request: Fuel-B client from Space Highway B needs fuel at 83.\n",
      "at time 87: Spaceship B received fuel request: Fuel-B client from Space Highway B needs fuel at 87.\n",
      "at time 87: Spaceship C received fuel request: Fuel-B client from Space Highway B needs fuel at 87.\n",
      "at time 88: Spaceship A received fuel request: Fuel-A client from Space Highway A needs fuel at 88.\n",
      "at time 91: Spaceship B received fuel request: Fuel-B client from Space Highway B needs fuel at 91.\n",
      "at time 91: Spaceship C received fuel request: Fuel-B client from Space Highway B needs fuel at 91.\n",
      "at time 92: Spaceship C received fuel request: Fuel-B client from Space Highway B needs fuel at 92.\n",
      "No fuel: at time 93: Spaceship B received fuel request: Fuel-B client from Space Highway B needs fuel at 92\n",
      "No fuel: at time 94: Spaceship C received fuel request: Fuel-B client from Space Highway B needs fuel at 93\n",
      "No fuel: at time 94: Spaceship B received fuel request: Fuel-B client from Space Highway B needs fuel at 93\n",
      "at time 94: Spaceship A received fuel request: Fuel-A client from Space Highway A needs fuel at 94.\n",
      "at time 97: Spaceship B received fuel request: Fuel-B client from Space Highway B needs fuel at 97.\n",
      "at time 97: Spaceship C received fuel request: Fuel-B client from Space Highway B needs fuel at 97.\n",
      "at time 99: Spaceship C received fuel request: Fuel-B client from Space Highway B needs fuel at 99.\n",
      "at time 99: Spaceship B received fuel request: Fuel-B client from Space Highway B needs fuel at 99.\n",
      "at time 100: Spaceship C received fuel request: Fuel-B client from Space Highway B needs fuel at 100.\n",
      "No fuel: at time 101: Spaceship B received fuel request: Fuel-B client from Space Highway B needs fuel at 100\n",
      "at time 101: Spaceship C received fuel request: Fuel-B client from Space Highway B needs fuel at 101.\n",
      "at time 101: Spaceship A received fuel request: Fuel-A client from Space Highway A needs fuel at 101.\n",
      "No fuel: at time 103: Spaceship B received fuel request: Fuel-B client from Space Highway B needs fuel at 101\n",
      "No fuel: at time 103: Spaceship C received fuel request: Fuel-B client from Space Highway B needs fuel at 102\n",
      "No fuel: at time 104: Spaceship B received fuel request: Fuel-B client from Space Highway B needs fuel at 102\n",
      "No fuel: at time 105: Spaceship C received fuel request: Fuel-B client from Space Highway B needs fuel at 104\n",
      "No fuel: at time 106: Spaceship B received fuel request: Fuel-B client from Space Highway B needs fuel at 104\n",
      "No fuel: at time 107: Spaceship C received fuel request: Fuel-B client from Space Highway B needs fuel at 105\n",
      "No fuel: at time 108: Spaceship B received fuel request: Fuel-B client from Space Highway B needs fuel at 105\n",
      "at time 108: Spaceship A received fuel request: Fuel-A client from Space Highway A needs fuel at 108.\n",
      "No fuel: at time 109: Spaceship C received fuel request: Fuel-B client from Space Highway B needs fuel at 106\n",
      "No fuel: at time 109: Spaceship B received fuel request: Fuel-B client from Space Highway B needs fuel at 106\n",
      "No fuel: at time 110: Spaceship C received fuel request: Fuel-B client from Space Highway B needs fuel at 107\n",
      "No fuel: at time 110: Spaceship B received fuel request: Fuel-B client from Space Highway B needs fuel at 107\n",
      "No fuel: at time 111: Spaceship B received fuel request: Fuel-B client from Space Highway B needs fuel at 110\n",
      "No fuel: at time 112: Spaceship C received fuel request: Fuel-B client from Space Highway B needs fuel at 110\n",
      "at time 112: Spaceship B received fuel request: Fuel-B client from Space Highway B needs fuel at 112.\n",
      "No fuel: at time 114: Spaceship C received fuel request: Fuel-B client from Space Highway B needs fuel at 112\n",
      "at time 114: Spaceship B received fuel request: Fuel-B client from Space Highway B needs fuel at 114.\n",
      "No fuel: at time 115: Spaceship C received fuel request: Fuel-B client from Space Highway B needs fuel at 114\n",
      "at time 115: Spaceship A received fuel request: Fuel-A client from Space Highway A needs fuel at 115.\n",
      "No fuel: at time 116: Spaceship B received fuel request: Fuel-B client from Space Highway B needs fuel at 115\n",
      "No fuel: at time 116: Spaceship C received fuel request: Fuel-B client from Space Highway B needs fuel at 115\n",
      "at time 118: Spaceship B received fuel request: Fuel-B client from Space Highway B needs fuel at 118.\n",
      "at time 118: Spaceship C received fuel request: Fuel-B client from Space Highway B needs fuel at 118.\n"
     ]
    }
   ],
   "source": [
    "# Setup and start the simulation\n",
    "random.seed(RANDOM_SEED)\n",
    "env = simpy.Environment()\n",
    "\n",
    "FuelLineA = FuelLine(env)\n",
    "FuelLineB = FuelLine(env)\n",
    "\n",
    "env.process(HighwayA('Fuel-A', env, FuelLineA))\n",
    "env.process(HighwayB('Fuel-B', env, FuelLineB))\n",
    "\n",
    "env.process(FuelClient('Spaceship A', env, FuelLineA.get_output_conn()))\n",
    "env.process(FuelClient('Spaceship B', env, FuelLineB.get_output_conn()))\n",
    "env.process(FuelClient('Spaceship C', env, FuelLineB.get_output_conn()))\n",
    "\n",
    "print('\\nFuel Station Simulation\\n')\n",
    "env.run(until=SIM_TIME)"
   ]
  },
  {
   "cell_type": "markdown",
   "metadata": {},
   "source": [
    "## Done"
   ]
  },
  {
   "cell_type": "code",
   "execution_count": 8,
   "metadata": {},
   "outputs": [
    {
     "name": "stdout",
     "output_type": "stream",
     "text": [
      "('Done!', '2019-05-03 15:40:14.745000')\n"
     ]
    }
   ],
   "source": [
    "import datetime\n",
    "now = datetime.datetime.now()\n",
    "print('Done!',str(now))"
   ]
  }
 ],
 "metadata": {
  "kernelspec": {
   "display_name": "Python 3",
   "language": "python",
   "name": "python3"
  },
  "language_info": {
   "codemirror_mode": {
    "name": "ipython",
    "version": 2
   },
   "file_extension": ".py",
   "mimetype": "text/x-python",
   "name": "python",
   "nbconvert_exporter": "python",
   "pygments_lexer": "ipython2",
   "version": "2.7.16"
  }
 },
 "nbformat": 4,
 "nbformat_minor": 2
}
