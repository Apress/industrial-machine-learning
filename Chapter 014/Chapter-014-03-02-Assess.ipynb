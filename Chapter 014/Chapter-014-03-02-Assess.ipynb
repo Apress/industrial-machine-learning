{
 "cells": [
  {
   "cell_type": "markdown",
   "metadata": {},
   "source": [
    "## Apress - Industrialized Machine Learning Examples\n",
    "\n",
    "Andreas Francois Vermeulen\n",
    "2019\n",
    "\n",
    "### This is an example add-on to a book and needs to be accepted as part of that copyright."
   ]
  },
  {
   "cell_type": "markdown",
   "metadata": {},
   "source": [
    "# Chapter-014-03-02-Assess"
   ]
  },
  {
   "cell_type": "code",
   "execution_count": 1,
   "metadata": {},
   "outputs": [],
   "source": [
    "import datetime\n",
    "nowStart = datetime.datetime.now()"
   ]
  },
  {
   "cell_type": "markdown",
   "metadata": {},
   "source": [
    "![RIF Functional Layer - Assess Step](../../images/RIF-FL-ASS.JPG)"
   ]
  },
  {
   "cell_type": "code",
   "execution_count": 2,
   "metadata": {},
   "outputs": [],
   "source": [
    "pathRIFname='./000-RIF/100-Functional-Layer/200-Assess/'"
   ]
  },
  {
   "cell_type": "code",
   "execution_count": 3,
   "metadata": {},
   "outputs": [],
   "source": [
    "import subprocess\n",
    "import os\n",
    "import time\n",
    "import sys\n",
    "import numpy as np"
   ]
  },
  {
   "cell_type": "code",
   "execution_count": 4,
   "metadata": {},
   "outputs": [
    {
     "name": "stdout",
     "output_type": "stream",
     "text": [
      "(13,)\n",
      "C:/Users/sirve/Anaconda3/python.exe\n"
     ]
    }
   ],
   "source": [
    "path=np.array(sys.path)\n",
    "print(path.shape)\n",
    "for i in range(path.shape[0]):\n",
    "    pathTestPython=os.path.join(path[i],'python.exe')\n",
    "    if os.path.exists(pathTestPython):\n",
    "        pathPython=pathTestPython\n",
    "pathPython=pathPython.replace('\\\\','/')\n",
    "print(pathPython)"
   ]
  },
  {
   "cell_type": "code",
   "execution_count": 5,
   "metadata": {},
   "outputs": [
    {
     "name": "stdout",
     "output_type": "stream",
     "text": [
      "C:\\Users\\sirve\\OneDrive\\My Documents\\My Book\\Code\\Chapter 014\n"
     ]
    }
   ],
   "source": [
    "holddir=os.getcwd()\n",
    "print(holddir)"
   ]
  },
  {
   "cell_type": "markdown",
   "metadata": {},
   "source": [
    "![Processor](../../images/Processor.JPG)"
   ]
  },
  {
   "cell_type": "code",
   "execution_count": 6,
   "metadata": {},
   "outputs": [],
   "source": [
    "def run_command(command, wait=True):\n",
    "\n",
    "    try:\n",
    "        if (wait):\n",
    "\n",
    "            p = subprocess.Popen(\n",
    "                [command]\n",
    "                , stdout = subprocess.PIPE\n",
    "                , shell = True)\n",
    "            p.wait()\n",
    "        else:\n",
    "            p = subprocess.Popen(\n",
    "                [command], \n",
    "                shell = True, \n",
    "                stdin = None, stdout = None, stderr = None, close_fds = True)\n",
    "\n",
    "        (result, error) = p.communicate()\n",
    "        \n",
    "    except subprocess.CalledProcessError as e:\n",
    "        sys.stderr.write(\n",
    "            \"common::run_command() : [ERROR]: output = %s, error code = %s\\n\" \n",
    "            % (e.output, e.returncode))\n",
    "\n",
    "    return result "
   ]
  },
  {
   "cell_type": "markdown",
   "metadata": {},
   "source": [
    "![Runner](../../images/Runner.JPG)"
   ]
  },
  {
   "cell_type": "code",
   "execution_count": 7,
   "metadata": {},
   "outputs": [
    {
     "name": "stdout",
     "output_type": "stream",
     "text": [
      "C:/Users/sirve/OneDrive/My Documents/My Book/Code/Chapter 014/000-RIF/100-Functional-Layer/200-Assess\n"
     ]
    }
   ],
   "source": [
    "pathRealRIFname=os.path.realpath(pathRIFname)\n",
    "pathRealRIFname=pathRealRIFname.replace('\\\\','/')\n",
    "print(pathRealRIFname)"
   ]
  },
  {
   "cell_type": "code",
   "execution_count": 8,
   "metadata": {},
   "outputs": [
    {
     "name": "stdout",
     "output_type": "stream",
     "text": [
      "14-01-Assess-Healthcare-01.py \n",
      "\n",
      "###################\n",
      "\n",
      "b''\n",
      "###################\n",
      "\n"
     ]
    }
   ],
   "source": [
    "if not os.path.exists(pathRealRIFname):\n",
    "    print(' Please run the 14-01-Setup program first to setup your examples')\n",
    "else:\n",
    "    os.chdir(pathRealRIFname)\n",
    "    for root, dirs, files in os.walk(pathRealRIFname, topdown=True):\n",
    "        for name in files:\n",
    "            fullfilename=os.path.join(root, name)\n",
    "            fullfilename=fullfilename.replace('\\\\','/')\n",
    "            filename, file_extension = os.path.splitext(name)\n",
    "            if file_extension.lower()=='.py':\n",
    "                #print(filename)\n",
    "                commandstr=name\n",
    "                print(commandstr,'\\n')\n",
    "                res = run_command(commandstr)\n",
    "                time.sleep(0.5)\n",
    "                print('###################\\n')\n",
    "                print(res)\n",
    "                print('###################\\n')"
   ]
  },
  {
   "cell_type": "code",
   "execution_count": 9,
   "metadata": {},
   "outputs": [
    {
     "name": "stdout",
     "output_type": "stream",
     "text": [
      "C:\\Users\\sirve\\OneDrive\\My Documents\\My Book\\Code\\Chapter 014\n"
     ]
    }
   ],
   "source": [
    "os.chdir(holddir)\n",
    "print(os.getcwd())"
   ]
  },
  {
   "cell_type": "markdown",
   "metadata": {},
   "source": [
    "# Run Time"
   ]
  },
  {
   "cell_type": "code",
   "execution_count": 10,
   "metadata": {},
   "outputs": [
    {
     "name": "stdout",
     "output_type": "stream",
     "text": [
      "Start: 2019-05-01 22:17:30\n",
      "Stop:  2019-05-01 22:18:47\n",
      "Time:  0:01:17.185160\n"
     ]
    }
   ],
   "source": [
    "nowStop = datetime.datetime.now()\n",
    "runTime=nowStop-nowStart\n",
    "print('Start:', nowStart.strftime('%Y-%m-%d %H:%M:%S'))\n",
    "print('Stop: ', nowStop.strftime('%Y-%m-%d %H:%M:%S'))\n",
    "print('Time: ', runTime)"
   ]
  },
  {
   "cell_type": "code",
   "execution_count": null,
   "metadata": {},
   "outputs": [],
   "source": []
  }
 ],
 "metadata": {
  "kernelspec": {
   "display_name": "Python 3",
   "language": "python",
   "name": "python3"
  },
  "language_info": {
   "codemirror_mode": {
    "name": "ipython",
    "version": 3
   },
   "file_extension": ".py",
   "mimetype": "text/x-python",
   "name": "python",
   "nbconvert_exporter": "python",
   "pygments_lexer": "ipython3",
   "version": "3.7.1"
  }
 },
 "nbformat": 4,
 "nbformat_minor": 2
}
