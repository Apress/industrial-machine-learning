{
 "cells": [
  {
   "cell_type": "markdown",
   "metadata": {},
   "source": [
    "## Apress - Industrialized Machine Learning Examples\n",
    "\n",
    "Andreas Francois Vermeulen\n",
    "2019\n",
    "\n",
    "### This is an example add-on to a book and needs to be accepted as part of that copyright."
   ]
  },
  {
   "cell_type": "markdown",
   "metadata": {},
   "source": [
    "# Chapter-014-12-Car-Wash-Sim-01"
   ]
  },
  {
   "cell_type": "markdown",
   "metadata": {},
   "source": [
    "![Car Wash](../../images/carwash.png)"
   ]
  },
  {
   "cell_type": "code",
   "execution_count": 1,
   "metadata": {},
   "outputs": [
    {
     "data": {
      "application/javascript": [
       "IPython.OutputArea.auto_scroll_threshold = 9999;"
      ],
      "text/plain": [
       "<IPython.core.display.Javascript object>"
      ]
     },
     "metadata": {},
     "output_type": "display_data"
    }
   ],
   "source": [
    "%%javascript\n",
    "IPython.OutputArea.auto_scroll_threshold = 9999;"
   ]
  },
  {
   "cell_type": "code",
   "execution_count": 2,
   "metadata": {},
   "outputs": [],
   "source": [
    "import random\n",
    "import simpy\n",
    "\n",
    "RANDOM_SEED = 1968\n",
    "SIM_TIME = 150"
   ]
  },
  {
   "cell_type": "code",
   "execution_count": 3,
   "metadata": {},
   "outputs": [],
   "source": [
    "def CarClient(name, env, out_pipe):\n",
    "    \"\"\"A process which randomly generates cars.\"\"\"\n",
    "    while True:\n",
    "        yield env.timeout(random.randint(5, 7))\n",
    "        msg = (env.now, '%s wash at %d' % (name, env.now))\n",
    "        out_pipe.put(msg)"
   ]
  },
  {
   "cell_type": "code",
   "execution_count": 4,
   "metadata": {},
   "outputs": [],
   "source": [
    "class WashBayLane(object):\n",
    "    def __init__(self, env, capacity=simpy.core.Infinity):\n",
    "        self.env = env\n",
    "        self.capacity = capacity\n",
    "        self.pipes = []\n",
    "\n",
    "    def put(self, value):\n",
    "        if not self.pipes:\n",
    "            raise RuntimeError('There are no output lanes.')\n",
    "        events = [store.put(value) for store in self.pipes]\n",
    "        return self.env.all_of(events)  # Condition event for all \"events\"\n",
    "\n",
    "    def get_output_conn(self):\n",
    "        pipe = simpy.Store(self.env, capacity=self.capacity)\n",
    "        self.pipes.append(pipe)\n",
    "        return pipe"
   ]
  },
  {
   "cell_type": "code",
   "execution_count": 5,
   "metadata": {},
   "outputs": [],
   "source": [
    "def CarWash(name, env, in_pipe):\n",
    "    \"\"\"A process wash cars.\"\"\"\n",
    "    while True:\n",
    "        msg = yield in_pipe.get()\n",
    "\n",
    "        if msg[0] < env.now:\n",
    "            print('Car not clean: at time %d: %s received car: %s' %\n",
    "                  (env.now, name, msg[1]))\n",
    "\n",
    "        else:\n",
    "            print('at time %d: %s car wash done: %s.' %\n",
    "                  (env.now, name, msg[1]))\n",
    "\n",
    "        yield env.timeout(random.randint(2, 7))"
   ]
  },
  {
   "cell_type": "markdown",
   "metadata": {},
   "source": [
    "## Current Business"
   ]
  },
  {
   "cell_type": "code",
   "execution_count": 6,
   "metadata": {},
   "outputs": [
    {
     "name": "stdout",
     "output_type": "stream",
     "text": [
      "\n",
      "Car Wash Simulation\n",
      "\n",
      "at time 5: Washer B car wash done: Car Client B wash at 5.\n",
      "at time 6: Washer A car wash done: Car Client A wash at 6.\n",
      "at time 11: Washer B car wash done: Car Client B wash at 11.\n",
      "at time 13: Washer A car wash done: Car Client A wash at 13.\n",
      "at time 18: Washer B car wash done: Car Client B wash at 18.\n",
      "Car not clean: at time 19: Washer A received car: Car Client A wash at 18\n",
      "at time 23: Washer A car wash done: Car Client A wash at 23.\n",
      "at time 23: Washer B car wash done: Car Client B wash at 23.\n",
      "at time 28: Washer A car wash done: Car Client A wash at 28.\n",
      "Car not clean: at time 29: Washer B received car: Car Client B wash at 28\n",
      "at time 34: Washer A car wash done: Car Client A wash at 34.\n",
      "Car not clean: at time 36: Washer B received car: Car Client B wash at 35\n",
      "Car not clean: at time 40: Washer A received car: Car Client A wash at 39\n",
      "at time 40: Washer B car wash done: Car Client B wash at 40.\n",
      "Car not clean: at time 46: Washer A received car: Car Client A wash at 45\n",
      "at time 47: Washer B car wash done: Car Client B wash at 47.\n",
      "at time 52: Washer B car wash done: Car Client B wash at 52.\n",
      "Car not clean: at time 53: Washer A received car: Car Client A wash at 51\n",
      "at time 58: Washer A car wash done: Car Client A wash at 58.\n",
      "at time 59: Washer B car wash done: Car Client B wash at 59.\n",
      "at time 65: Washer A car wash done: Car Client A wash at 65.\n",
      "at time 65: Washer B car wash done: Car Client B wash at 65.\n",
      "at time 71: Washer B car wash done: Car Client B wash at 71.\n",
      "at time 72: Washer A car wash done: Car Client A wash at 72.\n",
      "Car not clean: at time 78: Washer B received car: Car Client B wash at 76\n",
      "at time 79: Washer A car wash done: Car Client A wash at 79.\n",
      "Car not clean: at time 84: Washer B received car: Car Client B wash at 82\n",
      "at time 85: Washer A car wash done: Car Client A wash at 85.\n",
      "Car not clean: at time 89: Washer B received car: Car Client B wash at 88\n",
      "at time 91: Washer A car wash done: Car Client A wash at 91.\n",
      "at time 95: Washer B car wash done: Car Client B wash at 95.\n",
      "Car not clean: at time 98: Washer A received car: Car Client A wash at 97\n",
      "at time 101: Washer B car wash done: Car Client B wash at 101.\n",
      "at time 104: Washer A car wash done: Car Client A wash at 104.\n",
      "at time 107: Washer B car wash done: Car Client B wash at 107.\n",
      "Car not clean: at time 111: Washer A received car: Car Client A wash at 110\n",
      "at time 113: Washer B car wash done: Car Client B wash at 113.\n",
      "Car not clean: at time 116: Washer A received car: Car Client A wash at 115\n",
      "at time 119: Washer B car wash done: Car Client B wash at 119.\n",
      "Car not clean: at time 123: Washer A received car: Car Client A wash at 122\n",
      "at time 125: Washer B car wash done: Car Client B wash at 125.\n",
      "Car not clean: at time 129: Washer A received car: Car Client A wash at 127\n",
      "at time 132: Washer B car wash done: Car Client B wash at 132.\n",
      "Car not clean: at time 136: Washer A received car: Car Client A wash at 134\n",
      "at time 138: Washer B car wash done: Car Client B wash at 138.\n",
      "Car not clean: at time 143: Washer A received car: Car Client A wash at 139\n",
      "at time 144: Washer B car wash done: Car Client B wash at 144.\n",
      "Car not clean: at time 149: Washer A received car: Car Client A wash at 144\n"
     ]
    }
   ],
   "source": [
    "random.seed(RANDOM_SEED)\n",
    "env = simpy.Environment()\n",
    "WashBayA = WashBayLane(env)\n",
    "WashBayB = WashBayLane(env)\n",
    "\n",
    "env.process(CarClient('Car Client A', env, WashBayA))\n",
    "env.process(CarClient('Car Client B', env, WashBayB))\n",
    "\n",
    "env.process(CarWash('Washer A', env, WashBayA.get_output_conn()))\n",
    "env.process(CarWash('Washer B', env, WashBayB.get_output_conn()))\n",
    "\n",
    "print('\\nCar Wash Simulation\\n')\n",
    "env.run(until=SIM_TIME)"
   ]
  },
  {
   "cell_type": "markdown",
   "metadata": {},
   "source": [
    "## Larger Business"
   ]
  },
  {
   "cell_type": "code",
   "execution_count": 7,
   "metadata": {},
   "outputs": [
    {
     "name": "stdout",
     "output_type": "stream",
     "text": [
      "\n",
      "Car Wash Simulation - Bigger\n",
      "\n",
      "at time 5: Washer B car wash done: Car Client B wash at 5.\n",
      "at time 6: Washer A car wash done: Car Client A wash at 6.\n",
      "at time 6: Washer C car wash done: Car Client C wash at 6.\n",
      "Car not clean: at time 11: Washer B received car: Car Client B wash at 10\n",
      "at time 13: Washer A car wash done: Car Client A wash at 13.\n",
      "at time 13: Washer C car wash done: Car Client C wash at 13.\n",
      "at time 17: Washer B car wash done: Car Client B wash at 17.\n",
      "at time 18: Washer A car wash done: Car Client A wash at 18.\n",
      "at time 18: Washer C car wash done: Car Client C wash at 18.\n",
      "at time 22: Washer B car wash done: Car Client B wash at 22.\n",
      "at time 25: Washer A car wash done: Car Client A wash at 25.\n",
      "at time 25: Washer C car wash done: Car Client C wash at 25.\n",
      "at time 29: Washer B car wash done: Car Client B wash at 29.\n",
      "at time 30: Washer C car wash done: Car Client C wash at 30.\n",
      "at time 32: Washer A car wash done: Car Client A wash at 32.\n",
      "at time 35: Washer C car wash done: Car Client C wash at 35.\n",
      "at time 36: Washer B car wash done: Car Client B wash at 36.\n",
      "at time 39: Washer A car wash done: Car Client A wash at 39.\n",
      "Car not clean: at time 42: Washer C received car: Car Client C wash at 41\n",
      "at time 43: Washer B car wash done: Car Client B wash at 43.\n",
      "Car not clean: at time 45: Washer A received car: Car Client A wash at 44\n",
      "at time 47: Washer C car wash done: Car Client C wash at 47.\n",
      "at time 49: Washer B car wash done: Car Client B wash at 49.\n",
      "at time 50: Washer A car wash done: Car Client A wash at 50.\n",
      "at time 53: Washer C car wash done: Car Client C wash at 53.\n",
      "at time 55: Washer A car wash done: Car Client A wash at 55.\n",
      "at time 56: Washer B car wash done: Car Client B wash at 56.\n",
      "at time 60: Washer C car wash done: Car Client C wash at 60.\n",
      "at time 61: Washer A car wash done: Car Client A wash at 61.\n",
      "at time 62: Washer B car wash done: Car Client B wash at 62.\n",
      "at time 66: Washer A car wash done: Car Client A wash at 66.\n",
      "Car not clean: at time 67: Washer C received car: Car Client C wash at 65\n",
      "at time 69: Washer B car wash done: Car Client B wash at 69.\n",
      "Car not clean: at time 72: Washer C received car: Car Client C wash at 70\n",
      "at time 73: Washer A car wash done: Car Client A wash at 73.\n",
      "at time 75: Washer B car wash done: Car Client B wash at 75.\n",
      "at time 77: Washer C car wash done: Car Client C wash at 77.\n",
      "at time 80: Washer A car wash done: Car Client A wash at 80.\n",
      "at time 81: Washer B car wash done: Car Client B wash at 81.\n",
      "at time 84: Washer C car wash done: Car Client C wash at 84.\n",
      "at time 87: Washer A car wash done: Car Client A wash at 87.\n",
      "at time 88: Washer B car wash done: Car Client B wash at 88.\n",
      "at time 91: Washer C car wash done: Car Client C wash at 91.\n",
      "Car not clean: at time 94: Washer A received car: Car Client A wash at 92\n",
      "at time 95: Washer B car wash done: Car Client B wash at 95.\n",
      "at time 96: Washer C car wash done: Car Client C wash at 96.\n",
      "at time 99: Washer A car wash done: Car Client A wash at 99.\n",
      "at time 101: Washer B car wash done: Car Client B wash at 101.\n",
      "at time 103: Washer C car wash done: Car Client C wash at 103.\n",
      "Car not clean: at time 106: Washer A received car: Car Client A wash at 105\n",
      "at time 108: Washer B car wash done: Car Client B wash at 108.\n",
      "at time 110: Washer C car wash done: Car Client C wash at 110.\n",
      "at time 111: Washer A car wash done: Car Client A wash at 111.\n",
      "at time 114: Washer B car wash done: Car Client B wash at 114.\n",
      "Car not clean: at time 117: Washer C received car: Car Client C wash at 116\n",
      "at time 118: Washer A car wash done: Car Client A wash at 118.\n",
      "at time 121: Washer B car wash done: Car Client B wash at 121.\n",
      "Car not clean: at time 124: Washer C received car: Car Client C wash at 122\n",
      "at time 125: Washer A car wash done: Car Client A wash at 125.\n",
      "at time 128: Washer B car wash done: Car Client B wash at 128.\n",
      "at time 129: Washer C car wash done: Car Client C wash at 129.\n",
      "at time 132: Washer A car wash done: Car Client A wash at 132.\n",
      "at time 134: Washer B car wash done: Car Client B wash at 134.\n",
      "Car not clean: at time 135: Washer C received car: Car Client C wash at 134\n",
      "at time 139: Washer A car wash done: Car Client A wash at 139.\n",
      "at time 140: Washer C car wash done: Car Client C wash at 140.\n",
      "at time 140: Washer B car wash done: Car Client B wash at 140.\n",
      "at time 145: Washer A car wash done: Car Client A wash at 145.\n",
      "at time 145: Washer C car wash done: Car Client C wash at 145.\n",
      "at time 147: Washer B car wash done: Car Client B wash at 147.\n"
     ]
    }
   ],
   "source": [
    "random.seed(RANDOM_SEED)\n",
    "env2 = simpy.Environment()\n",
    "\n",
    "WashBayA = WashBayLane(env2)\n",
    "WashBayB = WashBayLane(env2)\n",
    "WashBayC = WashBayLane(env2)\n",
    "\n",
    "env2.process(CarClient('Car Client A', env2, WashBayA))\n",
    "env2.process(CarClient('Car Client B', env2, WashBayB))\n",
    "env2.process(CarClient('Car Client C', env2, WashBayC))\n",
    "\n",
    "env2.process(CarWash('Washer A', env2, WashBayA.get_output_conn()))\n",
    "env2.process(CarWash('Washer B', env2, WashBayB.get_output_conn()))\n",
    "env2.process(CarWash('Washer C', env2, WashBayC.get_output_conn()))\n",
    "\n",
    "print('\\nCar Wash Simulation - Bigger\\n')\n",
    "env2.run(until=SIM_TIME)"
   ]
  },
  {
   "cell_type": "markdown",
   "metadata": {},
   "source": [
    "## Done"
   ]
  },
  {
   "cell_type": "code",
   "execution_count": 8,
   "metadata": {},
   "outputs": [
    {
     "name": "stdout",
     "output_type": "stream",
     "text": [
      "('Done!', '2019-05-03 16:34:55.275000')\n"
     ]
    }
   ],
   "source": [
    "import datetime\n",
    "now = datetime.datetime.now()\n",
    "print('Done!',str(now))"
   ]
  }
 ],
 "metadata": {
  "kernelspec": {
   "display_name": "Python 3",
   "language": "python",
   "name": "python3"
  },
  "language_info": {
   "codemirror_mode": {
    "name": "ipython",
    "version": 2
   },
   "file_extension": ".py",
   "mimetype": "text/x-python",
   "name": "python",
   "nbconvert_exporter": "python",
   "pygments_lexer": "ipython2",
   "version": "2.7.16"
  }
 },
 "nbformat": 4,
 "nbformat_minor": 2
}
