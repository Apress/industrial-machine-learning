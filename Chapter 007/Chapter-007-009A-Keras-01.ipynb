{
 "cells": [
  {
   "cell_type": "markdown",
   "metadata": {},
   "source": [
    "## Apress - Industrialized Machine Learning Examples\n",
    "\n",
    "Andreas Francois Vermeulen\n",
    "2019\n",
    "\n",
    "### This is an example add-on to a book and needs to be accepted as part of that copyright."
   ]
  },
  {
   "cell_type": "markdown",
   "metadata": {},
   "source": [
    "# Chapter-007-009A-Keras-01"
   ]
  },
  {
   "cell_type": "code",
   "execution_count": 1,
   "metadata": {},
   "outputs": [],
   "source": [
    "from tensorflow.keras.models import Sequential\n",
    "from tensorflow.keras.layers import Dense\n",
    "import numpy as np\n",
    "import os\n",
    "# fix random seed for reproducibility\n",
    "np.random.seed(7)"
   ]
  },
  {
   "cell_type": "code",
   "execution_count": 2,
   "metadata": {},
   "outputs": [
    {
     "name": "stdout",
     "output_type": "stream",
     "text": [
      "C:\\Users\\AndreVermeulen\\Documents\\My Book\\apress\\Industrialized Machine Learning\\book\\IML\\data\n",
      "C:\\Users\\AndreVermeulen\\Documents\\My Book\\apress\\Industrialized Machine Learning\\book\\IML\\data\\Sickness13.csv\n"
     ]
    }
   ],
   "source": [
    "# load Sickness version 13 dataset\n",
    "data_dir = os.path.abspath(os.path.join(\"..\",\"..\", \"data\"))\n",
    "print(data_dir)\n",
    "data_file = os.path.join(data_dir, \"Sickness13.csv\")\n",
    "print(data_file)"
   ]
  },
  {
   "cell_type": "code",
   "execution_count": 3,
   "metadata": {},
   "outputs": [
    {
     "name": "stdout",
     "output_type": "stream",
     "text": [
      "Raw Data Set: (768, 9)\n",
      "Data Set: (768, 9)\n"
     ]
    }
   ],
   "source": [
    "rawdata = np.loadtxt(data_file, delimiter=\",\")\n",
    "print('Raw Data Set:', rawdata.shape)\n",
    "dataset = rawdata[:]\n",
    "print('Data Set:', dataset.shape)"
   ]
  },
  {
   "cell_type": "code",
   "execution_count": 4,
   "metadata": {},
   "outputs": [
    {
     "name": "stdout",
     "output_type": "stream",
     "text": [
      "X: (768, 8)\n",
      "Y: (768,)\n"
     ]
    }
   ],
   "source": [
    "# split into input (X) and output (Y) variables\n",
    "X = np.array(dataset[:,0:8], dtype=np.int64)\n",
    "Y = np.array(dataset[:,8], dtype=np.int64)\n",
    "print('X:', X.shape)\n",
    "print('Y:', Y.shape)"
   ]
  },
  {
   "cell_type": "code",
   "execution_count": 5,
   "metadata": {},
   "outputs": [
    {
     "name": "stdout",
     "output_type": "stream",
     "text": [
      "WARNING:tensorflow:From C:\\Users\\AndreVermeulen\\AppData\\Local\\conda\\conda\\envs\\py36\\lib\\site-packages\\tensorflow\\python\\ops\\resource_variable_ops.py:435: colocate_with (from tensorflow.python.framework.ops) is deprecated and will be removed in a future version.\n",
      "Instructions for updating:\n",
      "Colocations handled automatically by placer.\n"
     ]
    }
   ],
   "source": [
    "# Create model\n",
    "model = Sequential()\n",
    "\n",
    "model.add(Dense(8, \n",
    "                input_dim=8, \n",
    "                activation='relu'\n",
    "               )\n",
    "         )\n",
    "\n",
    "model.add(Dense(8, \n",
    "                activation='sigmoid'\n",
    "               )\n",
    "         )\n",
    "\n",
    "model.add(Dense(4, \n",
    "                activation='relu'\n",
    "               )\n",
    "         )\n",
    "\n",
    "model.add(Dense(1, \n",
    "                activation='sigmoid'\n",
    "               )\n",
    "         )\n"
   ]
  },
  {
   "cell_type": "code",
   "execution_count": 6,
   "metadata": {},
   "outputs": [],
   "source": [
    "# Compile model\n",
    "model.compile(loss='binary_crossentropy', \n",
    "              optimizer='adam', \n",
    "              metrics=['accuracy']\n",
    "             )"
   ]
  },
  {
   "cell_type": "code",
   "execution_count": 7,
   "metadata": {},
   "outputs": [
    {
     "name": "stdout",
     "output_type": "stream",
     "text": [
      "WARNING:tensorflow:From C:\\Users\\AndreVermeulen\\AppData\\Local\\conda\\conda\\envs\\py36\\lib\\site-packages\\tensorflow\\python\\ops\\math_ops.py:3066: to_int32 (from tensorflow.python.ops.math_ops) is deprecated and will be removed in a future version.\n",
      "Instructions for updating:\n",
      "Use tf.cast instead.\n",
      "Epoch 1/50\n",
      "100/100 [==============================] - 2s 23ms/step - loss: 0.6375 - acc: 0.6511\n",
      "Epoch 2/50\n",
      "100/100 [==============================] - 0s 4ms/step - loss: 0.6239 - acc: 0.6510\n",
      "Epoch 3/50\n",
      "100/100 [==============================] - 0s 4ms/step - loss: 0.6145 - acc: 0.6723\n",
      "Epoch 4/50\n",
      "100/100 [==============================] - 0s 4ms/step - loss: 0.6032 - acc: 0.6785\n",
      "Epoch 5/50\n",
      "100/100 [==============================] - 0s 4ms/step - loss: 0.5882 - acc: 0.6876\n",
      "Epoch 6/50\n",
      "100/100 [==============================] - 0s 4ms/step - loss: 0.5741 - acc: 0.7108\n",
      "Epoch 7/50\n",
      "100/100 [==============================] - 0s 4ms/step - loss: 0.5405 - acc: 0.7184\n",
      "Epoch 8/50\n",
      "100/100 [==============================] - 0s 4ms/step - loss: 0.5056 - acc: 0.7580\n",
      "Epoch 9/50\n",
      "100/100 [==============================] - 0s 4ms/step - loss: 0.4864 - acc: 0.7664\n",
      "Epoch 10/50\n",
      "100/100 [==============================] - 0s 4ms/step - loss: 0.4701 - acc: 0.7662\n",
      "Epoch 11/50\n",
      "100/100 [==============================] - 0s 4ms/step - loss: 0.4565 - acc: 0.7677\n",
      "Epoch 12/50\n",
      "100/100 [==============================] - 0s 4ms/step - loss: 0.4464 - acc: 0.7719\n",
      "Epoch 13/50\n",
      "100/100 [==============================] - 0s 4ms/step - loss: 0.4399 - acc: 0.7727\n",
      "Epoch 14/50\n",
      "100/100 [==============================] - 0s 4ms/step - loss: 0.4345 - acc: 0.7792\n",
      "Epoch 15/50\n",
      "100/100 [==============================] - 0s 4ms/step - loss: 0.4320 - acc: 0.7816\n",
      "Epoch 16/50\n",
      "100/100 [==============================] - 0s 4ms/step - loss: 0.4303 - acc: 0.7830\n",
      "Epoch 17/50\n",
      "100/100 [==============================] - 0s 4ms/step - loss: 0.4288 - acc: 0.7849\n",
      "Epoch 18/50\n",
      "100/100 [==============================] - 0s 4ms/step - loss: 0.4273 - acc: 0.7855\n",
      "Epoch 19/50\n",
      "100/100 [==============================] - 0s 4ms/step - loss: 0.4263 - acc: 0.7858\n",
      "Epoch 20/50\n",
      "100/100 [==============================] - 0s 5ms/step - loss: 0.4256 - acc: 0.7870\n",
      "Epoch 21/50\n",
      "100/100 [==============================] - 0s 4ms/step - loss: 0.4249 - acc: 0.7886\n",
      "Epoch 22/50\n",
      "100/100 [==============================] - 0s 4ms/step - loss: 0.4244 - acc: 0.7891\n",
      "Epoch 23/50\n",
      "100/100 [==============================] - 0s 4ms/step - loss: 0.4237 - acc: 0.7899\n",
      "Epoch 24/50\n",
      "100/100 [==============================] - 1s 6ms/step - loss: 0.4229 - acc: 0.7910\n",
      "Epoch 25/50\n",
      "100/100 [==============================] - 0s 4ms/step - loss: 0.4210 - acc: 0.7920\n",
      "Epoch 26/50\n",
      "100/100 [==============================] - 0s 4ms/step - loss: 0.4199 - acc: 0.7928\n",
      "Epoch 27/50\n",
      "100/100 [==============================] - 0s 4ms/step - loss: 0.4192 - acc: 0.7930\n",
      "Epoch 28/50\n",
      "100/100 [==============================] - 0s 4ms/step - loss: 0.4183 - acc: 0.7922\n",
      "Epoch 29/50\n",
      "100/100 [==============================] - 0s 4ms/step - loss: 0.4176 - acc: 0.7916\n",
      "Epoch 30/50\n",
      "100/100 [==============================] - 0s 4ms/step - loss: 0.4167 - acc: 0.7899\n",
      "Epoch 31/50\n",
      "100/100 [==============================] - 0s 4ms/step - loss: 0.4159 - acc: 0.7922\n",
      "Epoch 32/50\n",
      "100/100 [==============================] - 0s 4ms/step - loss: 0.4151 - acc: 0.7938\n",
      "Epoch 33/50\n",
      "100/100 [==============================] - 0s 4ms/step - loss: 0.4143 - acc: 0.7947\n",
      "Epoch 34/50\n",
      "100/100 [==============================] - 0s 4ms/step - loss: 0.4134 - acc: 0.7956\n",
      "Epoch 35/50\n",
      "100/100 [==============================] - 0s 4ms/step - loss: 0.4126 - acc: 0.7973\n",
      "Epoch 36/50\n",
      "100/100 [==============================] - 0s 4ms/step - loss: 0.4115 - acc: 0.7997\n",
      "Epoch 37/50\n",
      "100/100 [==============================] - 0s 4ms/step - loss: 0.4107 - acc: 0.8016\n",
      "Epoch 38/50\n",
      "100/100 [==============================] - 0s 4ms/step - loss: 0.4101 - acc: 0.8020\n",
      "Epoch 39/50\n",
      "100/100 [==============================] - 0s 4ms/step - loss: 0.4094 - acc: 0.8018\n",
      "Epoch 40/50\n",
      "100/100 [==============================] - 1s 5ms/step - loss: 0.4086 - acc: 0.8014\n",
      "Epoch 41/50\n",
      "100/100 [==============================] - 0s 4ms/step - loss: 0.4080 - acc: 0.8012\n",
      "Epoch 42/50\n",
      "100/100 [==============================] - 0s 4ms/step - loss: 0.4074 - acc: 0.8013\n",
      "Epoch 43/50\n",
      "100/100 [==============================] - 0s 5ms/step - loss: 0.4068 - acc: 0.8013\n",
      "Epoch 44/50\n",
      "100/100 [==============================] - 0s 4ms/step - loss: 0.4062 - acc: 0.8019\n",
      "Epoch 45/50\n",
      "100/100 [==============================] - 0s 4ms/step - loss: 0.4056 - acc: 0.8025\n",
      "Epoch 46/50\n",
      "100/100 [==============================] - 0s 4ms/step - loss: 0.4052 - acc: 0.8030\n",
      "Epoch 47/50\n",
      "100/100 [==============================] - 0s 4ms/step - loss: 0.4047 - acc: 0.8027\n",
      "Epoch 48/50\n",
      "100/100 [==============================] - 0s 4ms/step - loss: 0.4041 - acc: 0.8030\n",
      "Epoch 49/50\n",
      "100/100 [==============================] - 1s 5ms/step - loss: 0.4038 - acc: 0.8024\n",
      "Epoch 50/50\n",
      "100/100 [==============================] - 0s 5ms/step - loss: 0.4034 - acc: 0.8027\n"
     ]
    },
    {
     "data": {
      "text/plain": [
       "<tensorflow.python.keras.callbacks.History at 0x1ed25dc4be0>"
      ]
     },
     "execution_count": 7,
     "metadata": {},
     "output_type": "execute_result"
    }
   ],
   "source": [
    "# Fit the model\n",
    "model.fit(X, \n",
    "          Y, \n",
    "          epochs=50, \n",
    "          batch_size=32,\n",
    "          steps_per_epoch=100, \n",
    "          shuffle=True,\n",
    "          workers=8,\n",
    "          use_multiprocessing=True, \n",
    "          verbose=True\n",
    "         )"
   ]
  },
  {
   "cell_type": "code",
   "execution_count": 8,
   "metadata": {},
   "outputs": [
    {
     "name": "stdout",
     "output_type": "stream",
     "text": [
      "1000/1000 [==============================] - 2s 2ms/step - loss: 0.4032 - acc: 0.8060\n",
      "\n",
      "acc: 80.59896%\n"
     ]
    }
   ],
   "source": [
    "# evaluate the model\n",
    "scores = model.evaluate(X, \n",
    "                        Y, \n",
    "                        workers=32, \n",
    "                        use_multiprocessing=True, \n",
    "                        steps=1000, \n",
    "                        verbose=1\n",
    "                       )\n",
    "\n",
    "print(\"\\n%s: %.5f%%\" % (model.metrics_names[1], scores[1]*100))"
   ]
  },
  {
   "cell_type": "code",
   "execution_count": 9,
   "metadata": {},
   "outputs": [],
   "source": [
    "# Calculate predictions\n",
    "predictions = model.predict(X)\n",
    "\n",
    "#print(predictions.shape)\n",
    "rounded = [int(round(x[0],0)) for x in predictions]"
   ]
  },
  {
   "cell_type": "code",
   "execution_count": 12,
   "metadata": {},
   "outputs": [
    {
     "name": "stdout",
     "output_type": "stream",
     "text": [
      "   0 -> 0.7671 =>  1 =>  1 # Yes\n",
      "   1 -> 0.0586 =>  0 =>  0 # Yes\n",
      "   2 -> 0.7941 =>  1 =>  1 # Yes\n",
      "   3 -> 0.0024 =>  0 =>  0 # Yes\n",
      "   4 -> 0.9336 =>  1 =>  1 # Yes\n",
      "   5 -> 0.2598 =>  0 =>  0 # Yes\n",
      "   6 -> 0.2282 =>  0 =>  1 # No\n",
      "   7 -> 0.4819 =>  0 =>  0 # Yes\n",
      "   8 -> 0.8280 =>  1 =>  1 # Yes\n",
      "   9 -> 0.1339 =>  0 =>  1 # No\n"
     ]
    }
   ],
   "source": [
    "j=predictions.shape[0]\n",
    "j=10\n",
    "\n",
    "for i in range(j):\n",
    "    p = rounded[i]\n",
    "    r = Y[i]\n",
    "    if p == r:\n",
    "        ch='Yes'\n",
    "    else:\n",
    "        ch='No'\n",
    "        \n",
    "    print(\"%4.0f -> %2.4f => %2.0f => %2.0f # %s\" % (i, predictions[i], p, r, ch))"
   ]
  },
  {
   "cell_type": "markdown",
   "metadata": {},
   "source": [
    "## Done"
   ]
  },
  {
   "cell_type": "code",
   "execution_count": 11,
   "metadata": {},
   "outputs": [
    {
     "name": "stdout",
     "output_type": "stream",
     "text": [
      "Done! 2019-04-21 14:01:27.403304\n"
     ]
    }
   ],
   "source": [
    "import datetime\n",
    "now = datetime.datetime.now()\n",
    "print('Done!',str(now))"
   ]
  }
 ],
 "metadata": {
  "kernelspec": {
   "display_name": "Python 3",
   "language": "python",
   "name": "python3"
  },
  "language_info": {
   "codemirror_mode": {
    "name": "ipython",
    "version": 3
   },
   "file_extension": ".py",
   "mimetype": "text/x-python",
   "name": "python",
   "nbconvert_exporter": "python",
   "pygments_lexer": "ipython3",
   "version": "3.6.7"
  }
 },
 "nbformat": 4,
 "nbformat_minor": 2
}
