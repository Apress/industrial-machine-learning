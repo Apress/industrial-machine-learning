{
 "cells": [
  {
   "cell_type": "markdown",
   "metadata": {},
   "source": [
    "## Apress - Industrialized Machine Learning Examples\n",
    "\n",
    "Andreas Francois Vermeulen\n",
    "2019\n",
    "\n",
    "### This is an example add-on to a book and needs to be accepted as part of that copyright."
   ]
  },
  {
   "cell_type": "markdown",
   "metadata": {},
   "source": [
    "## Chapter-006-005A-Clustering-K-Means-Optimum"
   ]
  },
  {
   "cell_type": "code",
   "execution_count": 1,
   "metadata": {},
   "outputs": [],
   "source": [
    "%matplotlib inline\n",
    "import os\n",
    "import numpy as np\n",
    "import pandas as pd\n",
    "import matplotlib.pyplot as plt\n",
    "\n",
    "from sklearn.cluster import KMeans"
   ]
  },
  {
   "cell_type": "markdown",
   "metadata": {},
   "source": [
    "# Create Results Directory"
   ]
  },
  {
   "cell_type": "code",
   "execution_count": 2,
   "metadata": {},
   "outputs": [
    {
     "name": "stdout",
     "output_type": "stream",
     "text": [
      "C:\\Users\\AndreVermeulen\\Documents\\My Book\\apress\\Industrialized Machine Learning\\book\\IML\\Results\\Chapter 06\n"
     ]
    }
   ],
   "source": [
    "imagepath = os.path.join(*[os.path.dirname(os.path.dirname(os.getcwd())),'Results','Chapter 06'])\n",
    "print(imagepath)"
   ]
  },
  {
   "cell_type": "code",
   "execution_count": 3,
   "metadata": {},
   "outputs": [],
   "source": [
    "if not os.path.exists(imagepath):\n",
    "    os.makedirs(imagepath)"
   ]
  },
  {
   "cell_type": "markdown",
   "metadata": {},
   "source": [
    "## Evaluate Data Set Alpha"
   ]
  },
  {
   "cell_type": "code",
   "execution_count": 4,
   "metadata": {},
   "outputs": [
    {
     "name": "stdout",
     "output_type": "stream",
     "text": [
      "Dataset: DataSetA.csv (99, 6)\n"
     ]
    }
   ],
   "source": [
    "A = pd.read_csv('../../Data/DataSetA.csv')\n",
    "print ('Dataset: DataSetA.csv', A.shape)"
   ]
  },
  {
   "cell_type": "code",
   "execution_count": 5,
   "metadata": {},
   "outputs": [
    {
     "name": "stdout",
     "output_type": "stream",
     "text": [
      "k:   1 cost:   135.287062\n",
      "k:   2 cost:    38.754012\n",
      "k:   3 cost:     5.857764\n",
      "k:   4 cost:     5.440400\n",
      "k:   5 cost:     5.029261\n",
      "k:   6 cost:     4.669156\n",
      "k:   7 cost:     4.508411\n",
      "k:   8 cost:     4.178042\n",
      "k:   9 cost:     4.035737\n",
      "k:  10 cost:     3.800889\n",
      "k:  11 cost:     3.642109\n",
      "k:  12 cost:     3.436335\n"
     ]
    }
   ],
   "source": [
    "resultA=[]\n",
    "for k in range (1, 13):\n",
    "    # Create a kmeans model on our data, using k clusters.  random_state force the algorithm returns the same results.\n",
    "    kmeans_model = KMeans(n_clusters=k, \n",
    "                          random_state=1968\n",
    "                         ).fit(A.iloc[:, :])\n",
    "    # These are our fitted labels for clusters -- the first cluster has label 0, and the second has label 1.\n",
    "    labels = kmeans_model.labels_\n",
    "    # Sum of distances of samples to our closest cluster center\n",
    "    interia = kmeans_model.inertia_\n",
    "    print ('k: %3d cost: %12.6f' % (k, interia))\n",
    "    resultA.append([k, interia])"
   ]
  },
  {
   "cell_type": "code",
   "execution_count": 6,
   "metadata": {},
   "outputs": [
    {
     "name": "stdout",
     "output_type": "stream",
     "text": [
      "Dataset: DataSetB.csv (99, 6)\n"
     ]
    }
   ],
   "source": [
    "B = pd.read_csv('../../Data/DataSetB.csv')\n",
    "print ('Dataset: DataSetB.csv', B.shape)"
   ]
  },
  {
   "cell_type": "code",
   "execution_count": 7,
   "metadata": {},
   "outputs": [
    {
     "name": "stdout",
     "output_type": "stream",
     "text": [
      "k:   1 cost:    18.513557\n",
      "k:   2 cost:    15.546319\n",
      "k:   3 cost:    13.546856\n",
      "k:   4 cost:    12.088985\n",
      "k:   5 cost:    11.114772\n",
      "k:   6 cost:    10.448287\n",
      "k:   7 cost:     9.604318\n",
      "k:   8 cost:     9.198039\n",
      "k:   9 cost:     8.326351\n",
      "k:  10 cost:     8.227573\n",
      "k:  11 cost:     7.639238\n",
      "k:  12 cost:     7.493673\n",
      "k:  13 cost:     7.008205\n",
      "k:  14 cost:     6.568665\n",
      "k:  15 cost:     6.362180\n",
      "k:  16 cost:     6.321841\n",
      "k:  17 cost:     5.987026\n",
      "k:  18 cost:     5.700522\n",
      "k:  19 cost:     5.434764\n",
      "k:  20 cost:     5.388848\n",
      "k:  21 cost:     5.118933\n",
      "k:  22 cost:     4.982677\n",
      "k:  23 cost:     4.906866\n",
      "k:  24 cost:     4.675512\n",
      "k:  25 cost:     4.544537\n",
      "k:  26 cost:     4.388166\n",
      "k:  27 cost:     4.229988\n",
      "k:  28 cost:     4.108109\n",
      "k:  29 cost:     3.944038\n",
      "k:  30 cost:     3.729211\n",
      "k:  31 cost:     3.588110\n",
      "k:  32 cost:     3.454048\n",
      "k:  33 cost:     3.369791\n",
      "k:  34 cost:     3.284897\n",
      "k:  35 cost:     3.128143\n",
      "k:  36 cost:     2.954512\n",
      "k:  37 cost:     2.958148\n",
      "k:  38 cost:     2.837064\n",
      "k:  39 cost:     2.623428\n",
      "k:  40 cost:     2.569659\n",
      "k:  41 cost:     2.541941\n",
      "k:  42 cost:     2.398301\n",
      "k:  43 cost:     2.341488\n",
      "k:  44 cost:     2.254822\n",
      "k:  45 cost:     2.103703\n",
      "k:  46 cost:     2.107020\n",
      "k:  47 cost:     1.960005\n",
      "k:  48 cost:     1.845987\n",
      "k:  49 cost:     1.750454\n"
     ]
    }
   ],
   "source": [
    "resultB=[]\n",
    "for k in range (1, 50):\n",
    "    # Create a kmeans model on our data, using k clusters.  random_state helps ensure that the algorithm returns the same results each time.\n",
    "    kmeans_model = KMeans(n_clusters=k, random_state=1).fit(B.iloc[:, :])\n",
    "    # These are our fitted labels for clusters -- the first cluster has label 0, and the second has label 1.\n",
    "    labels = kmeans_model.labels_\n",
    "    # Sum of distances of samples to their closest cluster center\n",
    "    interia = kmeans_model.inertia_\n",
    "    print ('k: %3d cost: %12.6f' % (k, interia))\n",
    "    resultB.append([k, interia])"
   ]
  },
  {
   "cell_type": "code",
   "execution_count": 8,
   "metadata": {},
   "outputs": [],
   "source": [
    "#print(resultA)"
   ]
  },
  {
   "cell_type": "code",
   "execution_count": 9,
   "metadata": {},
   "outputs": [],
   "source": [
    "#print(resultB)"
   ]
  },
  {
   "cell_type": "code",
   "execution_count": 10,
   "metadata": {},
   "outputs": [
    {
     "data": {
      "image/png": "[encoded data removed]",
      "text/plain": [
       "<Figure size 864x432 with 1 Axes>"
      ]
     },
     "metadata": {
      "needs_background": "light"
     },
     "output_type": "display_data"
    }
   ],
   "source": [
    "data = np.array(resultA)\n",
    "x, y = data.T\n",
    "\n",
    "fig1 = plt.figure(figsize=(12, 6))\n",
    "plt.plot(x, y, linestyle='--', marker='P', linewidth=1.0)\n",
    "\n",
    "titlestr='Data Set Alpha using the Elbow method to determine the optimal number of clusters for k-means clustering'\n",
    "plt.title(titlestr)\n",
    "plt.ylabel('Sum of squared errors')\n",
    "plt.xlabel('Number of clusters (k)')\n",
    "plt.grid()\n",
    "plt.show()"
   ]
  },
  {
   "cell_type": "code",
   "execution_count": 11,
   "metadata": {},
   "outputs": [],
   "source": [
    "imagename1 = os.path.join(*[os.path.dirname(os.path.dirname(os.getcwd())),'Results','Chapter 06','Chapter-006-Example-005A-Clustering-K-Means-Optimum-01.jpg'])\n",
    "fig1.savefig(imagename1, bbox_inches='tight')"
   ]
  },
  {
   "cell_type": "code",
   "execution_count": 12,
   "metadata": {},
   "outputs": [
    {
     "data": {
      "image/png": "[encoded data removed]",
      "text/plain": [
       "<Figure size 864x432 with 1 Axes>"
      ]
     },
     "metadata": {
      "needs_background": "light"
     },
     "output_type": "display_data"
    }
   ],
   "source": [
    "data = np.array(resultB)\n",
    "x, y = data.T\n",
    "\n",
    "fig2 = plt.figure(figsize=(12, 6))\n",
    "plt.plot(x, y, linestyle='--', marker='P', linewidth=1.0)\n",
    "\n",
    "titlestr='Data Set Beta using the Elbow method to determine the optimal number of clusters for k-means clustering'\n",
    "plt.title(titlestr)\n",
    "plt.ylabel('Sum of squared errors')\n",
    "plt.xlabel('Number of clusters (k)')\n",
    "plt.grid()\n",
    "plt.show()"
   ]
  },
  {
   "cell_type": "code",
   "execution_count": 13,
   "metadata": {},
   "outputs": [],
   "source": [
    "imagename2 = os.path.join(*[os.path.dirname(os.path.dirname(os.getcwd())),'Results','Chapter 06','Chapter-006-Example-005A-Clustering-K-Means-Optimum-02.jpg'])\n",
    "fig2.savefig(imagename2, bbox_inches='tight')"
   ]
  },
  {
   "cell_type": "markdown",
   "metadata": {},
   "source": [
    "## Done"
   ]
  },
  {
   "cell_type": "code",
   "execution_count": 14,
   "metadata": {},
   "outputs": [
    {
     "name": "stdout",
     "output_type": "stream",
     "text": [
      "Done! 2019-04-20 10:27:35.599187\n"
     ]
    }
   ],
   "source": [
    "import datetime\n",
    "now = datetime.datetime.now()\n",
    "print('Done!',str(now))"
   ]
  }
 ],
 "metadata": {
  "kernelspec": {
   "display_name": "Python 3",
   "language": "python",
   "name": "python3"
  },
  "language_info": {
   "codemirror_mode": {
    "name": "ipython",
    "version": 3
   },
   "file_extension": ".py",
   "mimetype": "text/x-python",
   "name": "python",
   "nbconvert_exporter": "python",
   "pygments_lexer": "ipython3",
   "version": "3.7.3"
  }
 },
 "nbformat": 4,
 "nbformat_minor": 2
}
