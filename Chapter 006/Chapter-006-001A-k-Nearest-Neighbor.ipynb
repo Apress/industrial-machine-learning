{
 "cells": [
  {
   "cell_type": "markdown",
   "metadata": {},
   "source": [
    "## Apress - Industrialized Machine Learning Examples\n",
    "\n",
    "Andreas Francois Vermeulen\n",
    "2019\n",
    "\n",
    "### This is an example add-on to a book and needs to be accepted as part of that copyright."
   ]
  },
  {
   "cell_type": "markdown",
   "metadata": {},
   "source": [
    "# Chapter-006-001A-k-Nearest-Neighbor"
   ]
  },
  {
   "cell_type": "code",
   "execution_count": 1,
   "metadata": {},
   "outputs": [],
   "source": [
    "from sklearn.neighbors import NearestNeighbors\n",
    "\n",
    "import matplotlib as mpl\n",
    "import matplotlib.pyplot as plt\n",
    "import numpy as np\n",
    "import pandas as pd\n",
    "import sys\n",
    "import os\n",
    "import matplotlib._color_data as mcd"
   ]
  },
  {
   "cell_type": "code",
   "execution_count": 2,
   "metadata": {},
   "outputs": [
    {
     "data": {
      "text/plain": [
       "'3.6.7 |Anaconda custom (64-bit)| (default, Dec 10 2018, 20:35:02) [MSC v.1915 64 bit (AMD64)]'"
      ]
     },
     "execution_count": 2,
     "metadata": {},
     "output_type": "execute_result"
    }
   ],
   "source": [
    "sys.version"
   ]
  },
  {
   "cell_type": "code",
   "execution_count": 3,
   "metadata": {},
   "outputs": [
    {
     "data": {
      "text/plain": [
       "'1.16.2'"
      ]
     },
     "execution_count": 3,
     "metadata": {},
     "output_type": "execute_result"
    }
   ],
   "source": [
    "np.version.version"
   ]
  },
  {
   "cell_type": "code",
   "execution_count": 4,
   "metadata": {},
   "outputs": [
    {
     "data": {
      "text/plain": [
       "'3.0.3'"
      ]
     },
     "execution_count": 4,
     "metadata": {},
     "output_type": "execute_result"
    }
   ],
   "source": [
    "mpl.__version__"
   ]
  },
  {
   "cell_type": "code",
   "execution_count": 5,
   "metadata": {},
   "outputs": [],
   "source": [
    "ncnt1=4\n",
    "ncnt2=8"
   ]
  },
  {
   "cell_type": "code",
   "execution_count": 6,
   "metadata": {},
   "outputs": [],
   "source": [
    "np.random.seed(1968)"
   ]
  },
  {
   "cell_type": "code",
   "execution_count": 7,
   "metadata": {},
   "outputs": [
    {
     "data": {
      "text/plain": [
       "array(['b', 'g', 'r', 'c', 'm', 'y', 'k', 'aqua', 'aquamarine', 'azure',\n",
       "       'beige', 'black', 'blue', 'brown', 'chartreuse', 'chocolate',\n",
       "       'coral', 'crimson', 'cyan', 'darkblue', 'darkgreen', 'fuchsia',\n",
       "       'gold', 'goldenrod', 'green', 'grey', 'indigo', 'ivory', 'khaki',\n",
       "       'lavender', 'lightblue', 'lightgreen', 'lime', 'magenta', 'maroon',\n",
       "       'navy', 'olive', 'orange', 'orangered', 'orchid', 'pink', 'plum',\n",
       "       'purple', 'red', 'salmon', 'sienna', 'silver', 'tan', 'teal',\n",
       "       'tomato', 'turquoise', 'violet', 'wheat', 'white', 'yellow',\n",
       "       'yellowgreen'], dtype='<U11')"
      ]
     },
     "execution_count": 7,
     "metadata": {},
     "output_type": "execute_result"
    }
   ],
   "source": [
    "colors1 = np.array(list(sorted({name for name in mcd.CSS4_COLORS if \"xkcd:\" + name in mcd.XKCD_COLORS}, reverse=False)))\n",
    "colors0 = np.array(['b', 'g', 'r', 'c', 'm', 'y', 'k'])\n",
    "colors=np.concatenate((colors0,colors1), axis=0)\n",
    "colors"
   ]
  },
  {
   "cell_type": "code",
   "execution_count": 8,
   "metadata": {},
   "outputs": [
    {
     "data": {
      "text/plain": [
       "100"
      ]
     },
     "execution_count": 8,
     "metadata": {},
     "output_type": "execute_result"
    }
   ],
   "source": [
    "size = int(1E2)\n",
    "size"
   ]
  },
  {
   "cell_type": "code",
   "execution_count": 9,
   "metadata": {},
   "outputs": [
    {
     "data": {
      "text/plain": [
       "5"
      ]
     },
     "execution_count": 9,
     "metadata": {},
     "output_type": "execute_result"
    }
   ],
   "source": [
    "step=int(size/20)\n",
    "if step < 1:\n",
    "    step = 1\n",
    "step"
   ]
  },
  {
   "cell_type": "code",
   "execution_count": 10,
   "metadata": {},
   "outputs": [
    {
     "data": {
      "text/plain": [
       "array([-100,  -95,  -90,  -85,  -80,  -75,  -70,  -65,  -60,  -55,  -50,\n",
       "        -45,  -40,  -35,  -30,  -25,  -20,  -15,  -10,   -5,    0,    5,\n",
       "         10,   15,   20,   25,   30,   35,   40,   45,   50,   55,   60,\n",
       "         65,   70,   75,   80,   85,   90,   95])"
      ]
     },
     "execution_count": 10,
     "metadata": {},
     "output_type": "execute_result"
    }
   ],
   "source": [
    "a=np.arange(-size, size, step)\n",
    "a"
   ]
  },
  {
   "cell_type": "code",
   "execution_count": 11,
   "metadata": {},
   "outputs": [
    {
     "data": {
      "text/plain": [
       "array([5, 4, 0, 9, 5, 0, 6, 7, 6, 8, 7, 7, 4, 0, 5, 5, 0, 4, 4, 5, 4, 0,\n",
       "       9, 4, 7, 9, 5, 3, 5, 0, 7, 4, 6, 0, 5, 2, 2, 5, 1, 4])"
      ]
     },
     "execution_count": 11,
     "metadata": {},
     "output_type": "execute_result"
    }
   ],
   "source": [
    "#b=np.arange(-size, size, step)\n",
    "b=np.random.randint(int(size/10), size=int((size*2)/step))\n",
    "b"
   ]
  },
  {
   "cell_type": "code",
   "execution_count": 12,
   "metadata": {},
   "outputs": [
    {
     "data": {
      "text/plain": [
       "(40, 2)"
      ]
     },
     "execution_count": 12,
     "metadata": {},
     "output_type": "execute_result"
    }
   ],
   "source": [
    "X = np.stack((a, b), axis=-1)\n",
    "X.shape"
   ]
  },
  {
   "cell_type": "code",
   "execution_count": 13,
   "metadata": {},
   "outputs": [],
   "source": [
    "nbrs1 = NearestNeighbors(n_neighbors=ncnt1, \n",
    "                        algorithm='ball_tree'\n",
    "                       ).fit(X)\n",
    "\n",
    "distances1, indices1 = nbrs1.kneighbors(X)\n",
    "\n",
    "n1=nbrs1.kneighbors_graph(X).toarray()"
   ]
  },
  {
   "cell_type": "code",
   "execution_count": 14,
   "metadata": {},
   "outputs": [
    {
     "name": "stdout",
     "output_type": "stream",
     "text": [
      "Indices\n",
      "---------------\n",
      "[[ 0  1  2  3]\n",
      " [ 1  0  2  3]\n",
      " [ 2  1  3  0]\n",
      " [ 3  4  2  1]\n",
      " [ 4  3  5  6]\n",
      " [ 5  4  6  7]\n",
      " [ 6  7  5  8]\n",
      " [ 7  8  6  9]\n",
      " [ 8  7  9  6]\n",
      " [ 9 10  8  7]\n",
      " [10 11  9  8]\n",
      " [11 10 12  9]\n",
      " [12 11 13 14]\n",
      " [13 12 14 15]\n",
      " [14 15 13 12]\n",
      " [15 14 16 17]\n",
      " [16 17 15 18]\n",
      " [17 18 16 15]\n",
      " [18 17 19 20]\n",
      " [19 20 18 17]\n",
      " [20 19 21 18]\n",
      " [21 20 22 23]\n",
      " [22 23 24 21]\n",
      " [23 24 22 21]\n",
      " [24 25 23 22]\n",
      " [25 24 26 23]\n",
      " [26 27 25 28]\n",
      " [27 26 28 29]\n",
      " [28 27 29 26]\n",
      " [29 28 30 27]\n",
      " [30 31 29 32]\n",
      " [31 32 30 29]\n",
      " [32 31 33 30]\n",
      " [33 34 32 35]\n",
      " [34 35 33 32]\n",
      " [35 36 34 33]\n",
      " [36 35 37 38]\n",
      " [37 36 38 39]\n",
      " [38 39 37 36]\n",
      " [39 38 37 36]]\n",
      "Distances\n",
      "---------------\n",
      "[[ 0.          5.09901951 11.18033989 15.5241747 ]\n",
      " [ 0.          5.09901951  6.40312424 11.18033989]\n",
      " [ 0.          6.40312424 10.29563014 11.18033989]\n",
      " [ 0.          6.40312424 10.29563014 11.18033989]\n",
      " [ 0.          6.40312424  7.07106781 10.04987562]\n",
      " [ 0.          7.07106781  7.81024968 12.20655562]\n",
      " [ 0.          5.09901951  7.81024968 10.        ]\n",
      " [ 0.          5.09901951  5.09901951 10.04987562]\n",
      " [ 0.          5.09901951  5.38516481 10.        ]\n",
      " [ 0.          5.09901951  5.38516481 10.04987562]\n",
      " [ 0.          5.          5.09901951 10.04987562]\n",
      " [ 0.          5.          5.83095189 10.04987562]\n",
      " [ 0.          5.83095189  6.40312424 10.04987562]\n",
      " [ 0.          6.40312424  7.07106781 11.18033989]\n",
      " [ 0.          5.          7.07106781 10.04987562]\n",
      " [ 0.          5.          7.07106781 10.04987562]\n",
      " [ 0.          6.40312424  7.07106781 10.77032961]\n",
      " [ 0.          5.          6.40312424 10.04987562]\n",
      " [ 0.          5.          5.09901951 10.        ]\n",
      " [ 0.          5.09901951  5.09901951 10.04987562]\n",
      " [ 0.          5.09901951  6.40312424 10.        ]\n",
      " [ 0.          6.40312424 10.29563014 10.77032961]\n",
      " [ 0.          7.07106781 10.19803903 10.29563014]\n",
      " [ 0.          5.83095189  7.07106781 10.77032961]\n",
      " [ 0.          5.38516481  5.83095189 10.19803903]\n",
      " [ 0.          5.38516481  6.40312424 11.18033989]\n",
      " [ 0.          5.38516481  6.40312424 10.        ]\n",
      " [ 0.          5.38516481  5.38516481 10.44030651]\n",
      " [ 0.          5.38516481  7.07106781 10.        ]\n",
      " [ 0.          7.07106781  8.60232527 10.44030651]\n",
      " [ 0.          5.83095189  8.60232527 10.04987562]\n",
      " [ 0.          5.38516481  5.83095189 10.77032961]\n",
      " [ 0.          5.38516481  7.81024968 10.04987562]\n",
      " [ 0.          7.07106781  7.81024968 10.19803903]\n",
      " [ 0.          5.83095189  7.07106781 10.04987562]\n",
      " [ 0.          5.          5.83095189 10.19803903]\n",
      " [ 0.          5.          5.83095189 10.04987562]\n",
      " [ 0.          5.83095189  6.40312424 10.04987562]\n",
      " [ 0.          5.83095189  6.40312424 10.04987562]\n",
      " [ 0.          5.83095189 10.04987562 15.13274595]]\n",
      "K-neighbors\n",
      "---------------\n",
      "[[1. 1. 1. ... 0. 0. 0.]\n",
      " [1. 1. 1. ... 0. 0. 0.]\n",
      " [1. 1. 1. ... 0. 0. 0.]\n",
      " ...\n",
      " [0. 0. 0. ... 1. 1. 1.]\n",
      " [0. 0. 0. ... 1. 1. 1.]\n",
      " [0. 0. 0. ... 1. 1. 1.]]\n"
     ]
    }
   ],
   "source": [
    "print('Indices')\n",
    "print('---------------')\n",
    "print(indices1)\n",
    "print('Distances')\n",
    "print('---------------')\n",
    "print(distances1)\n",
    "\n",
    "print('K-neighbors')\n",
    "print('---------------')\n",
    "print(n1)"
   ]
  },
  {
   "cell_type": "code",
   "execution_count": 15,
   "metadata": {},
   "outputs": [
    {
     "data": {
      "image/png": "[encoded data removed]",
      "text/plain": [
       "<Figure size 1080x360 with 1 Axes>"
      ]
     },
     "metadata": {
      "needs_background": "light"
     },
     "output_type": "display_data"
    }
   ],
   "source": [
    "fig1=plt.figure(figsize=(15, 5))\n",
    "titlename = '%d closest neighbors using NearestNeighbors' % (ncnt1)\n",
    "plt.title(titlename)\n",
    "k=-1\n",
    "for p in range(0,n1.shape[0],int(n1.shape[0]/5)):  \n",
    "    l=n1[p]\n",
    "    k+=1\n",
    "    c=colors[k]\n",
    "    plt.scatter(X[p][0], \n",
    "                X[p][1], \n",
    "                marker='o', \n",
    "                s=1500,\n",
    "                alpha=0.5, \n",
    "                edgecolors='k',\n",
    "                antialiased=True,\n",
    "                c=c\n",
    "               )\n",
    "    for i in range(l.shape[0]):\n",
    "        if l[i] == 1:\n",
    "            plt.scatter(X[i][0], \n",
    "                        X[i][1], \n",
    "                        marker='o', \n",
    "                        s=100, \n",
    "                        alpha=0.8, \n",
    "                        edgecolors='k',\n",
    "                        antialiased=True,\n",
    "                        c=c\n",
    "                       )\n",
    "            plt.plot([X[p][0],X[i][0]], \n",
    "                     [X[p][1],X[i][1]],\n",
    "                     c=c,\n",
    "                     alpha=0.6,\n",
    "                     antialiased=True,\n",
    "                     linestyle='--',\n",
    "                     linewidth=3\n",
    "                    )\n",
    "\n",
    "plt.show()"
   ]
  },
  {
   "cell_type": "code",
   "execution_count": 16,
   "metadata": {},
   "outputs": [],
   "source": [
    "nbrs2 = NearestNeighbors(n_neighbors=ncnt2, \n",
    "                        algorithm='ball_tree'\n",
    "                       ).fit(X)\n",
    "\n",
    "distances2, indices2 = nbrs2.kneighbors(X)\n",
    "\n",
    "n2=nbrs2.kneighbors_graph(X).toarray()"
   ]
  },
  {
   "cell_type": "code",
   "execution_count": 17,
   "metadata": {},
   "outputs": [
    {
     "name": "stdout",
     "output_type": "stream",
     "text": [
      "Indices\n",
      "---------------\n",
      "[[ 0  1  2  3  4  5  6  7]\n",
      " [ 1  0  2  3  4  5  6  7]\n",
      " [ 2  1  3  4  0  5  6  7]\n",
      " [ 3  4  2  1  5  6  0  7]\n",
      " [ 4  3  5  6  2  1  7  0]\n",
      " [ 5  4  6  7  3  2  8  1]\n",
      " [ 6  7  5  8  4  9  3 10]\n",
      " [ 7  8  6  9  5 10  4 11]\n",
      " [ 8  7  9  6 10 11  5  4]\n",
      " [ 9 10  8  7 11  6 12  5]\n",
      " [10 11  9  8 12  7 13  6]\n",
      " [11 10 12  9 13  8 14  7]\n",
      " [12 11 13 14 10 15  9  8]\n",
      " [13 12 14 15 11 16 10 17]\n",
      " [14 15 13 12 16 17 11 18]\n",
      " [15 14 16 17 13 18 12 19]\n",
      " [16 17 15 18 14 13 19 12]\n",
      " [17 18 16 15 19 20 14 13]\n",
      " [18 17 19 20 16 15 21 14]\n",
      " [19 18 20 17 21 22 16 15]\n",
      " [20 19 21 18 22 17 23 24]\n",
      " [21 20 22 23 19 18 24 17]\n",
      " [22 23 24 21 20 25 19 26]\n",
      " [23 24 22 21 25 20 26 19]\n",
      " [24 25 23 26 22 27 21 28]\n",
      " [25 24 26 23 27 22 28 21]\n",
      " [26 27 25 28 24 23 29 30]\n",
      " [27 28 26 29 25 24 30 23]\n",
      " [28 27 29 26 30 31 25 32]\n",
      " [29 28 30 27 31 26 32 33]\n",
      " [30 31 29 32 28 27 33 26]\n",
      " [31 32 30 29 33 28 34 27]\n",
      " [32 31 33 34 30 35 29 28]\n",
      " [33 34 32 35 31 36 30 29]\n",
      " [34 35 33 32 36 37 31 30]\n",
      " [35 36 34 33 37 38 32 31]\n",
      " [36 35 37 38 34 39 33 32]\n",
      " [37 36 38 39 35 34 33 32]\n",
      " [38 39 37 36 35 34 33 32]\n",
      " [39 38 37 36 35 34 33 32]]\n",
      "Distances\n",
      "---------------\n",
      "[[ 0.          5.09901951 11.18033989 15.5241747  20.         25.49509757\n",
      "  30.01666204 35.05709629]\n",
      " [ 0.          5.09901951  6.40312424 11.18033989 15.03329638 20.39607805\n",
      "  25.07987241 30.14962686]\n",
      " [ 0.          6.40312424 10.29563014 11.18033989 11.18033989 15.\n",
      "  20.88061302 25.96150997]\n",
      " [ 0.          6.40312424 10.29563014 11.18033989 13.45362405 15.29705854\n",
      "  15.5241747  20.09975124]\n",
      " [ 0.          6.40312424  7.07106781 10.04987562 11.18033989 15.03329638\n",
      "  15.13274595 20.        ]\n",
      " [ 0.          7.07106781  7.81024968 12.20655562 13.45362405 15.\n",
      "  16.15549442 20.39607805]\n",
      " [ 0.          5.09901951  7.81024968 10.         10.04987562 15.13274595\n",
      "  15.29705854 20.02498439]\n",
      " [ 0.          5.09901951  5.09901951 10.04987562 12.20655562 15.\n",
      "  15.13274595 20.        ]\n",
      " [ 0.          5.09901951  5.38516481 10.         10.04987562 15.03329638\n",
      "  16.15549442 20.02498439]\n",
      " [ 0.          5.09901951  5.38516481 10.04987562 10.04987562 15.13274595\n",
      "  15.5241747  21.54065923]\n",
      " [ 0.          5.          5.09901951 10.04987562 10.44030651 15.\n",
      "  16.55294536 20.02498439]\n",
      " [ 0.          5.          5.83095189 10.04987562 12.20655562 15.03329638\n",
      "  15.13274595 20.        ]\n",
      " [ 0.          5.83095189  6.40312424 10.04987562 10.44030651 15.03329638\n",
      "  15.5241747  20.09975124]\n",
      " [ 0.          6.40312424  7.07106781 11.18033989 12.20655562 15.\n",
      "  16.55294536 20.39607805]\n",
      " [ 0.          5.          7.07106781 10.04987562 11.18033989 15.03329638\n",
      "  15.13274595 20.02498439]\n",
      " [ 0.          5.          7.07106781 10.04987562 11.18033989 15.03329638\n",
      "  15.03329638 20.        ]\n",
      " [ 0.          6.40312424  7.07106781 10.77032961 11.18033989 15.\n",
      "  15.8113883  20.39607805]\n",
      " [ 0.          5.          6.40312424 10.04987562 10.04987562 15.\n",
      "  15.03329638 20.39607805]\n",
      " [ 0.          5.          5.09901951 10.         10.77032961 15.03329638\n",
      "  15.5241747  20.02498439]\n",
      " [ 0.          5.09901951  5.09901951 10.04987562 11.18033989 15.5241747\n",
      "  15.8113883  20.        ]\n",
      " [ 0.          5.09901951  6.40312424 10.         11.18033989 15.\n",
      "  15.         20.22374842]\n",
      " [ 0.          6.40312424 10.29563014 10.77032961 11.18033989 15.5241747\n",
      "  16.55294536 20.39607805]\n",
      " [ 0.          7.07106781 10.19803903 10.29563014 11.18033989 15.\n",
      "  15.5241747  20.39607805]\n",
      " [ 0.          5.83095189  7.07106781 10.77032961 11.18033989 15.\n",
      "  15.03329638 20.02498439]\n",
      " [ 0.          5.38516481  5.83095189 10.19803903 10.19803903 15.5241747\n",
      "  16.55294536 20.09975124]\n",
      " [ 0.          5.38516481  6.40312424 11.18033989 11.66190379 15.\n",
      "  15.5241747  21.9317122 ]\n",
      " [ 0.          5.38516481  6.40312424 10.         10.19803903 15.03329638\n",
      "  15.8113883  20.09975124]\n",
      " [ 0.          5.38516481  5.38516481 10.44030651 11.66190379 15.5241747\n",
      "  15.5241747  20.02498439]\n",
      " [ 0.          5.38516481  7.07106781 10.         10.19803903 15.03329638\n",
      "  15.5241747  20.02498439]\n",
      " [ 0.          7.07106781  8.60232527 10.44030651 10.77032961 15.8113883\n",
      "  16.15549442 20.        ]\n",
      " [ 0.          5.83095189  8.60232527 10.04987562 10.19803903 15.5241747\n",
      "  16.55294536 20.09975124]\n",
      " [ 0.          5.38516481  5.83095189 10.77032961 10.77032961 15.03329638\n",
      "  15.03329638 20.02498439]\n",
      " [ 0.          5.38516481  7.81024968 10.04987562 10.04987562 15.5241747\n",
      "  16.15549442 20.02498439]\n",
      " [ 0.          7.07106781  7.81024968 10.19803903 10.77032961 15.13274595\n",
      "  16.55294536 20.        ]\n",
      " [ 0.          5.83095189  7.07106781 10.04987562 10.44030651 15.\n",
      "  15.03329638 20.09975124]\n",
      " [ 0.          5.          5.83095189 10.19803903 10.44030651 15.03329638\n",
      "  15.5241747  20.09975124]\n",
      " [ 0.          5.          5.83095189 10.04987562 10.44030651 15.13274595\n",
      "  15.13274595 20.39607805]\n",
      " [ 0.          5.83095189  6.40312424 10.04987562 10.44030651 15.\n",
      "  20.61552813 25.01999201]\n",
      " [ 0.          5.83095189  6.40312424 10.04987562 15.03329638 20.39607805\n",
      "  25.01999201 30.41381265]\n",
      " [ 0.          5.83095189 10.04987562 15.13274595 20.09975124 25.01999201\n",
      "  30.2654919  35.05709629]]\n",
      "K-neighbors\n",
      "---------------\n",
      "[[1. 1. 1. ... 0. 0. 0.]\n",
      " [1. 1. 1. ... 0. 0. 0.]\n",
      " [1. 1. 1. ... 0. 0. 0.]\n",
      " ...\n",
      " [0. 0. 0. ... 1. 1. 1.]\n",
      " [0. 0. 0. ... 1. 1. 1.]\n",
      " [0. 0. 0. ... 1. 1. 1.]]\n"
     ]
    }
   ],
   "source": [
    "print('Indices')\n",
    "print('---------------')\n",
    "print(indices2)\n",
    "print('Distances')\n",
    "print('---------------')\n",
    "print(distances2)\n",
    "\n",
    "print('K-neighbors')\n",
    "print('---------------')\n",
    "print(n2)"
   ]
  },
  {
   "cell_type": "code",
   "execution_count": 18,
   "metadata": {},
   "outputs": [
    {
     "data": {
      "image/png": "[encoded data removed]",
      "text/plain": [
       "<Figure size 1080x360 with 1 Axes>"
      ]
     },
     "metadata": {
      "needs_background": "light"
     },
     "output_type": "display_data"
    }
   ],
   "source": [
    "fig2=plt.figure(figsize=(15, 5))\n",
    "titlename = '%d closest neighbors using NearestNeighbors' % (ncnt2)\n",
    "plt.title(titlename)\n",
    "k=-1\n",
    "for p in range(0,n2.shape[0],int(n2.shape[0]/5)):\n",
    "    l=n2[p]\n",
    "    k+=1\n",
    "    c=colors[k]\n",
    "    plt.scatter(X[p][0], \n",
    "                X[p][1], \n",
    "                marker='o', \n",
    "                s=1500,\n",
    "                alpha=0.5, \n",
    "                edgecolors='k',\n",
    "                antialiased=True,\n",
    "                c=c\n",
    "               )\n",
    "    for i in range(l.shape[0]):\n",
    "        if l[i] == 1:\n",
    "            plt.scatter(X[i][0], \n",
    "                        X[i][1], \n",
    "                        marker='o', \n",
    "                        s=100, \n",
    "                        alpha=0.8, \n",
    "                        edgecolors='k',\n",
    "                        antialiased=True,\n",
    "                        c=c\n",
    "                       )\n",
    "            plt.plot([X[p][0],X[i][0]], \n",
    "                     [X[p][1],X[i][1]],\n",
    "                     c=c,\n",
    "                     alpha=0.6,\n",
    "                     antialiased=True,\n",
    "                     linestyle='--',\n",
    "                     linewidth=3\n",
    "                    )\n",
    "\n",
    "\n",
    "plt.show()"
   ]
  },
  {
   "cell_type": "code",
   "execution_count": 19,
   "metadata": {},
   "outputs": [
    {
     "name": "stdout",
     "output_type": "stream",
     "text": [
      "C:\\Users\\AndreVermeulen\\Documents\\My Book\\apress\\Industrialized Machine Learning\\book\\IML\\Results\\Chapter 06\n"
     ]
    }
   ],
   "source": [
    "imagepath = os.path.join(*[os.path.dirname(os.path.dirname(os.getcwd())),'Results','Chapter 06'])\n",
    "print(imagepath)\n",
    "\n",
    "if not os.path.exists(imagepath):\n",
    "    os.makedirs(imagepath)\n",
    "    \n",
    "imagename = os.path.join(*[os.path.dirname(os.path.dirname(os.getcwd())),'Results','Chapter 06','Chapter-006-Example-001A-01.jpg'])\n",
    "fig1.savefig(imagename, bbox_inches='tight')     \n",
    "imagename = os.path.join(*[os.path.dirname(os.path.dirname(os.getcwd())),'Results','Chapter 06','Chapter-006-Example-001A-02.jpg'])\n",
    "fig2.savefig(imagename, bbox_inches='tight') "
   ]
  },
  {
   "cell_type": "markdown",
   "metadata": {},
   "source": [
    "## Done"
   ]
  },
  {
   "cell_type": "code",
   "execution_count": 20,
   "metadata": {},
   "outputs": [
    {
     "name": "stdout",
     "output_type": "stream",
     "text": [
      "Done! 2019-04-19 08:27:22.887862\n"
     ]
    }
   ],
   "source": [
    "import datetime\n",
    "now = datetime.datetime.now()\n",
    "print('Done!',str(now))"
   ]
  },
  {
   "cell_type": "code",
   "execution_count": null,
   "metadata": {},
   "outputs": [],
   "source": []
  }
 ],
 "metadata": {
  "kernelspec": {
   "display_name": "Python 2",
   "language": "python",
   "name": "python2"
  },
  "language_info": {
   "codemirror_mode": {
    "name": "ipython",
    "version": 2
   },
   "file_extension": ".py",
   "mimetype": "text/x-python",
   "name": "python",
   "nbconvert_exporter": "python",
   "pygments_lexer": "ipython2",
   "version": "2.7.16"
  }
 },
 "nbformat": 4,
 "nbformat_minor": 2
}
