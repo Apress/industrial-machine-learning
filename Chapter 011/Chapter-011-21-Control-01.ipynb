{
  "cells": [
    {
      "metadata": {},
      "cell_type": "markdown",
      "source": "## Apress - Industrialized Machine Learning Examples\n\nAndreas Francois Vermeulen\n2019\n\n### This is an example add-on to a book and needs to be accepted as part of that copyright."
    },
    {
      "metadata": {},
      "cell_type": "markdown",
      "source": "## Chapter-011-21-Control-01"
    },
    {
      "metadata": {
        "trusted": true
      },
      "cell_type": "code",
      "source": "import matplotlib\nmatplotlib.use('TkAgg')\n%matplotlib inline",
      "execution_count": 1,
      "outputs": []
    },
    {
      "metadata": {
        "trusted": true
      },
      "cell_type": "code",
      "source": "#!conda update -n base conda -y",
      "execution_count": 2,
      "outputs": []
    },
    {
      "metadata": {
        "trusted": true
      },
      "cell_type": "code",
      "source": "#!conda install -c conda-forge control -y",
      "execution_count": 3,
      "outputs": []
    },
    {
      "metadata": {
        "trusted": true
      },
      "cell_type": "code",
      "source": "#!conda install -c conda-forge slycot -y",
      "execution_count": 4,
      "outputs": []
    },
    {
      "metadata": {
        "trusted": true
      },
      "cell_type": "code",
      "source": "import numpy as np              # Numerical library\nfrom scipy import *             # Load the scipy functions\nfrom control.matlab import *    # Load the controls systems library\nfrom pylab import * ",
      "execution_count": 5,
      "outputs": []
    },
    {
      "metadata": {},
      "cell_type": "markdown",
      "source": "## Part A - one-dimensional discrete Fourier Transform"
    },
    {
      "metadata": {
        "trusted": true
      },
      "cell_type": "code",
      "source": "a = zeros(2500)\na[:200]=1\nb = fft(a)\nplot(abs(b))\nshow()                ",
      "execution_count": 6,
      "outputs": [
        {
          "output_type": "display_data",
          "data": {
            "image/png": "[encoded data removed]",
            "text/plain": "<matplotlib.figure.Figure at 0x7fef9af68470>"
          },
          "metadata": {}
        }
      ]
    },
    {
      "metadata": {},
      "cell_type": "markdown",
      "source": "## Part B - Convert a linear system into space system form."
    },
    {
      "metadata": {
        "trusted": true
      },
      "cell_type": "code",
      "source": "m = 300.0\nk = 40.0\nb = 16.0",
      "execution_count": 7,
      "outputs": []
    },
    {
      "metadata": {
        "trusted": true
      },
      "cell_type": "code",
      "source": "A = matrix([[1, -1, 1.], [1, -k/m, -b/m], [1, 1, 1]])\nB = matrix([[0], [1/m], [1]])\nC = matrix([[1., 0, 1.]])\nD = matrix([[1.]])",
      "execution_count": 8,
      "outputs": []
    },
    {
      "metadata": {
        "trusted": true
      },
      "cell_type": "code",
      "source": "print(A.shape)\nprint(B.shape)\nprint(C.shape)\nprint(D.shape)",
      "execution_count": 9,
      "outputs": [
        {
          "output_type": "stream",
          "text": "(3, 3)\n(3, 1)\n(1, 3)\n(1, 1)\n",
          "name": "stdout"
        }
      ]
    },
    {
      "metadata": {
        "trusted": true
      },
      "cell_type": "code",
      "source": "sys = ss(A, B, C, D)",
      "execution_count": 10,
      "outputs": []
    },
    {
      "metadata": {
        "trusted": true
      },
      "cell_type": "code",
      "source": "sys",
      "execution_count": 11,
      "outputs": [
        {
          "output_type": "execute_result",
          "execution_count": 11,
          "data": {
            "text/plain": "A = [[ 1.         -1.          1.        ]\n [ 1.         -0.13333333 -0.05333333]\n [ 1.          1.          1.        ]]\n\nB = [[0.        ]\n [0.00333333]\n [1.        ]]\n\nC = [[1. 0. 1.]]\n\nD = [[1.]]"
          },
          "metadata": {}
        }
      ]
    },
    {
      "metadata": {
        "trusted": true
      },
      "cell_type": "code",
      "source": "sys2=ss2tf(sys)",
      "execution_count": 12,
      "outputs": []
    },
    {
      "metadata": {
        "trusted": true
      },
      "cell_type": "code",
      "source": "sys2",
      "execution_count": 13,
      "outputs": [
        {
          "output_type": "execute_result",
          "execution_count": 13,
          "data": {
            "text/plain": "\ns - 1\n-----\ns - 2"
          },
          "metadata": {}
        }
      ]
    },
    {
      "metadata": {},
      "cell_type": "markdown",
      "source": "# Part C - Create a stable continuous random state space object."
    },
    {
      "metadata": {
        "trusted": true
      },
      "cell_type": "code",
      "source": "sys3=rss(states=3, outputs=2, inputs=5)\nsys3",
      "execution_count": 14,
      "outputs": [
        {
          "output_type": "execute_result",
          "execution_count": 14,
          "data": {
            "text/plain": "A = [[ 0.02787555  0.03626288 -0.48253799]\n [ 1.00837519 -0.65530309 -0.70586256]\n [ 0.94157657 -0.04030895 -1.29268397]]\n\nB = [[ 0.59583602 -0.25709169  0.8330851  -0.         -0.13952623]\n [-1.36052423  0.          0.         -0.66627773  0.34048188]\n [-1.06703843  0.3116734  -0.39633128 -1.37769899  0.        ]]\n\nC = [[ 0.         -0.          0.44747129]\n [-0.56910447 -0.02662673  0.19835869]]\n\nD = [[ 0.          0.54134614 -0.         -0.          0.        ]\n [ 0.          0.         -0.          0.20083226 -0.        ]]"
          },
          "metadata": {}
        }
      ]
    },
    {
      "metadata": {
        "trusted": true
      },
      "cell_type": "code",
      "source": "sys4=ss2tf(sys3)\nsys4",
      "execution_count": 15,
      "outputs": [
        {
          "output_type": "execute_result",
          "execution_count": 15,
          "data": {
            "text/plain": "\nInput 1 to output 1:\n-0.4775 s^2 - 0.02399 s + 0.1584\n---------------------------------\ns^3 + 1.92 s^2 + 1.182 s + 0.2321\n\nInput 1 to output 2:\n -0.5145 s^2 - 0.9264 s - 0.3718\n---------------------------------\ns^3 + 1.92 s^2 + 1.182 s + 0.2321\n\nInput 2 to output 1:\n0.5413 s^3 + 1.179 s^2 + 0.6191 s + 0.05171\n-------------------------------------------\n     s^3 + 1.92 s^2 + 1.182 s + 0.2321\n\nInput 2 to output 2:\n  0.2081 s^2 + 0.3741 s + 0.1559\n---------------------------------\ns^3 + 1.92 s^2 + 1.182 s + 0.2321\n\nInput 3 to output 1:\n -0.1773 s^2 + 0.2397 s + 0.2246\n---------------------------------\ns^3 + 1.92 s^2 + 1.182 s + 0.2321\n\nInput 3 to output 2:\n  -0.5527 s^2 - 0.956 s - 0.3848\n---------------------------------\ns^3 + 1.92 s^2 + 1.182 s + 0.2321\n\nInput 4 to output 1:\n-0.6165 s^2 - 0.3748 s + 0.02329\n---------------------------------\ns^3 + 1.92 s^2 + 1.182 s + 0.2321\n\nInput 4 to output 2:\n0.2008 s^3 + 0.1301 s^2 - 0.2968 s - 0.1956\n-------------------------------------------\n     s^3 + 1.92 s^2 + 1.182 s + 0.2321\n\nInput 5 to output 1:\n      -0.06493 s - 0.03061\n---------------------------------\ns^3 + 1.92 s^2 + 1.182 s + 0.2321\n\nInput 5 to output 2:\n0.07034 s^2 + 0.1112 s + 0.03716\n---------------------------------\ns^3 + 1.92 s^2 + 1.182 s + 0.2321"
          },
          "metadata": {}
        }
      ]
    },
    {
      "metadata": {},
      "cell_type": "markdown",
      "source": "## Part D - Create a stable discrete random state space object."
    },
    {
      "metadata": {
        "trusted": true
      },
      "cell_type": "code",
      "source": "sys5=drss(states=3, outputs=2, inputs=5)\nsys5",
      "execution_count": 16,
      "outputs": [
        {
          "output_type": "execute_result",
          "execution_count": 16,
          "data": {
            "text/plain": "A = [[-0.42816931  0.04627726  0.26964052]\n [-0.02093011 -0.15703555  0.21112772]\n [-0.00545159 -0.12126393 -0.04372186]]\n\nB = [[-0.          0.58181375 -0.31147272  0.37216844  0.75914503]\n [ 1.10793956 -0.06497979 -1.62402282  1.31887124  0.02779048]\n [-0.37463662 -1.06588672 -0.71338119  2.48829723  0.26206952]]\n\nC = [[ 0.63425024  1.03414542  0.13705553]\n [ 0.00695809 -0.17743016  0.12994363]]\n\nD = [[-0.76125679  0.90851053  0.         -0.         -0.        ]\n [ 0.         -0.         -0.          0.          0.        ]]"
          },
          "metadata": {}
        }
      ]
    },
    {
      "metadata": {
        "trusted": true
      },
      "cell_type": "code",
      "source": "sys6=ss2tf(sys5)\nsys6",
      "execution_count": 17,
      "outputs": [
        {
          "output_type": "execute_result",
          "execution_count": 17,
          "data": {
            "text/plain": "\nInput 1 to output 1:\n-0.7613 s^3 + 0.6156 s^2 + 0.2869 s - 0.06538\n---------------------------------------------\n    s^3 + 0.6289 s^2 + 0.1209 s + 0.01354\n\nInput 1 to output 2:\n  -0.2453 s^2 - 0.125 s - 0.009539\n-------------------------------------\ns^3 + 0.6289 s^2 + 0.1209 s + 0.01354\n\nInput 2 to output 1:\n0.9085 s^3 + 0.7271 s^2 - 0.3622 s - 0.1151\n-------------------------------------------\n   s^3 + 0.6289 s^2 + 0.1209 s + 0.01354\n\nInput 2 to output 2:\n  -0.1229 s^2 - 0.03412 s + 0.007355\n-------------------------------------\ns^3 + 0.6289 s^2 + 0.1209 s + 0.01354\n\nInput 3 to output 1:\n    -1.975 s^2 - 1.181 s - 0.0893\n-------------------------------------\ns^3 + 0.6289 s^2 + 0.1209 s + 0.01354\n\nInput 3 to output 2:\n   0.1933 s^2 + 0.1308 s + 0.02107\n-------------------------------------\ns^3 + 0.6289 s^2 + 0.1209 s + 0.01354\n\nInput 4 to output 1:\n     1.941 s^2 + 1.868 s + 0.323\n-------------------------------------\ns^3 + 0.6289 s^2 + 0.1209 s + 0.01354\n\nInput 4 to output 2:\n  0.09192 s^2 - 0.02847 s - 0.02811\n-------------------------------------\ns^3 + 0.6289 s^2 + 0.1209 s + 0.01354\n\nInput 5 to output 1:\n   0.5461 s^2 + 0.2166 s + 0.04811\n-------------------------------------\ns^3 + 0.6289 s^2 + 0.1209 s + 0.01354\n\nInput 5 to output 2:\n  0.03441 s^2 + 0.01119 s - 0.001201\n-------------------------------------\ns^3 + 0.6289 s^2 + 0.1209 s + 0.01354"
          },
          "metadata": {}
        }
      ]
    },
    {
      "metadata": {},
      "cell_type": "markdown",
      "source": "## Part E - Practical Example"
    },
    {
      "metadata": {
        "trusted": true
      },
      "cell_type": "code",
      "source": "#!pip install control",
      "execution_count": 18,
      "outputs": []
    },
    {
      "metadata": {
        "trusted": true
      },
      "cell_type": "code",
      "source": "#!pip install setuptools",
      "execution_count": 19,
      "outputs": []
    },
    {
      "metadata": {
        "trusted": true
      },
      "cell_type": "code",
      "source": "#!pip install slycot",
      "execution_count": 20,
      "outputs": []
    },
    {
      "metadata": {
        "trusted": true
      },
      "cell_type": "code",
      "source": "#conda install -c plotly plotly\n#!pip install plotly",
      "execution_count": 21,
      "outputs": []
    },
    {
      "metadata": {
        "trusted": true
      },
      "cell_type": "code",
      "source": "from numpy import *             # Grab all of the NumPy functions\nfrom matplotlib.pyplot import * # Grab MATLAB plotting functions\nfrom control.matlab import *    # MATLAB-like functions",
      "execution_count": 22,
      "outputs": []
    },
    {
      "metadata": {
        "trusted": true
      },
      "cell_type": "code",
      "source": "m = 4;                         # mass of aircraft\nJ = 0.0475;                    # inertia around pitch axis\nr = 0.25;                      # distance to center of force\ng = 9.8;                       # gravitational constant\nc = 0.05;                      # damping factor (estimated)",
      "execution_count": 23,
      "outputs": []
    },
    {
      "metadata": {
        "trusted": true
      },
      "cell_type": "code",
      "source": "# State space dynamics\nxe = [0, 0, 0, 0, 0, 0];        # equilibrium point of interest\nue = [0, m*g];                  ",
      "execution_count": 24,
      "outputs": []
    },
    {
      "metadata": {
        "trusted": true
      },
      "cell_type": "code",
      "source": "# Dynamics matrix \nA = matrix(\n   [[ 0,    0,    0,    1,    0,    0],\n    [ 0,    0,    0,    0,    1,    0],\n    [ 0,    0,    0,    0,    0,    1],\n    [ 0, 0, (-ue[0]*sin(xe[2]) - ue[1]*cos(xe[2]))/m, -c/m, 0, 0],\n    [ 0, 0, (ue[0]*cos(xe[2]) - ue[1]*sin(xe[2]))/m, 0, -c/m, 0],\n    [ 0,    0,    0,    0,    0,    0 ]])\n\n# Input matrix\nB = matrix(\n   [[0, 0], [0, 0], [0, 0],\n    [cos(xe[2])/m, -sin(xe[2])/m],\n    [sin(xe[2])/m,  cos(xe[2])/m],\n    [r/J, 0]])\n\n# Output matrix \nC = matrix([[1, 0, 0, 0, 0, 0], [0, 1, 0, 0, 0, 0]])\nD = matrix([[0, 0], [0, 0]])",
      "execution_count": 25,
      "outputs": []
    },
    {
      "metadata": {
        "trusted": true
      },
      "cell_type": "code",
      "source": "Qx1 = diag([1, 1, 1, 1, 1, 1]);\nQu1a = diag([1, 1]);",
      "execution_count": 26,
      "outputs": []
    },
    {
      "metadata": {
        "trusted": true
      },
      "cell_type": "code",
      "source": "#from slycot import sb02md\n#from slycot import sb02mt",
      "execution_count": 27,
      "outputs": []
    },
    {
      "metadata": {
        "trusted": true
      },
      "cell_type": "code",
      "source": "(K, X, E) = lqr(A, B, Qx1, Qu1a); ",
      "execution_count": 28,
      "outputs": []
    },
    {
      "metadata": {
        "trusted": true
      },
      "cell_type": "code",
      "source": "K1a = matrix(K);",
      "execution_count": 29,
      "outputs": []
    },
    {
      "metadata": {
        "trusted": true
      },
      "cell_type": "code",
      "source": "xd = matrix([[1], [0], [0], [0], [0], [0]]); \nyd = matrix([[0], [1], [0], [0], [0], [0]]);  ",
      "execution_count": 30,
      "outputs": []
    },
    {
      "metadata": {
        "trusted": true
      },
      "cell_type": "code",
      "source": "# Indices for the parts of the state that we want\nlat = (0,2,3,5);\nalt = (1,4);\n\n# Decoupled dynamics\nAx = (A[lat, :])[:, lat];       \nBx = B[lat, 0]; Cx = C[0, lat]; Dx = D[0, 0];\n \nAy = (A[alt, :])[:, alt];       \nBy = B[alt, 1]; Cy = C[1, alt]; Dy = D[1, 1];\n\n# Step response for the first input\nH1ax = ss(Ax - Bx*K1a[0,lat], Bx*K1a[0,lat]*xd[lat,:], Cx, Dx);\n(Tx, Yx) = step(H1ax, T=linspace(0,10,100));\n\n# Step response for the second input\nH1ay = ss(Ay - By*K1a[1,alt], By*K1a[1,alt]*yd[alt,:], Cy, Dy);\n(Ty, Yy) = step(H1ay, T=linspace(0,10,100));\n\nYxt = (Yx[np.newaxis]).T\nYyt = (Yy[np.newaxis]).T",
      "execution_count": 31,
      "outputs": []
    },
    {
      "metadata": {
        "trusted": true
      },
      "cell_type": "code",
      "source": "plot(Tx, Yxt, '-', Ty, Yyt, '--');\nylabel('position');\nlegend(('x', 'y'), loc='lower right');",
      "execution_count": 32,
      "outputs": [
        {
          "output_type": "display_data",
          "data": {
            "image/png": "[encoded data removed]",
            "text/plain": "<matplotlib.figure.Figure at 0x7fef9ae4c710>"
          },
          "metadata": {}
        }
      ]
    },
    {
      "metadata": {},
      "cell_type": "markdown",
      "source": "## Done"
    },
    {
      "metadata": {
        "trusted": true
      },
      "cell_type": "code",
      "source": "import datetime\nnow = datetime.datetime.now()\nprint('Done!',str(now))",
      "execution_count": 33,
      "outputs": [
        {
          "output_type": "stream",
          "text": "Done! 2019-04-29 22:41:49.355213\n",
          "name": "stdout"
        }
      ]
    }
  ],
  "metadata": {
    "kernelspec": {
      "name": "python3",
      "display_name": "Python 3",
      "language": "python"
    },
    "language_info": {
      "mimetype": "text/x-python",
      "nbconvert_exporter": "python",
      "name": "python",
      "pygments_lexer": "ipython3",
      "version": "3.5.4",
      "file_extension": ".py",
      "codemirror_mode": {
        "version": 3,
        "name": "ipython"
      }
    }
  },
  "nbformat": 4,
  "nbformat_minor": 2
}