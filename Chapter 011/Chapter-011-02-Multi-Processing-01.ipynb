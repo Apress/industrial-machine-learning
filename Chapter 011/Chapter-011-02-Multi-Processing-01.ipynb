{
 "cells": [
  {
   "cell_type": "markdown",
   "metadata": {},
   "source": [
    "## Apress - Industrialized Machine Learning Examples\n",
    "\n",
    "Andreas Francois Vermeulen\n",
    "2019\n",
    "\n",
    "### This is an example add-on to a book and needs to be accepted as part of that copyright."
   ]
  },
  {
   "cell_type": "markdown",
   "metadata": {},
   "source": [
    "## Chapter-011-02-Multi-Processing-01"
   ]
  },
  {
   "cell_type": "markdown",
   "metadata": {},
   "source": [
    "## Threading"
   ]
  },
  {
   "cell_type": "code",
   "execution_count": 1,
   "metadata": {},
   "outputs": [],
   "source": [
    "import random\n",
    "import threading"
   ]
  },
  {
   "cell_type": "code",
   "execution_count": 2,
   "metadata": {},
   "outputs": [],
   "source": [
    "def list_append(count, id, out_list):\n",
    "    random.seed(1968)\n",
    "    for i in range(count):\n",
    "        out_list.append(random.random())"
   ]
  },
  {
   "cell_type": "code",
   "execution_count": 3,
   "metadata": {},
   "outputs": [],
   "source": [
    "totalsize = int(10e7)   # Number of random numbers to add"
   ]
  },
  {
   "cell_type": "code",
   "execution_count": 4,
   "metadata": {},
   "outputs": [],
   "source": [
    "def Run_Threads(threads):\n",
    "    jobs = []\n",
    "    for i in range(0, threads):\n",
    "        out_list = list()\n",
    "        thread = threading.Thread(target=list_append(size, i, out_list))\n",
    "        jobs.append(thread)\n",
    "\n",
    "    # Start the threads (i.e. calculate the random number lists)\n",
    "    for j in jobs:\n",
    "        j.start()\n",
    "\n",
    "    # Ensure all of the threads have finished\n",
    "    for j in jobs:\n",
    "        j.join()"
   ]
  },
  {
   "cell_type": "code",
   "execution_count": 5,
   "metadata": {},
   "outputs": [
    {
     "name": "stdout",
     "output_type": "stream",
     "text": [
      "  0 - Processing complete:     1 threads for 100000000 calculations:\n",
      "Wall time: 33.6 s\n",
      "  1 - Processing complete:     2 threads for 100000000 calculations:\n",
      "Wall time: 33.4 s\n",
      "  2 - Processing complete:     4 threads for 100000000 calculations:\n",
      "Wall time: 32.9 s\n",
      "  3 - Processing complete:     8 threads for 100000000 calculations:\n",
      "Wall time: 35 s\n",
      "  4 - Processing complete:    16 threads for 100000000 calculations:\n",
      "Wall time: 34.7 s\n",
      "  5 - Processing complete:    32 threads for 100000000 calculations:\n",
      "Wall time: 34.3 s\n",
      "  6 - Processing complete:    64 threads for 100000000 calculations:\n",
      "Wall time: 35.4 s\n",
      "  7 - Processing complete:   128 threads for 100000000 calculations:\n",
      "Wall time: 33.9 s\n",
      "  8 - Processing complete:   256 threads for 100000000 calculations:\n",
      "Wall time: 33.3 s\n",
      "  9 - Processing complete:   512 threads for 99999744 calculations:\n",
      "Wall time: 29.2 s\n",
      " 10 - Processing complete:  1024 threads for 99999744 calculations:\n",
      "Wall time: 28.9 s\n"
     ]
    }
   ],
   "source": [
    "for t in range(0,11):\n",
    "    threads=2**t\n",
    "    size = int(totalsize/threads)    \n",
    "    print (\"%3d - Processing complete: %5d threads for %8d calculations:\" % (t, threads,(threads*size)))\n",
    "    %time Run_Threads(threads)     # Number of threads to create"
   ]
  },
  {
   "cell_type": "markdown",
   "metadata": {},
   "source": [
    "## Done"
   ]
  },
  {
   "cell_type": "code",
   "execution_count": 6,
   "metadata": {},
   "outputs": [
    {
     "name": "stdout",
     "output_type": "stream",
     "text": [
      "Done! 2019-04-28 10:24:24.067430\n"
     ]
    }
   ],
   "source": [
    "import datetime\n",
    "now = datetime.datetime.now()\n",
    "print('Done!',str(now))"
   ]
  }
 ],
 "metadata": {
  "kernelspec": {
   "display_name": "Python 3",
   "language": "python",
   "name": "python3"
  },
  "language_info": {
   "codemirror_mode": {
    "name": "ipython",
    "version": 3
   },
   "file_extension": ".py",
   "mimetype": "text/x-python",
   "name": "python",
   "nbconvert_exporter": "python",
   "pygments_lexer": "ipython3",
   "version": "3.7.3"
  }
 },
 "nbformat": 4,
 "nbformat_minor": 2
}
