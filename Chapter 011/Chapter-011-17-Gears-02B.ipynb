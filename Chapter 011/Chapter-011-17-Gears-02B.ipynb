{
 "cells": [
  {
   "cell_type": "markdown",
   "metadata": {},
   "source": [
    "## Apress - Industrialized Machine Learning Examples\n",
    "\n",
    "Andreas Francois Vermeulen\n",
    "2019\n",
    "\n",
    "### This is an example add-on to a book and needs to be accepted as part of that copyright."
   ]
  },
  {
   "cell_type": "markdown",
   "metadata": {},
   "source": [
    "## Chapter-011-17-Gears-02B"
   ]
  },
  {
   "cell_type": "code",
   "execution_count": 1,
   "metadata": {},
   "outputs": [],
   "source": [
    "import math\n",
    "\n",
    "kW1 = 1.5 # kilowatt on Gear Green\n",
    "s1 = 20   # Revolutions per minutes of Gear Green"
   ]
  },
  {
   "cell_type": "code",
   "execution_count": 2,
   "metadata": {},
   "outputs": [],
   "source": [
    "m = 2"
   ]
  },
  {
   "cell_type": "code",
   "execution_count": 3,
   "metadata": {},
   "outputs": [
    {
     "name": "stdout",
     "output_type": "stream",
     "text": [
      "Pitch of Teeth: 6.283185 \n"
     ]
    }
   ],
   "source": [
    "p = math.pi * m\n",
    "print('Pitch of Teeth: %3.6f ' % p)"
   ]
  },
  {
   "cell_type": "code",
   "execution_count": 4,
   "metadata": {},
   "outputs": [],
   "source": [
    "n1 = 20  # Teeth Gear Green\n",
    "n2 = 100 # Teeth Gear Amber\n",
    "n3 = 15  # Teeth Gear Yellow\n",
    "n4 = 200 # Teeth Gear Red"
   ]
  },
  {
   "cell_type": "code",
   "execution_count": 5,
   "metadata": {},
   "outputs": [
    {
     "name": "stdout",
     "output_type": "stream",
     "text": [
      "Diameter for Green ISO Module gear is  40.000 millimeters\n"
     ]
    }
   ],
   "source": [
    "D1 = (p * n1) / math.pi\n",
    "print('Diameter for Green ISO Module gear is  %5.3f millimeters' % D1)"
   ]
  },
  {
   "cell_type": "code",
   "execution_count": 6,
   "metadata": {},
   "outputs": [
    {
     "name": "stdout",
     "output_type": "stream",
     "text": [
      "Diameter for Amber ISO Module gear is  200.000 millimeters\n"
     ]
    }
   ],
   "source": [
    "D2 = (p * n2) / math.pi\n",
    "print('Diameter for Amber ISO Module gear is  %5.3f millimeters' % D2)"
   ]
  },
  {
   "cell_type": "code",
   "execution_count": 7,
   "metadata": {},
   "outputs": [
    {
     "name": "stdout",
     "output_type": "stream",
     "text": [
      "Diameter for Yellow ISO Module gear is  30.000 millimeters\n"
     ]
    }
   ],
   "source": [
    "D3 = (p * n3) / math.pi\n",
    "print('Diameter for Yellow ISO Module gear is  %5.3f millimeters' % D3)"
   ]
  },
  {
   "cell_type": "code",
   "execution_count": 8,
   "metadata": {},
   "outputs": [
    {
     "name": "stdout",
     "output_type": "stream",
     "text": [
      "Diameter for Red ISO Module gear is  400.000 millimeters\n"
     ]
    }
   ],
   "source": [
    "D4 = (p * n4) / math.pi\n",
    "print('Diameter for Red ISO Module gear is  %5.3f millimeters' % D4)"
   ]
  },
  {
   "cell_type": "code",
   "execution_count": 9,
   "metadata": {},
   "outputs": [
    {
     "name": "stdout",
     "output_type": "stream",
     "text": [
      "Pitch of Teeth: 6.283185 \n"
     ]
    }
   ],
   "source": [
    "p = (math.pi * D1) / n1\n",
    "print('Pitch of Teeth: %3.6f ' % p)"
   ]
  },
  {
   "cell_type": "code",
   "execution_count": 10,
   "metadata": {},
   "outputs": [
    {
     "name": "stdout",
     "output_type": "stream",
     "text": [
      "Torque Green Gear = 716.197 newton meter\n"
     ]
    }
   ],
   "source": [
    "t1 = (kW1 * 1000) / ((2 * math.pi * s1) / 60) # Torque\n",
    "print('Torque Green Gear = %3.3f newton meter' % t1)"
   ]
  },
  {
   "cell_type": "code",
   "execution_count": 11,
   "metadata": {},
   "outputs": [
    {
     "name": "stdout",
     "output_type": "stream",
     "text": [
      "Radius Green Gear = 20.000 millimeters\n"
     ]
    }
   ],
   "source": [
    "r1 = (p * n1) / (2 * math.pi)\n",
    "print('Radius Green Gear = %3.3f millimeters' % r1)"
   ]
  },
  {
   "cell_type": "code",
   "execution_count": 12,
   "metadata": {},
   "outputs": [
    {
     "name": "stdout",
     "output_type": "stream",
     "text": [
      "Radius Amber Gear = 100.000 millimeters\n"
     ]
    }
   ],
   "source": [
    "r2 = (p * n2) / (2 * math.pi)\n",
    "print('Radius Amber Gear = %3.3f millimeters' % r2)"
   ]
  },
  {
   "cell_type": "code",
   "execution_count": 13,
   "metadata": {},
   "outputs": [
    {
     "name": "stdout",
     "output_type": "stream",
     "text": [
      "Radius Yellow Gear = 15.000 millimeters\n"
     ]
    }
   ],
   "source": [
    "r3 = (p * n3) / (2 * math.pi)\n",
    "print('Radius Yellow Gear = %3.3f millimeters' % r3)"
   ]
  },
  {
   "cell_type": "code",
   "execution_count": 14,
   "metadata": {},
   "outputs": [
    {
     "name": "stdout",
     "output_type": "stream",
     "text": [
      "Radius Red Gear = 200.000 millimeters\n"
     ]
    }
   ],
   "source": [
    "r4 = (p * n4) / (2 * math.pi)\n",
    "print('Radius Red Gear = %3.3f millimeters' % r4)"
   ]
  },
  {
   "cell_type": "code",
   "execution_count": 15,
   "metadata": {},
   "outputs": [
    {
     "name": "stdout",
     "output_type": "stream",
     "text": [
      "Mechanical advantage Green to Amber = 5.000\n"
     ]
    }
   ],
   "source": [
    "ma1 = r2 / r1\n",
    "print('Mechanical advantage Green to Amber = %3.3f' % ma1)"
   ]
  },
  {
   "cell_type": "code",
   "execution_count": 16,
   "metadata": {},
   "outputs": [
    {
     "name": "stdout",
     "output_type": "stream",
     "text": [
      "Mechanical advantage Yellow to Red = 13.333\n"
     ]
    }
   ],
   "source": [
    "ma2 = r4 / r3\n",
    "print('Mechanical advantage Yellow to Red = %3.3f' % ma2)"
   ]
  },
  {
   "cell_type": "code",
   "execution_count": 17,
   "metadata": {},
   "outputs": [
    {
     "name": "stdout",
     "output_type": "stream",
     "text": [
      "Mechanical advantage Green to Red = 66.667\n"
     ]
    }
   ],
   "source": [
    "ma = ma1 * ma2\n",
    "print('Mechanical advantage Green to Red = %3.3f' % ma)"
   ]
  },
  {
   "cell_type": "code",
   "execution_count": 18,
   "metadata": {},
   "outputs": [
    {
     "name": "stdout",
     "output_type": "stream",
     "text": [
      "Torque Amber Gear = 3580.986 newton meter\n"
     ]
    }
   ],
   "source": [
    "t2 = t1 * ma1\n",
    "print('Torque Amber Gear = %3.3f newton meter' % t2)"
   ]
  },
  {
   "cell_type": "code",
   "execution_count": 19,
   "metadata": {},
   "outputs": [
    {
     "name": "stdout",
     "output_type": "stream",
     "text": [
      "Torque Yellow Gear = 3580.986 newton meter\n"
     ]
    }
   ],
   "source": [
    "t3 = t2\n",
    "print('Torque Yellow Gear = %3.3f newton meter' % t3)"
   ]
  },
  {
   "cell_type": "code",
   "execution_count": 20,
   "metadata": {},
   "outputs": [
    {
     "name": "stdout",
     "output_type": "stream",
     "text": [
      "Torque Read Gear = 47746.483 newton meter\n"
     ]
    }
   ],
   "source": [
    "t4 = t3 * ma2\n",
    "print('Torque Read Gear = %3.3f newton meter' % t4)"
   ]
  },
  {
   "cell_type": "code",
   "execution_count": 21,
   "metadata": {},
   "outputs": [
    {
     "name": "stdout",
     "output_type": "stream",
     "text": [
      "Speed Amber Gear = 4.000 rpm\n"
     ]
    }
   ],
   "source": [
    "s2 = (s1 * n1) / n2\n",
    "print('Speed Amber Gear = %2.3f rpm' % s2)"
   ]
  },
  {
   "cell_type": "code",
   "execution_count": 22,
   "metadata": {},
   "outputs": [
    {
     "name": "stdout",
     "output_type": "stream",
     "text": [
      "Speed Yellow Gear = 4.000 rpm\n"
     ]
    }
   ],
   "source": [
    "s3 = s2\n",
    "print('Speed Yellow Gear = %2.3f rpm' % s3)"
   ]
  },
  {
   "cell_type": "code",
   "execution_count": 23,
   "metadata": {},
   "outputs": [
    {
     "name": "stdout",
     "output_type": "stream",
     "text": [
      "Speed Red Gear = 0.300 rpm\n"
     ]
    }
   ],
   "source": [
    "s4 = (s3 * n3) / n4\n",
    "print('Speed Red Gear = %2.3f rpm' % s4)"
   ]
  },
  {
   "cell_type": "code",
   "execution_count": 24,
   "metadata": {},
   "outputs": [
    {
     "name": "stdout",
     "output_type": "stream",
     "text": [
      "Power Amber Gear = 1.500 kW\n"
     ]
    }
   ],
   "source": [
    "kW2 = (t2 * ((2 * math.pi * s2)) / 1000 / 60)\n",
    "print('Power Amber Gear = %2.3f kW' % kW2)"
   ]
  },
  {
   "cell_type": "code",
   "execution_count": 25,
   "metadata": {},
   "outputs": [
    {
     "name": "stdout",
     "output_type": "stream",
     "text": [
      "Power Amber Gear = 1.500 kW\n"
     ]
    }
   ],
   "source": [
    "kW3 = kW2\n",
    "print('Power Amber Gear = %2.3f kW' % kW3)"
   ]
  },
  {
   "cell_type": "code",
   "execution_count": 26,
   "metadata": {},
   "outputs": [
    {
     "name": "stdout",
     "output_type": "stream",
     "text": [
      "Power Amber Gear = 1.500 kW\n"
     ]
    }
   ],
   "source": [
    "kW4 = (t4 * ((2 * math.pi * s4)) / 1000 / 60)\n",
    "print('Power Amber Gear = %2.3f kW' % kW4)"
   ]
  },
  {
   "cell_type": "markdown",
   "metadata": {},
   "source": [
    "# Results"
   ]
  },
  {
   "cell_type": "code",
   "execution_count": 27,
   "metadata": {},
   "outputs": [
    {
     "name": "stdout",
     "output_type": "stream",
     "text": [
      "Apply Green  1.500 kW ( 716.197 newton meter) on  20 Teeth turning at  20.000 rpm\n",
      "Supply Amber 1.500 kW (3580.986 newton meter) on 100 Teeth turning at   4.000 rpm\n"
     ]
    }
   ],
   "source": [
    "print('Apply Green  %5.3f kW (%8.3f newton meter) on %3.0f Teeth turning at %7.3f rpm' % (kW1, t1, n1, s1))\n",
    "print('Supply Amber %5.3f kW (%8.3f newton meter) on %3.0f Teeth turning at %7.3f rpm' % (kW2, t2, n2, s2))"
   ]
  },
  {
   "cell_type": "code",
   "execution_count": 28,
   "metadata": {},
   "outputs": [
    {
     "name": "stdout",
     "output_type": "stream",
     "text": [
      "Apply Yellow 1.500 kW (3580.986 newton meter) on  15 Teeth turning at   4.000 rpm\n",
      "Supply Red   1.500 kW (47746.483 newton meter) on 200 Teeth turning at   0.300 rpm\n"
     ]
    }
   ],
   "source": [
    "print('Apply Yellow %5.3f kW (%8.3f newton meter) on %3.0f Teeth turning at %7.3f rpm' % (kW3, t3, n3, s3))\n",
    "print('Supply Red   %5.3f kW (%8.3f newton meter) on %3.0f Teeth turning at %7.3f rpm' % (kW4, t4, n4, s4))"
   ]
  },
  {
   "cell_type": "code",
   "execution_count": 29,
   "metadata": {},
   "outputs": [
    {
     "name": "stdout",
     "output_type": "stream",
     "text": [
      "Power: 66.667 factor\n",
      "Speed:  0.015 factor\n"
     ]
    }
   ],
   "source": [
    "pg = t4/t1\n",
    "sg = s4/s1\n",
    "print('Power: %6.3f factor' % pg)\n",
    "print('Speed: %6.3f factor' % sg)"
   ]
  },
  {
   "cell_type": "code",
   "execution_count": 30,
   "metadata": {},
   "outputs": [
    {
     "name": "stdout",
     "output_type": "stream",
     "text": [
      "Teeth: 20.000 x 100.000 = 15.000 x 200.000\n"
     ]
    }
   ],
   "source": [
    "print('Teeth: %5.3f x %5.3f = %5.3f x %5.3f' % (n1, n2, n3, n4))"
   ]
  },
  {
   "cell_type": "code",
   "execution_count": 31,
   "metadata": {},
   "outputs": [
    {
     "name": "stdout",
     "output_type": "stream",
     "text": [
      "Speed: 20.000 x 4.000 = 4.000 x 0.300\n"
     ]
    }
   ],
   "source": [
    "print('Speed: %5.3f x %5.3f = %5.3f x %5.3f' % (s1, s2, s3, s4))"
   ]
  },
  {
   "cell_type": "code",
   "execution_count": 32,
   "metadata": {},
   "outputs": [
    {
     "name": "stdout",
     "output_type": "stream",
     "text": [
      "Ratio Speed => Stage One: 0.2000 Stage Two: 0.0750 Total: 0.0150\n"
     ]
    }
   ],
   "source": [
    "print('Ratio Speed => Stage One: %5.4f Stage Two: %5.4f Total: %5.4f' % (s2/s1, s4/s3, s4/s1))"
   ]
  },
  {
   "cell_type": "code",
   "execution_count": 33,
   "metadata": {},
   "outputs": [
    {
     "name": "stdout",
     "output_type": "stream",
     "text": [
      "Ratio Torque => Stage One: 5.0000 Stage Two: 13.3333 Total: 66.6667\n"
     ]
    }
   ],
   "source": [
    "print('Ratio Torque => Stage One: %5.4f Stage Two: %5.4f Total: %5.4f' % (t2/t1, t4/t3, t4/t1))"
   ]
  },
  {
   "cell_type": "markdown",
   "metadata": {},
   "source": [
    "## Done"
   ]
  },
  {
   "cell_type": "code",
   "execution_count": 34,
   "metadata": {},
   "outputs": [
    {
     "name": "stdout",
     "output_type": "stream",
     "text": [
      "Done! 2019-04-28 16:14:57.035672\n"
     ]
    }
   ],
   "source": [
    "import datetime\n",
    "now = datetime.datetime.now()\n",
    "print('Done!',str(now))"
   ]
  }
 ],
 "metadata": {
  "kernelspec": {
   "display_name": "Python 3",
   "language": "python",
   "name": "python3"
  },
  "language_info": {
   "codemirror_mode": {
    "name": "ipython",
    "version": 3
   },
   "file_extension": ".py",
   "mimetype": "text/x-python",
   "name": "python",
   "nbconvert_exporter": "python",
   "pygments_lexer": "ipython3",
   "version": "3.7.1"
  }
 },
 "nbformat": 4,
 "nbformat_minor": 2
}
