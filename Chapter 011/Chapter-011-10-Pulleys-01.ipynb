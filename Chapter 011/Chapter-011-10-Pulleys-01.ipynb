{
 "cells": [
  {
   "cell_type": "markdown",
   "metadata": {},
   "source": [
    "## Apress - Industrialized Machine Learning Examples\n",
    "\n",
    "Andreas Francois Vermeulen\n",
    "2019\n",
    "\n",
    "### This is an example add-on to a book and needs to be accepted as part of that copyright."
   ]
  },
  {
   "cell_type": "markdown",
   "metadata": {},
   "source": [
    "## Chapter-011-10-Pulleys-01"
   ]
  },
  {
   "cell_type": "code",
   "execution_count": 1,
   "metadata": {},
   "outputs": [],
   "source": [
    "import matplotlib\n",
    "matplotlib.use('TkAgg')\n",
    "%matplotlib inline\n",
    "\n",
    "import math\n",
    "import numpy as np\n",
    "from matplotlib import pyplot as plt"
   ]
  },
  {
   "cell_type": "code",
   "execution_count": 2,
   "metadata": {},
   "outputs": [
    {
     "data": {
      "image/png": "[encoded data removed]",
      "text/plain": [
       "<Figure size 432x288 with 1 Axes>"
      ]
     },
     "metadata": {
      "needs_background": "light"
     },
     "output_type": "display_data"
    }
   ],
   "source": [
    "Pulleys=1\n",
    "\n",
    "Force_Loc = [0,0]\n",
    "Load_Loc = [100,0]\n",
    "Pulley_Loc = [20,100]\n",
    "\n",
    "dead_weight = 1000\n",
    "tow_resistance = 0.01\n",
    "\n",
    "\n",
    "data = np.array([\n",
    "    Force_Loc,\n",
    "    Pulley_Loc,\n",
    "    Load_Loc\n",
    "    ])\n",
    "\n",
    "x, y = data.T\n",
    "\n",
    "plt.plot(x, y, 'black', linestyle='--', marker='D', linewidth=2.0)\n",
    "plt.show()"
   ]
  },
  {
   "cell_type": "code",
   "execution_count": 3,
   "metadata": {},
   "outputs": [
    {
     "name": "stdout",
     "output_type": "stream",
     "text": [
      "You are 101.98039 meters from pulley system\n"
     ]
    }
   ],
   "source": [
    "x1=Force_Loc[0]\n",
    "y1=Force_Loc[1]\n",
    "x2=Pulley_Loc[0]\n",
    "y2=Pulley_Loc[1]\n",
    "dist_force_pulley = math.hypot(x2 - x1, y2 - y1)\n",
    "print('You are %0.5f meters from pulley system' % dist_force_pulley)"
   ]
  },
  {
   "cell_type": "code",
   "execution_count": 4,
   "metadata": {},
   "outputs": [
    {
     "name": "stdout",
     "output_type": "stream",
     "text": [
      "You are 128.06248 meters from load and need 128.06248 meters of cable in pulleys when using 1 pulleys\n"
     ]
    }
   ],
   "source": [
    "x1=Pulley_Loc[0]\n",
    "y1=Pulley_Loc[1]\n",
    "x2=Load_Loc[0]\n",
    "y2=Load_Loc[1]\n",
    "dist_pulley_load = math.hypot(x2 - x1, y2 - y1)\n",
    "dist_pulleys_load = dist_pulley_load * (2**(Pulleys-1))\n",
    "print('You are %0.5f meters from load and need %0.5f meters of cable in pulleys when using %0d pulleys' % (dist_pulley_load, dist_pulleys_load, Pulleys))"
   ]
  },
  {
   "cell_type": "code",
   "execution_count": 5,
   "metadata": {},
   "outputs": [
    {
     "name": "stdout",
     "output_type": "stream",
     "text": [
      "You need minimum 230.04288 meters of cable in system when using 1 pulleys\n"
     ]
    }
   ],
   "source": [
    "minimum_cable_length = (dist_force_pulley + dist_pulleys_load)\n",
    "print('You need minimum %0.5f meters of cable in system when using %0d pulleys' % (minimum_cable_length, Pulleys))"
   ]
  },
  {
   "cell_type": "code",
   "execution_count": 6,
   "metadata": {},
   "outputs": [
    {
     "name": "stdout",
     "output_type": "stream",
     "text": [
      "System needs a 9904.71650 newton force when using 1 pulleys for a 9904.71650 newton load \n",
      " (1000.000 kg of dead weight with tow resistance of 1.000 %)\n"
     ]
    }
   ],
   "source": [
    "tow_weight = dead_weight  * (1 + tow_resistance)\n",
    "\n",
    "Load_Needed = (tow_weight * 9.80665)\n",
    "\n",
    "mechanical_advantage = (2**(Pulleys-1))\n",
    "Force_Needed = Load_Needed/mechanical_advantage\n",
    "\n",
    "print('System needs a %0.5f newton force when using %0d pulleys for a %0.5f newton load \\n (%0.3f kg of dead weight with tow resistance of %0.3f %%)' % (Force_Needed, Pulleys, Load_Needed, dead_weight, tow_resistance*100))\n"
   ]
  },
  {
   "cell_type": "markdown",
   "metadata": {},
   "source": [
    "## Done"
   ]
  },
  {
   "cell_type": "code",
   "execution_count": 7,
   "metadata": {},
   "outputs": [
    {
     "name": "stdout",
     "output_type": "stream",
     "text": [
      "Done! 2019-04-28 15:54:07.980147\n"
     ]
    }
   ],
   "source": [
    "import datetime\n",
    "now = datetime.datetime.now()\n",
    "print('Done!',str(now))"
   ]
  }
 ],
 "metadata": {
  "kernelspec": {
   "display_name": "Python 3",
   "language": "python",
   "name": "python3"
  },
  "language_info": {
   "codemirror_mode": {
    "name": "ipython",
    "version": 3
   },
   "file_extension": ".py",
   "mimetype": "text/x-python",
   "name": "python",
   "nbconvert_exporter": "python",
   "pygments_lexer": "ipython3",
   "version": "3.7.1"
  }
 },
 "nbformat": 4,
 "nbformat_minor": 2
}
