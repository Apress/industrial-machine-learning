{
 "cells": [
  {
   "cell_type": "markdown",
   "metadata": {},
   "source": [
    "## Apress - Industrialized Machine Learning Examples\n",
    "\n",
    "Andreas Francois Vermeulen\n",
    "2019\n",
    "\n",
    "### This is an example add-on to a book and needs to be accepted as part of that copyright."
   ]
  },
  {
   "cell_type": "markdown",
   "metadata": {},
   "source": [
    "## Chapter-011-02-Multi-Processing-01B - Increase Load"
   ]
  },
  {
   "cell_type": "markdown",
   "metadata": {},
   "source": [
    "## Threading"
   ]
  },
  {
   "cell_type": "code",
   "execution_count": 1,
   "metadata": {},
   "outputs": [],
   "source": [
    "import random\n",
    "import threading"
   ]
  },
  {
   "cell_type": "code",
   "execution_count": 2,
   "metadata": {},
   "outputs": [],
   "source": [
    "def list_append(count, id, out_list):\n",
    "    random.seed(1968)\n",
    "    for i in range(count):\n",
    "        out_list.append(random.random())"
   ]
  },
  {
   "cell_type": "code",
   "execution_count": 3,
   "metadata": {},
   "outputs": [],
   "source": [
    "totalsize = int(10e4)   # Number of random numbers to add"
   ]
  },
  {
   "cell_type": "code",
   "execution_count": 4,
   "metadata": {},
   "outputs": [],
   "source": [
    "def Run_Threads(threads):\n",
    "    jobs = []\n",
    "    for i in range(0, threads):\n",
    "        out_list = list()\n",
    "        thread = threading.Thread(target=list_append(size, i, out_list))\n",
    "        jobs.append(thread)\n",
    "\n",
    "    # Start the threads (i.e. calculate the random number lists)\n",
    "    for j in jobs:\n",
    "        j.start()\n",
    "\n",
    "    # Ensure all of the threads have finished\n",
    "    for j in jobs:\n",
    "        j.join()"
   ]
  },
  {
   "cell_type": "code",
   "execution_count": 5,
   "metadata": {},
   "outputs": [
    {
     "name": "stdout",
     "output_type": "stream",
     "text": [
      "  0 - Processing complete:     1 threads for   100000 calculations:\n",
      "Wall time: 29 ms\n",
      "  1 - Processing complete:     2 threads for   200000 calculations:\n",
      "Wall time: 57 ms\n",
      "  2 - Processing complete:     4 threads for   400000 calculations:\n",
      "Wall time: 109 ms\n",
      "  3 - Processing complete:     8 threads for   800000 calculations:\n",
      "Wall time: 236 ms\n",
      "  4 - Processing complete:    16 threads for  1600000 calculations:\n",
      "Wall time: 451 ms\n",
      "  5 - Processing complete:    32 threads for  3200000 calculations:\n",
      "Wall time: 833 ms\n",
      "  6 - Processing complete:    64 threads for  6400000 calculations:\n",
      "Wall time: 1.74 s\n",
      "  7 - Processing complete:   128 threads for 12800000 calculations:\n",
      "Wall time: 3.31 s\n",
      "  8 - Processing complete:   256 threads for 25600000 calculations:\n",
      "Wall time: 6.52 s\n",
      "  9 - Processing complete:   512 threads for 51200000 calculations:\n",
      "Wall time: 13 s\n",
      " 10 - Processing complete:  1024 threads for 102400000 calculations:\n",
      "Wall time: 26.3 s\n"
     ]
    }
   ],
   "source": [
    "for t in range(0,11):\n",
    "    threads=2**t\n",
    "    size = int(totalsize)    \n",
    "    print (\"%3d - Processing complete: %5d threads for %8d calculations:\" % (t, threads,(threads*size)))\n",
    "    %time Run_Threads(threads)     # Number of threads to create"
   ]
  },
  {
   "cell_type": "markdown",
   "metadata": {},
   "source": [
    "## Done"
   ]
  },
  {
   "cell_type": "code",
   "execution_count": 6,
   "metadata": {},
   "outputs": [
    {
     "name": "stdout",
     "output_type": "stream",
     "text": [
      "Done! 2019-04-28 10:44:05.876549\n"
     ]
    }
   ],
   "source": [
    "import datetime\n",
    "now = datetime.datetime.now()\n",
    "print('Done!',str(now))"
   ]
  }
 ],
 "metadata": {
  "kernelspec": {
   "display_name": "Python 3",
   "language": "python",
   "name": "python3"
  },
  "language_info": {
   "codemirror_mode": {
    "name": "ipython",
    "version": 3
   },
   "file_extension": ".py",
   "mimetype": "text/x-python",
   "name": "python",
   "nbconvert_exporter": "python",
   "pygments_lexer": "ipython3",
   "version": "3.7.3"
  }
 },
 "nbformat": 4,
 "nbformat_minor": 2
}
