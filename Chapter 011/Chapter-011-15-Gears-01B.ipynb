{
 "cells": [
  {
   "cell_type": "markdown",
   "metadata": {},
   "source": [
    "## Apress - Industrialized Machine Learning Examples\n",
    "\n",
    "Andreas Francois Vermeulen\n",
    "2019\n",
    "\n",
    "### This is an example add-on to a book and needs to be accepted as part of that copyright."
   ]
  },
  {
   "cell_type": "markdown",
   "metadata": {},
   "source": [
    "## Chapter-011-15-Gears-01B"
   ]
  },
  {
   "cell_type": "code",
   "execution_count": 1,
   "metadata": {},
   "outputs": [],
   "source": [
    "import math\n",
    "\n",
    "kW1 = 1.5 # kilowatt on Gear Green\n",
    "s1 = 20   # Revolutions per minutes of Gear Green\n",
    "n1 = 20   # Teeth Gear Green\n",
    "n2 = 100  # Teeth Gear Amber"
   ]
  },
  {
   "cell_type": "markdown",
   "metadata": {},
   "source": [
    "### ISO Gear Sizing\n",
    "Module (m) \n",
    "m = 1 (p = 3.1416) \n",
    "m = 2 (p = 6.2832) \n",
    "m = 4 (p = 12.566)"
   ]
  },
  {
   "cell_type": "code",
   "execution_count": 2,
   "metadata": {},
   "outputs": [],
   "source": [
    "m = 2"
   ]
  },
  {
   "cell_type": "code",
   "execution_count": 3,
   "metadata": {},
   "outputs": [
    {
     "name": "stdout",
     "output_type": "stream",
     "text": [
      "Pitch of Teeth: 6.283185 \n"
     ]
    }
   ],
   "source": [
    "p = math.pi * m\n",
    "print('Pitch of Teeth: %3.6f ' % p)"
   ]
  },
  {
   "cell_type": "code",
   "execution_count": 4,
   "metadata": {},
   "outputs": [
    {
     "name": "stdout",
     "output_type": "stream",
     "text": [
      "Diameter for Green ISO Module gear is  40.000 millimeters\n"
     ]
    }
   ],
   "source": [
    "D1 = (p * n1) / math.pi\n",
    "print('Diameter for Green ISO Module gear is  %5.3f millimeters' % D1)"
   ]
  },
  {
   "cell_type": "code",
   "execution_count": 5,
   "metadata": {},
   "outputs": [
    {
     "name": "stdout",
     "output_type": "stream",
     "text": [
      "Diameter for Amber ISO Module gear is  200.000 millimeters\n"
     ]
    }
   ],
   "source": [
    "D2 = (p * n2) / math.pi\n",
    "print('Diameter for Amber ISO Module gear is  %5.3f millimeters' % D2)"
   ]
  },
  {
   "cell_type": "code",
   "execution_count": 6,
   "metadata": {},
   "outputs": [
    {
     "name": "stdout",
     "output_type": "stream",
     "text": [
      "Torque Green Gear = 716.197 newton meter\n"
     ]
    }
   ],
   "source": [
    "t1 = (kW1 * 1000) / ((2 * math.pi * s1) / 60) # Torque\n",
    "print('Torque Green Gear = %3.3f newton meter' % t1)"
   ]
  },
  {
   "cell_type": "code",
   "execution_count": 7,
   "metadata": {},
   "outputs": [
    {
     "name": "stdout",
     "output_type": "stream",
     "text": [
      "Radius Green Gear = 20.000 millimeters\n"
     ]
    }
   ],
   "source": [
    "r1 = (p * n1) / (2 * math.pi)\n",
    "print('Radius Green Gear = %3.3f millimeters' % r1)"
   ]
  },
  {
   "cell_type": "code",
   "execution_count": 8,
   "metadata": {},
   "outputs": [
    {
     "name": "stdout",
     "output_type": "stream",
     "text": [
      "Radius Amber Gear = 100.000 millimeters\n"
     ]
    }
   ],
   "source": [
    "r2 = (p * n2) / (2 * math.pi)\n",
    "print('Radius Amber Gear = %3.3f millimeters' % r2)"
   ]
  },
  {
   "cell_type": "code",
   "execution_count": 9,
   "metadata": {},
   "outputs": [
    {
     "name": "stdout",
     "output_type": "stream",
     "text": [
      "Mechanical advantage = 5.000\n"
     ]
    }
   ],
   "source": [
    "ma = r2 / r1\n",
    "print('Mechanical advantage = %3.3f' % ma)"
   ]
  },
  {
   "cell_type": "code",
   "execution_count": 10,
   "metadata": {},
   "outputs": [
    {
     "name": "stdout",
     "output_type": "stream",
     "text": [
      "Torque Amber Gear = 3580.986 newton meter\n"
     ]
    }
   ],
   "source": [
    "t2 = t1 * ma\n",
    "print('Torque Amber Gear = %3.3f newton meter' % t2)"
   ]
  },
  {
   "cell_type": "code",
   "execution_count": 11,
   "metadata": {},
   "outputs": [
    {
     "name": "stdout",
     "output_type": "stream",
     "text": [
      "Speed Amber Gear = 4.000 rpm\n"
     ]
    }
   ],
   "source": [
    "s2 = (s1 * n1) / n2\n",
    "print('Speed Amber Gear = %2.3f rpm' % s2)"
   ]
  },
  {
   "cell_type": "code",
   "execution_count": 12,
   "metadata": {},
   "outputs": [
    {
     "name": "stdout",
     "output_type": "stream",
     "text": [
      "Power Amber Gear = 1.500 kW\n"
     ]
    }
   ],
   "source": [
    "kW2 = (t2 * ((2 * math.pi * s2)) / 1000 / 60)\n",
    "print('Power Amber Gear = %2.3f kW' % kW2)"
   ]
  },
  {
   "cell_type": "markdown",
   "metadata": {},
   "source": [
    "# Results"
   ]
  },
  {
   "cell_type": "code",
   "execution_count": 13,
   "metadata": {},
   "outputs": [
    {
     "name": "stdout",
     "output_type": "stream",
     "text": [
      "Apply Green  1.500 kW ( 716.197 newton meter) on  20 Teeth turning at  20.000 rpm\n",
      "Supply Amber 1.500 kW (3580.986 newton meter) on 100 Teeth turning at   4.000 rpm\n"
     ]
    }
   ],
   "source": [
    "print('Apply Green  %5.3f kW (%8.3f newton meter) on %3.0f Teeth turning at %7.3f rpm' % (kW1, t1, n1, s1))\n",
    "print('Supply Amber %5.3f kW (%8.3f newton meter) on %3.0f Teeth turning at %7.3f rpm' % (kW2, t2, n2, s2))"
   ]
  },
  {
   "cell_type": "code",
   "execution_count": 14,
   "metadata": {},
   "outputs": [
    {
     "name": "stdout",
     "output_type": "stream",
     "text": [
      "Power: 5.000 factor\n",
      "Speed: 0.200 factor\n"
     ]
    }
   ],
   "source": [
    "pg = t2/t1\n",
    "sg = s2/s1\n",
    "print('Power: %5.3f factor' % pg)\n",
    "print('Speed: %5.3f factor' % sg)"
   ]
  },
  {
   "cell_type": "markdown",
   "metadata": {},
   "source": [
    "## Done"
   ]
  },
  {
   "cell_type": "code",
   "execution_count": 15,
   "metadata": {},
   "outputs": [
    {
     "name": "stdout",
     "output_type": "stream",
     "text": [
      "Done! 2019-04-28 16:04:32.812681\n"
     ]
    }
   ],
   "source": [
    "import datetime\n",
    "now = datetime.datetime.now()\n",
    "print('Done!',str(now))"
   ]
  }
 ],
 "metadata": {
  "kernelspec": {
   "display_name": "Python 3",
   "language": "python",
   "name": "python3"
  },
  "language_info": {
   "codemirror_mode": {
    "name": "ipython",
    "version": 3
   },
   "file_extension": ".py",
   "mimetype": "text/x-python",
   "name": "python",
   "nbconvert_exporter": "python",
   "pygments_lexer": "ipython3",
   "version": "3.7.1"
  }
 },
 "nbformat": 4,
 "nbformat_minor": 2
}
