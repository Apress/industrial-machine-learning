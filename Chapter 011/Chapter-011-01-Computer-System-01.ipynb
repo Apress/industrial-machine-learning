{
 "cells": [
  {
   "cell_type": "markdown",
   "metadata": {},
   "source": [
    "## Apress - Industrialized Machine Learning Examples\n",
    "\n",
    "Andreas Francois Vermeulen\n",
    "2019\n",
    "\n",
    "### This is an example add-on to a book and needs to be accepted as part of that copyright."
   ]
  },
  {
   "cell_type": "markdown",
   "metadata": {},
   "source": [
    "## Chapter-011-01-Computer-System-01"
   ]
  },
  {
   "cell_type": "code",
   "execution_count": 1,
   "metadata": {},
   "outputs": [
    {
     "name": "stdout",
     "output_type": "stream",
     "text": [
      "Your computer hostname is: RAPTORQUBE\n"
     ]
    }
   ],
   "source": [
    "import platform\n",
    "print('Your computer hostname is:',platform.node())"
   ]
  },
  {
   "cell_type": "code",
   "execution_count": 2,
   "metadata": {},
   "outputs": [
    {
     "name": "stdout",
     "output_type": "stream",
     "text": [
      "Operating system is: Windows\n"
     ]
    }
   ],
   "source": [
    "import platform\n",
    "print('Operating system is:',platform.system())"
   ]
  },
  {
   "cell_type": "code",
   "execution_count": 3,
   "metadata": {},
   "outputs": [
    {
     "name": "stdout",
     "output_type": "stream",
     "text": [
      "Your computer CPU is: AMD64 Family 16 Model 5 Stepping 3, AuthenticAMD\n"
     ]
    }
   ],
   "source": [
    "import platform, subprocess\n",
    "\n",
    "def get_processor_info():\n",
    "    if platform.system() == \"Windows\":\n",
    "        return platform.processor()\n",
    "    elif platform.system() == \"Darwin\":\n",
    "        return subprocess.check_output(['/usr/sbin/sysctl', \"-n\", \"machdep.cpu.brand_string\"]).strip()\n",
    "    elif platform.system() == \"Linux\":\n",
    "        command = \"cat /proc/cpuinfo\"\n",
    "        return subprocess.check_output(command, shell=True).strip()\n",
    "    return \"\"\n",
    "cpustr = get_processor_info()\n",
    "\n",
    "print('Your computer CPU is:', cpustr)"
   ]
  },
  {
   "cell_type": "code",
   "execution_count": 4,
   "metadata": {},
   "outputs": [
    {
     "name": "stdout",
     "output_type": "stream",
     "text": [
      "Your CPU load is: 75.0\n"
     ]
    }
   ],
   "source": [
    "import psutil\n",
    "\n",
    "print('Your CPU load is:', psutil.cpu_percent())"
   ]
  },
  {
   "cell_type": "code",
   "execution_count": 5,
   "metadata": {},
   "outputs": [
    {
     "name": "stdout",
     "output_type": "stream",
     "text": [
      "Your memory profile is: svmem(total=6441373696, available=3480449024, percent=46.0, used=2960924672, free=3480449024)\n"
     ]
    }
   ],
   "source": [
    "print('Your memory profile is:', psutil.virtual_memory())"
   ]
  },
  {
   "cell_type": "code",
   "execution_count": 6,
   "metadata": {},
   "outputs": [
    {
     "name": "stdout",
     "output_type": "stream",
     "text": [
      "Your memory profile is: \n",
      " ------------------------------\n",
      "total = 6441373696\n",
      "available = 3475374080\n",
      "percent = 46.0\n",
      "used = 2965999616\n",
      "free = 3475374080\n"
     ]
    }
   ],
   "source": [
    "# If you want to seperate the values:\n",
    "mdict=dict(psutil.virtual_memory()._asdict())\n",
    "print('Your memory profile is:','\\n','-'*30)\n",
    "for mkey in mdict.keys():\n",
    "    print(mkey,'=',mdict[mkey])"
   ]
  },
  {
   "cell_type": "code",
   "execution_count": 7,
   "metadata": {},
   "outputs": [
    {
     "name": "stdout",
     "output_type": "stream",
     "text": [
      "Your computer hostname is: RAPTORQUBE\n"
     ]
    }
   ],
   "source": [
    "import socket\n",
    "print('Your computer hostname is:', socket.gethostname())"
   ]
  },
  {
   "cell_type": "code",
   "execution_count": 8,
   "metadata": {},
   "outputs": [
    {
     "name": "stdout",
     "output_type": "stream",
     "text": [
      "Your python program is:\n"
     ]
    },
    {
     "data": {
      "text/plain": [
       "'C:\\\\Users\\\\AndreVermeulen\\\\.conda\\\\envs\\\\py37\\\\python.EXE'"
      ]
     },
     "execution_count": 8,
     "metadata": {},
     "output_type": "execute_result"
    }
   ],
   "source": [
    "import shutil\n",
    "print('Your python program is:')\n",
    "shutil.which(\"python\")"
   ]
  },
  {
   "cell_type": "code",
   "execution_count": 9,
   "metadata": {},
   "outputs": [
    {
     "name": "stdout",
     "output_type": "stream",
     "text": [
      "Total: 984258441216\n",
      "Used : 604970573824\n",
      "Free : 379287867392\n"
     ]
    }
   ],
   "source": [
    "import shutil\n",
    "\n",
    "total, used, free = shutil.disk_usage('/')\n",
    "print('Total:', total)\n",
    "print('Used :', used)\n",
    "print('Free :', free)"
   ]
  },
  {
   "cell_type": "code",
   "execution_count": 10,
   "metadata": {},
   "outputs": [
    {
     "name": "stdout",
     "output_type": "stream",
     "text": [
      "Your IP address is 192.168.0.217\n"
     ]
    }
   ],
   "source": [
    "import socket\n",
    "print('Your IP address is', socket.gethostbyname(socket.gethostname()))"
   ]
  },
  {
   "cell_type": "code",
   "execution_count": 11,
   "metadata": {},
   "outputs": [
    {
     "name": "stdout",
     "output_type": "stream",
     "text": [
      "Your IP address is 192.168.0.217\n"
     ]
    }
   ],
   "source": [
    "import socket\n",
    "s = socket.socket(socket.AF_INET, socket.SOCK_DGRAM)\n",
    "s.connect(('10.255.255.255', 1))\n",
    "print('Your IP address is', s.getsockname()[0])\n",
    "s.close()"
   ]
  },
  {
   "cell_type": "code",
   "execution_count": 12,
   "metadata": {},
   "outputs": [
    {
     "data": {
      "text/plain": [
       "['192.168.0.217']"
      ]
     },
     "execution_count": 12,
     "metadata": {},
     "output_type": "execute_result"
    }
   ],
   "source": [
    "socket.gethostbyname_ex(socket.gethostname())[-1]"
   ]
  },
  {
   "cell_type": "code",
   "execution_count": 13,
   "metadata": {},
   "outputs": [
    {
     "name": "stdout",
     "output_type": "stream",
     "text": [
      "192.168.0.217\n"
     ]
    }
   ],
   "source": [
    "import socket\n",
    "print((([ip for ip in socket.gethostbyname_ex(socket.gethostname())[2] if not ip.startswith(\"127.\")] or [[(s.connect((\"8.8.8.8\", 53)), s.getsockname()[0], s.close()) for s in [socket.socket(socket.AF_INET, socket.SOCK_DGRAM)]][0][1]]) + [\"no IP found\"])[0])"
   ]
  },
  {
   "cell_type": "code",
   "execution_count": 14,
   "metadata": {},
   "outputs": [],
   "source": [
    "#!pip install netifaces"
   ]
  },
  {
   "cell_type": "code",
   "execution_count": 15,
   "metadata": {},
   "outputs": [
    {
     "name": "stdout",
     "output_type": "stream",
     "text": [
      "{B9869FEC-169B-46E2-A281-7389A5ABD0C7} [{'addr': '192.168.0.217', 'netmask': '255.255.255.0', 'broadcast': '192.168.0.255'}]\n",
      "{439C90DB-E042-11E7-800F-806E6F6E6963} [{'addr': '127.0.0.1', 'netmask': '255.0.0.0', 'broadcast': '127.255.255.255'}]\n"
     ]
    }
   ],
   "source": [
    "import netifaces\n",
    "\n",
    "for intface in netifaces.interfaces():\n",
    "    addrs = netifaces.ifaddresses(intface)\n",
    "    try:\n",
    "        print(intface, addrs[netifaces.AF_INET])\n",
    "    except:\n",
    "        None"
   ]
  },
  {
   "cell_type": "code",
   "execution_count": 16,
   "metadata": {},
   "outputs": [
    {
     "name": "stdout",
     "output_type": "stream",
     "text": [
      "network Default Gateway: 192.168.0.1\n"
     ]
    }
   ],
   "source": [
    "gws = netifaces.gateways()\n",
    "print('network Default Gateway:', gws['default'][netifaces.AF_INET][0])"
   ]
  },
  {
   "cell_type": "code",
   "execution_count": 17,
   "metadata": {},
   "outputs": [
    {
     "name": "stdout",
     "output_type": "stream",
     "text": [
      "Main disk sizes:\n",
      "Total: 916.662 MB\n",
      "Used : 563.423 MB\n",
      "Free : 353.239 MB\n"
     ]
    }
   ],
   "source": [
    "x = shutil.disk_usage('/')\n",
    "print('Main disk sizes:')\n",
    "print('Total:', format(x.total / 1024 / 1024 / 1024, '0.3f'),'MB')\n",
    "print('Used :', format(x.used / 1024 / 1024 / 1024, '0.3f'),'MB')\n",
    "print('Free :', format(x.free / 1024 / 1024 / 1024, '0.3f'),'MB')"
   ]
  },
  {
   "cell_type": "code",
   "execution_count": 18,
   "metadata": {},
   "outputs": [],
   "source": [
    "#!pip install pythonping"
   ]
  },
  {
   "cell_type": "code",
   "execution_count": 19,
   "metadata": {},
   "outputs": [
    {
     "name": "stdout",
     "output_type": "stream",
     "text": [
      "Minimum Return 18.09 ms\n",
      "Average Return 18.46 ms\n",
      "Maximum Return 19.61 ms\n"
     ]
    }
   ],
   "source": [
    "from pythonping import ping\n",
    "response_list = ping('8.8.8.8', count=20, size=100, timeout=1, verbose=False)\n",
    "print('Minimum Return %5.2f ms' % (response_list.rtt_min_ms))\n",
    "print('Average Return %5.2f ms' % (response_list.rtt_avg_ms))\n",
    "print('Maximum Return %5.2f ms' % (response_list.rtt_max_ms))\n",
    "#print(response_list)"
   ]
  },
  {
   "cell_type": "markdown",
   "metadata": {},
   "source": [
    "## Done"
   ]
  },
  {
   "cell_type": "code",
   "execution_count": 20,
   "metadata": {},
   "outputs": [
    {
     "name": "stdout",
     "output_type": "stream",
     "text": [
      "Done! 2019-04-28 08:00:57.684689\n"
     ]
    }
   ],
   "source": [
    "import datetime\n",
    "now = datetime.datetime.now()\n",
    "print('Done!',str(now))"
   ]
  }
 ],
 "metadata": {
  "kernelspec": {
   "display_name": "Python 3",
   "language": "python",
   "name": "python3"
  },
  "language_info": {
   "codemirror_mode": {
    "name": "ipython",
    "version": 3
   },
   "file_extension": ".py",
   "mimetype": "text/x-python",
   "name": "python",
   "nbconvert_exporter": "python",
   "pygments_lexer": "ipython3",
   "version": "3.7.1"
  }
 },
 "nbformat": 4,
 "nbformat_minor": 2
}
