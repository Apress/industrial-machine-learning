{
 "cells": [
  {
   "cell_type": "markdown",
   "metadata": {},
   "source": [
    "## Apress - Industrialized Machine Learning Examples\n",
    "\n",
    "Andreas Francois Vermeulen\n",
    "2019\n",
    "\n",
    "### This is an example add-on to a book and needs to be accepted as part of that copyright."
   ]
  },
  {
   "cell_type": "markdown",
   "metadata": {},
   "source": [
    "## Chapter-009-005-Activity-Selection-Problem-01"
   ]
  },
  {
   "cell_type": "code",
   "execution_count": 1,
   "metadata": {},
   "outputs": [],
   "source": [
    "\"\"\"The following implementation assumes that the activities are already sorted according to their finish time\"\"\"\n",
    "  \n",
    "\"\"\"Prints a maximum set of activities that can be done by a single person, one at a time\"\"\"\n",
    "# n --> Total number of activities \n",
    "# s[]--> An array that contains start time of all activities \n",
    "# f[] --> An array that contains finish time of all activities \n",
    "  \n",
    "\n",
    "def printMaxActivities(a, s , f ): \n",
    "    n = len(f) \n",
    "    print (\"The following activities are selected\")\n",
    "  \n",
    "    # The first activity is always selected \n",
    "    i = 0\n",
    "    print ('Activity: %s Start: %02dH00 Finish: %02dH00' % (a[i],s[i],f[i]))\n",
    "   \n",
    "    # Consider rest of the activities \n",
    "    for j in range(n): \n",
    "  \n",
    "        # If this activity has start time greater than \n",
    "        # or equal to the finish time of previously \n",
    "        # selected activity, then select it \n",
    "        if s[j] >= f[i]: \n",
    "            print ('Activity: %s Start: %02dH00 Finish: %02dH00' % (a[j],s[j],f[j]))\n",
    "            i = j"
   ]
  },
  {
   "cell_type": "code",
   "execution_count": 2,
   "metadata": {},
   "outputs": [
    {
     "name": "stdout",
     "output_type": "stream",
     "text": [
      "The following activities are selected\n",
      "Activity: A Start: 01H00 Finish: 02H00\n",
      "Activity: B Start: 03H00 Finish: 04H00\n",
      "Activity: D Start: 05H00 Finish: 07H00\n",
      "Activity: E Start: 08H00 Finish: 09H00\n"
     ]
    }
   ],
   "source": [
    "# Data to test above function \n",
    "a = ['A', 'B', 'C', 'D', 'E', 'F']\n",
    "s = [1 , 3 , 0 , 5 , 8 , 5] \n",
    "f = [2 , 4 , 6 , 7 , 9 , 9] \n",
    "\n",
    "printMaxActivities(a, s , f)"
   ]
  },
  {
   "cell_type": "markdown",
   "metadata": {},
   "source": [
    "## Done"
   ]
  },
  {
   "cell_type": "code",
   "execution_count": 3,
   "metadata": {},
   "outputs": [
    {
     "name": "stdout",
     "output_type": "stream",
     "text": [
      "Done! 2019-04-24 21:11:33.823601\n"
     ]
    }
   ],
   "source": [
    "import datetime\n",
    "now = datetime.datetime.now()\n",
    "print('Done!',str(now))"
   ]
  }
 ],
 "metadata": {
  "kernelspec": {
   "display_name": "Python 3",
   "language": "python",
   "name": "python3"
  },
  "language_info": {
   "codemirror_mode": {
    "name": "ipython",
    "version": 3
   },
   "file_extension": ".py",
   "mimetype": "text/x-python",
   "name": "python",
   "nbconvert_exporter": "python",
   "pygments_lexer": "ipython3",
   "version": "3.6.7"
  }
 },
 "nbformat": 4,
 "nbformat_minor": 2
}
