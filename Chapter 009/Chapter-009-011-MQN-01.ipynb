{
 "cells": [
  {
   "cell_type": "markdown",
   "metadata": {},
   "source": [
    "## Apress - Industrialized Machine Learning Examples\n",
    "\n",
    "Andreas Francois Vermeulen\n",
    "2019\n",
    "\n",
    "### This is an example add-on to a book and needs to be accepted as part of that copyright."
   ]
  },
  {
   "cell_type": "markdown",
   "metadata": {},
   "source": [
    "## Chapter-009-011-MQN-01"
   ]
  },
  {
   "cell_type": "code",
   "execution_count": 1,
   "metadata": {},
   "outputs": [
    {
     "name": "stdout",
     "output_type": "stream",
     "text": [
      "Converged in  2910 steps.\n",
      "Queue A:\n",
      "[[ 0.42527441  1.45932545]\n",
      " [ 0.76109068  0.48853422]\n",
      " [-0.17117237  0.17905512]\n",
      " [-0.54519942  0.73322936]\n",
      " [ 1.36783343  1.10589307]\n",
      " [ 0.98149962  0.91399272]\n",
      " [ 0.59364362  0.34726429]\n",
      " [ 1.02589844  1.36681085]]\n",
      "Queue B:\n",
      "[[2.45321381 2.28736704]\n",
      " [3.98844546 4.16390991]\n",
      " [3.16064366 3.52105067]\n",
      " [3.67223323 2.53729862]\n",
      " [2.89746061 2.78443157]\n",
      " [3.29410877 2.61841516]\n",
      " [3.05434808 2.24152433]\n",
      " [2.7875369  3.35974475]]\n",
      "Queue C:\n",
      "[[ 2.90659169e+00  3.31039656e-01]\n",
      " [ 2.48937515e+00  6.71534823e-04]\n",
      " [ 3.38060952e+00 -6.82259148e-01]\n",
      " [ 2.50420641e+00  5.98281112e-01]\n",
      " [ 2.92537373e+00  4.20414310e-01]\n",
      " [ 3.50970721e+00 -4.12968299e-01]\n",
      " [ 2.76275538e+00  3.75675482e-01]\n",
      " [ 2.51677210e+00  6.90864065e-01]]\n"
     ]
    }
   ],
   "source": [
    "import numpy as np\n",
    "# Generate three random clusters of 2D data\n",
    "N_c = 8\n",
    "A = 0.6*np.random.randn(N_c, 2)+[1, 1]\n",
    "B = 0.6*np.random.randn(N_c, 2)+[3, 3]\n",
    "C = 0.6*np.random.randn(N_c, 2)+[3, 0]\n",
    "X = np.hstack((np.ones(3*N_c).reshape(3*N_c, 1), np.vstack((A, B, C))))\n",
    "Y = np.vstack(((np.zeros(N_c)).reshape(N_c, 1), \n",
    "        np.ones(N_c).reshape(N_c, 1), 2*np.ones(N_c).reshape(N_c, 1)))\n",
    "K = 3\n",
    "N = K*N_c\n",
    "\n",
    "# Next we run gradient descent using the multinomial logistic regression gradient: \n",
    "\n",
    "# Run gradient descent\n",
    "eta = 1E-2\n",
    "max_iter = 8000\n",
    "w = np.zeros((3, 3))\n",
    "grad_thresh = 5 \n",
    "for t in range(0, max_iter):\n",
    "    grad_t = np.zeros((3, 3))\n",
    "    for i in range(0, N):\n",
    "        x_i = X[i, :]\n",
    "        y_i = Y[i]\n",
    "        exp_vals = np.exp(w.dot(x_i))\n",
    "        lik = exp_vals[int(y_i)]/np.sum(exp_vals)\n",
    "        grad_t[int(y_i), :] += x_i*(1-lik)\n",
    "\n",
    "    w = w + 1/float(N)*eta*grad_t\n",
    "    grad_norm = np.linalg.norm(grad_t)\n",
    "\n",
    "    if grad_norm < grad_thresh:\n",
    "        print (\"Converged in \",t+1,\"steps.\")\n",
    "        print('Queue A:')\n",
    "        print(A)\n",
    "        print('Queue B:')\n",
    "        print(B)\n",
    "        print('Queue C:')\n",
    "        print(C)\n",
    "        break\n",
    "\n",
    "    if t == max_iter-1:\n",
    "        print (\"Warning, did not converge.\")\n",
    "    "
   ]
  },
  {
   "cell_type": "markdown",
   "metadata": {},
   "source": [
    "## Done"
   ]
  },
  {
   "cell_type": "code",
   "execution_count": 2,
   "metadata": {},
   "outputs": [
    {
     "name": "stdout",
     "output_type": "stream",
     "text": [
      "Done! 2019-04-24 21:24:05.597748\n"
     ]
    }
   ],
   "source": [
    "import datetime\n",
    "now = datetime.datetime.now()\n",
    "print('Done!',str(now))"
   ]
  }
 ],
 "metadata": {
  "kernelspec": {
   "display_name": "Python 3",
   "language": "python",
   "name": "python3"
  },
  "language_info": {
   "codemirror_mode": {
    "name": "ipython",
    "version": 3
   },
   "file_extension": ".py",
   "mimetype": "text/x-python",
   "name": "python",
   "nbconvert_exporter": "python",
   "pygments_lexer": "ipython3",
   "version": "3.6.7"
  }
 },
 "nbformat": 4,
 "nbformat_minor": 2
}
