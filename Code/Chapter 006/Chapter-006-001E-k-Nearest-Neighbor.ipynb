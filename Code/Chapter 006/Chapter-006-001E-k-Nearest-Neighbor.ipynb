{
 "cells": [
  {
   "cell_type": "markdown",
   "metadata": {},
   "source": [
    "## Apress - Industrialized Machine Learning Examples\n",
    "\n",
    "Andreas Francois Vermeulen\n",
    "2019\n",
    "\n",
    "### This is an example add-on to a book and needs to be accepted as part of that copyright."
   ]
  },
  {
   "cell_type": "markdown",
   "metadata": {},
   "source": [
    "# Chapter-006-001E-k-Nearest-Neighbor"
   ]
  },
  {
   "cell_type": "code",
   "execution_count": 1,
   "metadata": {},
   "outputs": [],
   "source": [
    "from sklearn.neighbors import NearestNeighbors\n",
    "import sklearn.neighbors as skn\n",
    "import matplotlib as mpl\n",
    "import matplotlib.pyplot as plt\n",
    "import numpy as np\n",
    "import pandas as pd\n",
    "import os\n",
    "from random import sample\n",
    "import matplotlib._color_data as mcd"
   ]
  },
  {
   "cell_type": "code",
   "execution_count": 2,
   "metadata": {},
   "outputs": [],
   "source": [
    "ncnt1=3\n",
    "ncnt2=5"
   ]
  },
  {
   "cell_type": "code",
   "execution_count": 3,
   "metadata": {},
   "outputs": [],
   "source": [
    "np.random.seed(1968)\n",
    "nrcnt=30\n",
    "bdisplay=True"
   ]
  },
  {
   "cell_type": "code",
   "execution_count": 4,
   "metadata": {},
   "outputs": [
    {
     "name": "stdout",
     "output_type": "stream",
     "text": [
      "['gold' 'maroon' 'red' 'aqua' 'orangered' 'orangered' 'yellowgreen'\n",
      " 'sienna' 'darkblue' 'silver' 'lavender' 'lightgreen' 'silver' 'red'\n",
      " 'aqua' 'khaki' 'darkgreen' 'fuchsia' 'turquoise' 'goldenrod' 'red' 'navy'\n",
      " 'khaki' 'ivory' 'fuchsia' 'magenta' 'aqua' 'olive' 'teal' 'red']\n"
     ]
    }
   ],
   "source": [
    "colors1 = np.array(list(sorted({name for name in mcd.CSS4_COLORS if \"xkcd:\" + name in mcd.XKCD_COLORS}, reverse=False)))\n",
    "colors=np.random.choice(colors1,nrcnt)\n",
    "if bdisplay:\n",
    "    print(colors)"
   ]
  },
  {
   "cell_type": "code",
   "execution_count": 5,
   "metadata": {},
   "outputs": [
    {
     "name": "stdout",
     "output_type": "stream",
     "text": [
      "C:\\Users\\AndreVermeulen\\Documents\\My Book\\apress\\Industrial Machine Learning\\book\\GitHub\\Upload\\industrial-machine-learning\\Data\\Postcodes004.csv\n"
     ]
    }
   ],
   "source": [
    "fileName = '../../Data/Postcodes004.csv'\n",
    "fileFullName = os.path.abspath(fileName)\n",
    "print(fileFullName)"
   ]
  },
  {
   "cell_type": "code",
   "execution_count": 6,
   "metadata": {},
   "outputs": [
    {
     "name": "stdout",
     "output_type": "stream",
     "text": [
      "(775795, 6)\n",
      "Index(['Zipcode', 'Name', 'Region', 'Area', 'Longitude', 'Latitude'], dtype='object')\n"
     ]
    }
   ],
   "source": [
    "datarawdf = pd.read_csv(fileFullName, header=0, encoding = 'latin_1')\n",
    "print(datarawdf.shape)\n",
    "print(datarawdf.columns)"
   ]
  },
  {
   "cell_type": "code",
   "execution_count": 7,
   "metadata": {},
   "outputs": [
    {
     "name": "stdout",
     "output_type": "stream",
     "text": [
      "         Zipcode                                            Name   Latitude  \\\n",
      "337127   8696911                                        Yonghong  119.93313   \n",
      "481562  10033465                                         Lujiapo  108.43600   \n",
      "438826   9941964                                         Zhoucun  109.30200   \n",
      "488201  10041747                                    Huangbanfang   99.74510   \n",
      "272699   8265311  Changzhou Xiangrong Lizi Zaisheng Jiagongchang  119.84315   \n",
      "305167   8507703                                 Liudaogou Sidui   96.75130   \n",
      "312605   8517943                                        Wenjiaya  110.19275   \n",
      "156629   7059527                                     Zhangjianao  110.33166   \n",
      "8492     1552555                                          Zanjia  119.10653   \n",
      "755523  11824899                                      Liushancun  120.02933   \n",
      "399925   9897622                                      Liuluchong  110.50500   \n",
      "310480   8514849                                           Maan  113.86762   \n",
      "491306  10044870                                     Laoguantian  107.82400   \n",
      "737591  11714596                                       Xunnancun  120.42452   \n",
      "115044   6683468                                         Tangbei  115.58188   \n",
      "201974   7517883                                       Liujiawan  107.05900   \n",
      "475408  10026826                                      Hongshilei  105.74000   \n",
      "634405  10914034                                        Fujiatun  125.11653   \n",
      "325371   8571387                                      Leiguchong  114.40373   \n",
      "332674   8633827                                         Tayuzai  119.28114   \n",
      "671124  11332363                                     Anjiawancun  107.21619   \n",
      "186460   7407991                                       Zhoujiahe  106.43322   \n",
      "603449  10441113                                         Mahecun  115.66383   \n",
      "192150   7461642                                        Wubaiqiu  116.07238   \n",
      "157512   7063466                                       Zhangying  113.67876   \n",
      "462950  10008618                                        Muxilang  101.87500   \n",
      "639955  10967463                                       Fuxingcun  126.68219   \n",
      "644787  11071188                                   Shangxiejiahe  113.72154   \n",
      "462273  10007937                                        Yunengde  101.71700   \n",
      "147755   7003487                                       Laoyemiao  120.05796   \n",
      "\n",
      "        Longitude  \n",
      "337127   31.76680  \n",
      "481562   28.03180  \n",
      "438826   25.12080  \n",
      "488201   25.65540  \n",
      "272699   32.02111  \n",
      "305167   40.52220  \n",
      "312605   30.69755  \n",
      "156629   29.08960  \n",
      "8492     31.22499  \n",
      "755523   28.75331  \n",
      "399925   22.61730  \n",
      "310480   30.60557  \n",
      "491306   26.67110  \n",
      "737591   30.86243  \n",
      "115044   23.61814  \n",
      "201974   36.04210  \n",
      "475408   28.50450  \n",
      "634405   43.36947  \n",
      "325371   31.49548  \n",
      "332674   25.33483  \n",
      "671124   32.53761  \n",
      "186460   32.98288  \n",
      "603449   31.55910  \n",
      "192150   26.05816  \n",
      "157512   33.40668  \n",
      "462950   24.52900  \n",
      "639955   43.23792  \n",
      "644787   38.42428  \n",
      "462273   23.93490  \n",
      "147755   40.12412  \n"
     ]
    }
   ],
   "source": [
    "indices = np.random.randint(0,datarawdf.shape[0],nrcnt)\n",
    "datadf=datarawdf.loc[indices]\n",
    "if bdisplay:\n",
    "    print(datadf[['Zipcode', 'Name', 'Latitude', 'Longitude']])"
   ]
  },
  {
   "cell_type": "code",
   "execution_count": 8,
   "metadata": {},
   "outputs": [
    {
     "name": "stdout",
     "output_type": "stream",
     "text": [
      "(30, 2)\n",
      "Index(['latitude', 'longitude'], dtype='object')\n"
     ]
    }
   ],
   "source": [
    "Xdf = datadf[['Latitude', 'Longitude']].copy(deep=True)\n",
    "Xdf.columns = ['latitude', 'longitude']\n",
    "if bdisplay:\n",
    "    print(Xdf.shape)\n",
    "    print(Xdf.columns)"
   ]
  },
  {
   "cell_type": "code",
   "execution_count": 9,
   "metadata": {},
   "outputs": [],
   "source": [
    "nbrs1 = NearestNeighbors(n_neighbors=ncnt1,\n",
    "                         algorithm='auto',\n",
    "                         n_jobs=-1,\n",
    "                         metric='l2'                         \n",
    "                       ).fit(Xdf)\n",
    "\n",
    "distances1, indices1 = nbrs1.kneighbors(Xdf)\n",
    "\n",
    "n1=nbrs1.kneighbors_graph(Xdf).toarray()"
   ]
  },
  {
   "cell_type": "code",
   "execution_count": 10,
   "metadata": {},
   "outputs": [
    {
     "name": "stdout",
     "output_type": "stream",
     "text": [
      "Indices\n",
      "---------------\n",
      "[[ 0  4  8]\n",
      " [ 1 12  7]\n",
      " [ 2 12 10]\n",
      " [ 3 25 28]\n",
      " [ 4  0  8]\n",
      " [ 5 15 21]\n",
      " [ 6  7  1]\n",
      " [ 7  6  1]\n",
      " [ 8  0  4]\n",
      " [ 9 13  8]\n",
      " [10  2 12]\n",
      " [11 18 22]\n",
      " [12  1  2]\n",
      " [13  0  4]\n",
      " [14 23 19]\n",
      " [15 21 20]\n",
      " [16  1 12]\n",
      " [17 26 29]\n",
      " [18 11 22]\n",
      " [19 23  9]\n",
      " [20 21  6]\n",
      " [21 20 15]\n",
      " [22 18 11]\n",
      " [23 14 19]\n",
      " [24 18 22]\n",
      " [25 28  3]\n",
      " [26 17 29]\n",
      " [27 24 29]\n",
      " [28 25  3]\n",
      " [29 17 27]]\n",
      "Distances\n",
      "---------------\n",
      "[[ 0.          0.26975911  0.9883449 ]\n",
      " [ 0.          1.4919948   2.17082189]\n",
      " [ 0.          2.14194166  2.7775387 ]\n",
      " [ 0.          2.40940884  2.61696577]\n",
      " [ 0.          0.26975911  1.08462716]\n",
      " [ 0.         11.23921596 12.27114179]\n",
      " [ 0.          1.61393903  3.19255284]\n",
      " [ 0.          1.61393903  2.17082189]\n",
      " [ 0.          0.9883449   1.08462716]\n",
      " [ 0.          2.14582439  2.63832558]\n",
      " [ 0.          2.7775387   4.86014973]\n",
      " [ 0.          1.03891951  2.03361496]\n",
      " [ 0.          1.4919948   2.14194166]\n",
      " [ 0.          1.02924692  1.29635274]\n",
      " [ 0.          2.48883263  4.07817963]\n",
      " [ 0.          3.12256747  3.50801352]\n",
      " [ 0.          2.73712647  2.77568218]\n",
      " [ 0.          1.57117683  6.0101104 ]\n",
      " [ 0.          1.03891951  1.261705  ]\n",
      " [ 0.          3.28927758  3.49939906]\n",
      " [ 0.          0.90072604  3.49938998]\n",
      " [ 0.          0.90072604  3.12256747]\n",
      " [ 0.          1.261705    2.03361496]\n",
      " [ 0.          2.48883263  3.28927758]\n",
      " [ 0.          2.04408095  2.71183605]\n",
      " [ 0.          0.61475101  2.40940884]\n",
      " [ 0.          1.57117683  7.31957468]\n",
      " [ 0.          5.01778237  6.56046297]\n",
      " [ 0.          0.61475101  2.61696577]\n",
      " [ 0.          6.0101104   6.56046297]]\n",
      "K-neighbors\n",
      "---------------\n",
      "[[1. 0. 0. 0. 1. 0. 0. 0. 1. 0. 0. 0. 0. 0. 0. 0. 0. 0. 0. 0. 0. 0. 0. 0.\n",
      "  0. 0. 0. 0. 0. 0.]\n",
      " [0. 1. 0. 0. 0. 0. 0. 1. 0. 0. 0. 0. 1. 0. 0. 0. 0. 0. 0. 0. 0. 0. 0. 0.\n",
      "  0. 0. 0. 0. 0. 0.]\n",
      " [0. 0. 1. 0. 0. 0. 0. 0. 0. 0. 1. 0. 1. 0. 0. 0. 0. 0. 0. 0. 0. 0. 0. 0.\n",
      "  0. 0. 0. 0. 0. 0.]\n",
      " [0. 0. 0. 1. 0. 0. 0. 0. 0. 0. 0. 0. 0. 0. 0. 0. 0. 0. 0. 0. 0. 0. 0. 0.\n",
      "  0. 1. 0. 0. 1. 0.]\n",
      " [1. 0. 0. 0. 1. 0. 0. 0. 1. 0. 0. 0. 0. 0. 0. 0. 0. 0. 0. 0. 0. 0. 0. 0.\n",
      "  0. 0. 0. 0. 0. 0.]\n",
      " [0. 0. 0. 0. 0. 1. 0. 0. 0. 0. 0. 0. 0. 0. 0. 1. 0. 0. 0. 0. 0. 1. 0. 0.\n",
      "  0. 0. 0. 0. 0. 0.]\n",
      " [0. 1. 0. 0. 0. 0. 1. 1. 0. 0. 0. 0. 0. 0. 0. 0. 0. 0. 0. 0. 0. 0. 0. 0.\n",
      "  0. 0. 0. 0. 0. 0.]\n",
      " [0. 1. 0. 0. 0. 0. 1. 1. 0. 0. 0. 0. 0. 0. 0. 0. 0. 0. 0. 0. 0. 0. 0. 0.\n",
      "  0. 0. 0. 0. 0. 0.]\n",
      " [1. 0. 0. 0. 1. 0. 0. 0. 1. 0. 0. 0. 0. 0. 0. 0. 0. 0. 0. 0. 0. 0. 0. 0.\n",
      "  0. 0. 0. 0. 0. 0.]\n",
      " [0. 0. 0. 0. 0. 0. 0. 0. 1. 1. 0. 0. 0. 1. 0. 0. 0. 0. 0. 0. 0. 0. 0. 0.\n",
      "  0. 0. 0. 0. 0. 0.]\n",
      " [0. 0. 1. 0. 0. 0. 0. 0. 0. 0. 1. 0. 1. 0. 0. 0. 0. 0. 0. 0. 0. 0. 0. 0.\n",
      "  0. 0. 0. 0. 0. 0.]\n",
      " [0. 0. 0. 0. 0. 0. 0. 0. 0. 0. 0. 1. 0. 0. 0. 0. 0. 0. 1. 0. 0. 0. 1. 0.\n",
      "  0. 0. 0. 0. 0. 0.]\n",
      " [0. 1. 1. 0. 0. 0. 0. 0. 0. 0. 0. 0. 1. 0. 0. 0. 0. 0. 0. 0. 0. 0. 0. 0.\n",
      "  0. 0. 0. 0. 0. 0.]\n",
      " [1. 0. 0. 0. 1. 0. 0. 0. 0. 0. 0. 0. 0. 1. 0. 0. 0. 0. 0. 0. 0. 0. 0. 0.\n",
      "  0. 0. 0. 0. 0. 0.]\n",
      " [0. 0. 0. 0. 0. 0. 0. 0. 0. 0. 0. 0. 0. 0. 1. 0. 0. 0. 0. 1. 0. 0. 0. 1.\n",
      "  0. 0. 0. 0. 0. 0.]\n",
      " [0. 0. 0. 0. 0. 0. 0. 0. 0. 0. 0. 0. 0. 0. 0. 1. 0. 0. 0. 0. 1. 1. 0. 0.\n",
      "  0. 0. 0. 0. 0. 0.]\n",
      " [0. 1. 0. 0. 0. 0. 0. 0. 0. 0. 0. 0. 1. 0. 0. 0. 1. 0. 0. 0. 0. 0. 0. 0.\n",
      "  0. 0. 0. 0. 0. 0.]\n",
      " [0. 0. 0. 0. 0. 0. 0. 0. 0. 0. 0. 0. 0. 0. 0. 0. 0. 1. 0. 0. 0. 0. 0. 0.\n",
      "  0. 0. 1. 0. 0. 1.]\n",
      " [0. 0. 0. 0. 0. 0. 0. 0. 0. 0. 0. 1. 0. 0. 0. 0. 0. 0. 1. 0. 0. 0. 1. 0.\n",
      "  0. 0. 0. 0. 0. 0.]\n",
      " [0. 0. 0. 0. 0. 0. 0. 0. 0. 1. 0. 0. 0. 0. 0. 0. 0. 0. 0. 1. 0. 0. 0. 1.\n",
      "  0. 0. 0. 0. 0. 0.]\n",
      " [0. 0. 0. 0. 0. 0. 1. 0. 0. 0. 0. 0. 0. 0. 0. 0. 0. 0. 0. 0. 1. 1. 0. 0.\n",
      "  0. 0. 0. 0. 0. 0.]\n",
      " [0. 0. 0. 0. 0. 0. 0. 0. 0. 0. 0. 0. 0. 0. 0. 1. 0. 0. 0. 0. 1. 1. 0. 0.\n",
      "  0. 0. 0. 0. 0. 0.]\n",
      " [0. 0. 0. 0. 0. 0. 0. 0. 0. 0. 0. 1. 0. 0. 0. 0. 0. 0. 1. 0. 0. 0. 1. 0.\n",
      "  0. 0. 0. 0. 0. 0.]\n",
      " [0. 0. 0. 0. 0. 0. 0. 0. 0. 0. 0. 0. 0. 0. 1. 0. 0. 0. 0. 1. 0. 0. 0. 1.\n",
      "  0. 0. 0. 0. 0. 0.]\n",
      " [0. 0. 0. 0. 0. 0. 0. 0. 0. 0. 0. 0. 0. 0. 0. 0. 0. 0. 1. 0. 0. 0. 1. 0.\n",
      "  1. 0. 0. 0. 0. 0.]\n",
      " [0. 0. 0. 1. 0. 0. 0. 0. 0. 0. 0. 0. 0. 0. 0. 0. 0. 0. 0. 0. 0. 0. 0. 0.\n",
      "  0. 1. 0. 0. 1. 0.]\n",
      " [0. 0. 0. 0. 0. 0. 0. 0. 0. 0. 0. 0. 0. 0. 0. 0. 0. 1. 0. 0. 0. 0. 0. 0.\n",
      "  0. 0. 1. 0. 0. 1.]\n",
      " [0. 0. 0. 0. 0. 0. 0. 0. 0. 0. 0. 0. 0. 0. 0. 0. 0. 0. 0. 0. 0. 0. 0. 0.\n",
      "  1. 0. 0. 1. 0. 1.]\n",
      " [0. 0. 0. 1. 0. 0. 0. 0. 0. 0. 0. 0. 0. 0. 0. 0. 0. 0. 0. 0. 0. 0. 0. 0.\n",
      "  0. 1. 0. 0. 1. 0.]\n",
      " [0. 0. 0. 0. 0. 0. 0. 0. 0. 0. 0. 0. 0. 0. 0. 0. 0. 1. 0. 0. 0. 0. 0. 0.\n",
      "  0. 0. 0. 1. 0. 1.]]\n"
     ]
    }
   ],
   "source": [
    "if bdisplay:\n",
    "    print('Indices')\n",
    "    print('---------------')\n",
    "    print(indices1)\n",
    "    print('Distances')\n",
    "    print('---------------')\n",
    "    print(distances1)\n",
    "\n",
    "    print('K-neighbors')\n",
    "    print('---------------')\n",
    "    print(n1)"
   ]
  },
  {
   "cell_type": "code",
   "execution_count": 11,
   "metadata": {},
   "outputs": [
    {
     "name": "stdout",
     "output_type": "stream",
     "text": [
      "(30, 1)\n"
     ]
    }
   ],
   "source": [
    "X = np.array(Xdf['latitude']).reshape(1,-1).T\n",
    "if bdisplay:\n",
    "    print(X.shape)"
   ]
  },
  {
   "cell_type": "code",
   "execution_count": 12,
   "metadata": {},
   "outputs": [
    {
     "name": "stdout",
     "output_type": "stream",
     "text": [
      "(30, 1)\n"
     ]
    }
   ],
   "source": [
    "Y = np.array(Xdf['longitude']).reshape(1,-1).T\n",
    "if bdisplay:\n",
    "    print(Y.shape)"
   ]
  },
  {
   "cell_type": "code",
   "execution_count": 13,
   "metadata": {},
   "outputs": [
    {
     "name": "stdout",
     "output_type": "stream",
     "text": [
      "[96.] [127.] [22.] [44.]\n"
     ]
    }
   ],
   "source": [
    "xmin=np.floor(min(X))\n",
    "xmax=np.ceil(max(X))\n",
    "ymin=np.floor(min(Y))\n",
    "ymax=np.ceil(max(Y))\n",
    "print(xmin,xmax,ymin,ymax)"
   ]
  },
  {
   "cell_type": "code",
   "execution_count": 14,
   "metadata": {},
   "outputs": [],
   "source": [
    "if n1.shape[0] > colors.shape[0]:\n",
    "    step=int(np.ceil(n1.shape[0]/colors.shape[0]))\n",
    "else:\n",
    "    step=1"
   ]
  },
  {
   "cell_type": "code",
   "execution_count": 15,
   "metadata": {},
   "outputs": [
    {
     "data": {
      "image/png": "[encoded data removed]",
      "text/plain": [
       "<Figure size 1080x360 with 1 Axes>"
      ]
     },
     "metadata": {
      "needs_background": "light"
     },
     "output_type": "display_data"
    }
   ],
   "source": [
    "fig1=plt.figure(figsize=(15, 5))\n",
    "titlename = '%d closest Post Code neighbors using NearestNeighbors on %d locations' % (ncnt1, nrcnt)\n",
    "plt.title(titlename, loc='center')\n",
    "\n",
    "k=-1\n",
    "for p in range(0,n1.shape[0],step):  \n",
    "    l=n1[p]\n",
    "    k+=1\n",
    "    c=colors[k]\n",
    "    plt.scatter(X[p], \n",
    "                Y[p], \n",
    "                marker='o', \n",
    "                s=500,\n",
    "                alpha=0.5, \n",
    "                edgecolors='k',\n",
    "                antialiased=True,\n",
    "                c=c\n",
    "               )\n",
    "    for i in range(l.shape[0]):\n",
    "        if l[i] == 1:\n",
    "            plt.scatter(X[i], \n",
    "                        Y[i], \n",
    "                        marker='o', \n",
    "                        s=100, \n",
    "                        alpha=0.8, \n",
    "                        edgecolors='k',\n",
    "                        antialiased=True,\n",
    "                        c=c\n",
    "                       )\n",
    "            plt.plot(X[p],X[i], \n",
    "                     Y[p],Y[i],\n",
    "                     c=c,\n",
    "                     alpha=1.0,\n",
    "                     antialiased=True,\n",
    "                     linestyle='--',\n",
    "                     linewidth=3\n",
    "                    )\n",
    "\n",
    "plt.axis([xmin,xmax,ymin,ymax])\n",
    "#plt.autoscale(enable=True, axis='x', tight=False)\n",
    "plt.show()"
   ]
  },
  {
   "cell_type": "code",
   "execution_count": 16,
   "metadata": {},
   "outputs": [],
   "source": [
    "nbrs2 = NearestNeighbors(n_neighbors=ncnt2, \n",
    "                        algorithm='auto',\n",
    "                         n_jobs=-1,\n",
    "                         metric='l2'            \n",
    "                       ).fit(X)\n",
    "\n",
    "distances2, indices2 = nbrs2.kneighbors(X)\n",
    "\n",
    "n2=nbrs2.kneighbors_graph(X).toarray()"
   ]
  },
  {
   "cell_type": "code",
   "execution_count": 17,
   "metadata": {},
   "outputs": [
    {
     "name": "stdout",
     "output_type": "stream",
     "text": [
      "Indices\n",
      "---------------\n",
      "[[ 0  4  9 29 13]\n",
      " [ 1 12  2 20 15]\n",
      " [ 2  1  6  7 10]\n",
      " [ 3 28 25  5 16]\n",
      " [ 4  0  9 29 19]\n",
      " [ 5  3 28 25 16]\n",
      " [ 6  7 10  2  1]\n",
      " [ 7  6 10  2  1]\n",
      " [ 8 19  4  0  9]\n",
      " [ 9 29  0  4 13]\n",
      " [10  7  6  2  1]\n",
      " [11 27 24 18 14]\n",
      " [12 20  1 15 21]\n",
      " [13 29  9  0  4]\n",
      " [14 22 23 18 11]\n",
      " [15 20 21 12 16]\n",
      " [16 21 15 20 12]\n",
      " [17 26 13 29  9]\n",
      " [18 11 27 24 14]\n",
      " [19  8  4  0  9]\n",
      " [20 15 12 21  1]\n",
      " [21 15 16 20 12]\n",
      " [22 14 23 18 11]\n",
      " [23 22 14 18 11]\n",
      " [24 27 11 18 14]\n",
      " [25 28  3 16 21]\n",
      " [26 17 13 29  9]\n",
      " [27 24 11 18 14]\n",
      " [28 25  3 16 21]\n",
      " [29  9  0  4 13]]\n",
      "Distances\n",
      "---------------\n",
      "[[0.      0.08998 0.0962  0.12483 0.49139]\n",
      " [0.      0.612   0.866   1.21981 1.377  ]\n",
      " [0.      0.866   0.89075 1.02966 1.203  ]\n",
      " [0.      1.9719  2.1299  2.9938  5.9949 ]\n",
      " [0.      0.08998 0.18618 0.21481 0.56201]\n",
      " [0.      2.9938  4.9657  5.1237  8.9887 ]\n",
      " [0.      0.13891 0.31225 0.89075 1.75675]\n",
      " [0.      0.13891 0.17334 1.02966 1.89566]\n",
      " [0.      0.17461 0.73662 0.8266  0.9228 ]\n",
      " [0.      0.02863 0.0962  0.18618 0.39519]\n",
      " [0.      0.17334 0.31225 1.203   2.069  ]\n",
      " [0.      0.14608 0.18886 0.53611 1.71426]\n",
      " [0.      0.60781 0.612   0.765   1.39078]\n",
      " [0.      0.36656 0.39519 0.49139 0.58137]\n",
      " [0.      0.08195 0.4905  1.17815 1.71426]\n",
      " [0.      0.15719 0.62578 0.765   1.319  ]\n",
      " [0.      0.69322 1.319   1.47619 2.084  ]\n",
      " [0.      1.56566 4.69201 5.05857 5.0872 ]\n",
      " [0.      0.53611 0.68219 0.72497 1.17815]\n",
      " [0.      0.17461 0.56201 0.65199 0.74819]\n",
      " [0.      0.15719 0.60781 0.78297 1.21981]\n",
      " [0.      0.62578 0.69322 0.78297 1.39078]\n",
      " [0.      0.08195 0.40855 1.2601  1.79621]\n",
      " [0.      0.40855 0.4905  1.66865 2.20476]\n",
      " [0.      0.04278 0.18886 0.72497 1.90312]\n",
      " [0.      0.158   2.1299  3.865   4.55822]\n",
      " [0.      1.56566 6.25767 6.62423 6.65286]\n",
      " [0.      0.04278 0.14608 0.68219 1.86034]\n",
      " [0.      0.158   1.9719  4.023   4.71622]\n",
      " [0.      0.02863 0.12483 0.21481 0.36656]]\n",
      "K-neighbors\n",
      "---------------\n",
      "[[1. 0. 0. 0. 1. 0. 0. 0. 0. 1. 0. 0. 0. 1. 0. 0. 0. 0. 0. 0. 0. 0. 0. 0.\n",
      "  0. 0. 0. 0. 0. 1.]\n",
      " [0. 1. 1. 0. 0. 0. 0. 0. 0. 0. 0. 0. 1. 0. 0. 1. 0. 0. 0. 0. 1. 0. 0. 0.\n",
      "  0. 0. 0. 0. 0. 0.]\n",
      " [0. 1. 1. 0. 0. 0. 1. 1. 0. 0. 1. 0. 0. 0. 0. 0. 0. 0. 0. 0. 0. 0. 0. 0.\n",
      "  0. 0. 0. 0. 0. 0.]\n",
      " [0. 0. 0. 1. 0. 1. 0. 0. 0. 0. 0. 0. 0. 0. 0. 0. 1. 0. 0. 0. 0. 0. 0. 0.\n",
      "  0. 1. 0. 0. 1. 0.]\n",
      " [1. 0. 0. 0. 1. 0. 0. 0. 0. 1. 0. 0. 0. 0. 0. 0. 0. 0. 0. 1. 0. 0. 0. 0.\n",
      "  0. 0. 0. 0. 0. 1.]\n",
      " [0. 0. 0. 1. 0. 1. 0. 0. 0. 0. 0. 0. 0. 0. 0. 0. 1. 0. 0. 0. 0. 0. 0. 0.\n",
      "  0. 1. 0. 0. 1. 0.]\n",
      " [0. 1. 1. 0. 0. 0. 1. 1. 0. 0. 1. 0. 0. 0. 0. 0. 0. 0. 0. 0. 0. 0. 0. 0.\n",
      "  0. 0. 0. 0. 0. 0.]\n",
      " [0. 1. 1. 0. 0. 0. 1. 1. 0. 0. 1. 0. 0. 0. 0. 0. 0. 0. 0. 0. 0. 0. 0. 0.\n",
      "  0. 0. 0. 0. 0. 0.]\n",
      " [1. 0. 0. 0. 1. 0. 0. 0. 1. 1. 0. 0. 0. 0. 0. 0. 0. 0. 0. 1. 0. 0. 0. 0.\n",
      "  0. 0. 0. 0. 0. 0.]\n",
      " [1. 0. 0. 0. 1. 0. 0. 0. 0. 1. 0. 0. 0. 1. 0. 0. 0. 0. 0. 0. 0. 0. 0. 0.\n",
      "  0. 0. 0. 0. 0. 1.]\n",
      " [0. 1. 1. 0. 0. 0. 1. 1. 0. 0. 1. 0. 0. 0. 0. 0. 0. 0. 0. 0. 0. 0. 0. 0.\n",
      "  0. 0. 0. 0. 0. 0.]\n",
      " [0. 0. 0. 0. 0. 0. 0. 0. 0. 0. 0. 1. 0. 0. 1. 0. 0. 0. 1. 0. 0. 0. 0. 0.\n",
      "  1. 0. 0. 1. 0. 0.]\n",
      " [0. 1. 0. 0. 0. 0. 0. 0. 0. 0. 0. 0. 1. 0. 0. 1. 0. 0. 0. 0. 1. 1. 0. 0.\n",
      "  0. 0. 0. 0. 0. 0.]\n",
      " [1. 0. 0. 0. 1. 0. 0. 0. 0. 1. 0. 0. 0. 1. 0. 0. 0. 0. 0. 0. 0. 0. 0. 0.\n",
      "  0. 0. 0. 0. 0. 1.]\n",
      " [0. 0. 0. 0. 0. 0. 0. 0. 0. 0. 0. 1. 0. 0. 1. 0. 0. 0. 1. 0. 0. 0. 1. 1.\n",
      "  0. 0. 0. 0. 0. 0.]\n",
      " [0. 0. 0. 0. 0. 0. 0. 0. 0. 0. 0. 0. 1. 0. 0. 1. 1. 0. 0. 0. 1. 1. 0. 0.\n",
      "  0. 0. 0. 0. 0. 0.]\n",
      " [0. 0. 0. 0. 0. 0. 0. 0. 0. 0. 0. 0. 1. 0. 0. 1. 1. 0. 0. 0. 1. 1. 0. 0.\n",
      "  0. 0. 0. 0. 0. 0.]\n",
      " [0. 0. 0. 0. 0. 0. 0. 0. 0. 1. 0. 0. 0. 1. 0. 0. 0. 1. 0. 0. 0. 0. 0. 0.\n",
      "  0. 0. 1. 0. 0. 1.]\n",
      " [0. 0. 0. 0. 0. 0. 0. 0. 0. 0. 0. 1. 0. 0. 1. 0. 0. 0. 1. 0. 0. 0. 0. 0.\n",
      "  1. 0. 0. 1. 0. 0.]\n",
      " [1. 0. 0. 0. 1. 0. 0. 0. 1. 1. 0. 0. 0. 0. 0. 0. 0. 0. 0. 1. 0. 0. 0. 0.\n",
      "  0. 0. 0. 0. 0. 0.]\n",
      " [0. 1. 0. 0. 0. 0. 0. 0. 0. 0. 0. 0. 1. 0. 0. 1. 0. 0. 0. 0. 1. 1. 0. 0.\n",
      "  0. 0. 0. 0. 0. 0.]\n",
      " [0. 0. 0. 0. 0. 0. 0. 0. 0. 0. 0. 0. 1. 0. 0. 1. 1. 0. 0. 0. 1. 1. 0. 0.\n",
      "  0. 0. 0. 0. 0. 0.]\n",
      " [0. 0. 0. 0. 0. 0. 0. 0. 0. 0. 0. 1. 0. 0. 1. 0. 0. 0. 1. 0. 0. 0. 1. 1.\n",
      "  0. 0. 0. 0. 0. 0.]\n",
      " [0. 0. 0. 0. 0. 0. 0. 0. 0. 0. 0. 1. 0. 0. 1. 0. 0. 0. 1. 0. 0. 0. 1. 1.\n",
      "  0. 0. 0. 0. 0. 0.]\n",
      " [0. 0. 0. 0. 0. 0. 0. 0. 0. 0. 0. 1. 0. 0. 1. 0. 0. 0. 1. 0. 0. 0. 0. 0.\n",
      "  1. 0. 0. 1. 0. 0.]\n",
      " [0. 0. 0. 1. 0. 0. 0. 0. 0. 0. 0. 0. 0. 0. 0. 0. 1. 0. 0. 0. 0. 1. 0. 0.\n",
      "  0. 1. 0. 0. 1. 0.]\n",
      " [0. 0. 0. 0. 0. 0. 0. 0. 0. 1. 0. 0. 0. 1. 0. 0. 0. 1. 0. 0. 0. 0. 0. 0.\n",
      "  0. 0. 1. 0. 0. 1.]\n",
      " [0. 0. 0. 0. 0. 0. 0. 0. 0. 0. 0. 1. 0. 0. 1. 0. 0. 0. 1. 0. 0. 0. 0. 0.\n",
      "  1. 0. 0. 1. 0. 0.]\n",
      " [0. 0. 0. 1. 0. 0. 0. 0. 0. 0. 0. 0. 0. 0. 0. 0. 1. 0. 0. 0. 0. 1. 0. 0.\n",
      "  0. 1. 0. 0. 1. 0.]\n",
      " [1. 0. 0. 0. 1. 0. 0. 0. 0. 1. 0. 0. 0. 1. 0. 0. 0. 0. 0. 0. 0. 0. 0. 0.\n",
      "  0. 0. 0. 0. 0. 1.]]\n"
     ]
    }
   ],
   "source": [
    "if bdisplay:\n",
    "    print('Indices')\n",
    "    print('---------------')\n",
    "    print(indices2)\n",
    "    print('Distances')\n",
    "    print('---------------')\n",
    "    print(distances2)\n",
    "\n",
    "    print('K-neighbors')\n",
    "    print('---------------')\n",
    "    print(n2)"
   ]
  },
  {
   "cell_type": "code",
   "execution_count": 18,
   "metadata": {},
   "outputs": [
    {
     "data": {
      "image/png": "[encoded data removed]",
      "text/plain": [
       "<Figure size 1080x360 with 1 Axes>"
      ]
     },
     "metadata": {
      "needs_background": "light"
     },
     "output_type": "display_data"
    }
   ],
   "source": [
    "fig2=plt.figure(figsize=(15, 5))\n",
    "titlename = '%d closest Post Code neighbors using NearestNeighbors %d locations' % (ncnt2, nrcnt)\n",
    "plt.title(titlename)\n",
    "k=-1\n",
    "for p in range(0,n2.shape[0],step): \n",
    "    l=n2[p]\n",
    "    k+=1\n",
    "    c=colors[k]\n",
    "    plt.scatter(X[p], \n",
    "                Y[p], \n",
    "                marker='o', \n",
    "                s=500,\n",
    "                alpha=0.5, \n",
    "                edgecolors='k',\n",
    "                antialiased=True,\n",
    "                c=c\n",
    "               )\n",
    "    for i in range(l.shape[0]):\n",
    "        if l[i] == 1:\n",
    "            plt.scatter(X[i], \n",
    "                        Y[i], \n",
    "                        marker='o', \n",
    "                        s=100, \n",
    "                        alpha=0.8, \n",
    "                        edgecolors='k',\n",
    "                        antialiased=True,\n",
    "                        c=c\n",
    "                       )\n",
    "            plt.plot(X[p],X[i], \n",
    "                     Y[p],Y[i],\n",
    "                     c='k',\n",
    "                     alpha=0.6,\n",
    "                     antialiased=True,\n",
    "                     linestyle='-',\n",
    "                     linewidth=100\n",
    "                    )\n",
    "\n",
    "plt.axis([xmin,xmax,ymin,ymax])\n",
    "#plt.autoscale(enable=True, axis='x', tight=False)\n",
    "plt.show()"
   ]
  },
  {
   "cell_type": "code",
   "execution_count": 19,
   "metadata": {},
   "outputs": [
    {
     "name": "stdout",
     "output_type": "stream",
     "text": [
      "C:\\Users\\AndreVermeulen\\Documents\\My Book\\apress\\Industrial Machine Learning\\book\\GitHub\\Upload\\industrial-machine-learning\\Results\\Chapter 06\n"
     ]
    }
   ],
   "source": [
    "imagepath = os.path.join(*[os.path.dirname(os.path.dirname(os.getcwd())),'Results','Chapter 06'])\n",
    "print(imagepath)\n",
    "\n",
    "if not os.path.exists(imagepath):\n",
    "    os.makedirs(imagepath)\n",
    "    \n",
    "imagename = os.path.join(*[os.path.dirname(os.path.dirname(os.getcwd())),'Results','Chapter 06','Chapter-006-Example-001E-01.jpg'])\n",
    "fig1.savefig(imagename, bbox_inches='tight')     \n",
    "imagename = os.path.join(*[os.path.dirname(os.path.dirname(os.getcwd())),'Results','Chapter 06','Chapter-006-Example-001E-02.jpg'])\n",
    "fig2.savefig(imagename, bbox_inches='tight') "
   ]
  },
  {
   "cell_type": "markdown",
   "metadata": {},
   "source": [
    "## Done"
   ]
  },
  {
   "cell_type": "code",
   "execution_count": 20,
   "metadata": {},
   "outputs": [
    {
     "name": "stdout",
     "output_type": "stream",
     "text": [
      "Done! 2019-10-19 19:46:04.088041\n"
     ]
    }
   ],
   "source": [
    "import datetime\n",
    "now = datetime.datetime.now()\n",
    "print('Done!',str(now))"
   ]
  },
  {
   "cell_type": "code",
   "execution_count": null,
   "metadata": {},
   "outputs": [],
   "source": []
  }
 ],
 "metadata": {
  "kernelspec": {
   "display_name": "Python 3",
   "language": "python",
   "name": "python3"
  },
  "language_info": {
   "codemirror_mode": {
    "name": "ipython",
    "version": 3
   },
   "file_extension": ".py",
   "mimetype": "text/x-python",
   "name": "python",
   "nbconvert_exporter": "python",
   "pygments_lexer": "ipython3",
   "version": "3.7.3"
  }
 },
 "nbformat": 4,
 "nbformat_minor": 2
}
