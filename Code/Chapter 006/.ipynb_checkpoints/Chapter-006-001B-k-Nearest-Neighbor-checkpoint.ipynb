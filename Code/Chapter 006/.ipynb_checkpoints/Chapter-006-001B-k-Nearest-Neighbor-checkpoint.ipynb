{
 "cells": [
  {
   "cell_type": "markdown",
   "metadata": {},
   "source": [
    "## Apress - Industrialized Machine Learning Examples\n",
    "\n",
    "Andreas Francois Vermeulen\n",
    "2019\n",
    "\n",
    "### This is an example add-on to a book and needs to be accepted as part of that copyright."
   ]
  },
  {
   "cell_type": "markdown",
   "metadata": {},
   "source": [
    "# Chapter-006-001B-k-Nearest-Neighbor"
   ]
  },
  {
   "cell_type": "code",
   "execution_count": 1,
   "metadata": {},
   "outputs": [],
   "source": [
    "from sklearn.neighbors import NearestNeighbors\n",
    "import sklearn.neighbors as skn\n",
    "import matplotlib as mpl\n",
    "import matplotlib.pyplot as plt\n",
    "import numpy as np\n",
    "import pandas as pd\n",
    "import os\n",
    "from random import sample\n",
    "import matplotlib._color_data as mcd"
   ]
  },
  {
   "cell_type": "code",
   "execution_count": 2,
   "metadata": {},
   "outputs": [],
   "source": [
    "ncnt1=4\n",
    "ncnt2=8"
   ]
  },
  {
   "cell_type": "code",
   "execution_count": 3,
   "metadata": {},
   "outputs": [],
   "source": [
    "np.random.seed(1968)\n",
    "nrcnt=50\n",
    "bdisplay=True"
   ]
  },
  {
   "cell_type": "code",
   "execution_count": 4,
   "metadata": {},
   "outputs": [
    {
     "name": "stdout",
     "output_type": "stream",
     "text": [
      "['gold' 'maroon' 'red' 'aqua' 'orangered' 'orangered' 'yellowgreen'\n",
      " 'sienna' 'darkblue' 'silver' 'lavender' 'lightgreen' 'silver' 'red'\n",
      " 'aqua' 'khaki' 'darkgreen' 'fuchsia' 'turquoise' 'goldenrod' 'red' 'navy'\n",
      " 'khaki' 'ivory' 'fuchsia' 'magenta' 'aqua' 'olive' 'teal' 'red' 'silver'\n",
      " 'magenta' 'tomato' 'coral' 'gold' 'olive' 'khaki' 'violet' 'beige'\n",
      " 'goldenrod' 'tomato' 'red' 'goldenrod' 'salmon' 'azure' 'aquamarine'\n",
      " 'ivory' 'navy' 'lavender' 'chocolate']\n"
     ]
    }
   ],
   "source": [
    "colors1 = np.array(list(sorted({name for name in mcd.CSS4_COLORS if \"xkcd:\" + name in mcd.XKCD_COLORS}, reverse=False)))\n",
    "colors=np.random.choice(colors1,nrcnt)\n",
    "if bdisplay:\n",
    "    print(colors)"
   ]
  },
  {
   "cell_type": "code",
   "execution_count": 5,
   "metadata": {},
   "outputs": [
    {
     "name": "stdout",
     "output_type": "stream",
     "text": [
      "C:\\Users\\AndreVermeulen\\Documents\\My Book\\apress\\Industrial Machine Learning\\book\\GitHub\\Upload\\industrial-machine-learning\\Data\\Postcodes001.csv\n"
     ]
    }
   ],
   "source": [
    "fileName = '../../Data/Postcodes001.csv'\n",
    "fileFullName = os.path.abspath(fileName)\n",
    "print(fileFullName)"
   ]
  },
  {
   "cell_type": "code",
   "execution_count": 6,
   "metadata": {},
   "outputs": [
    {
     "name": "stdout",
     "output_type": "stream",
     "text": [
      "(1762397, 4)\n",
      "Index(['id', 'postcode', 'latitude', 'longitude'], dtype='object')\n"
     ]
    }
   ],
   "source": [
    "datarawdf = pd.read_csv(fileFullName, header=0)\n",
    "print(datarawdf.shape)\n",
    "print(datarawdf.columns)"
   ]
  },
  {
   "cell_type": "code",
   "execution_count": 7,
   "metadata": {},
   "outputs": [
    {
     "name": "stdout",
     "output_type": "stream",
     "text": [
      "              id  postcode   latitude  longitude\n",
      "462950    489117  RG31 5BB  51.458275  -1.043626\n",
      "639955    674630  NP20 1DX  51.587283  -2.995025\n",
      "1693363  1784624   IV1 9EJ  57.479403  -4.226319\n",
      "1510849  1587334  AB33 8UE  57.232838  -2.694113\n",
      "1196331  1258318   DY5 2UW  52.478605  -2.120513\n",
      "970780   1020486  IP14 1PJ  52.188264   0.994159\n",
      "252815    267793  ST19 9DU  52.676660  -2.177306\n",
      "591593    623890  OL16 2HD  53.619527  -2.145953\n",
      "53766      56045   WF9 1PF  53.619468  -1.286388\n",
      "322807    341305   SL6 6DG  51.522591  -0.735552\n",
      "26269      27200  WV12 4TT  52.595360  -2.031106\n",
      "1315474  1382257   CV2 3JY  52.426312  -1.466692\n",
      "75245      79026  WC1N 1HQ  51.524357  -0.126625\n",
      "1547429  1625472   BD1 9SW  53.792312  -1.753277\n",
      "824265    868414  LS16 5BB  53.835846  -1.601400\n",
      "687958    724900  NE92 1AB  54.941775  -1.614988\n",
      "1470025  1544711   BN3 2LT  50.826664  -0.166336\n",
      "1338373  1406583   CR2 8DL  51.344445  -0.070892\n",
      "393274    415685  SA14 9HY  51.678038  -4.119135\n",
      "828790    873074  LS11 5QP  53.790795  -1.552237\n",
      "461011    487077  RG40 2NT  51.403030  -0.839530\n",
      "914158    961857   KY6 2JQ  56.192731  -3.206202\n",
      "1327543  1394932  CT18 8BZ  51.109891   1.088426\n",
      "612865    646764   NR5 8EH  52.635386   1.242886\n",
      "891793    938443   LA1 3PH  54.051120  -2.792291\n",
      "493117    520960   PO4 8RG  50.795575  -1.062093\n",
      "1521589  1598555  BH24 1AP  50.847213  -1.795948\n",
      "514830    543640   PL4 6LD  50.381522  -4.133950\n",
      "107083    113354   W1D 5AF  51.512808  -0.131509\n",
      "925047    973122   KT6 6BL  51.391517  -0.303634\n",
      "1249053  1312836   DH5 0LY  54.809369  -1.433697\n",
      "476682    503721   PR9 0TR  53.648144  -2.999266\n",
      "360379    381009   SE5 7SH  51.477185  -0.086724\n",
      "1660965  1749908    B2 2WW  52.495956  -1.894214\n",
      "784737    826816   M34 3NS  53.461246  -2.126733\n",
      "849333    894302  LL26 0UF  53.162123  -3.803898\n",
      "98925     104379    W2 6QH  51.516299  -0.181437\n",
      "1064374  1119510  GL52 5EJ  51.907908  -2.053709\n",
      "797930    840542    M2 3AN  53.481505  -2.238663\n",
      "1731000  2581510   LE4 3PE  52.687462  -1.134364\n",
      "308352    326047  SN25 1BE  51.597281  -1.823879\n",
      "1397824  1468655  CF44 6TH  51.699536  -3.423821\n",
      "375138    397102   SE1 2TH  51.504278  -0.082579\n",
      "570051    601185   OX4 3RN  51.727693  -1.211076\n",
      "1314208  1380897  CV22 6DS  52.365557  -1.267676\n",
      "1739811  2591824  NR27 7SL  52.925141   1.285263\n",
      "1016400  1068567   HP1 1US  51.745645  -0.480741\n",
      "1246804  1310554   DH7 9HE  54.760700  -1.728999\n",
      "1531858  1609350   BD9 6LQ  53.814902  -1.809644\n",
      "1166567  1225806  EH22 2DX  55.896011  -3.056747\n"
     ]
    }
   ],
   "source": [
    "indices = np.random.randint(0,datarawdf.shape[0],nrcnt)\n",
    "datadf=datarawdf.loc[indices]\n",
    "if bdisplay:\n",
    "    print(datadf)"
   ]
  },
  {
   "cell_type": "code",
   "execution_count": 8,
   "metadata": {},
   "outputs": [
    {
     "name": "stdout",
     "output_type": "stream",
     "text": [
      "(50, 2)\n",
      "Index(['latitude', 'longitude'], dtype='object')\n"
     ]
    }
   ],
   "source": [
    "Xdf = datadf[['latitude', 'longitude']].copy(deep=True)\n",
    "if bdisplay:\n",
    "    print(Xdf.shape)\n",
    "    print(Xdf.columns)"
   ]
  },
  {
   "cell_type": "code",
   "execution_count": 9,
   "metadata": {},
   "outputs": [
    {
     "data": {
      "text/plain": [
       "['braycurtis',\n",
       " 'canberra',\n",
       " 'chebyshev',\n",
       " 'cityblock',\n",
       " 'dice',\n",
       " 'euclidean',\n",
       " 'hamming',\n",
       " 'haversine',\n",
       " 'infinity',\n",
       " 'jaccard',\n",
       " 'kulsinski',\n",
       " 'l1',\n",
       " 'l2',\n",
       " 'mahalanobis',\n",
       " 'manhattan',\n",
       " 'matching',\n",
       " 'minkowski',\n",
       " 'p',\n",
       " 'pyfunc',\n",
       " 'rogerstanimoto',\n",
       " 'russellrao',\n",
       " 'seuclidean',\n",
       " 'sokalmichener',\n",
       " 'sokalsneath',\n",
       " 'wminkowski']"
      ]
     },
     "execution_count": 9,
     "metadata": {},
     "output_type": "execute_result"
    }
   ],
   "source": [
    "sorted(skn.VALID_METRICS['ball_tree'])"
   ]
  },
  {
   "cell_type": "code",
   "execution_count": 10,
   "metadata": {},
   "outputs": [
    {
     "data": {
      "text/plain": [
       "['chebyshev',\n",
       " 'cityblock',\n",
       " 'euclidean',\n",
       " 'infinity',\n",
       " 'l1',\n",
       " 'l2',\n",
       " 'manhattan',\n",
       " 'minkowski',\n",
       " 'p']"
      ]
     },
     "execution_count": 10,
     "metadata": {},
     "output_type": "execute_result"
    }
   ],
   "source": [
    "sorted(skn.VALID_METRICS['kd_tree'])"
   ]
  },
  {
   "cell_type": "code",
   "execution_count": 11,
   "metadata": {},
   "outputs": [
    {
     "data": {
      "text/plain": [
       "['braycurtis',\n",
       " 'canberra',\n",
       " 'chebyshev',\n",
       " 'cityblock',\n",
       " 'correlation',\n",
       " 'cosine',\n",
       " 'cosine',\n",
       " 'dice',\n",
       " 'euclidean',\n",
       " 'hamming',\n",
       " 'haversine',\n",
       " 'jaccard',\n",
       " 'kulsinski',\n",
       " 'l1',\n",
       " 'l2',\n",
       " 'mahalanobis',\n",
       " 'manhattan',\n",
       " 'matching',\n",
       " 'minkowski',\n",
       " 'precomputed',\n",
       " 'rogerstanimoto',\n",
       " 'russellrao',\n",
       " 'seuclidean',\n",
       " 'sokalmichener',\n",
       " 'sokalsneath',\n",
       " 'sqeuclidean',\n",
       " 'wminkowski',\n",
       " 'yule']"
      ]
     },
     "execution_count": 11,
     "metadata": {},
     "output_type": "execute_result"
    }
   ],
   "source": [
    "sorted(skn.VALID_METRICS['brute'])"
   ]
  },
  {
   "cell_type": "code",
   "execution_count": 12,
   "metadata": {},
   "outputs": [],
   "source": [
    "nbrs1 = NearestNeighbors(n_neighbors=ncnt1,\n",
    "                         algorithm='ball_tree',\n",
    "                         n_jobs=-1,\n",
    "                         metric='l2'                         \n",
    "                       ).fit(Xdf)\n",
    "\n",
    "distances1, indices1 = nbrs1.kneighbors(Xdf)\n",
    "\n",
    "n1=nbrs1.kneighbors_graph(Xdf).toarray()"
   ]
  },
  {
   "cell_type": "code",
   "execution_count": 13,
   "metadata": {},
   "outputs": [
    {
     "name": "stdout",
     "output_type": "stream",
     "text": [
      "Indices\n",
      "---------------\n",
      "[[ 0 20  9 43]\n",
      " [ 1 41 37 18]\n",
      " [ 2  3 21 49]\n",
      " [ 3 21 49  2]\n",
      " [ 4 10  6 33]\n",
      " [ 5 23 45 22]\n",
      " [ 6 10  4 33]\n",
      " [ 7 34 38 48]\n",
      " [ 8 19 14 13]\n",
      " [ 9 20  0 46]\n",
      " [10  4  6 33]\n",
      " [11 44 39 33]\n",
      " [12 28 42 36]\n",
      " [13 48 14 19]\n",
      " [14 19 13 48]\n",
      " [15 47 30 14]\n",
      " [16 17 29 32]\n",
      " [17 32 42 28]\n",
      " [18 41  1 27]\n",
      " [19 14 13 48]\n",
      " [20  9  0 43]\n",
      " [21 49  3  2]\n",
      " [22  5 17 32]\n",
      " [23 45  5 22]\n",
      " [24 31  7 38]\n",
      " [25 20  0 26]\n",
      " [26 25 40  0]\n",
      " [27 18 41  1]\n",
      " [28 12 42 36]\n",
      " [29 36 28 12]\n",
      " [30 15 47 14]\n",
      " [31 24 38  7]\n",
      " [32 42 28 12]\n",
      " [33 10  4  6]\n",
      " [34 38  7 48]\n",
      " [35 31 24 41]\n",
      " [36 28 12 42]\n",
      " [37 40  4 33]\n",
      " [38 34  7 48]\n",
      " [39 44 11 33]\n",
      " [40 37 43 26]\n",
      " [41  1 18 37]\n",
      " [42 32 12 28]\n",
      " [43  0 20  9]\n",
      " [44 11 39 33]\n",
      " [45 23  5 22]\n",
      " [46  9 36 29]\n",
      " [47 15 30 14]\n",
      " [48 13 14 19]\n",
      " [49 21  3 15]]\n",
      "Distances\n",
      "---------------\n",
      "[[0.         0.21144148 0.31471597 0.31721493]\n",
      " [0.         0.44324618 0.99442293 1.12776765]\n",
      " [0.         1.55191834 1.64199996 1.96850945]\n",
      " [0.         1.15933571 1.38513967 1.55191834]\n",
      " [0.         0.14705569 0.20603685 0.22696364]\n",
      " [0.         0.51164753 0.79229364 1.08248587]\n",
      " [0.         0.16728423 0.20603685 0.33584933]\n",
      " [0.         0.15944364 0.16626762 0.38894203]\n",
      " [0.         0.3162725  0.3821674  0.49785533]\n",
      " [0.         0.15844933 0.31471597 0.33864673]\n",
      " [0.         0.14705569 0.16728423 0.16917611]\n",
      " [0.         0.20808345 0.42265988 0.4331571 ]\n",
      " [0.         0.0125396  0.04840701 0.05540083]\n",
      " [0.         0.06072494 0.15799278 0.20104621]\n",
      " [0.         0.06668305 0.15799278 0.2092937 ]\n",
      " [0.         0.21397774 0.22449479 1.10601263]\n",
      " [0.         0.52650409 0.58129964 0.65537447]\n",
      " [0.         0.13368123 0.16025958 0.17894256]\n",
      " [0.         0.69564594 1.12776765 1.29660062]\n",
      " [0.         0.06668305 0.20104621 0.25853342]\n",
      " [0.         0.15844933 0.21144148 0.49340936]\n",
      " [0.         0.33223425 1.15933571 1.64199996]\n",
      " [0.         1.08248587 1.18280719 1.23121233]\n",
      " [0.         0.29283748 0.51164753 1.53329523]\n",
      " [0.         0.45302162 0.77719035 0.79433329]\n",
      " [0.         0.64694335 0.66295722 0.73566923]\n",
      " [0.         0.73566923 0.75058871 0.96921921]\n",
      " [0.         1.29660062 1.49714528 1.65861643]\n",
      " [0.         0.0125396  0.04966799 0.05004972]\n",
      " [0.         0.17465037 0.21056694 0.22131118]\n",
      " [0.         0.22449479 0.29928612 0.98786235]\n",
      " [0.         0.45302162 0.77864369 0.85379226]\n",
      " [0.         0.02740785 0.05722418 0.06178377]\n",
      " [0.         0.16917611 0.22696364 0.33584933]\n",
      " [0.         0.11374837 0.15944364 0.47499316]\n",
      " [0.         0.9400262  1.34672392 1.5111649 ]\n",
      " [0.         0.05004972 0.05540083 0.09958608]\n",
      " [0.         0.38640702 0.57459389 0.60929444]\n",
      " [0.         0.11374837 0.16626762 0.5433331 ]\n",
      " [0.         0.34841819 0.42265988 0.78361109]\n",
      " [0.         0.38640702 0.62652609 0.75058871]\n",
      " [0.         0.44324618 0.69564594 1.38586705]\n",
      " [0.         0.02740785 0.04840701 0.04966799]\n",
      " [0.         0.31721493 0.49340936 0.51787016]\n",
      " [0.         0.20808345 0.34841819 0.63996398]\n",
      " [0.         0.29283748 0.79229364 1.82589133]\n",
      " [0.         0.33864673 0.37707069 0.39594622]\n",
      " [0.         0.21397774 0.29928612 0.93361539]\n",
      " [0.         0.06072494 0.2092937  0.25853342]\n",
      " [0.         0.33223425 1.38513967 1.7289404 ]]\n",
      "K-neighbors\n",
      "---------------\n",
      "[[1. 0. 0. ... 0. 0. 0.]\n",
      " [0. 1. 0. ... 0. 0. 0.]\n",
      " [0. 0. 1. ... 0. 0. 1.]\n",
      " ...\n",
      " [0. 0. 0. ... 1. 0. 0.]\n",
      " [0. 0. 0. ... 0. 1. 0.]\n",
      " [0. 0. 0. ... 0. 0. 1.]]\n"
     ]
    }
   ],
   "source": [
    "if bdisplay:\n",
    "    print('Indices')\n",
    "    print('---------------')\n",
    "    print(indices1)\n",
    "    print('Distances')\n",
    "    print('---------------')\n",
    "    print(distances1)\n",
    "\n",
    "    print('K-neighbors')\n",
    "    print('---------------')\n",
    "    print(n1)"
   ]
  },
  {
   "cell_type": "code",
   "execution_count": 14,
   "metadata": {},
   "outputs": [
    {
     "name": "stdout",
     "output_type": "stream",
     "text": [
      "(50, 1)\n"
     ]
    }
   ],
   "source": [
    "X = np.array(Xdf['latitude']).reshape(1,-1).T\n",
    "if bdisplay:\n",
    "    print(X.shape)"
   ]
  },
  {
   "cell_type": "code",
   "execution_count": 15,
   "metadata": {},
   "outputs": [
    {
     "name": "stdout",
     "output_type": "stream",
     "text": [
      "(50, 1)\n"
     ]
    }
   ],
   "source": [
    "Y = np.array(Xdf['longitude']).reshape(1,-1).T\n",
    "if bdisplay:\n",
    "    print(Y.shape)"
   ]
  },
  {
   "cell_type": "code",
   "execution_count": 16,
   "metadata": {},
   "outputs": [
    {
     "name": "stdout",
     "output_type": "stream",
     "text": [
      "[50.] [58.] [-5.] [2.]\n"
     ]
    }
   ],
   "source": [
    "xmin=np.floor(min(X))\n",
    "xmax=np.ceil(max(X))\n",
    "ymin=np.floor(min(Y))\n",
    "ymax=np.ceil(max(Y))\n",
    "print(xmin,xmax,ymin,ymax)"
   ]
  },
  {
   "cell_type": "code",
   "execution_count": 17,
   "metadata": {},
   "outputs": [],
   "source": [
    "if n1.shape[0] > colors.shape[0]:\n",
    "    step=int(np.ceil(n1.shape[0]/colors.shape[0]))\n",
    "else:\n",
    "    step=1"
   ]
  },
  {
   "cell_type": "code",
   "execution_count": 18,
   "metadata": {},
   "outputs": [
    {
     "data": {
      "image/png": "[encoded data removed]",
      "text/plain": [
       "<Figure size 1080x360 with 1 Axes>"
      ]
     },
     "metadata": {
      "needs_background": "light"
     },
     "output_type": "display_data"
    }
   ],
   "source": [
    "fig1=plt.figure(figsize=(15, 5))\n",
    "titlename = '%d closest Post Code neighbors using NearestNeighbors on %d locations' % (ncnt1, nrcnt)\n",
    "plt.title(titlename)\n",
    "\n",
    "k=-1\n",
    "for p in range(0,n1.shape[0],step):  \n",
    "    l=n1[p]\n",
    "    k+=1\n",
    "    c=colors[k]\n",
    "    plt.scatter(X[p], \n",
    "                Y[p], \n",
    "                marker='o', \n",
    "                s=500,\n",
    "                alpha=0.5, \n",
    "                edgecolors='k',\n",
    "                antialiased=True,\n",
    "                c=c\n",
    "               )\n",
    "    for i in range(l.shape[0]):\n",
    "        if l[i] == 1:\n",
    "            plt.scatter(X[i], \n",
    "                        Y[i], \n",
    "                        marker='o', \n",
    "                        s=100, \n",
    "                        alpha=0.8, \n",
    "                        edgecolors='k',\n",
    "                        antialiased=True,\n",
    "                        c=c\n",
    "                       )\n",
    "            plt.plot(X[p],X[i], \n",
    "                     Y[p],Y[i],\n",
    "                     c=c,\n",
    "                     alpha=1.0,\n",
    "                     antialiased=True,\n",
    "                     linestyle='--',\n",
    "                     linewidth=3\n",
    "                    )\n",
    "\n",
    "plt.axis([xmin,xmax,ymin,ymax])\n",
    "#plt.autoscale(enable=True, axis='x', tight=False)\n",
    "plt.show()"
   ]
  },
  {
   "cell_type": "code",
   "execution_count": 19,
   "metadata": {},
   "outputs": [],
   "source": [
    "nbrs2 = NearestNeighbors(n_neighbors=ncnt2, \n",
    "                        algorithm='ball_tree',\n",
    "                         n_jobs=-1,\n",
    "                         metric='l2'            \n",
    "                       ).fit(X)\n",
    "\n",
    "distances2, indices2 = nbrs2.kneighbors(X)\n",
    "\n",
    "n2=nbrs2.kneighbors_graph(X).toarray()"
   ]
  },
  {
   "cell_type": "code",
   "execution_count": 20,
   "metadata": {},
   "outputs": [
    {
     "name": "stdout",
     "output_type": "stream",
     "text": [
      "Indices\n",
      "---------------\n",
      "[[ 0 32 42 28 20 36  9 12]\n",
      " [ 1 40 12  9 36 28 42 18]\n",
      " [ 2  3 21 49 15 30 47 24]\n",
      " [ 3  2 21 49 15 30 47 24]\n",
      " [ 4 33 11 44 10 23  6 39]\n",
      " [ 5 44 11 37  4 33 10 46]\n",
      " [ 6 39 23 10 33  4 45 11]\n",
      " [ 7  8 31 38 34 19 13 48]\n",
      " [ 8  7 31 38 34 19 13 48]\n",
      " [ 9 12 36 28 42 32  0  1]\n",
      " [10 23  6 39 33  4 11 44]\n",
      " [11  4 44 33 10 23  5  6]\n",
      " [12  9 36 28 42 32  1  0]\n",
      " [13 19 48 14 31  7  8 24]\n",
      " [14 48 13 19 31 24  7  8]\n",
      " [15 30 47 24 49 14 48 13]\n",
      " [16 26 25 22 27 17 29 20]\n",
      " [17 29 20  0 32 42 28 36]\n",
      " [18 41 43 46 40  1 12  9]\n",
      " [19 13 48 14 31  7  8 24]\n",
      " [20 29  0 17 32 42 28 36]\n",
      " [21 49  3 15  2 30 47 24]\n",
      " [22 17 26 29 16 20 25  0]\n",
      " [23 10  6 39 33  4 11 44]\n",
      " [24 14 48 13 19 31  7  8]\n",
      " [25 16 26 22 27 17 29 20]\n",
      " [26 16 25 22 27 17 29 20]\n",
      " [27 25 16 26 22 17 29 20]\n",
      " [28 36 42  9 12 32  0  1]\n",
      " [29 20 17  0 32 42 28 36]\n",
      " [30 47 15 24 14 48 13 19]\n",
      " [31  7  8 19 13 38 48 34]\n",
      " [32  0 42 28 36  9 12 20]\n",
      " [33  4 11 10 44 23  6 39]\n",
      " [34 38  8  7 31 35 19 13]\n",
      " [35 45 34 38  8  7 39  6]\n",
      " [36 28  9 12 42 32  0  1]\n",
      " [37 46 43 41 18  5 40  1]\n",
      " [38 34  8  7 31 19 13 35]\n",
      " [39  6 23 10 33  4 45 11]\n",
      " [40  1 12  9 18 36 28 42]\n",
      " [41 18 43 46 40  1 12  9]\n",
      " [42 28 36  9 12 32  0  1]\n",
      " [43 46 41 18 40  1 37 12]\n",
      " [44 11  4 33  5 10 23  6]\n",
      " [45 35 39  6 23 10 33  4]\n",
      " [46 43 41 18 40  1 37 12]\n",
      " [47 30 15 24 14 48 13 19]\n",
      " [48 14 13 19 31  7  8 24]\n",
      " [49 21 15 30 47  3  2 24]]\n",
      "Distances\n",
      "---------------\n",
      "[[0.00000000e+00 1.89099641e-02 4.60024961e-02 5.45322447e-02\n",
      "  5.52453710e-02 5.80237289e-02 6.43159176e-02 6.60816617e-02]\n",
      " [0.00000000e+00 9.99863229e-03 6.29257230e-02 6.46914670e-02\n",
      "  7.09836558e-02 7.44751400e-02 8.30048886e-02 9.07556015e-02]\n",
      " [0.00000000e+00 2.46564570e-01 1.28667213e+00 1.58339222e+00\n",
      "  2.53762819e+00 2.67003411e+00 2.71870264e+00 3.42828279e+00]\n",
      " [0.00000000e+00 2.46564570e-01 1.04010756e+00 1.33682765e+00\n",
      "  2.29106362e+00 2.42346954e+00 2.47213807e+00 3.18171822e+00]\n",
      " [0.00000000e+00 1.73514379e-02 5.22928130e-02 1.13048378e-01\n",
      "  1.16755016e-01 1.56781055e-01 1.98055058e-01 2.08857109e-01]\n",
      " [0.00000000e+00 1.77292490e-01 2.38048055e-01 2.80356305e-01\n",
      "  2.90340868e-01 3.07692306e-01 4.07095883e-01 4.42619370e-01]\n",
      " [0.00000000e+00 1.08020515e-02 4.12740027e-02 8.13000424e-02\n",
      "  1.80703620e-01 1.98055058e-01 2.48481051e-01 2.50347871e-01]\n",
      " [0.00000000e+00 5.89399857e-05 2.86173510e-02 1.38021498e-01\n",
      "  1.58280915e-01 1.71268546e-01 1.72784971e-01 1.95375451e-01]\n",
      " [0.00000000e+00 5.89399857e-05 2.86762910e-02 1.37962558e-01\n",
      "  1.58221975e-01 1.71327486e-01 1.72843911e-01 1.95434391e-01]\n",
      " [0.00000000e+00 1.76574407e-03 6.29218873e-03 9.78367293e-03\n",
      "  1.83134215e-02 4.54059535e-02 6.43159176e-02 6.46914670e-02]\n",
      " [0.00000000e+00 4.00260397e-02 8.13000424e-02 9.21020939e-02\n",
      "  9.94035777e-02 1.16755016e-01 1.69047829e-01 2.29803394e-01]\n",
      " [0.00000000e+00 5.22928130e-02 6.07555652e-02 6.96442508e-02\n",
      "  1.69047829e-01 2.09073868e-01 2.38048055e-01 2.50347871e-01]\n",
      " [0.00000000e+00 1.76574407e-03 8.05793280e-03 1.15494170e-02\n",
      "  2.00791656e-02 4.71716975e-02 6.29257230e-02 6.60816617e-02]\n",
      " [0.00000000e+00 1.51642541e-03 2.25904800e-02 4.35340307e-02\n",
      "  1.44167620e-01 1.72784971e-01 1.72843911e-01 2.58808587e-01]\n",
      " [0.00000000e+00 2.09435507e-02 4.35340307e-02 4.50504561e-02\n",
      "  1.87701651e-01 2.15274557e-01 2.16319002e-01 2.16377942e-01]\n",
      " [0.00000000e+00 1.32405916e-01 1.81074446e-01 8.90654602e-01\n",
      "  9.54235973e-01 1.10592916e+00 1.12687271e+00 1.14946319e+00]\n",
      " [0.00000000e+00 2.05483400e-02 3.10888048e-02 2.83226350e-01\n",
      "  4.45141825e-01 5.17780811e-01 5.64852614e-01 5.76365793e-01]\n",
      " [0.00000000e+00 4.70718031e-02 5.85849821e-02 1.13830353e-01\n",
      "  1.32740317e-01 1.59832849e-01 1.68362598e-01 1.71854082e-01]\n",
      " [0.00000000e+00 2.14981018e-02 4.96547830e-02 6.76063324e-02\n",
      "  8.07569692e-02 9.07556015e-02 1.53681324e-01 1.55447069e-01]\n",
      " [0.00000000e+00 1.51642541e-03 2.41069054e-02 4.50504561e-02\n",
      "  1.42651195e-01 1.71268546e-01 1.71327486e-01 2.60325013e-01]\n",
      " [0.00000000e+00 1.15131790e-02 5.52453710e-02 5.85849821e-02\n",
      "  7.41553351e-02 1.01247867e-01 1.09777616e-01 1.13269100e-01]\n",
      " [0.00000000e+00 2.96720091e-01 1.04010756e+00 1.25095606e+00\n",
      "  1.28667213e+00 1.38336198e+00 1.43203051e+00 2.14161067e+00]\n",
      " [0.00000000e+00 2.34554462e-01 2.62678010e-01 2.81626265e-01\n",
      "  2.83226350e-01 2.93139444e-01 3.14315154e-01 3.48384815e-01]\n",
      " [0.00000000e+00 4.00260397e-02 4.12740027e-02 5.20760541e-02\n",
      "  1.39429617e-01 1.56781055e-01 2.09073868e-01 2.69829433e-01]\n",
      " [0.00000000e+00 2.15274557e-01 2.36218107e-01 2.58808587e-01\n",
      "  2.60325013e-01 4.02976207e-01 4.31593558e-01 4.31652498e-01]\n",
      " [0.00000000e+00 3.10888048e-02 5.16371448e-02 3.14315154e-01\n",
      "  4.14053021e-01 5.48869616e-01 5.95941419e-01 6.07454598e-01]\n",
      " [0.00000000e+00 2.05483400e-02 5.16371448e-02 2.62678010e-01\n",
      "  4.65690165e-01 4.97232471e-01 5.44304274e-01 5.55817453e-01]\n",
      " [0.00000000e+00 4.14053021e-01 4.45141825e-01 4.65690165e-01\n",
      "  7.28368175e-01 9.62922637e-01 1.00999444e+00 1.02150762e+00]\n",
      " [0.00000000e+00 3.49148420e-03 8.52974861e-03 9.78367293e-03\n",
      "  1.15494170e-02 3.56222805e-02 5.45322447e-02 7.44751400e-02]\n",
      " [0.00000000e+00 1.15131790e-02 4.70718031e-02 6.67585500e-02\n",
      "  8.56685141e-02 1.12761046e-01 1.21290795e-01 1.24782279e-01]\n",
      " [0.00000000e+00 4.86685302e-02 1.32405916e-01 7.58248686e-01\n",
      "  9.73523242e-01 9.94466793e-01 1.01705727e+00 1.01857370e+00]\n",
      " [0.00000000e+00 2.86173510e-02 2.86762910e-02 1.42651195e-01\n",
      "  1.44167620e-01 1.66638849e-01 1.66758100e-01 1.86898266e-01]\n",
      " [0.00000000e+00 1.89099641e-02 2.70925319e-02 3.56222805e-02\n",
      "  3.91137647e-02 4.54059535e-02 4.71716975e-02 7.41553351e-02]\n",
      " [0.00000000e+00 1.73514379e-02 6.96442508e-02 9.94035777e-02\n",
      "  1.30399816e-01 1.39429617e-01 1.80703620e-01 1.91505672e-01]\n",
      " [0.00000000e+00 2.02594171e-02 1.58221975e-01 1.58280915e-01\n",
      "  1.86898266e-01 2.99122293e-01 3.29549461e-01 3.31065886e-01]\n",
      " [0.00000000e+00 2.36982441e-01 2.99122293e-01 3.19381710e-01\n",
      "  4.57344268e-01 4.57403208e-01 4.74661441e-01 4.85463493e-01]\n",
      " [0.00000000e+00 3.49148420e-03 6.29218873e-03 8.05793280e-03\n",
      "  1.20212328e-02 3.91137647e-02 5.80237289e-02 7.09836558e-02]\n",
      " [0.00000000e+00 1.62263065e-01 1.80214615e-01 2.08371296e-01\n",
      "  2.29869398e-01 2.80356305e-01 3.10626367e-01 3.20624999e-01]\n",
      " [0.00000000e+00 2.02594171e-02 1.37962558e-01 1.38021498e-01\n",
      "  1.66638849e-01 3.09290043e-01 3.10806469e-01 3.19381710e-01]\n",
      " [0.00000000e+00 1.08020515e-02 5.20760541e-02 9.21020939e-02\n",
      "  1.91505672e-01 2.08857109e-01 2.37679000e-01 2.61149922e-01]\n",
      " [0.00000000e+00 9.99863229e-03 7.29243552e-02 7.46900993e-02\n",
      "  8.07569692e-02 8.09822880e-02 8.44737722e-02 9.30035209e-02]\n",
      " [0.00000000e+00 2.14981018e-02 2.81566812e-02 4.61082306e-02\n",
      "  1.02255071e-01 1.12253703e-01 1.75179426e-01 1.76945170e-01]\n",
      " [0.00000000e+00 8.52974861e-03 1.20212328e-02 1.83134215e-02\n",
      "  2.00791656e-02 2.70925319e-02 4.60024961e-02 8.30048886e-02]\n",
      " [0.00000000e+00 1.79515493e-02 2.81566812e-02 4.96547830e-02\n",
      "  1.30411752e-01 1.40410385e-01 1.80214615e-01 2.03336107e-01]\n",
      " [0.00000000e+00 6.07555652e-02 1.13048378e-01 1.30399816e-01\n",
      "  1.77292490e-01 2.29803394e-01 2.69829433e-01 3.11103436e-01]\n",
      " [0.00000000e+00 2.36982441e-01 2.37679000e-01 2.48481051e-01\n",
      "  2.89755054e-01 3.29781094e-01 4.29184672e-01 4.46536109e-01]\n",
      " [0.00000000e+00 1.79515493e-02 4.61082306e-02 6.76063324e-02\n",
      "  1.48363302e-01 1.58361934e-01 1.62263065e-01 2.21287657e-01]\n",
      " [0.00000000e+00 4.86685302e-02 1.81074446e-01 7.09580155e-01\n",
      "  9.24854712e-01 9.45798263e-01 9.68388743e-01 9.69905168e-01]\n",
      " [0.00000000e+00 2.09435507e-02 2.25904800e-02 2.41069054e-02\n",
      "  1.66758100e-01 1.95375451e-01 1.95434391e-01 2.36218107e-01]\n",
      " [0.00000000e+00 2.96720091e-01 9.54235973e-01 1.08664189e+00\n",
      "  1.13531042e+00 1.33682765e+00 1.58339222e+00 1.84489057e+00]]\n",
      "K-neighbors\n",
      "---------------\n",
      "[[1. 0. 0. ... 0. 0. 0.]\n",
      " [0. 1. 0. ... 0. 0. 0.]\n",
      " [0. 0. 1. ... 1. 0. 1.]\n",
      " ...\n",
      " [0. 0. 0. ... 1. 1. 0.]\n",
      " [0. 0. 0. ... 0. 1. 0.]\n",
      " [0. 0. 1. ... 1. 0. 1.]]\n"
     ]
    }
   ],
   "source": [
    "if bdisplay:\n",
    "    print('Indices')\n",
    "    print('---------------')\n",
    "    print(indices2)\n",
    "    print('Distances')\n",
    "    print('---------------')\n",
    "    print(distances2)\n",
    "\n",
    "    print('K-neighbors')\n",
    "    print('---------------')\n",
    "    print(n2)"
   ]
  },
  {
   "cell_type": "code",
   "execution_count": 21,
   "metadata": {},
   "outputs": [
    {
     "data": {
      "image/png": "[encoded data removed]",
      "text/plain": [
       "<Figure size 1080x360 with 1 Axes>"
      ]
     },
     "metadata": {
      "needs_background": "light"
     },
     "output_type": "display_data"
    }
   ],
   "source": [
    "fig2=plt.figure(figsize=(15, 5))\n",
    "titlename = '%d closest Post Code neighbors using NearestNeighbors %d locations' % (ncnt2, nrcnt)\n",
    "plt.title(titlename)\n",
    "k=-1\n",
    "for p in range(0,n2.shape[0],step): \n",
    "    l=n2[p]\n",
    "    k+=1\n",
    "    c=colors[k]\n",
    "    plt.scatter(X[p], \n",
    "                Y[p], \n",
    "                marker='o', \n",
    "                s=500,\n",
    "                alpha=0.5, \n",
    "                edgecolors='k',\n",
    "                antialiased=True,\n",
    "                c=c\n",
    "               )\n",
    "    for i in range(l.shape[0]):\n",
    "        if l[i] == 1:\n",
    "            plt.scatter(X[i], \n",
    "                        Y[i], \n",
    "                        marker='o', \n",
    "                        s=100, \n",
    "                        alpha=0.8, \n",
    "                        edgecolors='k',\n",
    "                        antialiased=True,\n",
    "                        c=c\n",
    "                       )\n",
    "            plt.plot(X[p],X[i], \n",
    "                     Y[p],Y[i],\n",
    "                     c=c,\n",
    "                     alpha=0.6,\n",
    "                     antialiased=True,\n",
    "                     linestyle='--',\n",
    "                     linewidth=3\n",
    "                    )\n",
    "\n",
    "plt.axis([xmin,xmax,ymin,ymax])\n",
    "#plt.autoscale(enable=True, axis='x', tight=False)\n",
    "plt.show()"
   ]
  },
  {
   "cell_type": "code",
   "execution_count": 22,
   "metadata": {},
   "outputs": [
    {
     "name": "stdout",
     "output_type": "stream",
     "text": [
      "C:\\Users\\AndreVermeulen\\Documents\\My Book\\apress\\Industrial Machine Learning\\book\\GitHub\\Upload\\industrial-machine-learning\\Results\\Chapter 06\n"
     ]
    }
   ],
   "source": [
    "imagepath = os.path.join(*[os.path.dirname(os.path.dirname(os.getcwd())),'Results','Chapter 06'])\n",
    "print(imagepath)\n",
    "\n",
    "if not os.path.exists(imagepath):\n",
    "    os.makedirs(imagepath)\n",
    "    \n",
    "imagename = os.path.join(*[os.path.dirname(os.path.dirname(os.getcwd())),'Results','Chapter 06','Chapter-006-Example-001B-01.jpg'])\n",
    "fig1.savefig(imagename, bbox_inches='tight')     \n",
    "imagename = os.path.join(*[os.path.dirname(os.path.dirname(os.getcwd())),'Results','Chapter 06','Chapter-006-Example-001B-02.jpg'])\n",
    "fig2.savefig(imagename, bbox_inches='tight') "
   ]
  },
  {
   "cell_type": "markdown",
   "metadata": {},
   "source": [
    "## Done"
   ]
  },
  {
   "cell_type": "code",
   "execution_count": 23,
   "metadata": {},
   "outputs": [
    {
     "name": "stdout",
     "output_type": "stream",
     "text": [
      "Done! 2019-10-19 19:46:02.778035\n"
     ]
    }
   ],
   "source": [
    "import datetime\n",
    "now = datetime.datetime.now()\n",
    "print('Done!',str(now))"
   ]
  },
  {
   "cell_type": "code",
   "execution_count": null,
   "metadata": {},
   "outputs": [],
   "source": []
  }
 ],
 "metadata": {
  "kernelspec": {
   "display_name": "Python 3",
   "language": "python",
   "name": "python3"
  },
  "language_info": {
   "codemirror_mode": {
    "name": "ipython",
    "version": 3
   },
   "file_extension": ".py",
   "mimetype": "text/x-python",
   "name": "python",
   "nbconvert_exporter": "python",
   "pygments_lexer": "ipython3",
   "version": "3.7.3"
  }
 },
 "nbformat": 4,
 "nbformat_minor": 2
}
