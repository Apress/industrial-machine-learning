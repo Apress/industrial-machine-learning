{
 "cells": [
  {
   "cell_type": "markdown",
   "metadata": {},
   "source": [
    "## Apress - Industrialized Machine Learning Examples\n",
    "\n",
    "Andreas Francois Vermeulen\n",
    "2019\n",
    "\n",
    "### This is an example add-on to a book and needs to be accepted as part of that copyright."
   ]
  },
  {
   "cell_type": "markdown",
   "metadata": {},
   "source": [
    "# Chapter 004 Example 009B"
   ]
  },
  {
   "cell_type": "markdown",
   "metadata": {},
   "source": [
    "## Part A - Load libraries"
   ]
  },
  {
   "cell_type": "code",
   "execution_count": 1,
   "metadata": {},
   "outputs": [],
   "source": [
    "from sklearn.naive_bayes import GaussianNB\n",
    "from sklearn.naive_bayes import MultinomialNB\n",
    "from sklearn.naive_bayes import BernoulliNB\n",
    "import pandas as pd\n",
    "import os\n",
    "import numpy as np"
   ]
  },
  {
   "cell_type": "markdown",
   "metadata": {},
   "source": [
    "## Part B - Load Data"
   ]
  },
  {
   "cell_type": "code",
   "execution_count": 2,
   "metadata": {},
   "outputs": [
    {
     "name": "stdout",
     "output_type": "stream",
     "text": [
      "C:\\Users\\AndreVermeulen\\Documents\\My Book\\apress\\Industrial Machine Learning\\book\\GitHub\\Upload\\industrial-machine-learning\\Data\\Roses02.csv\n"
     ]
    }
   ],
   "source": [
    "fileName = '../../Data/Roses02.csv'\n",
    "fileFullName = os.path.abspath(fileName)\n",
    "print(fileFullName)"
   ]
  },
  {
   "cell_type": "code",
   "execution_count": 3,
   "metadata": {},
   "outputs": [
    {
     "name": "stdout",
     "output_type": "stream",
     "text": [
      "(600, 6)\n",
      "Index(['F01', 'F02', 'F03', 'F04', 'T01', 'T02'], dtype='object')\n"
     ]
    }
   ],
   "source": [
    "rosesdf= pd.read_csv(fileFullName,header=0)\n",
    "print(rosesdf.shape)\n",
    "print(rosesdf.columns)"
   ]
  },
  {
   "cell_type": "code",
   "execution_count": 4,
   "metadata": {},
   "outputs": [],
   "source": [
    "X_raw = np.array(rosesdf[['F01', 'F02', 'F03', 'F04']]) \n",
    "Y = np.array(rosesdf['T02'])"
   ]
  },
  {
   "cell_type": "markdown",
   "metadata": {},
   "source": [
    "## Part C - Load Data Feature F01, F02, F03 and F04"
   ]
  },
  {
   "cell_type": "code",
   "execution_count": 5,
   "metadata": {},
   "outputs": [],
   "source": [
    "X = np.array(X_raw[:,[0,1,2,3]]) "
   ]
  },
  {
   "cell_type": "markdown",
   "metadata": {},
   "source": [
    "## Part D - GaussianNB"
   ]
  },
  {
   "cell_type": "code",
   "execution_count": 6,
   "metadata": {},
   "outputs": [
    {
     "name": "stdout",
     "output_type": "stream",
     "text": [
      "GaussianNB: Number of mislabeled Rose Feature F01, F02, F03 and F04 points out of a total 600 points : 53 =>   8.833 %\n"
     ]
    }
   ],
   "source": [
    "gnb = GaussianNB()\n",
    "y_pred = gnb.fit(X, Y).predict(X)\n",
    "tot=X.shape[0]\n",
    "totwrong=(Y != y_pred).sum()\n",
    "perswrong=(totwrong/tot) * 100\n",
    "print(\"GaussianNB: Number of mislabeled Rose Feature F01, F02, F03 and F04 points out of a total %d points : %d => %7.3f %%\" % (tot, totwrong, perswrong))"
   ]
  },
  {
   "cell_type": "markdown",
   "metadata": {},
   "source": [
    "## Part E - MultinomialNB"
   ]
  },
  {
   "cell_type": "code",
   "execution_count": 7,
   "metadata": {},
   "outputs": [
    {
     "name": "stdout",
     "output_type": "stream",
     "text": [
      "MultinomialNB: Number of mislabeled Rose Feature F01, F02, F03 and F04 points out of a total 600 points : 35 =>   5.833 %\n"
     ]
    }
   ],
   "source": [
    "mnb = MultinomialNB()\n",
    "y_pred = mnb.fit(X, Y).predict(X)\n",
    "tot=X.shape[0]\n",
    "totwrong=(Y != y_pred).sum()\n",
    "perswrong=(totwrong/tot) * 100\n",
    "print(\"MultinomialNB: Number of mislabeled Rose Feature F01, F02, F03 and F04 points out of a total %d points : %d => %7.3f %%\" % (tot, totwrong, perswrong))"
   ]
  },
  {
   "cell_type": "markdown",
   "metadata": {},
   "source": [
    "## Part F - BernoulliNB"
   ]
  },
  {
   "cell_type": "code",
   "execution_count": 8,
   "metadata": {},
   "outputs": [
    {
     "name": "stdout",
     "output_type": "stream",
     "text": [
      "BernoulliNB: Number of mislabeled Rose Feature F01, F02, F03 and F04 points out of a total 600 points : 200 =>  33.333 %\n"
     ]
    }
   ],
   "source": [
    "bnb = BernoulliNB()\n",
    "y_pred = bnb.fit(X, Y).predict(X)\n",
    "tot=X.shape[0]\n",
    "totwrong=(Y != y_pred).sum()\n",
    "perswrong=(totwrong/tot) * 100\n",
    "print(\"BernoulliNB: Number of mislabeled Rose Feature F01, F02, F03 and F04 points out of a total %d points : %d => %7.3f %%\" % (tot, totwrong, perswrong))"
   ]
  },
  {
   "cell_type": "code",
   "execution_count": 9,
   "metadata": {},
   "outputs": [
    {
     "name": "stdout",
     "output_type": "stream",
     "text": [
      "Done! 2019-10-19 17:22:08.724457\n"
     ]
    }
   ],
   "source": [
    "import datetime\n",
    "now = datetime.datetime.now()\n",
    "print('Done!',str(now))"
   ]
  },
  {
   "cell_type": "code",
   "execution_count": null,
   "metadata": {},
   "outputs": [],
   "source": []
  }
 ],
 "metadata": {
  "kernelspec": {
   "display_name": "Python 3",
   "language": "python",
   "name": "python3"
  },
  "language_info": {
   "codemirror_mode": {
    "name": "ipython",
    "version": 3
   },
   "file_extension": ".py",
   "mimetype": "text/x-python",
   "name": "python",
   "nbconvert_exporter": "python",
   "pygments_lexer": "ipython3",
   "version": "3.7.3"
  }
 },
 "nbformat": 4,
 "nbformat_minor": 2
}
