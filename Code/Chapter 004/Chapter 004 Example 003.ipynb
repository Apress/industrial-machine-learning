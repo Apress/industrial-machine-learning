{
 "cells": [
  {
   "cell_type": "markdown",
   "metadata": {},
   "source": [
    "## Apress - Industrialized Machine Learning Examples\n",
    "\n",
    "Andreas Francois Vermeulen\n",
    "2019\n",
    "\n",
    "### This is an example add-on to a book and needs to be accepted as part of that copyright."
   ]
  },
  {
   "cell_type": "markdown",
   "metadata": {},
   "source": [
    "# Chapter 004 Example 003"
   ]
  },
  {
   "cell_type": "markdown",
   "metadata": {},
   "source": [
    "## Part A - Cross-validation on Water Sickness Dataset"
   ]
  },
  {
   "cell_type": "code",
   "execution_count": 1,
   "metadata": {},
   "outputs": [],
   "source": [
    "from sklearn.linear_model import LassoCV\n",
    "from sklearn.linear_model import Lasso\n",
    "from sklearn.model_selection import KFold\n",
    "from sklearn.model_selection import GridSearchCV\n",
    "\n",
    "import os\n",
    "import numpy as np\n",
    "import pandas as pd\n",
    "import matplotlib.pyplot as plt\n",
    "%matplotlib inline"
   ]
  },
  {
   "cell_type": "code",
   "execution_count": 2,
   "metadata": {},
   "outputs": [
    {
     "name": "stdout",
     "output_type": "stream",
     "text": [
      "C:\\Users\\AndreVermeulen\\Documents\\My Book\\apress\\Industrial Machine Learning\\book\\GitHub\\Upload\\industrial-machine-learning\\Data\\Sickness04.csv\n"
     ]
    }
   ],
   "source": [
    "fileName = '../../Data/Sickness04.csv'\n",
    "fileFullName = os.path.abspath(fileName)\n",
    "print(fileFullName)"
   ]
  },
  {
   "cell_type": "code",
   "execution_count": 3,
   "metadata": {},
   "outputs": [
    {
     "name": "stdout",
     "output_type": "stream",
     "text": [
      "(442, 11)\n"
     ]
    }
   ],
   "source": [
    "sickdf= pd.read_csv(fileFullName,header=0)\n",
    "print(sickdf.shape)"
   ]
  },
  {
   "cell_type": "code",
   "execution_count": 4,
   "metadata": {},
   "outputs": [],
   "source": [
    "sickness_X = sickdf[['F01','F05','F06']].copy(deep=True)\n",
    "sickness_y = sickdf[['T']].copy(deep=True)\n",
    "sickness_y.columns = (['T'])"
   ]
  },
  {
   "cell_type": "code",
   "execution_count": 5,
   "metadata": {},
   "outputs": [],
   "source": [
    "X = np.array(sickness_X[:250])"
   ]
  },
  {
   "cell_type": "code",
   "execution_count": 6,
   "metadata": {},
   "outputs": [
    {
     "data": {
      "text/plain": [
       "(250, 3)"
      ]
     },
     "execution_count": 6,
     "metadata": {},
     "output_type": "execute_result"
    }
   ],
   "source": [
    "X.shape"
   ]
  },
  {
   "cell_type": "code",
   "execution_count": 7,
   "metadata": {},
   "outputs": [],
   "source": [
    "y = np.array(sickness_y['T'][:250])"
   ]
  },
  {
   "cell_type": "code",
   "execution_count": 8,
   "metadata": {},
   "outputs": [
    {
     "data": {
      "text/plain": [
       "(250,)"
      ]
     },
     "execution_count": 8,
     "metadata": {},
     "output_type": "execute_result"
    }
   ],
   "source": [
    "y.shape"
   ]
  },
  {
   "cell_type": "markdown",
   "metadata": {},
   "source": [
    "## Part B - Activate Lasso (least absolute shrinkage and selection operator)"
   ]
  },
  {
   "cell_type": "code",
   "execution_count": 9,
   "metadata": {},
   "outputs": [],
   "source": [
    "lasso = Lasso(random_state=321)"
   ]
  },
  {
   "cell_type": "markdown",
   "metadata": {},
   "source": [
    "## Part C - Activate GridSearchCV \n",
    "### (Exhaustive search over specified parameter values for an estimator)"
   ]
  },
  {
   "cell_type": "code",
   "execution_count": 10,
   "metadata": {},
   "outputs": [],
   "source": [
    "alphas = np.logspace(-3, -0.75, 50)\n",
    "#print(alphas)\n",
    "tuned_parameters = [{'alpha': alphas}]\n",
    "n_folds = 25"
   ]
  },
  {
   "cell_type": "code",
   "execution_count": 11,
   "metadata": {},
   "outputs": [],
   "source": [
    "clf = GridSearchCV(lasso, tuned_parameters, cv=n_folds, refit=False, n_jobs=16, verbose=True, return_train_score=True)"
   ]
  },
  {
   "cell_type": "markdown",
   "metadata": {},
   "source": [
    "## Part D - Fit the data by training the Algoritm"
   ]
  },
  {
   "cell_type": "code",
   "execution_count": 12,
   "metadata": {},
   "outputs": [
    {
     "name": "stdout",
     "output_type": "stream",
     "text": [
      "Fitting 25 folds for each of 50 candidates, totalling 1250 fits\n"
     ]
    },
    {
     "name": "stderr",
     "output_type": "stream",
     "text": [
      "[Parallel(n_jobs=16)]: Using backend LokyBackend with 16 concurrent workers.\n",
      "[Parallel(n_jobs=16)]: Done  18 tasks      | elapsed:    9.6s\n",
      "[Parallel(n_jobs=16)]: Done 1250 out of 1250 | elapsed:   19.3s finished\n"
     ]
    },
    {
     "data": {
      "text/plain": [
       "GridSearchCV(cv=25, error_score='raise-deprecating',\n",
       "             estimator=Lasso(alpha=1.0, copy_X=True, fit_intercept=True,\n",
       "                             max_iter=1000, normalize=False, positive=False,\n",
       "                             precompute=False, random_state=321,\n",
       "                             selection='cyclic', tol=0.0001, warm_start=False),\n",
       "             iid='warn', n_jobs=16,\n",
       "             param_grid=[{'alpha': array([0.001     , 0.00111152, 0.00123548, 0.00137327, 0.00152642,\n",
       "       0.00169665, 0.001...\n",
       "       0.01405915, 0.01562707, 0.01736984, 0.01930698, 0.02146015,\n",
       "       0.02385344, 0.02651364, 0.02947052, 0.03275715, 0.03641032,\n",
       "       0.0404709 , 0.04498433, 0.0500011 , 0.05557737, 0.06177551,\n",
       "       0.06866488, 0.07632258, 0.08483429, 0.09429525, 0.10481131,\n",
       "       0.11650016, 0.12949258, 0.14393396, 0.15998587, 0.17782794])}],\n",
       "             pre_dispatch='2*n_jobs', refit=False, return_train_score=True,\n",
       "             scoring=None, verbose=True)"
      ]
     },
     "execution_count": 12,
     "metadata": {},
     "output_type": "execute_result"
    }
   ],
   "source": [
    "clf.fit(X, y)"
   ]
  },
  {
   "cell_type": "markdown",
   "metadata": {},
   "source": [
    "## Part E - Plot the results of the search."
   ]
  },
  {
   "cell_type": "code",
   "execution_count": 13,
   "metadata": {},
   "outputs": [
    {
     "data": {
      "image/png": "[encoded data removed]",
      "text/plain": [
       "<Figure size 1080x360 with 1 Axes>"
      ]
     },
     "metadata": {
      "needs_background": "light"
     },
     "output_type": "display_data"
    }
   ],
   "source": [
    "scores = clf.cv_results_['mean_test_score']\n",
    "fig1 = plt.figure(figsize=(15, 5))\n",
    "plt.xlabel('Alphas')\n",
    "plt.ylabel('Scores')\n",
    "plt.semilogx(alphas, scores)\n",
    "plt.show()"
   ]
  },
  {
   "cell_type": "code",
   "execution_count": 14,
   "metadata": {},
   "outputs": [
    {
     "data": {
      "image/png": "[encoded data removed]",
      "text/plain": [
       "<Figure size 1080x360 with 1 Axes>"
      ]
     },
     "metadata": {
      "needs_background": "light"
     },
     "output_type": "display_data"
    }
   ],
   "source": [
    "scores_std = clf.cv_results_['std_test_score']\n",
    "fig2 = plt.figure(figsize=(15, 5))\n",
    "plt.xlabel('Alphas')\n",
    "plt.ylabel('Scores (Standard)')\n",
    "plt.semilogx(alphas, scores_std)\n",
    "plt.show()"
   ]
  },
  {
   "cell_type": "markdown",
   "metadata": {},
   "source": [
    "## Part F - Plot error lines showing +/- std. errors of the scores"
   ]
  },
  {
   "cell_type": "code",
   "execution_count": 15,
   "metadata": {},
   "outputs": [
    {
     "data": {
      "image/png": "[encoded data removed]",
      "text/plain": [
       "<Figure size 1080x576 with 1 Axes>"
      ]
     },
     "metadata": {
      "needs_background": "light"
     },
     "output_type": "display_data"
    }
   ],
   "source": [
    "scores_std = clf.cv_results_['std_test_score']\n",
    "std_error = scores_std / np.sqrt(n_folds)\n",
    "\n",
    "fig3 = plt.figure(figsize=(15, 8))\n",
    "plt.semilogx(alphas, scores + std_error, 'b--')\n",
    "plt.semilogx(alphas, scores - std_error, 'b--')\n",
    "\n",
    "#alpha=0.2 controls the translucency of the fill color\n",
    "plt.fill_between(alphas, scores + std_error, scores - std_error, alpha=0.2)\n",
    "\n",
    "plt.ylabel('CV score +/- std error')\n",
    "plt.xlabel('alpha')\n",
    "plt.axhline(np.max(scores), linestyle='--', color='0.8')\n",
    "plt.xlim([alphas[0], alphas[-1]])\n",
    "plt.show()"
   ]
  },
  {
   "cell_type": "markdown",
   "metadata": {},
   "source": [
    "## Part G - Question?\n",
    "\n",
    "Bonus: \n",
    "\n",
    "How can you trust the selection of alpha?\n",
    "\n",
    "To answer this question you use the LassoCV object that sets its alpha parameter automatically from the data by internal cross-validation\n",
    "(i.e. it performs cross-validation on the training data it receives).\n",
    "\n",
    "You simply use external cross-validation to observe how much the automatically obtained alphas differ across different cross-validation folds."
   ]
  },
  {
   "cell_type": "code",
   "execution_count": 16,
   "metadata": {},
   "outputs": [],
   "source": [
    "lasso_cv = LassoCV(alphas=alphas, cv=5, random_state=0)\n",
    "k_fold = KFold(n_folds)"
   ]
  },
  {
   "cell_type": "code",
   "execution_count": 17,
   "metadata": {},
   "outputs": [
    {
     "name": "stdout",
     "output_type": "stream",
     "text": [
      "Answer to the important question:\n",
      "How can you trust the selection of an alpha?\n",
      "\n",
      "Alpha parameters maximising the generalization score on \n",
      "different subsets of the Sickness data:\n",
      "     [fold   0] alpha:  0.02947, score: -0.28715\n",
      "     [fold   1] alpha:  0.03276, score:  0.05880\n",
      "     [fold   2] alpha:  0.01931, score:  0.11514\n",
      "     [fold   3] alpha:  0.06866, score: -0.00656\n",
      "     [fold   4] alpha:  0.05000, score: -0.22933\n",
      "     [fold   5] alpha:  0.05558, score:  0.05195\n",
      "     [fold   6] alpha:  0.05558, score: -0.28285\n",
      "     [fold   7] alpha:  0.05000, score: -0.09796\n",
      "     [fold   8] alpha:  0.05000, score: -0.89133\n",
      "     [fold   9] alpha:  0.06866, score: -0.10836\n",
      "     [fold  10] alpha:  0.04047, score: -0.08460\n",
      "     [fold  11] alpha:  0.04047, score: -0.64245\n",
      "     [fold  12] alpha:  0.04498, score: -0.18689\n",
      "     [fold  13] alpha:  0.04047, score: -0.34578\n",
      "     [fold  14] alpha:  0.06178, score: -0.04005\n",
      "     [fold  15] alpha:  0.06178, score:  0.03641\n",
      "     [fold  16] alpha:  0.04498, score:  0.24627\n",
      "     [fold  17] alpha:  0.04498, score:  0.15471\n",
      "     [fold  18] alpha:  0.04047, score: -0.20797\n",
      "     [fold  19] alpha:  0.05558, score: -0.29854\n",
      "     [fold  20] alpha:  0.05558, score:  0.15500\n",
      "     [fold  21] alpha:  0.06178, score: -0.03635\n",
      "     [fold  22] alpha:  0.05558, score: -0.12260\n",
      "     [fold  23] alpha:  0.05558, score: -0.04003\n",
      "     [fold  24] alpha:  0.05558, score:  0.12859\n",
      "\n",
      "The simple Answer is:\n",
      "\n",
      "For this example you would not trust alpha since solution obtains different alphas for different\n",
      "subsets of the data and addisionally the scores for your alphas vary substantially.\n"
     ]
    }
   ],
   "source": [
    "print(\"Answer to the important question:\")\n",
    "print(\"How can you trust the selection of an alpha?\\n\")\n",
    "print(\"Alpha parameters maximising the generalization score on \")\n",
    "print(\"different subsets of the Sickness data:\")\n",
    "for k, (train, test) in enumerate(k_fold.split(X, y)):\n",
    "    lasso_cv.fit(X[train], y[train])\n",
    "    print(\"     [fold {0: 3d}] alpha: {1: 0.5f}, score: {2: 0.5f}\".\n",
    "          format(k, lasso_cv.alpha_, lasso_cv.score(X[test], y[test])))\n",
    "print()\n",
    "print(\"The simple Answer is:\\n\")\n",
    "print(\"For this example you would not trust alpha since solution obtains different alphas for different\")\n",
    "print(\"subsets of the data and addisionally the scores for your alphas vary substantially.\")"
   ]
  },
  {
   "cell_type": "code",
   "execution_count": 18,
   "metadata": {},
   "outputs": [
    {
     "name": "stdout",
     "output_type": "stream",
     "text": [
      "C:\\Users\\AndreVermeulen\\Documents\\My Book\\apress\\Industrial Machine Learning\\book\\GitHub\\Upload\\industrial-machine-learning\\Results\\Chapter 04\n"
     ]
    }
   ],
   "source": [
    "imagepath = os.path.join(*[os.path.dirname(os.path.dirname(os.getcwd())),'Results','Chapter 04'])\n",
    "print(imagepath)"
   ]
  },
  {
   "cell_type": "code",
   "execution_count": 19,
   "metadata": {},
   "outputs": [],
   "source": [
    "if not os.path.exists(imagepath):\n",
    "    os.makedirs(imagepath)"
   ]
  },
  {
   "cell_type": "code",
   "execution_count": 20,
   "metadata": {},
   "outputs": [],
   "source": [
    "imagename1 = os.path.join(*[os.path.dirname(os.path.dirname(os.getcwd())),'Results','Chapter 04','Chapter-004-Example-003-01.jpg'])\n",
    "fig1.savefig(imagename1, bbox_inches='tight')"
   ]
  },
  {
   "cell_type": "code",
   "execution_count": 21,
   "metadata": {},
   "outputs": [],
   "source": [
    "imagename2 = os.path.join(*[os.path.dirname(os.path.dirname(os.getcwd())),'Results','Chapter 04','Chapter-004-Example-003-02.jpg'])\n",
    "fig2.savefig(imagename2, bbox_inches='tight')"
   ]
  },
  {
   "cell_type": "code",
   "execution_count": 22,
   "metadata": {},
   "outputs": [],
   "source": [
    "imagename3 = os.path.join(*[os.path.dirname(os.path.dirname(os.getcwd())),'Results','Chapter 04','Chapter-004-Example-003-03.jpg'])\n",
    "fig3.savefig(imagename3, bbox_inches='tight')"
   ]
  },
  {
   "cell_type": "code",
   "execution_count": 23,
   "metadata": {},
   "outputs": [
    {
     "name": "stdout",
     "output_type": "stream",
     "text": [
      "Done! 2019-10-19 17:18:25.571457\n"
     ]
    }
   ],
   "source": [
    "import datetime\n",
    "now = datetime.datetime.now()\n",
    "print('Done!',str(now))"
   ]
  },
  {
   "cell_type": "code",
   "execution_count": null,
   "metadata": {},
   "outputs": [],
   "source": []
  }
 ],
 "metadata": {
  "kernelspec": {
   "display_name": "Python 3",
   "language": "python",
   "name": "python3"
  },
  "language_info": {
   "codemirror_mode": {
    "name": "ipython",
    "version": 3
   },
   "file_extension": ".py",
   "mimetype": "text/x-python",
   "name": "python",
   "nbconvert_exporter": "python",
   "pygments_lexer": "ipython3",
   "version": "3.7.3"
  }
 },
 "nbformat": 4,
 "nbformat_minor": 1
}
