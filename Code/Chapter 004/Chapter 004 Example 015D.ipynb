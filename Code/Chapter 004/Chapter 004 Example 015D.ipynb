{
 "cells": [
  {
   "cell_type": "markdown",
   "metadata": {},
   "source": [
    "## Apress - Industrialized Machine Learning Examples\n",
    "\n",
    "Andreas Francois Vermeulen\n",
    "2019\n",
    "\n",
    "### This is an example add-on to a book and needs to be accepted as part of that copyright."
   ]
  },
  {
   "cell_type": "markdown",
   "metadata": {},
   "source": [
    "# Chapter 004 Example 015D - Sickness 06"
   ]
  },
  {
   "cell_type": "code",
   "execution_count": 1,
   "metadata": {},
   "outputs": [],
   "source": [
    "#!pip install graphviz"
   ]
  },
  {
   "cell_type": "markdown",
   "metadata": {},
   "source": [
    "## Part A - Load Libraries"
   ]
  },
  {
   "cell_type": "code",
   "execution_count": 2,
   "metadata": {},
   "outputs": [],
   "source": [
    "import os\n",
    "import shutil\n",
    "import graphviz as gv\n",
    "import pandas as pd\n",
    "import numpy as np\n",
    "from sklearn import tree"
   ]
  },
  {
   "cell_type": "code",
   "execution_count": 3,
   "metadata": {},
   "outputs": [],
   "source": [
    "os.environ[\"PATH\"] += os.pathsep + 'c:/Program Files (x86)/Graphviz/bin/'"
   ]
  },
  {
   "cell_type": "markdown",
   "metadata": {},
   "source": [
    "## Part B - Load Data"
   ]
  },
  {
   "cell_type": "code",
   "execution_count": 4,
   "metadata": {},
   "outputs": [
    {
     "name": "stdout",
     "output_type": "stream",
     "text": [
      "C:\\Users\\AndreVermeulen\\Documents\\My Book\\apress\\Industrial Machine Learning\\book\\GitHub\\Upload\\industrial-machine-learning\\Data\\Sickness06.csv\n"
     ]
    }
   ],
   "source": [
    "fileName = '../../Data/Sickness06.csv'\n",
    "fileFullName = os.path.abspath(fileName)\n",
    "print(fileFullName)"
   ]
  },
  {
   "cell_type": "code",
   "execution_count": 5,
   "metadata": {},
   "outputs": [
    {
     "name": "stdout",
     "output_type": "stream",
     "text": [
      "(5000, 10)\n",
      "Index(['F01', 'F02', 'F03', 'F04', 'F05', 'F06', 'F07', 'F08', 'T01', 'T02'], dtype='object')\n"
     ]
    }
   ],
   "source": [
    "sickdf= pd.read_csv(fileFullName, header=0)\n",
    "print(sickdf.shape)\n",
    "print(sickdf.columns)"
   ]
  },
  {
   "cell_type": "code",
   "execution_count": 6,
   "metadata": {},
   "outputs": [],
   "source": [
    "sick = np.array(sickdf)\n",
    "sick_data = np.array(sickdf[['F01', 'F02', 'F03', 'F04', 'F05', 'F06', 'F07', 'F08']].copy(deep=True))\n",
    "sick_target = np.array(sickdf[['T01', 'T02']].copy(deep=True))"
   ]
  },
  {
   "cell_type": "markdown",
   "metadata": {},
   "source": [
    "## Part C - Load Model"
   ]
  },
  {
   "cell_type": "code",
   "execution_count": 7,
   "metadata": {},
   "outputs": [],
   "source": [
    "clf = tree.DecisionTreeClassifier(class_weight='balanced', criterion='gini', presort = True)"
   ]
  },
  {
   "cell_type": "code",
   "execution_count": 8,
   "metadata": {},
   "outputs": [],
   "source": [
    "clfr = clf.fit(sick_data, sick_target)"
   ]
  },
  {
   "cell_type": "code",
   "execution_count": 9,
   "metadata": {},
   "outputs": [
    {
     "name": "stdout",
     "output_type": "stream",
     "text": [
      "Number of Classes:\n",
      "[2 2]\n"
     ]
    }
   ],
   "source": [
    "print('Number of Classes:')\n",
    "print(clfr.n_classes_)"
   ]
  },
  {
   "cell_type": "code",
   "execution_count": 10,
   "metadata": {},
   "outputs": [
    {
     "name": "stdout",
     "output_type": "stream",
     "text": [
      "Classes:\n",
      "[array([0, 1], dtype=int64), array([1, 2], dtype=int64)]\n"
     ]
    }
   ],
   "source": [
    "print('Classes:')\n",
    "print(clfr.classes_)"
   ]
  },
  {
   "cell_type": "code",
   "execution_count": 11,
   "metadata": {},
   "outputs": [
    {
     "name": "stdout",
     "output_type": "stream",
     "text": [
      "Feature importances:\n",
      "[0.04349007 0.25365186 0.0705486  0.0317119  0.09297318 0.26109469\n",
      " 0.12763175 0.11889794]\n"
     ]
    }
   ],
   "source": [
    "print('Feature importances:')\n",
    "print(clfr.feature_importances_)"
   ]
  },
  {
   "cell_type": "code",
   "execution_count": 12,
   "metadata": {},
   "outputs": [
    {
     "name": "stdout",
     "output_type": "stream",
     "text": [
      "Number of features:\n",
      "8\n"
     ]
    }
   ],
   "source": [
    "print('Number of features:')\n",
    "print(clfr.n_features_)"
   ]
  },
  {
   "cell_type": "code",
   "execution_count": 13,
   "metadata": {},
   "outputs": [
    {
     "name": "stdout",
     "output_type": "stream",
     "text": [
      "Inferred value of max features:\n",
      "8\n"
     ]
    }
   ],
   "source": [
    "print('Inferred value of max features:')\n",
    "print(clfr.max_features_)"
   ]
  },
  {
   "cell_type": "code",
   "execution_count": 14,
   "metadata": {},
   "outputs": [
    {
     "name": "stdout",
     "output_type": "stream",
     "text": [
      "Number of Outputs:\n",
      "2\n"
     ]
    }
   ],
   "source": [
    "print('Number of Outputs:')\n",
    "print(clfr.n_outputs_)"
   ]
  },
  {
   "cell_type": "code",
   "execution_count": 15,
   "metadata": {},
   "outputs": [
    {
     "name": "stdout",
     "output_type": "stream",
     "text": [
      "Tree Nodes:\n",
      "509\n"
     ]
    }
   ],
   "source": [
    "print('Tree Nodes:')\n",
    "print(clfr.tree_.node_count)"
   ]
  },
  {
   "cell_type": "code",
   "execution_count": 16,
   "metadata": {},
   "outputs": [
    {
     "name": "stdout",
     "output_type": "stream",
     "text": [
      "The tree structure has 509 nodes and has the following tree structure:\n",
      "node=0 test node: go to node 1 if X[:, 1] <= 123.5 else to node 244.\n",
      "\tnode=1 test node: go to node 2 if X[:, 5] <= 26.49899959564209 else to node 11.\n",
      "\t\tnode=2 test node: go to node 3 if X[:, 5] <= 0.0005000000237487257 else to node 6.\n",
      "\t\t\tnode=3 test node: go to node 4 if X[:, 7] <= 26.5 else to node 5.\n",
      "\t\t\t\tnode=4 leaf node.\n",
      "\t\t\t\tnode=5 leaf node.\n",
      "\t\t\tnode=6 test node: go to node 7 if X[:, 6] <= 0.6755000054836273 else to node 8.\n",
      "\t\t\t\tnode=7 leaf node.\n",
      "\t\t\t\tnode=8 test node: go to node 9 if X[:, 6] <= 0.7060000002384186 else to node 10.\n",
      "\t\t\t\t\tnode=9 leaf node.\n",
      "\t\t\t\t\tnode=10 leaf node.\n",
      "\t\tnode=11 test node: go to node 12 if X[:, 7] <= 28.5 else to node 97.\n",
      "\t\t\tnode=12 test node: go to node 13 if X[:, 5] <= 45.4010009765625 else to node 94.\n",
      "\t\t\t\tnode=13 test node: go to node 14 if X[:, 1] <= 102.5 else to node 43.\n",
      "\t\t\t\t\tnode=14 test node: go to node 15 if X[:, 5] <= 37.30050086975098 else to node 30.\n",
      "\t\t\t\t\t\tnode=15 test node: go to node 16 if X[:, 6] <= 1.2714999914169312 else to node 27.\n",
      "\t\t\t\t\t\t\tnode=16 test node: go to node 17 if X[:, 7] <= 27.5 else to node 18.\n",
      "\t\t\t\t\t\t\t\tnode=17 leaf node.\n",
      "\t\t\t\t\t\t\t\tnode=18 test node: go to node 19 if X[:, 0] <= 2.5 else to node 26.\n",
      "\t\t\t\t\t\t\t\t\tnode=19 test node: go to node 20 if X[:, 6] <= 0.7820000052452087 else to node 25.\n",
      "\t\t\t\t\t\t\t\t\t\tnode=20 test node: go to node 21 if X[:, 3] <= 1.0 else to node 24.\n",
      "\t\t\t\t\t\t\t\t\t\t\tnode=21 test node: go to node 22 if X[:, 1] <= 91.5 else to node 23.\n",
      "\t\t\t\t\t\t\t\t\t\t\t\tnode=22 leaf node.\n",
      "\t\t\t\t\t\t\t\t\t\t\t\tnode=23 leaf node.\n",
      "\t\t\t\t\t\t\t\t\t\t\tnode=24 leaf node.\n",
      "\t\t\t\t\t\t\t\t\t\tnode=25 leaf node.\n",
      "\t\t\t\t\t\t\t\t\tnode=26 leaf node.\n",
      "\t\t\t\t\t\t\tnode=27 test node: go to node 28 if X[:, 2] <= 67.5 else to node 29.\n",
      "\t\t\t\t\t\t\t\tnode=28 leaf node.\n",
      "\t\t\t\t\t\t\t\tnode=29 leaf node.\n",
      "\t\t\t\t\t\tnode=30 test node: go to node 31 if X[:, 5] <= 38.20050048828125 else to node 42.\n",
      "\t\t\t\t\t\t\tnode=31 test node: go to node 32 if X[:, 1] <= 89.5 else to node 33.\n",
      "\t\t\t\t\t\t\t\tnode=32 leaf node.\n",
      "\t\t\t\t\t\t\t\tnode=33 test node: go to node 34 if X[:, 2] <= 57.5 else to node 35.\n",
      "\t\t\t\t\t\t\t\t\tnode=34 leaf node.\n",
      "\t\t\t\t\t\t\t\t\tnode=35 test node: go to node 36 if X[:, 2] <= 88.0 else to node 41.\n",
      "\t\t\t\t\t\t\t\t\t\tnode=36 test node: go to node 37 if X[:, 4] <= 0.5 else to node 40.\n",
      "\t\t\t\t\t\t\t\t\t\t\tnode=37 test node: go to node 38 if X[:, 5] <= 37.949501037597656 else to node 39.\n",
      "\t\t\t\t\t\t\t\t\t\t\t\tnode=38 leaf node.\n",
      "\t\t\t\t\t\t\t\t\t\t\t\tnode=39 leaf node.\n",
      "\t\t\t\t\t\t\t\t\t\t\tnode=40 leaf node.\n",
      "\t\t\t\t\t\t\t\t\t\tnode=41 leaf node.\n",
      "\t\t\t\t\t\t\tnode=42 leaf node.\n",
      "\t\t\t\t\tnode=43 test node: go to node 44 if X[:, 4] <= 75.0 else to node 77.\n",
      "\t\t\t\t\t\tnode=44 test node: go to node 45 if X[:, 5] <= 31.30150032043457 else to node 54.\n",
      "\t\t\t\t\t\t\tnode=45 test node: go to node 46 if X[:, 0] <= 4.5 else to node 49.\n",
      "\t\t\t\t\t\t\t\tnode=46 test node: go to node 47 if X[:, 2] <= 91.5 else to node 48.\n",
      "\t\t\t\t\t\t\t\t\tnode=47 leaf node.\n",
      "\t\t\t\t\t\t\t\t\tnode=48 leaf node.\n",
      "\t\t\t\t\t\t\t\tnode=49 test node: go to node 50 if X[:, 5] <= 28.65049934387207 else to node 51.\n",
      "\t\t\t\t\t\t\t\t\tnode=50 leaf node.\n",
      "\t\t\t\t\t\t\t\t\tnode=51 test node: go to node 52 if X[:, 7] <= 25.5 else to node 53.\n",
      "\t\t\t\t\t\t\t\t\t\tnode=52 leaf node.\n",
      "\t\t\t\t\t\t\t\t\t\tnode=53 leaf node.\n",
      "\t\t\t\t\t\t\tnode=54 test node: go to node 55 if X[:, 5] <= 33.852500915527344 else to node 66.\n",
      "\t\t\t\t\t\t\t\tnode=55 test node: go to node 56 if X[:, 6] <= 0.710999995470047 else to node 63.\n",
      "\t\t\t\t\t\t\t\t\tnode=56 test node: go to node 57 if X[:, 2] <= 60.0 else to node 60.\n",
      "\t\t\t\t\t\t\t\t\t\tnode=57 test node: go to node 58 if X[:, 2] <= 25.0 else to node 59.\n",
      "\t\t\t\t\t\t\t\t\t\t\tnode=58 leaf node.\n",
      "\t\t\t\t\t\t\t\t\t\t\tnode=59 leaf node.\n",
      "\t\t\t\t\t\t\t\t\t\tnode=60 test node: go to node 61 if X[:, 7] <= 26.0 else to node 62.\n",
      "\t\t\t\t\t\t\t\t\t\t\tnode=61 leaf node.\n",
      "\t\t\t\t\t\t\t\t\t\t\tnode=62 leaf node.\n",
      "\t\t\t\t\t\t\t\t\tnode=63 test node: go to node 64 if X[:, 0] <= 1.5 else to node 65.\n",
      "\t\t\t\t\t\t\t\t\t\tnode=64 leaf node.\n",
      "\t\t\t\t\t\t\t\t\t\tnode=65 leaf node.\n",
      "\t\t\t\t\t\t\t\tnode=66 test node: go to node 67 if X[:, 2] <= 63.5 else to node 72.\n",
      "\t\t\t\t\t\t\t\t\tnode=67 test node: go to node 68 if X[:, 5] <= 35.9010009765625 else to node 69.\n",
      "\t\t\t\t\t\t\t\t\t\tnode=68 leaf node.\n",
      "\t\t\t\t\t\t\t\t\t\tnode=69 test node: go to node 70 if X[:, 5] <= 37.70249938964844 else to node 71.\n",
      "\t\t\t\t\t\t\t\t\t\t\tnode=70 leaf node.\n",
      "\t\t\t\t\t\t\t\t\t\t\tnode=71 leaf node.\n",
      "\t\t\t\t\t\t\t\t\tnode=72 test node: go to node 73 if X[:, 5] <= 39.04999923706055 else to node 74.\n",
      "\t\t\t\t\t\t\t\t\t\tnode=73 leaf node.\n",
      "\t\t\t\t\t\t\t\t\t\tnode=74 test node: go to node 75 if X[:, 5] <= 43.69900131225586 else to node 76.\n",
      "\t\t\t\t\t\t\t\t\t\t\tnode=75 leaf node.\n",
      "\t\t\t\t\t\t\t\t\t\t\tnode=76 leaf node.\n",
      "\t\t\t\t\t\tnode=77 test node: go to node 78 if X[:, 6] <= 0.8950000107288361 else to node 93.\n",
      "\t\t\t\t\t\t\tnode=78 test node: go to node 79 if X[:, 0] <= 4.5 else to node 86.\n",
      "\t\t\t\t\t\t\t\tnode=79 test node: go to node 80 if X[:, 0] <= 3.5 else to node 81.\n",
      "\t\t\t\t\t\t\t\t\tnode=80 leaf node.\n",
      "\t\t\t\t\t\t\t\t\tnode=81 test node: go to node 82 if X[:, 1] <= 106.5 else to node 85.\n",
      "\t\t\t\t\t\t\t\t\t\tnode=82 test node: go to node 83 if X[:, 1] <= 104.5 else to node 84.\n",
      "\t\t\t\t\t\t\t\t\t\t\tnode=83 leaf node.\n",
      "\t\t\t\t\t\t\t\t\t\t\tnode=84 leaf node.\n",
      "\t\t\t\t\t\t\t\t\t\tnode=85 leaf node.\n",
      "\t\t\t\t\t\t\t\tnode=86 test node: go to node 87 if X[:, 6] <= 0.4819999933242798 else to node 88.\n",
      "\t\t\t\t\t\t\t\t\tnode=87 leaf node.\n",
      "\t\t\t\t\t\t\t\t\tnode=88 test node: go to node 89 if X[:, 5] <= 31.850500106811523 else to node 90.\n",
      "\t\t\t\t\t\t\t\t\t\tnode=89 leaf node.\n",
      "\t\t\t\t\t\t\t\t\t\tnode=90 test node: go to node 91 if X[:, 2] <= 56.5 else to node 92.\n",
      "\t\t\t\t\t\t\t\t\t\t\tnode=91 leaf node.\n",
      "\t\t\t\t\t\t\t\t\t\t\tnode=92 leaf node.\n",
      "\t\t\t\t\t\t\tnode=93 leaf node.\n",
      "\t\t\t\tnode=94 test node: go to node 95 if X[:, 6] <= 0.6855000108480453 else to node 96.\n",
      "\t\t\t\t\tnode=95 leaf node.\n",
      "\t\t\t\t\tnode=96 leaf node.\n",
      "\t\t\tnode=97 test node: go to node 98 if X[:, 1] <= 93.5 else to node 115.\n",
      "\t\t\t\tnode=98 test node: go to node 99 if X[:, 1] <= 28.5 else to node 100.\n",
      "\t\t\t\t\tnode=99 leaf node.\n",
      "\t\t\t\t\tnode=100 test node: go to node 101 if X[:, 6] <= 0.7964999973773956 else to node 112.\n",
      "\t\t\t\t\t\tnode=101 test node: go to node 102 if X[:, 0] <= 10.5 else to node 109.\n",
      "\t\t\t\t\t\t\tnode=102 test node: go to node 103 if X[:, 4] <= 91.0 else to node 104.\n",
      "\t\t\t\t\t\t\t\tnode=103 leaf node.\n",
      "\t\t\t\t\t\t\t\tnode=104 test node: go to node 105 if X[:, 0] <= 3.0 else to node 108.\n",
      "\t\t\t\t\t\t\t\t\tnode=105 test node: go to node 106 if X[:, 1] <= 85.5 else to node 107.\n",
      "\t\t\t\t\t\t\t\t\t\tnode=106 leaf node.\n",
      "\t\t\t\t\t\t\t\t\t\tnode=107 leaf node.\n",
      "\t\t\t\t\t\t\t\t\tnode=108 leaf node.\n",
      "\t\t\t\t\t\t\tnode=109 test node: go to node 110 if X[:, 5] <= 29.90000057220459 else to node 111.\n",
      "\t\t\t\t\t\t\t\tnode=110 leaf node.\n",
      "\t\t\t\t\t\t\t\tnode=111 leaf node.\n",
      "\t\t\t\t\t\tnode=112 test node: go to node 113 if X[:, 5] <= 38.10050010681152 else to node 114.\n",
      "\t\t\t\t\t\t\tnode=113 leaf node.\n",
      "\t\t\t\t\t\t\tnode=114 leaf node.\n",
      "\t\t\t\tnode=115 test node: go to node 116 if X[:, 6] <= 0.2199999988079071 else to node 133.\n",
      "\t\t\t\t\tnode=116 test node: go to node 117 if X[:, 3] <= 31.5 else to node 132.\n",
      "\t\t\t\t\t\tnode=117 test node: go to node 118 if X[:, 5] <= 29.798999786376953 else to node 121.\n",
      "\t\t\t\t\t\t\tnode=118 test node: go to node 119 if X[:, 5] <= 27.900500297546387 else to node 120.\n",
      "\t\t\t\t\t\t\t\tnode=119 leaf node.\n",
      "\t\t\t\t\t\t\t\tnode=120 leaf node.\n",
      "\t\t\t\t\t\t\tnode=121 test node: go to node 122 if X[:, 5] <= 36.44999885559082 else to node 129.\n",
      "\t\t\t\t\t\t\t\tnode=122 test node: go to node 123 if X[:, 6] <= 0.1274999976158142 else to node 124.\n",
      "\t\t\t\t\t\t\t\t\tnode=123 leaf node.\n",
      "\t\t\t\t\t\t\t\t\tnode=124 test node: go to node 125 if X[:, 5] <= 35.0 else to node 126.\n",
      "\t\t\t\t\t\t\t\t\t\tnode=125 leaf node.\n",
      "\t\t\t\t\t\t\t\t\t\tnode=126 test node: go to node 127 if X[:, 5] <= 35.85149955749512 else to node 128.\n",
      "\t\t\t\t\t\t\t\t\t\t\tnode=127 leaf node.\n",
      "\t\t\t\t\t\t\t\t\t\t\tnode=128 leaf node.\n",
      "\t\t\t\t\t\t\t\tnode=129 test node: go to node 130 if X[:, 4] <= -0.5 else to node 131.\n",
      "\t\t\t\t\t\t\t\t\tnode=130 leaf node.\n",
      "\t\t\t\t\t\t\t\t\tnode=131 leaf node.\n",
      "\t\t\t\t\t\tnode=132 leaf node.\n",
      "\t\t\t\t\tnode=133 test node: go to node 134 if X[:, 7] <= 62.5 else to node 243.\n",
      "\t\t\t\t\t\tnode=134 test node: go to node 135 if X[:, 6] <= 0.5604999959468842 else to node 198.\n",
      "\t\t\t\t\t\t\tnode=135 test node: go to node 136 if X[:, 6] <= 0.466499999165535 else to node 197.\n",
      "\t\t\t\t\t\t\t\tnode=136 test node: go to node 137 if X[:, 3] <= 27.5 else to node 174.\n",
      "\t\t\t\t\t\t\t\t\tnode=137 test node: go to node 138 if X[:, 2] <= 90.5 else to node 173.\n",
      "\t\t\t\t\t\t\t\t\t\tnode=138 test node: go to node 139 if X[:, 2] <= 56.0 else to node 140.\n",
      "\t\t\t\t\t\t\t\t\t\t\tnode=139 leaf node.\n",
      "\t\t\t\t\t\t\t\t\t\t\tnode=140 test node: go to node 141 if X[:, 1] <= 117.5 else to node 164.\n",
      "\t\t\t\t\t\t\t\t\t\t\t\tnode=141 test node: go to node 142 if X[:, 7] <= 52.5 else to node 161.\n",
      "\t\t\t\t\t\t\t\t\t\t\t\t\tnode=142 test node: go to node 143 if X[:, 4] <= 192.5 else to node 160.\n",
      "\t\t\t\t\t\t\t\t\t\t\t\t\t\tnode=143 test node: go to node 144 if X[:, 5] <= 40.8484992980957 else to node 159.\n",
      "\t\t\t\t\t\t\t\t\t\t\t\t\t\t\tnode=144 test node: go to node 145 if X[:, 0] <= -1.5 else to node 148.\n",
      "\t\t\t\t\t\t\t\t\t\t\t\t\t\t\t\tnode=145 test node: go to node 146 if X[:, 2] <= 66.5 else to node 147.\n",
      "\t\t\t\t\t\t\t\t\t\t\t\t\t\t\t\t\tnode=146 leaf node.\n",
      "\t\t\t\t\t\t\t\t\t\t\t\t\t\t\t\t\tnode=147 leaf node.\n",
      "\t\t\t\t\t\t\t\t\t\t\t\t\t\t\t\tnode=148 test node: go to node 149 if X[:, 7] <= 51.5 else to node 156.\n",
      "\t\t\t\t\t\t\t\t\t\t\t\t\t\t\t\t\tnode=149 test node: go to node 150 if X[:, 3] <= 26.5 else to node 155.\n",
      "\t\t\t\t\t\t\t\t\t\t\t\t\t\t\t\t\t\tnode=150 test node: go to node 151 if X[:, 7] <= 29.5 else to node 154.\n",
      "\t\t\t\t\t\t\t\t\t\t\t\t\t\t\t\t\t\t\tnode=151 test node: go to node 152 if X[:, 0] <= 4.5 else to node 153.\n",
      "\t\t\t\t\t\t\t\t\t\t\t\t\t\t\t\t\t\t\t\tnode=152 leaf node.\n",
      "\t\t\t\t\t\t\t\t\t\t\t\t\t\t\t\t\t\t\t\tnode=153 leaf node.\n",
      "\t\t\t\t\t\t\t\t\t\t\t\t\t\t\t\t\t\t\tnode=154 leaf node.\n",
      "\t\t\t\t\t\t\t\t\t\t\t\t\t\t\t\t\t\tnode=155 leaf node.\n",
      "\t\t\t\t\t\t\t\t\t\t\t\t\t\t\t\t\tnode=156 test node: go to node 157 if X[:, 0] <= 9.0 else to node 158.\n",
      "\t\t\t\t\t\t\t\t\t\t\t\t\t\t\t\t\t\tnode=157 leaf node.\n",
      "\t\t\t\t\t\t\t\t\t\t\t\t\t\t\t\t\t\tnode=158 leaf node.\n",
      "\t\t\t\t\t\t\t\t\t\t\t\t\t\t\tnode=159 leaf node.\n",
      "\t\t\t\t\t\t\t\t\t\t\t\t\t\tnode=160 leaf node.\n",
      "\t\t\t\t\t\t\t\t\t\t\t\t\tnode=161 test node: go to node 162 if X[:, 6] <= 0.2565000057220459 else to node 163.\n",
      "\t\t\t\t\t\t\t\t\t\t\t\t\t\tnode=162 leaf node.\n",
      "\t\t\t\t\t\t\t\t\t\t\t\t\t\tnode=163 leaf node.\n",
      "\t\t\t\t\t\t\t\t\t\t\t\tnode=164 test node: go to node 165 if X[:, 2] <= 79.0 else to node 172.\n",
      "\t\t\t\t\t\t\t\t\t\t\t\t\tnode=165 test node: go to node 166 if X[:, 0] <= 7.0 else to node 171.\n",
      "\t\t\t\t\t\t\t\t\t\t\t\t\t\tnode=166 test node: go to node 167 if X[:, 6] <= 0.38599999248981476 else to node 170.\n",
      "\t\t\t\t\t\t\t\t\t\t\t\t\t\t\tnode=167 test node: go to node 168 if X[:, 3] <= 20.5 else to node 169.\n",
      "\t\t\t\t\t\t\t\t\t\t\t\t\t\t\t\tnode=168 leaf node.\n",
      "\t\t\t\t\t\t\t\t\t\t\t\t\t\t\t\tnode=169 leaf node.\n",
      "\t\t\t\t\t\t\t\t\t\t\t\t\t\t\tnode=170 leaf node.\n",
      "\t\t\t\t\t\t\t\t\t\t\t\t\t\tnode=171 leaf node.\n",
      "\t\t\t\t\t\t\t\t\t\t\t\t\tnode=172 leaf node.\n",
      "\t\t\t\t\t\t\t\t\t\tnode=173 leaf node.\n",
      "\t\t\t\t\t\t\t\t\tnode=174 test node: go to node 175 if X[:, 5] <= 43.09950065612793 else to node 196.\n",
      "\t\t\t\t\t\t\t\t\t\tnode=175 test node: go to node 176 if X[:, 0] <= 5.5 else to node 181.\n",
      "\t\t\t\t\t\t\t\t\t\t\tnode=176 test node: go to node 177 if X[:, 2] <= 62.0 else to node 180.\n",
      "\t\t\t\t\t\t\t\t\t\t\t\tnode=177 test node: go to node 178 if X[:, 5] <= 33.75 else to node 179.\n",
      "\t\t\t\t\t\t\t\t\t\t\t\t\tnode=178 leaf node.\n",
      "\t\t\t\t\t\t\t\t\t\t\t\t\tnode=179 leaf node.\n",
      "\t\t\t\t\t\t\t\t\t\t\t\tnode=180 leaf node.\n",
      "\t\t\t\t\t\t\t\t\t\t\tnode=181 test node: go to node 182 if X[:, 1] <= 117.0 else to node 195.\n",
      "\t\t\t\t\t\t\t\t\t\t\t\tnode=182 test node: go to node 183 if X[:, 4] <= 182.0 else to node 194.\n",
      "\t\t\t\t\t\t\t\t\t\t\t\t\tnode=183 test node: go to node 184 if X[:, 5] <= 39.2504997253418 else to node 193.\n",
      "\t\t\t\t\t\t\t\t\t\t\t\t\t\tnode=184 test node: go to node 185 if X[:, 3] <= 40.5 else to node 192.\n",
      "\t\t\t\t\t\t\t\t\t\t\t\t\t\t\tnode=185 test node: go to node 186 if X[:, 6] <= 0.24149999767541885 else to node 187.\n",
      "\t\t\t\t\t\t\t\t\t\t\t\t\t\t\t\tnode=186 leaf node.\n",
      "\t\t\t\t\t\t\t\t\t\t\t\t\t\t\t\tnode=187 test node: go to node 188 if X[:, 5] <= 35.85200119018555 else to node 189.\n",
      "\t\t\t\t\t\t\t\t\t\t\t\t\t\t\t\t\tnode=188 leaf node.\n",
      "\t\t\t\t\t\t\t\t\t\t\t\t\t\t\t\t\tnode=189 test node: go to node 190 if X[:, 6] <= 0.3019999861717224 else to node 191.\n",
      "\t\t\t\t\t\t\t\t\t\t\t\t\t\t\t\t\t\tnode=190 leaf node.\n",
      "\t\t\t\t\t\t\t\t\t\t\t\t\t\t\t\t\t\tnode=191 leaf node.\n",
      "\t\t\t\t\t\t\t\t\t\t\t\t\t\t\tnode=192 leaf node.\n",
      "\t\t\t\t\t\t\t\t\t\t\t\t\t\tnode=193 leaf node.\n",
      "\t\t\t\t\t\t\t\t\t\t\t\t\tnode=194 leaf node.\n",
      "\t\t\t\t\t\t\t\t\t\t\t\tnode=195 leaf node.\n",
      "\t\t\t\t\t\t\t\t\t\tnode=196 leaf node.\n",
      "\t\t\t\t\t\t\t\tnode=197 leaf node.\n",
      "\t\t\t\t\t\t\tnode=198 test node: go to node 199 if X[:, 2] <= 89.5 else to node 242.\n",
      "\t\t\t\t\t\t\t\tnode=199 test node: go to node 200 if X[:, 6] <= 1.3950000405311584 else to node 241.\n",
      "\t\t\t\t\t\t\t\t\tnode=200 test node: go to node 201 if X[:, 2] <= 24.0 else to node 202.\n",
      "\t\t\t\t\t\t\t\t\t\tnode=201 leaf node.\n",
      "\t\t\t\t\t\t\t\t\t\tnode=202 test node: go to node 203 if X[:, 4] <= 221.5 else to node 238.\n",
      "\t\t\t\t\t\t\t\t\t\t\tnode=203 test node: go to node 204 if X[:, 1] <= 96.5 else to node 207.\n",
      "\t\t\t\t\t\t\t\t\t\t\t\tnode=204 test node: go to node 205 if X[:, 4] <= 84.5 else to node 206.\n",
      "\t\t\t\t\t\t\t\t\t\t\t\t\tnode=205 leaf node.\n",
      "\t\t\t\t\t\t\t\t\t\t\t\t\tnode=206 leaf node.\n",
      "\t\t\t\t\t\t\t\t\t\t\t\tnode=207 test node: go to node 208 if X[:, 3] <= 52.5 else to node 237.\n",
      "\t\t\t\t\t\t\t\t\t\t\t\t\tnode=208 test node: go to node 209 if X[:, 0] <= -2.5 else to node 210.\n",
      "\t\t\t\t\t\t\t\t\t\t\t\t\t\tnode=209 leaf node.\n",
      "\t\t\t\t\t\t\t\t\t\t\t\t\t\tnode=210 test node: go to node 211 if X[:, 0] <= 6.5 else to node 232.\n",
      "\t\t\t\t\t\t\t\t\t\t\t\t\t\t\tnode=211 test node: go to node 212 if X[:, 3] <= 1.0 else to node 215.\n",
      "\t\t\t\t\t\t\t\t\t\t\t\t\t\t\t\tnode=212 test node: go to node 213 if X[:, 6] <= 0.7324999868869781 else to node 214.\n",
      "\t\t\t\t\t\t\t\t\t\t\t\t\t\t\t\t\tnode=213 leaf node.\n",
      "\t\t\t\t\t\t\t\t\t\t\t\t\t\t\t\t\tnode=214 leaf node.\n",
      "\t\t\t\t\t\t\t\t\t\t\t\t\t\t\t\tnode=215 test node: go to node 216 if X[:, 5] <= 27.60200023651123 else to node 219.\n",
      "\t\t\t\t\t\t\t\t\t\t\t\t\t\t\t\t\tnode=216 test node: go to node 217 if X[:, 0] <= 5.5 else to node 218.\n",
      "\t\t\t\t\t\t\t\t\t\t\t\t\t\t\t\t\t\tnode=217 leaf node.\n",
      "\t\t\t\t\t\t\t\t\t\t\t\t\t\t\t\t\t\tnode=218 leaf node.\n",
      "\t\t\t\t\t\t\t\t\t\t\t\t\t\t\t\t\tnode=219 test node: go to node 220 if X[:, 6] <= 1.1520000100135803 else to node 229.\n",
      "\t\t\t\t\t\t\t\t\t\t\t\t\t\t\t\t\t\tnode=220 test node: go to node 221 if X[:, 1] <= 100.5 else to node 224.\n",
      "\t\t\t\t\t\t\t\t\t\t\t\t\t\t\t\t\t\t\tnode=221 test node: go to node 222 if X[:, 6] <= 0.6990000009536743 else to node 223.\n",
      "\t\t\t\t\t\t\t\t\t\t\t\t\t\t\t\t\t\t\t\tnode=222 leaf node.\n",
      "\t\t\t\t\t\t\t\t\t\t\t\t\t\t\t\t\t\t\t\tnode=223 leaf node.\n",
      "\t\t\t\t\t\t\t\t\t\t\t\t\t\t\t\t\t\t\tnode=224 test node: go to node 225 if X[:, 2] <= 55.5 else to node 228.\n",
      "\t\t\t\t\t\t\t\t\t\t\t\t\t\t\t\t\t\t\t\tnode=225 test node: go to node 226 if X[:, 6] <= 0.8880000114440918 else to node 227.\n",
      "\t\t\t\t\t\t\t\t\t\t\t\t\t\t\t\t\t\t\t\t\tnode=226 leaf node.\n",
      "\t\t\t\t\t\t\t\t\t\t\t\t\t\t\t\t\t\t\t\t\tnode=227 leaf node.\n",
      "\t\t\t\t\t\t\t\t\t\t\t\t\t\t\t\t\t\t\t\tnode=228 leaf node.\n",
      "\t\t\t\t\t\t\t\t\t\t\t\t\t\t\t\t\t\tnode=229 test node: go to node 230 if X[:, 1] <= 116.5 else to node 231.\n",
      "\t\t\t\t\t\t\t\t\t\t\t\t\t\t\t\t\t\t\tnode=230 leaf node.\n",
      "\t\t\t\t\t\t\t\t\t\t\t\t\t\t\t\t\t\t\tnode=231 leaf node.\n",
      "\t\t\t\t\t\t\t\t\t\t\t\t\t\t\tnode=232 test node: go to node 233 if X[:, 1] <= 100.5 else to node 236.\n",
      "\t\t\t\t\t\t\t\t\t\t\t\t\t\t\t\tnode=233 test node: go to node 234 if X[:, 7] <= 43.5 else to node 235.\n",
      "\t\t\t\t\t\t\t\t\t\t\t\t\t\t\t\t\tnode=234 leaf node.\n",
      "\t\t\t\t\t\t\t\t\t\t\t\t\t\t\t\t\tnode=235 leaf node.\n",
      "\t\t\t\t\t\t\t\t\t\t\t\t\t\t\t\tnode=236 leaf node.\n",
      "\t\t\t\t\t\t\t\t\t\t\t\t\tnode=237 leaf node.\n",
      "\t\t\t\t\t\t\t\t\t\t\tnode=238 test node: go to node 239 if X[:, 0] <= 10.0 else to node 240.\n",
      "\t\t\t\t\t\t\t\t\t\t\t\tnode=239 leaf node.\n",
      "\t\t\t\t\t\t\t\t\t\t\t\tnode=240 leaf node.\n",
      "\t\t\t\t\t\t\t\t\tnode=241 leaf node.\n",
      "\t\t\t\t\t\t\t\tnode=242 leaf node.\n",
      "\t\t\t\t\t\tnode=243 leaf node.\n",
      "\tnode=244 test node: go to node 245 if X[:, 5] <= 29.951000213623047 else to node 310.\n",
      "\t\tnode=245 test node: go to node 246 if X[:, 7] <= 25.5 else to node 261.\n",
      "\t\t\tnode=246 test node: go to node 247 if X[:, 5] <= 28.799500465393066 else to node 258.\n",
      "\t\t\t\tnode=247 test node: go to node 248 if X[:, 2] <= 54.5 else to node 251.\n",
      "\t\t\t\t\tnode=248 test node: go to node 249 if X[:, 4] <= 38.5 else to node 250.\n",
      "\t\t\t\t\t\tnode=249 leaf node.\n",
      "\t\t\t\t\t\tnode=250 leaf node.\n",
      "\t\t\t\t\tnode=251 test node: go to node 252 if X[:, 7] <= 23.5 else to node 253.\n",
      "\t\t\t\t\t\tnode=252 leaf node.\n",
      "\t\t\t\t\t\tnode=253 test node: go to node 254 if X[:, 5] <= 26.497000694274902 else to node 255.\n",
      "\t\t\t\t\t\t\tnode=254 leaf node.\n",
      "\t\t\t\t\t\t\tnode=255 test node: go to node 256 if X[:, 3] <= 18.0 else to node 257.\n",
      "\t\t\t\t\t\t\t\tnode=256 leaf node.\n",
      "\t\t\t\t\t\t\t\tnode=257 leaf node.\n",
      "\t\t\t\tnode=258 test node: go to node 259 if X[:, 0] <= 3.5 else to node 260.\n",
      "\t\t\t\t\tnode=259 leaf node.\n",
      "\t\t\t\t\tnode=260 leaf node.\n",
      "\t\t\tnode=261 test node: go to node 262 if X[:, 7] <= 61.5 else to node 309.\n",
      "\t\t\t\tnode=262 test node: go to node 263 if X[:, 1] <= 160.5 else to node 304.\n",
      "\t\t\t\t\tnode=263 test node: go to node 264 if X[:, 6] <= 0.1719999983906746 else to node 265.\n",
      "\t\t\t\t\t\tnode=264 leaf node.\n",
      "\t\t\t\t\t\tnode=265 test node: go to node 266 if X[:, 5] <= 29.550000190734863 else to node 303.\n",
      "\t\t\t\t\t\t\tnode=266 test node: go to node 267 if X[:, 4] <= 133.5 else to node 298.\n",
      "\t\t\t\t\t\t\t\tnode=267 test node: go to node 268 if X[:, 5] <= 23.39799976348877 else to node 269.\n",
      "\t\t\t\t\t\t\t\t\tnode=268 leaf node.\n",
      "\t\t\t\t\t\t\t\t\tnode=269 test node: go to node 270 if X[:, 7] <= 54.0 else to node 295.\n",
      "\t\t\t\t\t\t\t\t\t\tnode=270 test node: go to node 271 if X[:, 4] <= -0.5 else to node 278.\n",
      "\t\t\t\t\t\t\t\t\t\t\tnode=271 test node: go to node 272 if X[:, 7] <= 44.5 else to node 275.\n",
      "\t\t\t\t\t\t\t\t\t\t\t\tnode=272 test node: go to node 273 if X[:, 3] <= 13.5 else to node 274.\n",
      "\t\t\t\t\t\t\t\t\t\t\t\t\tnode=273 leaf node.\n",
      "\t\t\t\t\t\t\t\t\t\t\t\t\tnode=274 leaf node.\n",
      "\t\t\t\t\t\t\t\t\t\t\t\tnode=275 test node: go to node 276 if X[:, 0] <= 11.0 else to node 277.\n",
      "\t\t\t\t\t\t\t\t\t\t\t\t\tnode=276 leaf node.\n",
      "\t\t\t\t\t\t\t\t\t\t\t\t\tnode=277 leaf node.\n",
      "\t\t\t\t\t\t\t\t\t\t\tnode=278 test node: go to node 279 if X[:, 7] <= 40.5 else to node 292.\n",
      "\t\t\t\t\t\t\t\t\t\t\t\tnode=279 test node: go to node 280 if X[:, 6] <= 0.20400000363588333 else to node 281.\n",
      "\t\t\t\t\t\t\t\t\t\t\t\t\tnode=280 leaf node.\n",
      "\t\t\t\t\t\t\t\t\t\t\t\t\tnode=281 test node: go to node 282 if X[:, 5] <= 25.501999855041504 else to node 283.\n",
      "\t\t\t\t\t\t\t\t\t\t\t\t\t\tnode=282 leaf node.\n",
      "\t\t\t\t\t\t\t\t\t\t\t\t\t\tnode=283 test node: go to node 284 if X[:, 1] <= 158.0 else to node 291.\n",
      "\t\t\t\t\t\t\t\t\t\t\t\t\t\t\tnode=284 test node: go to node 285 if X[:, 3] <= 9.5 else to node 290.\n",
      "\t\t\t\t\t\t\t\t\t\t\t\t\t\t\t\tnode=285 test node: go to node 286 if X[:, 7] <= 32.5 else to node 289.\n",
      "\t\t\t\t\t\t\t\t\t\t\t\t\t\t\t\t\tnode=286 test node: go to node 287 if X[:, 5] <= 27.800999641418457 else to node 288.\n",
      "\t\t\t\t\t\t\t\t\t\t\t\t\t\t\t\t\t\tnode=287 leaf node.\n",
      "\t\t\t\t\t\t\t\t\t\t\t\t\t\t\t\t\t\tnode=288 leaf node.\n",
      "\t\t\t\t\t\t\t\t\t\t\t\t\t\t\t\t\tnode=289 leaf node.\n",
      "\t\t\t\t\t\t\t\t\t\t\t\t\t\t\t\tnode=290 leaf node.\n",
      "\t\t\t\t\t\t\t\t\t\t\t\t\t\t\tnode=291 leaf node.\n",
      "\t\t\t\t\t\t\t\t\t\t\t\tnode=292 test node: go to node 293 if X[:, 4] <= 131.0 else to node 294.\n",
      "\t\t\t\t\t\t\t\t\t\t\t\t\tnode=293 leaf node.\n",
      "\t\t\t\t\t\t\t\t\t\t\t\t\tnode=294 leaf node.\n",
      "\t\t\t\t\t\t\t\t\t\tnode=295 test node: go to node 296 if X[:, 5] <= 25.251999855041504 else to node 297.\n",
      "\t\t\t\t\t\t\t\t\t\t\tnode=296 leaf node.\n",
      "\t\t\t\t\t\t\t\t\t\t\tnode=297 leaf node.\n",
      "\t\t\t\t\t\t\t\tnode=298 test node: go to node 299 if X[:, 4] <= 341.5 else to node 302.\n",
      "\t\t\t\t\t\t\t\t\tnode=299 test node: go to node 300 if X[:, 3] <= 43.5 else to node 301.\n",
      "\t\t\t\t\t\t\t\t\t\tnode=300 leaf node.\n",
      "\t\t\t\t\t\t\t\t\t\tnode=301 leaf node.\n",
      "\t\t\t\t\t\t\t\t\tnode=302 leaf node.\n",
      "\t\t\t\t\t\t\tnode=303 leaf node.\n",
      "\t\t\t\t\tnode=304 test node: go to node 305 if X[:, 2] <= 80.0 else to node 308.\n",
      "\t\t\t\t\t\tnode=305 test node: go to node 306 if X[:, 6] <= 0.12150000035762787 else to node 307.\n",
      "\t\t\t\t\t\t\tnode=306 leaf node.\n",
      "\t\t\t\t\t\t\tnode=307 leaf node.\n",
      "\t\t\t\t\t\tnode=308 leaf node.\n",
      "\t\t\t\tnode=309 leaf node.\n",
      "\t\tnode=310 test node: go to node 311 if X[:, 1] <= 157.5 else to node 462.\n",
      "\t\t\tnode=311 test node: go to node 312 if X[:, 7] <= 31.5 else to node 381.\n",
      "\t\t\t\tnode=312 test node: go to node 313 if X[:, 2] <= 72.5 else to node 356.\n",
      "\t\t\t\t\tnode=313 test node: go to node 314 if X[:, 6] <= 0.18450000137090683 else to node 317.\n",
      "\t\t\t\t\t\tnode=314 test node: go to node 315 if X[:, 1] <= 142.0 else to node 316.\n",
      "\t\t\t\t\t\t\tnode=315 leaf node.\n",
      "\t\t\t\t\t\t\tnode=316 leaf node.\n",
      "\t\t\t\t\t\tnode=317 test node: go to node 318 if X[:, 4] <= 265.5 else to node 353.\n",
      "\t\t\t\t\t\t\tnode=318 test node: go to node 319 if X[:, 1] <= 148.5 else to node 350.\n",
      "\t\t\t\t\t\t\t\tnode=319 test node: go to node 320 if X[:, 1] <= 129.5 else to node 329.\n",
      "\t\t\t\t\t\t\t\t\tnode=320 test node: go to node 321 if X[:, 4] <= 0.5 else to node 322.\n",
      "\t\t\t\t\t\t\t\t\t\tnode=321 leaf node.\n",
      "\t\t\t\t\t\t\t\t\t\tnode=322 test node: go to node 323 if X[:, 6] <= 0.5340000092983246 else to node 326.\n",
      "\t\t\t\t\t\t\t\t\t\t\tnode=323 test node: go to node 324 if X[:, 2] <= 24.0 else to node 325.\n",
      "\t\t\t\t\t\t\t\t\t\t\t\tnode=324 leaf node.\n",
      "\t\t\t\t\t\t\t\t\t\t\t\tnode=325 leaf node.\n",
      "\t\t\t\t\t\t\t\t\t\t\tnode=326 test node: go to node 327 if X[:, 4] <= 126.0 else to node 328.\n",
      "\t\t\t\t\t\t\t\t\t\t\t\tnode=327 leaf node.\n",
      "\t\t\t\t\t\t\t\t\t\t\t\tnode=328 leaf node.\n",
      "\t\t\t\t\t\t\t\t\tnode=329 test node: go to node 330 if X[:, 3] <= 48.0 else to node 349.\n",
      "\t\t\t\t\t\t\t\t\t\tnode=330 test node: go to node 331 if X[:, 0] <= 7.5 else to node 348.\n",
      "\t\t\t\t\t\t\t\t\t\t\tnode=331 test node: go to node 332 if X[:, 1] <= 147.5 else to node 345.\n",
      "\t\t\t\t\t\t\t\t\t\t\t\tnode=332 test node: go to node 333 if X[:, 3] <= 46.5 else to node 342.\n",
      "\t\t\t\t\t\t\t\t\t\t\t\t\tnode=333 test node: go to node 334 if X[:, 1] <= 131.5 else to node 341.\n",
      "\t\t\t\t\t\t\t\t\t\t\t\t\t\tnode=334 test node: go to node 335 if X[:, 4] <= 207.0 else to node 340.\n",
      "\t\t\t\t\t\t\t\t\t\t\t\t\t\t\tnode=335 test node: go to node 336 if X[:, 0] <= 4.5 else to node 337.\n",
      "\t\t\t\t\t\t\t\t\t\t\t\t\t\t\t\tnode=336 leaf node.\n",
      "\t\t\t\t\t\t\t\t\t\t\t\t\t\t\t\tnode=337 test node: go to node 338 if X[:, 7] <= 24.5 else to node 339.\n",
      "\t\t\t\t\t\t\t\t\t\t\t\t\t\t\t\t\tnode=338 leaf node.\n",
      "\t\t\t\t\t\t\t\t\t\t\t\t\t\t\t\t\tnode=339 leaf node.\n",
      "\t\t\t\t\t\t\t\t\t\t\t\t\t\t\tnode=340 leaf node.\n",
      "\t\t\t\t\t\t\t\t\t\t\t\t\t\tnode=341 leaf node.\n",
      "\t\t\t\t\t\t\t\t\t\t\t\t\tnode=342 test node: go to node 343 if X[:, 4] <= 226.0 else to node 344.\n",
      "\t\t\t\t\t\t\t\t\t\t\t\t\t\tnode=343 leaf node.\n",
      "\t\t\t\t\t\t\t\t\t\t\t\t\t\tnode=344 leaf node.\n",
      "\t\t\t\t\t\t\t\t\t\t\t\tnode=345 test node: go to node 346 if X[:, 7] <= 23.5 else to node 347.\n",
      "\t\t\t\t\t\t\t\t\t\t\t\t\tnode=346 leaf node.\n",
      "\t\t\t\t\t\t\t\t\t\t\t\t\tnode=347 leaf node.\n",
      "\t\t\t\t\t\t\t\t\t\t\tnode=348 leaf node.\n",
      "\t\t\t\t\t\t\t\t\t\tnode=349 leaf node.\n",
      "\t\t\t\t\t\t\t\tnode=350 test node: go to node 351 if X[:, 2] <= 69.5 else to node 352.\n",
      "\t\t\t\t\t\t\t\t\tnode=351 leaf node.\n",
      "\t\t\t\t\t\t\t\t\tnode=352 leaf node.\n",
      "\t\t\t\t\t\t\tnode=353 test node: go to node 354 if X[:, 2] <= 55.5 else to node 355.\n",
      "\t\t\t\t\t\t\t\tnode=354 leaf node.\n",
      "\t\t\t\t\t\t\t\tnode=355 leaf node.\n",
      "\t\t\t\t\tnode=356 test node: go to node 357 if X[:, 4] <= 192.5 else to node 376.\n",
      "\t\t\t\t\t\tnode=357 test node: go to node 358 if X[:, 6] <= 0.31200000643730164 else to node 359.\n",
      "\t\t\t\t\t\t\tnode=358 leaf node.\n",
      "\t\t\t\t\t\t\tnode=359 test node: go to node 360 if X[:, 6] <= 0.37150000035762787 else to node 363.\n",
      "\t\t\t\t\t\t\t\tnode=360 test node: go to node 361 if X[:, 4] <= 176.5 else to node 362.\n",
      "\t\t\t\t\t\t\t\t\tnode=361 leaf node.\n",
      "\t\t\t\t\t\t\t\t\tnode=362 leaf node.\n",
      "\t\t\t\t\t\t\t\tnode=363 test node: go to node 364 if X[:, 6] <= 0.6279999911785126 else to node 369.\n",
      "\t\t\t\t\t\t\t\t\tnode=364 test node: go to node 365 if X[:, 5] <= 32.3494987487793 else to node 366.\n",
      "\t\t\t\t\t\t\t\t\t\tnode=365 leaf node.\n",
      "\t\t\t\t\t\t\t\t\t\tnode=366 test node: go to node 367 if X[:, 2] <= 75.0 else to node 368.\n",
      "\t\t\t\t\t\t\t\t\t\t\tnode=367 leaf node.\n",
      "\t\t\t\t\t\t\t\t\t\t\tnode=368 leaf node.\n",
      "\t\t\t\t\t\t\t\t\tnode=369 test node: go to node 370 if X[:, 0] <= 0.5 else to node 371.\n",
      "\t\t\t\t\t\t\t\t\t\tnode=370 leaf node.\n",
      "\t\t\t\t\t\t\t\t\t\tnode=371 test node: go to node 372 if X[:, 5] <= 31.399499893188477 else to node 375.\n",
      "\t\t\t\t\t\t\t\t\t\t\tnode=372 test node: go to node 373 if X[:, 1] <= 131.5 else to node 374.\n",
      "\t\t\t\t\t\t\t\t\t\t\t\tnode=373 leaf node.\n",
      "\t\t\t\t\t\t\t\t\t\t\t\tnode=374 leaf node.\n",
      "\t\t\t\t\t\t\t\t\t\t\tnode=375 leaf node.\n",
      "\t\t\t\t\t\tnode=376 test node: go to node 377 if X[:, 0] <= 4.5 else to node 378.\n",
      "\t\t\t\t\t\t\tnode=377 leaf node.\n",
      "\t\t\t\t\t\t\tnode=378 test node: go to node 379 if X[:, 6] <= 0.7305000126361847 else to node 380.\n",
      "\t\t\t\t\t\t\t\tnode=379 leaf node.\n",
      "\t\t\t\t\t\t\t\tnode=380 leaf node.\n",
      "\t\t\t\tnode=381 test node: go to node 382 if X[:, 6] <= 0.4310000091791153 else to node 433.\n",
      "\t\t\t\t\tnode=382 test node: go to node 383 if X[:, 0] <= 7.5 else to node 422.\n",
      "\t\t\t\t\t\tnode=383 test node: go to node 384 if X[:, 2] <= 29.5 else to node 385.\n",
      "\t\t\t\t\t\t\tnode=384 leaf node.\n",
      "\t\t\t\t\t\t\tnode=385 test node: go to node 386 if X[:, 5] <= 45.55100059509277 else to node 421.\n",
      "\t\t\t\t\t\t\t\tnode=386 test node: go to node 387 if X[:, 5] <= 42.201499938964844 else to node 420.\n",
      "\t\t\t\t\t\t\t\t\tnode=387 test node: go to node 388 if X[:, 1] <= 143.5 else to node 415.\n",
      "\t\t\t\t\t\t\t\t\t\tnode=388 test node: go to node 389 if X[:, 5] <= 35.0984992980957 else to node 412.\n",
      "\t\t\t\t\t\t\t\t\t\t\tnode=389 test node: go to node 390 if X[:, 7] <= 58.5 else to node 409.\n",
      "\t\t\t\t\t\t\t\t\t\t\t\tnode=390 test node: go to node 391 if X[:, 0] <= 6.5 else to node 402.\n",
      "\t\t\t\t\t\t\t\t\t\t\t\t\tnode=391 test node: go to node 392 if X[:, 5] <= 34.50149917602539 else to node 399.\n",
      "\t\t\t\t\t\t\t\t\t\t\t\t\t\tnode=392 test node: go to node 393 if X[:, 7] <= 33.5 else to node 394.\n",
      "\t\t\t\t\t\t\t\t\t\t\t\t\t\t\tnode=393 leaf node.\n",
      "\t\t\t\t\t\t\t\t\t\t\t\t\t\t\tnode=394 test node: go to node 395 if X[:, 4] <= 195.5 else to node 396.\n",
      "\t\t\t\t\t\t\t\t\t\t\t\t\t\t\t\tnode=395 leaf node.\n",
      "\t\t\t\t\t\t\t\t\t\t\t\t\t\t\t\tnode=396 test node: go to node 397 if X[:, 0] <= 3.5 else to node 398.\n",
      "\t\t\t\t\t\t\t\t\t\t\t\t\t\t\t\t\tnode=397 leaf node.\n",
      "\t\t\t\t\t\t\t\t\t\t\t\t\t\t\t\t\tnode=398 leaf node.\n",
      "\t\t\t\t\t\t\t\t\t\t\t\t\t\tnode=399 test node: go to node 400 if X[:, 1] <= 132.0 else to node 401.\n",
      "\t\t\t\t\t\t\t\t\t\t\t\t\t\t\tnode=400 leaf node.\n",
      "\t\t\t\t\t\t\t\t\t\t\t\t\t\t\tnode=401 leaf node.\n",
      "\t\t\t\t\t\t\t\t\t\t\t\t\tnode=402 test node: go to node 403 if X[:, 6] <= 0.33249999582767487 else to node 408.\n",
      "\t\t\t\t\t\t\t\t\t\t\t\t\t\tnode=403 test node: go to node 404 if X[:, 1] <= 133.5 else to node 407.\n",
      "\t\t\t\t\t\t\t\t\t\t\t\t\t\t\tnode=404 test node: go to node 405 if X[:, 6] <= 0.24300000071525574 else to node 406.\n",
      "\t\t\t\t\t\t\t\t\t\t\t\t\t\t\t\tnode=405 leaf node.\n",
      "\t\t\t\t\t\t\t\t\t\t\t\t\t\t\t\tnode=406 leaf node.\n",
      "\t\t\t\t\t\t\t\t\t\t\t\t\t\t\tnode=407 leaf node.\n",
      "\t\t\t\t\t\t\t\t\t\t\t\t\t\tnode=408 leaf node.\n",
      "\t\t\t\t\t\t\t\t\t\t\t\tnode=409 test node: go to node 410 if X[:, 2] <= 81.5 else to node 411.\n",
      "\t\t\t\t\t\t\t\t\t\t\t\t\tnode=410 leaf node.\n",
      "\t\t\t\t\t\t\t\t\t\t\t\t\tnode=411 leaf node.\n",
      "\t\t\t\t\t\t\t\t\t\t\tnode=412 test node: go to node 413 if X[:, 0] <= 1.0 else to node 414.\n",
      "\t\t\t\t\t\t\t\t\t\t\t\tnode=413 leaf node.\n",
      "\t\t\t\t\t\t\t\t\t\t\t\tnode=414 leaf node.\n",
      "\t\t\t\t\t\t\t\t\t\tnode=415 test node: go to node 416 if X[:, 2] <= 79.0 else to node 419.\n",
      "\t\t\t\t\t\t\t\t\t\t\tnode=416 test node: go to node 417 if X[:, 5] <= 30.649499893188477 else to node 418.\n",
      "\t\t\t\t\t\t\t\t\t\t\t\tnode=417 leaf node.\n",
      "\t\t\t\t\t\t\t\t\t\t\t\tnode=418 leaf node.\n",
      "\t\t\t\t\t\t\t\t\t\t\tnode=419 leaf node.\n",
      "\t\t\t\t\t\t\t\t\tnode=420 leaf node.\n",
      "\t\t\t\t\t\t\t\tnode=421 leaf node.\n",
      "\t\t\t\t\t\tnode=422 test node: go to node 423 if X[:, 2] <= 72.5 else to node 426.\n",
      "\t\t\t\t\t\t\tnode=423 test node: go to node 424 if X[:, 4] <= 258.0 else to node 425.\n",
      "\t\t\t\t\t\t\t\tnode=424 leaf node.\n",
      "\t\t\t\t\t\t\t\tnode=425 leaf node.\n",
      "\t\t\t\t\t\t\tnode=426 test node: go to node 427 if X[:, 5] <= 40.64850044250488 else to node 432.\n",
      "\t\t\t\t\t\t\t\tnode=427 test node: go to node 428 if X[:, 6] <= 0.13650000095367432 else to node 429.\n",
      "\t\t\t\t\t\t\t\t\tnode=428 leaf node.\n",
      "\t\t\t\t\t\t\t\t\tnode=429 test node: go to node 430 if X[:, 1] <= 124.5 else to node 431.\n",
      "\t\t\t\t\t\t\t\t\t\tnode=430 leaf node.\n",
      "\t\t\t\t\t\t\t\t\t\tnode=431 leaf node.\n",
      "\t\t\t\t\t\t\t\tnode=432 leaf node.\n",
      "\t\t\t\t\tnode=433 test node: go to node 434 if X[:, 6] <= 1.565999984741211 else to node 461.\n",
      "\t\t\t\t\t\tnode=434 test node: go to node 435 if X[:, 5] <= 30.149999618530273 else to node 436.\n",
      "\t\t\t\t\t\t\tnode=435 leaf node.\n",
      "\t\t\t\t\t\t\tnode=436 test node: go to node 437 if X[:, 4] <= 521.5 else to node 460.\n",
      "\t\t\t\t\t\t\t\tnode=437 test node: go to node 438 if X[:, 5] <= 40.05100059509277 else to node 451.\n",
      "\t\t\t\t\t\t\t\t\tnode=438 test node: go to node 439 if X[:, 4] <= 332.5 else to node 448.\n",
      "\t\t\t\t\t\t\t\t\t\tnode=439 test node: go to node 440 if X[:, 1] <= 127.5 else to node 443.\n",
      "\t\t\t\t\t\t\t\t\t\t\tnode=440 test node: go to node 441 if X[:, 6] <= 0.8279999792575836 else to node 442.\n",
      "\t\t\t\t\t\t\t\t\t\t\t\tnode=441 leaf node.\n",
      "\t\t\t\t\t\t\t\t\t\t\t\tnode=442 leaf node.\n",
      "\t\t\t\t\t\t\t\t\t\t\tnode=443 test node: go to node 444 if X[:, 2] <= 65.5 else to node 447.\n",
      "\t\t\t\t\t\t\t\t\t\t\t\tnode=444 test node: go to node 445 if X[:, 2] <= 58.5 else to node 446.\n",
      "\t\t\t\t\t\t\t\t\t\t\t\t\tnode=445 leaf node.\n",
      "\t\t\t\t\t\t\t\t\t\t\t\t\tnode=446 leaf node.\n",
      "\t\t\t\t\t\t\t\t\t\t\t\tnode=447 leaf node.\n",
      "\t\t\t\t\t\t\t\t\t\tnode=448 test node: go to node 449 if X[:, 3] <= 34.0 else to node 450.\n",
      "\t\t\t\t\t\t\t\t\t\t\tnode=449 leaf node.\n",
      "\t\t\t\t\t\t\t\t\t\t\tnode=450 leaf node.\n",
      "\t\t\t\t\t\t\t\t\tnode=451 test node: go to node 452 if X[:, 5] <= 40.89849853515625 else to node 453.\n",
      "\t\t\t\t\t\t\t\t\t\tnode=452 leaf node.\n",
      "\t\t\t\t\t\t\t\t\t\tnode=453 test node: go to node 454 if X[:, 4] <= -4.0 else to node 455.\n",
      "\t\t\t\t\t\t\t\t\t\t\tnode=454 leaf node.\n",
      "\t\t\t\t\t\t\t\t\t\t\tnode=455 test node: go to node 456 if X[:, 0] <= 5.0 else to node 459.\n",
      "\t\t\t\t\t\t\t\t\t\t\t\tnode=456 test node: go to node 457 if X[:, 6] <= 0.598499983549118 else to node 458.\n",
      "\t\t\t\t\t\t\t\t\t\t\t\t\tnode=457 leaf node.\n",
      "\t\t\t\t\t\t\t\t\t\t\t\t\tnode=458 leaf node.\n",
      "\t\t\t\t\t\t\t\t\t\t\t\tnode=459 leaf node.\n",
      "\t\t\t\t\t\t\t\tnode=460 leaf node.\n",
      "\t\t\t\t\t\tnode=461 leaf node.\n",
      "\t\t\tnode=462 test node: go to node 463 if X[:, 4] <= 630.0 else to node 508.\n",
      "\t\t\t\tnode=463 test node: go to node 464 if X[:, 5] <= 46.10050010681152 else to node 505.\n",
      "\t\t\t\t\tnode=464 test node: go to node 465 if X[:, 4] <= -5.0 else to node 466.\n",
      "\t\t\t\t\t\tnode=465 leaf node.\n",
      "\t\t\t\t\t\tnode=466 test node: go to node 467 if X[:, 6] <= 0.3425000011920929 else to node 492.\n",
      "\t\t\t\t\t\t\tnode=467 test node: go to node 468 if X[:, 5] <= 35.30050086975098 else to node 483.\n",
      "\t\t\t\t\t\t\t\tnode=468 test node: go to node 469 if X[:, 4] <= 284.0 else to node 482.\n",
      "\t\t\t\t\t\t\t\t\tnode=469 test node: go to node 470 if X[:, 5] <= 35.0004997253418 else to node 481.\n",
      "\t\t\t\t\t\t\t\t\t\tnode=470 test node: go to node 471 if X[:, 6] <= 0.3305000066757202 else to node 480.\n",
      "\t\t\t\t\t\t\t\t\t\t\tnode=471 test node: go to node 472 if X[:, 7] <= 54.0 else to node 479.\n",
      "\t\t\t\t\t\t\t\t\t\t\t\tnode=472 test node: go to node 473 if X[:, 4] <= 35.5 else to node 474.\n",
      "\t\t\t\t\t\t\t\t\t\t\t\t\tnode=473 leaf node.\n",
      "\t\t\t\t\t\t\t\t\t\t\t\t\tnode=474 test node: go to node 475 if X[:, 4] <= 99.5 else to node 476.\n",
      "\t\t\t\t\t\t\t\t\t\t\t\t\t\tnode=475 leaf node.\n",
      "\t\t\t\t\t\t\t\t\t\t\t\t\t\tnode=476 test node: go to node 477 if X[:, 5] <= 31.249500274658203 else to node 478.\n",
      "\t\t\t\t\t\t\t\t\t\t\t\t\t\t\tnode=477 leaf node.\n",
      "\t\t\t\t\t\t\t\t\t\t\t\t\t\t\tnode=478 leaf node.\n",
      "\t\t\t\t\t\t\t\t\t\t\t\tnode=479 leaf node.\n",
      "\t\t\t\t\t\t\t\t\t\t\tnode=480 leaf node.\n",
      "\t\t\t\t\t\t\t\t\t\tnode=481 leaf node.\n",
      "\t\t\t\t\t\t\t\t\tnode=482 leaf node.\n",
      "\t\t\t\t\t\t\t\tnode=483 test node: go to node 484 if X[:, 2] <= 44.5 else to node 487.\n",
      "\t\t\t\t\t\t\t\t\tnode=484 test node: go to node 485 if X[:, 1] <= 172.0 else to node 486.\n",
      "\t\t\t\t\t\t\t\t\t\tnode=485 leaf node.\n",
      "\t\t\t\t\t\t\t\t\t\tnode=486 leaf node.\n",
      "\t\t\t\t\t\t\t\t\tnode=487 test node: go to node 488 if X[:, 6] <= 0.14399999380111694 else to node 491.\n",
      "\t\t\t\t\t\t\t\t\t\tnode=488 test node: go to node 489 if X[:, 3] <= 20.0 else to node 490.\n",
      "\t\t\t\t\t\t\t\t\t\t\tnode=489 leaf node.\n",
      "\t\t\t\t\t\t\t\t\t\t\tnode=490 leaf node.\n",
      "\t\t\t\t\t\t\t\t\t\tnode=491 leaf node.\n",
      "\t\t\t\t\t\t\tnode=492 test node: go to node 493 if X[:, 6] <= 1.4289999604225159 else to node 502.\n",
      "\t\t\t\t\t\t\t\tnode=493 test node: go to node 494 if X[:, 1] <= 165.5 else to node 501.\n",
      "\t\t\t\t\t\t\t\t\tnode=494 test node: go to node 495 if X[:, 4] <= 436.0 else to node 500.\n",
      "\t\t\t\t\t\t\t\t\t\tnode=495 test node: go to node 496 if X[:, 7] <= 47.5 else to node 497.\n",
      "\t\t\t\t\t\t\t\t\t\t\tnode=496 leaf node.\n",
      "\t\t\t\t\t\t\t\t\t\t\tnode=497 test node: go to node 498 if X[:, 4] <= 155.5 else to node 499.\n",
      "\t\t\t\t\t\t\t\t\t\t\t\tnode=498 leaf node.\n",
      "\t\t\t\t\t\t\t\t\t\t\t\tnode=499 leaf node.\n",
      "\t\t\t\t\t\t\t\t\t\tnode=500 leaf node.\n",
      "\t\t\t\t\t\t\t\t\tnode=501 leaf node.\n",
      "\t\t\t\t\t\t\t\tnode=502 test node: go to node 503 if X[:, 6] <= 1.6764999628067017 else to node 504.\n",
      "\t\t\t\t\t\t\t\t\tnode=503 leaf node.\n",
      "\t\t\t\t\t\t\t\t\tnode=504 leaf node.\n",
      "\t\t\t\t\tnode=505 test node: go to node 506 if X[:, 4] <= 119.5 else to node 507.\n",
      "\t\t\t\t\t\tnode=506 leaf node.\n",
      "\t\t\t\t\t\tnode=507 leaf node.\n",
      "\t\t\t\tnode=508 leaf node.\n",
      "\n"
     ]
    }
   ],
   "source": [
    "n_nodes = clfr.tree_.node_count\n",
    "children_left = clfr.tree_.children_left\n",
    "children_right = clfr.tree_.children_right\n",
    "feature = clfr.tree_.feature\n",
    "threshold = clfr.tree_.threshold\n",
    "\n",
    "\n",
    "node_depth = np.zeros(shape=n_nodes, dtype=np.int64)\n",
    "is_leaves = np.zeros(shape=n_nodes, dtype=bool)\n",
    "stack = [(0, -1)]  # seed is the root node id plus parent depth\n",
    "while len(stack) > 0:\n",
    "    node_id, parent_depth = stack.pop()\n",
    "    node_depth[node_id] = parent_depth + 1\n",
    "\n",
    "    # If we have a test node\n",
    "    if (children_left[node_id] != children_right[node_id]):\n",
    "        stack.append((children_left[node_id], parent_depth + 1))\n",
    "        stack.append((children_right[node_id], parent_depth + 1))\n",
    "    else:\n",
    "        is_leaves[node_id] = True\n",
    "\n",
    "print(\"The tree structure has %s nodes and has the following tree structure:\" % n_nodes)\n",
    "for i in range(n_nodes):\n",
    "    if is_leaves[i]:\n",
    "        print(\"%snode=%s leaf node.\" % (node_depth[i] * \"\\t\", i))\n",
    "    else:\n",
    "        print(\"%snode=%s test node: go to node %s if X[:, %s] <= %s else to node %s.\" % (node_depth[i] * \"\\t\",\n",
    "                 i,\n",
    "                 children_left[i],\n",
    "                 feature[i],\n",
    "                 threshold[i],\n",
    "                 children_right[i],\n",
    "                 ))\n",
    "print()"
   ]
  },
  {
   "cell_type": "code",
   "execution_count": 17,
   "metadata": {},
   "outputs": [],
   "source": [
    "dot_data = tree.export_graphviz(clfr, out_file=None) \n",
    "graph = gv.Source(dot_data, format='png')"
   ]
  },
  {
   "cell_type": "code",
   "execution_count": 18,
   "metadata": {},
   "outputs": [
    {
     "name": "stdout",
     "output_type": "stream",
     "text": [
      "C:\\Users\\AndreVermeulen\\Documents\\My Book\\apress\\Industrial Machine Learning\\book\\GitHub\\Upload\\industrial-machine-learning\\Results\\Chapter 04\n"
     ]
    }
   ],
   "source": [
    "imagepath = os.path.join(*[os.path.dirname(os.path.dirname(os.getcwd())),'Results','Chapter 04'])\n",
    "print(imagepath)"
   ]
  },
  {
   "cell_type": "code",
   "execution_count": 19,
   "metadata": {},
   "outputs": [],
   "source": [
    "if not os.path.exists(imagepath):\n",
    "    os.makedirs(imagepath)"
   ]
  },
  {
   "cell_type": "code",
   "execution_count": 20,
   "metadata": {},
   "outputs": [],
   "source": [
    "imagename = os.path.join(*[os.path.dirname(os.path.dirname(os.getcwd())),'Results','Chapter 04','Chapter-004-Example-015-04.dot'])"
   ]
  },
  {
   "cell_type": "code",
   "execution_count": 21,
   "metadata": {},
   "outputs": [
    {
     "data": {
      "text/plain": [
       "'C:\\\\Users\\\\AndreVermeulen\\\\Documents\\\\My Book\\\\apress\\\\Industrial Machine Learning\\\\book\\\\GitHub\\\\Upload\\\\industrial-machine-learning\\\\Results\\\\Chapter 04\\\\Chapter-004-Example-015-04.dot.png'"
      ]
     },
     "execution_count": 21,
     "metadata": {},
     "output_type": "execute_result"
    }
   ],
   "source": [
    "graph.render(filename=imagename)"
   ]
  },
  {
   "cell_type": "code",
   "execution_count": 22,
   "metadata": {},
   "outputs": [
    {
     "data": {
      "text/plain": [
       "'C:\\\\Users\\\\AndreVermeulen\\\\Documents\\\\My Book\\\\apress\\\\Industrial Machine Learning\\\\book\\\\GitHub\\\\Upload\\\\industrial-machine-learning\\\\Results\\\\Chapter 04\\\\Chapter-004-Example-015-04.png'"
      ]
     },
     "execution_count": 22,
     "metadata": {},
     "output_type": "execute_result"
    }
   ],
   "source": [
    "imagename1 = os.path.join(*[os.path.dirname(os.path.dirname(os.getcwd())),'Results','Chapter 04','Chapter-004-Example-015-04.dot.png'])\n",
    "imagename2 = os.path.join(*[os.path.dirname(os.path.dirname(os.getcwd())),'Results','Chapter 04','Chapter-004-Example-015-04.png'])\n",
    "os.remove(imagename)\n",
    "shutil.move(imagename1,imagename2)"
   ]
  },
  {
   "cell_type": "code",
   "execution_count": 23,
   "metadata": {},
   "outputs": [],
   "source": [
    "gv.view(imagename2)"
   ]
  },
  {
   "cell_type": "code",
   "execution_count": 24,
   "metadata": {},
   "outputs": [
    {
     "name": "stdout",
     "output_type": "stream",
     "text": [
      "Done! 2019-10-19 17:26:28.459456\n"
     ]
    }
   ],
   "source": [
    "import datetime\n",
    "now = datetime.datetime.now()\n",
    "print('Done!',str(now))"
   ]
  },
  {
   "cell_type": "code",
   "execution_count": null,
   "metadata": {},
   "outputs": [],
   "source": []
  }
 ],
 "metadata": {
  "kernelspec": {
   "display_name": "Python 3",
   "language": "python",
   "name": "python3"
  },
  "language_info": {
   "codemirror_mode": {
    "name": "ipython",
    "version": 3
   },
   "file_extension": ".py",
   "mimetype": "text/x-python",
   "name": "python",
   "nbconvert_exporter": "python",
   "pygments_lexer": "ipython3",
   "version": "3.7.3"
  }
 },
 "nbformat": 4,
 "nbformat_minor": 2
}
