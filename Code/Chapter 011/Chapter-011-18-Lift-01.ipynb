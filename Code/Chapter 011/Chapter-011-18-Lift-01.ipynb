{
 "cells": [
  {
   "cell_type": "markdown",
   "metadata": {},
   "source": [
    "## Apress - Industrialized Machine Learning Examples\n",
    "\n",
    "Andreas Francois Vermeulen\n",
    "2019\n",
    "\n",
    "### This is an example add-on to a book and needs to be accepted as part of that copyright."
   ]
  },
  {
   "cell_type": "markdown",
   "metadata": {},
   "source": [
    "## Chapter-011-18-Lift-01"
   ]
  },
  {
   "cell_type": "code",
   "execution_count": 1,
   "metadata": {},
   "outputs": [],
   "source": [
    "from PIL import ImageFont, Image, ImageDraw\n",
    "im = Image.new('RGBA', (600, 200), (255, 255, 255, 255)) \n",
    "draw = ImageDraw.Draw(im) \n",
    "draw.line((10,100, 200,100), fill=128, width=10)\n",
    "draw.line((210,100, 550,100), fill=128, width=10)\n",
    "\n",
    "draw.ellipse((195, 105, 215, 170), fill=(255,0,0,255))\n",
    "draw.ellipse((155, 155, 255, 170), fill=(0,0,0,255))\n",
    "\n",
    "f = ImageFont.load_default()\n",
    "draw.text( (5, 80), \"a x M1\",  font=f, fill=255)\n",
    "draw.text( (535, 80), \"b x M2\",  font=f, fill=255)\n",
    "\n",
    "im.show()"
   ]
  },
  {
   "cell_type": "markdown",
   "metadata": {},
   "source": [
    "## Done"
   ]
  },
  {
   "cell_type": "code",
   "execution_count": 2,
   "metadata": {},
   "outputs": [
    {
     "name": "stdout",
     "output_type": "stream",
     "text": [
      "Done! 2019-04-28 16:47:30.874693\n"
     ]
    }
   ],
   "source": [
    "import datetime\n",
    "now = datetime.datetime.now()\n",
    "print('Done!',str(now))"
   ]
  }
 ],
 "metadata": {
  "kernelspec": {
   "display_name": "Python 3",
   "language": "python",
   "name": "python3"
  },
  "language_info": {
   "codemirror_mode": {
    "name": "ipython",
    "version": 3
   },
   "file_extension": ".py",
   "mimetype": "text/x-python",
   "name": "python",
   "nbconvert_exporter": "python",
   "pygments_lexer": "ipython3",
   "version": "3.7.1"
  }
 },
 "nbformat": 4,
 "nbformat_minor": 2
}
