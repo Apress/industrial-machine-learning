{
 "cells": [
  {
   "cell_type": "markdown",
   "metadata": {},
   "source": [
    "## Apress - Industrialized Machine Learning Examples\n",
    "\n",
    "Andreas Francois Vermeulen\n",
    "2019\n",
    "\n",
    "### This is an example add-on to a book and needs to be accepted as part of that copyright."
   ]
  },
  {
   "cell_type": "markdown",
   "metadata": {},
   "source": [
    "## Chapter-011-23-Control-03"
   ]
  },
  {
   "cell_type": "code",
   "execution_count": null,
   "metadata": {},
   "outputs": [],
   "source": [
    "#!pip install harold"
   ]
  },
  {
   "cell_type": "code",
   "execution_count": null,
   "metadata": {},
   "outputs": [],
   "source": [
    "import matplotlib\n",
    "matplotlib.use('TkAgg')\n",
    "%matplotlib inline"
   ]
  },
  {
   "cell_type": "code",
   "execution_count": null,
   "metadata": {},
   "outputs": [],
   "source": [
    "import numpy as np\n",
    "from harold import *\n",
    "import matplotlib.pyplot as plt"
   ]
  },
  {
   "cell_type": "markdown",
   "metadata": {},
   "source": [
    "# Creating models\n",
    "\n",
    "harold defines two classes to represent the dynamic models: Transfer and State classes. "
   ]
  },
  {
   "cell_type": "code",
   "execution_count": null,
   "metadata": {},
   "outputs": [],
   "source": [
    "from IPython.display import Image\n",
    "Image(filename='../../data/chapter 06/TransferState.png') "
   ]
  },
  {
   "cell_type": "code",
   "execution_count": null,
   "metadata": {},
   "outputs": [],
   "source": [
    "G1 = Transfer([1, -1],[1, -2, 1, 0], dt=0.1) # discrete\n",
    "G2 = Transfer([[1, [1, 3]],[0, [1, 2]]], [[[1, 2], [1, 0, -4]],[1, [1, -3]]])\n",
    "G3 = State([[0, 1], [-0.1, -0.5]], [[0], [1]], [0, 3.5], 1, dt=0.1) # discrete\n",
    "G4 = State([[-4, -2, 2], [0, -5, 2], [4, -3, -4]], [[1, 1], [0, 1], [2, -1]], [-1, 5, 2])"
   ]
  },
  {
   "cell_type": "markdown",
   "metadata": {},
   "source": [
    "You convert the list objects into NumPy arrays. \n",
    "Note that you are skipping the  matrix on Discrete-time models since it is zero. "
   ]
  },
  {
   "cell_type": "code",
   "execution_count": null,
   "metadata": {},
   "outputs": [],
   "source": [
    "print(G1)"
   ]
  },
  {
   "cell_type": "markdown",
   "metadata": {},
   "source": [
    "You can directly identify the pole zero structure with the process.\n",
    "The MIMO state representations is preferred exclusively, MIMO transfer models explicitly require a list of lists structure. "
   ]
  },
  {
   "cell_type": "code",
   "execution_count": null,
   "metadata": {},
   "outputs": [],
   "source": [
    "from IPython.display import Image\n",
    "Image(filename='../../data/chapter 06/TransferStateG5.png') "
   ]
  },
  {
   "cell_type": "code",
   "execution_count": null,
   "metadata": {},
   "outputs": [],
   "source": [
    "G5 = Transfer([[[1, 1], 2], [[1, 3], 4]], [1, 5, 1])\n",
    "print('Numerator :\\n', G5.num, '\\nDenominator :\\n', G5.den)"
   ]
  },
  {
   "cell_type": "markdown",
   "metadata": {},
   "source": [
    "You should now slice the array based on the shape of the C array and arrive at the same results"
   ]
  },
  {
   "cell_type": "code",
   "execution_count": null,
   "metadata": {},
   "outputs": [],
   "source": [
    "M = np.array([[-4, -2, 2, 1, 1], [0, -5, 2, 0, 1], [4, -3, -4, 2, -1], [-1, 5, 2, 0, 0]])\n",
    "G4 = State(*matrix_slice(M, corner_shape=[3, 3], corner='nw'))\n",
    "print(G4.matrices)"
   ]
  },
  {
   "cell_type": "code",
   "execution_count": null,
   "metadata": {},
   "outputs": [],
   "source": [
    "M = np.array([[-4, -2, 2, 1, 1],\n",
    "              [0, -5, 2, 0, 1],\n",
    "              [4, -3, -4, 2, -1],\n",
    "              [-1, 5, 2, 0, 0]])\n",
    "G4 = State(*matrix_slice(M, corner_shape=[1, 3], corner='sw'))"
   ]
  },
  {
   "cell_type": "markdown",
   "metadata": {},
   "source": [
    "Further properties can now beeen accessed via the common dot syntax.\n",
    "You should now investigate the model data of G1"
   ]
  },
  {
   "cell_type": "code",
   "execution_count": null,
   "metadata": {},
   "outputs": [],
   "source": [
    "print(G1.polynomials)"
   ]
  },
  {
   "cell_type": "markdown",
   "metadata": {},
   "source": [
    "You should investigate the model data of a State representation, for G3 next or simply look at the  matrix of G4"
   ]
  },
  {
   "cell_type": "code",
   "execution_count": null,
   "metadata": {},
   "outputs": [],
   "source": [
    "print(G3.matrices)"
   ]
  },
  {
   "cell_type": "code",
   "execution_count": null,
   "metadata": {},
   "outputs": [],
   "source": [
    "print(G4.a)"
   ]
  },
  {
   "cell_type": "markdown",
   "metadata": {},
   "source": [
    "# Random State models"
   ]
  },
  {
   "cell_type": "markdown",
   "metadata": {},
   "source": [
    "Finally you can create random State models via the random_stable_model"
   ]
  },
  {
   "cell_type": "markdown",
   "metadata": {},
   "source": [
    "You should force the random model to have more chance to have oscillatory modes by changing the probability distribution of the selected poles. \n",
    "Assume that you want a discrete-time model with majority poles on the imaginary axis and occasional integrators."
   ]
  },
  {
   "cell_type": "code",
   "execution_count": null,
   "metadata": {},
   "outputs": [],
   "source": [
    "G = random_state_model(5, p=3, m=2)\n",
    "print(G)"
   ]
  },
  {
   "cell_type": "code",
   "execution_count": null,
   "metadata": {},
   "outputs": [],
   "source": [
    "G = random_state_model(20, p=3, m=2, dt=0.01, prob_dist=[0, 0, 0.1, 0.9],stable=False) # 90% osc. modes, 10% integrators\n",
    "print(G)"
   ]
  },
  {
   "cell_type": "markdown",
   "metadata": {},
   "source": [
    "# Conversions of Models\n",
    "\n",
    "In order to convert one model representation to another, the relevant functions are transfer_to_state() and state_to_transfer(). "
   ]
  },
  {
   "cell_type": "markdown",
   "metadata": {},
   "source": [
    "Note: Typically the conversion from a Transfer model to a State model leads to a non-minimal representations."
   ]
  },
  {
   "cell_type": "code",
   "execution_count": null,
   "metadata": {},
   "outputs": [],
   "source": [
    "H = transfer_to_state(G2)\n",
    "print(H)"
   ]
  },
  {
   "cell_type": "code",
   "execution_count": null,
   "metadata": {},
   "outputs": [],
   "source": [
    "J = state_to_transfer(G3)\n",
    "print(J)"
   ]
  },
  {
   "cell_type": "markdown",
   "metadata": {},
   "source": [
    "# Minimal Realization\n",
    "\n",
    "The minimality is an essential property of any representations for reliable computations and hence we can use minimal_realization() function. This function uses a distance metric to the closest rank-deficient matrix pencil for State models and a straightforward walk-over the poles and zeros for Transfer representations. "
   ]
  },
  {
   "cell_type": "markdown",
   "metadata": {},
   "source": [
    "Note: The tolerance for decision can be adjusted."
   ]
  },
  {
   "cell_type": "markdown",
   "metadata": {},
   "source": [
    "Note: MIMO poles and zeros don't necessarily cancel each other even though the values are identical. This is because for MIMO representations pole and zero directionalities can be different. You can see this for the representation H, that you obtained before."
   ]
  },
  {
   "cell_type": "code",
   "execution_count": null,
   "metadata": {},
   "outputs": [],
   "source": [
    "Hm = minimal_realization(H)\n",
    "print(Hm)"
   ]
  },
  {
   "cell_type": "markdown",
   "metadata": {},
   "source": [
    "# Discretization and undiscretization\n",
    "\n",
    "Discretization of models is mostly an art or result of experience than pure science. Though the methods are sound, selecting the right method and the relevant sampling period is up to machine learners's choice."
   ]
  },
  {
   "cell_type": "code",
   "execution_count": null,
   "metadata": {},
   "outputs": [],
   "source": [
    "G6 = Transfer([1], [1, 1.4, 1])\n",
    "G6d = discretize(G6, dt=0.3, method='zoh')\n",
    "print(G6d)"
   ]
  },
  {
   "cell_type": "markdown",
   "metadata": {},
   "source": [
    "Here is the current known discretization methods:"
   ]
  },
  {
   "cell_type": "code",
   "execution_count": null,
   "metadata": {},
   "outputs": [],
   "source": [
    "from harold._global_constants import _KnownDiscretizationMethods as km\n",
    "print('Discretization methods \\n=============================')\n",
    "print(*km, sep='\\n')"
   ]
  },
  {
   "cell_type": "markdown",
   "metadata": {},
   "source": [
    "You can use these against G3. You did not provide any method but for G6d the default method was implemented."
   ]
  },
  {
   "cell_type": "code",
   "execution_count": null,
   "metadata": {},
   "outputs": [],
   "source": [
    "print(G3.DiscretizedWith is None)"
   ]
  },
  {
   "cell_type": "code",
   "execution_count": null,
   "metadata": {},
   "outputs": [],
   "source": [
    "print(G6d.DiscretizedWith)"
   ]
  },
  {
   "cell_type": "markdown",
   "metadata": {},
   "source": [
    "You can now convert back these models, G3 will be converted using the default method tustin however G6d will be converted via zero-order hold method. "
   ]
  },
  {
   "cell_type": "markdown",
   "metadata": {},
   "source": [
    "Note: Had this information not present, the resulting continuous model would be slightly different than what you started with."
   ]
  },
  {
   "cell_type": "code",
   "execution_count": null,
   "metadata": {},
   "outputs": [],
   "source": [
    "G6dcz = undiscretize(G6d)\n",
    "print(G6dcz)"
   ]
  },
  {
   "cell_type": "code",
   "execution_count": null,
   "metadata": {},
   "outputs": [],
   "source": [
    "G6dct = undiscretize(G6d, method='tustin')\n",
    "print(G6dct)"
   ]
  },
  {
   "cell_type": "markdown",
   "metadata": {},
   "source": [
    "# Model algebra\n",
    "\n",
    "Basic algebraic operations and feedback operations are implemented via typical *,+,-,@ and feedback() function. The shape and sampling time compatibility is checked before the operations and errors are raised in case of mismatches.\n",
    "One exception is the operation with a SISO model over a MIMO model. For example, G1 is a SISO model and G3 is a sampling time matching MIMO model, hence following is allowed which multiplies each entry of G3 with G1. For multiplication of MIMO models matrix multiplication rules and hence matrix multiplication operator @ is followed."
   ]
  },
  {
   "cell_type": "code",
   "execution_count": null,
   "metadata": {},
   "outputs": [],
   "source": [
    "print(G1 * G3)"
   ]
  },
  {
   "cell_type": "code",
   "execution_count": null,
   "metadata": {},
   "outputs": [],
   "source": [
    "print(G4 @ G2)"
   ]
  },
  {
   "cell_type": "code",
   "execution_count": null,
   "metadata": {},
   "outputs": [],
   "source": [
    "CL = feedback(G3, G1)\n",
    "CL_min = minimal_realization(CL)\n",
    "print(CL)"
   ]
  },
  {
   "cell_type": "markdown",
   "metadata": {},
   "source": [
    "You should observe that there is a pole/zero cancellation at 1. Which is removed afterwards in the process."
   ]
  },
  {
   "cell_type": "code",
   "execution_count": null,
   "metadata": {},
   "outputs": [],
   "source": [
    "print(CL_min)"
   ]
  },
  {
   "cell_type": "markdown",
   "metadata": {},
   "source": [
    "# Basic Plotting Functionality\n",
    "\n",
    "The common plots that are needed are already available."
   ]
  },
  {
   "cell_type": "markdown",
   "metadata": {},
   "source": [
    "For frequency domain plotting, the default units are Hz and powers of ten for amplitudes."
   ]
  },
  {
   "cell_type": "code",
   "execution_count": null,
   "metadata": {},
   "outputs": [],
   "source": [
    "impulse_response_plot(G4)\n",
    "plt.show()"
   ]
  },
  {
   "cell_type": "markdown",
   "metadata": {},
   "source": [
    "The discrete-time plant plots are automatically drawn as stairs."
   ]
  },
  {
   "cell_type": "code",
   "execution_count": null,
   "metadata": {},
   "outputs": [],
   "source": [
    "G4_d = discretize(G4, 0.1, method='zoh')\n",
    "impulse_response_plot(G4_d)\n",
    "plt.show()"
   ]
  },
  {
   "cell_type": "markdown",
   "metadata": {},
   "source": [
    "The plot units can be changed via the keywords available"
   ]
  },
  {
   "cell_type": "code",
   "execution_count": null,
   "metadata": {},
   "outputs": [],
   "source": [
    "bode_plot(G4)\n",
    "plt.show()"
   ]
  },
  {
   "cell_type": "code",
   "execution_count": null,
   "metadata": {},
   "outputs": [],
   "source": [
    "bode_plot(G4, use_db=True, use_hz=False, use_degree=False)\n",
    "plt.show()"
   ]
  },
  {
   "cell_type": "code",
   "execution_count": null,
   "metadata": {},
   "outputs": [],
   "source": [
    "nyquist_plot(G2)\n",
    "plt.show()"
   ]
  },
  {
   "cell_type": "markdown",
   "metadata": {},
   "source": [
    "# An LQR example\n",
    "\n",
    "Just to demonstrate to you what you could perform, i will guide you through a LQR example for Inverted Pendulum: State-Space Methods for Controller Design."
   ]
  },
  {
   "cell_type": "code",
   "execution_count": null,
   "metadata": {},
   "outputs": [],
   "source": [
    "# Define some parameters\n",
    "M, m, b, I, g, l = 0.5, 0.2, 0.1, 0.006, 9.8, 0.3\n",
    "p = I*(M+m) + M*m*l**2  #denominator for the A and B matrices\n",
    "\n",
    "A = np.array([[0, 1, 0, 0], [0, -(I+m*l**2)*b/p, (m**2*g*l**2)/p, 0],[0, 0, 0, 1], [0, -(m*l*b)/p, m*g*l*(M+m)/p, 0]])\n",
    "B = np.array([[0], [(I+m*l**2)/p], [0], [m*l/p]])\n",
    "C = np.array([[1, 0, 0, 0], [0, 0, 1, 0]])\n",
    "\n",
    "sys_ss = State(A,B,C)\n",
    "print('The system is Kalman controllable:', is_kalman_controllable(sys_ss))\n",
    "\n",
    "Q = C.T @ C\n",
    "K, X, eigs = lqr(sys_ss, Q)  # R = 1 if omitted\n",
    "print('Controller K gains : ', K)\n",
    "sys_cl = State(A-B@K, B, C)\n",
    "\n",
    "t = np.arange(0, 5, 0.01)\n",
    "r =0.2*np.ones(len(t))\n",
    "y, t = simulate_linear_system(sys_cl, u=r, t=t)\n",
    "fig, ax = plt.subplots(1, 1)\n",
    "ax.plot(t,y);\n",
    "ax.grid(which='both')\n",
    "plt.show()"
   ]
  },
  {
   "cell_type": "markdown",
   "metadata": {},
   "source": [
    "Now, you increase the weights on the position states"
   ]
  },
  {
   "cell_type": "code",
   "execution_count": null,
   "metadata": {},
   "outputs": [],
   "source": [
    "Q[[0, 2], [0, 2]] = [5000, 100]\n",
    "K, X, eigs = lqr(sys_ss, Q)\n",
    "print('New Controller gains : ', K)\n",
    "sys_cl = State(A-B@K, B, C)\n",
    "y, t = simulate_linear_system(sys_cl, u=r, t=t)\n",
    "fig, ax = plt.subplots(1, 1)\n",
    "ax.plot(t,y);\n",
    "ax.grid(which='both')\n",
    "plt.show()"
   ]
  },
  {
   "cell_type": "markdown",
   "metadata": {},
   "source": [
    "## Done"
   ]
  },
  {
   "cell_type": "code",
   "execution_count": null,
   "metadata": {},
   "outputs": [],
   "source": [
    "import datetime\n",
    "now = datetime.datetime.now()\n",
    "print('Done!',str(now))"
   ]
  }
 ],
 "metadata": {
  "kernelspec": {
   "display_name": "Python 3",
   "language": "python",
   "name": "python3"
  },
  "language_info": {
   "codemirror_mode": {
    "name": "ipython",
    "version": 3
   },
   "file_extension": ".py",
   "mimetype": "text/x-python",
   "name": "python",
   "nbconvert_exporter": "python",
   "pygments_lexer": "ipython3",
   "version": "3.7.1"
  }
 },
 "nbformat": 4,
 "nbformat_minor": 2
}
