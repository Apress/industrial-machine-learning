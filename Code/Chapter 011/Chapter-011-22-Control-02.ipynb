{
 "cells": [
  {
   "cell_type": "markdown",
   "metadata": {},
   "source": [
    "## Apress - Industrialized Machine Learning Examples\n",
    "\n",
    "Andreas Francois Vermeulen\n",
    "2019\n",
    "\n",
    "### This is an example add-on to a book and needs to be accepted as part of that copyright."
   ]
  },
  {
   "cell_type": "markdown",
   "metadata": {},
   "source": [
    "## Chapter-011-22-Control-02"
   ]
  },
  {
   "cell_type": "code",
   "execution_count": null,
   "metadata": {},
   "outputs": [],
   "source": [
    "# conda install -c conda-forge urllib3\n",
    "# conda install -c conda-forge slycot\n",
    "# conda install -c conda-forge control\n",
    "# conda install -c plotly plotly"
   ]
  },
  {
   "cell_type": "code",
   "execution_count": null,
   "metadata": {},
   "outputs": [],
   "source": [
    "#!pip install control"
   ]
  },
  {
   "cell_type": "code",
   "execution_count": null,
   "metadata": {},
   "outputs": [],
   "source": [
    "#!pip install slycot"
   ]
  },
  {
   "cell_type": "code",
   "execution_count": null,
   "metadata": {},
   "outputs": [],
   "source": [
    "#!pip install plotly"
   ]
  },
  {
   "cell_type": "code",
   "execution_count": null,
   "metadata": {},
   "outputs": [],
   "source": [
    "from IPython.display import SVG\n",
    "SVG('../../data/chapter 06/bicycle-control-design.svg')"
   ]
  },
  {
   "cell_type": "markdown",
   "metadata": {},
   "source": [
    "# Controller Design"
   ]
  },
  {
   "cell_type": "code",
   "execution_count": null,
   "metadata": {},
   "outputs": [],
   "source": [
    "SVG('../../data/chapter 06/bicycle-control-design2.svg')"
   ]
  },
  {
   "cell_type": "markdown",
   "metadata": {},
   "source": [
    "The structure of the controller is shown in the following block diagram:"
   ]
  },
  {
   "cell_type": "code",
   "execution_count": null,
   "metadata": {},
   "outputs": [],
   "source": [
    "import numpy as np\n",
    "import control as cn\n",
    "import plotly.plotly as pl\n",
    "import plotly.graph_objs as gr"
   ]
  },
  {
   "cell_type": "code",
   "execution_count": null,
   "metadata": {},
   "outputs": [],
   "source": [
    "g = 9.81  # m/s^2\n",
    "m = 87.0  # kg\n",
    "I = 3.28  # kg m^2\n",
    "h = 1.0  # m\n",
    "a = 0.5  # m\n",
    "b = 1.0  # m\n",
    "v = 5.0  # m/s"
   ]
  },
  {
   "cell_type": "code",
   "execution_count": null,
   "metadata": {},
   "outputs": [],
   "source": [
    "num = -m * h * v / b * np.array([a, v])\n",
    "den = np.array([(I + m * h**2), 0.0, -m * g * h])\n",
    "theta_delta = cn.TransferFunction(num, den)\n",
    "theta_delta"
   ]
  },
  {
   "cell_type": "code",
   "execution_count": null,
   "metadata": {},
   "outputs": [],
   "source": [
    "theta_delta.pole()"
   ]
  },
  {
   "cell_type": "code",
   "execution_count": null,
   "metadata": {},
   "outputs": [],
   "source": [
    "time = np.linspace(0.0, 5.0, num=1001)"
   ]
  },
  {
   "cell_type": "code",
   "execution_count": null,
   "metadata": {},
   "outputs": [],
   "source": [
    "delta = np.deg2rad(2.0) * np.ones_like(time)"
   ]
  },
  {
   "cell_type": "code",
   "execution_count": null,
   "metadata": {},
   "outputs": [],
   "source": [
    "time, theta, state = cn.forced_response(theta_delta, T=time, U=delta)"
   ]
  },
  {
   "cell_type": "code",
   "execution_count": null,
   "metadata": {},
   "outputs": [],
   "source": [
    "def plot_siso_response(time, input, output, title='Time Response',\n",
    "                       x_lab='Time [s]', x_lim=None,\n",
    "                       input_y_lab='Input', input_y_lim=None,\n",
    "                       output_y_lab='Output', output_y_lim=None,\n",
    "                       subplots=True):\n",
    "    \"\"\"Plots a time history of the input and output of a SISO system.\"\"\"\n",
    "    \n",
    "    xaxis = gr.XAxis(title=x_lab, range=x_lim)\n",
    "    \n",
    "    if subplots:\n",
    "        yaxis = gr.YAxis(title=input_y_lab, range=input_y_lim, domain=[0.0, 0.49])\n",
    "        yaxis2 = gr.YAxis(title=output_y_lab, range=output_y_lim, domain=[0.51, 1.0])\n",
    "        layout = gr.Layout(title=title, xaxis=xaxis, yaxis=yaxis, yaxis2=yaxis2, showlegend=False)\n",
    "        \n",
    "        output_trace = gr.Scatter(name=output_y_lab, x=time, y=output, yaxis='y2')\n",
    "    else:\n",
    "        yaxis = gr.YAxis(range=output_y_lim)\n",
    "        layout = gr.Layout(title=title, xaxis=xaxis, yaxis=yaxis)\n",
    "        \n",
    "        output_trace = gr.Scatter(name=output_y_lab, x=time, y=output)\n",
    "\n",
    "    input_trace = gr.Scatter(name=input_y_lab, x=time, y=input)\n",
    "\n",
    "    data = gr.Data([input_trace, output_trace])\n",
    "    \n",
    "    fig = gr.Figure(data=data, layout=layout)\n",
    "    \n",
    "    return fig"
   ]
  },
  {
   "cell_type": "code",
   "execution_count": null,
   "metadata": {},
   "outputs": [],
   "source": [
    "pl.iplot(plot_siso_response(time, np.rad2deg(delta),np.rad2deg(theta), title='Step Response',\n",
    "                            output_y_lab='Roll Angle [deg]', input_y_lab='Steer Angle [deg]'))"
   ]
  },
  {
   "cell_type": "code",
   "execution_count": null,
   "metadata": {},
   "outputs": [],
   "source": [
    "def plot_root_locus(gains, roots):\n",
    "    \"\"\"Plots the root locus of the closed loop system given the provided gains.\"\"\"\n",
    "    \n",
    "    real_vals = np.real(roots)\n",
    "    imag_vals = np.imag(roots)\n",
    "    \n",
    "    xaxis = gr.XAxis(title='Re')\n",
    "    yaxis = gr.YAxis(title='Im')\n",
    "    layout = gr.Layout(title='Root Locus', showlegend=False,\n",
    "                       xaxis=xaxis, yaxis=yaxis)\n",
    "    \n",
    "    # plots a blue \"x\" for the first roots\n",
    "    open_loop_poles = gr.Scatter(x=real_vals[0, :],\n",
    "                                 y=imag_vals[0, :],\n",
    "                                 marker=gr.Marker(symbol='x', color='blue'),\n",
    "                                 mode='markers')\n",
    "    \n",
    "    # plots a red \"o\" for the last roots\n",
    "    last_poles = gr.Scatter(x=real_vals[-1, :],\n",
    "                            y=imag_vals[-1, :],\n",
    "                            marker=gr.Marker(symbol='o', color='red'),\n",
    "                            mode='markers')\n",
    "    data = []\n",
    "    \n",
    "    gain_text = ['k = {:1.2f}'.format(k) for k in gains]\n",
    "    \n",
    "    for r, i in zip(real_vals.T, imag_vals.T):\n",
    "        data.append(gr.Scatter(x=r, y=i, text=gain_text,\n",
    "                               marker=gr.Marker(color='black'), mode=\"markers\"))\n",
    "                \n",
    "    data.append(open_loop_poles)\n",
    "    data.append(last_poles)\n",
    "    \n",
    "    return gr.Figure(data=gr.Data(data), layout=layout)"
   ]
  },
  {
   "cell_type": "code",
   "execution_count": null,
   "metadata": {},
   "outputs": [],
   "source": [
    "neg_feedback_roots, neg_feedback_gains = cn.root_locus(theta_delta, kvect=np.linspace(0.0, 10.0, num=500))"
   ]
  },
  {
   "cell_type": "code",
   "execution_count": null,
   "metadata": {},
   "outputs": [],
   "source": [
    "pl.iplot(plot_root_locus(neg_feedback_gains, neg_feedback_roots))"
   ]
  },
  {
   "cell_type": "code",
   "execution_count": null,
   "metadata": {},
   "outputs": [],
   "source": [
    "pos_feedback_roots, pos_feedback_gains = cn.root_locus(theta_delta, kvect=np.linspace(0.0, -20.0, num=500))\n",
    "pl.iplot(plot_root_locus(pos_feedback_gains, pos_feedback_roots))"
   ]
  },
  {
   "cell_type": "code",
   "execution_count": null,
   "metadata": {},
   "outputs": [],
   "source": [
    "def feedback(plant, controller):\n",
    "    \"\"\"Returns the closed loop system given the plant and controller of this form:\n",
    "    \n",
    "      +    -----   -----\n",
    "    -->o-->| c |-->| p |--->\n",
    "      -|   -----   ----- |\n",
    "       -------------------\n",
    "    \n",
    "    \"\"\"\n",
    "    feedforward = controller * plant\n",
    "    return (feedforward / (1 + feedforward)).minreal()"
   ]
  },
  {
   "cell_type": "code",
   "execution_count": null,
   "metadata": {},
   "outputs": [],
   "source": [
    "k_theta = -2.5"
   ]
  },
  {
   "cell_type": "code",
   "execution_count": null,
   "metadata": {},
   "outputs": [],
   "source": [
    "theta_thetac = feedback(theta_delta, k_theta)\n",
    "#theta_thetac"
   ]
  },
  {
   "cell_type": "code",
   "execution_count": null,
   "metadata": {},
   "outputs": [],
   "source": [
    "theta_thetac.pole()"
   ]
  },
  {
   "cell_type": "code",
   "execution_count": null,
   "metadata": {},
   "outputs": [],
   "source": [
    "thetac = np.deg2rad(3.0) * np.ones_like(time)\n",
    "time, theta, state = cn.forced_response(theta_thetac, T=time, U=thetac)"
   ]
  },
  {
   "cell_type": "code",
   "execution_count": null,
   "metadata": {},
   "outputs": [],
   "source": [
    "pl.iplot(plot_siso_response(time, np.rad2deg(thetac), np.rad2deg(theta),\n",
    "                            input_y_lab='Commanded Roll Angle [deg]',\n",
    "                            output_y_lab='Roll Angle [deg]', subplots=False))"
   ]
  },
  {
   "cell_type": "code",
   "execution_count": null,
   "metadata": {},
   "outputs": [],
   "source": [
    "thetae = thetac - theta\n",
    "delta = k_theta * thetae"
   ]
  },
  {
   "cell_type": "code",
   "execution_count": null,
   "metadata": {},
   "outputs": [],
   "source": [
    "pl.iplot(plot_siso_response(time, np.rad2deg(thetae), np.rad2deg(delta),\n",
    "                           input_y_lab='Roll Error [deg]',\n",
    "                           output_y_lab='Steer Angle [deg]'))"
   ]
  },
  {
   "cell_type": "code",
   "execution_count": null,
   "metadata": {},
   "outputs": [],
   "source": [
    "#theta_thetac"
   ]
  },
  {
   "cell_type": "code",
   "execution_count": null,
   "metadata": {},
   "outputs": [],
   "source": [
    "delta_theta = cn.TransferFunction(theta_delta.den, theta_delta.num)\n",
    "#delta_theta"
   ]
  },
  {
   "cell_type": "code",
   "execution_count": null,
   "metadata": {},
   "outputs": [],
   "source": [
    "psi_delta = cn.TransferFunction([v], [b, 0])\n",
    "#psi_delta"
   ]
  },
  {
   "cell_type": "code",
   "execution_count": null,
   "metadata": {},
   "outputs": [],
   "source": [
    "psi_thetac = (theta_thetac * delta_theta * psi_delta).minreal()\n",
    "#psi_thetac"
   ]
  },
  {
   "cell_type": "code",
   "execution_count": null,
   "metadata": {},
   "outputs": [],
   "source": [
    "psi_thetac.pole()"
   ]
  },
  {
   "cell_type": "code",
   "execution_count": null,
   "metadata": {},
   "outputs": [],
   "source": [
    "psi_thetac.zero()"
   ]
  },
  {
   "cell_type": "code",
   "execution_count": null,
   "metadata": {},
   "outputs": [],
   "source": [
    "time, psi, state = cn.forced_response(psi_thetac, T=time, U=thetac)"
   ]
  },
  {
   "cell_type": "code",
   "execution_count": null,
   "metadata": {},
   "outputs": [],
   "source": [
    "pl.iplot(plot_siso_response(time, np.rad2deg(thetac), np.rad2deg(psi),\n",
    "                            title=\"Step Response\", output_y_lab='Heading Angle [deg]',\n",
    "                            input_y_lab='Commanded Roll Angle [deg]'))"
   ]
  },
  {
   "cell_type": "code",
   "execution_count": null,
   "metadata": {},
   "outputs": [],
   "source": [
    "roots, gains = cn.root_locus(psi_thetac, kvect=np.linspace(0.0, 3.0, num=1001))"
   ]
  },
  {
   "cell_type": "code",
   "execution_count": null,
   "metadata": {},
   "outputs": [],
   "source": [
    "pl.iplot(plot_root_locus(gains, roots))"
   ]
  },
  {
   "cell_type": "code",
   "execution_count": null,
   "metadata": {},
   "outputs": [],
   "source": [
    "k_psi = 0.25\n",
    "psi_psic = feedback(psi_thetac, k_psi)\n",
    "psi_psic.minreal()"
   ]
  },
  {
   "cell_type": "code",
   "execution_count": null,
   "metadata": {},
   "outputs": [],
   "source": [
    "psi_psic.pole()"
   ]
  },
  {
   "cell_type": "code",
   "execution_count": null,
   "metadata": {},
   "outputs": [],
   "source": [
    "psic = np.deg2rad(10.0) * np.ones_like(time)\n",
    "time, psi, state = cn.forced_response(psi_psic, T=time, U=psic)"
   ]
  },
  {
   "cell_type": "code",
   "execution_count": null,
   "metadata": {},
   "outputs": [],
   "source": [
    "pl.iplot(plot_siso_response(time, np.rad2deg(psic), np.rad2deg(psi),\n",
    "                            input_y_lab=\"Commanded Heading [deg]\",\n",
    "                            output_y_lab=\"Heading [deg]\",\n",
    "                            subplots=False))"
   ]
  },
  {
   "cell_type": "code",
   "execution_count": null,
   "metadata": {},
   "outputs": [],
   "source": [
    "psie = psic - psi\n",
    "thetac = k_psi * psie\n",
    "time, theta, state = cn.forced_response(theta_thetac, T=time, U=thetac)\n",
    "thetae = thetac - theta\n",
    "delta = k_theta * thetae"
   ]
  },
  {
   "cell_type": "code",
   "execution_count": null,
   "metadata": {},
   "outputs": [],
   "source": [
    "xaxis = gr.XAxis(title='Time [s]')\n",
    "    \n",
    "yaxis = gr.YAxis(title='Steer [deg]', domain=[0.0, 0.32])\n",
    "yaxis2 = gr.YAxis(title='Roll [deg]', domain=[0.33, 0.65])\n",
    "yaxis3 = gr.YAxis(title='Heading [deg]', domain=[0.66, 1.0])\n",
    "\n",
    "layout = gr.Layout(title='Commanded Heading Response', showlegend=False,\n",
    "                   xaxis=xaxis, yaxis=yaxis, yaxis2=yaxis2, yaxis3=yaxis3)\n",
    "\n",
    "steer_trace = gr.Scatter(x=time, y=np.rad2deg(delta))\n",
    "roll_trace = gr.Scatter(x=time, y=np.rad2deg(theta), yaxis='y2')\n",
    "heading_trace = gr.Scatter(x=time, y=np.rad2deg(psi), yaxis='y3')\n",
    "commanded_heading_trace = gr.Scatter(x=time, y=np.rad2deg(psic), yaxis='y3')\n",
    "\n",
    "data = gr.Data([steer_trace, roll_trace, heading_trace, commanded_heading_trace])\n",
    "    \n",
    "fig = gr.Figure(data=data, layout=layout)\n",
    "\n",
    "pl.iplot(fig)"
   ]
  },
  {
   "cell_type": "markdown",
   "metadata": {},
   "source": [
    "## Done"
   ]
  },
  {
   "cell_type": "code",
   "execution_count": null,
   "metadata": {},
   "outputs": [],
   "source": [
    "import datetime\n",
    "now = datetime.datetime.now()\n",
    "print('Done!',str(now))"
   ]
  }
 ],
 "metadata": {
  "kernelspec": {
   "display_name": "Python 3",
   "language": "python",
   "name": "python3"
  },
  "language_info": {
   "codemirror_mode": {
    "name": "ipython",
    "version": 3
   },
   "file_extension": ".py",
   "mimetype": "text/x-python",
   "name": "python",
   "nbconvert_exporter": "python",
   "pygments_lexer": "ipython3",
   "version": "3.7.1"
  }
 },
 "nbformat": 4,
 "nbformat_minor": 2
}
