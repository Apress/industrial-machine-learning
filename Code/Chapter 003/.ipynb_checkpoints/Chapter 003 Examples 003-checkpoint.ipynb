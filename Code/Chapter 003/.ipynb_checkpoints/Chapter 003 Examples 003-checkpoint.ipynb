{
 "cells": [
  {
   "cell_type": "markdown",
   "metadata": {},
   "source": [
    "# Chapter 01 Examples 003"
   ]
  },
  {
   "cell_type": "code",
   "execution_count": 1,
   "metadata": {},
   "outputs": [],
   "source": [
    "from sklearn.model_selection import train_test_split\n",
    "from sklearn import svm\n",
    "import numpy as np\n",
    "import os\n",
    "import shutil"
   ]
  },
  {
   "cell_type": "code",
   "execution_count": 2,
   "metadata": {},
   "outputs": [
    {
     "name": "stdout",
     "output_type": "stream",
     "text": [
      "Have: ./data\n"
     ]
    }
   ],
   "source": [
    "dirname='./data'\n",
    "if not os.path.exists(dirname):\n",
    "    os.makedirs(dirname)\n",
    "    print('Make:', dirname)\n",
    "else:\n",
    "    print('Have:', dirname)"
   ]
  },
  {
   "cell_type": "code",
   "execution_count": 3,
   "metadata": {},
   "outputs": [
    {
     "data": {
      "text/plain": [
       "'./data/x-roses.csv'"
      ]
     },
     "execution_count": 3,
     "metadata": {},
     "output_type": "execute_result"
    }
   ],
   "source": [
    "shutil.copyfile(\"../../data/x-roses.csv\", \"./data/x-roses.csv\")"
   ]
  },
  {
   "cell_type": "code",
   "execution_count": 4,
   "metadata": {},
   "outputs": [
    {
     "data": {
      "text/plain": [
       "'./data/y-roses.csv'"
      ]
     },
     "execution_count": 4,
     "metadata": {},
     "output_type": "execute_result"
    }
   ],
   "source": [
    "shutil.copyfile(\"../../data/y-roses.csv\", \"./data/y-roses.csv\")"
   ]
  },
  {
   "cell_type": "code",
   "execution_count": 5,
   "metadata": {},
   "outputs": [
    {
     "name": "stdout",
     "output_type": "stream",
     "text": [
      "(150, 4) (150,)\n"
     ]
    }
   ],
   "source": [
    "# Import data about my roses\n",
    "X = np.loadtxt(\"./data/x-roses.csv\", delimiter=\",\")\n",
    "y = np.loadtxt(\"./data/y-roses.csv\", delimiter=\",\")\n",
    "print(X.shape, y.shape)"
   ]
  },
  {
   "cell_type": "code",
   "execution_count": 6,
   "metadata": {},
   "outputs": [],
   "source": [
    "X_train, X_test, y_train, y_test = train_test_split(\n",
    "    X, y, test_size=0.1, random_state=123)"
   ]
  },
  {
   "cell_type": "code",
   "execution_count": 7,
   "metadata": {},
   "outputs": [
    {
     "name": "stdout",
     "output_type": "stream",
     "text": [
      "Train: (135, 4) (135,)\n",
      "Test : (15, 4) (15,)\n"
     ]
    }
   ],
   "source": [
    "print('Train:', X_train.shape, y_train.shape)\n",
    "print('Test :', X_test.shape, y_test.shape)"
   ]
  },
  {
   "cell_type": "code",
   "execution_count": 8,
   "metadata": {},
   "outputs": [
    {
     "name": "stdout",
     "output_type": "stream",
     "text": [
      "1.0\n"
     ]
    }
   ],
   "source": [
    "clf = svm.SVC(kernel='linear', C=1).fit(X_train, y_train)\n",
    "scoreResult=clf.score(X_test, y_test)  \n",
    "print(scoreResult)  "
   ]
  },
  {
   "cell_type": "code",
   "execution_count": 9,
   "metadata": {},
   "outputs": [],
   "source": [
    "from sklearn.model_selection import cross_val_score"
   ]
  },
  {
   "cell_type": "code",
   "execution_count": 10,
   "metadata": {},
   "outputs": [],
   "source": [
    "clf = svm.SVC(kernel='linear', C=4, random_state=10)"
   ]
  },
  {
   "cell_type": "code",
   "execution_count": 11,
   "metadata": {},
   "outputs": [
    {
     "name": "stdout",
     "output_type": "stream",
     "text": [
      "accuracy\n",
      "-------------------------------\n",
      "1.0000\n",
      "0.9412\n",
      "0.9583\n",
      "-------------------------------\n",
      "Score: 0.9665 (+/- 0.0494)\n",
      "-------------------------------- \n",
      "\n",
      "precision_macro\n",
      "-------------------------------\n",
      "1.0000\n",
      "0.9421\n",
      "0.9630\n",
      "-------------------------------\n",
      "Score: 0.9684 (+/- 0.0479)\n",
      "-------------------------------- \n",
      "\n",
      "precision_micro\n",
      "-------------------------------\n",
      "1.0000\n",
      "0.9412\n",
      "0.9583\n",
      "-------------------------------\n",
      "Score: 0.9665 (+/- 0.0494)\n",
      "-------------------------------- \n",
      "\n",
      "precision_weighted\n",
      "-------------------------------\n",
      "1.0000\n",
      "0.9421\n",
      "0.9630\n",
      "-------------------------------\n",
      "Score: 0.9684 (+/- 0.0479)\n",
      "-------------------------------- \n",
      "\n",
      "r2\n",
      "-------------------------------\n",
      "1.0000\n",
      "0.9118\n",
      "0.9375\n",
      "-------------------------------\n",
      "Score: 0.9498 (+/- 0.0741)\n",
      "-------------------------------- \n",
      "\n",
      "recall_macro\n",
      "-------------------------------\n",
      "1.0000\n",
      "0.9412\n",
      "0.9583\n",
      "-------------------------------\n",
      "Score: 0.9665 (+/- 0.0494)\n",
      "-------------------------------- \n",
      "\n",
      "recall_micro\n",
      "-------------------------------\n",
      "1.0000\n",
      "0.9412\n",
      "0.9583\n",
      "-------------------------------\n",
      "Score: 0.9665 (+/- 0.0494)\n",
      "-------------------------------- \n",
      "\n",
      "recall_weighted\n",
      "-------------------------------\n",
      "1.0000\n",
      "0.9412\n",
      "0.9583\n",
      "-------------------------------\n",
      "Score: 0.9665 (+/- 0.0494)\n",
      "-------------------------------- \n",
      "\n"
     ]
    }
   ],
   "source": [
    "scoreTypes = [\n",
    "        'accuracy',\n",
    "        'precision_macro', \n",
    "        'precision_micro', \n",
    "        'precision_weighted', \n",
    "        'r2', \n",
    "        'recall_macro', \n",
    "        'recall_micro', \n",
    "        'recall_weighted']\n",
    "\n",
    "\n",
    "for scoreType in scoreTypes:\n",
    "    print(scoreType)\n",
    "    print('-------------------------------')\n",
    "    scores = cross_val_score(clf, X, y, cv=3, scoring=scoreType)\n",
    "    for i in range(scores.shape[0]):\n",
    "        print('%0.4f' % scores[i])\n",
    "    print('-------------------------------')\n",
    "    print(\"Score: %0.4f (+/- %0.4f)\" % (scores.mean(), scores.std() * 2))\n",
    "    print('--------------------------------','\\n')"
   ]
  },
  {
   "cell_type": "code",
   "execution_count": 12,
   "metadata": {},
   "outputs": [
    {
     "name": "stdout",
     "output_type": "stream",
     "text": [
      "Done!\n"
     ]
    }
   ],
   "source": [
    "print('Done!')"
   ]
  },
  {
   "cell_type": "code",
   "execution_count": null,
   "metadata": {},
   "outputs": [],
   "source": []
  }
 ],
 "metadata": {
  "kernelspec": {
   "display_name": "Python 3",
   "language": "python",
   "name": "python3"
  },
  "language_info": {
   "codemirror_mode": {
    "name": "ipython",
    "version": 3
   },
   "file_extension": ".py",
   "mimetype": "text/x-python",
   "name": "python",
   "nbconvert_exporter": "python",
   "pygments_lexer": "ipython3",
   "version": "3.7.3"
  }
 },
 "nbformat": 4,
 "nbformat_minor": 2
}
