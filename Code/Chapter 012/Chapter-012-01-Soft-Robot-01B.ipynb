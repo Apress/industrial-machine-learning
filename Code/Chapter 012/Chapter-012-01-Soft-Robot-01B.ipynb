{
 "cells": [
  {
   "cell_type": "markdown",
   "metadata": {},
   "source": [
    "## Apress - Industrialized Machine Learning Examples\n",
    "\n",
    "Andreas Francois Vermeulen\n",
    "2019\n",
    "\n",
    "### This is an example add-on to a book and needs to be accepted as part of that copyright."
   ]
  },
  {
   "cell_type": "markdown",
   "metadata": {},
   "source": [
    "# Chapter-012-01-Soft-Robot-01B"
   ]
  },
  {
   "cell_type": "markdown",
   "metadata": {},
   "source": [
    "## Part A - Load Libraries"
   ]
  },
  {
   "cell_type": "code",
   "execution_count": 1,
   "metadata": {},
   "outputs": [],
   "source": [
    "import os\n",
    "import shutil\n",
    "import numpy as np"
   ]
  },
  {
   "cell_type": "code",
   "execution_count": 2,
   "metadata": {},
   "outputs": [
    {
     "name": "stdout",
     "output_type": "stream",
     "text": [
      "C:\\Users\\AndreVermeulen\\Documents\\My Book\\apress\\Industrialized Machine Learning\\book\\IML\\Results\\Chapter 12\\Chapter-012-01-Soft-Robot-01\\raw\\PostOffice\\\n"
     ]
    }
   ],
   "source": [
    "resultsInPath = '../../Results/Chapter 12/Chapter-012-01-Soft-Robot-01/raw/PostOffice/'\n",
    "rInName=os.path.abspath(resultsInPath)\n",
    "print(rInName)"
   ]
  },
  {
   "cell_type": "markdown",
   "metadata": {},
   "source": [
    "## Part B - Build Robot"
   ]
  },
  {
   "cell_type": "code",
   "execution_count": 3,
   "metadata": {},
   "outputs": [
    {
     "name": "stdout",
     "output_type": "stream",
     "text": [
      "C:\\Users\\AndreVermeulen\\Documents\\My Book\\apress\\Industrialized Machine Learning\\book\\IML\\Results\\Chapter 07\\07-01-Soft-Robot-01\\robot\\\n"
     ]
    }
   ],
   "source": [
    "resultsRobotPath = '../../Results/Chapter 07/07-01-Soft-Robot-01/robot/'\n",
    "rRobotName=os.path.abspath(resultsRobotPath)\n",
    "print(rRobotName)"
   ]
  },
  {
   "cell_type": "code",
   "execution_count": 4,
   "metadata": {},
   "outputs": [
    {
     "name": "stdout",
     "output_type": "stream",
     "text": [
      "No previous robots\n"
     ]
    }
   ],
   "source": [
    "if os.path.exists(resultsRobotPath):\n",
    "    print('Remove previous robots')\n",
    "    shutil.rmtree(resultsRobotPath)\n",
    "else:\n",
    "    print('No previous robots')"
   ]
  },
  {
   "cell_type": "code",
   "execution_count": 5,
   "metadata": {},
   "outputs": [
    {
     "name": "stdout",
     "output_type": "stream",
     "text": [
      "C:\\Users\\AndreVermeulen\\Documents\\My Book\\apress\\Industrialized Machine Learning\\book\\IML\\Results\\Chapter 07\\07-01-Soft-Robot-01\\sort\\PostOffice\\\n"
     ]
    }
   ],
   "source": [
    "resultsOutPath = '../../Results/Chapter 07/07-01-Soft-Robot-01/sort/PostOffice/'\n",
    "rOutName=os.path.abspath(resultsOutPath)\n",
    "print(rOutName)"
   ]
  },
  {
   "cell_type": "code",
   "execution_count": 6,
   "metadata": {},
   "outputs": [
    {
     "name": "stdout",
     "output_type": "stream",
     "text": [
      "No previous sort post\n"
     ]
    }
   ],
   "source": [
    "if os.path.exists(resultsOutPath):\n",
    "    print('Remove previous sort post')\n",
    "    shutil.rmtree(resultsOutPath)\n",
    "else:\n",
    "    print('No previous sort post')"
   ]
  },
  {
   "cell_type": "code",
   "execution_count": 7,
   "metadata": {},
   "outputs": [
    {
     "name": "stdout",
     "output_type": "stream",
     "text": [
      "Found post office: A-0\n",
      "Found post office: A-1\n",
      "Found post office: A-2\n",
      "Found post office: B-0\n",
      "Found post office: B-1\n",
      "Found post office: B-2\n"
     ]
    }
   ],
   "source": [
    "postlist=[]\n",
    "for root, dirs, files in os.walk(resultsInPath, topdown=False):\n",
    "    for name in dirs:\n",
    "        pname=os.path.join(root, name)\n",
    "        rstr0=np.array(list(pname.split('/')))\n",
    "        rstr1=rstr0[rstr0.shape[0]-1]\n",
    "        rstr=np.array(list(rstr1.split('\\\\')))\n",
    "        #print(rstr)\n",
    "        if rstr.shape[0] == 2:\n",
    "            print('Found post office:','-'.join(rstr))\n",
    "            postlist.append(rstr)"
   ]
  },
  {
   "cell_type": "code",
   "execution_count": 8,
   "metadata": {},
   "outputs": [
    {
     "name": "stdout",
     "output_type": "stream",
     "text": [
      "(6, 2)\n"
     ]
    }
   ],
   "source": [
    "post=np.array(postlist)\n",
    "print(post.shape)"
   ]
  },
  {
   "cell_type": "code",
   "execution_count": 9,
   "metadata": {},
   "outputs": [
    {
     "name": "stdout",
     "output_type": "stream",
     "text": [
      "Create Robots:  ../../Results/Chapter 07/07-01-Soft-Robot-01/robot/\n"
     ]
    }
   ],
   "source": [
    "if not os.path.isdir(resultsRobotPath):\n",
    "    print('Create Robots: ', resultsRobotPath)\n",
    "    os.makedirs(resultsRobotPath)"
   ]
  },
  {
   "cell_type": "code",
   "execution_count": 10,
   "metadata": {},
   "outputs": [
    {
     "name": "stdout",
     "output_type": "stream",
     "text": [
      "Robot-A-0.py\n",
      "Robot-A-1.py\n",
      "Robot-A-2.py\n",
      "Robot-B-0.py\n",
      "Robot-B-1.py\n",
      "Robot-B-2.py\n",
      "Create   6 robots\n"
     ]
    }
   ],
   "source": [
    "p=0\n",
    "for i in range(post.shape[0]):\n",
    "    p+=1\n",
    "    pathName='/'.join(post[i])\n",
    "    postName='-'.join(post[i])\n",
    "    robotName='Robot-' + postName + '.py'\n",
    "    print(robotName)\n",
    "    postRobotName=os.path.join(resultsRobotPath,robotName)\n",
    "    \n",
    "    postname='/'.join(post[i])\n",
    "    postInPath=rInName.replace('\\\\','/') + '/' + pathName + '/'\n",
    "    postOutPath=rOutName.replace('\\\\','/')  + '/'\n",
    "                                 \n",
    "    wline=\"# Robot \" + 'Robot-' + postName + \"\\n\"\n",
    "    wline=wline+\"import os\\n\"\n",
    "    wline=wline+\"import shutil\\n\"\n",
    "    wline=wline+\"p=0\\n\"\n",
    "    wline=wline+\"m=0\\n\"\n",
    "    wline=wline+\"postInPath='\" + postInPath + \"'\\n\"\n",
    "    wline=wline+\"resultsOutPath='\" + postOutPath  + \"'\\n\"\n",
    "    wline=wline+\"for root, dirs, files in os.walk(postInPath, topdown=False):\\n\"\n",
    "    wline=wline+\"    #print('Found post office:','\"+postName+\"')\\n\"\n",
    "    wline=wline+\"    for name in files:\\n\"\n",
    "    wline=wline+\"        letterFromName=os.path.join(root, name)\\n\"\n",
    "    wline=wline+\"        #print('Sorting:', name)\\n\"\n",
    "    wline=wline+\"        letterlist1=name.split('-')\\n\"\n",
    "    wline=wline+\"        letterlist2=letterlist1[3:5]\\n\"\n",
    "    wline=wline+\"        topostname='/'.join(letterlist2)\\n\"\n",
    "    wline=wline+\"        postOutPath=os.path.join(resultsOutPath,topostname)\\n\"\n",
    "    wline=wline+\"        #print(postOutPath)\\n\"\n",
    "    wline=wline+\"        if not os.path.isdir(postOutPath):\\n\"\n",
    "    wline=wline+\"            p+=1\\n\"\n",
    "    wline=wline+\"            print(p, 'Create Post Office: ', postOutPath)\\n\"\n",
    "    wline=wline+\"            os.makedirs(postOutPath)\\n\"\n",
    "    wline=wline+\"        letterToName=os.path.join(postOutPath, name)\\n\"\n",
    "    wline=wline+\"        #print(letterToName)\\n\"\n",
    "    wline=wline+\"        m+=1\\n\"\n",
    "    wline=wline+\"        shutil.move(letterFromName,letterToName)\\n\"\n",
    "    wline=wline+\"print('Sorted %3d Letters' % (m))\\n\"\n",
    "    \n",
    "    file = open(postRobotName,'w')\n",
    "    file.write(wline)\n",
    "    file.close()\n",
    "    \n",
    "print('Create %3d robots' % (p))"
   ]
  },
  {
   "cell_type": "markdown",
   "metadata": {},
   "source": [
    "## Part C - Execute the Robots"
   ]
  },
  {
   "cell_type": "code",
   "execution_count": 11,
   "metadata": {},
   "outputs": [
    {
     "name": "stdout",
     "output_type": "stream",
     "text": [
      "C:/Users/AndreVermeulen/.conda/envs/py37/python.exe\n"
     ]
    }
   ],
   "source": [
    "from subprocess import call\n",
    "import sys\n",
    "pythonExe1 = sys.executable\n",
    "pythonExe=pythonExe1.replace('\\\\','/')\n",
    "print(pythonExe)"
   ]
  },
  {
   "cell_type": "code",
   "execution_count": 12,
   "metadata": {},
   "outputs": [
    {
     "name": "stdout",
     "output_type": "stream",
     "text": [
      "../../Results/Chapter 07/07-01-Soft-Robot-01/robot/Robot-A-0.py (Success)\n",
      "../../Results/Chapter 07/07-01-Soft-Robot-01/robot/Robot-A-1.py (Success)\n",
      "../../Results/Chapter 07/07-01-Soft-Robot-01/robot/Robot-A-2.py (Success)\n",
      "../../Results/Chapter 07/07-01-Soft-Robot-01/robot/Robot-B-0.py (Success)\n",
      "../../Results/Chapter 07/07-01-Soft-Robot-01/robot/Robot-B-1.py (Success)\n",
      "../../Results/Chapter 07/07-01-Soft-Robot-01/robot/Robot-B-2.py (Success)\n"
     ]
    }
   ],
   "source": [
    "for root, dirs, files in os.walk(resultsRobotPath, topdown=False):\n",
    "    for name in files:\n",
    "        robotName=os.path.join(root, name)\n",
    "        if os.path.exists(robotName):\n",
    "            process = call([pythonExe, robotName], shell=True)\n",
    "        else:\n",
    "            process = -1\n",
    "            \n",
    "        if process == 0:\n",
    "            sResult='(Success)'\n",
    "        else:\n",
    "            sResult='(Failure)'\n",
    "        print(robotName,sResult)"
   ]
  },
  {
   "cell_type": "markdown",
   "metadata": {},
   "source": [
    "## Done"
   ]
  },
  {
   "cell_type": "code",
   "execution_count": 13,
   "metadata": {},
   "outputs": [
    {
     "name": "stdout",
     "output_type": "stream",
     "text": [
      "Done! 2019-05-01 08:39:21.002082\n"
     ]
    }
   ],
   "source": [
    "import datetime\n",
    "now = datetime.datetime.now()\n",
    "print('Done!',str(now))"
   ]
  },
  {
   "cell_type": "code",
   "execution_count": null,
   "metadata": {},
   "outputs": [],
   "source": []
  }
 ],
 "metadata": {
  "kernelspec": {
   "display_name": "Python 3",
   "language": "python",
   "name": "python3"
  },
  "language_info": {
   "codemirror_mode": {
    "name": "ipython",
    "version": 3
   },
   "file_extension": ".py",
   "mimetype": "text/x-python",
   "name": "python",
   "nbconvert_exporter": "python",
   "pygments_lexer": "ipython3",
   "version": "3.7.1"
  }
 },
 "nbformat": 4,
 "nbformat_minor": 2
}
