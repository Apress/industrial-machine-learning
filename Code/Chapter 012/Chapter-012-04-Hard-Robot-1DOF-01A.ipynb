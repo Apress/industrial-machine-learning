{
 "cells": [
  {
   "cell_type": "markdown",
   "metadata": {},
   "source": [
    "## Apress - Industrialized Machine Learning Examples\n",
    "\n",
    "Andreas Francois Vermeulen\n",
    "2019\n",
    "\n",
    "### This is an example add-on to a book and needs to be accepted as part of that copyright."
   ]
  },
  {
   "cell_type": "markdown",
   "metadata": {},
   "source": [
    "# 07-04-Hard-Robot-1DOF-01"
   ]
  },
  {
   "cell_type": "code",
   "execution_count": 1,
   "metadata": {},
   "outputs": [],
   "source": [
    "resultimage='../../Results/Chapter 12/Chapter-012-04-Hard-Robot-1DOF-01A-01.bmp'\n",
    "angleRobot = 170"
   ]
  },
  {
   "cell_type": "markdown",
   "metadata": {},
   "source": [
    "## Part A - Load Libraries"
   ]
  },
  {
   "cell_type": "code",
   "execution_count": 2,
   "metadata": {},
   "outputs": [],
   "source": [
    "%matplotlib inline\n",
    "import numpy as np\n",
    "from PIL import Image, ImageDraw"
   ]
  },
  {
   "cell_type": "markdown",
   "metadata": {},
   "source": [
    "## Part B - Calculate Robot"
   ]
  },
  {
   "cell_type": "code",
   "execution_count": 3,
   "metadata": {},
   "outputs": [],
   "source": [
    "armAngleRangeMin= -1 * angleRobot\n",
    "armAngleRangeMax=  angleRobot\n",
    "l=500\n",
    "lcen=(l+50)\n",
    "lmax=lcen*2\n",
    "im = Image.new('RGBA', (lmax, lmax), (255, 255, 255, 255)) \n",
    "draw = ImageDraw.Draw(im)\n",
    "draw.line((lcen,-lmax, lcen,lmax), fill=(255,0,0,0), width=3)\n",
    "draw.line((-lmax,lcen, lmax,lcen), fill=(0,255,0,0), width=3)\n",
    "r=10\n",
    "dx=lcen\n",
    "dy=lmax-r\n",
    "draw.ellipse((dx-r, dy-r, dx+r, dy+r), fill=(0,0,0,0))\n",
    "\n",
    "dx=lcen\n",
    "dy=lcen\n",
    "r=50\n",
    "draw.ellipse((dx-r, dy-r, dx+r, dy+r), fill=(0,0,0,0))\n",
    "\n",
    "for Qd in range(armAngleRangeMin,armAngleRangeMax+1, 2):\n",
    "    Qr = np.radians(Qd)\n",
    "    x=l*np.sin(Qr)\n",
    "    y=l*np.cos(Qr)\n",
    "    #print('Angle Disk: %+9.3f l= %+5.3f x= %+5.3f y= %+5.3f' % (Qd,l,x,y))\n",
    "    dx=lcen+x\n",
    "    dy=lcen+y\n",
    "    r=5\n",
    "    draw.line((lcen,lcen, dx,dy), fill=(0,0,0,0), width=1)\n",
    "    draw.ellipse((dx-r, dy-r, dx+r, dy+r), fill=(255,0,0,0))\n",
    "im.show()"
   ]
  },
  {
   "cell_type": "code",
   "execution_count": 4,
   "metadata": {},
   "outputs": [],
   "source": [
    "im.save(resultimage)"
   ]
  },
  {
   "cell_type": "markdown",
   "metadata": {},
   "source": [
    "## Done"
   ]
  },
  {
   "cell_type": "code",
   "execution_count": 5,
   "metadata": {},
   "outputs": [
    {
     "name": "stdout",
     "output_type": "stream",
     "text": [
      "Done! 2019-04-30 16:24:29.050506\n"
     ]
    }
   ],
   "source": [
    "import datetime\n",
    "now = datetime.datetime.now()\n",
    "print('Done!',str(now))"
   ]
  }
 ],
 "metadata": {
  "kernelspec": {
   "display_name": "Python 3",
   "language": "python",
   "name": "python3"
  },
  "language_info": {
   "codemirror_mode": {
    "name": "ipython",
    "version": 3
   },
   "file_extension": ".py",
   "mimetype": "text/x-python",
   "name": "python",
   "nbconvert_exporter": "python",
   "pygments_lexer": "ipython3",
   "version": "3.7.3"
  }
 },
 "nbformat": 4,
 "nbformat_minor": 2
}
