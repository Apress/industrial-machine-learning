{
 "cells": [
  {
   "cell_type": "markdown",
   "metadata": {},
   "source": [
    "## Apress - Industrialized Machine Learning Examples\n",
    "\n",
    "Andreas Francois Vermeulen\n",
    "2019\n",
    "\n",
    "### This is an example add-on to a book and needs to be accepted as part of that copyright."
   ]
  },
  {
   "cell_type": "markdown",
   "metadata": {},
   "source": [
    "# Chapter-015-10-Utility-Mines-Profiler-01"
   ]
  },
  {
   "cell_type": "code",
   "execution_count": 5,
   "metadata": {},
   "outputs": [],
   "source": [
    "#!pip install pandas-profiling"
   ]
  },
  {
   "cell_type": "code",
   "execution_count": 6,
   "metadata": {},
   "outputs": [],
   "source": [
    "#conda install pandas-profiling"
   ]
  },
  {
   "cell_type": "code",
   "execution_count": 7,
   "metadata": {},
   "outputs": [],
   "source": [
    "import os\n",
    "import numpy as np\n",
    "import pandas as pd\n",
    "import pandas_profiling as pdp\n",
    "import webbrowser"
   ]
  },
  {
   "cell_type": "code",
   "execution_count": 8,
   "metadata": {},
   "outputs": [],
   "source": [
    "dirname = './999-DL/200-Structured-Zone/'\n",
    "\n",
    "filenames=[\n",
    "    '15-05-Assess-Fintech-01.csv',\n",
    "    '15-05-Assess-Fintech-02.csv',\n",
    "    '15-05-Assess-Fintech-03.csv',\n",
    "    '15-05-Assess-Fintech-04.csv',\n",
    "]"
   ]
  },
  {
   "cell_type": "code",
   "execution_count": 9,
   "metadata": {},
   "outputs": [
    {
     "name": "stdout",
     "output_type": "stream",
     "text": [
      "15-05-Assess-Fintech-01.csv\n",
      "C:\\Users\\AndreVermeulen\\Documents\\My Book\\apress\\Industrialized Machine Learning\\book\\IML\\Code\\Chapter 015\\999-DL\\200-Structured-Zone\n",
      "(1318249, 4)\n",
      "       EuroBuyAtUSD  EuroSellAtUSD  VolumeTrade\n",
      "count  1.318249e+06   1.318249e+06    1318249.0\n",
      "mean   1.166181e+00   1.166226e+00          0.0\n",
      "std    6.841884e-03   6.841975e-03          0.0\n",
      "min    1.152600e+00   1.152660e+00          0.0\n",
      "25%    1.160550e+00   1.160600e+00          0.0\n",
      "50%    1.164770e+00   1.164810e+00          0.0\n",
      "75%    1.171150e+00   1.171180e+00          0.0\n",
      "max    1.181480e+00   1.181530e+00          0.0\n",
      "<class 'pandas.core.frame.DataFrame'>\n",
      "RangeIndex: 1318249 entries, 0 to 1318248\n",
      "Data columns (total 4 columns):\n",
      "DateTime         1318249 non-null object\n",
      "EuroBuyAtUSD     1318249 non-null float64\n",
      "EuroSellAtUSD    1318249 non-null float64\n",
      "VolumeTrade      1318249 non-null int64\n",
      "dtypes: float64(2), int64(1), object(1)\n",
      "memory usage: 40.2+ MB\n",
      "None\n",
      "['EuroSellAtUSD']\n",
      "./999-DL/200-Structured-Zone/15-05-Utility-Data-Profiler-02-01.html\n",
      "C:\\Users\\AndreVermeulen\\Documents\\My Book\\apress\\Industrialized Machine Learning\\book\\IML\\Code\\Chapter 015\\999-DL\\200-Structured-Zone\\15-05-Utility-Data-Profiler-02-01.html\n",
      "15-05-Assess-Fintech-02.csv\n",
      "C:\\Users\\AndreVermeulen\\Documents\\My Book\\apress\\Industrialized Machine Learning\\book\\IML\\Code\\Chapter 015\\999-DL\\200-Structured-Zone\n",
      "(1895131, 4)\n",
      "       EuroBuyAtUSD  EuroSellAtUSD  VolumeTrade\n",
      "count  1.895131e+06   1.895131e+06    1895131.0\n",
      "mean   1.148933e+00   1.148974e+00          0.0\n",
      "std    7.665023e-03   7.661594e-03          0.0\n",
      "min    1.130180e+00   1.130250e+00          0.0\n",
      "25%    1.144430e+00   1.144460e+00          0.0\n",
      "50%    1.150100e+00   1.150150e+00          0.0\n",
      "75%    1.155280e+00   1.155320e+00          0.0\n",
      "max    1.162430e+00   1.162470e+00          0.0\n",
      "<class 'pandas.core.frame.DataFrame'>\n",
      "RangeIndex: 1895131 entries, 0 to 1895130\n",
      "Data columns (total 4 columns):\n",
      "DateTime         object\n",
      "EuroBuyAtUSD     float64\n",
      "EuroSellAtUSD    float64\n",
      "VolumeTrade      int64\n",
      "dtypes: float64(2), int64(1), object(1)\n",
      "memory usage: 57.8+ MB\n",
      "None\n",
      "['EuroSellAtUSD']\n",
      "./999-DL/200-Structured-Zone/15-05-Utility-Data-Profiler-02-02.html\n",
      "C:\\Users\\AndreVermeulen\\Documents\\My Book\\apress\\Industrialized Machine Learning\\book\\IML\\Code\\Chapter 015\\999-DL\\200-Structured-Zone\\15-05-Utility-Data-Profiler-02-02.html\n",
      "15-05-Assess-Fintech-03.csv\n",
      "C:\\Users\\AndreVermeulen\\Documents\\My Book\\apress\\Industrialized Machine Learning\\book\\IML\\Code\\Chapter 015\\999-DL\\200-Structured-Zone\n",
      "(1570567, 4)\n",
      "       EuroBuyAtUSD  EuroSellAtUSD  VolumeTrade\n",
      "count  1.570567e+06   1.570567e+06    1570567.0\n",
      "mean   1.136441e+00   1.136492e+00          0.0\n",
      "std    5.956226e-03   5.956343e-03          0.0\n",
      "min    1.121540e+00   1.121590e+00          0.0\n",
      "25%    1.132160e+00   1.132210e+00          0.0\n",
      "50%    1.137270e+00   1.137310e+00          0.0\n",
      "75%    1.140950e+00   1.141000e+00          0.0\n",
      "max    1.149960e+00   1.150000e+00          0.0\n",
      "<class 'pandas.core.frame.DataFrame'>\n",
      "RangeIndex: 1570567 entries, 0 to 1570566\n",
      "Data columns (total 4 columns):\n",
      "DateTime         1570567 non-null object\n",
      "EuroBuyAtUSD     1570567 non-null float64\n",
      "EuroSellAtUSD    1570567 non-null float64\n",
      "VolumeTrade      1570567 non-null int64\n",
      "dtypes: float64(2), int64(1), object(1)\n",
      "memory usage: 47.9+ MB\n",
      "None\n",
      "['EuroSellAtUSD']\n",
      "./999-DL/200-Structured-Zone/15-05-Utility-Data-Profiler-02-03.html\n",
      "C:\\Users\\AndreVermeulen\\Documents\\My Book\\apress\\Industrialized Machine Learning\\book\\IML\\Code\\Chapter 015\\999-DL\\200-Structured-Zone\\15-05-Utility-Data-Profiler-02-03.html\n",
      "15-05-Assess-Fintech-04.csv\n",
      "C:\\Users\\AndreVermeulen\\Documents\\My Book\\apress\\Industrialized Machine Learning\\book\\IML\\Code\\Chapter 015\\999-DL\\200-Structured-Zone\n",
      "(2227691, 4)\n",
      "       EuroBuyAtUSD  EuroSellAtUSD  VolumeTrade\n",
      "count  2.227691e+06   2.227691e+06    2227691.0\n",
      "mean   1.139517e+00   1.139567e+00          0.0\n",
      "std    4.268797e-03   4.266355e-03          0.0\n",
      "min    1.126960e+00   1.127020e+00          0.0\n",
      "25%    1.136510e+00   1.136550e+00          0.0\n",
      "50%    1.139460e+00   1.139500e+00          0.0\n",
      "75%    1.142970e+00   1.143010e+00          0.0\n",
      "max    1.148590e+00   1.148610e+00          0.0\n",
      "<class 'pandas.core.frame.DataFrame'>\n",
      "RangeIndex: 2227691 entries, 0 to 2227690\n",
      "Data columns (total 4 columns):\n",
      "DateTime         object\n",
      "EuroBuyAtUSD     float64\n",
      "EuroSellAtUSD    float64\n",
      "VolumeTrade      int64\n",
      "dtypes: float64(2), int64(1), object(1)\n",
      "memory usage: 68.0+ MB\n",
      "None\n",
      "['EuroSellAtUSD']\n",
      "./999-DL/200-Structured-Zone/15-05-Utility-Data-Profiler-02-04.html\n",
      "C:\\Users\\AndreVermeulen\\Documents\\My Book\\apress\\Industrialized Machine Learning\\book\\IML\\Code\\Chapter 015\\999-DL\\200-Structured-Zone\\15-05-Utility-Data-Profiler-02-04.html\n"
     ]
    }
   ],
   "source": [
    "t=0\n",
    "for filename in filenames:\n",
    "    print('#'*80)\n",
    "    print(filename)\n",
    "    print('-'*50)\n",
    "    pathRealDataName=os.path.realpath(dirname)\n",
    "    print(pathRealDataName)\n",
    "    print('-'*50)\n",
    "    fileFullDataName= os.path.join(pathRealDataName, filename)\n",
    "    df= pd.read_csv(fileFullDataName, encoding='utf-8', compression=None, header=0)\n",
    "    df.columns=['DateTime','EuroBuyAtUSD','EuroSellAtUSD','VolumeTrade']\n",
    "    print('-'*50)\n",
    "    print(df.shape)\n",
    "    print('-'*50)\n",
    "    print(df.describe())\n",
    "    print('-'*50)\n",
    "    print(df.info())\n",
    "    print('-'*50)\n",
    "    profile = pdp.ProfileReport(df)\n",
    "    rejected_variables = profile.get_rejected_variables(threshold=0.9)\n",
    "    print(rejected_variables)\n",
    "    print('-'*50)\n",
    "    t+=1\n",
    "    wwwfile='./999-DL/200-Structured-Zone/15-05-Utility-Data-Profiler-02-%02d.html' % (t)\n",
    "    print(wwwfile)\n",
    "    print('-'*50)\n",
    "    profile.to_file(outputfile=wwwfile)\n",
    "    wwwRealfile=os.path.realpath(wwwfile)\n",
    "    print(wwwRealfile)\n",
    "    print('-'*50)\n",
    "    webbrowser.open_new_tab(wwwRealfile)\n",
    "    print('#'*80)"
   ]
  },
  {
   "cell_type": "markdown",
   "metadata": {},
   "source": [
    "## Done"
   ]
  },
  {
   "cell_type": "code",
   "execution_count": 10,
   "metadata": {},
   "outputs": [
    {
     "name": "stdout",
     "output_type": "stream",
     "text": [
      "('Done!', '2019-05-04 22:09:29.937000')\n"
     ]
    }
   ],
   "source": [
    "import datetime\n",
    "now = datetime.datetime.now()\n",
    "print('Done!',str(now))"
   ]
  },
  {
   "cell_type": "code",
   "execution_count": null,
   "metadata": {},
   "outputs": [],
   "source": []
  }
 ],
 "metadata": {
  "kernelspec": {
   "display_name": "Python 2",
   "language": "python",
   "name": "python2"
  },
  "language_info": {
   "codemirror_mode": {
    "name": "ipython",
    "version": 2
   },
   "file_extension": ".py",
   "mimetype": "text/x-python",
   "name": "python",
   "nbconvert_exporter": "python",
   "pygments_lexer": "ipython2",
   "version": "2.7.16"
  }
 },
 "nbformat": 4,
 "nbformat_minor": 2
}
