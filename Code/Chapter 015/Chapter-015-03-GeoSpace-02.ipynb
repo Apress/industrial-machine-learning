{
 "cells": [
  {
   "cell_type": "markdown",
   "metadata": {},
   "source": [
    "## Apress - Industrialized Machine Learning Examples\n",
    "\n",
    "Andreas Francois Vermeulen\n",
    "2019\n",
    "\n",
    "### This is an example add-on to a book and needs to be accepted as part of that copyright."
   ]
  },
  {
   "cell_type": "markdown",
   "metadata": {},
   "source": [
    "# Chapter-015-03-GeoSpace-02"
   ]
  },
  {
   "cell_type": "markdown",
   "metadata": {},
   "source": [
    "![GIS Earth](../../images/solar-system2.jpg)"
   ]
  },
  {
   "cell_type": "code",
   "execution_count": 1,
   "metadata": {},
   "outputs": [],
   "source": [
    "from math import sin, cos, sqrt, atan2, radians, degrees, pi\n",
    "import numpy as np"
   ]
  },
  {
   "cell_type": "markdown",
   "metadata": {},
   "source": [
    "## Planet Information"
   ]
  },
  {
   "cell_type": "code",
   "execution_count": 2,
   "metadata": {},
   "outputs": [],
   "source": [
    "planets= np.array([\n",
    "    ['Mercury', 4879.4],\n",
    "    ['Venus', 12104],\n",
    "    ['Earth', 12742],\n",
    "    ['Moon', 3474.2],\n",
    "    ['Mars', 6779],\n",
    "    ['Jupiter', 139820],\n",
    "    ['Saturn', 116460],\n",
    "    ['Uranus', 50724],\n",
    "    ['Neptune', 49244],\n",
    "    ['Pluto', 2376.6],\n",
    "    ['Hale Bopp Comet', 96.5606],\n",
    "    ['Oumuamua Comet', 0.400]\n",
    "])"
   ]
  },
  {
   "cell_type": "code",
   "execution_count": 3,
   "metadata": {},
   "outputs": [],
   "source": [
    "planets2=np.array(sorted(planets, key=lambda planets: float(planets[1])))"
   ]
  },
  {
   "cell_type": "code",
   "execution_count": 4,
   "metadata": {},
   "outputs": [
    {
     "name": "stdout",
     "output_type": "stream",
     "text": [
      "Planets Smallest to Largest\n",
      "--------------------------------------------------\n",
      "Oumuamua Comet diameter is:      0.400 kilometers\n",
      "Hale Bopp Comet diameter is:     96.561 kilometers\n",
      "Pluto      diameter is:   2376.600 kilometers\n",
      "Moon       diameter is:   3474.200 kilometers\n",
      "Mercury    diameter is:   4879.400 kilometers\n",
      "Mars       diameter is:   6779.000 kilometers\n",
      "Venus      diameter is:  12104.000 kilometers\n",
      "Earth      diameter is:  12742.000 kilometers\n",
      "Neptune    diameter is:  49244.000 kilometers\n",
      "Uranus     diameter is:  50724.000 kilometers\n",
      "Saturn     diameter is: 116460.000 kilometers\n",
      "Jupiter    diameter is: 139820.000 kilometers\n"
     ]
    }
   ],
   "source": [
    "print('Planets Smallest to Largest')\n",
    "print('-'*50)\n",
    "for i in range(planets2.shape[0]):\n",
    "    print('%-10s diameter is: %10.3f kilometers' % (planets2[i][0], float(planets2[i][1])))"
   ]
  },
  {
   "cell_type": "markdown",
   "metadata": {},
   "source": [
    "## Mine Route"
   ]
  },
  {
   "cell_type": "code",
   "execution_count": 5,
   "metadata": {},
   "outputs": [],
   "source": [
    "def MineRoute(ID):\n",
    "    for i in range(planets.shape[0]):\n",
    "        p = planets[i][0]\n",
    "        R = (float(planets[i][1])/2) * 1000\n",
    "\n",
    "        lat1 = radians(mine_crusher[0])\n",
    "        lon1 = radians(mine_crusher[1])\n",
    "\n",
    "        lat2 = radians(mine_shaft[0])\n",
    "        lon2 = radians(mine_shaft[1])\n",
    "\n",
    "        dlon = lon2 - lon1\n",
    "        dlat = lat2 - lat1\n",
    "\n",
    "        a = sin(dlat / 2)**2 + cos(lat1) * cos(lat2) * sin(dlon / 2)**2\n",
    "        c = 2 * atan2(sqrt(a), sqrt(1 - a))\n",
    "\n",
    "        distance = round(R * c,6)\n",
    "        \n",
    "        ###########################\n",
    "        \n",
    "        diffLong = lon2 - lon1\n",
    "\n",
    "        x = sin(diffLong) * cos(lat2)\n",
    "        y = cos(lat1) * sin(lat2) - (sin(lat1) * cos(lat2) * cos(diffLong))\n",
    "\n",
    "        initial_bearing_radians = atan2(x, y)\n",
    "\n",
    "        initial_bearing = degrees(initial_bearing_radians)\n",
    "        compass_bearing = round((initial_bearing + 360) % 360,3)\n",
    "        \n",
    "        ###########################\n",
    "\n",
    "        print(\"Mine %03d on %-8s is %16.6f meters (%6.3f degrees) from mine to crusher\" % (ID, p, distance, compass_bearing))"
   ]
  },
  {
   "cell_type": "markdown",
   "metadata": {},
   "source": [
    "## Mine Area and Volume"
   ]
  },
  {
   "cell_type": "code",
   "execution_count": 6,
   "metadata": {},
   "outputs": [],
   "source": [
    "def MineAreaVolume(depth, ore, price):\n",
    "    for i in range(planets.shape[0]):\n",
    "        p = planets[i][0]\n",
    "        R = (float(planets[i][1])/2) \n",
    "        \n",
    "        Surface_Area=4*pi*np.power(R,2)\n",
    "        VolumeCore = (4.0 / 3) * pi * np.power(R-depth,3)\n",
    "        VolumeSurface = (4.0 / 3) * pi * np.power(R,3)\n",
    "        Volume=VolumeSurface-VolumeCore\n",
    "        \n",
    "        VolumeOre=Volume*ore\n",
    "        \n",
    "        ValueMine=(VolumeOre*price)/10e-15\n",
    "        if depth < 1:\n",
    "            print('Mining company mining %6.3f meters deep on %-8s:' % ((depth*1000), p))\n",
    "        else:\n",
    "            print('Mining company mining %6.3f kilometers deep on %-8s:' % (depth, p))\n",
    "        print('- has %18.4f square kilometers of surface area to explore' % (Surface_Area))\n",
    "        print('- has %18.4f cubic kilometers of volume in ore they can mine at %6.4f %% ore yield' % (Volume, (ore*100)))\n",
    "        print('- has £ %0.2f quadrillion in value of ore they can mine at %6.4f %% ore yield' % (ValueMine, (ore*100)))\n",
    "        print('-'*80)"
   ]
  },
  {
   "cell_type": "code",
   "execution_count": 7,
   "metadata": {},
   "outputs": [
    {
     "name": "stdout",
     "output_type": "stream",
     "text": [
      "Mining company mining 80.000 meters deep on Mercury :\n",
      "- has      74796748.0540 square kilometers of surface area to explore\n",
      "- has       5983543.6341 cubic kilometers of volume in ore they can mine at 0.0200 % ore yield\n",
      "- has £ 143605047219360355456357761024.00 quadrillion in value of ore they can mine at 0.0200 % ore yield\n",
      "--------------------------------------------------------------------------------\n",
      "Mining company mining 80.000 meters deep on Venus   :\n",
      "- has     460264736.8464 square kilometers of surface area to explore\n",
      "- has      36820692.2191 cubic kilometers of volume in ore they can mine at 0.0200 % ore yield\n",
      "- has £ 883696613258789057928108179456.00 quadrillion in value of ore they can mine at 0.0200 % ore yield\n",
      "--------------------------------------------------------------------------------\n",
      "Mining company mining 80.000 meters deep on Earth   :\n",
      "- has     510064471.9098 square kilometers of surface area to explore\n",
      "- has      40804645.3687 cubic kilometers of volume in ore they can mine at 0.0200 % ore yield\n",
      "- has £ 979311488847656229010868797440.00 quadrillion in value of ore they can mine at 0.0200 % ore yield\n",
      "--------------------------------------------------------------------------------\n",
      "Mining company mining 80.000 meters deep on Moon    :\n",
      "- has      37919229.5430 square kilometers of surface area to explore\n",
      "- has       3033398.6597 cubic kilometers of volume in ore they can mine at 0.0200 % ore yield\n",
      "- has £ 72801567832946778716227239936.00 quadrillion in value of ore they can mine at 0.0200 % ore yield\n",
      "--------------------------------------------------------------------------------\n",
      "Mining company mining 80.000 meters deep on Mars    :\n",
      "- has     144371390.8825 square kilometers of surface area to explore\n",
      "- has      11549438.6730 cubic kilometers of volume in ore they can mine at 0.0200 % ore yield\n",
      "- has £ 277186528151367198809195020288.00 quadrillion in value of ore they can mine at 0.0200 % ore yield\n",
      "--------------------------------------------------------------------------------\n",
      "Mining company mining 80.000 meters deep on Jupiter :\n",
      "- has   61416981528.2210 square kilometers of surface area to explore\n",
      "- has    4913352899.7500 cubic kilometers of volume in ore they can mine at 0.0200 % ore yield\n",
      "- has £ 117920469593999995431084586172416.00 quadrillion in value of ore they can mine at 0.0200 % ore yield\n",
      "--------------------------------------------------------------------------------\n",
      "Mining company mining 80.000 meters deep on Saturn  :\n",
      "- has   42609206275.7009 square kilometers of surface area to explore\n",
      "- has    3408731819.0000 cubic kilometers of volume in ore they can mine at 0.0200 % ore yield\n",
      "- has £ 81809563656000000420859734917120.00 quadrillion in value of ore they can mine at 0.0200 % ore yield\n",
      "--------------------------------------------------------------------------------\n",
      "Mining company mining 80.000 meters deep on Uranus  :\n",
      "- has    8083079689.5652 square kilometers of surface area to explore\n",
      "- has     646644335.4531 cubic kilometers of volume in ore they can mine at 0.0200 % ore yield\n",
      "- has £ 15519464050875000629356488818688.00 quadrillion in value of ore they can mine at 0.0200 % ore yield\n",
      "--------------------------------------------------------------------------------\n",
      "Mining company mining 80.000 meters deep on Neptune :\n",
      "- has    7618272762.6620 square kilometers of surface area to explore\n",
      "- has     609459840.8125 cubic kilometers of volume in ore they can mine at 0.0200 % ore yield\n",
      "- has £ 14627036179500000772252481093632.00 quadrillion in value of ore they can mine at 0.0200 % ore yield\n",
      "--------------------------------------------------------------------------------\n",
      "Mining company mining 80.000 meters deep on Pluto   :\n",
      "- has      17744430.2083 square kilometers of surface area to explore\n",
      "- has       1419458.8501 cubic kilometers of volume in ore they can mine at 0.0200 % ore yield\n",
      "- has £ 34067012401222230027806965760.00 quadrillion in value of ore they can mine at 0.0200 % ore yield\n",
      "--------------------------------------------------------------------------------\n",
      "Mining company mining 80.000 meters deep on Hale Bopp Comet:\n",
      "- has         29292.0512 square kilometers of surface area to explore\n",
      "- has          2339.4833 cubic kilometers of volume in ore they can mine at 0.0200 % ore yield\n",
      "- has £ 56147599337494472569126912.00 quadrillion in value of ore they can mine at 0.0200 % ore yield\n",
      "--------------------------------------------------------------------------------\n",
      "Mining company mining 80.000 meters deep on Oumuamua Comet:\n",
      "- has             0.5027 square kilometers of surface area to explore\n",
      "- has             0.0263 cubic kilometers of volume in ore they can mine at 0.0200 % ore yield\n",
      "- has £ 630530211946085875712.00 quadrillion in value of ore they can mine at 0.0200 % ore yield\n",
      "--------------------------------------------------------------------------------\n"
     ]
    }
   ],
   "source": [
    "MineDepth = 0.08                # Kilometers deep mining\n",
    "PersOre = 0.0002                # 0.02% yield per Cubic Meter of Rock mined\n",
    "PriceperCubicMeterOre = 1200.00 # £ per Cubic Meter of Ore\n",
    "\n",
    "PriceperCubicKilometerOre=PriceperCubicMeterOre*np.power(1000,3)\n",
    "\n",
    "MineAreaVolume(MineDepth,PersOre,PriceperCubicKilometerOre)"
   ]
  },
  {
   "cell_type": "markdown",
   "metadata": {},
   "source": [
    "## Mine Placement"
   ]
  },
  {
   "cell_type": "markdown",
   "metadata": {},
   "source": [
    "![GIS Space](../../images/latitude_longitude.gif)"
   ]
  },
  {
   "cell_type": "markdown",
   "metadata": {},
   "source": [
    "### (Latitude, Longitude)\n",
    "### (-90 to 90, -180 to 180)"
   ]
  },
  {
   "cell_type": "markdown",
   "metadata": {},
   "source": [
    "## Mine One"
   ]
  },
  {
   "cell_type": "code",
   "execution_count": 8,
   "metadata": {},
   "outputs": [
    {
     "name": "stdout",
     "output_type": "stream",
     "text": [
      "Mine 001 on Mercury  is         0.425808 meters ( 0.000 degrees) from mine to crusher\n",
      "Mine 001 on Venus    is         1.056273 meters ( 0.000 degrees) from mine to crusher\n",
      "Mine 001 on Earth    is         1.111949 meters ( 0.000 degrees) from mine to crusher\n",
      "Mine 001 on Moon     is         0.303181 meters ( 0.000 degrees) from mine to crusher\n",
      "Mine 001 on Mars     is         0.591579 meters ( 0.000 degrees) from mine to crusher\n",
      "Mine 001 on Jupiter  is        12.201597 meters ( 0.000 degrees) from mine to crusher\n",
      "Mine 001 on Saturn   is        10.163052 meters ( 0.000 degrees) from mine to crusher\n",
      "Mine 001 on Uranus   is         4.426504 meters ( 0.000 degrees) from mine to crusher\n",
      "Mine 001 on Neptune  is         4.297350 meters ( 0.000 degrees) from mine to crusher\n",
      "Mine 001 on Pluto    is         0.207397 meters ( 0.000 degrees) from mine to crusher\n",
      "Mine 001 on Hale Bopp Comet is         0.008427 meters ( 0.000 degrees) from mine to crusher\n",
      "Mine 001 on Oumuamua Comet is         0.000035 meters ( 0.000 degrees) from mine to crusher\n"
     ]
    }
   ],
   "source": [
    "mine_crusher = (0, 0)\n",
    "mine_shaft = (10e-6, 0)\n",
    "MineRoute(1)"
   ]
  },
  {
   "cell_type": "markdown",
   "metadata": {},
   "source": [
    "## Mine Two"
   ]
  },
  {
   "cell_type": "code",
   "execution_count": 9,
   "metadata": {},
   "outputs": [
    {
     "name": "stdout",
     "output_type": "stream",
     "text": [
      "Mine 002 on Mercury  is   3832271.798482 meters ( 0.000 degrees) from mine to crusher\n",
      "Mine 002 on Venus    is   9506459.369763 meters ( 0.000 degrees) from mine to crusher\n",
      "Mine 002 on Earth    is  10007543.398010 meters ( 0.000 degrees) from mine to crusher\n",
      "Mine 002 on Moon     is   2728630.299275 meters ( 0.000 degrees) from mine to crusher\n",
      "Mine 002 on Mars     is   5324214.149671 meters ( 0.000 degrees) from mine to crusher\n",
      "Mine 002 on Jupiter  is 109814371.206231 meters ( 0.000 degrees) from mine to crusher\n",
      "Mine 002 on Saturn   is  91467470.109267 meters ( 0.000 degrees) from mine to crusher\n",
      "Mine 002 on Uranus   is  39838536.440172 meters ( 0.000 degrees) from mine to crusher\n",
      "Mine 002 on Neptune  is  38676147.158344 meters ( 0.000 degrees) from mine to crusher\n",
      "Mine 002 on Pluto    is   1866577.275130 meters ( 0.000 degrees) from mine to crusher\n",
      "Mine 002 on Hale Bopp Comet is     75838.517897 meters ( 0.000 degrees) from mine to crusher\n",
      "Mine 002 on Oumuamua Comet is       314.159265 meters ( 0.000 degrees) from mine to crusher\n"
     ]
    }
   ],
   "source": [
    "mine_crusher = (0, 0)\n",
    "mine_shaft = (90, 0)\n",
    "MineRoute(2)"
   ]
  },
  {
   "cell_type": "markdown",
   "metadata": {},
   "source": [
    "## Mine Three"
   ]
  },
  {
   "cell_type": "code",
   "execution_count": 10,
   "metadata": {},
   "outputs": [
    {
     "name": "stdout",
     "output_type": "stream",
     "text": [
      "Mine 003 on Mercury  is   7664543.596963 meters (90.000 degrees) from mine to crusher\n",
      "Mine 003 on Venus    is  19012918.739525 meters (90.000 degrees) from mine to crusher\n",
      "Mine 003 on Earth    is  20015086.796021 meters (90.000 degrees) from mine to crusher\n",
      "Mine 003 on Moon     is   5457260.598551 meters (90.000 degrees) from mine to crusher\n",
      "Mine 003 on Mars     is  10648428.299343 meters (90.000 degrees) from mine to crusher\n",
      "Mine 003 on Jupiter  is 219628742.412462 meters (90.000 degrees) from mine to crusher\n",
      "Mine 003 on Saturn   is 182934940.218534 meters (90.000 degrees) from mine to crusher\n",
      "Mine 003 on Uranus   is  79677072.880344 meters (90.000 degrees) from mine to crusher\n",
      "Mine 003 on Neptune  is  77352294.316688 meters (90.000 degrees) from mine to crusher\n",
      "Mine 003 on Pluto    is   3733154.550261 meters (90.000 degrees) from mine to crusher\n",
      "Mine 003 on Hale Bopp Comet is    151677.035793 meters (90.000 degrees) from mine to crusher\n",
      "Mine 003 on Oumuamua Comet is       628.318531 meters (90.000 degrees) from mine to crusher\n"
     ]
    }
   ],
   "source": [
    "mine_crusher = (0, 0)\n",
    "mine_shaft = (0, 180)\n",
    "MineRoute(3)"
   ]
  },
  {
   "cell_type": "markdown",
   "metadata": {},
   "source": [
    "## Mine Four"
   ]
  },
  {
   "cell_type": "code",
   "execution_count": 11,
   "metadata": {},
   "outputs": [
    {
     "name": "stdout",
     "output_type": "stream",
     "text": [
      "Mine 004 on Mercury  is     60216.812979 meters (44.996 degrees) from mine to crusher\n",
      "Mine 004 on Venus    is    149375.805283 meters (44.996 degrees) from mine to crusher\n",
      "Mine 004 on Earth    is    157249.381272 meters (44.996 degrees) from mine to crusher\n",
      "Mine 004 on Moon     is     42875.200158 meters (44.996 degrees) from mine to crusher\n",
      "Mine 004 on Mars     is     83659.830140 meters (44.996 degrees) from mine to crusher\n",
      "Mine 004 on Jupiter  is   1725522.562348 meters (44.996 degrees) from mine to crusher\n",
      "Mine 004 on Saturn   is   1437236.143693 meters (44.996 degrees) from mine to crusher\n",
      "Mine 004 on Uranus   is    625986.314208 meters (44.996 degrees) from mine to crusher\n",
      "Mine 004 on Neptune  is    607721.592478 meters (44.996 degrees) from mine to crusher\n",
      "Mine 004 on Pluto    is     29329.687610 meters (44.996 degrees) from mine to crusher\n",
      "Mine 004 on Hale Bopp Comet is      1191.657087 meters (44.996 degrees) from mine to crusher\n",
      "Mine 004 on Oumuamua Comet is         4.936411 meters (44.996 degrees) from mine to crusher\n"
     ]
    }
   ],
   "source": [
    "mine_crusher = (0, 0)\n",
    "mine_shaft = (1, 1)\n",
    "MineRoute(4)"
   ]
  },
  {
   "cell_type": "markdown",
   "metadata": {},
   "source": [
    "## Done"
   ]
  },
  {
   "cell_type": "code",
   "execution_count": 12,
   "metadata": {},
   "outputs": [
    {
     "name": "stdout",
     "output_type": "stream",
     "text": [
      "Done! 2019-10-26 22:09:41.731853\n"
     ]
    }
   ],
   "source": [
    "import datetime\n",
    "now = datetime.datetime.now()\n",
    "print('Done!',str(now))"
   ]
  },
  {
   "cell_type": "code",
   "execution_count": null,
   "metadata": {},
   "outputs": [],
   "source": []
  }
 ],
 "metadata": {
  "kernelspec": {
   "display_name": "Python 3",
   "language": "python",
   "name": "python3"
  },
  "language_info": {
   "codemirror_mode": {
    "name": "ipython",
    "version": 3
   },
   "file_extension": ".py",
   "mimetype": "text/x-python",
   "name": "python",
   "nbconvert_exporter": "python",
   "pygments_lexer": "ipython3",
   "version": "3.7.3"
  }
 },
 "nbformat": 4,
 "nbformat_minor": 2
}
