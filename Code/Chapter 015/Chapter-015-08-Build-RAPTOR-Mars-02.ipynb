{
 "cells": [
  {
   "cell_type": "markdown",
   "metadata": {},
   "source": [
    "## Apress - Industrialized Machine Learning Examples\n",
    "\n",
    "Andreas Francois Vermeulen\n",
    "2019\n",
    "\n",
    "### This is an example add-on to a book and needs to be accepted as part of that copyright."
   ]
  },
  {
   "cell_type": "markdown",
   "metadata": {},
   "source": [
    "# Chapter-015-08-Build-RAPTOR-Mars-02"
   ]
  },
  {
   "cell_type": "markdown",
   "metadata": {},
   "source": [
    "## Supervised Learning"
   ]
  },
  {
   "cell_type": "markdown",
   "metadata": {},
   "source": [
    "![RAPTOR-QUBE](../../images/raptorqube/raptorqube-full.bmp)"
   ]
  },
  {
   "cell_type": "code",
   "execution_count": 1,
   "metadata": {},
   "outputs": [],
   "source": [
    "import datetime\n",
    "nowStart = datetime.datetime.now()"
   ]
  },
  {
   "cell_type": "code",
   "execution_count": 2,
   "metadata": {},
   "outputs": [],
   "source": [
    "from sklearn.svm import LinearSVC\n",
    "from sklearn.datasets import make_classification\n",
    "from sklearn.metrics import f1_score, matthews_corrcoef, confusion_matrix\n",
    "import matplotlib.pyplot as plt\n",
    "import numpy as np\n",
    "import os\n",
    "import pandas as pd\n",
    "%matplotlib inline"
   ]
  },
  {
   "cell_type": "code",
   "execution_count": 3,
   "metadata": {},
   "outputs": [],
   "source": [
    "def make_meshgrid(x, y, h=1):\n",
    "    x_min, x_max = int(x.min()) - 1, int(x.max()) + 1\n",
    "    y_min, y_max = int(y.min()) - 1, int(y.max()) + 1\n",
    "    xx, yy = np.meshgrid(np.arange(x_min, x_max, h),\n",
    "                         np.arange(y_min, y_max, h))\n",
    "    return xx, yy"
   ]
  },
  {
   "cell_type": "code",
   "execution_count": 4,
   "metadata": {},
   "outputs": [],
   "source": [
    "def plot_contours(ax, clf, xx, yy, **params):\n",
    "    Z = clf.predict(np.c_[xx.ravel(), yy.ravel()])\n",
    "    Z = Z.reshape(xx.shape)\n",
    "    out = ax.contourf(xx, yy, Z, **params)\n",
    "    return out    "
   ]
  },
  {
   "cell_type": "code",
   "execution_count": 5,
   "metadata": {},
   "outputs": [],
   "source": [
    "pathDL='../../Results/Chapter 15/999-DL/'"
   ]
  },
  {
   "cell_type": "markdown",
   "metadata": {},
   "source": [
    "![Processor](../../images/Processor.JPG)"
   ]
  },
  {
   "cell_type": "markdown",
   "metadata": {},
   "source": [
    "![RIF Functional Layer - Transform Step](../../images/RIF-FL-TRF.JPG) ![Curated Zone](../../images/DL-CUZ.JPG)"
   ]
  },
  {
   "cell_type": "code",
   "execution_count": 6,
   "metadata": {},
   "outputs": [],
   "source": [
    "objectLinkName = os.path.join(pathDL,'300-Curated-Zone', 'Link', 'Object-Object', 'Link-Object-LoadBay-MarsHopper-Ore.csv.gz')"
   ]
  },
  {
   "cell_type": "code",
   "execution_count": 7,
   "metadata": {},
   "outputs": [],
   "source": [
    "object1DF=pd.read_csv(objectLinkName, header=0, encoding='utf-8', compression='gzip')\n",
    "object1DF.index.name = 'ID'"
   ]
  },
  {
   "cell_type": "code",
   "execution_count": 8,
   "metadata": {},
   "outputs": [
    {
     "name": "stdout",
     "output_type": "stream",
     "text": [
      "Index([u'ID', u'ObjectHopper', u'ObjectOre', u'LoadBayID', u'Tonnage'], dtype='object')\n"
     ]
    }
   ],
   "source": [
    "print(object1DF.columns)"
   ]
  },
  {
   "cell_type": "code",
   "execution_count": 9,
   "metadata": {},
   "outputs": [
    {
     "name": "stdout",
     "output_type": "stream",
     "text": [
      "                 ID     LoadBayID       Tonnage\n",
      "count  2.919739e+06  2.919739e+06  2.919739e+06\n",
      "mean   1.459869e+06  2.501647e+00  5.997769e+01\n",
      "std    8.428562e+05  1.118402e+00  2.339773e+01\n",
      "min    0.000000e+00  1.000000e+00  2.000000e+01\n",
      "25%    7.299345e+05  2.000000e+00  4.000000e+01\n",
      "50%    1.459869e+06  3.000000e+00  6.000000e+01\n",
      "75%    2.189804e+06  4.000000e+00  8.000000e+01\n",
      "max    2.919738e+06  4.000000e+00  1.000000e+02\n"
     ]
    }
   ],
   "source": [
    "print(object1DF.describe())"
   ]
  },
  {
   "cell_type": "code",
   "execution_count": 10,
   "metadata": {},
   "outputs": [
    {
     "name": "stdout",
     "output_type": "stream",
     "text": [
      "<class 'pandas.core.frame.DataFrame'>\n",
      "RangeIndex: 2919739 entries, 0 to 2919738\n",
      "Data columns (total 5 columns):\n",
      "ID              int64\n",
      "ObjectHopper    object\n",
      "ObjectOre       object\n",
      "LoadBayID       int64\n",
      "Tonnage         int64\n",
      "dtypes: int64(3), object(2)\n",
      "memory usage: 111.4+ MB\n",
      "None\n"
     ]
    }
   ],
   "source": [
    "print(object1DF.info())"
   ]
  },
  {
   "cell_type": "code",
   "execution_count": 11,
   "metadata": {},
   "outputs": [
    {
     "name": "stdout",
     "output_type": "stream",
     "text": [
      "    ID ObjectHopper  ObjectOre  LoadBayID  Tonnage\n",
      "ID                                                \n",
      "0    0  Hopper-0001   aluminum          1       78\n",
      "1    1  Hopper-0001   aluminum          1       78\n",
      "2    2  Hopper-0002   aluminum          1       64\n",
      "3    3  Hopper-0002   aluminum          1       64\n",
      "4    4  Hopper-0002   aluminum          1       64\n",
      "5    5  Hopper-0001   aluminum          1       78\n",
      "6    6  Hopper-0003  magnesium          4       55\n",
      "7    7  Hopper-0003  magnesium          4       55\n",
      "8    8  Hopper-0004   aluminum          4       54\n",
      "9    9  Hopper-0004   aluminum          4       54\n",
      "10  10  Hopper-0005   aluminum          2       45\n",
      "11  11  Hopper-0005   aluminum          2       45\n",
      "12  12  Hopper-0005   aluminum          2       45\n",
      "13  13  Hopper-0006    calcium          4       41\n",
      "14  14  Hopper-0006    calcium          4       41\n",
      "15  15  Hopper-0007    silicon          3       27\n",
      "16  16  Hopper-0007    silicon          3       27\n",
      "17  17  Hopper-0007    silicon          3       27\n",
      "18  18  Hopper-0003  magnesium          4       55\n",
      "19  19  Hopper-0008    silicon          3       59\n"
     ]
    }
   ],
   "source": [
    "print(object1DF.head(20))"
   ]
  },
  {
   "cell_type": "markdown",
   "metadata": {},
   "source": [
    "![Processor](../../images/hopper.bmp)"
   ]
  },
  {
   "cell_type": "code",
   "execution_count": 12,
   "metadata": {},
   "outputs": [],
   "source": [
    "def loadrate(t):\n",
    "    rate = int(t/60)\n",
    "    return rate"
   ]
  },
  {
   "cell_type": "code",
   "execution_count": 13,
   "metadata": {},
   "outputs": [],
   "source": [
    "objectSub1DF=object1DF[['ObjectOre','LoadBayID','Tonnage']].copy(deep=True)\n",
    "objectSub1DF.drop_duplicates(subset=None, keep='first', inplace=True)\n",
    "objectSub1DF.columns=['OreName','MineID','Tonnage']\n",
    "objectSub1DF['TonnageRate'] = objectSub1DF.apply(lambda row: loadrate(row['Tonnage']), axis=1)\n",
    "objectSub1DF.drop('Tonnage', axis=1, inplace=True)\n",
    "objectSub1DF.drop_duplicates(subset=None, keep='first', inplace=True)"
   ]
  },
  {
   "cell_type": "code",
   "execution_count": 14,
   "metadata": {},
   "outputs": [
    {
     "name": "stdout",
     "output_type": "stream",
     "text": [
      "      OreName  MineID  TonnageRate\n",
      "ID                                \n",
      "0    aluminum       1            1\n",
      "6   magnesium       4            0\n",
      "8    aluminum       4            0\n",
      "10   aluminum       2            0\n",
      "13    calcium       4            0\n",
      "15    silicon       3            0\n",
      "22  magnesium       2            0\n",
      "28       iron       4            1\n",
      "30       iron       3            1\n",
      "34    silicon       3            1\n"
     ]
    }
   ],
   "source": [
    "print(objectSub1DF.head(10))"
   ]
  },
  {
   "cell_type": "code",
   "execution_count": 15,
   "metadata": {},
   "outputs": [],
   "source": [
    "objectSatelliteName = os.path.join(pathDL,'300-Curated-Zone', 'Satellite', 'Object', 'Satellite-Object-Ore.csv.gz')"
   ]
  },
  {
   "cell_type": "code",
   "execution_count": 16,
   "metadata": {},
   "outputs": [],
   "source": [
    "object2DF=pd.read_csv(objectSatelliteName, header=0, encoding='utf-8', compression='gzip')\n",
    "object2DF.index.name = 'ID'"
   ]
  },
  {
   "cell_type": "code",
   "execution_count": 17,
   "metadata": {},
   "outputs": [
    {
     "name": "stdout",
     "output_type": "stream",
     "text": [
      "<class 'pandas.core.frame.DataFrame'>\n",
      "RangeIndex: 6 entries, 0 to 5\n",
      "Data columns (total 2 columns):\n",
      "ObjectName    6 non-null object\n",
      "ObjectType    6 non-null object\n",
      "dtypes: object(2)\n",
      "memory usage: 168.0+ bytes\n",
      "None\n"
     ]
    }
   ],
   "source": [
    "print(object2DF.info())"
   ]
  },
  {
   "cell_type": "code",
   "execution_count": 18,
   "metadata": {},
   "outputs": [
    {
     "name": "stdout",
     "output_type": "stream",
     "text": [
      "   ObjectName ObjectType\n",
      "ID                      \n",
      "0    aluminum        Ore\n",
      "1   magnesium        Ore\n",
      "2     calcium        Ore\n",
      "3     silicon        Ore\n",
      "4        iron        Ore\n",
      "5   potassium        Ore\n"
     ]
    }
   ],
   "source": [
    "print(object2DF.head(20))"
   ]
  },
  {
   "cell_type": "code",
   "execution_count": 19,
   "metadata": {},
   "outputs": [],
   "source": [
    "objectSub2DF=object2DF[['ObjectName']].copy(deep=True)\n",
    "objectSub2DF.drop_duplicates(subset=None, keep='first', inplace=True)\n",
    "objectSub2DF.reset_index(inplace=True)\n",
    "objectSub2DF.columns=['OreID','OreName']\n",
    "objectSub2DF.index.name = 'ID'"
   ]
  },
  {
   "cell_type": "code",
   "execution_count": 20,
   "metadata": {},
   "outputs": [
    {
     "name": "stdout",
     "output_type": "stream",
     "text": [
      "    OreID    OreName\n",
      "ID                  \n",
      "0       0   aluminum\n",
      "1       1  magnesium\n",
      "2       2    calcium\n",
      "3       3    silicon\n",
      "4       4       iron\n",
      "5       5  potassium\n"
     ]
    }
   ],
   "source": [
    "print(objectSub2DF.head(20))"
   ]
  },
  {
   "cell_type": "code",
   "execution_count": 21,
   "metadata": {},
   "outputs": [
    {
     "name": "stdout",
     "output_type": "stream",
     "text": [
      "<class 'pandas.core.frame.DataFrame'>\n",
      "RangeIndex: 6 entries, 0 to 5\n",
      "Data columns (total 2 columns):\n",
      "OreID      6 non-null int64\n",
      "OreName    6 non-null object\n",
      "dtypes: int64(1), object(1)\n",
      "memory usage: 168.0+ bytes\n",
      "None\n"
     ]
    }
   ],
   "source": [
    "print(objectSub2DF.info())"
   ]
  },
  {
   "cell_type": "code",
   "execution_count": 22,
   "metadata": {},
   "outputs": [],
   "source": [
    "objectDF=pd.merge(left=objectSub1DF, right=objectSub2DF, on='OreName')\n",
    "objectDF.drop('OreName', axis=1, inplace=True)\n",
    "objectDF.drop_duplicates(subset=None, keep='first', inplace=True)"
   ]
  },
  {
   "cell_type": "code",
   "execution_count": 23,
   "metadata": {},
   "outputs": [
    {
     "name": "stdout",
     "output_type": "stream",
     "text": [
      "Index([u'MineID', u'TonnageRate', u'OreID'], dtype='object')\n"
     ]
    }
   ],
   "source": [
    "print(objectDF.columns)"
   ]
  },
  {
   "cell_type": "markdown",
   "metadata": {},
   "source": [
    "## Training Set"
   ]
  },
  {
   "cell_type": "code",
   "execution_count": 24,
   "metadata": {},
   "outputs": [],
   "source": [
    "#objectTrainDF=objectDF.sample(n=1000, replace=True)\n",
    "#objectTrainDF.drop_duplicates(subset=None, keep='first', inplace=True)"
   ]
  },
  {
   "cell_type": "code",
   "execution_count": 25,
   "metadata": {},
   "outputs": [],
   "source": [
    "objectTrainDF=objectDF.sample(frac=0.7, replace=False)\n",
    "#objectTrainDF.drop_duplicates(subset=None, keep='first', inplace=True)"
   ]
  },
  {
   "cell_type": "code",
   "execution_count": 26,
   "metadata": {},
   "outputs": [
    {
     "name": "stdout",
     "output_type": "stream",
     "text": [
      "(34, 3)\n"
     ]
    }
   ],
   "source": [
    "print(objectTrainDF.shape)"
   ]
  },
  {
   "cell_type": "code",
   "execution_count": 27,
   "metadata": {},
   "outputs": [],
   "source": [
    "Xtrain=np.array(objectTrainDF[['OreID','MineID']])\n",
    "ytrain=np.array(objectTrainDF[['TonnageRate'][0]])"
   ]
  },
  {
   "cell_type": "code",
   "execution_count": 28,
   "metadata": {},
   "outputs": [
    {
     "name": "stdout",
     "output_type": "stream",
     "text": [
      "(34L, 2L)\n"
     ]
    }
   ],
   "source": [
    "print(Xtrain.shape)"
   ]
  },
  {
   "cell_type": "code",
   "execution_count": 29,
   "metadata": {},
   "outputs": [
    {
     "name": "stdout",
     "output_type": "stream",
     "text": [
      "(34L,)\n"
     ]
    }
   ],
   "source": [
    "print(ytrain.shape)"
   ]
  },
  {
   "cell_type": "markdown",
   "metadata": {},
   "source": [
    "## Test Set"
   ]
  },
  {
   "cell_type": "code",
   "execution_count": 30,
   "metadata": {},
   "outputs": [],
   "source": [
    "objectTestDF=objectDF.sample(frac=0.3, replace=True)\n",
    "#objectTestDF.drop_duplicates(subset=None, keep='first', inplace=True)"
   ]
  },
  {
   "cell_type": "code",
   "execution_count": 31,
   "metadata": {},
   "outputs": [
    {
     "name": "stdout",
     "output_type": "stream",
     "text": [
      "(14, 3)\n"
     ]
    }
   ],
   "source": [
    "print(objectTestDF.shape)"
   ]
  },
  {
   "cell_type": "code",
   "execution_count": 32,
   "metadata": {},
   "outputs": [],
   "source": [
    "Xtest=np.array(objectTestDF[['OreID','MineID']])\n",
    "ytest=np.array(objectTestDF[['TonnageRate'][0]])"
   ]
  },
  {
   "cell_type": "code",
   "execution_count": 33,
   "metadata": {},
   "outputs": [
    {
     "name": "stdout",
     "output_type": "stream",
     "text": [
      "(14L, 2L)\n"
     ]
    }
   ],
   "source": [
    "print(Xtest.shape)"
   ]
  },
  {
   "cell_type": "code",
   "execution_count": 34,
   "metadata": {},
   "outputs": [
    {
     "name": "stdout",
     "output_type": "stream",
     "text": [
      "(14L,)\n"
     ]
    }
   ],
   "source": [
    "print(ytest.shape)"
   ]
  },
  {
   "cell_type": "markdown",
   "metadata": {},
   "source": [
    "![Processor](../../images/Processor.JPG)"
   ]
  },
  {
   "cell_type": "code",
   "execution_count": 35,
   "metadata": {},
   "outputs": [],
   "source": [
    "clf = LinearSVC(random_state=0,\n",
    "                max_iter=20000,\n",
    "                dual=True)"
   ]
  },
  {
   "cell_type": "code",
   "execution_count": 36,
   "metadata": {},
   "outputs": [
    {
     "data": {
      "text/plain": [
       "LinearSVC(C=1.0, class_weight=None, dual=True, fit_intercept=True,\n",
       "     intercept_scaling=1, loss='squared_hinge', max_iter=20000,\n",
       "     multi_class='ovr', penalty='l2', random_state=0, tol=0.0001,\n",
       "     verbose=0)"
      ]
     },
     "execution_count": 36,
     "metadata": {},
     "output_type": "execute_result"
    }
   ],
   "source": [
    "clf.fit(Xtrain, ytrain)"
   ]
  },
  {
   "cell_type": "code",
   "execution_count": 37,
   "metadata": {},
   "outputs": [
    {
     "name": "stdout",
     "output_type": "stream",
     "text": [
      "------------------------------------------------\n",
      "('Coefficient:', array([[-0.0182217 ,  0.11647044]]))\n",
      "------------------------------------------------\n",
      "('Intercept', array([-0.10997693]))\n",
      "------------------------------------------------\n",
      "('Score', 0.5882352941176471)\n",
      "------------------------------------------------\n"
     ]
    }
   ],
   "source": [
    "print('------------------------------------------------')\n",
    "print('Coefficient:', clf.coef_)\n",
    "print('------------------------------------------------')\n",
    "print('Intercept', clf.intercept_)\n",
    "print('------------------------------------------------')\n",
    "print('Score', clf.score(Xtrain, ytrain))\n",
    "print('------------------------------------------------')  "
   ]
  },
  {
   "cell_type": "code",
   "execution_count": 38,
   "metadata": {},
   "outputs": [],
   "source": [
    "IMLresult=np.array(clf.predict(Xtest))"
   ]
  },
  {
   "cell_type": "code",
   "execution_count": 39,
   "metadata": {},
   "outputs": [
    {
     "name": "stdout",
     "output_type": "stream",
     "text": [
      "(14L,)\n"
     ]
    }
   ],
   "source": [
    "print(IMLresult.shape)"
   ]
  },
  {
   "cell_type": "code",
   "execution_count": 40,
   "metadata": {},
   "outputs": [
    {
     "name": "stdout",
     "output_type": "stream",
     "text": [
      "------------------------------------------------\n",
      "('Score - Test Data', 0.35714285714285715)\n",
      "------------------------------------------------\n"
     ]
    }
   ],
   "source": [
    "print('------------------------------------------------')\n",
    "print('Score - Test Data', clf.score(Xtest, ytest))\n",
    "print('------------------------------------------------')"
   ]
  },
  {
   "cell_type": "code",
   "execution_count": 41,
   "metadata": {},
   "outputs": [
    {
     "name": "stdout",
     "output_type": "stream",
     "text": [
      "Test Data Run\n",
      "0001 - 0002 ore with 03 mine => 0.0000 true rate => 1.0000 predicted - Miss?\n",
      "0002 - 0005 ore with 02 mine => 1.0000 true rate => 1.0000 predicted - Miss?\n",
      "0003 - 0002 ore with 04 mine => 0.0000 true rate => 1.0000 predicted - Miss?\n",
      "0004 - 0001 ore with 01 mine => 0.0000 true rate => 0.0000 predicted - Miss?\n",
      "0005 - 0004 ore with 01 mine => 1.0000 true rate => 0.0000 predicted - Miss?\n",
      "0006 - 0003 ore with 03 mine => 0.0000 true rate => 1.0000 predicted - Miss?\n",
      "0007 - 0001 ore with 01 mine => 0.0000 true rate => 0.0000 predicted - Miss?\n",
      "0008 - 0001 ore with 04 mine => 0.0000 true rate => 1.0000 predicted - Miss?\n",
      "0009 - 0001 ore with 04 mine => 0.0000 true rate => 1.0000 predicted - Miss?\n",
      "0010 - 0004 ore with 04 mine => 1.0000 true rate => 1.0000 predicted - Miss?\n",
      "0011 - 0000 ore with 04 mine => 0.0000 true rate => 1.0000 predicted - Miss?\n",
      "0012 - 0005 ore with 04 mine => 1.0000 true rate => 1.0000 predicted - Miss?\n",
      "0013 - 0002 ore with 01 mine => 1.0000 true rate => 0.0000 predicted - Miss?\n",
      "0014 - 0003 ore with 02 mine => 0.0000 true rate => 1.0000 predicted - Miss?\n"
     ]
    }
   ],
   "source": [
    "print('Test Data Run')\n",
    "for i in range(IMLresult.shape[0]):\n",
    "    if ytest[0]==IMLresult[0]:\n",
    "        outcome='Hit!'\n",
    "    else:\n",
    "        outcome='Miss?'\n",
    "    print('%04d - %04d ore with %02d mine => %0.4f true rate => %0.4f predicted - %s' % (i+1, Xtest[i][0],Xtest[i][1],ytest[i],IMLresult[i],outcome))"
   ]
  },
  {
   "cell_type": "markdown",
   "metadata": {},
   "source": [
    "# Process Done"
   ]
  },
  {
   "cell_type": "code",
   "execution_count": 42,
   "metadata": {},
   "outputs": [
    {
     "name": "stdout",
     "output_type": "stream",
     "text": [
      "('Start:', '2019-05-04 22:29:44')\n",
      "('Stop: ', '2019-05-04 22:30:21')\n",
      "('Time: ', datetime.timedelta(0, 37, 49000))\n"
     ]
    }
   ],
   "source": [
    "nowStop = datetime.datetime.now()\n",
    "runTime=nowStop-nowStart\n",
    "print('Start:', nowStart.strftime('%Y-%m-%d %H:%M:%S'))\n",
    "print('Stop: ', nowStop.strftime('%Y-%m-%d %H:%M:%S'))\n",
    "print('Time: ', runTime)"
   ]
  },
  {
   "cell_type": "code",
   "execution_count": null,
   "metadata": {},
   "outputs": [],
   "source": []
  }
 ],
 "metadata": {
  "kernelspec": {
   "display_name": "Python 2",
   "language": "python",
   "name": "python2"
  },
  "language_info": {
   "codemirror_mode": {
    "name": "ipython",
    "version": 2
   },
   "file_extension": ".py",
   "mimetype": "text/x-python",
   "name": "python",
   "nbconvert_exporter": "python",
   "pygments_lexer": "ipython2",
   "version": "2.7.16"
  }
 },
 "nbformat": 4,
 "nbformat_minor": 2
}
