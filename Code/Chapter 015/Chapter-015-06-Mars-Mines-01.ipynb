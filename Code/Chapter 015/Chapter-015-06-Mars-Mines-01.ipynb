{
 "cells": [
  {
   "cell_type": "markdown",
   "metadata": {},
   "source": [
    "## Apress - Industrialized Machine Learning Examples\n",
    "\n",
    "Andreas Francois Vermeulen\n",
    "2019\n",
    "\n",
    "### This is an example add-on to a book and needs to be accepted as part of that copyright."
   ]
  },
  {
   "cell_type": "markdown",
   "metadata": {},
   "source": [
    "# Chapter-015-06-Mars-Mines-01"
   ]
  },
  {
   "cell_type": "code",
   "execution_count": null,
   "metadata": {},
   "outputs": [],
   "source": [
    "import os\n",
    "import datetime\n",
    "import pandas as pd"
   ]
  },
  {
   "cell_type": "markdown",
   "metadata": {},
   "source": [
    "### Part A - Setup Simulation"
   ]
  },
  {
   "cell_type": "code",
   "execution_count": null,
   "metadata": {},
   "outputs": [],
   "source": [
    "LOADBAYCNT = 4           # Amount of Load Bays\n",
    "#NEW_HOPPERS = 1000000    # Total number of Mars Hoppers\n",
    "NEW_HOPPERS = 1000       # Total number of Mars Hoppers\n",
    "INTERVAL_HOPPERS = 20.0  # Generate new Hopper roughly every x seconds\n",
    "MIN_WAITLIMIT = 15       # Min. Hopper WAITLIMIT\n",
    "MAX_WAITLIMIT = 20       # Max. Hopper WAITLIMIT\n",
    "#DISPLAYRESULTS = True\n",
    "DISPLAYRESULTS = False"
   ]
  },
  {
   "cell_type": "code",
   "execution_count": null,
   "metadata": {},
   "outputs": [],
   "source": [
    "nowStart = datetime.datetime.now()"
   ]
  },
  {
   "cell_type": "code",
   "execution_count": null,
   "metadata": {},
   "outputs": [],
   "source": [
    "dirname = '../../Results/Chapter 15/999-DL/100-Raw-Zone/'"
   ]
  },
  {
   "cell_type": "markdown",
   "metadata": {},
   "source": [
    "# Create 100-Raw-Zone"
   ]
  },
  {
   "cell_type": "markdown",
   "metadata": {},
   "source": [
    "![Raw Zone](../../images/DL-RZ.JPG)"
   ]
  },
  {
   "cell_type": "code",
   "execution_count": null,
   "metadata": {},
   "outputs": [],
   "source": [
    "pathRealName=os.path.realpath(dirname)\n",
    "print(pathRealName)"
   ]
  },
  {
   "cell_type": "code",
   "execution_count": null,
   "metadata": {},
   "outputs": [],
   "source": [
    "if not os.path.exists(pathRealName):\n",
    "    print('Make:', pathRealName)\n",
    "    os.makedirs(pathRealName)"
   ]
  },
  {
   "cell_type": "markdown",
   "metadata": {},
   "source": [
    "### Part B - Make Hopper"
   ]
  },
  {
   "cell_type": "markdown",
   "metadata": {},
   "source": [
    "# Create Mars Hopper"
   ]
  },
  {
   "cell_type": "code",
   "execution_count": null,
   "metadata": {},
   "outputs": [],
   "source": [
    "filename1='15-06-Retrieve-Mars-Hopper.csv'\n",
    "fileZipname1=filename1 + '.gz'\n",
    "print(fileZipname1)"
   ]
  },
  {
   "cell_type": "code",
   "execution_count": null,
   "metadata": {},
   "outputs": [],
   "source": [
    "fullRealZipName1 = os.path.join(pathRealName, fileZipname1)"
   ]
  },
  {
   "cell_type": "code",
   "execution_count": null,
   "metadata": {},
   "outputs": [],
   "source": [
    "t=0\n",
    "hopper_list=[]"
   ]
  },
  {
   "cell_type": "code",
   "execution_count": null,
   "metadata": {},
   "outputs": [],
   "source": [
    "hoppertypes = pd.DataFrame(['silicon', \n",
    "                            'hydrogen', \n",
    "                            'oxygen', \n",
    "                            'iron', \n",
    "                            'magnesium', \n",
    "                            'manganese', \n",
    "                            'aluminum', \n",
    "                            'calcium', \n",
    "                            'gold', \n",
    "                            'silver', \n",
    "                            'nickel', \n",
    "                            'titanium', \n",
    "                            'platinum',\n",
    "                            'copper']\n",
    "                          )\n",
    "hoppertypes.columns = ['HopperType']"
   ]
  },
  {
   "cell_type": "code",
   "execution_count": null,
   "metadata": {},
   "outputs": [],
   "source": [
    "print('Hopper Types: %d' % (hoppertypes.shape[0]))"
   ]
  },
  {
   "cell_type": "code",
   "execution_count": null,
   "metadata": {},
   "outputs": [],
   "source": [
    "print(hoppertypes.head(20))"
   ]
  },
  {
   "cell_type": "markdown",
   "metadata": {},
   "source": [
    "### Part C - Simulate Hopper Traffic"
   ]
  },
  {
   "cell_type": "code",
   "execution_count": null,
   "metadata": {},
   "outputs": [],
   "source": [
    "import random\n",
    "import simpy"
   ]
  },
  {
   "cell_type": "code",
   "execution_count": null,
   "metadata": {},
   "outputs": [],
   "source": [
    "RANDOM_SEED = 1968"
   ]
  },
  {
   "cell_type": "code",
   "execution_count": null,
   "metadata": {},
   "outputs": [],
   "source": [
    "def source(env, number, interval, counter):\n",
    "    \"\"\"Source generates HOPPERS randomly\"\"\"\n",
    "    for i in range(number):\n",
    "        n = i + 1\n",
    "        c = Hopper(env, 'Hopper-%04d' % n, counter, time_in_hopper=50.0)\n",
    "        env.process(c)\n",
    "        t = random.expovariate(1.0 / interval)\n",
    "        yield env.timeout(t)"
   ]
  },
  {
   "cell_type": "code",
   "execution_count": null,
   "metadata": {},
   "outputs": [],
   "source": [
    "def Hopper(env, name, counter, time_in_hopper):\n",
    "    \"\"\"Hopper arrives, is served and leaves.\"\"\"\n",
    "    \n",
    "    i=random.randint(0, 5)\n",
    "    hoppertype = str(hoppertypes.iloc[i][0])\n",
    "    \n",
    "    tonnage=random.randint(20, 100)\n",
    "    \n",
    "    loadbayid = random.randint(1,LOADBAYCNT)\n",
    "    \n",
    "    arriveenv = env.now\n",
    "    if DISPLAYRESULTS: print('%7.4f %s: Hopper with %s is here' % (arriveenv, name, hoppertype))\n",
    "    hopperRec=[arriveenv, 'Hopper Arrive', name, hoppertype, tonnage, loadbayid, 0.0001]\n",
    "    hopper_list.append(hopperRec)\n",
    "\n",
    "    with counter.request() as req:\n",
    "        WAITLIMIT = random.uniform(MIN_WAITLIMIT, MAX_WAITLIMIT)\n",
    "        # Wait for the counter or abort at the end of our tether\n",
    "        results = yield req | env.timeout(WAITLIMIT)\n",
    "\n",
    "        wait = env.now - arriveenv\n",
    "\n",
    "        if req in results:\n",
    "            # We got to the counter\n",
    "            waitenv=env.now            \n",
    "            wait = waitenv - arriveenv\n",
    "            if wait == 0: wait = 0.0001\n",
    "            \n",
    "            if DISPLAYRESULTS: print('%7.4f %s: Hopper with %s Waited %6.4f' % (waitenv, name, hoppertype, wait))\n",
    "            \n",
    "            hopperRec=[waitenv, 'Hopper Wait', name, hoppertype, tonnage, loadbayid, wait]\n",
    "            hopper_list.append(hopperRec)\n",
    "\n",
    "            tib = random.expovariate(1.0 / time_in_hopper)\n",
    "            yield env.timeout(tib)\n",
    "            \n",
    "            doneenv=env.now\n",
    "            wait = doneenv - arriveenv\n",
    "            if wait == 0: wait = 0.0001\n",
    "            \n",
    "            if DISPLAYRESULTS: print('%7.4f %s: Hopper with %s Finished' % (doneenv, name, hoppertype))\n",
    "                        \n",
    "            hopperRec=[doneenv, 'Hopper Load', name, hoppertype, tonnage, loadbayid, wait]\n",
    "            hopper_list.append(hopperRec)\n",
    "\n",
    "        else:\n",
    "            # We withdraw\n",
    "            lostenv=env.now\n",
    "            \n",
    "            wait = env.now - arriveenv\n",
    "            if wait == 0: wait = 0.0001\n",
    "            \n",
    "            if DISPLAYRESULTS: print('%7.4f %s: Hopper with %s Lost after %6.4f' % (lostenv, name, hoppertype, wait))\n",
    "            hopperRec=[lostenv, 'Hopper Lost', name, hoppertype, tonnage, loadbayid, wait]\n",
    "            hopper_list.append(hopperRec)"
   ]
  },
  {
   "cell_type": "markdown",
   "metadata": {},
   "source": [
    "### Part - D - Setup and start the Hopper simulation"
   ]
  },
  {
   "cell_type": "code",
   "execution_count": null,
   "metadata": {},
   "outputs": [],
   "source": [
    "print('Hopper Loading Started')\n",
    "random.seed(RANDOM_SEED)\n",
    "env = simpy.Environment()\n",
    "\n",
    "# Start processes and run\n",
    "loadbays = simpy.Resource(env, capacity=LOADBAYCNT)\n",
    "env.process(source(env, NEW_HOPPERS, INTERVAL_HOPPERS, loadbays))\n",
    "env.run()\n",
    "\n",
    "print('Hopper Loading Done')"
   ]
  },
  {
   "cell_type": "code",
   "execution_count": null,
   "metadata": {},
   "outputs": [],
   "source": [
    "hopperDF = pd.DataFrame(hopper_list)\n",
    "hopperDF.columns = ['Time','Event','ObjectHopper','ObjectOre','Tonnage', 'LoadBayID','WaitTime']\n",
    "hopperDF.index.name = 'ID'"
   ]
  },
  {
   "cell_type": "code",
   "execution_count": null,
   "metadata": {},
   "outputs": [],
   "source": [
    "print(hopperDF.shape)"
   ]
  },
  {
   "cell_type": "code",
   "execution_count": null,
   "metadata": {},
   "outputs": [],
   "source": [
    "if DISPLAYRESULTS: print(hopperDF.head(20))"
   ]
  },
  {
   "cell_type": "code",
   "execution_count": null,
   "metadata": {},
   "outputs": [],
   "source": [
    "def marstime(s):\n",
    "    #set to 24 hours, 39 minutes, and 35 seconds\n",
    "    marsdayseconds = (24*60*60)+(39*60)+35\n",
    "    marsday = round(s/marsdayseconds,6)\n",
    "    return marsday"
   ]
  },
  {
   "cell_type": "code",
   "execution_count": null,
   "metadata": {},
   "outputs": [],
   "source": [
    "simtime = max(hopperDF['Time'])\n",
    "realworldtime = marstime(simtime)\n",
    "print('Simulation of %0.6f seconds => yields %0.6f of real days of Mars Mining time' % (simtime, realworldtime))"
   ]
  },
  {
   "cell_type": "markdown",
   "metadata": {},
   "source": [
    "# Save Mars Hopper"
   ]
  },
  {
   "cell_type": "code",
   "execution_count": null,
   "metadata": {},
   "outputs": [],
   "source": [
    "print(fullRealZipName1)\n",
    "hopperDF.to_csv(fullRealZipName1, index=False, encoding='utf-8', compression='gzip')"
   ]
  },
  {
   "cell_type": "markdown",
   "metadata": {},
   "source": [
    "#  Create Mars Mines"
   ]
  },
  {
   "cell_type": "code",
   "execution_count": null,
   "metadata": {},
   "outputs": [],
   "source": [
    "filename2='10-06-Retrieve-Mars-Mines.csv'\n",
    "fileZipname2=filename2 + '.gz'\n",
    "print(fileZipname2)"
   ]
  },
  {
   "cell_type": "code",
   "execution_count": null,
   "metadata": {},
   "outputs": [],
   "source": [
    "fullRealZipName2 = os.path.join(pathRealName, fileZipname2)"
   ]
  },
  {
   "cell_type": "markdown",
   "metadata": {},
   "source": [
    "### Part - E - Setup Mars Mines"
   ]
  },
  {
   "cell_type": "code",
   "execution_count": null,
   "metadata": {},
   "outputs": [],
   "source": [
    "minesDF = pd.DataFrame(\n",
    "[\n",
    "    [0,0,0],\n",
    "    [1,-88,-27],\n",
    "    [2,77,77],\n",
    "    [3,-19,68],\n",
    "    [4,20,19]\n",
    "]\n",
    ")\n",
    "minesDF.columns = ['MineID', 'Longitude', 'Latitude']\n",
    "minesDF.index.name = 'ID'"
   ]
  },
  {
   "cell_type": "code",
   "execution_count": null,
   "metadata": {},
   "outputs": [],
   "source": [
    "print(minesDF.shape)"
   ]
  },
  {
   "cell_type": "code",
   "execution_count": null,
   "metadata": {},
   "outputs": [],
   "source": [
    "print(minesDF.head())"
   ]
  },
  {
   "cell_type": "markdown",
   "metadata": {},
   "source": [
    "# Save Mars Mines"
   ]
  },
  {
   "cell_type": "code",
   "execution_count": null,
   "metadata": {},
   "outputs": [],
   "source": [
    "print(fullRealZipName2)"
   ]
  },
  {
   "cell_type": "code",
   "execution_count": null,
   "metadata": {},
   "outputs": [],
   "source": [
    "minesDF.to_csv(fullRealZipName2, index=False, encoding='utf-8', compression='gzip')"
   ]
  },
  {
   "cell_type": "markdown",
   "metadata": {},
   "source": [
    "# Show Progress"
   ]
  },
  {
   "cell_type": "code",
   "execution_count": null,
   "metadata": {},
   "outputs": [],
   "source": [
    "nowStop = datetime.datetime.now()\n",
    "runTime=nowStop-nowStart\n",
    "print('Start:', nowStart.strftime('%Y-%m-%d %H:%M:%S'))\n",
    "print('Stop: ', nowStop.strftime('%Y-%m-%d %H:%M:%S'))\n",
    "print('Time: ', runTime)"
   ]
  },
  {
   "cell_type": "code",
   "execution_count": null,
   "metadata": {},
   "outputs": [],
   "source": []
  }
 ],
 "metadata": {
  "kernelspec": {
   "display_name": "Python 3",
   "language": "python",
   "name": "python3"
  },
  "language_info": {
   "codemirror_mode": {
    "name": "ipython",
    "version": 3
   },
   "file_extension": ".py",
   "mimetype": "text/x-python",
   "name": "python",
   "nbconvert_exporter": "python",
   "pygments_lexer": "ipython3",
   "version": "3.7.3"
  }
 },
 "nbformat": 4,
 "nbformat_minor": 2
}
