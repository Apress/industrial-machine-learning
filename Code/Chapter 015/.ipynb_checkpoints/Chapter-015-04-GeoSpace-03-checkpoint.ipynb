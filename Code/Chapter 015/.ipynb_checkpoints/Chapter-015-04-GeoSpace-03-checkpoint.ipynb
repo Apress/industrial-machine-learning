{
 "cells": [
  {
   "cell_type": "markdown",
   "metadata": {},
   "source": [
    "## Apress - Industrialized Machine Learning Examples\n",
    "\n",
    "Andreas Francois Vermeulen\n",
    "2019\n",
    "\n",
    "### This is an example add-on to a book and needs to be accepted as part of that copyright."
   ]
  },
  {
   "cell_type": "markdown",
   "metadata": {},
   "source": [
    "# Chapter-015-04-GeoSpace-03"
   ]
  },
  {
   "cell_type": "markdown",
   "metadata": {},
   "source": [
    "![GIS Earth](../../images/earth-mars.png)"
   ]
  },
  {
   "cell_type": "code",
   "execution_count": 1,
   "metadata": {},
   "outputs": [],
   "source": [
    "from math import sin, cos, sqrt, atan2, radians, degrees\n",
    "import numpy as np"
   ]
  },
  {
   "cell_type": "markdown",
   "metadata": {},
   "source": [
    "## Planet Information"
   ]
  },
  {
   "cell_type": "code",
   "execution_count": 2,
   "metadata": {},
   "outputs": [],
   "source": [
    "planets= np.array([\n",
    "    ['Mercury', 4879.4],\n",
    "    ['Venus', 12104],\n",
    "    ['Earth', 12742],\n",
    "    ['Moon', 3474.2],\n",
    "    ['Mars', 6779],\n",
    "    ['Jupiter', 139820],\n",
    "    ['Saturn', 116460],\n",
    "    ['Uranus', 50724],\n",
    "    ['Neptune', 49244],\n",
    "    ['Pluto', 2376.6],\n",
    "    ['Hale Bopp Comet', 96.5606]\n",
    "])"
   ]
  },
  {
   "cell_type": "code",
   "execution_count": 3,
   "metadata": {},
   "outputs": [],
   "source": [
    "planets= np.array([\n",
    "    ['Earth', 12742],\n",
    "    ['Mars', 6779]\n",
    "],dtype='|S10')"
   ]
  },
  {
   "cell_type": "code",
   "execution_count": 4,
   "metadata": {},
   "outputs": [
    {
     "data": {
      "text/plain": [
       "array([[b'Earth', b'12742'],\n",
       "       [b'Mars', b'6779']], dtype='|S10')"
      ]
     },
     "execution_count": 4,
     "metadata": {},
     "output_type": "execute_result"
    }
   ],
   "source": [
    "planets"
   ]
  },
  {
   "cell_type": "markdown",
   "metadata": {},
   "source": [
    "## Mine Route"
   ]
  },
  {
   "cell_type": "code",
   "execution_count": 5,
   "metadata": {},
   "outputs": [],
   "source": [
    "def MineRoute(ID):\n",
    "    for i in range(len(planets)):\n",
    "        p = planets[i][0]\n",
    "        R = float(planets[i][1])/2\n",
    "\n",
    "        lat1 = radians(mine_crusher[0])\n",
    "        lon1 = radians(mine_crusher[1])\n",
    "\n",
    "        lat2 = radians(mine_shaft[0])\n",
    "        lon2 = radians(mine_shaft[1])\n",
    "\n",
    "        dlon = lon2 - lon1\n",
    "        dlat = lat2 - lat1\n",
    "\n",
    "        a = sin(dlat / 2)**2 + cos(lat1) * cos(lat2) * sin(dlon / 2)**2\n",
    "        c = 2 * atan2(sqrt(a), sqrt(1 - a))\n",
    "\n",
    "        distance = round(R * c * 1000,6)\n",
    "        \n",
    "        ###########################\n",
    "        \n",
    "        diffLong = lon2 - lon1\n",
    "\n",
    "        x = sin(diffLong) * cos(lat2)\n",
    "        y = cos(lat1) * sin(lat2) - (sin(lat1) * cos(lat2) * cos(diffLong))\n",
    "\n",
    "        initial_bearing_radians = atan2(x, y)\n",
    "\n",
    "        initial_bearing = degrees(initial_bearing_radians)\n",
    "        compass_bearing = round((initial_bearing + 360) % 360,3)\n",
    "        \n",
    "        ###########################\n",
    "        Result = np.array([[p, distance, compass_bearing]])\n",
    "        if i == 0:\n",
    "            Results = Result\n",
    "        else:\n",
    "            Results = np.append(Results, Result, axis=0)\n",
    "        \n",
    "    return Results\n",
    "    "
   ]
  },
  {
   "cell_type": "markdown",
   "metadata": {},
   "source": [
    "![GIS Space](../../images/latitude_longitude.gif)"
   ]
  },
  {
   "cell_type": "markdown",
   "metadata": {},
   "source": [
    "### (Latitude, Longitude)\n",
    "### (-90 to 90, -180 to 180)"
   ]
  },
  {
   "cell_type": "markdown",
   "metadata": {},
   "source": [
    "## Mine Test"
   ]
  },
  {
   "cell_type": "code",
   "execution_count": 6,
   "metadata": {},
   "outputs": [],
   "source": [
    "mine_crusher = (0, 0)\n",
    "mine_shaft = (1, 1)\n",
    "PlanetResults=MineRoute(1)"
   ]
  },
  {
   "cell_type": "code",
   "execution_count": 7,
   "metadata": {},
   "outputs": [
    {
     "name": "stdout",
     "output_type": "stream",
     "text": [
      "Route 000: on b'Earth' is      157249.381271999999 meters (   44.996 degrees) from mine to crusher\n",
      "Route 001: on b'Mars' is       83659.830140000005 meters (   44.996 degrees) from mine to crusher\n"
     ]
    }
   ],
   "source": [
    "for i in range(PlanetResults.shape[0]):\n",
    "    print(\"Route %03d: on %-5s is %24.12f meters (%9.3f degrees) from mine to crusher\" % (i, PlanetResults[i][0], float(PlanetResults[i][1]), float(PlanetResults[i][2])))"
   ]
  },
  {
   "cell_type": "code",
   "execution_count": 8,
   "metadata": {},
   "outputs": [
    {
     "name": "stdout",
     "output_type": "stream",
     "text": [
      "The distance ratio b'Earth' to b'Mars' is: 1.87963 times shorter\n"
     ]
    }
   ],
   "source": [
    "if float(PlanetResults[0][1]) > float(PlanetResults[1][1]):\n",
    "    Ratio = float(PlanetResults[0][1])/float(PlanetResults[1][1])\n",
    "    rtype = 'shorter'\n",
    "else:    \n",
    "    Ratio = float(PlanetResults[1][1])/float(PlanetResults[0][1])\n",
    "    rtype = 'longer'\n",
    "\n",
    "print('The distance ratio %s to %s is: %7.5f times %s' % (PlanetResults[0][0], PlanetResults[1][0], Ratio, rtype))"
   ]
  },
  {
   "cell_type": "markdown",
   "metadata": {},
   "source": [
    "## Done"
   ]
  },
  {
   "cell_type": "code",
   "execution_count": 9,
   "metadata": {},
   "outputs": [
    {
     "name": "stdout",
     "output_type": "stream",
     "text": [
      "Done! 2019-10-26 22:09:45.005856\n"
     ]
    }
   ],
   "source": [
    "import datetime\n",
    "now = datetime.datetime.now()\n",
    "print('Done!',str(now))"
   ]
  },
  {
   "cell_type": "code",
   "execution_count": null,
   "metadata": {},
   "outputs": [],
   "source": []
  }
 ],
 "metadata": {
  "kernelspec": {
   "display_name": "Python 3",
   "language": "python",
   "name": "python3"
  },
  "language_info": {
   "codemirror_mode": {
    "name": "ipython",
    "version": 3
   },
   "file_extension": ".py",
   "mimetype": "text/x-python",
   "name": "python",
   "nbconvert_exporter": "python",
   "pygments_lexer": "ipython3",
   "version": "3.7.3"
  }
 },
 "nbformat": 4,
 "nbformat_minor": 2
}
