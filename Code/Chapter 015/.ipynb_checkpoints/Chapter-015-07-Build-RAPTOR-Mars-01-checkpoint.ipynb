{
 "cells": [
  {
   "cell_type": "markdown",
   "metadata": {},
   "source": [
    "## Apress - Industrialized Machine Learning Examples\n",
    "\n",
    "Andreas Francois Vermeulen\n",
    "2019\n",
    "\n",
    "### This is an example add-on to a book and needs to be accepted as part of that copyright."
   ]
  },
  {
   "cell_type": "markdown",
   "metadata": {},
   "source": [
    "# Chapter-015-07-Build-RAPTOR-Mars-01"
   ]
  },
  {
   "cell_type": "code",
   "execution_count": 1,
   "metadata": {},
   "outputs": [],
   "source": [
    "import datetime\n",
    "nowStart = datetime.datetime.now()"
   ]
  },
  {
   "cell_type": "markdown",
   "metadata": {},
   "source": [
    "![RAPTOR-QUBE](../../images/raptorqube/raptorqube-full.bmp)"
   ]
  },
  {
   "cell_type": "code",
   "execution_count": 2,
   "metadata": {},
   "outputs": [],
   "source": [
    "import os\n",
    "import time\n",
    "import shutil\n",
    "import pandas as pd\n",
    "import numpy as np"
   ]
  },
  {
   "cell_type": "code",
   "execution_count": 3,
   "metadata": {},
   "outputs": [],
   "source": [
    "pathDL='../../Results/Chapter 15/999-DL/'\n",
    "pathRIFInName='../../Code/Chapter 015/999-DL/100-Raw-Zone/'\n",
    "pathRIFOutName='../../Results/Chapter 15/999-DL/100-Raw-Zone/'"
   ]
  },
  {
   "cell_type": "code",
   "execution_count": 4,
   "metadata": {},
   "outputs": [],
   "source": [
    "if os.path.exists(pathRIFOutName):\n",
    "    shutil.rmtree(pathRIFOutName)\n",
    "    time.sleep(5)"
   ]
  },
  {
   "cell_type": "code",
   "execution_count": 5,
   "metadata": {},
   "outputs": [],
   "source": [
    "if not os.path.exists(pathRIFOutName):\n",
    "    shutil.copytree(pathRIFInName, pathRIFOutName)"
   ]
  },
  {
   "cell_type": "markdown",
   "metadata": {},
   "source": [
    "![Processor](../../images/Processor.JPG)"
   ]
  },
  {
   "cell_type": "code",
   "execution_count": 6,
   "metadata": {},
   "outputs": [
    {
     "name": "stdout",
     "output_type": "stream",
     "text": [
      "C:\\Users\\AndreVermeulen\\Documents\\My Book\\apress\\Industrialized Machine Learning\\book\\IML\\Results\\Chapter 15\\999-DL\\100-Raw-Zone\n"
     ]
    }
   ],
   "source": [
    "pathRealDLname=os.path.realpath(pathRIFOutName)\n",
    "print(pathRealDLname)"
   ]
  },
  {
   "cell_type": "markdown",
   "metadata": {},
   "source": [
    "## Show RIF directories"
   ]
  },
  {
   "cell_type": "code",
   "execution_count": 7,
   "metadata": {},
   "outputs": [],
   "source": [
    "for root, dirs, files in os.walk(pathRealDLname, topdown=True):\n",
    "    for name in dirs:\n",
    "        print(os.path.join(root, name))"
   ]
  },
  {
   "cell_type": "code",
   "execution_count": 8,
   "metadata": {},
   "outputs": [
    {
     "name": "stdout",
     "output_type": "stream",
     "text": [
      "C:\\Users\\AndreVermeulen\\Documents\\My Book\\apress\\Industrialized Machine Learning\\book\\IML\\Results\\Chapter 15\\999-DL\\100-Raw-Zone\\15-04-Retrieve-Mars-Hopper.csv.gz\n",
      "C:\\Users\\AndreVermeulen\\Documents\\My Book\\apress\\Industrialized Machine Learning\\book\\IML\\Results\\Chapter 15\\999-DL\\100-Raw-Zone\\15-04-Retrieve-Mars-Mines.csv.gz\n",
      "C:\\Users\\AndreVermeulen\\Documents\\My Book\\apress\\Industrialized Machine Learning\\book\\IML\\Results\\Chapter 15\\999-DL\\100-Raw-Zone\\15-04-Retrieve-Mars-Time.csv.gz\n"
     ]
    }
   ],
   "source": [
    "for root, dirs, files in os.walk(pathRealDLname, topdown=True):\n",
    "    for name in files:\n",
    "        print(os.path.join(root, name))"
   ]
  },
  {
   "cell_type": "markdown",
   "metadata": {},
   "source": [
    "![Processor](../../images/Processor.JPG)"
   ]
  },
  {
   "cell_type": "markdown",
   "metadata": {},
   "source": [
    "# Retrieve"
   ]
  },
  {
   "cell_type": "markdown",
   "metadata": {},
   "source": [
    "![RIF Functional Layer - Retrieve Step](../../images/RIF-FL-RET.JPG) ![Raw Zone](../../images/DL-RZ.JPG)"
   ]
  },
  {
   "cell_type": "markdown",
   "metadata": {},
   "source": [
    "### Time, Person, Objects, Location & Event Retrieve Data"
   ]
  },
  {
   "cell_type": "markdown",
   "metadata": {},
   "source": [
    "The mars communication system has delivered the information from mars to your Raw Zone.\n",
    "\n",
    "That system is outside your control.\n",
    "\n",
    "This means you have no processing needed to get the data into the RIF eco-system.\n",
    "\n",
    "### Warning: It also means data can arrive unexpected and in changed format.\n",
    "    \n",
    "    "
   ]
  },
  {
   "cell_type": "markdown",
   "metadata": {},
   "source": [
    "![Processor](../../images/Processor.JPG)"
   ]
  },
  {
   "cell_type": "markdown",
   "metadata": {},
   "source": [
    "# Assess"
   ]
  },
  {
   "cell_type": "markdown",
   "metadata": {},
   "source": [
    "![RIF Functional Layer - Retrieve Step](../../images/RIF-FL-ASS.JPG) ![Raw Zone](../../images/DL-SZ.JPG)"
   ]
  },
  {
   "cell_type": "markdown",
   "metadata": {},
   "source": [
    "### Time"
   ]
  },
  {
   "cell_type": "code",
   "execution_count": 10,
   "metadata": {},
   "outputs": [],
   "source": [
    "retrieveTimeName = os.path.join(pathDL, '100-Raw-Zone', '15-04-Retrieve-Mars-Time.csv.gz')\n",
    "TimeDF=pd.read_csv(retrieveTimeName, header=0, encoding='utf-8', compression='gzip')"
   ]
  },
  {
   "cell_type": "code",
   "execution_count": 11,
   "metadata": {},
   "outputs": [
    {
     "name": "stdout",
     "output_type": "stream",
     "text": [
      "(1440000, 5)\n"
     ]
    }
   ],
   "source": [
    "print(TimeDF.shape)"
   ]
  },
  {
   "cell_type": "code",
   "execution_count": 16,
   "metadata": {},
   "outputs": [],
   "source": [
    "from IPython.core.interactiveshell import InteractiveShell\n",
    "InteractiveShell.ast_node_interactivity = \"all\""
   ]
  },
  {
   "cell_type": "code",
   "execution_count": 17,
   "metadata": {},
   "outputs": [
    {
     "name": "stdout",
     "output_type": "stream",
     "text": [
      "<class 'pandas.core.frame.DataFrame'>\n",
      "RangeIndex: 1440000 entries, 0 to 1439999\n",
      "Data columns (total 5 columns):\n",
      "MinutesSinceLaunch    1440000 non-null int64\n",
      "SecondsSinceLaunch    1440000 non-null int64\n",
      "EarthTime             1440000 non-null float64\n",
      "MarsTime              1440000 non-null float64\n",
      "EarthMarsGap          1440000 non-null float64\n",
      "dtypes: float64(3), int64(2)\n",
      "memory usage: 54.9 MB\n"
     ]
    }
   ],
   "source": [
    "TimeDF.info()"
   ]
  },
  {
   "cell_type": "code",
   "execution_count": 18,
   "metadata": {},
   "outputs": [
    {
     "data": {
      "text/html": [
       "<div>\n",
       "<style scoped>\n",
       "    .dataframe tbody tr th:only-of-type {\n",
       "        vertical-align: middle;\n",
       "    }\n",
       "\n",
       "    .dataframe tbody tr th {\n",
       "        vertical-align: top;\n",
       "    }\n",
       "\n",
       "    .dataframe thead th {\n",
       "        text-align: right;\n",
       "    }\n",
       "</style>\n",
       "<table border=\"1\" class=\"dataframe\">\n",
       "  <thead>\n",
       "    <tr style=\"text-align: right;\">\n",
       "      <th></th>\n",
       "      <th>MinutesSinceLaunch</th>\n",
       "      <th>SecondsSinceLaunch</th>\n",
       "      <th>EarthTime</th>\n",
       "      <th>MarsTime</th>\n",
       "      <th>EarthMarsGap</th>\n",
       "    </tr>\n",
       "  </thead>\n",
       "  <tbody>\n",
       "    <tr>\n",
       "      <th>count</th>\n",
       "      <td>1.440000e+06</td>\n",
       "      <td>1.440000e+06</td>\n",
       "      <td>1.440000e+06</td>\n",
       "      <td>1.440000e+06</td>\n",
       "      <td>1.440000e+06</td>\n",
       "    </tr>\n",
       "    <tr>\n",
       "      <th>mean</th>\n",
       "      <td>7.199995e+05</td>\n",
       "      <td>4.319997e+07</td>\n",
       "      <td>5.003239e+02</td>\n",
       "      <td>4.866231e+02</td>\n",
       "      <td>1.370079e+01</td>\n",
       "    </tr>\n",
       "    <tr>\n",
       "      <th>std</th>\n",
       "      <td>4.156923e+05</td>\n",
       "      <td>2.494154e+07</td>\n",
       "      <td>2.888625e+02</td>\n",
       "      <td>2.809523e+02</td>\n",
       "      <td>7.910162e+00</td>\n",
       "    </tr>\n",
       "    <tr>\n",
       "      <th>min</th>\n",
       "      <td>0.000000e+00</td>\n",
       "      <td>0.000000e+00</td>\n",
       "      <td>0.000000e+00</td>\n",
       "      <td>0.000000e+00</td>\n",
       "      <td>0.000000e+00</td>\n",
       "    </tr>\n",
       "    <tr>\n",
       "      <th>25%</th>\n",
       "      <td>3.599998e+05</td>\n",
       "      <td>2.159998e+07</td>\n",
       "      <td>2.501620e+02</td>\n",
       "      <td>2.433116e+02</td>\n",
       "      <td>6.850394e+00</td>\n",
       "    </tr>\n",
       "    <tr>\n",
       "      <th>50%</th>\n",
       "      <td>7.199995e+05</td>\n",
       "      <td>4.319997e+07</td>\n",
       "      <td>5.003239e+02</td>\n",
       "      <td>4.866231e+02</td>\n",
       "      <td>1.370079e+01</td>\n",
       "    </tr>\n",
       "    <tr>\n",
       "      <th>75%</th>\n",
       "      <td>1.079999e+06</td>\n",
       "      <td>6.479996e+07</td>\n",
       "      <td>7.504859e+02</td>\n",
       "      <td>7.299347e+02</td>\n",
       "      <td>2.055118e+01</td>\n",
       "    </tr>\n",
       "    <tr>\n",
       "      <th>max</th>\n",
       "      <td>1.439999e+06</td>\n",
       "      <td>8.639994e+07</td>\n",
       "      <td>1.000648e+03</td>\n",
       "      <td>9.732463e+02</td>\n",
       "      <td>2.740158e+01</td>\n",
       "    </tr>\n",
       "  </tbody>\n",
       "</table>\n",
       "</div>"
      ],
      "text/plain": [
       "       MinutesSinceLaunch  SecondsSinceLaunch     EarthTime      MarsTime  \\\n",
       "count        1.440000e+06        1.440000e+06  1.440000e+06  1.440000e+06   \n",
       "mean         7.199995e+05        4.319997e+07  5.003239e+02  4.866231e+02   \n",
       "std          4.156923e+05        2.494154e+07  2.888625e+02  2.809523e+02   \n",
       "min          0.000000e+00        0.000000e+00  0.000000e+00  0.000000e+00   \n",
       "25%          3.599998e+05        2.159998e+07  2.501620e+02  2.433116e+02   \n",
       "50%          7.199995e+05        4.319997e+07  5.003239e+02  4.866231e+02   \n",
       "75%          1.079999e+06        6.479996e+07  7.504859e+02  7.299347e+02   \n",
       "max          1.439999e+06        8.639994e+07  1.000648e+03  9.732463e+02   \n",
       "\n",
       "       EarthMarsGap  \n",
       "count  1.440000e+06  \n",
       "mean   1.370079e+01  \n",
       "std    7.910162e+00  \n",
       "min    0.000000e+00  \n",
       "25%    6.850394e+00  \n",
       "50%    1.370079e+01  \n",
       "75%    2.055118e+01  \n",
       "max    2.740158e+01  "
      ]
     },
     "execution_count": 18,
     "metadata": {},
     "output_type": "execute_result"
    }
   ],
   "source": [
    "TimeDF.describe()"
   ]
  },
  {
   "cell_type": "code",
   "execution_count": 20,
   "metadata": {},
   "outputs": [
    {
     "name": "stdout",
     "output_type": "stream",
     "text": [
      "../../Results/Chapter 15/999-DL/200-Structured-Zone\\15-07-Assess-Mars-Time.csv.gz\n"
     ]
    }
   ],
   "source": [
    "assessTimeName = os.path.join(pathDL,'200-Structured-Zone', '15-07-Assess-Mars-Time.csv.gz')\n",
    "TimeDF.to_csv(assessTimeName, index=False, encoding='utf-8', compression='gzip')\n",
    "print(assessTimeName)"
   ]
  },
  {
   "cell_type": "code",
   "execution_count": 23,
   "metadata": {},
   "outputs": [
    {
     "name": "stdout",
     "output_type": "stream",
     "text": [
      "Assess: 1440000 time entries\n"
     ]
    }
   ],
   "source": [
    "print('Assess: %d time entries' % (TimeDF.shape[0]))"
   ]
  },
  {
   "cell_type": "markdown",
   "metadata": {},
   "source": [
    "### Person"
   ]
  },
  {
   "cell_type": "code",
   "execution_count": 24,
   "metadata": {},
   "outputs": [],
   "source": [
    "personDF = pd.DataFrame([\n",
    "    ['Martin','Marsman','Operations Manager'],\n",
    "    ['Angus','Hundfoot','VR Miner'],\n",
    "    ['Jock','Mc Bite','VR Driver']\n",
    "])"
   ]
  },
  {
   "cell_type": "code",
   "execution_count": 25,
   "metadata": {},
   "outputs": [
    {
     "name": "stdout",
     "output_type": "stream",
     "text": [
      "Assess: 3 person entries\n"
     ]
    }
   ],
   "source": [
    "print('Assess: %d person entries' % (personDF.shape[0]))"
   ]
  },
  {
   "cell_type": "code",
   "execution_count": 26,
   "metadata": {},
   "outputs": [],
   "source": [
    "personDF.columns = ['Firstname', 'Lastname', 'Skills']\n",
    "personDF.index.name = 'ID'"
   ]
  },
  {
   "cell_type": "code",
   "execution_count": 28,
   "metadata": {},
   "outputs": [
    {
     "data": {
      "text/html": [
       "<div>\n",
       "<style scoped>\n",
       "    .dataframe tbody tr th:only-of-type {\n",
       "        vertical-align: middle;\n",
       "    }\n",
       "\n",
       "    .dataframe tbody tr th {\n",
       "        vertical-align: top;\n",
       "    }\n",
       "\n",
       "    .dataframe thead th {\n",
       "        text-align: right;\n",
       "    }\n",
       "</style>\n",
       "<table border=\"1\" class=\"dataframe\">\n",
       "  <thead>\n",
       "    <tr style=\"text-align: right;\">\n",
       "      <th></th>\n",
       "      <th>Firstname</th>\n",
       "      <th>Lastname</th>\n",
       "      <th>Skills</th>\n",
       "    </tr>\n",
       "    <tr>\n",
       "      <th>ID</th>\n",
       "      <th></th>\n",
       "      <th></th>\n",
       "      <th></th>\n",
       "    </tr>\n",
       "  </thead>\n",
       "  <tbody>\n",
       "    <tr>\n",
       "      <th>0</th>\n",
       "      <td>Martin</td>\n",
       "      <td>Marsman</td>\n",
       "      <td>Operations Manager</td>\n",
       "    </tr>\n",
       "    <tr>\n",
       "      <th>1</th>\n",
       "      <td>Angus</td>\n",
       "      <td>Hundfoot</td>\n",
       "      <td>VR Miner</td>\n",
       "    </tr>\n",
       "    <tr>\n",
       "      <th>2</th>\n",
       "      <td>Jock</td>\n",
       "      <td>Mc Bite</td>\n",
       "      <td>VR Driver</td>\n",
       "    </tr>\n",
       "  </tbody>\n",
       "</table>\n",
       "</div>"
      ],
      "text/plain": [
       "   Firstname  Lastname              Skills\n",
       "ID                                        \n",
       "0     Martin   Marsman  Operations Manager\n",
       "1      Angus  Hundfoot            VR Miner\n",
       "2       Jock   Mc Bite           VR Driver"
      ]
     },
     "execution_count": 28,
     "metadata": {},
     "output_type": "execute_result"
    }
   ],
   "source": [
    "personDF.head()"
   ]
  },
  {
   "cell_type": "code",
   "execution_count": 29,
   "metadata": {},
   "outputs": [
    {
     "name": "stdout",
     "output_type": "stream",
     "text": [
      "../../Results/Chapter 15/999-DL/200-Structured-Zone\\15-07-Assess-Mars-Person.csv.gz\n"
     ]
    }
   ],
   "source": [
    "assessPersonName = os.path.join(pathDL, '200-Structured-Zone', '15-07-Assess-Mars-Person.csv.gz')\n",
    "personDF.to_csv(assessPersonName, index=False, encoding='utf-8', compression='gzip')\n",
    "print(assessPersonName)"
   ]
  },
  {
   "cell_type": "markdown",
   "metadata": {},
   "source": [
    "### Objects, Events"
   ]
  },
  {
   "cell_type": "code",
   "execution_count": 30,
   "metadata": {},
   "outputs": [],
   "source": [
    "retrieveObjectName = os.path.join(pathDL, '100-Raw-Zone', '15-04-Retrieve-Mars-Hopper.csv.gz')\n",
    "objectDF=pd.read_csv(retrieveObjectName, header=0, encoding='utf-8', compression='gzip')"
   ]
  },
  {
   "cell_type": "code",
   "execution_count": 31,
   "metadata": {},
   "outputs": [
    {
     "name": "stdout",
     "output_type": "stream",
     "text": [
      "Data has 7 columns and 2919739 records\n"
     ]
    }
   ],
   "source": [
    "print('Data has %0d columns and %0d records' % (objectDF.shape[1],objectDF.shape[0]))"
   ]
  },
  {
   "cell_type": "code",
   "execution_count": 33,
   "metadata": {},
   "outputs": [
    {
     "name": "stdout",
     "output_type": "stream",
     "text": [
      "<class 'pandas.core.frame.DataFrame'>\n",
      "RangeIndex: 2919739 entries, 0 to 2919738\n",
      "Data columns (total 7 columns):\n",
      "Time            float64\n",
      "Event           object\n",
      "ObjectHopper    object\n",
      "ObjectOre       object\n",
      "Tonnage         int64\n",
      "LoadBayID       int64\n",
      "WaitTime        float64\n",
      "dtypes: float64(2), int64(2), object(3)\n",
      "memory usage: 155.9+ MB\n"
     ]
    }
   ],
   "source": [
    "objectDF.info()"
   ]
  },
  {
   "cell_type": "code",
   "execution_count": 34,
   "metadata": {},
   "outputs": [
    {
     "data": {
      "text/html": [
       "<div>\n",
       "<style scoped>\n",
       "    .dataframe tbody tr th:only-of-type {\n",
       "        vertical-align: middle;\n",
       "    }\n",
       "\n",
       "    .dataframe tbody tr th {\n",
       "        vertical-align: top;\n",
       "    }\n",
       "\n",
       "    .dataframe thead th {\n",
       "        text-align: right;\n",
       "    }\n",
       "</style>\n",
       "<table border=\"1\" class=\"dataframe\">\n",
       "  <thead>\n",
       "    <tr style=\"text-align: right;\">\n",
       "      <th></th>\n",
       "      <th>Time</th>\n",
       "      <th>Tonnage</th>\n",
       "      <th>LoadBayID</th>\n",
       "      <th>WaitTime</th>\n",
       "    </tr>\n",
       "  </thead>\n",
       "  <tbody>\n",
       "    <tr>\n",
       "      <th>count</th>\n",
       "      <td>2.919739e+06</td>\n",
       "      <td>2.919739e+06</td>\n",
       "      <td>2.919739e+06</td>\n",
       "      <td>2.919739e+06</td>\n",
       "    </tr>\n",
       "    <tr>\n",
       "      <th>mean</th>\n",
       "      <td>1.000863e+07</td>\n",
       "      <td>5.997769e+01</td>\n",
       "      <td>2.501647e+00</td>\n",
       "      <td>1.701870e+01</td>\n",
       "    </tr>\n",
       "    <tr>\n",
       "      <th>std</th>\n",
       "      <td>5.779345e+06</td>\n",
       "      <td>2.339773e+01</td>\n",
       "      <td>1.118402e+00</td>\n",
       "      <td>3.660686e+01</td>\n",
       "    </tr>\n",
       "    <tr>\n",
       "      <th>min</th>\n",
       "      <td>0.000000e+00</td>\n",
       "      <td>2.000000e+01</td>\n",
       "      <td>1.000000e+00</td>\n",
       "      <td>7.933378e-05</td>\n",
       "    </tr>\n",
       "    <tr>\n",
       "      <th>25%</th>\n",
       "      <td>5.003417e+06</td>\n",
       "      <td>4.000000e+01</td>\n",
       "      <td>2.000000e+00</td>\n",
       "      <td>1.000000e-04</td>\n",
       "    </tr>\n",
       "    <tr>\n",
       "      <th>50%</th>\n",
       "      <td>1.000357e+07</td>\n",
       "      <td>6.000000e+01</td>\n",
       "      <td>3.000000e+00</td>\n",
       "      <td>1.000000e-04</td>\n",
       "    </tr>\n",
       "    <tr>\n",
       "      <th>75%</th>\n",
       "      <td>1.501119e+07</td>\n",
       "      <td>8.000000e+01</td>\n",
       "      <td>4.000000e+00</td>\n",
       "      <td>1.680835e+01</td>\n",
       "    </tr>\n",
       "    <tr>\n",
       "      <th>max</th>\n",
       "      <td>2.001915e+07</td>\n",
       "      <td>1.000000e+02</td>\n",
       "      <td>4.000000e+00</td>\n",
       "      <td>6.345246e+02</td>\n",
       "    </tr>\n",
       "  </tbody>\n",
       "</table>\n",
       "</div>"
      ],
      "text/plain": [
       "               Time       Tonnage     LoadBayID      WaitTime\n",
       "count  2.919739e+06  2.919739e+06  2.919739e+06  2.919739e+06\n",
       "mean   1.000863e+07  5.997769e+01  2.501647e+00  1.701870e+01\n",
       "std    5.779345e+06  2.339773e+01  1.118402e+00  3.660686e+01\n",
       "min    0.000000e+00  2.000000e+01  1.000000e+00  7.933378e-05\n",
       "25%    5.003417e+06  4.000000e+01  2.000000e+00  1.000000e-04\n",
       "50%    1.000357e+07  6.000000e+01  3.000000e+00  1.000000e-04\n",
       "75%    1.501119e+07  8.000000e+01  4.000000e+00  1.680835e+01\n",
       "max    2.001915e+07  1.000000e+02  4.000000e+00  6.345246e+02"
      ]
     },
     "execution_count": 34,
     "metadata": {},
     "output_type": "execute_result"
    }
   ],
   "source": [
    "objectDF.describe()"
   ]
  },
  {
   "cell_type": "code",
   "execution_count": 35,
   "metadata": {},
   "outputs": [],
   "source": [
    "from scipy.stats import kurtosis, skew, skewtest\n",
    "x=objectDF['Tonnage']"
   ]
  },
  {
   "cell_type": "code",
   "execution_count": 36,
   "metadata": {},
   "outputs": [
    {
     "name": "stdout",
     "output_type": "stream",
     "text": [
      "Excess kurtosis of normal distribution (should be 0): -1.20104549999\n"
     ]
    }
   ],
   "source": [
    "print( 'Excess kurtosis of normal distribution (should be 0): {}'.format( kurtosis(x) ))"
   ]
  },
  {
   "cell_type": "code",
   "execution_count": 37,
   "metadata": {},
   "outputs": [
    {
     "name": "stdout",
     "output_type": "stream",
     "text": [
      "Skewness of normal distribution (should be 0): 0.00205861819686\n"
     ]
    }
   ],
   "source": [
    "print( 'Skewness of normal distribution (should be 0): {}'.format( skew(x) ))"
   ]
  },
  {
   "cell_type": "code",
   "execution_count": 38,
   "metadata": {},
   "outputs": [
    {
     "name": "stdout",
     "output_type": "stream",
     "text": [
      "Skewtest : SkewtestResult(statistic=1.4360608846207914, pvalue=0.15098501718218116)\n"
     ]
    }
   ],
   "source": [
    "print( 'Skewtest : {}'.format( skewtest(x) ))"
   ]
  },
  {
   "cell_type": "code",
   "execution_count": 39,
   "metadata": {},
   "outputs": [],
   "source": [
    "x=objectDF['WaitTime']"
   ]
  },
  {
   "cell_type": "code",
   "execution_count": 40,
   "metadata": {},
   "outputs": [
    {
     "name": "stdout",
     "output_type": "stream",
     "text": [
      "Excess kurtosis of normal distribution (should be 0): 16.0360871591\n"
     ]
    }
   ],
   "source": [
    "print( 'Excess kurtosis of normal distribution (should be 0): {}'.format( kurtosis(x) ))"
   ]
  },
  {
   "cell_type": "code",
   "execution_count": 41,
   "metadata": {},
   "outputs": [
    {
     "name": "stdout",
     "output_type": "stream",
     "text": [
      "Skewness of normal distribution (should be 0): 3.44171667159\n"
     ]
    }
   ],
   "source": [
    "print( 'Skewness of normal distribution (should be 0): {}'.format( skew(x) ))"
   ]
  },
  {
   "cell_type": "code",
   "execution_count": 42,
   "metadata": {},
   "outputs": [
    {
     "name": "stdout",
     "output_type": "stream",
     "text": [
      "Skewtest : SkewtestResult(statistic=1222.1037617831885, pvalue=0.0)\n"
     ]
    }
   ],
   "source": [
    "print( 'Skewtest : {}'.format( skewtest(x) ))"
   ]
  },
  {
   "cell_type": "code",
   "execution_count": null,
   "metadata": {},
   "outputs": [],
   "source": [
    "import matplotlib.pyplot as plt\n",
    "%matplotlib inline"
   ]
  },
  {
   "cell_type": "code",
   "execution_count": 44,
   "metadata": {},
   "outputs": [],
   "source": [
    "t = np.array(objectDF['Tonnage'])\n",
    "w = np.array(objectDF['WaitTime'])"
   ]
  },
  {
   "cell_type": "code",
   "execution_count": 49,
   "metadata": {},
   "outputs": [
    {
     "data": {
      "image/png": "[encoded data removed]",
      "text/plain": [
       "<Figure size 1152x576 with 2 Axes>"
      ]
     },
     "metadata": {
      "needs_background": "light"
     },
     "output_type": "display_data"
    }
   ],
   "source": [
    "fig=plt.figure(figsize=(16,8))\n",
    "\n",
    "(ax1, ax2) = fig.subplots(1, 2)\n",
    "\n",
    "ax1.hist(t, bins='auto')\n",
    "ax1.set_title('Tonnage')\n",
    "\n",
    "ax2.hist(w, bins='auto')\n",
    "ax2.set_title('Wait Time')\n",
    "\n",
    "plt.tight_layout()\n",
    "plt.show();"
   ]
  },
  {
   "cell_type": "code",
   "execution_count": 55,
   "metadata": {},
   "outputs": [
    {
     "data": {
      "image/png": "[encoded data removed]",
      "text/plain": [
       "<Figure size 1152x576 with 2 Axes>"
      ]
     },
     "metadata": {
      "needs_background": "light"
     },
     "output_type": "display_data"
    }
   ],
   "source": [
    "fig=plt.figure(figsize=(16,8))\n",
    "\n",
    "(ax1, ax2) = fig.subplots(1, 2)\n",
    "ax1.hist(t, bins=20)\n",
    "ax1.set_title('Tonnage (20 bins)')\n",
    "\n",
    "ax2.hist(w, bins=20)\n",
    "ax2.set_title('Wait Time (20 bins)')\n",
    "\n",
    "plt.tight_layout()\n",
    "plt.show();"
   ]
  },
  {
   "cell_type": "code",
   "execution_count": 56,
   "metadata": {},
   "outputs": [
    {
     "data": {
      "image/png": "[encoded data removed]",
      "text/plain": [
       "<Figure size 1152x576 with 2 Axes>"
      ]
     },
     "metadata": {
      "needs_background": "light"
     },
     "output_type": "display_data"
    }
   ],
   "source": [
    "fig=plt.figure(figsize=(16,8))\n",
    "\n",
    "(ax1, ax2) = fig.subplots(1, 2)\n",
    "ax1.hist(t, bins=10)\n",
    "ax1.set_title('Tonnage (10 bins)')\n",
    "\n",
    "ax2.hist(w, bins=10)\n",
    "ax2.set_title('Wait Time (10 bins)')\n",
    "\n",
    "plt.tight_layout()\n",
    "plt.show();"
   ]
  },
  {
   "cell_type": "code",
   "execution_count": 57,
   "metadata": {},
   "outputs": [
    {
     "data": {
      "image/png": "[encoded data removed]",
      "text/plain": [
       "<Figure size 1152x576 with 2 Axes>"
      ]
     },
     "metadata": {
      "needs_background": "light"
     },
     "output_type": "display_data"
    }
   ],
   "source": [
    "fig=plt.figure(figsize=(16,8))\n",
    "\n",
    "(ax1, ax2) = fig.subplots(1, 2)\n",
    "ax1.hist(t, bins=5)\n",
    "ax1.set_title('Tonnage (5 bins)')\n",
    "\n",
    "ax2.hist(w, bins=5)\n",
    "ax2.set_title('Wait Time (5 bins)')\n",
    "\n",
    "plt.tight_layout()\n",
    "plt.show();"
   ]
  },
  {
   "cell_type": "code",
   "execution_count": null,
   "metadata": {},
   "outputs": [],
   "source": [
    "objectDF"
   ]
  },
  {
   "cell_type": "code",
   "execution_count": 58,
   "metadata": {},
   "outputs": [],
   "source": [
    "assessObjectName1 = os.path.join(pathDL,'200-Structured-Zone', '15-07-Assess-Mars-Mine-Delivery.csv.gz')\n",
    "objectDF.to_csv(assessObjectName1, index=False, encoding='utf-8', compression='gzip')"
   ]
  },
  {
   "cell_type": "markdown",
   "metadata": {},
   "source": [
    "### Object - Equipment"
   ]
  },
  {
   "cell_type": "code",
   "execution_count": 59,
   "metadata": {},
   "outputs": [],
   "source": [
    "equipmentDF = pd.DataFrame([\n",
    "    ['T101','Robot','Track Puller Robot'],\n",
    "    ['T102','Robot','Track Puller Robot'],\n",
    "    ['T103','Robot','Track Ruller Robot'],\n",
    "    ['T104','Robot','Track Puller Robot'],\n",
    "    ['T200','Robot','Human-in-Loop Walker Robot'],\n",
    "    ['T300','Robot','6x6 Wheeled Transport Robot'],\n",
    "    ['T400','Robot','Drone Scout Robot']\n",
    "])"
   ]
  },
  {
   "cell_type": "code",
   "execution_count": 60,
   "metadata": {},
   "outputs": [
    {
     "name": "stdout",
     "output_type": "stream",
     "text": [
      "../../Results/Chapter 15/999-DL/200-Structured-Zone\\15-07-Assess-Mars-Robots.csv.gz\n"
     ]
    }
   ],
   "source": [
    "assessObjectName2 = os.path.join(pathDL, '200-Structured-Zone', '15-07-Assess-Mars-Robots.csv.gz')\n",
    "equipmentDF.to_csv(assessObjectName2, index=False, encoding='utf-8', compression='gzip')\n",
    "print(assessObjectName2)"
   ]
  },
  {
   "cell_type": "markdown",
   "metadata": {},
   "source": [
    "### Location"
   ]
  },
  {
   "cell_type": "code",
   "execution_count": 61,
   "metadata": {},
   "outputs": [],
   "source": [
    "retrieveName = os.path.join(pathDL, '100-Raw-Zone', '15-04-Retrieve-Mars-Mines.csv.gz')\n",
    "locationDF=pd.read_csv(retrieveName, header=0, encoding='utf-8', compression='gzip')"
   ]
  },
  {
   "cell_type": "code",
   "execution_count": 62,
   "metadata": {},
   "outputs": [
    {
     "name": "stdout",
     "output_type": "stream",
     "text": [
      "Data has 3 columns and 5 records\n"
     ]
    }
   ],
   "source": [
    "print('Data has %0d columns and %0d records' % (locationDF.shape[1],locationDF.shape[0]))"
   ]
  },
  {
   "cell_type": "code",
   "execution_count": 63,
   "metadata": {},
   "outputs": [
    {
     "name": "stdout",
     "output_type": "stream",
     "text": [
      "<class 'pandas.core.frame.DataFrame'>\n",
      "RangeIndex: 5 entries, 0 to 4\n",
      "Data columns (total 3 columns):\n",
      "MineID       5 non-null int64\n",
      "Longitude    5 non-null int64\n",
      "Latitude     5 non-null int64\n",
      "dtypes: int64(3)\n",
      "memory usage: 192.0 bytes\n"
     ]
    }
   ],
   "source": [
    "locationDF.info()"
   ]
  },
  {
   "cell_type": "code",
   "execution_count": 65,
   "metadata": {},
   "outputs": [
    {
     "data": {
      "text/html": [
       "<div>\n",
       "<style scoped>\n",
       "    .dataframe tbody tr th:only-of-type {\n",
       "        vertical-align: middle;\n",
       "    }\n",
       "\n",
       "    .dataframe tbody tr th {\n",
       "        vertical-align: top;\n",
       "    }\n",
       "\n",
       "    .dataframe thead th {\n",
       "        text-align: right;\n",
       "    }\n",
       "</style>\n",
       "<table border=\"1\" class=\"dataframe\">\n",
       "  <thead>\n",
       "    <tr style=\"text-align: right;\">\n",
       "      <th></th>\n",
       "      <th>MineID</th>\n",
       "      <th>Longitude</th>\n",
       "      <th>Latitude</th>\n",
       "    </tr>\n",
       "  </thead>\n",
       "  <tbody>\n",
       "    <tr>\n",
       "      <th>count</th>\n",
       "      <td>5.000000</td>\n",
       "      <td>5.00000</td>\n",
       "      <td>5.000000</td>\n",
       "    </tr>\n",
       "    <tr>\n",
       "      <th>mean</th>\n",
       "      <td>2.000000</td>\n",
       "      <td>-2.00000</td>\n",
       "      <td>27.400000</td>\n",
       "    </tr>\n",
       "    <tr>\n",
       "      <th>std</th>\n",
       "      <td>1.581139</td>\n",
       "      <td>60.02916</td>\n",
       "      <td>44.410584</td>\n",
       "    </tr>\n",
       "    <tr>\n",
       "      <th>min</th>\n",
       "      <td>0.000000</td>\n",
       "      <td>-88.00000</td>\n",
       "      <td>-27.000000</td>\n",
       "    </tr>\n",
       "    <tr>\n",
       "      <th>25%</th>\n",
       "      <td>1.000000</td>\n",
       "      <td>-19.00000</td>\n",
       "      <td>0.000000</td>\n",
       "    </tr>\n",
       "    <tr>\n",
       "      <th>50%</th>\n",
       "      <td>2.000000</td>\n",
       "      <td>0.00000</td>\n",
       "      <td>19.000000</td>\n",
       "    </tr>\n",
       "    <tr>\n",
       "      <th>75%</th>\n",
       "      <td>3.000000</td>\n",
       "      <td>20.00000</td>\n",
       "      <td>68.000000</td>\n",
       "    </tr>\n",
       "    <tr>\n",
       "      <th>max</th>\n",
       "      <td>4.000000</td>\n",
       "      <td>77.00000</td>\n",
       "      <td>77.000000</td>\n",
       "    </tr>\n",
       "  </tbody>\n",
       "</table>\n",
       "</div>"
      ],
      "text/plain": [
       "         MineID  Longitude   Latitude\n",
       "count  5.000000    5.00000   5.000000\n",
       "mean   2.000000   -2.00000  27.400000\n",
       "std    1.581139   60.02916  44.410584\n",
       "min    0.000000  -88.00000 -27.000000\n",
       "25%    1.000000  -19.00000   0.000000\n",
       "50%    2.000000    0.00000  19.000000\n",
       "75%    3.000000   20.00000  68.000000\n",
       "max    4.000000   77.00000  77.000000"
      ]
     },
     "execution_count": 65,
     "metadata": {},
     "output_type": "execute_result"
    }
   ],
   "source": [
    "locationDF.describe()"
   ]
  },
  {
   "cell_type": "code",
   "execution_count": 66,
   "metadata": {},
   "outputs": [],
   "source": [
    "assessName = os.path.join(pathDL,'200-Structured-Zone', '15-07-Assess-Mars-Mines-Location.csv.gz')\n",
    "locationDF.to_csv(assessName, index=False, encoding='utf-8', compression='gzip')"
   ]
  },
  {
   "cell_type": "markdown",
   "metadata": {},
   "source": [
    "![Processor](../../images/Processor.JPG)"
   ]
  },
  {
   "cell_type": "markdown",
   "metadata": {},
   "source": [
    "# Process"
   ]
  },
  {
   "cell_type": "markdown",
   "metadata": {},
   "source": [
    "![RIF Functional Layer - Process Step](../../images/RIF-FL-PRC.JPG) ![Raw Zone](../../images/DL-CUZ.JPG)"
   ]
  },
  {
   "cell_type": "markdown",
   "metadata": {},
   "source": [
    "![Data Lake Curated Zone](../../images/DV-Time.JPG)"
   ]
  },
  {
   "cell_type": "markdown",
   "metadata": {},
   "source": [
    "# Hub - Time"
   ]
  },
  {
   "cell_type": "code",
   "execution_count": 67,
   "metadata": {},
   "outputs": [],
   "source": [
    "assessTimeName = os.path.join(pathDL, '200-Structured-Zone', '15-07-Assess-Mars-Time.csv.gz')"
   ]
  },
  {
   "cell_type": "code",
   "execution_count": 68,
   "metadata": {},
   "outputs": [],
   "source": [
    "timeDF=pd.read_csv(assessTimeName, header=0, encoding='utf-8', compression='gzip')"
   ]
  },
  {
   "cell_type": "code",
   "execution_count": 69,
   "metadata": {},
   "outputs": [],
   "source": [
    "timeDF.index.name = 'ID'"
   ]
  },
  {
   "cell_type": "code",
   "execution_count": 70,
   "metadata": {},
   "outputs": [
    {
     "name": "stdout",
     "output_type": "stream",
     "text": [
      "<class 'pandas.core.frame.DataFrame'>\n",
      "RangeIndex: 1440000 entries, 0 to 1439999\n",
      "Data columns (total 5 columns):\n",
      "MinutesSinceLaunch    1440000 non-null int64\n",
      "SecondsSinceLaunch    1440000 non-null int64\n",
      "EarthTime             1440000 non-null float64\n",
      "MarsTime              1440000 non-null float64\n",
      "EarthMarsGap          1440000 non-null float64\n",
      "dtypes: float64(3), int64(2)\n",
      "memory usage: 54.9 MB\n",
      "None\n"
     ]
    }
   ],
   "source": [
    "print(timeDF.info())"
   ]
  },
  {
   "cell_type": "code",
   "execution_count": 71,
   "metadata": {},
   "outputs": [
    {
     "name": "stdout",
     "output_type": "stream",
     "text": [
      "    MinutesSinceLaunch  SecondsSinceLaunch  EarthTime  MarsTime  EarthMarsGap\n",
      "ID                                                                           \n",
      "0                    0                   0   0.000000  0.000000      0.000000\n",
      "1                    1                  60   0.000695  0.000676      0.000019\n",
      "2                    2                 120   0.001390  0.001352      0.000038\n",
      "3                    3                 180   0.002085  0.002028      0.000057\n",
      "4                    4                 240   0.002780  0.002703      0.000077\n"
     ]
    }
   ],
   "source": [
    "print(timeDF.head())"
   ]
  },
  {
   "cell_type": "code",
   "execution_count": 72,
   "metadata": {},
   "outputs": [],
   "source": [
    "timeHub=timeDF[['EarthTime','MarsTime']]"
   ]
  },
  {
   "cell_type": "code",
   "execution_count": 73,
   "metadata": {},
   "outputs": [
    {
     "name": "stdout",
     "output_type": "stream",
     "text": [
      "Time data has 2 columns and 1440000 records\n"
     ]
    }
   ],
   "source": [
    "print('Time data has %0d columns and %0d records' % (timeHub.shape[1],timeHub.shape[0]))"
   ]
  },
  {
   "cell_type": "markdown",
   "metadata": {},
   "source": [
    "#### Time - Hub"
   ]
  },
  {
   "cell_type": "code",
   "execution_count": 74,
   "metadata": {},
   "outputs": [],
   "source": [
    "timeFixHub=timeHub.drop_duplicates(subset=None, keep='first', inplace=False)"
   ]
  },
  {
   "cell_type": "code",
   "execution_count": 75,
   "metadata": {},
   "outputs": [
    {
     "name": "stdout",
     "output_type": "stream",
     "text": [
      "Time data has 2 columns and 1440000 records\n"
     ]
    }
   ],
   "source": [
    "print('Time data has %0d columns and %0d records' % (timeFixHub.shape[1],timeFixHub.shape[0]))"
   ]
  },
  {
   "cell_type": "code",
   "execution_count": 76,
   "metadata": {},
   "outputs": [
    {
     "name": "stdout",
     "output_type": "stream",
     "text": [
      "../../Results/Chapter 15/999-DL/300-Curated-Zone\\Hub\\Time\\Hub-Time.csv.gz\n"
     ]
    }
   ],
   "source": [
    "timeHubName = os.path.join(pathDL,'300-Curated-Zone', 'Hub', 'Time', 'Hub-Time.csv.gz')\n",
    "timeFixHub.to_csv(timeHubName, index=False, encoding='utf-8', compression='gzip')\n",
    "print(timeHubName)"
   ]
  },
  {
   "cell_type": "markdown",
   "metadata": {},
   "source": [
    "#### Time - Satellite"
   ]
  },
  {
   "cell_type": "code",
   "execution_count": 77,
   "metadata": {},
   "outputs": [
    {
     "name": "stdout",
     "output_type": "stream",
     "text": [
      "../../Results/Chapter 15/999-DL/300-Curated-Zone\\Satellite\\Time\\Satellite-Time.csv.gz\n"
     ]
    }
   ],
   "source": [
    "timeSatelliteName = os.path.join(pathDL,'300-Curated-Zone', 'Satellite', 'Time', 'Satellite-Time.csv.gz')\n",
    "timeHub.to_csv(timeSatelliteName, index=False, encoding='utf-8', compression='gzip')\n",
    "print(timeSatelliteName)"
   ]
  },
  {
   "cell_type": "markdown",
   "metadata": {},
   "source": [
    "![Data Lake Curated Zone](../../images/DV-Person.JPG)"
   ]
  },
  {
   "cell_type": "markdown",
   "metadata": {},
   "source": [
    "# Hub - Person"
   ]
  },
  {
   "cell_type": "code",
   "execution_count": 78,
   "metadata": {},
   "outputs": [],
   "source": [
    "assessPersonName = os.path.join(pathDL, '200-Structured-Zone', '15-07-Assess-Mars-Person.csv.gz')\n",
    "personDF=pd.read_csv(assessPersonName, header=0, encoding='utf-8', compression='gzip')\n",
    "personDF.index.name = 'ID'"
   ]
  },
  {
   "cell_type": "code",
   "execution_count": 79,
   "metadata": {},
   "outputs": [
    {
     "name": "stdout",
     "output_type": "stream",
     "text": [
      "   Firstname  Lastname              Skills\n",
      "ID                                        \n",
      "0     Martin   Marsman  Operations Manager\n",
      "1      Angus  Hundfoot            VR Miner\n",
      "2       Jock   Mc Bite           VR Driver\n"
     ]
    }
   ],
   "source": [
    "print(personDF.head())"
   ]
  },
  {
   "cell_type": "code",
   "execution_count": 80,
   "metadata": {},
   "outputs": [],
   "source": [
    "personHub=personDF[['Firstname','Lastname']]"
   ]
  },
  {
   "cell_type": "code",
   "execution_count": 81,
   "metadata": {},
   "outputs": [
    {
     "name": "stdout",
     "output_type": "stream",
     "text": [
      "   Firstname  Lastname\n",
      "ID                    \n",
      "0     Martin   Marsman\n",
      "1      Angus  Hundfoot\n",
      "2       Jock   Mc Bite\n"
     ]
    }
   ],
   "source": [
    "print(personHub.head())"
   ]
  },
  {
   "cell_type": "code",
   "execution_count": 82,
   "metadata": {},
   "outputs": [
    {
     "name": "stdout",
     "output_type": "stream",
     "text": [
      "../../Results/Chapter 15/999-DL/300-Curated-Zone\\Hub\\Person\\Hub-Person.csv.gz\n"
     ]
    }
   ],
   "source": [
    "personHubName = os.path.join(pathDL,'300-Curated-Zone', 'Hub', 'Person', 'Hub-Person.csv.gz')\n",
    "personHub.to_csv(personHubName, index=False, encoding='utf-8', compression='gzip')\n",
    "print(personHubName)"
   ]
  },
  {
   "cell_type": "code",
   "execution_count": 83,
   "metadata": {},
   "outputs": [
    {
     "name": "stdout",
     "output_type": "stream",
     "text": [
      "../../Results/Chapter 15/999-DL/300-Curated-Zone\\Satellite\\Person\\Satellite-Person.csv.gz\n"
     ]
    }
   ],
   "source": [
    "personSatelliteName = os.path.join(pathDL,'300-Curated-Zone', 'Satellite', 'Person', 'Satellite-Person.csv.gz')\n",
    "personDF.to_csv(personSatelliteName, index=False, encoding='utf-8', compression='gzip')\n",
    "print(personSatelliteName)"
   ]
  },
  {
   "cell_type": "markdown",
   "metadata": {},
   "source": [
    "![Data Lake Curated Zone](../../images/DV-Object.JPG)"
   ]
  },
  {
   "cell_type": "markdown",
   "metadata": {},
   "source": [
    "# Hub - Object"
   ]
  },
  {
   "cell_type": "code",
   "execution_count": 84,
   "metadata": {},
   "outputs": [],
   "source": [
    "assessObjectName = os.path.join(pathDL, '200-Structured-Zone', '15-07-Assess-Mars-Mine-Delivery.csv.gz')\n",
    "objectDF=pd.read_csv(assessObjectName, header=0, encoding='utf-8', compression='gzip')\n",
    "objectDF.index.name = 'ID'"
   ]
  },
  {
   "cell_type": "code",
   "execution_count": 88,
   "metadata": {},
   "outputs": [
    {
     "data": {
      "text/html": [
       "<div>\n",
       "<style scoped>\n",
       "    .dataframe tbody tr th:only-of-type {\n",
       "        vertical-align: middle;\n",
       "    }\n",
       "\n",
       "    .dataframe tbody tr th {\n",
       "        vertical-align: top;\n",
       "    }\n",
       "\n",
       "    .dataframe thead th {\n",
       "        text-align: right;\n",
       "    }\n",
       "</style>\n",
       "<table border=\"1\" class=\"dataframe\">\n",
       "  <thead>\n",
       "    <tr style=\"text-align: right;\">\n",
       "      <th></th>\n",
       "      <th>Time</th>\n",
       "      <th>Event</th>\n",
       "      <th>ObjectHopper</th>\n",
       "      <th>ObjectOre</th>\n",
       "      <th>Tonnage</th>\n",
       "      <th>LoadBayID</th>\n",
       "      <th>WaitTime</th>\n",
       "    </tr>\n",
       "    <tr>\n",
       "      <th>ID</th>\n",
       "      <th></th>\n",
       "      <th></th>\n",
       "      <th></th>\n",
       "      <th></th>\n",
       "      <th></th>\n",
       "      <th></th>\n",
       "      <th></th>\n",
       "    </tr>\n",
       "  </thead>\n",
       "  <tbody>\n",
       "    <tr>\n",
       "      <th>0</th>\n",
       "      <td>0.000000</td>\n",
       "      <td>Hopper Arrive</td>\n",
       "      <td>Hopper-0001</td>\n",
       "      <td>aluminum</td>\n",
       "      <td>78</td>\n",
       "      <td>1</td>\n",
       "      <td>0.00010</td>\n",
       "    </tr>\n",
       "    <tr>\n",
       "      <th>1</th>\n",
       "      <td>0.000000</td>\n",
       "      <td>Hopper Wait</td>\n",
       "      <td>Hopper-0001</td>\n",
       "      <td>aluminum</td>\n",
       "      <td>78</td>\n",
       "      <td>1</td>\n",
       "      <td>0.00010</td>\n",
       "    </tr>\n",
       "    <tr>\n",
       "      <th>2</th>\n",
       "      <td>11.987496</td>\n",
       "      <td>Hopper Arrive</td>\n",
       "      <td>Hopper-0002</td>\n",
       "      <td>aluminum</td>\n",
       "      <td>64</td>\n",
       "      <td>1</td>\n",
       "      <td>0.00010</td>\n",
       "    </tr>\n",
       "    <tr>\n",
       "      <th>3</th>\n",
       "      <td>11.987496</td>\n",
       "      <td>Hopper Wait</td>\n",
       "      <td>Hopper-0002</td>\n",
       "      <td>aluminum</td>\n",
       "      <td>64</td>\n",
       "      <td>1</td>\n",
       "      <td>0.00010</td>\n",
       "    </tr>\n",
       "    <tr>\n",
       "      <th>4</th>\n",
       "      <td>31.050106</td>\n",
       "      <td>Hopper Load</td>\n",
       "      <td>Hopper-0002</td>\n",
       "      <td>aluminum</td>\n",
       "      <td>64</td>\n",
       "      <td>1</td>\n",
       "      <td>19.06261</td>\n",
       "    </tr>\n",
       "  </tbody>\n",
       "</table>\n",
       "</div>"
      ],
      "text/plain": [
       "         Time          Event ObjectHopper ObjectOre  Tonnage  LoadBayID  \\\n",
       "ID                                                                        \n",
       "0    0.000000  Hopper Arrive  Hopper-0001  aluminum       78          1   \n",
       "1    0.000000    Hopper Wait  Hopper-0001  aluminum       78          1   \n",
       "2   11.987496  Hopper Arrive  Hopper-0002  aluminum       64          1   \n",
       "3   11.987496    Hopper Wait  Hopper-0002  aluminum       64          1   \n",
       "4   31.050106    Hopper Load  Hopper-0002  aluminum       64          1   \n",
       "\n",
       "    WaitTime  \n",
       "ID            \n",
       "0    0.00010  \n",
       "1    0.00010  \n",
       "2    0.00010  \n",
       "3    0.00010  \n",
       "4   19.06261  "
      ]
     },
     "execution_count": 88,
     "metadata": {},
     "output_type": "execute_result"
    }
   ],
   "source": [
    "objectDF.head()"
   ]
  },
  {
   "cell_type": "code",
   "execution_count": 90,
   "metadata": {},
   "outputs": [],
   "source": [
    "object1Hub=objectDF[['ObjectHopper']].copy(deep=True)\n",
    "object1Hub.columns=['ObjectName']\n",
    "object1Hub['ObjectType'] = 'MarsHopper'\n",
    "object1FixHub=object1Hub.drop_duplicates(subset=None, keep='first', inplace=False)"
   ]
  },
  {
   "cell_type": "code",
   "execution_count": 91,
   "metadata": {},
   "outputs": [
    {
     "name": "stdout",
     "output_type": "stream",
     "text": [
      "     ObjectName  ObjectType\n",
      "ID                         \n",
      "0   Hopper-0001  MarsHopper\n",
      "2   Hopper-0002  MarsHopper\n",
      "6   Hopper-0003  MarsHopper\n",
      "8   Hopper-0004  MarsHopper\n",
      "10  Hopper-0005  MarsHopper\n",
      "13  Hopper-0006  MarsHopper\n",
      "15  Hopper-0007  MarsHopper\n",
      "19  Hopper-0008  MarsHopper\n",
      "22  Hopper-0009  MarsHopper\n",
      "25  Hopper-0010  MarsHopper\n"
     ]
    }
   ],
   "source": [
    "print(object1FixHub.head(10))"
   ]
  },
  {
   "cell_type": "code",
   "execution_count": 93,
   "metadata": {},
   "outputs": [],
   "source": [
    "object2Hub=objectDF[['ObjectOre']].copy(deep=True)\n",
    "object2Hub.columns=['ObjectName']\n",
    "object2Hub['ObjectType'] = 'Ore'\n",
    "object2FixHub=object2Hub.drop_duplicates(subset=None, keep='first', inplace=False)"
   ]
  },
  {
   "cell_type": "code",
   "execution_count": 94,
   "metadata": {},
   "outputs": [
    {
     "name": "stdout",
     "output_type": "stream",
     "text": [
      "   ObjectName ObjectType\n",
      "ID                      \n",
      "0    aluminum        Ore\n",
      "6   magnesium        Ore\n",
      "13    calcium        Ore\n",
      "15    silicon        Ore\n",
      "28       iron        Ore\n",
      "49  potassium        Ore\n"
     ]
    }
   ],
   "source": [
    "print(object2FixHub.head(10))"
   ]
  },
  {
   "cell_type": "code",
   "execution_count": 96,
   "metadata": {},
   "outputs": [],
   "source": [
    "object3Hub=objectDF[['LoadBayID']].copy(deep=True)\n",
    "object3Hub.columns=['ObjectName']\n",
    "object3Hub['ObjectType'] = 'LoadBay'\n",
    "object3FixHub=object3Hub.drop_duplicates(subset=None, keep='first', inplace=False)"
   ]
  },
  {
   "cell_type": "code",
   "execution_count": 97,
   "metadata": {},
   "outputs": [
    {
     "name": "stdout",
     "output_type": "stream",
     "text": [
      "    ObjectName ObjectType\n",
      "ID                       \n",
      "0            1    LoadBay\n",
      "6            4    LoadBay\n",
      "10           2    LoadBay\n",
      "15           3    LoadBay\n"
     ]
    }
   ],
   "source": [
    "print(object3FixHub.head(10))"
   ]
  },
  {
   "cell_type": "code",
   "execution_count": 98,
   "metadata": {},
   "outputs": [],
   "source": [
    "objectFix0Hub = object1FixHub.append(object2FixHub, sort=False)\n",
    "objectFixHub = objectFix0Hub.append(object3FixHub, sort=False)"
   ]
  },
  {
   "cell_type": "code",
   "execution_count": 99,
   "metadata": {},
   "outputs": [
    {
     "name": "stdout",
     "output_type": "stream",
     "text": [
      "     ObjectName  ObjectType\n",
      "ID                         \n",
      "0   Hopper-0001  MarsHopper\n",
      "2   Hopper-0002  MarsHopper\n",
      "6   Hopper-0003  MarsHopper\n",
      "8   Hopper-0004  MarsHopper\n",
      "10  Hopper-0005  MarsHopper\n",
      "13  Hopper-0006  MarsHopper\n",
      "15  Hopper-0007  MarsHopper\n",
      "19  Hopper-0008  MarsHopper\n",
      "22  Hopper-0009  MarsHopper\n",
      "25  Hopper-0010  MarsHopper\n",
      "             ObjectName  ObjectType\n",
      "ID                                 \n",
      "2919704   Hopper-999991  MarsHopper\n",
      "2919709   Hopper-999992  MarsHopper\n",
      "2919711   Hopper-999993  MarsHopper\n",
      "2919715   Hopper-999994  MarsHopper\n",
      "2919720   Hopper-999995  MarsHopper\n",
      "2919722   Hopper-999996  MarsHopper\n",
      "2919725   Hopper-999997  MarsHopper\n",
      "2919728   Hopper-999998  MarsHopper\n",
      "2919731   Hopper-999999  MarsHopper\n",
      "2919733  Hopper-1000000  MarsHopper\n",
      "0              aluminum         Ore\n",
      "6             magnesium         Ore\n",
      "13              calcium         Ore\n",
      "15              silicon         Ore\n",
      "28                 iron         Ore\n",
      "49            potassium         Ore\n",
      "0                     1     LoadBay\n",
      "6                     4     LoadBay\n",
      "10                    2     LoadBay\n",
      "15                    3     LoadBay\n"
     ]
    }
   ],
   "source": [
    "print(objectFixHub.head(10))\n",
    "print(objectFixHub.tail(20))"
   ]
  },
  {
   "cell_type": "code",
   "execution_count": 100,
   "metadata": {},
   "outputs": [
    {
     "name": "stdout",
     "output_type": "stream",
     "text": [
      "../../Results/Chapter 15/999-DL/300-Curated-Zone\\Hub\\Object\\Hub-Object.csv.gz\n"
     ]
    }
   ],
   "source": [
    "objectHubName = os.path.join(pathDL,'300-Curated-Zone', 'Hub', 'Object', 'Hub-Object.csv.gz')\n",
    "objectFixHub.to_csv(objectHubName, index=False, encoding='utf-8', compression='gzip')\n",
    "print(objectHubName)"
   ]
  },
  {
   "cell_type": "code",
   "execution_count": 101,
   "metadata": {},
   "outputs": [
    {
     "name": "stdout",
     "output_type": "stream",
     "text": [
      "../../Results/Chapter 15/999-DL/300-Curated-Zone\\Satellite\\Object\\Satellite-Object-MarsHopper.csv.gz\n"
     ]
    }
   ],
   "source": [
    "object1SatelliteName = os.path.join(pathDL,'300-Curated-Zone', 'Satellite', 'Object', 'Satellite-Object-MarsHopper.csv.gz')\n",
    "object1FixHub.to_csv(object1SatelliteName, index=False, encoding='utf-8', compression='gzip')\n",
    "print(object1SatelliteName)"
   ]
  },
  {
   "cell_type": "code",
   "execution_count": 102,
   "metadata": {},
   "outputs": [
    {
     "name": "stdout",
     "output_type": "stream",
     "text": [
      "../../Results/Chapter 15/999-DL/300-Curated-Zone\\Satellite\\Object\\Satellite-Object-Ore.csv.gz\n"
     ]
    }
   ],
   "source": [
    "object2SatelliteName = os.path.join(pathDL,'300-Curated-Zone', 'Satellite', 'Object', 'Satellite-Object-Ore.csv.gz')\n",
    "object2FixHub.to_csv(object2SatelliteName, index=False, encoding='utf-8', compression='gzip')\n",
    "print(object2SatelliteName)"
   ]
  },
  {
   "cell_type": "code",
   "execution_count": 103,
   "metadata": {},
   "outputs": [
    {
     "name": "stdout",
     "output_type": "stream",
     "text": [
      "../../Results/Chapter 15/999-DL/300-Curated-Zone\\Satellite\\Object\\Satellite-Object-LoadBay.csv.gz\n"
     ]
    }
   ],
   "source": [
    "object3SatelliteName = os.path.join(pathDL,'300-Curated-Zone', 'Satellite', 'Object', 'Satellite-Object-LoadBay.csv.gz')\n",
    "object3FixHub.to_csv(object3SatelliteName, index=False, encoding='utf-8', compression='gzip')\n",
    "print(object3SatelliteName)"
   ]
  },
  {
   "cell_type": "code",
   "execution_count": 104,
   "metadata": {},
   "outputs": [],
   "source": [
    "object1Link=objectDF[['ObjectHopper','ObjectOre','LoadBayID','Tonnage']].copy(deep=True)"
   ]
  },
  {
   "cell_type": "code",
   "execution_count": 105,
   "metadata": {},
   "outputs": [
    {
     "name": "stdout",
     "output_type": "stream",
     "text": [
      "   ObjectHopper ObjectOre  LoadBayID  Tonnage\n",
      "ID                                           \n",
      "0   Hopper-0001  aluminum          1       78\n",
      "1   Hopper-0001  aluminum          1       78\n",
      "2   Hopper-0002  aluminum          1       64\n",
      "3   Hopper-0002  aluminum          1       64\n",
      "4   Hopper-0002  aluminum          1       64\n"
     ]
    }
   ],
   "source": [
    "print(object1Link.head())"
   ]
  },
  {
   "cell_type": "code",
   "execution_count": 106,
   "metadata": {},
   "outputs": [],
   "source": [
    "object1Link.reset_index(level=0, inplace=True)"
   ]
  },
  {
   "cell_type": "code",
   "execution_count": 107,
   "metadata": {},
   "outputs": [
    {
     "name": "stdout",
     "output_type": "stream",
     "text": [
      "   ID ObjectHopper ObjectOre  LoadBayID  Tonnage\n",
      "0   0  Hopper-0001  aluminum          1       78\n",
      "1   1  Hopper-0001  aluminum          1       78\n",
      "2   2  Hopper-0002  aluminum          1       64\n",
      "3   3  Hopper-0002  aluminum          1       64\n",
      "4   4  Hopper-0002  aluminum          1       64\n"
     ]
    }
   ],
   "source": [
    "print(object1Link.head())"
   ]
  },
  {
   "cell_type": "code",
   "execution_count": 108,
   "metadata": {},
   "outputs": [
    {
     "name": "stdout",
     "output_type": "stream",
     "text": [
      "../../Results/Chapter 15/999-DL/300-Curated-Zone\\Link\\Object-Object\\Link-Object-LoadBay-MarsHopper-Ore.csv.gz\n"
     ]
    }
   ],
   "source": [
    "object1LinkName = os.path.join(pathDL,'300-Curated-Zone', 'Link', 'Object-Object', 'Link-Object-LoadBay-MarsHopper-Ore.csv.gz')\n",
    "object1Link.to_csv(object1LinkName, index=False, encoding='utf-8', compression='gzip')\n",
    "print(object1LinkName)"
   ]
  },
  {
   "cell_type": "markdown",
   "metadata": {},
   "source": [
    "![Data Lake Curated Zone](../../images/DV-Location.JPG)"
   ]
  },
  {
   "cell_type": "markdown",
   "metadata": {},
   "source": [
    "# Hub - Location"
   ]
  },
  {
   "cell_type": "code",
   "execution_count": 109,
   "metadata": {},
   "outputs": [],
   "source": [
    "assessLocationName = os.path.join(pathDL, '200-Structured-Zone', '15-07-Assess-Mars-Mines-Location.csv.gz')\n",
    "locationDF=pd.read_csv(assessLocationName, header=0, encoding='utf-8', compression='gzip')\n",
    "locationDF.index.name = 'ID'"
   ]
  },
  {
   "cell_type": "code",
   "execution_count": 112,
   "metadata": {},
   "outputs": [
    {
     "data": {
      "text/html": [
       "<div>\n",
       "<style scoped>\n",
       "    .dataframe tbody tr th:only-of-type {\n",
       "        vertical-align: middle;\n",
       "    }\n",
       "\n",
       "    .dataframe tbody tr th {\n",
       "        vertical-align: top;\n",
       "    }\n",
       "\n",
       "    .dataframe thead th {\n",
       "        text-align: right;\n",
       "    }\n",
       "</style>\n",
       "<table border=\"1\" class=\"dataframe\">\n",
       "  <thead>\n",
       "    <tr style=\"text-align: right;\">\n",
       "      <th></th>\n",
       "      <th>MineID</th>\n",
       "      <th>Longitude</th>\n",
       "      <th>Latitude</th>\n",
       "    </tr>\n",
       "    <tr>\n",
       "      <th>ID</th>\n",
       "      <th></th>\n",
       "      <th></th>\n",
       "      <th></th>\n",
       "    </tr>\n",
       "  </thead>\n",
       "  <tbody>\n",
       "    <tr>\n",
       "      <th>0</th>\n",
       "      <td>0</td>\n",
       "      <td>0</td>\n",
       "      <td>0</td>\n",
       "    </tr>\n",
       "    <tr>\n",
       "      <th>1</th>\n",
       "      <td>1</td>\n",
       "      <td>-88</td>\n",
       "      <td>-27</td>\n",
       "    </tr>\n",
       "    <tr>\n",
       "      <th>2</th>\n",
       "      <td>2</td>\n",
       "      <td>77</td>\n",
       "      <td>77</td>\n",
       "    </tr>\n",
       "    <tr>\n",
       "      <th>3</th>\n",
       "      <td>3</td>\n",
       "      <td>-19</td>\n",
       "      <td>68</td>\n",
       "    </tr>\n",
       "    <tr>\n",
       "      <th>4</th>\n",
       "      <td>4</td>\n",
       "      <td>20</td>\n",
       "      <td>19</td>\n",
       "    </tr>\n",
       "  </tbody>\n",
       "</table>\n",
       "</div>"
      ],
      "text/plain": [
       "    MineID  Longitude  Latitude\n",
       "ID                             \n",
       "0        0          0         0\n",
       "1        1        -88       -27\n",
       "2        2         77        77\n",
       "3        3        -19        68\n",
       "4        4         20        19"
      ]
     },
     "execution_count": 112,
     "metadata": {},
     "output_type": "execute_result"
    }
   ],
   "source": [
    "locationDF.head()"
   ]
  },
  {
   "cell_type": "code",
   "execution_count": 113,
   "metadata": {},
   "outputs": [],
   "source": [
    "LongitudeDF=pd.DataFrame(np.array(range(-180,180)))\n",
    "LongitudeDF.columns=['Longitude']\n",
    "LongitudeDF['Key']='1'"
   ]
  },
  {
   "cell_type": "code",
   "execution_count": 114,
   "metadata": {},
   "outputs": [],
   "source": [
    "LatitudeDF=pd.DataFrame(np.array(range(-90,90)))\n",
    "LatitudeDF.columns=['Latitude']\n",
    "LatitudeDF['Key']='1'"
   ]
  },
  {
   "cell_type": "code",
   "execution_count": 115,
   "metadata": {},
   "outputs": [],
   "source": [
    "locationHub=pd.merge(left=LongitudeDF, right=LatitudeDF, on= \"Key\", how= \"outer\")\n",
    "locationHub.drop('Key', axis=1, inplace=True)\n",
    "locationHub.index.name = 'ID'"
   ]
  },
  {
   "cell_type": "code",
   "execution_count": 116,
   "metadata": {},
   "outputs": [
    {
     "data": {
      "text/html": [
       "<div>\n",
       "<style scoped>\n",
       "    .dataframe tbody tr th:only-of-type {\n",
       "        vertical-align: middle;\n",
       "    }\n",
       "\n",
       "    .dataframe tbody tr th {\n",
       "        vertical-align: top;\n",
       "    }\n",
       "\n",
       "    .dataframe thead th {\n",
       "        text-align: right;\n",
       "    }\n",
       "</style>\n",
       "<table border=\"1\" class=\"dataframe\">\n",
       "  <thead>\n",
       "    <tr style=\"text-align: right;\">\n",
       "      <th></th>\n",
       "      <th>Longitude</th>\n",
       "      <th>Latitude</th>\n",
       "    </tr>\n",
       "    <tr>\n",
       "      <th>ID</th>\n",
       "      <th></th>\n",
       "      <th></th>\n",
       "    </tr>\n",
       "  </thead>\n",
       "  <tbody>\n",
       "    <tr>\n",
       "      <th>0</th>\n",
       "      <td>-180</td>\n",
       "      <td>-90</td>\n",
       "    </tr>\n",
       "    <tr>\n",
       "      <th>1</th>\n",
       "      <td>-180</td>\n",
       "      <td>-89</td>\n",
       "    </tr>\n",
       "    <tr>\n",
       "      <th>2</th>\n",
       "      <td>-180</td>\n",
       "      <td>-88</td>\n",
       "    </tr>\n",
       "    <tr>\n",
       "      <th>3</th>\n",
       "      <td>-180</td>\n",
       "      <td>-87</td>\n",
       "    </tr>\n",
       "    <tr>\n",
       "      <th>4</th>\n",
       "      <td>-180</td>\n",
       "      <td>-86</td>\n",
       "    </tr>\n",
       "  </tbody>\n",
       "</table>\n",
       "</div>"
      ],
      "text/plain": [
       "    Longitude  Latitude\n",
       "ID                     \n",
       "0        -180       -90\n",
       "1        -180       -89\n",
       "2        -180       -88\n",
       "3        -180       -87\n",
       "4        -180       -86"
      ]
     },
     "execution_count": 116,
     "metadata": {},
     "output_type": "execute_result"
    }
   ],
   "source": [
    "locationHub.head()"
   ]
  },
  {
   "cell_type": "code",
   "execution_count": 117,
   "metadata": {},
   "outputs": [
    {
     "name": "stdout",
     "output_type": "stream",
     "text": [
      "../../Results/Chapter 15/999-DL/300-Curated-Zone\\Hub\\Location\\Hub-Location.csv.gz\n"
     ]
    }
   ],
   "source": [
    "locationHubName = os.path.join(pathDL,'300-Curated-Zone', 'Hub', 'Location', 'Hub-Location.csv.gz')\n",
    "locationHub.to_csv(locationHubName, index=False, encoding='utf-8', compression='gzip')\n",
    "print(locationHubName)"
   ]
  },
  {
   "cell_type": "code",
   "execution_count": 118,
   "metadata": {},
   "outputs": [
    {
     "name": "stdout",
     "output_type": "stream",
     "text": [
      "../../Results/Chapter 15/999-DL/300-Curated-Zone\\Satellite\\Location\\Satellite-Location-MarsMine.csv.gz\n"
     ]
    }
   ],
   "source": [
    "locationSatelliteName = os.path.join(pathDL,'300-Curated-Zone', 'Satellite', 'Location', 'Satellite-Location-MarsMine.csv.gz')\n",
    "locationDF.to_csv(locationSatelliteName, index=False, encoding='utf-8', compression='gzip')\n",
    "print(locationSatelliteName)"
   ]
  },
  {
   "cell_type": "markdown",
   "metadata": {},
   "source": [
    "![Data Lake Curated Zone](../../images/DV-Event.JPG)"
   ]
  },
  {
   "cell_type": "markdown",
   "metadata": {},
   "source": [
    "# Hub - Event"
   ]
  },
  {
   "cell_type": "code",
   "execution_count": 119,
   "metadata": {},
   "outputs": [],
   "source": [
    "eventHub=objectDF[['Event']].copy(deep=True)\n",
    "eventHub.columns=['EventName']\n",
    "eventFixHub=eventHub.drop_duplicates(subset=None, keep='first', inplace=False)"
   ]
  },
  {
   "cell_type": "code",
   "execution_count": 120,
   "metadata": {},
   "outputs": [
    {
     "name": "stdout",
     "output_type": "stream",
     "text": [
      "Event data has 1 columns and 4 records\n"
     ]
    }
   ],
   "source": [
    "print('Event data has %0d columns and %0d records' % (eventFixHub.shape[1],eventFixHub.shape[0]))"
   ]
  },
  {
   "cell_type": "code",
   "execution_count": 121,
   "metadata": {},
   "outputs": [
    {
     "name": "stdout",
     "output_type": "stream",
     "text": [
      "../../Results/Chapter 15/999-DL/300-Curated-Zone\\Hub\\Event\\Hub-Event.csv.gz\n"
     ]
    }
   ],
   "source": [
    "eventHubName = os.path.join(pathDL,'300-Curated-Zone', 'Hub', 'Event', 'Hub-Event.csv.gz')\n",
    "eventHub.to_csv(eventHubName, index=False, encoding='utf-8', compression='gzip')\n",
    "print(eventHubName)"
   ]
  },
  {
   "cell_type": "markdown",
   "metadata": {},
   "source": [
    "![Processor](../../images/Processor.JPG)"
   ]
  },
  {
   "cell_type": "markdown",
   "metadata": {},
   "source": [
    "![RIF Functional Layer - Transform Step](../../images/RIF-FL-TRF.JPG) ![Raw Zone](../../images/DL-CUZ.JPG)"
   ]
  },
  {
   "cell_type": "markdown",
   "metadata": {},
   "source": [
    "# Transform Steps in other Notebook\n",
    "### Moved there to make natural break with this Notebook\n",
    "### See: Chapter-015-08-Build-RAPTOR-Mars-02"
   ]
  },
  {
   "cell_type": "markdown",
   "metadata": {},
   "source": [
    "![Processor](../../images/Processor.JPG)"
   ]
  },
  {
   "cell_type": "markdown",
   "metadata": {},
   "source": [
    "![RIF Functional Layer - Organise Step](../../images/RIF-FL-ORG.JPG) ![Curated Zone](../../images/DL-CUZ.JPG)"
   ]
  },
  {
   "cell_type": "markdown",
   "metadata": {},
   "source": [
    "# Organize Steps in other Note Book\n",
    "### Moved there to make natural break with this Notebook\n",
    "### See: Chapter-015-09-Build-RAPTOR-Mars-03"
   ]
  },
  {
   "cell_type": "markdown",
   "metadata": {},
   "source": [
    "![Processor](../../images/Processor.JPG)"
   ]
  },
  {
   "cell_type": "markdown",
   "metadata": {},
   "source": [
    "![RIF Functional Layer - Report Step](../../images/RIF-FL-RPT.JPG) ![Curated Zone](../../images/DL-CUZ.JPG)"
   ]
  },
  {
   "cell_type": "markdown",
   "metadata": {},
   "source": [
    "# Report Steps in other Note Book\n",
    "### Moved there to make natural break with this Notebook"
   ]
  },
  {
   "cell_type": "markdown",
   "metadata": {},
   "source": [
    "![Processor](../../images/Processor.JPG) ![Processor](../../images/Processor.JPG)"
   ]
  },
  {
   "cell_type": "markdown",
   "metadata": {},
   "source": [
    "# Notebook Results"
   ]
  },
  {
   "cell_type": "markdown",
   "metadata": {},
   "source": [
    "![Raw Zone](../../images/DL-RZ.JPG)"
   ]
  },
  {
   "cell_type": "code",
   "execution_count": 122,
   "metadata": {},
   "outputs": [
    {
     "name": "stdout",
     "output_type": "stream",
     "text": [
      "../../Results/Chapter 15/999-DL/100-Raw-Zone/15-04-Retrieve-Mars-Hopper.csv.gz\n",
      "../../Results/Chapter 15/999-DL/100-Raw-Zone/15-04-Retrieve-Mars-Mines.csv.gz\n",
      "../../Results/Chapter 15/999-DL/100-Raw-Zone/15-04-Retrieve-Mars-Time.csv.gz\n"
     ]
    }
   ],
   "source": [
    "pathReportname= '../../Results/Chapter 15/999-DL/100-Raw-Zone/'\n",
    "for root, dirs, files in os.walk(pathReportname, topdown=True):\n",
    "    for name in files:\n",
    "        print(os.path.join(root, name))"
   ]
  },
  {
   "cell_type": "markdown",
   "metadata": {},
   "source": [
    "![Raw Zone](../../images/DL-SZ.JPG)"
   ]
  },
  {
   "cell_type": "code",
   "execution_count": 123,
   "metadata": {},
   "outputs": [
    {
     "name": "stdout",
     "output_type": "stream",
     "text": [
      "../../Results/Chapter 15/999-DL/200-Structured-Zone/15-07-Assess-Mars-Mine-Delivery.csv.gz\n",
      "../../Results/Chapter 15/999-DL/200-Structured-Zone/15-07-Assess-Mars-Mines-Location.csv.gz\n",
      "../../Results/Chapter 15/999-DL/200-Structured-Zone/15-07-Assess-Mars-Person.csv.gz\n",
      "../../Results/Chapter 15/999-DL/200-Structured-Zone/15-07-Assess-Mars-Robots.csv.gz\n",
      "../../Results/Chapter 15/999-DL/200-Structured-Zone/15-07-Assess-Mars-Time.csv.gz\n"
     ]
    }
   ],
   "source": [
    "pathReportname= '../../Results/Chapter 15/999-DL/200-Structured-Zone/'\n",
    "for root, dirs, files in os.walk(pathReportname, topdown=True):\n",
    "    for name in files:\n",
    "        print(os.path.join(root, name))"
   ]
  },
  {
   "cell_type": "markdown",
   "metadata": {},
   "source": [
    "![Raw Zone](../../images/DL-CUZ.JPG)"
   ]
  },
  {
   "cell_type": "code",
   "execution_count": 124,
   "metadata": {},
   "outputs": [
    {
     "name": "stdout",
     "output_type": "stream",
     "text": [
      "../../Results/Chapter 15/999-DL/300-Curated-Zone/Hub/Event\\Hub-Event.csv.gz\n",
      "../../Results/Chapter 15/999-DL/300-Curated-Zone/Hub/Location\\Hub-Location.csv.gz\n",
      "../../Results/Chapter 15/999-DL/300-Curated-Zone/Hub/Object\\Hub-Object.csv.gz\n",
      "../../Results/Chapter 15/999-DL/300-Curated-Zone/Hub/Person\\Hub-Person.csv.gz\n",
      "../../Results/Chapter 15/999-DL/300-Curated-Zone/Hub/Time\\Hub-Time.csv.gz\n"
     ]
    }
   ],
   "source": [
    "pathReportname= '../../Results/Chapter 15/999-DL/300-Curated-Zone/Hub/'\n",
    "for root, dirs, files in os.walk(pathReportname, topdown=True):\n",
    "    for name in files:\n",
    "        print(os.path.join(root, name))"
   ]
  },
  {
   "cell_type": "markdown",
   "metadata": {},
   "source": [
    "# Process Done"
   ]
  },
  {
   "cell_type": "code",
   "execution_count": 125,
   "metadata": {},
   "outputs": [
    {
     "name": "stdout",
     "output_type": "stream",
     "text": [
      "('Start:', '2019-05-04 20:30:11')\n",
      "('Stop: ', '2019-05-04 21:23:18')\n",
      "('Time: ', datetime.timedelta(0, 3186, 560000))\n"
     ]
    }
   ],
   "source": [
    "nowStop = datetime.datetime.now()\n",
    "runTime=nowStop-nowStart\n",
    "print('Start:', nowStart.strftime('%Y-%m-%d %H:%M:%S'))\n",
    "print('Stop: ', nowStop.strftime('%Y-%m-%d %H:%M:%S'))\n",
    "print('Time: ', runTime)"
   ]
  },
  {
   "cell_type": "code",
   "execution_count": null,
   "metadata": {},
   "outputs": [],
   "source": []
  }
 ],
 "metadata": {
  "kernelspec": {
   "display_name": "Python 3",
   "language": "python",
   "name": "python3"
  },
  "language_info": {
   "codemirror_mode": {
    "name": "ipython",
    "version": 3
   },
   "file_extension": ".py",
   "mimetype": "text/x-python",
   "name": "python",
   "nbconvert_exporter": "python",
   "pygments_lexer": "ipython3",
   "version": "3.7.3"
  }
 },
 "nbformat": 4,
 "nbformat_minor": 2
}
