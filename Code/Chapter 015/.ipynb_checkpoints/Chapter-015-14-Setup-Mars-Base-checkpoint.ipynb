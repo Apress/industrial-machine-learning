{
 "cells": [
  {
   "cell_type": "markdown",
   "metadata": {},
   "source": [
    "## Apress - Industrialized Machine Learning Examples\n",
    "\n",
    "Andreas Francois Vermeulen\n",
    "2019\n",
    "\n",
    "### This is an example add-on to a book and needs to be accepted as part of that copyright."
   ]
  },
  {
   "cell_type": "markdown",
   "metadata": {},
   "source": [
    "# Chapter-015-14-Setup-Mars-Base"
   ]
  },
  {
   "cell_type": "markdown",
   "metadata": {},
   "source": [
    "![Mars Project](../../images/space-mining.jpg)"
   ]
  },
  {
   "cell_type": "markdown",
   "metadata": {},
   "source": [
    "### Requirements\n",
    "Mars has abundant to mine and can been ship back to earth:\n",
    "Silicon, hydrogen, oxygen, iron, magnesium, manganese, aluminum, calcium, gold, silver, nickel, titanium, platinum and copper are ready for mining.\n",
    "\n",
    "#### You're Costs:\n",
    "A mining spaceport is £100 000-00 and can only support 25 miners and 250 transports. \n",
    "It needs two rockets to get to mars.\n",
    "A rocket costs £ 20 000-00 per trip and a trip to mars takes between 150-300 days. \n",
    "Each rocket are only capable to send four pieces of mining equipment per rocket.\n",
    "An ore miner is £ 150 000-00 and costs £ 5000-00 per day to run. \n",
    "It can mine 1000 pound per day.\n",
    "An ore transport is £ 50 000-00 and costs £ 3500-00 per day to run. \n",
    "It travels 100 miles per day, carries 250 pounds per trip and loads/offloads in 10 minutes.\n",
    "Hydrogen and oxygen extractors are £ 10 000-00 each and costs £ 1500-00 per day to run. \n",
    "A extractor produces 500 pounds of hydrogen or oxygen per day.\n",
    "Each piece of mining equipment uses 200 pounds of hydrogen and 100 pounds of oxygen per day for power.\n",
    "3D printing plant can use 1000 pounds of silicon to print extra miner, 750 pounds for an ore transport, 300 pounds for extractor and 5000 per rocket. \n",
    "A new 3D printing plant takes 15 days and 7500 pounds of silicon.\n",
    "It takes 5 days to make a miner, 3 days for an ore transport, a day for extractor.\n",
    "3D printing uses 400 pounds of hydrogen and 300 pounds of oxygen per day.\n",
    "\n",
    "You are only funded to maximum of £ 1 000 000-00.\n",
    "\n",
    "During return flight each rocket can only carry 500 000 pounds of ore and uses 6000 pounds of hydrogen and 2000 pounds of oxygen per day.\n",
    "\n",
    "You must return 20% profit to your shareholders per year.\n",
    "\n",
    "#### You're Income:\n",
    "Current Trading prices for 1000 pounds of ore on delivery to earth:\n",
    "Silicon(£1300), iron (£80), magnesium(£5000), manganese (£40), aluminum(£800), calcium(£220), gold(£1200), silver(£15), nickel(£1500), titanium(£30000), platinum(£870) and copper (£2500). \n"
   ]
  },
  {
   "cell_type": "code",
   "execution_count": 3,
   "metadata": {},
   "outputs": [],
   "source": [
    "import datetime\n",
    "nowStart = datetime.datetime.now()\n",
    "import time"
   ]
  },
  {
   "cell_type": "markdown",
   "metadata": {},
   "source": [
    "\n",
    "## Creates the basic Rapid Information Factory and Six Zone Data lake"
   ]
  },
  {
   "cell_type": "markdown",
   "metadata": {},
   "source": [
    "![RIF plus Data Lake](../../images/RIF-Core.JPG)"
   ]
  },
  {
   "cell_type": "code",
   "execution_count": 2,
   "metadata": {},
   "outputs": [],
   "source": [
    "import os\n",
    "import time\n",
    "import shutil"
   ]
  },
  {
   "cell_type": "markdown",
   "metadata": {},
   "source": [
    "# Create Rapid Information Factory"
   ]
  },
  {
   "cell_type": "code",
   "execution_count": 3,
   "metadata": {},
   "outputs": [],
   "source": [
    "pathRIFname='../../Results/Chapter 15/014-RIF/'"
   ]
  },
  {
   "cell_type": "code",
   "execution_count": 4,
   "metadata": {},
   "outputs": [],
   "source": [
    "if os.path.exists(pathRIFname):\n",
    "    shutil.rmtree(pathRIFname)\n",
    "time.sleep(5)\n",
    "#os.makedirs(pathRIFname)"
   ]
  },
  {
   "cell_type": "markdown",
   "metadata": {},
   "source": [
    "# Copy Basic Rapid Information Factory"
   ]
  },
  {
   "cell_type": "code",
   "execution_count": 5,
   "metadata": {},
   "outputs": [],
   "source": [
    "pathRIFInName='../../Code/Chapter 015/014-RIF/'\n",
    "pathRIFOutName='../../Results/Chapter 15/014-RIF/'"
   ]
  },
  {
   "cell_type": "code",
   "execution_count": 6,
   "metadata": {},
   "outputs": [
    {
     "name": "stdout",
     "output_type": "stream",
     "text": [
      "../../Code/Chapter 015/010-RIF/\n"
     ]
    }
   ],
   "source": [
    "if not os.path.exists(pathRIFOutName):\n",
    "    shutil.copytree(pathRIFInName, pathRIFOutName)\n",
    "    print(pathRIFInName)"
   ]
  },
  {
   "cell_type": "markdown",
   "metadata": {},
   "source": [
    "# Create Functional Layer"
   ]
  },
  {
   "cell_type": "markdown",
   "metadata": {},
   "source": [
    "![RIF Functional Layer](../../images/RIF-FL.JPG)"
   ]
  },
  {
   "cell_type": "code",
   "execution_count": 7,
   "metadata": {},
   "outputs": [],
   "source": [
    "dirLayerpath='100-Functional-Layer'\n",
    "dirname = os.path.join(pathRIFname, dirLayerpath)\n",
    "if not os.path.exists(dirname):\n",
    "    os.makedirs(dirname)"
   ]
  },
  {
   "cell_type": "markdown",
   "metadata": {},
   "source": [
    "# Create Functional Layer - Retrieve Step"
   ]
  },
  {
   "cell_type": "markdown",
   "metadata": {},
   "source": [
    "![RIF Functional Layer - Retrieve Step](../../images/RIF-FL-RET.JPG)"
   ]
  },
  {
   "cell_type": "code",
   "execution_count": 8,
   "metadata": {},
   "outputs": [],
   "source": [
    "dirpath='100-Retrieve'\n",
    "dirname = os.path.join(pathRIFname, dirLayerpath, dirpath)\n",
    "if not os.path.exists(dirname):\n",
    "    os.makedirs(dirname)"
   ]
  },
  {
   "cell_type": "markdown",
   "metadata": {},
   "source": [
    "# Create Functional Layer - Assess Step"
   ]
  },
  {
   "cell_type": "markdown",
   "metadata": {},
   "source": [
    "![RIF Functional Layer - Assess Step](../../images/RIF-FL-ASS.JPG)"
   ]
  },
  {
   "cell_type": "code",
   "execution_count": 9,
   "metadata": {},
   "outputs": [],
   "source": [
    "dirpath='200-Assess'\n",
    "dirname = os.path.join(pathRIFname, dirLayerpath, dirpath)\n",
    "if not os.path.exists(dirname):\n",
    "    os.makedirs(dirname)"
   ]
  },
  {
   "cell_type": "markdown",
   "metadata": {},
   "source": [
    "# Create Functional Layer - Process Step"
   ]
  },
  {
   "cell_type": "markdown",
   "metadata": {},
   "source": [
    "![RIF Functional Layer - Process Step](../../images/RIF-FL-PRC.JPG)"
   ]
  },
  {
   "cell_type": "code",
   "execution_count": 10,
   "metadata": {},
   "outputs": [],
   "source": [
    "dirpath='300-Process'\n",
    "dirname = os.path.join(pathRIFname, dirLayerpath, dirpath)\n",
    "if not os.path.exists(dirname):\n",
    "    os.makedirs(dirname)"
   ]
  },
  {
   "cell_type": "markdown",
   "metadata": {},
   "source": [
    "# Create Functional Layer - Transform Step"
   ]
  },
  {
   "cell_type": "markdown",
   "metadata": {},
   "source": [
    "![RIF Functional Layer - Transform Step](../../images/RIF-FL-TRF.JPG)"
   ]
  },
  {
   "cell_type": "code",
   "execution_count": 11,
   "metadata": {},
   "outputs": [],
   "source": [
    "dirpath='400-Transform'\n",
    "dirname = os.path.join(pathRIFname, dirLayerpath, dirpath)\n",
    "if not os.path.exists(dirname):\n",
    "    os.makedirs(dirname)"
   ]
  },
  {
   "cell_type": "markdown",
   "metadata": {},
   "source": [
    "# Create Functional Layer - Organize Step"
   ]
  },
  {
   "cell_type": "markdown",
   "metadata": {},
   "source": [
    "![RIF Functional Layer - Organise](../../images/RIF-FL-ORG.JPG)"
   ]
  },
  {
   "cell_type": "code",
   "execution_count": 12,
   "metadata": {},
   "outputs": [],
   "source": [
    "dirpath='500-Organize'\n",
    "dirname = os.path.join(pathRIFname, dirLayerpath, dirpath)\n",
    "if not os.path.exists(dirname):\n",
    "    os.makedirs(dirname)"
   ]
  },
  {
   "cell_type": "markdown",
   "metadata": {},
   "source": [
    "# Create Functional Layer - Report Step"
   ]
  },
  {
   "cell_type": "markdown",
   "metadata": {},
   "source": [
    "![RIF Functional Layer](../../images/RIF-FL-RPT.JPG)"
   ]
  },
  {
   "cell_type": "code",
   "execution_count": 13,
   "metadata": {},
   "outputs": [],
   "source": [
    "dirpath='600-Report'\n",
    "dirname = os.path.join(pathRIFname, dirLayerpath, dirpath)\n",
    "if not os.path.exists(dirname):\n",
    "    os.makedirs(dirname)"
   ]
  },
  {
   "cell_type": "markdown",
   "metadata": {},
   "source": [
    "# Create Operational Management Layer"
   ]
  },
  {
   "cell_type": "markdown",
   "metadata": {},
   "source": [
    "![RIF OML Layer](../../images/RIF-OML.JPG)"
   ]
  },
  {
   "cell_type": "code",
   "execution_count": 14,
   "metadata": {},
   "outputs": [],
   "source": [
    "dirLayerpath='200-Operational-Management-Layer'\n",
    "dirname = os.path.join(pathRIFname, dirLayerpath)\n",
    "if not os.path.exists(dirname):\n",
    "    os.makedirs(dirname)"
   ]
  },
  {
   "cell_type": "markdown",
   "metadata": {},
   "source": [
    "# Audit, Balance and Control Layer"
   ]
  },
  {
   "cell_type": "markdown",
   "metadata": {},
   "source": [
    "![RIF ABC Layer](../../images/RIF-ABC.JPG)"
   ]
  },
  {
   "cell_type": "code",
   "execution_count": 15,
   "metadata": {},
   "outputs": [],
   "source": [
    "dirLayerpath='300-Audit-Balance-Control-Layer'\n",
    "dirname = os.path.join(pathRIFname, dirLayerpath)\n",
    "if not os.path.exists(dirname):\n",
    "    os.makedirs(dirname)"
   ]
  },
  {
   "cell_type": "code",
   "execution_count": 16,
   "metadata": {},
   "outputs": [],
   "source": [
    "dirsubLayerpath='100-Audit'\n",
    "dirname = os.path.join(pathRIFname, dirLayerpath, dirsubLayerpath)\n",
    "if not os.path.exists(dirname):\n",
    "    os.makedirs(dirname)"
   ]
  },
  {
   "cell_type": "code",
   "execution_count": 17,
   "metadata": {},
   "outputs": [],
   "source": [
    "dirsubLayerpath='200-Balance'\n",
    "dirname = os.path.join(pathRIFname, dirLayerpath, dirsubLayerpath)\n",
    "if not os.path.exists(dirname):\n",
    "    os.makedirs(dirname)"
   ]
  },
  {
   "cell_type": "code",
   "execution_count": 18,
   "metadata": {},
   "outputs": [],
   "source": [
    "dirsubLayerpath='300-Control'\n",
    "dirname = os.path.join(pathRIFname, dirLayerpath, dirsubLayerpath)\n",
    "if not os.path.exists(dirname):\n",
    "    os.makedirs(dirname)"
   ]
  },
  {
   "cell_type": "markdown",
   "metadata": {},
   "source": [
    "# Utility Layer"
   ]
  },
  {
   "cell_type": "markdown",
   "metadata": {},
   "source": [
    "![RIF Utility Layer](../../images/RIF-UL.JPG)"
   ]
  },
  {
   "cell_type": "code",
   "execution_count": 19,
   "metadata": {},
   "outputs": [],
   "source": [
    "dirLayerpath='400-Utility-Layer'\n",
    "dirname = os.path.join(pathRIFname, dirLayerpath)\n",
    "if not os.path.exists(dirname):\n",
    "    os.makedirs(dirname)"
   ]
  },
  {
   "cell_type": "markdown",
   "metadata": {},
   "source": [
    "## Utility Layer - Maintenance Utilities"
   ]
  },
  {
   "cell_type": "code",
   "execution_count": 20,
   "metadata": {},
   "outputs": [],
   "source": [
    "dirpath='100-Maintenance-Utilities'\n",
    "dirname = os.path.join(pathRIFname, dirLayerpath, dirpath)\n",
    "if not os.path.exists(dirname):\n",
    "    os.makedirs(dirname)"
   ]
  },
  {
   "cell_type": "markdown",
   "metadata": {},
   "source": [
    "## Utility Layer - Data Utilities"
   ]
  },
  {
   "cell_type": "code",
   "execution_count": 21,
   "metadata": {},
   "outputs": [],
   "source": [
    "dirpath='200-Data-Utilities'\n",
    "dirname = os.path.join(pathRIFname, dirLayerpath, dirpath)\n",
    "if not os.path.exists(dirname):\n",
    "    os.makedirs(dirname)"
   ]
  },
  {
   "cell_type": "markdown",
   "metadata": {},
   "source": [
    "## Utility Layer - Processing Utilities"
   ]
  },
  {
   "cell_type": "code",
   "execution_count": 22,
   "metadata": {},
   "outputs": [],
   "source": [
    "dirpath='300-Processing Utilities'\n",
    "dirname = os.path.join(pathRIFname, dirLayerpath, dirpath)\n",
    "if not os.path.exists(dirname):\n",
    "    os.makedirs(dirname)"
   ]
  },
  {
   "cell_type": "markdown",
   "metadata": {},
   "source": [
    "# Business Layer"
   ]
  },
  {
   "cell_type": "markdown",
   "metadata": {},
   "source": [
    "![RIF Business Layer](../../images/RIF-BL.JPG)"
   ]
  },
  {
   "cell_type": "code",
   "execution_count": 23,
   "metadata": {},
   "outputs": [],
   "source": [
    "dirLayerpath='500-Business-Layer'\n",
    "dirname = os.path.join(pathRIFname, dirLayerpath)\n",
    "if not os.path.exists(dirname):\n",
    "    os.makedirs(dirname)"
   ]
  },
  {
   "cell_type": "markdown",
   "metadata": {},
   "source": [
    "## Business Layer - Functional Requirements"
   ]
  },
  {
   "cell_type": "code",
   "execution_count": 24,
   "metadata": {},
   "outputs": [],
   "source": [
    "dirpath='100-Functional-Requirements'\n",
    "dirname = os.path.join(pathRIFname, dirLayerpath, dirpath)\n",
    "if not os.path.exists(dirname):\n",
    "    os.makedirs(dirname)"
   ]
  },
  {
   "cell_type": "markdown",
   "metadata": {},
   "source": [
    "## Business Layer - Non-functional Requirements"
   ]
  },
  {
   "cell_type": "code",
   "execution_count": 25,
   "metadata": {},
   "outputs": [],
   "source": [
    "dirpath='200-Non-functional-Requirements'\n",
    "dirname = os.path.join(pathRIFname, dirLayerpath, dirpath)\n",
    "if not os.path.exists(dirname):\n",
    "    os.makedirs(dirname)"
   ]
  },
  {
   "cell_type": "markdown",
   "metadata": {},
   "source": [
    "## Business Layer - Data Profiles"
   ]
  },
  {
   "cell_type": "code",
   "execution_count": 26,
   "metadata": {},
   "outputs": [],
   "source": [
    "dirpath='300-Data-Profiles'\n",
    "dirname = os.path.join(pathRIFname, dirLayerpath, dirpath)\n",
    "if not os.path.exists(dirname):\n",
    "    os.makedirs(dirname)"
   ]
  },
  {
   "cell_type": "markdown",
   "metadata": {},
   "source": [
    "## Business Layer - Sun Models"
   ]
  },
  {
   "cell_type": "code",
   "execution_count": 27,
   "metadata": {},
   "outputs": [],
   "source": [
    "dirpath='400-Sun-Models'\n",
    "dirname = os.path.join(pathRIFname, dirLayerpath, dirpath)\n",
    "if not os.path.exists(dirname):\n",
    "    os.makedirs(dirname)"
   ]
  },
  {
   "cell_type": "markdown",
   "metadata": {},
   "source": [
    "# Create Six Zone Data Lake"
   ]
  },
  {
   "cell_type": "markdown",
   "metadata": {},
   "source": [
    "![Data Lake](../../images/DataLake.JPG)"
   ]
  },
  {
   "cell_type": "code",
   "execution_count": 28,
   "metadata": {},
   "outputs": [],
   "source": [
    "pathDLname='../../Results/Chapter 15/014-DL/'"
   ]
  },
  {
   "cell_type": "code",
   "execution_count": 29,
   "metadata": {},
   "outputs": [],
   "source": [
    "if os.path.exists(pathDLname):\n",
    "    shutil.rmtree(pathDLname)\n",
    "    time.sleep(0.5)\n",
    "    #os.makedirs(pathDLname)"
   ]
  },
  {
   "cell_type": "markdown",
   "metadata": {},
   "source": [
    "# Copy Basic Rapid Information Factory"
   ]
  },
  {
   "cell_type": "code",
   "execution_count": 30,
   "metadata": {},
   "outputs": [
    {
     "name": "stdout",
     "output_type": "stream",
     "text": [
      "../../code/Chapter 015/999-DL/\n"
     ]
    }
   ],
   "source": [
    "pathDLInName='../../code/Chapter 015/014-DL/'\n",
    "pathDLOutName='../../Results/Chapter 15/014-DL/'\n",
    "if not os.path.exists(pathDLOutName):\n",
    "    shutil.copytree(pathDLInName, pathDLOutName)\n",
    "    print(pathDLInName)"
   ]
  },
  {
   "cell_type": "markdown",
   "metadata": {},
   "source": [
    "# Create Workspace Zone"
   ]
  },
  {
   "cell_type": "markdown",
   "metadata": {},
   "source": [
    "![Data Lake Workspace Zone](../../images/DL-WSZ.JPG)"
   ]
  },
  {
   "cell_type": "code",
   "execution_count": 31,
   "metadata": {},
   "outputs": [],
   "source": [
    "dirpath='000-Workspace-Zone'\n",
    "dirname = os.path.join(pathDLname, dirpath)\n",
    "if not os.path.exists(dirname):\n",
    "    os.makedirs(dirname)"
   ]
  },
  {
   "cell_type": "markdown",
   "metadata": {},
   "source": [
    "# Create Raw Zone"
   ]
  },
  {
   "cell_type": "markdown",
   "metadata": {},
   "source": [
    "![Data Lake Raw Zone](../../images/DL-RZ.JPG)"
   ]
  },
  {
   "cell_type": "code",
   "execution_count": 32,
   "metadata": {},
   "outputs": [],
   "source": [
    "dirpath='100-Raw-Zone'\n",
    "dirname = os.path.join(pathDLname, dirpath)\n",
    "if not os.path.exists(dirname):\n",
    "    os.makedirs(dirname)"
   ]
  },
  {
   "cell_type": "markdown",
   "metadata": {},
   "source": [
    "# Create Structured Zone"
   ]
  },
  {
   "cell_type": "markdown",
   "metadata": {},
   "source": [
    "![Data Lake Structured Zone](../../images/DL-SZ.JPG)"
   ]
  },
  {
   "cell_type": "code",
   "execution_count": 33,
   "metadata": {},
   "outputs": [],
   "source": [
    "dirpath='200-Structured-Zone'\n",
    "dirname = os.path.join(pathDLname, dirpath)\n",
    "if not os.path.exists(dirname):\n",
    "    os.makedirs(dirname)"
   ]
  },
  {
   "cell_type": "markdown",
   "metadata": {},
   "source": [
    "# Create Curated Zone"
   ]
  },
  {
   "cell_type": "markdown",
   "metadata": {},
   "source": [
    "![Data Lake Curated Zone](../../images/DL-CUZ.JPG)"
   ]
  },
  {
   "cell_type": "code",
   "execution_count": 34,
   "metadata": {},
   "outputs": [
    {
     "name": "stdout",
     "output_type": "stream",
     "text": [
      "../../Results/Chapter 15/999-DL/300-Curated-Zone\n"
     ]
    }
   ],
   "source": [
    "dirpath='300-Curated-Zone'\n",
    "dirname = os.path.join(pathDLname, dirpath)\n",
    "if not os.path.exists(dirname):\n",
    "    os.makedirs(dirname)\n",
    "print(dirname)"
   ]
  },
  {
   "cell_type": "markdown",
   "metadata": {},
   "source": [
    "# Create Curated Zone - TPOLE Structure"
   ]
  },
  {
   "cell_type": "markdown",
   "metadata": {},
   "source": [
    "![Data Lake Curated Zone](../../images/TPOLE.JPG)"
   ]
  },
  {
   "cell_type": "code",
   "execution_count": 35,
   "metadata": {},
   "outputs": [],
   "source": [
    "DV=['Hub','Satellite','Link']\n",
    "TPOLE=['Time','Person','Object','Location','Event']"
   ]
  },
  {
   "cell_type": "code",
   "execution_count": 36,
   "metadata": {},
   "outputs": [
    {
     "name": "stdout",
     "output_type": "stream",
     "text": [
      "../../Results/Chapter 15/999-DL/300-Curated-Zone\\Hub\\Time\n",
      "../../Results/Chapter 15/999-DL/300-Curated-Zone\\Hub\\Person\n",
      "../../Results/Chapter 15/999-DL/300-Curated-Zone\\Hub\\Object\n",
      "../../Results/Chapter 15/999-DL/300-Curated-Zone\\Hub\\Location\n",
      "../../Results/Chapter 15/999-DL/300-Curated-Zone\\Hub\\Event\n",
      "../../Results/Chapter 15/999-DL/300-Curated-Zone\\Satellite\\Time\n",
      "../../Results/Chapter 15/999-DL/300-Curated-Zone\\Satellite\\Person\n",
      "../../Results/Chapter 15/999-DL/300-Curated-Zone\\Satellite\\Object\n",
      "../../Results/Chapter 15/999-DL/300-Curated-Zone\\Satellite\\Location\n",
      "../../Results/Chapter 15/999-DL/300-Curated-Zone\\Satellite\\Event\n",
      "../../Results/Chapter 15/999-DL/300-Curated-Zone\\Link\\Time-Time\n",
      "../../Results/Chapter 15/999-DL/300-Curated-Zone\\Link\\Time-Person\n",
      "../../Results/Chapter 15/999-DL/300-Curated-Zone\\Link\\Time-Object\n",
      "../../Results/Chapter 15/999-DL/300-Curated-Zone\\Link\\Time-Location\n",
      "../../Results/Chapter 15/999-DL/300-Curated-Zone\\Link\\Time-Event\n",
      "../../Results/Chapter 15/999-DL/300-Curated-Zone\\Link\\Person-Time\n",
      "../../Results/Chapter 15/999-DL/300-Curated-Zone\\Link\\Person-Person\n",
      "../../Results/Chapter 15/999-DL/300-Curated-Zone\\Link\\Person-Object\n",
      "../../Results/Chapter 15/999-DL/300-Curated-Zone\\Link\\Person-Location\n",
      "../../Results/Chapter 15/999-DL/300-Curated-Zone\\Link\\Person-Event\n",
      "../../Results/Chapter 15/999-DL/300-Curated-Zone\\Link\\Object-Time\n",
      "../../Results/Chapter 15/999-DL/300-Curated-Zone\\Link\\Object-Person\n",
      "../../Results/Chapter 15/999-DL/300-Curated-Zone\\Link\\Object-Object\n",
      "../../Results/Chapter 15/999-DL/300-Curated-Zone\\Link\\Object-Location\n",
      "../../Results/Chapter 15/999-DL/300-Curated-Zone\\Link\\Object-Event\n",
      "../../Results/Chapter 15/999-DL/300-Curated-Zone\\Link\\Location-Time\n",
      "../../Results/Chapter 15/999-DL/300-Curated-Zone\\Link\\Location-Person\n",
      "../../Results/Chapter 15/999-DL/300-Curated-Zone\\Link\\Location-Object\n",
      "../../Results/Chapter 15/999-DL/300-Curated-Zone\\Link\\Location-Location\n",
      "../../Results/Chapter 15/999-DL/300-Curated-Zone\\Link\\Location-Event\n",
      "../../Results/Chapter 15/999-DL/300-Curated-Zone\\Link\\Event-Time\n",
      "../../Results/Chapter 15/999-DL/300-Curated-Zone\\Link\\Event-Person\n",
      "../../Results/Chapter 15/999-DL/300-Curated-Zone\\Link\\Event-Object\n",
      "../../Results/Chapter 15/999-DL/300-Curated-Zone\\Link\\Event-Location\n",
      "../../Results/Chapter 15/999-DL/300-Curated-Zone\\Link\\Event-Event\n"
     ]
    }
   ],
   "source": [
    "for dvpath in DV:    \n",
    "    if dvpath == 'Link':        \n",
    "        for hubpath1 in TPOLE:\n",
    "            for hubpath2 in TPOLE:\n",
    "                hubpath = hubpath1 + '-' + hubpath2\n",
    "                dirname = os.path.join(pathDLname, dirpath, dvpath, hubpath)\n",
    "                if not os.path.exists(dirname):\n",
    "                    os.makedirs(dirname)\n",
    "                    print(dirname)\n",
    "    else:\n",
    "        for hubpath in TPOLE:\n",
    "            dirname = os.path.join(pathDLname, dirpath, dvpath, hubpath)\n",
    "            if not os.path.exists(dirname):\n",
    "                os.makedirs(dirname)\n",
    "                print(dirname)"
   ]
  },
  {
   "cell_type": "markdown",
   "metadata": {},
   "source": [
    "# Create Consumer Zone"
   ]
  },
  {
   "cell_type": "markdown",
   "metadata": {},
   "source": [
    "![Data Lake Consumer Zone](../../images/DL-COZ.JPG)"
   ]
  },
  {
   "cell_type": "code",
   "execution_count": 37,
   "metadata": {},
   "outputs": [],
   "source": [
    "dirpath='400-Consumer-Zone'\n",
    "dirname = os.path.join(pathDLname, dirpath)\n",
    "if not os.path.exists(dirname):\n",
    "    os.makedirs(dirname)"
   ]
  },
  {
   "cell_type": "markdown",
   "metadata": {},
   "source": [
    "# Create Analytics Zone"
   ]
  },
  {
   "cell_type": "markdown",
   "metadata": {},
   "source": [
    "![Data Lake Analytics Zone](../../images/DL-AZ.JPG)"
   ]
  },
  {
   "cell_type": "code",
   "execution_count": 38,
   "metadata": {},
   "outputs": [],
   "source": [
    "dirpath='500-Analytics-Zone'\n",
    "dirname = os.path.join(pathDLname, dirpath)\n",
    "if not os.path.exists(dirname):\n",
    "    os.makedirs(dirname)"
   ]
  },
  {
   "cell_type": "markdown",
   "metadata": {},
   "source": [
    "# Clear Checkpoints"
   ]
  },
  {
   "cell_type": "markdown",
   "metadata": {},
   "source": [
    "![Trash Bin](../../images/TrashBin.JPG)"
   ]
  },
  {
   "cell_type": "code",
   "execution_count": 39,
   "metadata": {},
   "outputs": [],
   "source": [
    "pathRIFname='../../Results/Chapter 09/010-RIF/'\n",
    "for root, dirs, files in os.walk(pathRIFname, topdown=True):\n",
    "    for name in dirs:\n",
    "        fullDir=os.path.join(root, name)\n",
    "        #print(fullDir)\n",
    "        if name=='.ipynb_checkpoints':\n",
    "            print('Remove:', fullDir)\n",
    "            if os.path.exists(fullDir):\n",
    "                shutil.rmtree(fullDir)\n",
    "            time.sleep(0.1)"
   ]
  },
  {
   "cell_type": "markdown",
   "metadata": {},
   "source": [
    "# Show Rapid Information Factory (RIF)"
   ]
  },
  {
   "cell_type": "markdown",
   "metadata": {},
   "source": [
    "![RIF](../../images/RAPTOR.JPG)"
   ]
  },
  {
   "cell_type": "markdown",
   "metadata": {},
   "source": [
    "## Show RIF directories"
   ]
  },
  {
   "cell_type": "code",
   "execution_count": 40,
   "metadata": {},
   "outputs": [
    {
     "name": "stdout",
     "output_type": "stream",
     "text": [
      "../../Results/Chapter 15/010-RIF/100-Functional-Layer\n",
      "../../Results/Chapter 15/010-RIF/200-Operational-Management-Layer\n",
      "../../Results/Chapter 15/010-RIF/300-Audit-Balance-Control-Layer\n",
      "../../Results/Chapter 15/010-RIF/400-Utility-Layer\n",
      "../../Results/Chapter 15/010-RIF/500-Business-Layer\n",
      "../../Results/Chapter 15/010-RIF/100-Functional-Layer\\100-Retrieve\n",
      "../../Results/Chapter 15/010-RIF/100-Functional-Layer\\200-Assess\n",
      "../../Results/Chapter 15/010-RIF/100-Functional-Layer\\300-Process\n",
      "../../Results/Chapter 15/010-RIF/100-Functional-Layer\\400-Transform\n",
      "../../Results/Chapter 15/010-RIF/100-Functional-Layer\\500-Organize\n",
      "../../Results/Chapter 15/010-RIF/100-Functional-Layer\\600-Raport\n",
      "../../Results/Chapter 15/010-RIF/300-Audit-Balance-Control-Layer\\100-Audit\n",
      "../../Results/Chapter 15/010-RIF/300-Audit-Balance-Control-Layer\\200-Balance\n",
      "../../Results/Chapter 15/010-RIF/300-Audit-Balance-Control-Layer\\300-Control\n",
      "../../Results/Chapter 15/010-RIF/400-Utility-Layer\\100-Maintenance-Utilities\n",
      "../../Results/Chapter 15/010-RIF/400-Utility-Layer\\200-Data-Utilities\n",
      "../../Results/Chapter 15/010-RIF/400-Utility-Layer\\300-Processing Utilities\n",
      "../../Results/Chapter 15/010-RIF/500-Business-Layer\\100-Functional-Requirements\n",
      "../../Results/Chapter 15/010-RIF/500-Business-Layer\\200-Non-functional-Requirements\n",
      "../../Results/Chapter 15/010-RIF/500-Business-Layer\\300-Data-Profiles\n",
      "../../Results/Chapter 15/010-RIF/500-Business-Layer\\400-Sun-Models\n"
     ]
    }
   ],
   "source": [
    "pathRIFname='../../Results/Chapter 15/014-RIF/'\n",
    "for root, dirs, files in os.walk(pathRIFname, topdown=True):\n",
    "    for name in dirs:\n",
    "        print(os.path.join(root, name))"
   ]
  },
  {
   "cell_type": "markdown",
   "metadata": {},
   "source": [
    "## Show RIF files"
   ]
  },
  {
   "cell_type": "code",
   "execution_count": 41,
   "metadata": {},
   "outputs": [],
   "source": [
    "for root, dirs, files in os.walk(pathRIFname, topdown=True):\n",
    "    for name in files:\n",
    "        print(os.path.join(root, name))"
   ]
  },
  {
   "cell_type": "markdown",
   "metadata": {},
   "source": [
    "# Show Data Lake"
   ]
  },
  {
   "cell_type": "markdown",
   "metadata": {},
   "source": [
    "![RIF](../../images/DataLake.JPG)"
   ]
  },
  {
   "cell_type": "markdown",
   "metadata": {},
   "source": [
    "## Show Data Lake directories"
   ]
  },
  {
   "cell_type": "code",
   "execution_count": 42,
   "metadata": {},
   "outputs": [
    {
     "name": "stdout",
     "output_type": "stream",
     "text": [
      "../../Results/Chapter 15/999-DL/000-Workspace-Zone\n",
      "../../Results/Chapter 15/999-DL/100-Raw-Zone\n",
      "../../Results/Chapter 15/999-DL/200-Structured-Zone\n",
      "../../Results/Chapter 15/999-DL/300-Curated-Zone\n",
      "../../Results/Chapter 15/999-DL/400-Consumer-Zone\n",
      "../../Results/Chapter 15/999-DL/500-Analytics-Zone\n",
      "../../Results/Chapter 15/999-DL/300-Curated-Zone\\Hub\n",
      "../../Results/Chapter 15/999-DL/300-Curated-Zone\\Link\n",
      "../../Results/Chapter 15/999-DL/300-Curated-Zone\\Satellite\n",
      "../../Results/Chapter 15/999-DL/300-Curated-Zone\\Hub\\Event\n",
      "../../Results/Chapter 15/999-DL/300-Curated-Zone\\Hub\\Location\n",
      "../../Results/Chapter 15/999-DL/300-Curated-Zone\\Hub\\Object\n",
      "../../Results/Chapter 15/999-DL/300-Curated-Zone\\Hub\\Person\n",
      "../../Results/Chapter 15/999-DL/300-Curated-Zone\\Hub\\Time\n",
      "../../Results/Chapter 15/999-DL/300-Curated-Zone\\Link\\Event-Event\n",
      "../../Results/Chapter 15/999-DL/300-Curated-Zone\\Link\\Event-Location\n",
      "../../Results/Chapter 15/999-DL/300-Curated-Zone\\Link\\Event-Object\n",
      "../../Results/Chapter 15/999-DL/300-Curated-Zone\\Link\\Event-Person\n",
      "../../Results/Chapter 15/999-DL/300-Curated-Zone\\Link\\Event-Time\n",
      "../../Results/Chapter 15/999-DL/300-Curated-Zone\\Link\\Location-Event\n",
      "../../Results/Chapter 15/999-DL/300-Curated-Zone\\Link\\Location-Location\n",
      "../../Results/Chapter 15/999-DL/300-Curated-Zone\\Link\\Location-Object\n",
      "../../Results/Chapter 15/999-DL/300-Curated-Zone\\Link\\Location-Person\n",
      "../../Results/Chapter 15/999-DL/300-Curated-Zone\\Link\\Location-Time\n",
      "../../Results/Chapter 15/999-DL/300-Curated-Zone\\Link\\Object-Event\n",
      "../../Results/Chapter 15/999-DL/300-Curated-Zone\\Link\\Object-Location\n",
      "../../Results/Chapter 15/999-DL/300-Curated-Zone\\Link\\Object-Object\n",
      "../../Results/Chapter 15/999-DL/300-Curated-Zone\\Link\\Object-Person\n",
      "../../Results/Chapter 15/999-DL/300-Curated-Zone\\Link\\Object-Time\n",
      "../../Results/Chapter 15/999-DL/300-Curated-Zone\\Link\\Person-Event\n",
      "../../Results/Chapter 15/999-DL/300-Curated-Zone\\Link\\Person-Location\n",
      "../../Results/Chapter 15/999-DL/300-Curated-Zone\\Link\\Person-Object\n",
      "../../Results/Chapter 15/999-DL/300-Curated-Zone\\Link\\Person-Person\n",
      "../../Results/Chapter 15/999-DL/300-Curated-Zone\\Link\\Person-Time\n",
      "../../Results/Chapter 15/999-DL/300-Curated-Zone\\Link\\Time-Event\n",
      "../../Results/Chapter 15/999-DL/300-Curated-Zone\\Link\\Time-Location\n",
      "../../Results/Chapter 15/999-DL/300-Curated-Zone\\Link\\Time-Object\n",
      "../../Results/Chapter 15/999-DL/300-Curated-Zone\\Link\\Time-Person\n",
      "../../Results/Chapter 15/999-DL/300-Curated-Zone\\Link\\Time-Time\n",
      "../../Results/Chapter 15/999-DL/300-Curated-Zone\\Satellite\\Event\n",
      "../../Results/Chapter 15/999-DL/300-Curated-Zone\\Satellite\\Location\n",
      "../../Results/Chapter 15/999-DL/300-Curated-Zone\\Satellite\\Object\n",
      "../../Results/Chapter 15/999-DL/300-Curated-Zone\\Satellite\\Person\n",
      "../../Results/Chapter 15/999-DL/300-Curated-Zone\\Satellite\\Time\n"
     ]
    }
   ],
   "source": [
    "pathDLname='../../Results/Chapter 15/014-DL/'\n",
    "for root, dirs, files in os.walk(pathDLname, topdown=True):\n",
    "    for name in dirs:\n",
    "        print(os.path.join(root, name))"
   ]
  },
  {
   "cell_type": "markdown",
   "metadata": {},
   "source": [
    "## Show Data Lake files"
   ]
  },
  {
   "cell_type": "code",
   "execution_count": 43,
   "metadata": {},
   "outputs": [
    {
     "name": "stdout",
     "output_type": "stream",
     "text": [
      "../../Results/Chapter 15/999-DL/100-Raw-Zone\\15-04-Retrieve-Mars-Hopper.csv.gz\n",
      "../../Results/Chapter 15/999-DL/100-Raw-Zone\\15-04-Retrieve-Mars-Mines.csv.gz\n",
      "../../Results/Chapter 15/999-DL/100-Raw-Zone\\15-04-Retrieve-Mars-Time.csv.gz\n"
     ]
    }
   ],
   "source": [
    "for root, dirs, files in os.walk(pathDLname, topdown=True):\n",
    "    for name in files:\n",
    "        print(os.path.join(root, name))"
   ]
  },
  {
   "cell_type": "markdown",
   "metadata": {},
   "source": [
    "# Run Time"
   ]
  },
  {
   "cell_type": "code",
   "execution_count": 44,
   "metadata": {},
   "outputs": [
    {
     "name": "stdout",
     "output_type": "stream",
     "text": [
      "('Start:', '2019-05-04 12:55:23')\n",
      "('Stop: ', '2019-05-04 12:55:30')\n",
      "('Time: ', datetime.timedelta(0, 7, 90000))\n"
     ]
    }
   ],
   "source": [
    "nowStop = datetime.datetime.now()\n",
    "runTime=nowStop-nowStart\n",
    "print('Start:', nowStart.strftime('%Y-%m-%d %H:%M:%S'))\n",
    "print('Stop: ', nowStop.strftime('%Y-%m-%d %H:%M:%S'))\n",
    "print('Time: ', runTime)"
   ]
  },
  {
   "cell_type": "markdown",
   "metadata": {},
   "source": [
    "# Get Ready !!!"
   ]
  },
  {
   "cell_type": "code",
   "execution_count": 8,
   "metadata": {},
   "outputs": [
    {
     "name": "stdout",
     "output_type": "stream",
     "text": [
      " 10 ...\n",
      "  9 ...\n",
      "  8 ...\n",
      "  7 ...\n",
      "  6 ...\n",
      "  5 ...\n",
      "  4 ...\n",
      "  3 ...\n",
      "  2 ...\n",
      "  1 ...\n",
      "Go!!!\n",
      "Go!!!\n",
      "Go!!!\n",
      "Successful Launch - Travel safe!!!\n"
     ]
    }
   ],
   "source": [
    "for i in range(10,0,-1):\n",
    "    print('%3d ...' % i)\n",
    "    time.sleep(1)\n",
    "    \n",
    "for i in range(3):\n",
    "    print('Go!!!')\n",
    "\n",
    "print('Successful Launch - Travel safe!!!')"
   ]
  },
  {
   "cell_type": "markdown",
   "metadata": {},
   "source": [
    "![Mars Project Ready](../../images/space-mining-5.jpg)"
   ]
  },
  {
   "cell_type": "code",
   "execution_count": null,
   "metadata": {},
   "outputs": [],
   "source": []
  }
 ],
 "metadata": {
  "kernelspec": {
   "display_name": "Python 3",
   "language": "python",
   "name": "python3"
  },
  "language_info": {
   "codemirror_mode": {
    "name": "ipython",
    "version": 3
   },
   "file_extension": ".py",
   "mimetype": "text/x-python",
   "name": "python",
   "nbconvert_exporter": "python",
   "pygments_lexer": "ipython3",
   "version": "3.7.3"
  }
 },
 "nbformat": 4,
 "nbformat_minor": 2
}
