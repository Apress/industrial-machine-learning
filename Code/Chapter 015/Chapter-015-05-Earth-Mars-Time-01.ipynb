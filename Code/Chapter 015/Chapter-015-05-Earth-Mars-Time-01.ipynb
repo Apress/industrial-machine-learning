{
 "cells": [
  {
   "cell_type": "markdown",
   "metadata": {},
   "source": [
    "## Apress - Industrialized Machine Learning Examples\n",
    "\n",
    "Andreas Francois Vermeulen\n",
    "2019\n",
    "\n",
    "### This is an example add-on to a book and needs to be accepted as part of that copyright."
   ]
  },
  {
   "cell_type": "markdown",
   "metadata": {},
   "source": [
    "# Chapter-015-05-Earth-Mars-Time-01"
   ]
  },
  {
   "cell_type": "code",
   "execution_count": 1,
   "metadata": {},
   "outputs": [],
   "source": [
    "import os\n",
    "import datetime\n",
    "import pandas as pd"
   ]
  },
  {
   "cell_type": "code",
   "execution_count": 2,
   "metadata": {},
   "outputs": [],
   "source": [
    "nowStart = datetime.datetime.now()"
   ]
  },
  {
   "cell_type": "code",
   "execution_count": 3,
   "metadata": {},
   "outputs": [
    {
     "name": "stdout",
     "output_type": "stream",
     "text": [
      "15-04-Retrieve-Mars-Time.csv.gz\n"
     ]
    }
   ],
   "source": [
    "dirname = '../../Results/Chapter 15/999-DL/100-Raw-Zone/'\n",
    "filename='15-04-Retrieve-Mars-Time.csv'\n",
    "fileZipname=filename + '.gz'\n",
    "print(fileZipname)"
   ]
  },
  {
   "cell_type": "markdown",
   "metadata": {},
   "source": [
    "# Create 100-Raw-Zone"
   ]
  },
  {
   "cell_type": "markdown",
   "metadata": {},
   "source": [
    "![Raw Zone](../../images/DL-RZ.JPG)"
   ]
  },
  {
   "cell_type": "code",
   "execution_count": 4,
   "metadata": {},
   "outputs": [
    {
     "name": "stdout",
     "output_type": "stream",
     "text": [
      "C:\\Users\\AndreVermeulen\\Documents\\My Book\\apress\\Industrial Machine Learning\\book\\GitHub\\Upload\\industrial-machine-learning\\Results\\Chapter 15\\999-DL\\100-Raw-Zone\n"
     ]
    }
   ],
   "source": [
    "pathRealName=os.path.realpath(dirname)\n",
    "print(pathRealName)\n",
    "fullRealZipName = os.path.join(pathRealName, fileZipname)"
   ]
  },
  {
   "cell_type": "code",
   "execution_count": 5,
   "metadata": {},
   "outputs": [],
   "source": [
    "if not os.path.exists(pathRealName):\n",
    "    print('Make:', pathRealName)\n",
    "    os.makedirs(pathRealName)"
   ]
  },
  {
   "cell_type": "markdown",
   "metadata": {},
   "source": [
    "# Create Mars Time"
   ]
  },
  {
   "cell_type": "code",
   "execution_count": 6,
   "metadata": {},
   "outputs": [],
   "source": [
    "imax = 24*60*1000\n",
    "base = datetime.datetime.today()\n",
    "base = datetime.datetime(2018, 10, 20, 9, 15, 30)\n",
    "\n",
    "date_list = [base + datetime.timedelta(minutes=x) for x in range(0, imax)]"
   ]
  },
  {
   "cell_type": "code",
   "execution_count": 7,
   "metadata": {},
   "outputs": [
    {
     "name": "stdout",
     "output_type": "stream",
     "text": [
      "(1440000, 1)\n"
     ]
    }
   ],
   "source": [
    "dateDF = pd.DataFrame(date_list)\n",
    "dateDF.columns = ['EarthTime']\n",
    "print(dateDF.shape)"
   ]
  },
  {
   "cell_type": "code",
   "execution_count": 8,
   "metadata": {},
   "outputs": [
    {
     "name": "stdout",
     "output_type": "stream",
     "text": [
      "            EarthTime\n",
      "0 2018-10-20 09:15:30\n",
      "1 2018-10-20 09:16:30\n",
      "2 2018-10-20 09:17:30\n",
      "3 2018-10-20 09:18:30\n",
      "4 2018-10-20 09:19:30\n"
     ]
    }
   ],
   "source": [
    "print(dateDF.head())"
   ]
  },
  {
   "cell_type": "code",
   "execution_count": 9,
   "metadata": {},
   "outputs": [
    {
     "name": "stdout",
     "output_type": "stream",
     "text": [
      "                  EarthTime\n",
      "1439995 2021-07-16 09:10:30\n",
      "1439996 2021-07-16 09:11:30\n",
      "1439997 2021-07-16 09:12:30\n",
      "1439998 2021-07-16 09:13:30\n",
      "1439999 2021-07-16 09:14:30\n"
     ]
    }
   ],
   "source": [
    "print(dateDF.tail())"
   ]
  },
  {
   "cell_type": "code",
   "execution_count": 10,
   "metadata": {},
   "outputs": [],
   "source": [
    "dateDF.reset_index(level=0, inplace=True)\n",
    "dateDF.columns = ['MinutesSinceLaunch','EarthTime']\n",
    "dateDF.index.name = 'ID'"
   ]
  },
  {
   "cell_type": "code",
   "execution_count": 11,
   "metadata": {},
   "outputs": [
    {
     "name": "stdout",
     "output_type": "stream",
     "text": [
      "    MinutesSinceLaunch           EarthTime\n",
      "ID                                        \n",
      "0                    0 2018-10-20 09:15:30\n",
      "1                    1 2018-10-20 09:16:30\n",
      "2                    2 2018-10-20 09:17:30\n",
      "3                    3 2018-10-20 09:18:30\n",
      "4                    4 2018-10-20 09:19:30\n",
      "         MinutesSinceLaunch           EarthTime\n",
      "ID                                             \n",
      "1439995             1439995 2021-07-16 09:10:30\n",
      "1439996             1439996 2021-07-16 09:11:30\n",
      "1439997             1439997 2021-07-16 09:12:30\n",
      "1439998             1439998 2021-07-16 09:13:30\n",
      "1439999             1439999 2021-07-16 09:14:30\n"
     ]
    }
   ],
   "source": [
    "print(dateDF.head())\n",
    "print(dateDF.tail())"
   ]
  },
  {
   "cell_type": "code",
   "execution_count": 12,
   "metadata": {},
   "outputs": [],
   "source": [
    "def makesecs(s):\n",
    "    marsseconds = s * 60\n",
    "    return marsseconds"
   ]
  },
  {
   "cell_type": "code",
   "execution_count": 13,
   "metadata": {},
   "outputs": [],
   "source": [
    "dateDF['SecondsSinceLaunch'] = dateDF.apply(lambda row: makesecs(row['MinutesSinceLaunch']), axis=1)"
   ]
  },
  {
   "cell_type": "code",
   "execution_count": 14,
   "metadata": {},
   "outputs": [
    {
     "name": "stdout",
     "output_type": "stream",
     "text": [
      "    MinutesSinceLaunch           EarthTime  SecondsSinceLaunch\n",
      "ID                                                            \n",
      "0                    0 2018-10-20 09:15:30                   0\n",
      "1                    1 2018-10-20 09:16:30                  60\n",
      "2                    2 2018-10-20 09:17:30                 120\n",
      "3                    3 2018-10-20 09:18:30                 180\n",
      "4                    4 2018-10-20 09:19:30                 240\n"
     ]
    }
   ],
   "source": [
    "print(dateDF.head())"
   ]
  },
  {
   "cell_type": "code",
   "execution_count": 15,
   "metadata": {},
   "outputs": [],
   "source": [
    "def marstime(s):\n",
    "    #set to 24 hours, 39 minutes, and 35 seconds\n",
    "    marsdayseconds = (24*60*60)+(39*60)+35\n",
    "    marsday = round(s/marsdayseconds,6)\n",
    "    return marsday"
   ]
  },
  {
   "cell_type": "code",
   "execution_count": 16,
   "metadata": {},
   "outputs": [],
   "source": [
    "dateDF['MarsTime'] = dateDF.apply(lambda row: marstime(row['SecondsSinceLaunch']), axis=1)"
   ]
  },
  {
   "cell_type": "code",
   "execution_count": 17,
   "metadata": {},
   "outputs": [],
   "source": [
    "def earthtime(s):\n",
    "    # set to 23 hours, 56 minutes, and 4 seconds\n",
    "    earthdayseconds = (23*60*60)+(59*60)+4\n",
    "    earthday = round(s/earthdayseconds,6)\n",
    "    return earthday"
   ]
  },
  {
   "cell_type": "code",
   "execution_count": 18,
   "metadata": {},
   "outputs": [],
   "source": [
    "dateDF['EarthTime'] = dateDF.apply(lambda row:earthtime(row['SecondsSinceLaunch']), axis=1)"
   ]
  },
  {
   "cell_type": "code",
   "execution_count": 19,
   "metadata": {},
   "outputs": [
    {
     "name": "stdout",
     "output_type": "stream",
     "text": [
      "    MinutesSinceLaunch  EarthTime  SecondsSinceLaunch  MarsTime\n",
      "ID                                                             \n",
      "0                    0   0.000000                   0  0.000000\n",
      "1                    1   0.000695                  60  0.000676\n",
      "2                    2   0.001390                 120  0.001352\n",
      "3                    3   0.002085                 180  0.002028\n",
      "4                    4   0.002780                 240  0.002703\n",
      "         MinutesSinceLaunch    EarthTime  SecondsSinceLaunch    MarsTime\n",
      "ID                                                                      \n",
      "1439995             1439995  1000.645094            86399700  973.243593\n",
      "1439996             1439996  1000.645789            86399760  973.244269\n",
      "1439997             1439997  1000.646484            86399820  973.244945\n",
      "1439998             1439998  1000.647179            86399880  973.245621\n",
      "1439999             1439999  1000.647874            86399940  973.246297\n"
     ]
    }
   ],
   "source": [
    "print(dateDF.head())\n",
    "print(dateDF.tail())"
   ]
  },
  {
   "cell_type": "code",
   "execution_count": 20,
   "metadata": {},
   "outputs": [],
   "source": [
    "def findgap(et,mt):\n",
    "    gaptime = et-mt\n",
    "    return gaptime"
   ]
  },
  {
   "cell_type": "code",
   "execution_count": 21,
   "metadata": {},
   "outputs": [],
   "source": [
    "dateDF['EarthMarsGap'] = dateDF.apply(lambda row:findgap(row['EarthTime'],row['MarsTime']), axis=1)"
   ]
  },
  {
   "cell_type": "code",
   "execution_count": 22,
   "metadata": {},
   "outputs": [
    {
     "name": "stdout",
     "output_type": "stream",
     "text": [
      "Index(['MinutesSinceLaunch', 'EarthTime', 'SecondsSinceLaunch', 'MarsTime',\n",
      "       'EarthMarsGap'],\n",
      "      dtype='object')\n"
     ]
    }
   ],
   "source": [
    "print(dateDF.columns)"
   ]
  },
  {
   "cell_type": "code",
   "execution_count": 23,
   "metadata": {},
   "outputs": [
    {
     "name": "stdout",
     "output_type": "stream",
     "text": [
      "Index(['MinutesSinceLaunch', 'SecondsSinceLaunch', 'EarthTime', 'MarsTime',\n",
      "       'EarthMarsGap'],\n",
      "      dtype='object')\n"
     ]
    }
   ],
   "source": [
    "dateFixDF = dateDF[['MinutesSinceLaunch', 'SecondsSinceLaunch', 'EarthTime', 'MarsTime', 'EarthMarsGap']]\n",
    "print(dateFixDF.columns)"
   ]
  },
  {
   "cell_type": "markdown",
   "metadata": {},
   "source": [
    "# Save Mars Time"
   ]
  },
  {
   "cell_type": "code",
   "execution_count": 24,
   "metadata": {},
   "outputs": [
    {
     "name": "stdout",
     "output_type": "stream",
     "text": [
      "C:\\Users\\AndreVermeulen\\Documents\\My Book\\apress\\Industrial Machine Learning\\book\\GitHub\\Upload\\industrial-machine-learning\\Results\\Chapter 15\\999-DL\\100-Raw-Zone\\15-04-Retrieve-Mars-Time.csv.gz\n"
     ]
    }
   ],
   "source": [
    "print(fullRealZipName)\n",
    "dateFixDF.to_csv(fullRealZipName, index=False, encoding='utf-8', compression='gzip')"
   ]
  },
  {
   "cell_type": "code",
   "execution_count": 25,
   "metadata": {},
   "outputs": [
    {
     "name": "stdout",
     "output_type": "stream",
     "text": [
      "../../Results/Chapter 15/999-DL/400-Consumer-Zone/15-04-Retrieve-Mars-Time.csv\n"
     ]
    }
   ],
   "source": [
    "BossFile = '../../Results/Chapter 15/999-DL/400-Consumer-Zone/15-04-Retrieve-Mars-Time.csv'\n",
    "dateFixDF.to_csv(BossFile, index=False, encoding='utf-8', compression=None)\n",
    "print(BossFile)"
   ]
  },
  {
   "cell_type": "code",
   "execution_count": 26,
   "metadata": {},
   "outputs": [],
   "source": [
    "from IPython.core.interactiveshell import InteractiveShell\n",
    "InteractiveShell.ast_node_interactivity = \"all\""
   ]
  },
  {
   "cell_type": "code",
   "execution_count": 27,
   "metadata": {},
   "outputs": [
    {
     "data": {
      "text/html": [
       "<div>\n",
       "<style scoped>\n",
       "    .dataframe tbody tr th:only-of-type {\n",
       "        vertical-align: middle;\n",
       "    }\n",
       "\n",
       "    .dataframe tbody tr th {\n",
       "        vertical-align: top;\n",
       "    }\n",
       "\n",
       "    .dataframe thead th {\n",
       "        text-align: right;\n",
       "    }\n",
       "</style>\n",
       "<table border=\"1\" class=\"dataframe\">\n",
       "  <thead>\n",
       "    <tr style=\"text-align: right;\">\n",
       "      <th></th>\n",
       "      <th>MinutesSinceLaunch</th>\n",
       "      <th>SecondsSinceLaunch</th>\n",
       "      <th>EarthTime</th>\n",
       "      <th>MarsTime</th>\n",
       "      <th>EarthMarsGap</th>\n",
       "    </tr>\n",
       "    <tr>\n",
       "      <th>ID</th>\n",
       "      <th></th>\n",
       "      <th></th>\n",
       "      <th></th>\n",
       "      <th></th>\n",
       "      <th></th>\n",
       "    </tr>\n",
       "  </thead>\n",
       "  <tbody>\n",
       "    <tr>\n",
       "      <th>0</th>\n",
       "      <td>0</td>\n",
       "      <td>0</td>\n",
       "      <td>0.000000</td>\n",
       "      <td>0.000000</td>\n",
       "      <td>0.000000</td>\n",
       "    </tr>\n",
       "    <tr>\n",
       "      <th>1</th>\n",
       "      <td>1</td>\n",
       "      <td>60</td>\n",
       "      <td>0.000695</td>\n",
       "      <td>0.000676</td>\n",
       "      <td>0.000019</td>\n",
       "    </tr>\n",
       "    <tr>\n",
       "      <th>2</th>\n",
       "      <td>2</td>\n",
       "      <td>120</td>\n",
       "      <td>0.001390</td>\n",
       "      <td>0.001352</td>\n",
       "      <td>0.000038</td>\n",
       "    </tr>\n",
       "    <tr>\n",
       "      <th>3</th>\n",
       "      <td>3</td>\n",
       "      <td>180</td>\n",
       "      <td>0.002085</td>\n",
       "      <td>0.002028</td>\n",
       "      <td>0.000057</td>\n",
       "    </tr>\n",
       "    <tr>\n",
       "      <th>4</th>\n",
       "      <td>4</td>\n",
       "      <td>240</td>\n",
       "      <td>0.002780</td>\n",
       "      <td>0.002703</td>\n",
       "      <td>0.000077</td>\n",
       "    </tr>\n",
       "    <tr>\n",
       "      <th>5</th>\n",
       "      <td>5</td>\n",
       "      <td>300</td>\n",
       "      <td>0.003474</td>\n",
       "      <td>0.003379</td>\n",
       "      <td>0.000095</td>\n",
       "    </tr>\n",
       "    <tr>\n",
       "      <th>6</th>\n",
       "      <td>6</td>\n",
       "      <td>360</td>\n",
       "      <td>0.004169</td>\n",
       "      <td>0.004055</td>\n",
       "      <td>0.000114</td>\n",
       "    </tr>\n",
       "    <tr>\n",
       "      <th>7</th>\n",
       "      <td>7</td>\n",
       "      <td>420</td>\n",
       "      <td>0.004864</td>\n",
       "      <td>0.004731</td>\n",
       "      <td>0.000133</td>\n",
       "    </tr>\n",
       "    <tr>\n",
       "      <th>8</th>\n",
       "      <td>8</td>\n",
       "      <td>480</td>\n",
       "      <td>0.005559</td>\n",
       "      <td>0.005407</td>\n",
       "      <td>0.000152</td>\n",
       "    </tr>\n",
       "    <tr>\n",
       "      <th>9</th>\n",
       "      <td>9</td>\n",
       "      <td>540</td>\n",
       "      <td>0.006254</td>\n",
       "      <td>0.006083</td>\n",
       "      <td>0.000171</td>\n",
       "    </tr>\n",
       "    <tr>\n",
       "      <th>10</th>\n",
       "      <td>10</td>\n",
       "      <td>600</td>\n",
       "      <td>0.006949</td>\n",
       "      <td>0.006759</td>\n",
       "      <td>0.000190</td>\n",
       "    </tr>\n",
       "    <tr>\n",
       "      <th>11</th>\n",
       "      <td>11</td>\n",
       "      <td>660</td>\n",
       "      <td>0.007644</td>\n",
       "      <td>0.007435</td>\n",
       "      <td>0.000209</td>\n",
       "    </tr>\n",
       "    <tr>\n",
       "      <th>12</th>\n",
       "      <td>12</td>\n",
       "      <td>720</td>\n",
       "      <td>0.008339</td>\n",
       "      <td>0.008110</td>\n",
       "      <td>0.000229</td>\n",
       "    </tr>\n",
       "    <tr>\n",
       "      <th>13</th>\n",
       "      <td>13</td>\n",
       "      <td>780</td>\n",
       "      <td>0.009034</td>\n",
       "      <td>0.008786</td>\n",
       "      <td>0.000248</td>\n",
       "    </tr>\n",
       "    <tr>\n",
       "      <th>14</th>\n",
       "      <td>14</td>\n",
       "      <td>840</td>\n",
       "      <td>0.009729</td>\n",
       "      <td>0.009462</td>\n",
       "      <td>0.000267</td>\n",
       "    </tr>\n",
       "    <tr>\n",
       "      <th>15</th>\n",
       "      <td>15</td>\n",
       "      <td>900</td>\n",
       "      <td>0.010423</td>\n",
       "      <td>0.010138</td>\n",
       "      <td>0.000285</td>\n",
       "    </tr>\n",
       "    <tr>\n",
       "      <th>16</th>\n",
       "      <td>16</td>\n",
       "      <td>960</td>\n",
       "      <td>0.011118</td>\n",
       "      <td>0.010814</td>\n",
       "      <td>0.000304</td>\n",
       "    </tr>\n",
       "    <tr>\n",
       "      <th>17</th>\n",
       "      <td>17</td>\n",
       "      <td>1020</td>\n",
       "      <td>0.011813</td>\n",
       "      <td>0.011490</td>\n",
       "      <td>0.000323</td>\n",
       "    </tr>\n",
       "    <tr>\n",
       "      <th>18</th>\n",
       "      <td>18</td>\n",
       "      <td>1080</td>\n",
       "      <td>0.012508</td>\n",
       "      <td>0.012166</td>\n",
       "      <td>0.000342</td>\n",
       "    </tr>\n",
       "    <tr>\n",
       "      <th>19</th>\n",
       "      <td>19</td>\n",
       "      <td>1140</td>\n",
       "      <td>0.013203</td>\n",
       "      <td>0.012841</td>\n",
       "      <td>0.000362</td>\n",
       "    </tr>\n",
       "    <tr>\n",
       "      <th>20</th>\n",
       "      <td>20</td>\n",
       "      <td>1200</td>\n",
       "      <td>0.013898</td>\n",
       "      <td>0.013517</td>\n",
       "      <td>0.000381</td>\n",
       "    </tr>\n",
       "    <tr>\n",
       "      <th>21</th>\n",
       "      <td>21</td>\n",
       "      <td>1260</td>\n",
       "      <td>0.014593</td>\n",
       "      <td>0.014193</td>\n",
       "      <td>0.000400</td>\n",
       "    </tr>\n",
       "    <tr>\n",
       "      <th>22</th>\n",
       "      <td>22</td>\n",
       "      <td>1320</td>\n",
       "      <td>0.015288</td>\n",
       "      <td>0.014869</td>\n",
       "      <td>0.000419</td>\n",
       "    </tr>\n",
       "    <tr>\n",
       "      <th>23</th>\n",
       "      <td>23</td>\n",
       "      <td>1380</td>\n",
       "      <td>0.015983</td>\n",
       "      <td>0.015545</td>\n",
       "      <td>0.000438</td>\n",
       "    </tr>\n",
       "    <tr>\n",
       "      <th>24</th>\n",
       "      <td>24</td>\n",
       "      <td>1440</td>\n",
       "      <td>0.016677</td>\n",
       "      <td>0.016221</td>\n",
       "      <td>0.000456</td>\n",
       "    </tr>\n",
       "  </tbody>\n",
       "</table>\n",
       "</div>"
      ],
      "text/plain": [
       "    MinutesSinceLaunch  SecondsSinceLaunch  EarthTime  MarsTime  EarthMarsGap\n",
       "ID                                                                           \n",
       "0                    0                   0   0.000000  0.000000      0.000000\n",
       "1                    1                  60   0.000695  0.000676      0.000019\n",
       "2                    2                 120   0.001390  0.001352      0.000038\n",
       "3                    3                 180   0.002085  0.002028      0.000057\n",
       "4                    4                 240   0.002780  0.002703      0.000077\n",
       "5                    5                 300   0.003474  0.003379      0.000095\n",
       "6                    6                 360   0.004169  0.004055      0.000114\n",
       "7                    7                 420   0.004864  0.004731      0.000133\n",
       "8                    8                 480   0.005559  0.005407      0.000152\n",
       "9                    9                 540   0.006254  0.006083      0.000171\n",
       "10                  10                 600   0.006949  0.006759      0.000190\n",
       "11                  11                 660   0.007644  0.007435      0.000209\n",
       "12                  12                 720   0.008339  0.008110      0.000229\n",
       "13                  13                 780   0.009034  0.008786      0.000248\n",
       "14                  14                 840   0.009729  0.009462      0.000267\n",
       "15                  15                 900   0.010423  0.010138      0.000285\n",
       "16                  16                 960   0.011118  0.010814      0.000304\n",
       "17                  17                1020   0.011813  0.011490      0.000323\n",
       "18                  18                1080   0.012508  0.012166      0.000342\n",
       "19                  19                1140   0.013203  0.012841      0.000362\n",
       "20                  20                1200   0.013898  0.013517      0.000381\n",
       "21                  21                1260   0.014593  0.014193      0.000400\n",
       "22                  22                1320   0.015288  0.014869      0.000419\n",
       "23                  23                1380   0.015983  0.015545      0.000438\n",
       "24                  24                1440   0.016677  0.016221      0.000456"
      ]
     },
     "execution_count": 27,
     "metadata": {},
     "output_type": "execute_result"
    }
   ],
   "source": [
    "dateFixDF.head(25)"
   ]
  },
  {
   "cell_type": "code",
   "execution_count": 28,
   "metadata": {},
   "outputs": [
    {
     "data": {
      "text/html": [
       "<div>\n",
       "<style scoped>\n",
       "    .dataframe tbody tr th:only-of-type {\n",
       "        vertical-align: middle;\n",
       "    }\n",
       "\n",
       "    .dataframe tbody tr th {\n",
       "        vertical-align: top;\n",
       "    }\n",
       "\n",
       "    .dataframe thead th {\n",
       "        text-align: right;\n",
       "    }\n",
       "</style>\n",
       "<table border=\"1\" class=\"dataframe\">\n",
       "  <thead>\n",
       "    <tr style=\"text-align: right;\">\n",
       "      <th></th>\n",
       "      <th>MinutesSinceLaunch</th>\n",
       "      <th>SecondsSinceLaunch</th>\n",
       "      <th>EarthTime</th>\n",
       "      <th>MarsTime</th>\n",
       "      <th>EarthMarsGap</th>\n",
       "    </tr>\n",
       "    <tr>\n",
       "      <th>ID</th>\n",
       "      <th></th>\n",
       "      <th></th>\n",
       "      <th></th>\n",
       "      <th></th>\n",
       "      <th></th>\n",
       "    </tr>\n",
       "  </thead>\n",
       "  <tbody>\n",
       "    <tr>\n",
       "      <th>1439975</th>\n",
       "      <td>1439975</td>\n",
       "      <td>86398500</td>\n",
       "      <td>1000.631196</td>\n",
       "      <td>973.230076</td>\n",
       "      <td>27.401120</td>\n",
       "    </tr>\n",
       "    <tr>\n",
       "      <th>1439976</th>\n",
       "      <td>1439976</td>\n",
       "      <td>86398560</td>\n",
       "      <td>1000.631891</td>\n",
       "      <td>973.230752</td>\n",
       "      <td>27.401139</td>\n",
       "    </tr>\n",
       "    <tr>\n",
       "      <th>1439977</th>\n",
       "      <td>1439977</td>\n",
       "      <td>86398620</td>\n",
       "      <td>1000.632586</td>\n",
       "      <td>973.231428</td>\n",
       "      <td>27.401158</td>\n",
       "    </tr>\n",
       "    <tr>\n",
       "      <th>1439978</th>\n",
       "      <td>1439978</td>\n",
       "      <td>86398680</td>\n",
       "      <td>1000.633281</td>\n",
       "      <td>973.232104</td>\n",
       "      <td>27.401177</td>\n",
       "    </tr>\n",
       "    <tr>\n",
       "      <th>1439979</th>\n",
       "      <td>1439979</td>\n",
       "      <td>86398740</td>\n",
       "      <td>1000.633976</td>\n",
       "      <td>973.232779</td>\n",
       "      <td>27.401197</td>\n",
       "    </tr>\n",
       "    <tr>\n",
       "      <th>1439980</th>\n",
       "      <td>1439980</td>\n",
       "      <td>86398800</td>\n",
       "      <td>1000.634671</td>\n",
       "      <td>973.233455</td>\n",
       "      <td>27.401216</td>\n",
       "    </tr>\n",
       "    <tr>\n",
       "      <th>1439981</th>\n",
       "      <td>1439981</td>\n",
       "      <td>86398860</td>\n",
       "      <td>1000.635366</td>\n",
       "      <td>973.234131</td>\n",
       "      <td>27.401235</td>\n",
       "    </tr>\n",
       "    <tr>\n",
       "      <th>1439982</th>\n",
       "      <td>1439982</td>\n",
       "      <td>86398920</td>\n",
       "      <td>1000.636060</td>\n",
       "      <td>973.234807</td>\n",
       "      <td>27.401253</td>\n",
       "    </tr>\n",
       "    <tr>\n",
       "      <th>1439983</th>\n",
       "      <td>1439983</td>\n",
       "      <td>86398980</td>\n",
       "      <td>1000.636755</td>\n",
       "      <td>973.235483</td>\n",
       "      <td>27.401272</td>\n",
       "    </tr>\n",
       "    <tr>\n",
       "      <th>1439984</th>\n",
       "      <td>1439984</td>\n",
       "      <td>86399040</td>\n",
       "      <td>1000.637450</td>\n",
       "      <td>973.236159</td>\n",
       "      <td>27.401291</td>\n",
       "    </tr>\n",
       "    <tr>\n",
       "      <th>1439985</th>\n",
       "      <td>1439985</td>\n",
       "      <td>86399100</td>\n",
       "      <td>1000.638145</td>\n",
       "      <td>973.236835</td>\n",
       "      <td>27.401310</td>\n",
       "    </tr>\n",
       "    <tr>\n",
       "      <th>1439986</th>\n",
       "      <td>1439986</td>\n",
       "      <td>86399160</td>\n",
       "      <td>1000.638840</td>\n",
       "      <td>973.237511</td>\n",
       "      <td>27.401329</td>\n",
       "    </tr>\n",
       "    <tr>\n",
       "      <th>1439987</th>\n",
       "      <td>1439987</td>\n",
       "      <td>86399220</td>\n",
       "      <td>1000.639535</td>\n",
       "      <td>973.238186</td>\n",
       "      <td>27.401349</td>\n",
       "    </tr>\n",
       "    <tr>\n",
       "      <th>1439988</th>\n",
       "      <td>1439988</td>\n",
       "      <td>86399280</td>\n",
       "      <td>1000.640230</td>\n",
       "      <td>973.238862</td>\n",
       "      <td>27.401368</td>\n",
       "    </tr>\n",
       "    <tr>\n",
       "      <th>1439989</th>\n",
       "      <td>1439989</td>\n",
       "      <td>86399340</td>\n",
       "      <td>1000.640925</td>\n",
       "      <td>973.239538</td>\n",
       "      <td>27.401387</td>\n",
       "    </tr>\n",
       "    <tr>\n",
       "      <th>1439990</th>\n",
       "      <td>1439990</td>\n",
       "      <td>86399400</td>\n",
       "      <td>1000.641620</td>\n",
       "      <td>973.240214</td>\n",
       "      <td>27.401406</td>\n",
       "    </tr>\n",
       "    <tr>\n",
       "      <th>1439991</th>\n",
       "      <td>1439991</td>\n",
       "      <td>86399460</td>\n",
       "      <td>1000.642314</td>\n",
       "      <td>973.240890</td>\n",
       "      <td>27.401424</td>\n",
       "    </tr>\n",
       "    <tr>\n",
       "      <th>1439992</th>\n",
       "      <td>1439992</td>\n",
       "      <td>86399520</td>\n",
       "      <td>1000.643009</td>\n",
       "      <td>973.241566</td>\n",
       "      <td>27.401443</td>\n",
       "    </tr>\n",
       "    <tr>\n",
       "      <th>1439993</th>\n",
       "      <td>1439993</td>\n",
       "      <td>86399580</td>\n",
       "      <td>1000.643704</td>\n",
       "      <td>973.242242</td>\n",
       "      <td>27.401462</td>\n",
       "    </tr>\n",
       "    <tr>\n",
       "      <th>1439994</th>\n",
       "      <td>1439994</td>\n",
       "      <td>86399640</td>\n",
       "      <td>1000.644399</td>\n",
       "      <td>973.242917</td>\n",
       "      <td>27.401482</td>\n",
       "    </tr>\n",
       "    <tr>\n",
       "      <th>1439995</th>\n",
       "      <td>1439995</td>\n",
       "      <td>86399700</td>\n",
       "      <td>1000.645094</td>\n",
       "      <td>973.243593</td>\n",
       "      <td>27.401501</td>\n",
       "    </tr>\n",
       "    <tr>\n",
       "      <th>1439996</th>\n",
       "      <td>1439996</td>\n",
       "      <td>86399760</td>\n",
       "      <td>1000.645789</td>\n",
       "      <td>973.244269</td>\n",
       "      <td>27.401520</td>\n",
       "    </tr>\n",
       "    <tr>\n",
       "      <th>1439997</th>\n",
       "      <td>1439997</td>\n",
       "      <td>86399820</td>\n",
       "      <td>1000.646484</td>\n",
       "      <td>973.244945</td>\n",
       "      <td>27.401539</td>\n",
       "    </tr>\n",
       "    <tr>\n",
       "      <th>1439998</th>\n",
       "      <td>1439998</td>\n",
       "      <td>86399880</td>\n",
       "      <td>1000.647179</td>\n",
       "      <td>973.245621</td>\n",
       "      <td>27.401558</td>\n",
       "    </tr>\n",
       "    <tr>\n",
       "      <th>1439999</th>\n",
       "      <td>1439999</td>\n",
       "      <td>86399940</td>\n",
       "      <td>1000.647874</td>\n",
       "      <td>973.246297</td>\n",
       "      <td>27.401577</td>\n",
       "    </tr>\n",
       "  </tbody>\n",
       "</table>\n",
       "</div>"
      ],
      "text/plain": [
       "         MinutesSinceLaunch  SecondsSinceLaunch    EarthTime    MarsTime  \\\n",
       "ID                                                                         \n",
       "1439975             1439975            86398500  1000.631196  973.230076   \n",
       "1439976             1439976            86398560  1000.631891  973.230752   \n",
       "1439977             1439977            86398620  1000.632586  973.231428   \n",
       "1439978             1439978            86398680  1000.633281  973.232104   \n",
       "1439979             1439979            86398740  1000.633976  973.232779   \n",
       "1439980             1439980            86398800  1000.634671  973.233455   \n",
       "1439981             1439981            86398860  1000.635366  973.234131   \n",
       "1439982             1439982            86398920  1000.636060  973.234807   \n",
       "1439983             1439983            86398980  1000.636755  973.235483   \n",
       "1439984             1439984            86399040  1000.637450  973.236159   \n",
       "1439985             1439985            86399100  1000.638145  973.236835   \n",
       "1439986             1439986            86399160  1000.638840  973.237511   \n",
       "1439987             1439987            86399220  1000.639535  973.238186   \n",
       "1439988             1439988            86399280  1000.640230  973.238862   \n",
       "1439989             1439989            86399340  1000.640925  973.239538   \n",
       "1439990             1439990            86399400  1000.641620  973.240214   \n",
       "1439991             1439991            86399460  1000.642314  973.240890   \n",
       "1439992             1439992            86399520  1000.643009  973.241566   \n",
       "1439993             1439993            86399580  1000.643704  973.242242   \n",
       "1439994             1439994            86399640  1000.644399  973.242917   \n",
       "1439995             1439995            86399700  1000.645094  973.243593   \n",
       "1439996             1439996            86399760  1000.645789  973.244269   \n",
       "1439997             1439997            86399820  1000.646484  973.244945   \n",
       "1439998             1439998            86399880  1000.647179  973.245621   \n",
       "1439999             1439999            86399940  1000.647874  973.246297   \n",
       "\n",
       "         EarthMarsGap  \n",
       "ID                     \n",
       "1439975     27.401120  \n",
       "1439976     27.401139  \n",
       "1439977     27.401158  \n",
       "1439978     27.401177  \n",
       "1439979     27.401197  \n",
       "1439980     27.401216  \n",
       "1439981     27.401235  \n",
       "1439982     27.401253  \n",
       "1439983     27.401272  \n",
       "1439984     27.401291  \n",
       "1439985     27.401310  \n",
       "1439986     27.401329  \n",
       "1439987     27.401349  \n",
       "1439988     27.401368  \n",
       "1439989     27.401387  \n",
       "1439990     27.401406  \n",
       "1439991     27.401424  \n",
       "1439992     27.401443  \n",
       "1439993     27.401462  \n",
       "1439994     27.401482  \n",
       "1439995     27.401501  \n",
       "1439996     27.401520  \n",
       "1439997     27.401539  \n",
       "1439998     27.401558  \n",
       "1439999     27.401577  "
      ]
     },
     "execution_count": 28,
     "metadata": {},
     "output_type": "execute_result"
    }
   ],
   "source": [
    "dateFixDF.tail(25)"
   ]
  },
  {
   "cell_type": "markdown",
   "metadata": {},
   "source": [
    "# Close Notebook"
   ]
  },
  {
   "cell_type": "code",
   "execution_count": 29,
   "metadata": {},
   "outputs": [
    {
     "name": "stdout",
     "output_type": "stream",
     "text": [
      "Start: 2019-10-26 22:10:41\n",
      "Stop:  2019-10-26 22:14:54\n",
      "Time:  0:04:13.726995\n"
     ]
    }
   ],
   "source": [
    "nowStop = datetime.datetime.now()\n",
    "runTime=nowStop-nowStart\n",
    "print('Start:', nowStart.strftime('%Y-%m-%d %H:%M:%S'))\n",
    "print('Stop: ', nowStop.strftime('%Y-%m-%d %H:%M:%S'))\n",
    "print('Time: ', runTime)"
   ]
  },
  {
   "cell_type": "code",
   "execution_count": null,
   "metadata": {},
   "outputs": [],
   "source": []
  }
 ],
 "metadata": {
  "kernelspec": {
   "display_name": "Python 3",
   "language": "python",
   "name": "python3"
  },
  "language_info": {
   "codemirror_mode": {
    "name": "ipython",
    "version": 3
   },
   "file_extension": ".py",
   "mimetype": "text/x-python",
   "name": "python",
   "nbconvert_exporter": "python",
   "pygments_lexer": "ipython3",
   "version": "3.7.3"
  }
 },
 "nbformat": 4,
 "nbformat_minor": 2
}
