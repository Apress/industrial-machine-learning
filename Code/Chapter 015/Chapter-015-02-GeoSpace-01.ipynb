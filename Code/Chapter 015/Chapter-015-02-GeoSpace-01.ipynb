{
 "cells": [
  {
   "cell_type": "markdown",
   "metadata": {},
   "source": [
    "## Apress - Industrialized Machine Learning Examples\n",
    "\n",
    "Andreas Francois Vermeulen\n",
    "2019\n",
    "\n",
    "### This is an example add-on to a book and needs to be accepted as part of that copyright."
   ]
  },
  {
   "cell_type": "markdown",
   "metadata": {},
   "source": [
    "# Chapter-015-02-GeoSpace-01\n"
   ]
  },
  {
   "cell_type": "markdown",
   "metadata": {},
   "source": [
    "![GIS Earth](../../images/GIS5.png)"
   ]
  },
  {
   "cell_type": "code",
   "execution_count": 1,
   "metadata": {},
   "outputs": [],
   "source": [
    "# !conda install -c conda-forge geopy -y"
   ]
  },
  {
   "cell_type": "code",
   "execution_count": 2,
   "metadata": {},
   "outputs": [],
   "source": [
    "#!pip install geopy"
   ]
  },
  {
   "cell_type": "code",
   "execution_count": 3,
   "metadata": {},
   "outputs": [],
   "source": [
    "from geopy.geocoders import Nominatim\n",
    "geolocator = Nominatim(user_agent=\"IML\")"
   ]
  },
  {
   "cell_type": "markdown",
   "metadata": {},
   "source": [
    "![GIS New York](../../images/new-york.png)"
   ]
  },
  {
   "cell_type": "code",
   "execution_count": 4,
   "metadata": {},
   "outputs": [
    {
     "name": "stdout",
     "output_type": "stream",
     "text": [
      "Chambers Street & Broadway, Chambers Street, Civic Center, Manhattan Community Board 1, Manhattan, New York County, NYC, New York, 10007, United States of America\n",
      "(40.7141343, -74.0061225)\n",
      "{'place_id': 64239257, 'licence': 'Data © OpenStreetMap contributors, ODbL 1.0. https://osm.org/copyright', 'osm_type': 'node', 'osm_id': 5356831687, 'lat': '40.7141343', 'lon': '-74.0061225', 'display_name': 'Chambers Street & Broadway, Chambers Street, Civic Center, Manhattan Community Board 1, Manhattan, New York County, NYC, New York, 10007, United States of America', 'address': {'bus_stop': 'Chambers Street & Broadway', 'road': 'Chambers Street', 'suburb': 'Manhattan', 'city': 'NYC', 'county': 'New York County', 'state': 'New York', 'postcode': '10007', 'country': 'United States of America', 'country_code': 'us'}, 'boundingbox': ['40.7140343', '40.7142343', '-74.0062225', '-74.0060225']}\n"
     ]
    }
   ],
   "source": [
    "#New York\n",
    "location = geolocator.reverse(\"40.7141667, -74.0063889\")\n",
    "print(location.address)\n",
    "print((location.latitude, location.longitude))\n",
    "print(location.raw)"
   ]
  },
  {
   "cell_type": "code",
   "execution_count": 5,
   "metadata": {},
   "outputs": [
    {
     "name": "stdout",
     "output_type": "stream",
     "text": [
      "place_id 64239257\n",
      "licence Data © OpenStreetMap contributors, ODbL 1.0. https://osm.org/copyright\n",
      "osm_type node\n",
      "osm_id 5356831687\n",
      "lat 40.7141343\n",
      "lon -74.0061225\n",
      "display_name Chambers Street & Broadway, Chambers Street, Civic Center, Manhattan Community Board 1, Manhattan, New York County, NYC, New York, 10007, United States of America\n",
      "address {'bus_stop': 'Chambers Street & Broadway', 'road': 'Chambers Street', 'suburb': 'Manhattan', 'city': 'NYC', 'county': 'New York County', 'state': 'New York', 'postcode': '10007', 'country': 'United States of America', 'country_code': 'us'}\n",
      "bus_stop Chambers Street & Broadway\n",
      "road Chambers Street\n",
      "suburb Manhattan\n",
      "city NYC\n",
      "county New York County\n",
      "state New York\n",
      "postcode 10007\n",
      "country United States of America\n",
      "country_code us\n",
      "boundingbox ['40.7140343', '40.7142343', '-74.0062225', '-74.0060225']\n"
     ]
    }
   ],
   "source": [
    "l=location.raw\n",
    "for key, value in l.items():\n",
    "    print(key, value)\n",
    "    if key == 'address':\n",
    "        a=value\n",
    "        for key2, value2 in a.items():\n",
    "            print(key2, value2)"
   ]
  },
  {
   "cell_type": "markdown",
   "metadata": {},
   "source": [
    "![GIS London](../../images/london.jpg)"
   ]
  },
  {
   "cell_type": "code",
   "execution_count": 6,
   "metadata": {},
   "outputs": [
    {
     "name": "stdout",
     "output_type": "stream",
     "text": [
      "Lambeth Palace Road, Lambeth, London Borough of Lambeth, London, Greater London, England, SE1 7EQ, UK\n",
      "(51.5001094, -0.1165623)\n",
      "{'place_id': 57791578, 'licence': 'Data © OpenStreetMap contributors, ODbL 1.0. https://osm.org/copyright', 'osm_type': 'node', 'osm_id': 4707342286, 'lat': '51.5001094', 'lon': '-0.1165623', 'display_name': 'Lambeth Palace Road, Lambeth, London Borough of Lambeth, London, Greater London, England, SE1 7EQ, UK', 'address': {'address29': 'Lambeth Palace Road', 'cycleway': 'Lambeth Palace Road', 'suburb': 'Lambeth', 'city': 'London', 'state_district': 'Greater London', 'state': 'England', 'postcode': 'SE1 7EQ', 'country': 'UK', 'country_code': 'gb'}, 'boundingbox': ['51.5000094', '51.5002094', '-0.1166623', '-0.1164623']}\n"
     ]
    }
   ],
   "source": [
    "# London\n",
    "location = geolocator.reverse(\"51.5, -0.116667\")\n",
    "print(location.address)\n",
    "print((location.latitude, location.longitude))\n",
    "print(location.raw)"
   ]
  },
  {
   "cell_type": "code",
   "execution_count": 7,
   "metadata": {},
   "outputs": [
    {
     "name": "stdout",
     "output_type": "stream",
     "text": [
      "place_id 57791578\n",
      "licence Data © OpenStreetMap contributors, ODbL 1.0. https://osm.org/copyright\n",
      "osm_type node\n",
      "osm_id 4707342286\n",
      "lat 51.5001094\n",
      "lon -0.1165623\n",
      "display_name Lambeth Palace Road, Lambeth, London Borough of Lambeth, London, Greater London, England, SE1 7EQ, UK\n",
      "address {'address29': 'Lambeth Palace Road', 'cycleway': 'Lambeth Palace Road', 'suburb': 'Lambeth', 'city': 'London', 'state_district': 'Greater London', 'state': 'England', 'postcode': 'SE1 7EQ', 'country': 'UK', 'country_code': 'gb'}\n",
      "address29 Lambeth Palace Road\n",
      "cycleway Lambeth Palace Road\n",
      "suburb Lambeth\n",
      "city London\n",
      "state_district Greater London\n",
      "state England\n",
      "postcode SE1 7EQ\n",
      "country UK\n",
      "country_code gb\n",
      "boundingbox ['51.5000094', '51.5002094', '-0.1166623', '-0.1164623']\n"
     ]
    }
   ],
   "source": [
    "l=location.raw\n",
    "for key, value in l.items():\n",
    "    print(key, value)\n",
    "    if key == 'address':\n",
    "        a=value\n",
    "        for key2, value2 in a.items():\n",
    "            print(key2, value2)"
   ]
  },
  {
   "cell_type": "markdown",
   "metadata": {},
   "source": [
    "## Geodesic Distance"
   ]
  },
  {
   "cell_type": "code",
   "execution_count": 8,
   "metadata": {},
   "outputs": [
    {
     "name": "stdout",
     "output_type": "stream",
     "text": [
      "New York to London 3471.0772526498836 miles\n",
      "New York to London 5586.157350088574 kilometers\n"
     ]
    }
   ],
   "source": [
    "from geopy.distance import geodesic\n",
    "ny_ny = (40.7141667, -74.0063889)\n",
    "london_uk = (51.5, -0.116667)\n",
    "print('New York to London', geodesic(ny_ny, london_uk).miles, 'miles')\n",
    "print('New York to London', geodesic(ny_ny, london_uk).kilometers, 'kilometers')"
   ]
  },
  {
   "cell_type": "markdown",
   "metadata": {},
   "source": [
    "## Great Circle Distance"
   ]
  },
  {
   "cell_type": "code",
   "execution_count": 9,
   "metadata": {},
   "outputs": [
    {
     "name": "stdout",
     "output_type": "stream",
     "text": [
      "New York to London 3461.752565164902 miles\n",
      "New York to London 5571.150720232745 kilometers\n"
     ]
    }
   ],
   "source": [
    "from geopy.distance import great_circle\n",
    "ny_ny = (40.7141667, -74.0063889)\n",
    "london_uk = (51.5, -0.116667)\n",
    "print('New York to London', great_circle(ny_ny, london_uk).miles, 'miles')\n",
    "print('New York to London', great_circle(ny_ny, london_uk).kilometers, 'kilometers')"
   ]
  },
  {
   "cell_type": "markdown",
   "metadata": {},
   "source": [
    "## Haversine formula"
   ]
  },
  {
   "cell_type": "code",
   "execution_count": 10,
   "metadata": {},
   "outputs": [
    {
     "name": "stdout",
     "output_type": "stream",
     "text": [
      "New York to London 3461.7466039416786 miles\n",
      "New York to London 5571.142850151807 kilometers\n"
     ]
    }
   ],
   "source": [
    "from math import sin, cos, sqrt, atan2, radians\n",
    "\n",
    "ny_ny = (40.7141667, -74.0063889)\n",
    "london_uk = (51.5, -0.116667)\n",
    "\n",
    "# approximate radius of earth in km\n",
    "Dkm = 12742.0\n",
    "Rkm = Dkm/2\n",
    "# approximate radius of earth in miles\n",
    "Dm = 0.621371 * Dkm\n",
    "Rm = Dm/2\n",
    "\n",
    "lat1 = radians(ny_ny[0])\n",
    "lon1 = radians(ny_ny[1])\n",
    "lat2 = radians(london_uk[0])\n",
    "lon2 = radians(london_uk[1])\n",
    "\n",
    "dlon = lon2 - lon1\n",
    "dlat = lat2 - lat1\n",
    "\n",
    "a = sin(dlat / 2)**2 + cos(lat1) * cos(lat2) * sin(dlon / 2)**2\n",
    "c = 2 * atan2(sqrt(a), sqrt(1 - a))\n",
    "\n",
    "distancem = Rm * c\n",
    "\n",
    "distancekm = Rkm * c\n",
    "\n",
    "print('New York to London', distancem, 'miles')\n",
    "print('New York to London', distancekm, 'kilometers')"
   ]
  },
  {
   "cell_type": "markdown",
   "metadata": {},
   "source": [
    "## Distance"
   ]
  },
  {
   "cell_type": "code",
   "execution_count": 11,
   "metadata": {
    "scrolled": true
   },
   "outputs": [
    {
     "name": "stdout",
     "output_type": "stream",
     "text": [
      "New York to London 3471.0772526498836 miles\n",
      "New York to London 5586.157350088574 kilometers\n"
     ]
    }
   ],
   "source": [
    "import geopy.distance as d\n",
    "\n",
    "ny_ny = (40.7141667, -74.0063889)\n",
    "london_uk = (51.5, -0.116667)\n",
    "\n",
    "print ('New York to London',d.distance(ny_ny, london_uk).miles, 'miles')\n",
    "print ('New York to London',d.distance(ny_ny, london_uk).km, 'kilometers')"
   ]
  },
  {
   "cell_type": "code",
   "execution_count": 12,
   "metadata": {},
   "outputs": [
    {
     "name": "stdout",
     "output_type": "stream",
     "text": [
      "Tokyo to London 5954.255569830391 miles\n",
      "Tokyo to London 9582.445475773122 kilometers\n"
     ]
    }
   ],
   "source": [
    "import geopy.distance as d\n",
    "\n",
    "tokyo_japan = (35.6762, 139.6503)\n",
    "london_uk = (51.5, -0.116667)\n",
    "\n",
    "print ('Tokyo to London',d.distance(tokyo_japan, london_uk).miles, 'miles')\n",
    "print ('Tokyo to London',d.distance(tokyo_japan, london_uk).km, 'kilometers')"
   ]
  },
  {
   "cell_type": "code",
   "execution_count": 13,
   "metadata": {},
   "outputs": [
    {
     "name": "stdout",
     "output_type": "stream",
     "text": [
      "Sydney to London 10556.4943034509 miles\n",
      "Sydney to London 16989.030768292887 kilometers\n"
     ]
    }
   ],
   "source": [
    "import geopy.distance as d\n",
    "\n",
    "sydney_aus = (-33.8688, 151.2093)\n",
    "london_uk = (51.5, -0.116667)\n",
    "\n",
    "print ('Sydney to London',d.distance(sydney_aus, london_uk).miles, 'miles')\n",
    "print ('Sydney to London',d.distance(sydney_aus, london_uk).km, 'kilometers')"
   ]
  },
  {
   "cell_type": "markdown",
   "metadata": {},
   "source": [
    "## Done"
   ]
  },
  {
   "cell_type": "code",
   "execution_count": 14,
   "metadata": {},
   "outputs": [
    {
     "name": "stdout",
     "output_type": "stream",
     "text": [
      "Done! 2019-10-26 22:09:37.447858\n"
     ]
    }
   ],
   "source": [
    "import datetime\n",
    "now = datetime.datetime.now()\n",
    "print('Done!',str(now))"
   ]
  }
 ],
 "metadata": {
  "kernelspec": {
   "display_name": "Python 3",
   "language": "python",
   "name": "python3"
  },
  "language_info": {
   "codemirror_mode": {
    "name": "ipython",
    "version": 3
   },
   "file_extension": ".py",
   "mimetype": "text/x-python",
   "name": "python",
   "nbconvert_exporter": "python",
   "pygments_lexer": "ipython3",
   "version": "3.7.3"
  }
 },
 "nbformat": 4,
 "nbformat_minor": 2
}
