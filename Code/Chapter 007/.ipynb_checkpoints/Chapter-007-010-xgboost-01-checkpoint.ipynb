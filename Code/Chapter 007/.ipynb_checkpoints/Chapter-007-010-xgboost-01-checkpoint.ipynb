{
 "cells": [
  {
   "cell_type": "markdown",
   "metadata": {},
   "source": [
    "## Apress - Industrialized Machine Learning Examples\n",
    "\n",
    "Andreas Francois Vermeulen\n",
    "2019\n",
    "\n",
    "### This is an example add-on to a book and needs to be accepted as part of that copyright."
   ]
  },
  {
   "cell_type": "markdown",
   "metadata": {},
   "source": [
    "# Chapter-007-010-xgboost-01"
   ]
  },
  {
   "cell_type": "code",
   "execution_count": 1,
   "metadata": {},
   "outputs": [],
   "source": [
    "import os\n",
    "import math\n",
    "from numpy import loadtxt\n",
    "from xgboost import XGBClassifier\n",
    "from sklearn.model_selection import train_test_split\n",
    "from sklearn.metrics import accuracy_score"
   ]
  },
  {
   "cell_type": "code",
   "execution_count": 2,
   "metadata": {},
   "outputs": [
    {
     "name": "stdout",
     "output_type": "stream",
     "text": [
      "C:\\Users\\AndreVermeulen\\Documents\\My Book\\apress\\Industrial Machine Learning\\book\\GitHub\\Upload\\industrial-machine-learning\\data\n",
      "C:\\Users\\AndreVermeulen\\Documents\\My Book\\apress\\Industrial Machine Learning\\book\\GitHub\\Upload\\industrial-machine-learning\\data\\Sickness13.csv\n"
     ]
    }
   ],
   "source": [
    "# load Sickness version 13 dataset\n",
    "data_dir = os.path.abspath(os.path.join(\"..\",\"..\", \"data\"))\n",
    "print(data_dir)\n",
    "data_file = os.path.join(data_dir, \"Sickness13.csv\")\n",
    "print(data_file)"
   ]
  },
  {
   "cell_type": "code",
   "execution_count": 3,
   "metadata": {},
   "outputs": [
    {
     "name": "stdout",
     "output_type": "stream",
     "text": [
      "Raw Data Set: (768, 9)\n",
      "Data Set: (768, 9)\n"
     ]
    }
   ],
   "source": [
    "rawdata = loadtxt(data_file, delimiter=\",\")\n",
    "print('Raw Data Set:', rawdata.shape)\n",
    "dataset = rawdata[:]\n",
    "print('Data Set:', dataset.shape)"
   ]
  },
  {
   "cell_type": "code",
   "execution_count": 4,
   "metadata": {},
   "outputs": [
    {
     "name": "stdout",
     "output_type": "stream",
     "text": [
      "X: (768, 8)\n",
      "Y: (768,)\n"
     ]
    }
   ],
   "source": [
    "# split into input (X) and output (Y) variables\n",
    "X = dataset[:,0:8]\n",
    "Y = dataset[:,8]\n",
    "print('X:', X.shape)\n",
    "print('Y:', Y.shape)"
   ]
  },
  {
   "cell_type": "code",
   "execution_count": 5,
   "metadata": {},
   "outputs": [
    {
     "name": "stdout",
     "output_type": "stream",
     "text": [
      "Accuracy: 82.0513%\n"
     ]
    }
   ],
   "source": [
    "# split data into train and test sets\n",
    "seed = 1968\n",
    "test_size = 0.05\n",
    "X_train, X_test, y_train, y_test = train_test_split(X, Y, test_size=test_size, random_state=seed)\n",
    "# fit model no training data\n",
    "model = XGBClassifier()\n",
    "model.fit(X_train, y_train)\n",
    "# make predictions for test data\n",
    "y_pred = model.predict(X_test)\n",
    "predictions = [round(value) for value in y_pred]\n",
    "# evaluate predictions\n",
    "accuracy = accuracy_score(y_test, predictions)\n",
    "print(\"Accuracy: %.4f%%\" % (accuracy * 100.000))"
   ]
  },
  {
   "cell_type": "code",
   "execution_count": 6,
   "metadata": {},
   "outputs": [
    {
     "name": "stdout",
     "output_type": "stream",
     "text": [
      "0   -> [1.0, 89.0, 76.0, 34.0, 37.0, 31.2, 0.192, 23.0]   => 0 => 0 # Yes\n",
      "1   -> [4.0, 173.0, 70.0, 14.0, 168.0, 29.7, 0.361, 33.0] => 1 => 1 # Yes\n",
      "2   -> [5.0, 95.0, 72.0, 33.0, 0.0, 37.7, 0.37, 27.0]     => 0 => 0 # Yes\n",
      "3   -> [3.0, 128.0, 72.0, 25.0, 190.0, 32.4, 0.549, 27.0] => 0 => 1 # No\n",
      "4   -> [0.0, 135.0, 68.0, 42.0, 250.0, 42.3, 0.365, 24.0] => 0 => 1 # No\n",
      "5   -> [1.0, 136.0, 74.0, 50.0, 204.0, 37.4, 0.399, 24.0] => 0 => 0 # Yes\n",
      "6   -> [9.0, 130.0, 70.0, 0.0, 0.0, 34.2, 0.652, 45.0]    => 1 => 1 # Yes\n",
      "7   -> [0.0, 119.0, 66.0, 27.0, 0.0, 38.8, 0.259, 22.0]   => 0 => 0 # Yes\n",
      "8   -> [10.0, 148.0, 84.0, 48.0, 237.0, 37.6, 1.001, 51.0] => 1 => 1 # Yes\n",
      "9   -> [5.0, 121.0, 72.0, 23.0, 112.0, 26.2, 0.245, 30.0] => 0 => 0 # Yes\n",
      "10  -> [2.0, 99.0, 52.0, 15.0, 94.0, 24.6, 0.637, 21.0]   => 0 => 0 # Yes\n",
      "11  -> [1.0, 118.0, 58.0, 36.0, 94.0, 33.3, 0.261, 23.0]  => 0 => 0 # Yes\n",
      "12  -> [1.0, 121.0, 78.0, 39.0, 74.0, 39.0, 0.261, 28.0]  => 0 => 0 # Yes\n",
      "13  -> [0.0, 86.0, 68.0, 32.0, 0.0, 35.8, 0.238, 25.0]    => 0 => 0 # Yes\n",
      "14  -> [2.0, 127.0, 58.0, 24.0, 275.0, 27.7, 1.6, 25.0]   => 0 => 0 # Yes\n",
      "15  -> [1.0, 119.0, 88.0, 41.0, 170.0, 45.3, 0.507, 26.0] => 0 => 0 # Yes\n",
      "16  -> [0.0, 101.0, 76.0, 0.0, 0.0, 35.7, 0.198, 26.0]    => 0 => 0 # Yes\n",
      "17  -> [3.0, 129.0, 64.0, 29.0, 115.0, 26.4, 0.219, 28.0] => 0 => 1 # No\n",
      "18  -> [4.0, 76.0, 62.0, 0.0, 0.0, 34.0, 0.391, 25.0]     => 0 => 0 # Yes\n",
      "19  -> [1.0, 109.0, 56.0, 21.0, 135.0, 25.2, 0.833, 23.0] => 0 => 0 # Yes\n",
      "20  -> [4.0, 146.0, 92.0, 0.0, 0.0, 31.2, 0.539, 61.0]    => 1 => 1 # Yes\n",
      "21  -> [5.0, 144.0, 82.0, 26.0, 285.0, 32.0, 0.452, 58.0] => 0 => 1 # No\n",
      "22  -> [8.0, 120.0, 0.0, 0.0, 0.0, 30.0, 0.183, 38.0]     => 1 => 1 # Yes\n",
      "23  -> [2.0, 174.0, 88.0, 37.0, 120.0, 44.5, 0.646, 24.0] => 1 => 1 # Yes\n",
      "24  -> [7.0, 187.0, 50.0, 33.0, 392.0, 33.9, 0.826, 34.0] => 1 => 1 # Yes\n",
      "25  -> [6.0, 144.0, 72.0, 27.0, 228.0, 33.9, 0.255, 40.0] => 1 => 0 # No\n",
      "26  -> [1.0, 100.0, 74.0, 12.0, 46.0, 19.5, 0.149, 28.0]  => 0 => 0 # Yes\n",
      "27  -> [1.0, 77.0, 56.0, 30.0, 56.0, 33.3, 1.251, 24.0]   => 0 => 0 # Yes\n",
      "28  -> [5.0, 99.0, 54.0, 28.0, 83.0, 34.0, 0.499, 30.0]   => 0 => 0 # Yes\n",
      "29  -> [0.0, 102.0, 52.0, 0.0, 0.0, 25.1, 0.078, 21.0]    => 0 => 0 # Yes\n",
      "30  -> [0.0, 113.0, 76.0, 0.0, 0.0, 33.3, 0.278, 23.0]    => 0 => 1 # No\n",
      "31  -> [3.0, 171.0, 72.0, 33.0, 135.0, 33.3, 0.199, 24.0] => 1 => 1 # Yes\n",
      "32  -> [3.0, 174.0, 58.0, 22.0, 194.0, 32.9, 0.593, 36.0] => 1 => 1 # Yes\n",
      "33  -> [0.0, 97.0, 64.0, 36.0, 100.0, 36.8, 0.6, 25.0]    => 0 => 0 # Yes\n",
      "34  -> [5.0, 136.0, 82.0, 0.0, 0.0, 0.0, 0.64, 69.0]      => 0 => 0 # Yes\n",
      "35  -> [7.0, 133.0, 84.0, 0.0, 0.0, 40.2, 0.696, 37.0]    => 1 => 0 # No\n",
      "36  -> [3.0, 129.0, 92.0, 49.0, 155.0, 36.4, 0.968, 32.0] => 1 => 1 # Yes\n",
      "37  -> [8.0, 176.0, 90.0, 34.0, 300.0, 33.7, 0.467, 58.0] => 1 => 1 # Yes\n",
      "38  -> [10.0, 115.0, 98.0, 0.0, 0.0, 24.0, 1.022, 34.0]   => 0 => 0 # Yes\n"
     ]
    }
   ],
   "source": [
    "n=y_test.shape[0]\n",
    "for i in range(0,n):\n",
    "    f = list(X_test[i])\n",
    "    p = predictions[i]\n",
    "    r = y_test[i]\n",
    "    if p == r:\n",
    "        ch='Yes'\n",
    "    else:\n",
    "        ch='No'\n",
    "        \n",
    "    print(\"%-3d -> %-50s => %d => %d # %s\" % (i, f, p, r, ch))"
   ]
  },
  {
   "cell_type": "markdown",
   "metadata": {},
   "source": [
    "## Done"
   ]
  },
  {
   "cell_type": "code",
   "execution_count": 7,
   "metadata": {},
   "outputs": [
    {
     "name": "stdout",
     "output_type": "stream",
     "text": [
      "Done! 2019-10-19 20:33:53.815037\n"
     ]
    }
   ],
   "source": [
    "import datetime\n",
    "now = datetime.datetime.now()\n",
    "print('Done!',str(now))"
   ]
  },
  {
   "cell_type": "code",
   "execution_count": null,
   "metadata": {},
   "outputs": [],
   "source": []
  }
 ],
 "metadata": {
  "kernelspec": {
   "display_name": "Python 3",
   "language": "python",
   "name": "python3"
  },
  "language_info": {
   "codemirror_mode": {
    "name": "ipython",
    "version": 3
   },
   "file_extension": ".py",
   "mimetype": "text/x-python",
   "name": "python",
   "nbconvert_exporter": "python",
   "pygments_lexer": "ipython3",
   "version": "3.7.3"
  }
 },
 "nbformat": 4,
 "nbformat_minor": 2
}
