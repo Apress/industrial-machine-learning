{
 "cells": [
  {
   "cell_type": "markdown",
   "metadata": {},
   "source": [
    "## Apress - Industrialized Machine Learning Examples\n",
    "\n",
    "Andreas Francois Vermeulen\n",
    "2019\n",
    "\n",
    "### This is an example add-on to a book and needs to be accepted as part of that copyright."
   ]
  },
  {
   "cell_type": "markdown",
   "metadata": {},
   "source": [
    "# Chapter-007-009A-Keras-01"
   ]
  },
  {
   "cell_type": "code",
   "execution_count": 1,
   "metadata": {},
   "outputs": [],
   "source": [
    "from tensorflow.keras.models import Sequential\n",
    "from tensorflow.keras.layers import Dense\n",
    "import numpy as np\n",
    "import os\n",
    "# fix random seed for reproducibility\n",
    "np.random.seed(7)"
   ]
  },
  {
   "cell_type": "code",
   "execution_count": 2,
   "metadata": {},
   "outputs": [
    {
     "name": "stdout",
     "output_type": "stream",
     "text": [
      "C:\\Users\\AndreVermeulen\\Documents\\My Book\\apress\\Industrial Machine Learning\\book\\GitHub\\Upload\\industrial-machine-learning\\data\n",
      "C:\\Users\\AndreVermeulen\\Documents\\My Book\\apress\\Industrial Machine Learning\\book\\GitHub\\Upload\\industrial-machine-learning\\data\\Sickness13.csv\n"
     ]
    }
   ],
   "source": [
    "# load Sickness version 13 dataset\n",
    "data_dir = os.path.abspath(os.path.join(\"..\",\"..\", \"data\"))\n",
    "print(data_dir)\n",
    "data_file = os.path.join(data_dir, \"Sickness13.csv\")\n",
    "print(data_file)"
   ]
  },
  {
   "cell_type": "code",
   "execution_count": 3,
   "metadata": {},
   "outputs": [
    {
     "name": "stdout",
     "output_type": "stream",
     "text": [
      "Raw Data Set: (768, 9)\n",
      "Data Set: (768, 9)\n"
     ]
    }
   ],
   "source": [
    "rawdata = np.loadtxt(data_file, delimiter=\",\")\n",
    "print('Raw Data Set:', rawdata.shape)\n",
    "dataset = rawdata[:]\n",
    "print('Data Set:', dataset.shape)"
   ]
  },
  {
   "cell_type": "code",
   "execution_count": 4,
   "metadata": {},
   "outputs": [
    {
     "name": "stdout",
     "output_type": "stream",
     "text": [
      "X: (768, 8)\n",
      "Y: (768,)\n"
     ]
    }
   ],
   "source": [
    "# split into input (X) and output (Y) variables\n",
    "X = np.array(dataset[:,0:8], dtype=np.int64)\n",
    "Y = np.array(dataset[:,8], dtype=np.int64)\n",
    "print('X:', X.shape)\n",
    "print('Y:', Y.shape)"
   ]
  },
  {
   "cell_type": "code",
   "execution_count": 5,
   "metadata": {},
   "outputs": [
    {
     "name": "stdout",
     "output_type": "stream",
     "text": [
      "WARNING:tensorflow:From C:\\Users\\AndreVermeulen\\.conda\\envs\\andre\\lib\\site-packages\\tensorflow\\python\\ops\\init_ops.py:1251: calling VarianceScaling.__init__ (from tensorflow.python.ops.init_ops) with dtype is deprecated and will be removed in a future version.\n",
      "Instructions for updating:\n",
      "Call initializer instance with the dtype argument instead of passing it to the constructor\n"
     ]
    }
   ],
   "source": [
    "# Create model\n",
    "model = Sequential()\n",
    "\n",
    "model.add(Dense(8, \n",
    "                input_dim=8, \n",
    "                activation='relu'\n",
    "               )\n",
    "         )\n",
    "\n",
    "model.add(Dense(8, \n",
    "                activation='sigmoid'\n",
    "               )\n",
    "         )\n",
    "\n",
    "model.add(Dense(4, \n",
    "                activation='relu'\n",
    "               )\n",
    "         )\n",
    "\n",
    "model.add(Dense(1, \n",
    "                activation='sigmoid'\n",
    "               )\n",
    "         )\n"
   ]
  },
  {
   "cell_type": "code",
   "execution_count": 6,
   "metadata": {},
   "outputs": [
    {
     "name": "stdout",
     "output_type": "stream",
     "text": [
      "WARNING:tensorflow:From C:\\Users\\AndreVermeulen\\.conda\\envs\\andre\\lib\\site-packages\\tensorflow\\python\\ops\\nn_impl.py:180: add_dispatch_support.<locals>.wrapper (from tensorflow.python.ops.array_ops) is deprecated and will be removed in a future version.\n",
      "Instructions for updating:\n",
      "Use tf.where in 2.0, which has the same broadcast rule as np.where\n"
     ]
    }
   ],
   "source": [
    "# Compile model\n",
    "model.compile(loss='binary_crossentropy', \n",
    "              optimizer='adam', \n",
    "              metrics=['accuracy']\n",
    "             )"
   ]
  },
  {
   "cell_type": "code",
   "execution_count": 7,
   "metadata": {},
   "outputs": [
    {
     "name": "stdout",
     "output_type": "stream",
     "text": [
      "Epoch 1/50\n",
      "100/100 [==============================] - 12s 124ms/step - loss: 0.6694 - acc: 0.5952\n",
      "Epoch 2/50\n",
      "100/100 [==============================] - 10s 105ms/step - loss: 0.6315 - acc: 0.6510\n",
      "Epoch 3/50\n",
      "100/100 [==============================] - 11s 106ms/step - loss: 0.6124 - acc: 0.6510\n",
      "Epoch 4/50\n",
      "100/100 [==============================] - 11s 107ms/step - loss: 0.5942 - acc: 0.6510\n",
      "Epoch 5/50\n",
      "100/100 [==============================] - 11s 107ms/step - loss: 0.5798 - acc: 0.6535\n",
      "Epoch 6/50\n",
      "100/100 [==============================] - 10s 102ms/step - loss: 0.5677 - acc: 0.7057\n",
      "Epoch 7/50\n",
      "100/100 [==============================] - 12s 117ms/step - loss: 0.5573 - acc: 0.7053\n",
      "Epoch 8/50\n",
      "100/100 [==============================] - 10s 99ms/step - loss: 0.5505 - acc: 0.7130\n",
      "Epoch 9/50\n",
      "100/100 [==============================] - 10s 105ms/step - loss: 0.5457 - acc: 0.7184\n",
      "Epoch 10/50\n",
      "100/100 [==============================] - 10s 103ms/step - loss: 0.5413 - acc: 0.7209\n",
      "Epoch 11/50\n",
      "100/100 [==============================] - 10s 102ms/step - loss: 0.5375 - acc: 0.7240\n",
      "Epoch 12/50\n",
      "100/100 [==============================] - 10s 100ms/step - loss: 0.5339 - acc: 0.7292\n",
      "Epoch 13/50\n",
      "100/100 [==============================] - 10s 102ms/step - loss: 0.5298 - acc: 0.7313\n",
      "Epoch 14/50\n",
      "100/100 [==============================] - 10s 97ms/step - loss: 0.5277 - acc: 0.7328\n",
      "Epoch 15/50\n",
      "100/100 [==============================] - 11s 105ms/step - loss: 0.5263 - acc: 0.73562s -\n",
      "Epoch 16/50\n",
      "100/100 [==============================] - 9s 88ms/step - loss: 0.5252 - acc: 0.7359\n",
      "Epoch 17/50\n",
      "100/100 [==============================] - 7s 73ms/step - loss: 0.5244 - acc: 0.7366\n",
      "Epoch 18/50\n",
      "100/100 [==============================] - 1s 14ms/step - loss: 0.5234 - acc: 0.7382\n",
      "Epoch 19/50\n",
      "100/100 [==============================] - 1s 13ms/step - loss: 0.5227 - acc: 0.7395\n",
      "Epoch 20/50\n",
      "100/100 [==============================] - 1s 13ms/step - loss: 0.5221 - acc: 0.7412\n",
      "Epoch 21/50\n",
      "100/100 [==============================] - 1s 13ms/step - loss: 0.5214 - acc: 0.7424\n",
      "Epoch 22/50\n",
      "100/100 [==============================] - 1s 13ms/step - loss: 0.5209 - acc: 0.7430\n",
      "Epoch 23/50\n",
      "100/100 [==============================] - 1s 12ms/step - loss: 0.5205 - acc: 0.7430\n",
      "Epoch 24/50\n",
      "100/100 [==============================] - 1s 12ms/step - loss: 0.5200 - acc: 0.7428\n",
      "Epoch 25/50\n",
      "100/100 [==============================] - 1s 12ms/step - loss: 0.5197 - acc: 0.7428\n",
      "Epoch 26/50\n",
      "100/100 [==============================] - 1s 13ms/step - loss: 0.5193 - acc: 0.7432\n",
      "Epoch 27/50\n",
      "100/100 [==============================] - 1s 13ms/step - loss: 0.5190 - acc: 0.7443: 1s - loss: 0.5\n",
      "Epoch 28/50\n",
      "100/100 [==============================] - 1s 13ms/step - loss: 0.5186 - acc: 0.7452\n",
      "Epoch 29/50\n",
      "100/100 [==============================] - 1s 13ms/step - loss: 0.5181 - acc: 0.7464\n",
      "Epoch 30/50\n",
      "100/100 [==============================] - 1s 13ms/step - loss: 0.5177 - acc: 0.7480\n",
      "Epoch 31/50\n",
      "100/100 [==============================] - 1s 14ms/step - loss: 0.5174 - acc: 0.7484\n",
      "Epoch 32/50\n",
      "100/100 [==============================] - 1s 13ms/step - loss: 0.5170 - acc: 0.7492\n",
      "Epoch 33/50\n",
      "100/100 [==============================] - 2s 16ms/step - loss: 0.5167 - acc: 0.7505\n",
      "Epoch 34/50\n",
      "100/100 [==============================] - 2s 15ms/step - loss: 0.5164 - acc: 0.7509\n",
      "Epoch 35/50\n",
      "100/100 [==============================] - 1s 13ms/step - loss: 0.5159 - acc: 0.7508\n",
      "Epoch 36/50\n",
      "100/100 [==============================] - 1s 14ms/step - loss: 0.5155 - acc: 0.7502\n",
      "Epoch 37/50\n",
      "100/100 [==============================] - 2s 17ms/step - loss: 0.5152 - acc: 0.7504\n",
      "Epoch 38/50\n",
      "100/100 [==============================] - 1s 13ms/step - loss: 0.5149 - acc: 0.7509\n",
      "Epoch 39/50\n",
      "100/100 [==============================] - 2s 16ms/step - loss: 0.5147 - acc: 0.7519\n",
      "Epoch 40/50\n",
      "100/100 [==============================] - 1s 14ms/step - loss: 0.5144 - acc: 0.7523\n",
      "Epoch 41/50\n",
      "100/100 [==============================] - 1s 14ms/step - loss: 0.5141 - acc: 0.7527\n",
      "Epoch 42/50\n",
      "100/100 [==============================] - 2s 19ms/step - loss: 0.5139 - acc: 0.7520\n",
      "Epoch 43/50\n",
      "100/100 [==============================] - 1s 14ms/step - loss: 0.5135 - acc: 0.7526\n",
      "Epoch 44/50\n",
      "100/100 [==============================] - 1s 14ms/step - loss: 0.5133 - acc: 0.7528\n",
      "Epoch 45/50\n",
      "100/100 [==============================] - 1s 6ms/step - loss: 0.5131 - acc: 0.7527\n",
      "Epoch 46/50\n",
      "100/100 [==============================] - 0s 5ms/step - loss: 0.5128 - acc: 0.7528\n",
      "Epoch 47/50\n",
      "100/100 [==============================] - 1s 6ms/step - loss: 0.5125 - acc: 0.7529\n",
      "Epoch 48/50\n",
      "100/100 [==============================] - 0s 5ms/step - loss: 0.5123 - acc: 0.7529\n",
      "Epoch 49/50\n",
      "100/100 [==============================] - 1s 5ms/step - loss: 0.5120 - acc: 0.7532\n",
      "Epoch 50/50\n",
      "100/100 [==============================] - 1s 6ms/step - loss: 0.5117 - acc: 0.7532\n"
     ]
    },
    {
     "data": {
      "text/plain": [
       "<tensorflow.python.keras.callbacks.History at 0x28d2c3b6358>"
      ]
     },
     "execution_count": 7,
     "metadata": {},
     "output_type": "execute_result"
    }
   ],
   "source": [
    "# Fit the model\n",
    "model.fit(X, \n",
    "          Y, \n",
    "          epochs=50, \n",
    "          batch_size=32,\n",
    "          steps_per_epoch=100, \n",
    "          shuffle=True,\n",
    "          workers=8,\n",
    "          use_multiprocessing=True, \n",
    "          verbose=True\n",
    "         )"
   ]
  },
  {
   "cell_type": "code",
   "execution_count": 8,
   "metadata": {},
   "outputs": [
    {
     "name": "stdout",
     "output_type": "stream",
     "text": [
      "1000/1000 [==============================] - 3s 3ms/step - loss: 0.5117 - acc: 0.7526\n",
      "\n",
      "acc: 75.26042%\n"
     ]
    }
   ],
   "source": [
    "# evaluate the model\n",
    "scores = model.evaluate(X, \n",
    "                        Y, \n",
    "                        workers=32, \n",
    "                        use_multiprocessing=True, \n",
    "                        steps=1000, \n",
    "                        verbose=1\n",
    "                       )\n",
    "\n",
    "print(\"\\n%s: %.5f%%\" % (model.metrics_names[1], scores[1]*100))"
   ]
  },
  {
   "cell_type": "code",
   "execution_count": 9,
   "metadata": {},
   "outputs": [],
   "source": [
    "# Calculate predictions\n",
    "predictions = model.predict(X)\n",
    "\n",
    "#print(predictions.shape)\n",
    "rounded = [int(round(x[0],0)) for x in predictions]"
   ]
  },
  {
   "cell_type": "code",
   "execution_count": 10,
   "metadata": {},
   "outputs": [
    {
     "name": "stdout",
     "output_type": "stream",
     "text": [
      "   0 -> 0.8292 =>  1 =>  1 # Yes\n",
      "   1 -> 0.2074 =>  0 =>  0 # Yes\n",
      "   2 -> 0.8312 =>  1 =>  1 # Yes\n",
      "   3 -> 0.1159 =>  0 =>  0 # Yes\n",
      "   4 -> 0.5331 =>  1 =>  1 # Yes\n",
      "   5 -> 0.2310 =>  0 =>  0 # Yes\n",
      "   6 -> 0.3683 =>  0 =>  1 # No\n",
      "   7 -> 0.3900 =>  0 =>  0 # Yes\n",
      "   8 -> 0.5331 =>  1 =>  1 # Yes\n",
      "   9 -> 0.4487 =>  0 =>  1 # No\n"
     ]
    }
   ],
   "source": [
    "j=predictions.shape[0]\n",
    "j=10\n",
    "\n",
    "for i in range(j):\n",
    "    p = rounded[i]\n",
    "    r = Y[i]\n",
    "    if p == r:\n",
    "        ch='Yes'\n",
    "    else:\n",
    "        ch='No'\n",
    "        \n",
    "    print(\"%4.0f -> %2.4f => %2.0f => %2.0f # %s\" % (i, predictions[i], p, r, ch))"
   ]
  },
  {
   "cell_type": "markdown",
   "metadata": {},
   "source": [
    "## Done"
   ]
  },
  {
   "cell_type": "code",
   "execution_count": 11,
   "metadata": {},
   "outputs": [
    {
     "name": "stdout",
     "output_type": "stream",
     "text": [
      "Done! 2019-10-19 20:38:10.226034\n"
     ]
    }
   ],
   "source": [
    "import datetime\n",
    "now = datetime.datetime.now()\n",
    "print('Done!',str(now))"
   ]
  }
 ],
 "metadata": {
  "kernelspec": {
   "display_name": "Python 3",
   "language": "python",
   "name": "python3"
  },
  "language_info": {
   "codemirror_mode": {
    "name": "ipython",
    "version": 3
   },
   "file_extension": ".py",
   "mimetype": "text/x-python",
   "name": "python",
   "nbconvert_exporter": "python",
   "pygments_lexer": "ipython3",
   "version": "3.7.3"
  }
 },
 "nbformat": 4,
 "nbformat_minor": 2
}
