{
 "cells": [
  {
   "cell_type": "markdown",
   "metadata": {},
   "source": [
    "## Apress - Industrialized Machine Learning Examples\n",
    "\n",
    "Andreas Francois Vermeulen\n",
    "2019\n",
    "\n",
    "### This is an example add-on to a book and needs to be accepted as part of that copyright."
   ]
  },
  {
   "cell_type": "markdown",
   "metadata": {},
   "source": [
    "# Chapter-007-004B-CNN-01 - MNIST Data Processor"
   ]
  },
  {
   "cell_type": "markdown",
   "metadata": {},
   "source": [
    "## Part A - Load Data"
   ]
  },
  {
   "cell_type": "code",
   "execution_count": 1,
   "metadata": {},
   "outputs": [],
   "source": [
    "import os"
   ]
  },
  {
   "cell_type": "code",
   "execution_count": 2,
   "metadata": {},
   "outputs": [],
   "source": [
    "data_dir = os.path.abspath(os.path.join(\"..\",\"..\", \"data\", \"MNIST\"))\n",
    "print(data_dir)"
   ]
  },
  {
   "cell_type": "code",
   "execution_count": 3,
   "metadata": {},
   "outputs": [],
   "source": [
    "trainfilename = os.path.join(data_dir, \"mnist_train.csv\")\n",
    "testfilename = os.path.join(data_dir, \"mnist_test.csv\")\n",
    "pickledfilename = os.path.join(data_dir, \"pickled_mnist.pkl\")\n",
    "print(trainfilename)"
   ]
  },
  {
   "cell_type": "code",
   "execution_count": 4,
   "metadata": {},
   "outputs": [],
   "source": [
    "%matplotlib inline\n",
    "import numpy as np\n",
    "import matplotlib.pyplot as plt"
   ]
  },
  {
   "cell_type": "code",
   "execution_count": 5,
   "metadata": {},
   "outputs": [],
   "source": [
    "image_size = 28 # width and length\n",
    "no_of_different_labels = 10 #  i.e. 0, 1, 2, 3, ..., 9\n",
    "image_pixels = image_size * image_size\n",
    "train_data = np.loadtxt(trainfilename, delimiter=',')\n",
    "test_data = np.loadtxt(testfilename, delimiter=',') "
   ]
  },
  {
   "cell_type": "code",
   "execution_count": 6,
   "metadata": {},
   "outputs": [],
   "source": [
    "fac = 255  *0.99 + 0.01\n",
    "train_imgs = np.asfarray(train_data[:, 1:]) / fac\n",
    "test_imgs = np.asfarray(test_data[:, 1:]) / fac\n",
    "train_labels = np.asfarray(train_data[:, :1])\n",
    "test_labels = np.asfarray(test_data[:, :1])"
   ]
  },
  {
   "cell_type": "code",
   "execution_count": 7,
   "metadata": {},
   "outputs": [
    {
     "name": "stdout",
     "output_type": "stream",
     "text": [
      "label:  0  in one-hot representation:  [1 0 0 0 0 0 0 0 0 0]\n",
      "label:  1  in one-hot representation:  [0 1 0 0 0 0 0 0 0 0]\n",
      "label:  2  in one-hot representation:  [0 0 1 0 0 0 0 0 0 0]\n",
      "label:  3  in one-hot representation:  [0 0 0 1 0 0 0 0 0 0]\n",
      "label:  4  in one-hot representation:  [0 0 0 0 1 0 0 0 0 0]\n",
      "label:  5  in one-hot representation:  [0 0 0 0 0 1 0 0 0 0]\n",
      "label:  6  in one-hot representation:  [0 0 0 0 0 0 1 0 0 0]\n",
      "label:  7  in one-hot representation:  [0 0 0 0 0 0 0 1 0 0]\n",
      "label:  8  in one-hot representation:  [0 0 0 0 0 0 0 0 1 0]\n",
      "label:  9  in one-hot representation:  [0 0 0 0 0 0 0 0 0 1]\n"
     ]
    }
   ],
   "source": [
    "import numpy as np\n",
    "lr = np.arange(10)\n",
    "for label in range(10):\n",
    "    one_hot = (lr==label).astype(np.int)\n",
    "    print(\"label: \", label, \" in one-hot representation: \", one_hot)"
   ]
  },
  {
   "cell_type": "code",
   "execution_count": 8,
   "metadata": {},
   "outputs": [],
   "source": [
    "lr = np.arange(no_of_different_labels)\n",
    "# transform labels into one hot representation\n",
    "train_labels_one_hot = (lr==train_labels).astype(np.float)\n",
    "test_labels_one_hot = (lr==test_labels).astype(np.float)\n",
    "# we don't want zeroes and ones in the labels neither:\n",
    "train_labels_one_hot[train_labels_one_hot==0] = 0.01\n",
    "train_labels_one_hot[train_labels_one_hot==1] = 0.99\n",
    "test_labels_one_hot[test_labels_one_hot==0] = 0.01\n",
    "test_labels_one_hot[test_labels_one_hot==1] = 0.99"
   ]
  },
  {
   "cell_type": "code",
   "execution_count": 9,
   "metadata": {},
   "outputs": [
    {
     "name": "stdout",
     "output_type": "stream",
     "text": [
      "(60000, 784)\n"
     ]
    }
   ],
   "source": [
    "print(train_imgs.shape)"
   ]
  },
  {
   "cell_type": "code",
   "execution_count": 10,
   "metadata": {},
   "outputs": [
    {
     "data": {
      "image/png": "[encoded data removed]",
      "text/plain": [
       "<Figure size 432x288 with 1 Axes>"
      ]
     },
     "metadata": {
      "needs_background": "light"
     },
     "output_type": "display_data"
    },
    {
     "data": {
      "image/png": "[encoded data removed]",
      "text/plain": [
       "<Figure size 432x288 with 1 Axes>"
      ]
     },
     "metadata": {
      "needs_background": "light"
     },
     "output_type": "display_data"
    },
    {
     "data": {
      "image/png": "[encoded data removed]",
      "text/plain": [
       "<Figure size 432x288 with 1 Axes>"
      ]
     },
     "metadata": {
      "needs_background": "light"
     },
     "output_type": "display_data"
    }
   ],
   "source": [
    "for i in range(5550, 5553):\n",
    "    img = train_imgs[i].reshape((28,28))\n",
    "    plt.imshow(img, cmap=\"Greys\")\n",
    "    plt.show()"
   ]
  },
  {
   "cell_type": "code",
   "execution_count": 11,
   "metadata": {},
   "outputs": [],
   "source": [
    "import pickle\n",
    "with open(pickledfilename, \"bw\") as fh:\n",
    "    data = (train_imgs, \n",
    "            test_imgs, \n",
    "            train_labels,\n",
    "            test_labels,\n",
    "            train_labels_one_hot,\n",
    "            test_labels_one_hot)\n",
    "    pickle.dump(data, fh)"
   ]
  },
  {
   "cell_type": "code",
   "execution_count": 12,
   "metadata": {},
   "outputs": [],
   "source": [
    "import pickle\n",
    "with open(pickledfilename, \"br\") as fh:\n",
    "    data = pickle.load(fh)\n",
    "    \n",
    "train_imgs = data[0]\n",
    "test_imgs = data[1]\n",
    "train_labels = data[2]\n",
    "test_labels = data[3]\n",
    "train_labels_one_hot = data[4]\n",
    "test_labels_one_hot = data[5]\n",
    "image_size = 28 # width and length\n",
    "no_of_different_labels = 10 #  i.e. 0, 1, 2, 3, ..., 9\n",
    "image_pixels = image_size * image_size"
   ]
  },
  {
   "cell_type": "code",
   "execution_count": 13,
   "metadata": {},
   "outputs": [
    {
     "name": "stdout",
     "output_type": "stream",
     "text": [
      "Train=> (60000, 784)\n",
      "Test==> (10000, 784)\n"
     ]
    }
   ],
   "source": [
    "print('Train=>', train_imgs.shape)\n",
    "print('Test==>', test_imgs.shape)"
   ]
  },
  {
   "cell_type": "markdown",
   "metadata": {},
   "source": [
    "## Part B - Create Network function"
   ]
  },
  {
   "cell_type": "code",
   "execution_count": 14,
   "metadata": {},
   "outputs": [],
   "source": [
    "import numpy as np\n",
    "@np.vectorize\n",
    "def sigmoid(x):\n",
    "    return 1 / (1 + np.e ** -x)\n",
    "activation_function = sigmoid\n",
    "from scipy.stats import truncnorm\n",
    "def truncated_normal(mean=0, sd=1, low=0, upp=10):\n",
    "    return truncnorm((low - mean) / sd, \n",
    "                     (upp - mean) / sd, \n",
    "                     loc=mean, \n",
    "                     scale=sd)"
   ]
  },
  {
   "cell_type": "markdown",
   "metadata": {},
   "source": [
    "## Part C - Create NeuralNetwork"
   ]
  },
  {
   "cell_type": "code",
   "execution_count": 15,
   "metadata": {},
   "outputs": [],
   "source": [
    "class NeuralNetwork:\n",
    "    \n",
    "    def __init__(self, \n",
    "                 no_of_in_nodes, \n",
    "                 no_of_out_nodes, \n",
    "                 no_of_hidden_nodes,\n",
    "                 learning_rate):\n",
    "        self.no_of_in_nodes = no_of_in_nodes\n",
    "        self.no_of_out_nodes = no_of_out_nodes\n",
    "        self.no_of_hidden_nodes = no_of_hidden_nodes\n",
    "        self.learning_rate = learning_rate \n",
    "        self.create_weight_matrices()\n",
    "        \n",
    "    def create_weight_matrices(self):\n",
    "        \"\"\" \n",
    "        A method to initialize the weight \n",
    "        matrices of the neural network\n",
    "        \"\"\"\n",
    "        rad = 1 / np.sqrt(self.no_of_in_nodes)\n",
    "        X = truncated_normal(mean=0, \n",
    "                             sd=1, \n",
    "                             low=-rad, \n",
    "                             upp=rad)\n",
    "        self.wih = X.rvs((self.no_of_hidden_nodes, \n",
    "                                       self.no_of_in_nodes))\n",
    "        rad = 1 / np.sqrt(self.no_of_hidden_nodes)\n",
    "        X = truncated_normal(mean=0, sd=1, low=-rad, upp=rad)\n",
    "        self.who = X.rvs((self.no_of_out_nodes, \n",
    "                                         self.no_of_hidden_nodes))\n",
    "        \n",
    "    \n",
    "    def train(self, input_vector, target_vector):\n",
    "        \"\"\"\n",
    "        input_vector and target_vector can \n",
    "        be tuple, list or ndarray\n",
    "        \"\"\"\n",
    "        \n",
    "        input_vector = np.array(input_vector, ndmin=2).T\n",
    "        target_vector = np.array(target_vector, ndmin=2).T\n",
    "        \n",
    "        output_vector1 = np.dot(self.wih, \n",
    "                                input_vector)\n",
    "        output_hidden = activation_function(output_vector1)\n",
    "        \n",
    "        output_vector2 = np.dot(self.who, \n",
    "                                output_hidden)\n",
    "        output_network = activation_function(output_vector2)\n",
    "        \n",
    "        output_errors = target_vector - output_network\n",
    "        # update the weights:\n",
    "        tmp = output_errors * output_network \\\n",
    "              * (1.0 - output_network)     \n",
    "        tmp = self.learning_rate  * np.dot(tmp, \n",
    "                                           output_hidden.T)\n",
    "        self.who += tmp\n",
    "        # calculate hidden errors:\n",
    "        hidden_errors = np.dot(self.who.T, \n",
    "                               output_errors)\n",
    "        # update the weights:\n",
    "        tmp = hidden_errors * output_hidden * \\\n",
    "              (1.0 - output_hidden)\n",
    "        self.wih += self.learning_rate \\\n",
    "                          * np.dot(tmp, input_vector.T)\n",
    "        \n",
    "        \n",
    "    \n",
    "    def run(self, input_vector):\n",
    "        # input_vector can be tuple, list or ndarray\n",
    "        input_vector = np.array(input_vector, ndmin=2).T\n",
    "        output_vector = np.dot(self.wih, \n",
    "                               input_vector)\n",
    "        output_vector = activation_function(output_vector)\n",
    "        \n",
    "        output_vector = np.dot(self.who, \n",
    "                               output_vector)\n",
    "        output_vector = activation_function(output_vector)\n",
    "    \n",
    "        return output_vector\n",
    "            \n",
    "    def confusion_matrix(self, data_array, labels):\n",
    "        cm = np.zeros((10, 10), int)\n",
    "        for i in range(len(data_array)):\n",
    "            res = self.run(data_array[i])\n",
    "            res_max = res.argmax()\n",
    "            target = labels[i][0]\n",
    "            cm[res_max, int(target)] += 1\n",
    "        return cm    \n",
    "    def precision(self, label, confusion_matrix):\n",
    "        col = confusion_matrix[:, label]\n",
    "        return confusion_matrix[label, label] / col.sum()\n",
    "    \n",
    "    def recall(self, label, confusion_matrix):\n",
    "        row = confusion_matrix[label, :]\n",
    "        return confusion_matrix[label, label] / row.sum()\n",
    "        \n",
    "    \n",
    "    def evaluate(self, data, labels):\n",
    "        corrects, wrongs = 0, 0\n",
    "        for i in range(len(data)):\n",
    "            res = self.run(data[i])\n",
    "            res_max = res.argmax()\n",
    "            if res_max == labels[i]:\n",
    "                corrects += 1\n",
    "            else:\n",
    "                wrongs += 1\n",
    "        return corrects, wrongs"
   ]
  },
  {
   "cell_type": "code",
   "execution_count": 16,
   "metadata": {},
   "outputs": [],
   "source": [
    "ANN = NeuralNetwork(no_of_in_nodes = image_pixels, \n",
    "                    no_of_out_nodes = 10, \n",
    "                    no_of_hidden_nodes = 100,\n",
    "                    learning_rate = 0.1)"
   ]
  },
  {
   "cell_type": "markdown",
   "metadata": {},
   "source": [
    "## Part D - Train NeuralNetwork"
   ]
  },
  {
   "cell_type": "code",
   "execution_count": 17,
   "metadata": {},
   "outputs": [
    {
     "name": "stdout",
     "output_type": "stream",
     "text": [
      "Train on 60000 images\n"
     ]
    }
   ],
   "source": [
    "print('Train on %d images' % (len(train_imgs)))"
   ]
  },
  {
   "cell_type": "code",
   "execution_count": 18,
   "metadata": {},
   "outputs": [],
   "source": [
    "for i in range(len(train_imgs)):\n",
    "    ANN.train(train_imgs[i], train_labels_one_hot[i])"
   ]
  },
  {
   "cell_type": "markdown",
   "metadata": {},
   "source": [
    "## Part E - Test NeuralNetwork"
   ]
  },
  {
   "cell_type": "code",
   "execution_count": 19,
   "metadata": {},
   "outputs": [
    {
     "name": "stdout",
     "output_type": "stream",
     "text": [
      "Test on 10000 images\n"
     ]
    }
   ],
   "source": [
    "print('Test on %d images' % (len(test_imgs)))"
   ]
  },
  {
   "cell_type": "code",
   "execution_count": 20,
   "metadata": {},
   "outputs": [
    {
     "name": "stdout",
     "output_type": "stream",
     "text": [
      "[7.] 7 0.9965675640430877\n",
      "[2.] 2 0.9093596569895718\n",
      "[1.] 1 0.9928484952822361\n",
      "[0.] 0 0.9777471249407637\n",
      "[4.] 4 0.9700056201161128\n"
     ]
    }
   ],
   "source": [
    "for i in range(5):\n",
    "    res = ANN.run(test_imgs[i])\n",
    "    print(test_labels[i], np.argmax(res), np.max(res))"
   ]
  },
  {
   "cell_type": "markdown",
   "metadata": {},
   "source": [
    "## Part F - Results for NeuralNetwork"
   ]
  },
  {
   "cell_type": "code",
   "execution_count": 21,
   "metadata": {},
   "outputs": [
    {
     "name": "stdout",
     "output_type": "stream",
     "text": [
      "Accuracy Train => 0.9442\n",
      "Accuracy Test ==> 0.9442\n",
      "====================================================\n",
      "\n",
      "[[5835    0   55   28   14   45   44   14   15   42]\n",
      " [   0 6618   50   17    9   29   19   53  100    7]\n",
      " [   3   16 5455   59    8   12    4   42   18    8]\n",
      " [   4   40  109 5804    3  157    2   28  122   62]\n",
      " [   9   16   65   10 5458   42   18   54   54   80]\n",
      " [   5    2    2   37    1 4885   21    0   12    6]\n",
      " [  28    4   46   17   51   72 5777    6   21    2]\n",
      " [   0    7   50   40    5    7    0 5782    2   29]\n",
      " [  30   19  112   51    7   76   32   16 5338   16]\n",
      " [   9   20   14   68  286   96    1  270  169 5697]]\n",
      "====================================================\n",
      "\n",
      "Digit: 0 Precision: 0.9851 Recall: 0.9578\n",
      "Digit: 1 Precision: 0.9816 Recall: 0.9589\n",
      "Digit: 2 Precision: 0.9156 Recall: 0.9698\n",
      "Digit: 3 Precision: 0.9467 Recall: 0.9168\n",
      "Digit: 4 Precision: 0.9343 Recall: 0.9401\n",
      "Digit: 5 Precision: 0.9011 Recall: 0.9827\n",
      "Digit: 6 Precision: 0.9762 Recall: 0.959\n",
      "Digit: 7 Precision: 0.9229 Recall: 0.9764\n",
      "Digit: 8 Precision: 0.9123 Recall: 0.937\n",
      "Digit: 9 Precision: 0.9576 Recall: 0.8593\n"
     ]
    }
   ],
   "source": [
    "corrects, wrongs = ANN.evaluate(train_imgs, train_labels)\n",
    "accruracy = corrects / ( corrects + wrongs)\n",
    "print(\"Accuracy Train =>\", float(\"{0:.4f}\".format(accruracy)))\n",
    "\n",
    "corrects, wrongs = ANN.evaluate(test_imgs, test_labels)\n",
    "accruracy = corrects / ( corrects + wrongs)\n",
    "print(\"Accuracy Test ==>\", float(\"{0:.4f}\".format(accruracy)))\n",
    "\n",
    "print('====================================================\\n')\n",
    "\n",
    "cm = ANN.confusion_matrix(train_imgs, train_labels)\n",
    "print(cm)\n",
    "\n",
    "print('====================================================\\n')\n",
    "for i in range(10):\n",
    "    print('Digit:', i, 'Precision:', float(\"{0:.4f}\".format(ANN.precision(i, cm))), 'Recall:' , float(\"{0:.4f}\".format(ANN.recall(i, cm))))"
   ]
  },
  {
   "cell_type": "markdown",
   "metadata": {},
   "source": [
    "## Part G - Run next NeuralNetwork"
   ]
  },
  {
   "cell_type": "code",
   "execution_count": 22,
   "metadata": {},
   "outputs": [
    {
     "name": "stdout",
     "output_type": "stream",
     "text": [
      "====================================================\n",
      "Epoch: 0\n",
      "====================================================\n",
      "Accuracy Train=> 0.944\n",
      "Accuracy Test==> 0.9412\n",
      "====================================================\n",
      "\n",
      "====================================================\n",
      "Epoch: 1\n",
      "====================================================\n",
      "Accuracy Train=> 0.9642\n",
      "Accuracy Test==> 0.958\n",
      "====================================================\n",
      "\n",
      "====================================================\n",
      "Epoch: 2\n",
      "====================================================\n",
      "Accuracy Train=> 0.97\n",
      "Accuracy Test==> 0.9614\n",
      "====================================================\n",
      "\n",
      "====================================================\n",
      "Epoch: 3\n",
      "====================================================\n",
      "Accuracy Train=> 0.9736\n",
      "Accuracy Test==> 0.9627\n",
      "====================================================\n",
      "\n",
      "====================================================\n",
      "Epoch: 4\n",
      "====================================================\n",
      "Accuracy Train=> 0.9745\n",
      "Accuracy Test==> 0.9635\n",
      "====================================================\n",
      "\n"
     ]
    }
   ],
   "source": [
    "epochs = 5\n",
    "NN = NeuralNetwork(no_of_in_nodes = image_pixels, \n",
    "                   no_of_out_nodes = 10, \n",
    "                   no_of_hidden_nodes = 100, \n",
    "                   learning_rate = 0.1\n",
    "                  )\n",
    "\n",
    "for epoch in range(epochs): \n",
    "    print('====================================================') \n",
    "    print('Epoch:', epoch)\n",
    "    print('====================================================')\n",
    "    for i in range(len(train_imgs)):\n",
    "        NN.train(train_imgs[i], train_labels_one_hot[i])\n",
    "  \n",
    "    corrects, wrongs = NN.evaluate(train_imgs, train_labels)\n",
    "    accruracy = corrects / ( corrects + wrongs)\n",
    "    print('Accuracy Train=>', float(\"{0:.4f}\".format(accruracy)))\n",
    "    \n",
    "    corrects, wrongs = NN.evaluate(test_imgs, test_labels)\n",
    "    accruracy = corrects / ( corrects + wrongs)\n",
    "    print('Accuracy Test==>', float(\"{0:.4f}\".format(accruracy)))\n",
    "    print('====================================================\\n')"
   ]
  },
  {
   "cell_type": "markdown",
   "metadata": {},
   "source": [
    "## Done"
   ]
  },
  {
   "cell_type": "code",
   "execution_count": 23,
   "metadata": {},
   "outputs": [
    {
     "name": "stdout",
     "output_type": "stream",
     "text": [
      "Done! 2019-10-19 20:37:25.600036\n"
     ]
    }
   ],
   "source": [
    "import datetime\n",
    "now = datetime.datetime.now()\n",
    "print('Done!',str(now))"
   ]
  }
 ],
 "metadata": {
  "kernelspec": {
   "display_name": "Python 3",
   "language": "python",
   "name": "python3"
  },
  "language_info": {
   "codemirror_mode": {
    "name": "ipython",
    "version": 3
   },
   "file_extension": ".py",
   "mimetype": "text/x-python",
   "name": "python",
   "nbconvert_exporter": "python",
   "pygments_lexer": "ipython3",
   "version": "3.7.3"
  }
 },
 "nbformat": 4,
 "nbformat_minor": 2
}
