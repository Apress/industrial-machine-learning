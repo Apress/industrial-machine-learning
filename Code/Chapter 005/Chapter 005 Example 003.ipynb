{
 "cells": [
  {
   "cell_type": "markdown",
   "metadata": {},
   "source": [
    "## Apress - Industrialized Machine Learning Examples\n",
    "\n",
    "Andreas Francois Vermeulen\n",
    "2019\n",
    "\n",
    "### This is an example add-on to a book and needs to be accepted as part of that copyright."
   ]
  },
  {
   "cell_type": "markdown",
   "metadata": {},
   "source": [
    "# Chapter 005 Example 003"
   ]
  },
  {
   "cell_type": "markdown",
   "metadata": {},
   "source": [
    "## First XGBoost model for Sickness Type 7 dataset"
   ]
  },
  {
   "cell_type": "markdown",
   "metadata": {},
   "source": [
    "## Part A - Load Libraries"
   ]
  },
  {
   "cell_type": "code",
   "execution_count": 1,
   "metadata": {},
   "outputs": [],
   "source": [
    "from xgboost import XGBClassifier\n",
    "from sklearn.model_selection import train_test_split\n",
    "from sklearn.metrics import accuracy_score\n",
    "\n",
    "import pandas as pd\n",
    "import os\n",
    "from numpy import genfromtxt"
   ]
  },
  {
   "cell_type": "markdown",
   "metadata": {},
   "source": [
    "## Part B - Load Data"
   ]
  },
  {
   "cell_type": "code",
   "execution_count": 2,
   "metadata": {},
   "outputs": [
    {
     "name": "stdout",
     "output_type": "stream",
     "text": [
      "C:\\Users\\AndreVermeulen\\Documents\\My Book\\apress\\Industrial Machine Learning\\book\\GitHub\\Upload\\industrial-machine-learning\\Data\\Sickness07.csv\n"
     ]
    }
   ],
   "source": [
    "fileName = '../../Data/Sickness07.csv'\n",
    "fileFullName = os.path.abspath(fileName)\n",
    "print(fileFullName)"
   ]
  },
  {
   "cell_type": "code",
   "execution_count": 3,
   "metadata": {},
   "outputs": [
    {
     "name": "stdout",
     "output_type": "stream",
     "text": [
      "Loaded 768 rows by 9 columns\n"
     ]
    }
   ],
   "source": [
    "dataset = genfromtxt(fileFullName, delimiter=\",\", comments='#', autostrip=True)\n",
    "print('Loaded %0d rows by %0d columns' % (dataset.shape[0],dataset.shape[1]))"
   ]
  },
  {
   "cell_type": "code",
   "execution_count": 4,
   "metadata": {},
   "outputs": [],
   "source": [
    "# split data into X and y\n",
    "X = dataset[:,0:8]\n",
    "Y = dataset[:,8]\n",
    "# split data into train and test sets\n",
    "seed = 1968\n",
    "test_size = 0.05\n",
    "X_train, X_test, y_train, y_test = train_test_split(X, Y, test_size=test_size, random_state=seed)"
   ]
  },
  {
   "cell_type": "markdown",
   "metadata": {},
   "source": [
    "## Part C - Execute XGBClassifier"
   ]
  },
  {
   "cell_type": "code",
   "execution_count": 5,
   "metadata": {},
   "outputs": [
    {
     "name": "stdout",
     "output_type": "stream",
     "text": [
      "Accuracy: 82.05128%\n"
     ]
    }
   ],
   "source": [
    "# fit model no training data\n",
    "xc = XGBClassifier(max_depth=12, \n",
    "                   learning_rate=0.05, \n",
    "                   n_estimators=1968, \n",
    "                   nthread=8)\n",
    "\n",
    "xc.fit(X_train, y_train)\n",
    "\n",
    "# make predictions for test data\n",
    "y_pred = xc.predict(X_test)\n",
    "\n",
    "predictions = [int(value) for value in y_pred]\n",
    "\n",
    "# evaluate predictions\n",
    "accuracy = accuracy_score(y_test, predictions)\n",
    "print(\"Accuracy: %7.5f%%\" % (accuracy * 100.0))"
   ]
  },
  {
   "cell_type": "code",
   "execution_count": 6,
   "metadata": {},
   "outputs": [
    {
     "data": {
      "application/javascript": [
       "IPython.OutputArea.prototype._should_scroll = function(lines) {\n",
       "    return false;\n",
       "}\n"
      ],
      "text/plain": [
       "<IPython.core.display.Javascript object>"
      ]
     },
     "metadata": {},
     "output_type": "display_data"
    }
   ],
   "source": [
    "%%javascript\n",
    "IPython.OutputArea.prototype._should_scroll = function(lines) {\n",
    "    return false;\n",
    "}"
   ]
  },
  {
   "cell_type": "markdown",
   "metadata": {},
   "source": [
    "## Part D - Output Results"
   ]
  },
  {
   "cell_type": "code",
   "execution_count": 7,
   "metadata": {},
   "outputs": [
    {
     "name": "stdout",
     "output_type": "stream",
     "text": [
      "C:\\Users\\AndreVermeulen\\Documents\\My Book\\apress\\Industrial Machine Learning\\book\\GitHub\\Upload\\industrial-machine-learning\\Results\\Chapter 05\n",
      "C:\\Users\\AndreVermeulen\\Documents\\My Book\\apress\\Industrial Machine Learning\\book\\GitHub\\Upload\\industrial-machine-learning\\Results\\Chapter 05\\Chapter-005-Example-003-001.txt\n"
     ]
    }
   ],
   "source": [
    "imagepath = os.path.join(*[os.path.dirname(os.path.dirname(os.getcwd())),'Results','Chapter 05'])\n",
    "print(imagepath)\n",
    "if not os.path.exists(imagepath):\n",
    "    os.makedirs(imagepath)\n",
    "filetxt= os.path.join(*[os.path.dirname(os.path.dirname(os.getcwd())),'Results','Chapter 05','Chapter-005-Example-003-001.txt'])\n",
    "print(filetxt)"
   ]
  },
  {
   "cell_type": "code",
   "execution_count": 8,
   "metadata": {},
   "outputs": [
    {
     "name": "stdout",
     "output_type": "stream",
     "text": [
      "Valid\tID\tFeatures\tTestValue\tPredictValue\tTrue_False\n",
      "\n",
      "+\t0\t[1.0, 89.0, 76.0, 34.0, 37.0, 31.2, 0.192, 23.0]\t0\t0\tTrue\n",
      "\n",
      "+\t1\t[4.0, 173.0, 70.0, 14.0, 168.0, 29.7, 0.361, 33.0]\t1\t1\tTrue\n",
      "\n",
      "+\t2\t[5.0, 95.0, 72.0, 33.0, 0.0, 37.7, 0.37, 27.0]\t0\t0\tTrue\n",
      "\n",
      "-\t3\t[3.0, 128.0, 72.0, 25.0, 190.0, 32.4, 0.549, 27.0]\t1\t0\tFalse\n",
      "\n",
      "-\t4\t[0.0, 135.0, 68.0, 42.0, 250.0, 42.3, 0.365, 24.0]\t1\t0\tFalse\n",
      "\n",
      "+\t5\t[1.0, 136.0, 74.0, 50.0, 204.0, 37.4, 0.399, 24.0]\t0\t0\tTrue\n",
      "\n",
      "+\t6\t[9.0, 130.0, 70.0, 0.0, 0.0, 34.2, 0.652, 45.0]\t1\t1\tTrue\n",
      "\n",
      "+\t7\t[0.0, 119.0, 66.0, 27.0, 0.0, 38.8, 0.259, 22.0]\t0\t0\tTrue\n",
      "\n",
      "+\t8\t[10.0, 148.0, 84.0, 48.0, 237.0, 37.6, 1.001, 51.0]\t1\t1\tTrue\n",
      "\n",
      "+\t9\t[5.0, 121.0, 72.0, 23.0, 112.0, 26.2, 0.245, 30.0]\t0\t0\tTrue\n",
      "\n",
      "+\t10\t[2.0, 99.0, 52.0, 15.0, 94.0, 24.6, 0.637, 21.0]\t0\t0\tTrue\n",
      "\n",
      "+\t11\t[1.0, 118.0, 58.0, 36.0, 94.0, 33.3, 0.261, 23.0]\t0\t0\tTrue\n",
      "\n",
      "+\t12\t[1.0, 121.0, 78.0, 39.0, 74.0, 39.0, 0.261, 28.0]\t0\t0\tTrue\n",
      "\n",
      "+\t13\t[0.0, 86.0, 68.0, 32.0, 0.0, 35.8, 0.238, 25.0]\t0\t0\tTrue\n",
      "\n",
      "+\t14\t[2.0, 127.0, 58.0, 24.0, 275.0, 27.7, 1.6, 25.0]\t0\t0\tTrue\n",
      "\n",
      "+\t15\t[1.0, 119.0, 88.0, 41.0, 170.0, 45.3, 0.507, 26.0]\t0\t0\tTrue\n",
      "\n",
      "+\t16\t[0.0, 101.0, 76.0, 0.0, 0.0, 35.7, 0.198, 26.0]\t0\t0\tTrue\n",
      "\n",
      "-\t17\t[3.0, 129.0, 64.0, 29.0, 115.0, 26.4, 0.219, 28.0]\t1\t0\tFalse\n",
      "\n",
      "+\t18\t[4.0, 76.0, 62.0, 0.0, 0.0, 34.0, 0.391, 25.0]\t0\t0\tTrue\n",
      "\n",
      "+\t19\t[1.0, 109.0, 56.0, 21.0, 135.0, 25.2, 0.833, 23.0]\t0\t0\tTrue\n",
      "\n",
      "+\t20\t[4.0, 146.0, 92.0, 0.0, 0.0, 31.2, 0.539, 61.0]\t1\t1\tTrue\n",
      "\n",
      "+\t21\t[5.0, 144.0, 82.0, 26.0, 285.0, 32.0, 0.452, 58.0]\t1\t1\tTrue\n",
      "\n",
      "+\t22\t[8.0, 120.0, 0.0, 0.0, 0.0, 30.0, 0.183, 38.0]\t1\t1\tTrue\n",
      "\n",
      "+\t23\t[2.0, 174.0, 88.0, 37.0, 120.0, 44.5, 0.646, 24.0]\t1\t1\tTrue\n",
      "\n",
      "+\t24\t[7.0, 187.0, 50.0, 33.0, 392.0, 33.9, 0.826, 34.0]\t1\t1\tTrue\n",
      "\n",
      "-\t25\t[6.0, 144.0, 72.0, 27.0, 228.0, 33.9, 0.255, 40.0]\t0\t1\tFalse\n",
      "\n",
      "+\t26\t[1.0, 100.0, 74.0, 12.0, 46.0, 19.5, 0.149, 28.0]\t0\t0\tTrue\n",
      "\n",
      "+\t27\t[1.0, 77.0, 56.0, 30.0, 56.0, 33.3, 1.251, 24.0]\t0\t0\tTrue\n",
      "\n",
      "+\t28\t[5.0, 99.0, 54.0, 28.0, 83.0, 34.0, 0.499, 30.0]\t0\t0\tTrue\n",
      "\n",
      "+\t29\t[0.0, 102.0, 52.0, 0.0, 0.0, 25.1, 0.078, 21.0]\t0\t0\tTrue\n",
      "\n",
      "-\t30\t[0.0, 113.0, 76.0, 0.0, 0.0, 33.3, 0.278, 23.0]\t1\t0\tFalse\n",
      "\n",
      "+\t31\t[3.0, 171.0, 72.0, 33.0, 135.0, 33.3, 0.199, 24.0]\t1\t1\tTrue\n",
      "\n",
      "+\t32\t[3.0, 174.0, 58.0, 22.0, 194.0, 32.9, 0.593, 36.0]\t1\t1\tTrue\n",
      "\n",
      "-\t33\t[0.0, 97.0, 64.0, 36.0, 100.0, 36.8, 0.6, 25.0]\t0\t1\tFalse\n",
      "\n",
      "+\t34\t[5.0, 136.0, 82.0, 0.0, 0.0, 0.0, 0.64, 69.0]\t0\t0\tTrue\n",
      "\n",
      "-\t35\t[7.0, 133.0, 84.0, 0.0, 0.0, 40.2, 0.696, 37.0]\t0\t1\tFalse\n",
      "\n",
      "+\t36\t[3.0, 129.0, 92.0, 49.0, 155.0, 36.4, 0.968, 32.0]\t1\t1\tTrue\n",
      "\n",
      "+\t37\t[8.0, 176.0, 90.0, 34.0, 300.0, 33.7, 0.467, 58.0]\t1\t1\tTrue\n",
      "\n",
      "+\t38\t[10.0, 115.0, 98.0, 0.0, 0.0, 24.0, 1.022, 34.0]\t0\t0\tTrue\n",
      "\n"
     ]
    }
   ],
   "source": [
    "f = open(filetxt,'w')\n",
    "line='|' .join(['Valid','ID', 'Features', 'TestValue', 'PredictValue','True_False\\n'])\n",
    "f.write(line)\n",
    "print(line.replace('|','\\t'))\n",
    "\n",
    "n=y_test.shape[0]\n",
    "for i in range(0, n):\n",
    "    if y_test[i]==predictions[i]:\n",
    "        line='|' .join(['+',str(i), str([round(value,6) for value in X_test[i]]), str(int(y_test[i])), str(int(predictions[i])),'True\\n'])\n",
    "        f.write(line)\n",
    "    else:\n",
    "        line='|' .join(['-',str(i), str([round(value,6) for value in X_test[i]]), str(int(y_test[i])), str(int(predictions[i])),'False\\n'])\n",
    "        f.write(line)\n",
    "    print(line.replace('|','\\t'))\n",
    "f.close() "
   ]
  },
  {
   "cell_type": "markdown",
   "metadata": {},
   "source": [
    "## Part E - Open Results"
   ]
  },
  {
   "cell_type": "code",
   "execution_count": 11,
   "metadata": {},
   "outputs": [],
   "source": [
    "import webbrowser\n",
    "r=webbrowser.open(filetxt)"
   ]
  },
  {
   "cell_type": "markdown",
   "metadata": {},
   "source": [
    "## Done"
   ]
  },
  {
   "cell_type": "code",
   "execution_count": 10,
   "metadata": {},
   "outputs": [
    {
     "name": "stdout",
     "output_type": "stream",
     "text": [
      "Done! 2019-10-19 17:43:07.750453\n"
     ]
    }
   ],
   "source": [
    "import datetime\n",
    "now = datetime.datetime.now()\n",
    "print('Done!',str(now))"
   ]
  },
  {
   "cell_type": "code",
   "execution_count": null,
   "metadata": {},
   "outputs": [],
   "source": []
  }
 ],
 "metadata": {
  "kernelspec": {
   "display_name": "Python 3",
   "language": "python",
   "name": "python3"
  },
  "language_info": {
   "codemirror_mode": {
    "name": "ipython",
    "version": 3
   },
   "file_extension": ".py",
   "mimetype": "text/x-python",
   "name": "python",
   "nbconvert_exporter": "python",
   "pygments_lexer": "ipython3",
   "version": "3.7.3"
  }
 },
 "nbformat": 4,
 "nbformat_minor": 2
}
