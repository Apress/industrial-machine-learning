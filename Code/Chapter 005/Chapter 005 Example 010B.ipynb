{
 "cells": [
  {
   "cell_type": "markdown",
   "metadata": {},
   "source": [
    "## Apress - Industrialized Machine Learning Examples\n",
    "\n",
    "Andreas Francois Vermeulen\n",
    "2019\n",
    "\n",
    "### This is an example add-on to a book and needs to be accepted as part of that copyright."
   ]
  },
  {
   "cell_type": "markdown",
   "metadata": {},
   "source": [
    "# Chapter 05 Example 010B"
   ]
  },
  {
   "cell_type": "code",
   "execution_count": null,
   "metadata": {},
   "outputs": [],
   "source": [
    "# conda install -c anaconda mayavi"
   ]
  },
  {
   "cell_type": "code",
   "execution_count": null,
   "metadata": {},
   "outputs": [],
   "source": [
    "import numpy as np\n",
    "from scipy.integrate import odeint\n",
    "from mayavi import mlab"
   ]
  },
  {
   "cell_type": "code",
   "execution_count": null,
   "metadata": {},
   "outputs": [],
   "source": [
    "def V(x, y, z):\n",
    "    \"\"\" A 3D sinusoidal lattice with a parabolic confinement. \"\"\"\n",
    "    return np.cos(10*x) + np.cos(10*y) + np.cos(10*z) + 2*(x**2 + y**2 + z**2)"
   ]
  },
  {
   "cell_type": "code",
   "execution_count": null,
   "metadata": {},
   "outputs": [],
   "source": [
    "X, Y, Z = np.mgrid[-2:2:100j, -2:2:100j, -2:2:100j]\n",
    "#print(V(X, Y, Z))"
   ]
  },
  {
   "cell_type": "code",
   "execution_count": null,
   "metadata": {},
   "outputs": [],
   "source": [
    "def gradient(f, x, y, z, d=0.01):\n",
    "    \"\"\" Return the gradient of f in (x, y, z). \"\"\"\n",
    "    fx  = f(x+d, y, z)\n",
    "    fx_ = f(x-d, y, z)\n",
    "    fy  = f(x, y+d, z)\n",
    "    fy_ = f(x, y-d, z)\n",
    "    fz  = f(x, y, z+d)\n",
    "    fz_ = f(x, y, z-d)\n",
    "    return (fx-fx_)/(2*d), (fy-fy_)/(2*d), (fz-fz_)/(2*d)"
   ]
  },
  {
   "cell_type": "code",
   "execution_count": null,
   "metadata": {},
   "outputs": [],
   "source": [
    "Vx, Vy, Vz = gradient(V, X[50, ::3, ::3], Y[50, ::3, ::3], Z[50, ::3, ::3])"
   ]
  },
  {
   "cell_type": "code",
   "execution_count": null,
   "metadata": {},
   "outputs": [],
   "source": [
    "def flow(r, t):\n",
    "    \"\"\" The dynamical flow of the system \"\"\"\n",
    "    x, y, z, vx, vy, vz = r\n",
    "    fx, fy, fz = gradient(V, x-.2*np.sin(6*t), y-.2*np.sin(6*t+1), z-.2*np.sin(6*t+2))\n",
    "    return np.array((vx, vy, vz, -fx - 0.3*vx, -fy - 0.3*vy, -fz - 0.3*vz))"
   ]
  },
  {
   "cell_type": "code",
   "execution_count": null,
   "metadata": {},
   "outputs": [],
   "source": [
    "# Initial conditions\n",
    "R0 = (0, 0, 0, 0, 0, 0)\n",
    "# Times at which we want the integrator to return the positions:\n",
    "t = np.linspace(0, 50, 500)\n",
    "R = odeint(flow, R0, t)"
   ]
  },
  {
   "cell_type": "code",
   "execution_count": null,
   "metadata": {},
   "outputs": [],
   "source": [
    "x, y, z, vx, vy, vz = R.T"
   ]
  },
  {
   "cell_type": "code",
   "execution_count": null,
   "metadata": {},
   "outputs": [],
   "source": [
    "mlab.contour3d(X, Y, Z, V)\n",
    "mlab.colorbar(title='Potential', orientation='vertical')\n",
    "mlab.quiver3d(X[50, ::3, ::3], Y[50, ::3, ::3], Z[50, ::3, ::3],\n",
    "                     Vx, Vy, Vz, scale_factor=-0.2, color=(1, 1, 1))\n",
    "trajectory = mlab.plot3d(x, y, z, t, colormap='hot',\n",
    "                    tube_radius=None)\n",
    "mlab.colorbar(trajectory, title='Time', orientation='horizontal')\n",
    "mlab.view(focalpoint='auto',distance=25)\n",
    "mlab.show()"
   ]
  },
  {
   "cell_type": "markdown",
   "metadata": {},
   "source": [
    "## Done"
   ]
  },
  {
   "cell_type": "code",
   "execution_count": null,
   "metadata": {},
   "outputs": [],
   "source": [
    "import datetime\n",
    "now = datetime.datetime.now()\n",
    "print('Done!',str(now))"
   ]
  }
 ],
 "metadata": {
  "kernelspec": {
   "display_name": "Python 3",
   "language": "python",
   "name": "python3"
  },
  "language_info": {
   "codemirror_mode": {
    "name": "ipython",
    "version": 3
   },
   "file_extension": ".py",
   "mimetype": "text/x-python",
   "name": "python",
   "nbconvert_exporter": "python",
   "pygments_lexer": "ipython3",
   "version": "3.7.3"
  }
 },
 "nbformat": 4,
 "nbformat_minor": 2
}
