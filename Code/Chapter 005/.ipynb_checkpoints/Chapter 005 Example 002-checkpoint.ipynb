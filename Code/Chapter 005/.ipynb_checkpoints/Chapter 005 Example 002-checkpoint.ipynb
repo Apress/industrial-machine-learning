{
 "cells": [
  {
   "cell_type": "markdown",
   "metadata": {},
   "source": [
    "## Apress - Industrialized Machine Learning Examples\n",
    "\n",
    "Andreas Francois Vermeulen\n",
    "2019\n",
    "\n",
    "### This is an example add-on to a book and needs to be accepted as part of that copyright."
   ]
  },
  {
   "cell_type": "markdown",
   "metadata": {},
   "source": [
    "# Chapter 005 Example 002"
   ]
  },
  {
   "cell_type": "markdown",
   "metadata": {},
   "source": [
    "## Part A - Load Libraries"
   ]
  },
  {
   "cell_type": "code",
   "execution_count": 1,
   "metadata": {},
   "outputs": [],
   "source": [
    "from sklearn.ensemble import GradientBoostingClassifier\n",
    "\n",
    "from sklearn.model_selection import KFold\n",
    "\n",
    "from sklearn.model_selection import train_test_split\n",
    "\n",
    "import os\n",
    "import numpy as np\n",
    "import matplotlib.pyplot as plt\n",
    "%matplotlib inline"
   ]
  },
  {
   "cell_type": "markdown",
   "metadata": {},
   "source": [
    "## Part B - Generate data"
   ]
  },
  {
   "cell_type": "code",
   "execution_count": 2,
   "metadata": {},
   "outputs": [],
   "source": [
    "n_samples = 600\n",
    "random_state = np.random.RandomState(68)\n",
    "x1 = random_state.uniform(size=n_samples)\n",
    "x2 = random_state.uniform(size=n_samples)\n",
    "x3 = random_state.randint(0, 5, size=n_samples)\n",
    "\n",
    "p = 1 / (1.1 + np.exp(-(np.sin(3.3 * x1) - 2.2 * x2 + x3)))\n",
    "y = random_state.binomial(1, p, size=n_samples)\n",
    "\n",
    "X = np.c_[x1, x2, x3]\n",
    "\n",
    "X = X.astype(np.float64)"
   ]
  },
  {
   "cell_type": "code",
   "execution_count": 3,
   "metadata": {},
   "outputs": [],
   "source": [
    "params = {'n_estimators': 400, 'max_depth': 3, 'subsample': 0.4,\n",
    "          'criterion' : 'mae', 'verbose' : 1, 'presort' : 1,\n",
    "          'learning_rate': 0.01, 'min_samples_leaf': 1,\n",
    "          'random_state': 68, 'loss' : 'exponential'}"
   ]
  },
  {
   "cell_type": "markdown",
   "metadata": {},
   "source": [
    "## Part C - Train Model"
   ]
  },
  {
   "cell_type": "code",
   "execution_count": 4,
   "metadata": {},
   "outputs": [],
   "source": [
    "X_train, X_test, y_train, y_test = train_test_split(X, y, test_size=0.4, random_state=321)"
   ]
  },
  {
   "cell_type": "markdown",
   "metadata": {},
   "source": [
    "## Part D - Fitting classifier with Out-of-Bag estimates"
   ]
  },
  {
   "cell_type": "code",
   "execution_count": 5,
   "metadata": {},
   "outputs": [],
   "source": [
    "def heldout_score(clf, X_test, y_test):\n",
    "    score = np.zeros((n_estimators,), dtype=np.float64)\n",
    "    for i, y_pred in enumerate(clf.staged_decision_function(X_test)):\n",
    "        score[i] = clf.loss_(y_test, y_pred)\n",
    "    return score"
   ]
  },
  {
   "cell_type": "markdown",
   "metadata": {},
   "source": [
    "## Part E - Estimate Cross-Validation"
   ]
  },
  {
   "cell_type": "code",
   "execution_count": 6,
   "metadata": {},
   "outputs": [],
   "source": [
    "def cv_estimate(n_splits=None):\n",
    "    cv = KFold(n_splits=n_splits)\n",
    "    cv_clf = GradientBoostingClassifier(**params)\n",
    "    val_scores = np.zeros((n_estimators,), dtype=np.float64)\n",
    "    for train, test in cv.split(X_train, y_train):\n",
    "        cv_clf.fit(X_train[train], y_train[train])\n",
    "        val_scores += heldout_score(cv_clf, X_train[test], y_train[test])\n",
    "    val_scores /= n_splits\n",
    "    return val_scores"
   ]
  },
  {
   "cell_type": "markdown",
   "metadata": {},
   "source": [
    "## Part F - Calculate Scores"
   ]
  },
  {
   "cell_type": "markdown",
   "metadata": {},
   "source": [
    "## Part G -  color mixing for the 3 curves"
   ]
  },
  {
   "cell_type": "code",
   "execution_count": 7,
   "metadata": {},
   "outputs": [],
   "source": [
    "oob_color = list(map(lambda x: x / 256.0, (190, 175, 210)))\n",
    "test_color = list(map(lambda x: x / 256.0, (125, 200, 125)))\n",
    "cv_color = list(map(lambda x: x / 256.0, (250, 190, 125)))"
   ]
  },
  {
   "cell_type": "code",
   "execution_count": 8,
   "metadata": {},
   "outputs": [
    {
     "data": {
      "application/javascript": [
       "IPython.OutputArea.prototype._should_scroll = function(lines) {\n",
       "    return false;\n",
       "}\n"
      ],
      "text/plain": [
       "<IPython.core.display.Javascript object>"
      ]
     },
     "metadata": {},
     "output_type": "display_data"
    }
   ],
   "source": [
    "%%javascript\n",
    "IPython.OutputArea.prototype._should_scroll = function(lines) {\n",
    "    return false;\n",
    "}"
   ]
  },
  {
   "cell_type": "markdown",
   "metadata": {},
   "source": [
    "## Part H - Run GradientBoostingClassifier"
   ]
  },
  {
   "cell_type": "code",
   "execution_count": 9,
   "metadata": {},
   "outputs": [
    {
     "name": "stdout",
     "output_type": "stream",
     "text": [
      "Run Gradient Boosting Classifier\n",
      "      Iter       Train Loss      OOB Improve   Remaining Time \n",
      "         1           0.9127           0.0007           14.37s\n",
      "         2           0.9181           0.0007            7.96s\n",
      "         3           0.8607           0.0010            5.56s\n",
      "         4           0.9400           0.0010            4.75s\n",
      "         5           0.9891           0.0004            4.03s\n",
      "         6           0.9069          -0.0002            3.61s\n",
      "         7           0.8516          -0.0002            3.26s\n",
      "         8           0.8681           0.0009            3.04s\n",
      "         9           0.9200           0.0003            2.87s\n",
      "        10           0.9300           0.0006            2.77s\n",
      "        20           0.9222           0.0008            2.13s\n",
      "        30           0.8492           0.0006            1.69s\n",
      "        40           0.8332           0.0009            1.44s\n",
      "        50           0.9283           0.0010            1.27s\n",
      "        60           0.8517           0.0004            1.15s\n",
      "        70           0.8415           0.0003            1.09s\n",
      "        80           0.8432           0.0000            1.01s\n",
      "        90           0.8311           0.0003            0.95s\n",
      "       100           0.7873           0.0000            0.89s\n",
      "       200           0.8016          -0.0002            0.52s\n",
      "       300           0.7491          -0.0002            0.24s\n",
      "       400           0.7419          -0.0003            0.00s\n",
      "Accuracy: 0.73333\n",
      "Estimate best n_estimator using cross-validation\n",
      "      Iter       Train Loss      OOB Improve   Remaining Time \n",
      "         1           0.8876           0.0005            0.80s\n",
      "         2           0.9099          -0.0001            0.99s\n",
      "         3           0.9098          -0.0001            1.06s\n",
      "         4           0.8781          -0.0002            1.09s\n",
      "         5           0.8857          -0.0000            1.03s\n",
      "         6           0.8835           0.0008            1.05s\n",
      "         7           0.9152          -0.0001            1.01s\n",
      "         8           0.8966           0.0003            1.03s\n",
      "         9           0.9538           0.0007            1.04s\n",
      "        10           0.9021           0.0008            1.01s\n",
      "        20           0.8788          -0.0002            0.84s\n",
      "        30           0.8656           0.0002            0.79s\n",
      "        40           0.8585          -0.0001            0.73s\n",
      "        50           0.8563          -0.0001            0.69s\n",
      "        60           0.8494           0.0009            0.66s\n",
      "        70           0.8614           0.0001            0.64s\n",
      "        80           0.8661           0.0003            0.62s\n",
      "        90           0.8751           0.0001            0.59s\n",
      "       100           0.8960           0.0006            0.58s\n",
      "       200           0.7542           0.0001            0.43s\n",
      "       300           0.7326          -0.0003            0.21s\n",
      "       400           0.7638          -0.0004            0.00s\n",
      "      Iter       Train Loss      OOB Improve   Remaining Time \n",
      "         1           0.8947           0.0012            1.19s\n",
      "         2           0.9177           0.0013            0.99s\n",
      "         3           0.9178           0.0003            1.06s\n",
      "         4           0.8846           0.0015            0.99s\n",
      "         5           0.8982           0.0009            1.03s\n",
      "         6           0.8711           0.0008            0.98s\n",
      "         7           0.9051           0.0002            1.01s\n",
      "         8           0.8667           0.0013            0.98s\n",
      "         9           0.9333           0.0013            0.96s\n",
      "        10           0.8790           0.0014            0.97s\n",
      "        20           0.8918           0.0010            0.80s\n",
      "        30           0.8385           0.0017            0.75s\n",
      "        40           0.8597           0.0005            0.70s\n",
      "        50           0.7744           0.0002            0.68s\n",
      "        60           0.8030           0.0005            0.66s\n",
      "        70           0.7958           0.0000            0.63s\n",
      "        80           0.7913           0.0002            0.61s\n",
      "        90           0.8590           0.0001            0.59s\n",
      "       100           0.8638           0.0001            0.57s\n",
      "       200           0.7375          -0.0001            0.40s\n",
      "       300           0.6678          -0.0005            0.21s\n",
      "       400           0.7592          -0.0002            0.00s\n",
      "      Iter       Train Loss      OOB Improve   Remaining Time \n",
      "         1           0.9456           0.0007            0.80s\n",
      "         2           0.9505           0.0009            0.99s\n",
      "         3           0.9233           0.0012            0.93s\n",
      "         4           0.9337           0.0012            0.99s\n",
      "         5           0.9348           0.0013            0.95s\n",
      "         6           0.9374           0.0011            0.98s\n",
      "         7           0.9308           0.0002            1.01s\n",
      "         8           0.9057           0.0016            1.03s\n",
      "         9           0.9444           0.0014            1.00s\n",
      "        10           0.9144           0.0010            1.01s\n",
      "        20           0.9389           0.0010            0.85s\n",
      "        30           0.8644           0.0011            0.76s\n",
      "        40           0.9105           0.0012            0.72s\n",
      "        50           0.8412           0.0003            0.69s\n",
      "        60           0.8655           0.0004            0.67s\n",
      "        70           0.8359          -0.0001            0.66s\n",
      "        80           0.8266           0.0002            0.64s\n",
      "        90           0.8993          -0.0001            0.62s\n",
      "       100           0.8620          -0.0001            0.59s\n",
      "       200           0.7940           0.0001            0.41s\n",
      "       300           0.7248          -0.0002            0.21s\n",
      "       400           0.7154          -0.0002            0.00s\n",
      "      Iter       Train Loss      OOB Improve   Remaining Time \n",
      "         1           0.8953          -0.0001            0.80s\n",
      "         2           0.8939           0.0009            0.99s\n",
      "         3           0.8929          -0.0001            0.93s\n",
      "         4           0.9333           0.0007            0.99s\n",
      "         5           0.9083           0.0005            0.95s\n",
      "         6           0.8884           0.0012            0.99s\n",
      "         7           0.9314           0.0006            1.01s\n",
      "         8           0.8857           0.0009            1.03s\n",
      "         9           0.9255           0.0008            1.00s\n",
      "        10           0.9045           0.0004            1.01s\n",
      "        20           0.8993           0.0011            0.84s\n",
      "        30           0.8409           0.0010            0.79s\n",
      "        40           0.8900           0.0007            0.75s\n",
      "        50           0.8384           0.0003            0.71s\n",
      "        60           0.8238           0.0003            0.67s\n",
      "        70           0.8224          -0.0002            0.66s\n",
      "        80           0.8063           0.0007            0.63s\n",
      "        90           0.8600          -0.0002            0.60s\n",
      "       100           0.7978          -0.0000            0.58s\n",
      "       200           0.7633          -0.0002            0.39s\n",
      "       300           0.7815          -0.0000            0.20s\n",
      "       400           0.7333          -0.0001            0.00s\n",
      "      Iter       Train Loss      OOB Improve   Remaining Time \n",
      "         1           0.8938           0.0007            0.80s\n",
      "         2           0.9164           0.0006            0.99s\n",
      "         3           0.8996           0.0005            1.06s\n",
      "         4           0.9546           0.0007            0.99s\n",
      "         5           0.8989          -0.0004            1.03s\n",
      "         6           0.8796           0.0004            1.05s\n",
      "         7           0.9058           0.0005            1.01s\n",
      "         8           0.9104           0.0008            1.03s\n",
      "         9           0.9314           0.0009            1.04s\n",
      "        10           0.9528           0.0000            1.05s\n",
      "        20           0.9032           0.0004            0.93s\n",
      "        30           0.8860           0.0001            0.89s\n",
      "        40           0.9023           0.0003            0.85s\n",
      "        50           0.8553          -0.0003            0.81s\n",
      "        60           0.8314           0.0006            0.76s\n",
      "        70           0.8609          -0.0003            0.72s\n"
     ]
    },
    {
     "name": "stdout",
     "output_type": "stream",
     "text": [
      "        80           0.8294           0.0004            0.70s\n",
      "        90           0.8478          -0.0002            0.73s\n",
      "       100           0.8298           0.0001            0.74s\n",
      "       200           0.7789          -0.0005            0.50s\n",
      "       300           0.7803          -0.0005            0.23s\n",
      "       400           0.7243           0.0000            0.00s\n",
      "Compute best n_estimator for test data\n",
      "Negative cumulative sum of oob improvements\n",
      "Min loss according to OOB\n",
      "Min loss according to test (normalize with first loss is 0)\n",
      "Min loss according to cv (normalize with first loss is 0)\n"
     ]
    }
   ],
   "source": [
    "print('Run Gradient Boosting Classifier')\n",
    "clf = GradientBoostingClassifier(**params)\n",
    "\n",
    "clf.fit(X_train, y_train)\n",
    "acc = clf.score(X_test, y_test)\n",
    "print(\"Accuracy: {:0.5f}\".format(acc))\n",
    "\n",
    "n_estimators = params['n_estimators']\n",
    "x = np.arange(n_estimators) + 1\n",
    "\n",
    "print('Estimate best n_estimator using cross-validation')\n",
    "cv_score = cv_estimate(5)\n",
    "\n",
    "print('Compute best n_estimator for test data')\n",
    "test_score = heldout_score(clf, X_test, y_test)\n",
    "\n",
    "print('Negative cumulative sum of oob improvements')\n",
    "cumsum = -np.cumsum(clf.oob_improvement_)\n",
    "\n",
    "print('Min loss according to OOB')\n",
    "oob_best_iter = x[np.argmin(cumsum)]\n",
    "\n",
    "print('Min loss according to test (normalize with first loss is 0)')\n",
    "test_score -= test_score[0]\n",
    "test_best_iter = x[np.argmin(test_score)]\n",
    "\n",
    "print('Min loss according to cv (normalize with first loss is 0)')\n",
    "cv_score -= cv_score[0]\n",
    "cv_best_iter = x[np.argmin(cv_score)]"
   ]
  },
  {
   "cell_type": "markdown",
   "metadata": {},
   "source": [
    "## Part I - Create graphics"
   ]
  },
  {
   "cell_type": "code",
   "execution_count": 10,
   "metadata": {},
   "outputs": [
    {
     "data": {
      "image/png": "[encoded data removed]",
      "text/plain": [
       "<Figure size 1296x648 with 1 Axes>"
      ]
     },
     "metadata": {
      "needs_background": "light"
     },
     "output_type": "display_data"
    }
   ],
   "source": [
    "fig = plt.figure(figsize=(18, 9))\n",
    "#### Plot curves and vertical lines for Best iterations\n",
    "plt.plot(x, cumsum, label='O-o-B loss', color=oob_color)\n",
    "plt.plot(x, test_score, label='Test loss', color=test_color)\n",
    "plt.plot(x, cv_score, label='C Val loss', color=cv_color)\n",
    "plt.axvline(x=oob_best_iter, color=oob_color)\n",
    "plt.axvline(x=test_best_iter, color=test_color)\n",
    "plt.axvline(x=cv_best_iter, color=cv_color)\n",
    "\n",
    "#### Add three vertical lines to xticks for ['OoB', 'CV', 'Test']\n",
    "xticks = plt.xticks()\n",
    "xticks_pos = np.array(xticks[0].tolist() +\n",
    "                      [oob_best_iter, cv_best_iter, test_best_iter])\n",
    "xticks_label = np.array(list(map(lambda t: int(t), xticks[0])) +\n",
    "                        ['OoB', 'CV', 'Test'])\n",
    "\n",
    "ind = np.argsort(xticks_pos)\n",
    "xticks_pos = xticks_pos[ind]\n",
    "xticks_label = xticks_label[ind]\n",
    "plt.xticks(xticks_pos, xticks_label)\n",
    "\n",
    "plt.legend(loc='upper left')\n",
    "plt.ylabel('Normalized loss')\n",
    "plt.xlabel('Number of iterations')\n",
    "\n",
    "plt.show()"
   ]
  },
  {
   "cell_type": "markdown",
   "metadata": {},
   "source": [
    "## Part J - Save Graphics"
   ]
  },
  {
   "cell_type": "code",
   "execution_count": 11,
   "metadata": {},
   "outputs": [
    {
     "name": "stdout",
     "output_type": "stream",
     "text": [
      "C:\\Users\\AndreVermeulen\\Documents\\My Book\\apress\\Industrial Machine Learning\\book\\GitHub\\Upload\\industrial-machine-learning\\Results\\Chapter 05\n"
     ]
    }
   ],
   "source": [
    "imagepath = os.path.join(*[os.path.dirname(os.path.dirname(os.getcwd())),'Results','Chapter 05'])\n",
    "print(imagepath)\n",
    "if not os.path.exists(imagepath):\n",
    "    os.makedirs(imagepath)\n",
    "graphName = 'Chapter-005-Example-002-01.jpg'\n",
    "imagename = os.path.join(*[os.path.dirname(os.path.dirname(os.getcwd())),'Results','Chapter 05',graphName])\n",
    "fig.savefig(imagename, bbox_inches='tight')"
   ]
  },
  {
   "cell_type": "markdown",
   "metadata": {},
   "source": [
    "## Done"
   ]
  },
  {
   "cell_type": "code",
   "execution_count": 12,
   "metadata": {},
   "outputs": [
    {
     "name": "stdout",
     "output_type": "stream",
     "text": [
      "Done! 2019-10-19 17:43:02.393460\n"
     ]
    }
   ],
   "source": [
    "import datetime\n",
    "now = datetime.datetime.now()\n",
    "print('Done!',str(now))"
   ]
  }
 ],
 "metadata": {
  "kernelspec": {
   "display_name": "Python 3",
   "language": "python",
   "name": "python3"
  },
  "language_info": {
   "codemirror_mode": {
    "name": "ipython",
    "version": 3
   },
   "file_extension": ".py",
   "mimetype": "text/x-python",
   "name": "python",
   "nbconvert_exporter": "python",
   "pygments_lexer": "ipython3",
   "version": "3.7.3"
  }
 },
 "nbformat": 4,
 "nbformat_minor": 2
}
