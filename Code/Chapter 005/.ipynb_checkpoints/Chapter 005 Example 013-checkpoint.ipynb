{
 "cells": [
  {
   "cell_type": "markdown",
   "metadata": {},
   "source": [
    "## Apress - Industrialized Machine Learning Examples\n",
    "\n",
    "Andreas Francois Vermeulen\n",
    "2019\n",
    "\n",
    "### This is an example add-on to a book and needs to be accepted as part of that copyright."
   ]
  },
  {
   "cell_type": "markdown",
   "metadata": {},
   "source": [
    "# Chapter 005 Example 013"
   ]
  },
  {
   "cell_type": "markdown",
   "metadata": {},
   "source": [
    "## Part A - Load Libraries"
   ]
  },
  {
   "cell_type": "code",
   "execution_count": null,
   "metadata": {},
   "outputs": [],
   "source": [
    "#conda install -c conda-forge imbalanced-learn"
   ]
  },
  {
   "cell_type": "code",
   "execution_count": null,
   "metadata": {},
   "outputs": [],
   "source": [
    "from imblearn import FunctionSampler\n",
    "from imblearn.pipeline import make_pipeline"
   ]
  },
  {
   "cell_type": "code",
   "execution_count": null,
   "metadata": {},
   "outputs": [],
   "source": [
    "import numpy as np\n",
    "import os\n",
    "import matplotlib.pyplot as plt\n",
    "\n",
    "from sklearn.datasets import make_moons, make_blobs\n",
    "from sklearn.ensemble import IsolationForest\n",
    "from sklearn.linear_model import LogisticRegression\n",
    "from sklearn.metrics import classification_report"
   ]
  },
  {
   "cell_type": "code",
   "execution_count": null,
   "metadata": {},
   "outputs": [],
   "source": [
    "rng = np.random.RandomState(1968)\n",
    "xmin,xmax,ymin,ymax = [-4, 4,-4, 4]\n",
    "n1=1968\n",
    "n2=150"
   ]
  },
  {
   "cell_type": "code",
   "execution_count": null,
   "metadata": {},
   "outputs": [],
   "source": [
    "def plot_scatter(X, y, title):\n",
    "    fig = plt.figure(figsize=(12, 14))\n",
    "    plt.scatter(X[y == 1, 0], X[y == 1, 1], label='Class #1', marker='*')\n",
    "    plt.scatter(X[y == 0, 0], X[y == 0, 1], label='Class #0', marker='o')\n",
    "    plt.legend()\n",
    "    plt.title(title)\n",
    "    plt.axis([xmin,xmax,ymin,ymax])\n",
    "    plt.show()\n",
    "    return fig"
   ]
  },
  {
   "cell_type": "markdown",
   "metadata": {},
   "source": [
    "## Part B - Scatter Plot of Training Data Sets"
   ]
  },
  {
   "cell_type": "code",
   "execution_count": null,
   "metadata": {},
   "outputs": [],
   "source": [
    "moons, _ = make_moons(n_samples=n1, \n",
    "                      noise=0.05\n",
    "                     )\n",
    "\n",
    "blobs, _ = make_blobs(n_samples=n1, \n",
    "                      centers=[(-0.75, 2.25), (1.0, 2.0)], \n",
    "                      cluster_std=0.35\n",
    "                     )\n",
    "\n",
    "outliers = rng.uniform(low=-3.5, high=3.5, size=(n1, 2))\n",
    "\n",
    "X_train = np.vstack([moons, blobs, outliers])\n",
    "\n",
    "y_train = np.hstack([np.ones(moons.shape[0], dtype=np.int8),\n",
    "                     np.zeros(blobs.shape[0], dtype=np.int8),\n",
    "                     rng.randint(0, 2, size=outliers.shape[0],\n",
    "                                 dtype=np.int8)])\n",
    "\n",
    "\n",
    "fig1=plot_scatter(X_train, y_train, 'Training Dataset Training')"
   ]
  },
  {
   "cell_type": "markdown",
   "metadata": {},
   "source": [
    "## Part C - Scatter Plot"
   ]
  },
  {
   "cell_type": "code",
   "execution_count": null,
   "metadata": {},
   "outputs": [],
   "source": [
    "moons, _ = make_moons(n_samples=n2, noise=0.05)\n",
    "\n",
    "blobs, _ = make_blobs(n_samples=n2, centers=[(-0.75, 2.25),\n",
    "                                             (1.0, 2.0)],\n",
    "                      cluster_std=0.35)\n",
    "\n",
    "X_test = np.vstack([moons, blobs])\n",
    "\n",
    "y_test = np.hstack([np.ones(moons.shape[0], dtype=np.int16),\n",
    "                    np.zeros(blobs.shape[0], dtype=np.int16)])\n",
    "\n",
    "fig2=plot_scatter(X_test, y_test, 'Testing Dataset Test')"
   ]
  },
  {
   "cell_type": "markdown",
   "metadata": {},
   "source": [
    "## Part D - Scatter Plot"
   ]
  },
  {
   "cell_type": "code",
   "execution_count": null,
   "metadata": {},
   "outputs": [],
   "source": [
    "def outlier_rejection(X, y):\n",
    "    model = IsolationForest(max_samples='auto',\n",
    "                            contamination='auto',\n",
    "                            random_state=rng,\n",
    "                            behaviour='new',\n",
    "                            bootstrap=True\n",
    "                           )\n",
    "    model.fit(X)\n",
    "    y_pred = model.predict(X)\n",
    "    return X[y_pred == 1], y[y_pred == 1]\n",
    "\n",
    "\n",
    "reject_sampler = FunctionSampler(func=outlier_rejection)\n",
    "\n",
    "X_inliers, y_inliers = reject_sampler.fit_resample(X_train, y_train)\n",
    "\n",
    "fig3=plot_scatter(X_inliers, y_inliers, 'Training data without outliers')"
   ]
  },
  {
   "cell_type": "code",
   "execution_count": null,
   "metadata": {},
   "outputs": [],
   "source": [
    "pipe = make_pipeline(FunctionSampler(func=outlier_rejection),\n",
    "                     LogisticRegression(solver='newton-cg',\n",
    "                                        penalty='l2',\n",
    "                                        class_weight='balanced',\n",
    "                                        multi_class='auto',\n",
    "                                        random_state=rng\n",
    "                                       )\n",
    "                    )\n",
    "\n",
    "y_pred = pipe.fit(X_train, y_train).predict(X_test)\n",
    "\n",
    "print(classification_report(y_test, y_pred))"
   ]
  },
  {
   "cell_type": "code",
   "execution_count": null,
   "metadata": {},
   "outputs": [],
   "source": [
    "clf = LogisticRegression(solver='newton-cg',\n",
    "                         penalty='l2',\n",
    "                         class_weight='balanced',\n",
    "                         multi_class='auto', \n",
    "                         random_state=rng\n",
    "                        )\n",
    "\n",
    "y_pred = clf.fit(X_train, y_train).predict(X_test)\n",
    "\n",
    "print(classification_report(y_test, y_pred))"
   ]
  },
  {
   "cell_type": "markdown",
   "metadata": {},
   "source": [
    "## Save Figures"
   ]
  },
  {
   "cell_type": "code",
   "execution_count": null,
   "metadata": {},
   "outputs": [],
   "source": [
    "imagepath = os.path.join(*[os.path.dirname(os.path.dirname(os.getcwd())),'Results','Chapter 05'])\n",
    "print(imagepath)\n",
    "\n",
    "if not os.path.exists(imagepath):\n",
    "    os.makedirs(imagepath)\n",
    "    \n",
    "imagename = os.path.join(*[os.path.dirname(os.path.dirname(os.getcwd())),'Results','Chapter 05','Chapter-005-Example-013-01.jpg'])\n",
    "fig1.savefig(imagename, bbox_inches='tight')    \n",
    "imagename = os.path.join(*[os.path.dirname(os.path.dirname(os.getcwd())),'Results','Chapter 05','Chapter-005-Example-013-02.jpg'])\n",
    "fig2.savefig(imagename, bbox_inches='tight')    \n",
    "imagename = os.path.join(*[os.path.dirname(os.path.dirname(os.getcwd())),'Results','Chapter 05','Chapter-005-Example-013-03.jpg'])\n",
    "fig3.savefig(imagename, bbox_inches='tight')"
   ]
  },
  {
   "cell_type": "markdown",
   "metadata": {},
   "source": [
    "## Done"
   ]
  },
  {
   "cell_type": "code",
   "execution_count": null,
   "metadata": {},
   "outputs": [],
   "source": [
    "import datetime\n",
    "now = datetime.datetime.now()\n",
    "print('Done!',str(now))"
   ]
  }
 ],
 "metadata": {
  "kernelspec": {
   "display_name": "Python 3",
   "language": "python",
   "name": "python3"
  },
  "language_info": {
   "codemirror_mode": {
    "name": "ipython",
    "version": 3
   },
   "file_extension": ".py",
   "mimetype": "text/x-python",
   "name": "python",
   "nbconvert_exporter": "python",
   "pygments_lexer": "ipython3",
   "version": "3.7.3"
  }
 },
 "nbformat": 4,
 "nbformat_minor": 2
}
