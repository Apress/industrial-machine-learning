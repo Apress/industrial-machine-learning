{
 "cells": [
  {
   "cell_type": "markdown",
   "metadata": {},
   "source": [
    "## Apress - Industrialized Machine Learning Examples\n",
    "\n",
    "Andreas Francois Vermeulen\n",
    "2019\n",
    "\n",
    "### This is an example add-on to a book and needs to be accepted as part of that copyright."
   ]
  },
  {
   "cell_type": "markdown",
   "metadata": {},
   "source": [
    "# Chapter 005 Example 011"
   ]
  },
  {
   "cell_type": "code",
   "execution_count": 1,
   "metadata": {},
   "outputs": [],
   "source": [
    "from sklearn.ensemble import RandomForestClassifier, ExtraTreesClassifier, IsolationForest\n",
    "from sklearn.datasets import make_classification\n",
    "from sklearn.metrics import confusion_matrix\n",
    "import numpy as np"
   ]
  },
  {
   "cell_type": "code",
   "execution_count": 2,
   "metadata": {},
   "outputs": [],
   "source": [
    "sresult=False\n",
    "\n",
    "ncnt=5000\n",
    "nfcnt=50\n",
    "md=2\n",
    "\n",
    "X, y = make_classification(n_samples=ncnt, \n",
    "                           n_features=nfcnt,\n",
    "                           n_informative=(nfcnt-1), \n",
    "                           n_redundant=1, \n",
    "                           random_state=1963, \n",
    "                           shuffle=True)"
   ]
  },
  {
   "cell_type": "markdown",
   "metadata": {},
   "source": [
    "## Part A - RandomForestClassifier"
   ]
  },
  {
   "cell_type": "code",
   "execution_count": 3,
   "metadata": {},
   "outputs": [
    {
     "name": "stderr",
     "output_type": "stream",
     "text": [
      "[Parallel(n_jobs=-1)]: Using backend ThreadingBackend with 4 concurrent workers.\n",
      "[Parallel(n_jobs=-1)]: Done  42 tasks      | elapsed:    0.6s\n",
      "[Parallel(n_jobs=-1)]: Done 192 tasks      | elapsed:    1.3s\n",
      "[Parallel(n_jobs=-1)]: Done 442 tasks      | elapsed:    2.5s\n",
      "[Parallel(n_jobs=-1)]: Done 792 tasks      | elapsed:    4.1s\n",
      "[Parallel(n_jobs=-1)]: Done 1242 tasks      | elapsed:    6.4s\n",
      "[Parallel(n_jobs=-1)]: Done 1792 tasks      | elapsed:    9.5s\n",
      "[Parallel(n_jobs=-1)]: Done 1963 out of 1963 | elapsed:   10.3s finished\n"
     ]
    },
    {
     "data": {
      "text/plain": [
       "RandomForestClassifier(bootstrap=True, class_weight='balanced',\n",
       "                       criterion='entropy', max_depth=2, max_features='auto',\n",
       "                       max_leaf_nodes=None, min_impurity_decrease=0.0,\n",
       "                       min_impurity_split=None, min_samples_leaf=1,\n",
       "                       min_samples_split=2, min_weight_fraction_leaf=0.0,\n",
       "                       n_estimators=1963, n_jobs=-1, oob_score=True,\n",
       "                       random_state=0, verbose=True, warm_start=False)"
      ]
     },
     "execution_count": 3,
     "metadata": {},
     "output_type": "execute_result"
    }
   ],
   "source": [
    "clf1 = RandomForestClassifier(n_estimators=1963,\n",
    "                             criterion='entropy',\n",
    "                             max_depth=md,\n",
    "                             n_jobs = -1,\n",
    "                             oob_score = True,\n",
    "                             verbose = True,\n",
    "                             bootstrap = True,\n",
    "                             max_features = 'auto',\n",
    "                             class_weight = 'balanced',\n",
    "                             random_state=0)\n",
    "clf1.fit(X, y)\n"
   ]
  },
  {
   "cell_type": "code",
   "execution_count": 4,
   "metadata": {},
   "outputs": [
    {
     "name": "stdout",
     "output_type": "stream",
     "text": [
      "[4.97396223e-02 9.74828467e-02 5.97330913e-04 4.07509424e-03\n",
      " 1.44892833e-04 7.46150082e-02 2.42676474e-04 1.11253546e-02\n",
      " 4.11941044e-03 3.12631291e-03 3.39133678e-03 1.15197872e-02\n",
      " 4.68975119e-03 7.15522222e-02 1.21933898e-02 6.84408438e-04\n",
      " 4.18919789e-03 9.64334219e-02 6.39028280e-03 4.12087691e-03\n",
      " 2.48175259e-03 9.48618676e-02 1.79644552e-03 6.39878772e-05\n",
      " 5.67609601e-03 1.04049445e-02 6.28165287e-02 4.88071197e-03\n",
      " 7.00870610e-04 2.36958879e-04 0.00000000e+00 6.66422249e-04\n",
      " 3.92788868e-05 5.04616792e-03 9.22286740e-03 7.12673498e-02\n",
      " 9.52951654e-05 8.79350629e-03 2.25189464e-03 4.94988315e-03\n",
      " 4.03290645e-02 5.37926876e-02 6.57346121e-05 1.78733976e-03\n",
      " 1.17731029e-02 1.15296887e-03 8.76926937e-02 8.56873901e-03\n",
      " 4.69032307e-02 1.24838378e-03]\n"
     ]
    }
   ],
   "source": [
    "print(clf1.feature_importances_)"
   ]
  },
  {
   "cell_type": "code",
   "execution_count": 5,
   "metadata": {},
   "outputs": [
    {
     "name": "stdout",
     "output_type": "stream",
     "text": [
      "0.8066\n"
     ]
    }
   ],
   "source": [
    "print(clf1.oob_score_)"
   ]
  },
  {
   "cell_type": "code",
   "execution_count": 6,
   "metadata": {},
   "outputs": [
    {
     "name": "stderr",
     "output_type": "stream",
     "text": [
      "[Parallel(n_jobs=4)]: Using backend ThreadingBackend with 4 concurrent workers.\n",
      "[Parallel(n_jobs=4)]: Done  42 tasks      | elapsed:    0.0s\n",
      "[Parallel(n_jobs=4)]: Done 192 tasks      | elapsed:    0.1s\n",
      "[Parallel(n_jobs=4)]: Done 442 tasks      | elapsed:    0.2s\n",
      "[Parallel(n_jobs=4)]: Done 792 tasks      | elapsed:    0.6s\n",
      "[Parallel(n_jobs=4)]: Done 1242 tasks      | elapsed:    0.9s\n",
      "[Parallel(n_jobs=4)]: Done 1792 tasks      | elapsed:    1.3s\n",
      "[Parallel(n_jobs=4)]: Done 1963 out of 1963 | elapsed:    1.4s finished\n"
     ]
    }
   ],
   "source": [
    "y_pred=clf1.predict(X).reshape(-1,1)"
   ]
  },
  {
   "cell_type": "code",
   "execution_count": 7,
   "metadata": {},
   "outputs": [],
   "source": [
    "if sresult:\n",
    "    rcnt=0\n",
    "    pcnt=0\n",
    "\n",
    "    for i in range(X.shape[0]):\n",
    "        rvalue=int(y[i])\n",
    "        pvalue=int(y_pred[i])\n",
    "        if rvalue==pvalue:\n",
    "            print(X[i], rvalue,pvalue, 'True')\n",
    "            rcnt+=1\n",
    "        else:\n",
    "            print(X[i], rvalue,pvalue, 'False')\n",
    "            pcnt+=1\n",
    "    \n",
    "    print('True: %0.3f %% False: %0.3f %%' % ((rcnt/ncnt)*100,(pcnt/ncnt)*100))"
   ]
  },
  {
   "cell_type": "code",
   "execution_count": 8,
   "metadata": {},
   "outputs": [
    {
     "name": "stderr",
     "output_type": "stream",
     "text": [
      "[Parallel(n_jobs=4)]: Using backend ThreadingBackend with 4 concurrent workers.\n",
      "[Parallel(n_jobs=4)]: Done  42 tasks      | elapsed:    0.0s\n",
      "[Parallel(n_jobs=4)]: Done 192 tasks      | elapsed:    0.0s\n",
      "[Parallel(n_jobs=4)]: Done 442 tasks      | elapsed:    0.2s\n",
      "[Parallel(n_jobs=4)]: Done 792 tasks      | elapsed:    0.5s\n",
      "[Parallel(n_jobs=4)]: Done 1242 tasks      | elapsed:    0.8s\n"
     ]
    },
    {
     "name": "stdout",
     "output_type": "stream",
     "text": [
      "Score 83.140 %\n"
     ]
    },
    {
     "name": "stderr",
     "output_type": "stream",
     "text": [
      "[Parallel(n_jobs=4)]: Done 1792 tasks      | elapsed:    1.2s\n",
      "[Parallel(n_jobs=4)]: Done 1963 out of 1963 | elapsed:    1.3s finished\n"
     ]
    }
   ],
   "source": [
    "print('Score %0.3f %%' % (clf1.score(X,y)*100))"
   ]
  },
  {
   "cell_type": "code",
   "execution_count": 9,
   "metadata": {},
   "outputs": [
    {
     "name": "stdout",
     "output_type": "stream",
     "text": [
      "(tn=2101, fp=396, fn=447, tp=2056)\n"
     ]
    }
   ],
   "source": [
    "tn, fp, fn, tp = confusion_matrix(y, y_pred).ravel()\n",
    "print('(tn=%d, fp=%d, fn=%d, tp=%d)' % (tn, fp, fn, tp))"
   ]
  },
  {
   "cell_type": "markdown",
   "metadata": {},
   "source": [
    "## Part B - ExtraTreesClassifier"
   ]
  },
  {
   "cell_type": "code",
   "execution_count": 10,
   "metadata": {},
   "outputs": [
    {
     "name": "stderr",
     "output_type": "stream",
     "text": [
      "[Parallel(n_jobs=-1)]: Using backend ThreadingBackend with 4 concurrent workers.\n",
      "[Parallel(n_jobs=-1)]: Done  42 tasks      | elapsed:    0.0s\n",
      "[Parallel(n_jobs=-1)]: Done 192 tasks      | elapsed:    0.3s\n",
      "[Parallel(n_jobs=-1)]: Done 442 tasks      | elapsed:    0.9s\n",
      "[Parallel(n_jobs=-1)]: Done 792 tasks      | elapsed:    1.6s\n",
      "[Parallel(n_jobs=-1)]: Done 1242 tasks      | elapsed:    2.6s\n",
      "[Parallel(n_jobs=-1)]: Done 1792 tasks      | elapsed:    3.8s\n",
      "[Parallel(n_jobs=-1)]: Done 1963 out of 1963 | elapsed:    4.1s finished\n"
     ]
    },
    {
     "data": {
      "text/plain": [
       "ExtraTreesClassifier(bootstrap=True, class_weight='balanced',\n",
       "                     criterion='entropy', max_depth=2, max_features='auto',\n",
       "                     max_leaf_nodes=None, min_impurity_decrease=0.0,\n",
       "                     min_impurity_split=None, min_samples_leaf=1,\n",
       "                     min_samples_split=2, min_weight_fraction_leaf=0.0,\n",
       "                     n_estimators=1963, n_jobs=-1, oob_score=True,\n",
       "                     random_state=0, verbose=True, warm_start=False)"
      ]
     },
     "execution_count": 10,
     "metadata": {},
     "output_type": "execute_result"
    }
   ],
   "source": [
    "clf2 = ExtraTreesClassifier(n_estimators=1963,\n",
    "                             criterion='entropy',\n",
    "                             max_depth=md,\n",
    "                             n_jobs = -1,\n",
    "                             oob_score = True,\n",
    "                             verbose = True,\n",
    "                             bootstrap = True,\n",
    "                             max_features = 'auto',\n",
    "                             class_weight = 'balanced',\n",
    "                             random_state=0)\n",
    "clf2.fit(X, y)"
   ]
  },
  {
   "cell_type": "code",
   "execution_count": 11,
   "metadata": {},
   "outputs": [
    {
     "name": "stdout",
     "output_type": "stream",
     "text": [
      "[0.04794546 0.0663212  0.0016558  0.0099317  0.00078419 0.05179468\n",
      " 0.00088954 0.01373917 0.008435   0.00554951 0.01327338 0.01711741\n",
      " 0.01179464 0.05988521 0.02264271 0.00217359 0.00905864 0.05695083\n",
      " 0.00959911 0.01250907 0.00511433 0.06079211 0.00865406 0.0031948\n",
      " 0.01101608 0.01664324 0.05353967 0.00992054 0.00072473 0.00116221\n",
      " 0.00030575 0.00140448 0.0009536  0.01285905 0.013292   0.06249037\n",
      " 0.00081099 0.01352454 0.00781178 0.01025766 0.05524751 0.05518514\n",
      " 0.00075804 0.00734788 0.0170684  0.00791823 0.06468601 0.01856507\n",
      " 0.05361366 0.00308725]\n"
     ]
    }
   ],
   "source": [
    "print(clf2.feature_importances_)"
   ]
  },
  {
   "cell_type": "code",
   "execution_count": 12,
   "metadata": {},
   "outputs": [
    {
     "name": "stdout",
     "output_type": "stream",
     "text": [
      "0.8066\n"
     ]
    }
   ],
   "source": [
    "print(clf1.oob_score_)"
   ]
  },
  {
   "cell_type": "code",
   "execution_count": 13,
   "metadata": {},
   "outputs": [
    {
     "name": "stderr",
     "output_type": "stream",
     "text": [
      "[Parallel(n_jobs=4)]: Using backend ThreadingBackend with 4 concurrent workers.\n",
      "[Parallel(n_jobs=4)]: Done  42 tasks      | elapsed:    0.0s\n",
      "[Parallel(n_jobs=4)]: Done 192 tasks      | elapsed:    0.0s\n",
      "[Parallel(n_jobs=4)]: Done 442 tasks      | elapsed:    0.2s\n",
      "[Parallel(n_jobs=4)]: Done 792 tasks      | elapsed:    0.5s\n",
      "[Parallel(n_jobs=4)]: Done 1242 tasks      | elapsed:    0.8s\n",
      "[Parallel(n_jobs=4)]: Done 1792 tasks      | elapsed:    1.2s\n",
      "[Parallel(n_jobs=4)]: Done 1963 out of 1963 | elapsed:    1.3s finished\n"
     ]
    }
   ],
   "source": [
    "y_pred=clf2.predict(X).reshape(-1,1)"
   ]
  },
  {
   "cell_type": "code",
   "execution_count": 14,
   "metadata": {},
   "outputs": [
    {
     "name": "stderr",
     "output_type": "stream",
     "text": [
      "[Parallel(n_jobs=4)]: Using backend ThreadingBackend with 4 concurrent workers.\n",
      "[Parallel(n_jobs=4)]: Done  42 tasks      | elapsed:    0.0s\n",
      "[Parallel(n_jobs=4)]: Done 192 tasks      | elapsed:    0.1s\n",
      "[Parallel(n_jobs=4)]: Done 442 tasks      | elapsed:    0.3s\n",
      "[Parallel(n_jobs=4)]: Done 792 tasks      | elapsed:    0.5s\n",
      "[Parallel(n_jobs=4)]: Done 1242 tasks      | elapsed:    0.8s\n",
      "[Parallel(n_jobs=4)]: Done 1792 tasks      | elapsed:    1.2s\n",
      "[Parallel(n_jobs=4)]: Done 1963 out of 1963 | elapsed:    1.4s finished\n"
     ]
    },
    {
     "name": "stdout",
     "output_type": "stream",
     "text": [
      "Score 87.080 %\n"
     ]
    }
   ],
   "source": [
    "print('Score %0.3f %%' % (clf2.score(X,y)*100))"
   ]
  },
  {
   "cell_type": "code",
   "execution_count": 15,
   "metadata": {},
   "outputs": [
    {
     "name": "stdout",
     "output_type": "stream",
     "text": [
      "(tn=2205, fp=292, fn=354, tp=2149)\n"
     ]
    }
   ],
   "source": [
    "tn, fp, fn, tp = confusion_matrix(y, y_pred).ravel()\n",
    "print('(tn=%d, fp=%d, fn=%d, tp=%d)' % (tn, fp, fn, tp))"
   ]
  },
  {
   "cell_type": "markdown",
   "metadata": {},
   "source": [
    "## Done"
   ]
  },
  {
   "cell_type": "code",
   "execution_count": 16,
   "metadata": {},
   "outputs": [
    {
     "name": "stdout",
     "output_type": "stream",
     "text": [
      "Done! 2019-10-19 17:54:31.915453\n"
     ]
    }
   ],
   "source": [
    "import datetime\n",
    "now = datetime.datetime.now()\n",
    "print('Done!',str(now))"
   ]
  }
 ],
 "metadata": {
  "kernelspec": {
   "display_name": "Python 3",
   "language": "python",
   "name": "python3"
  },
  "language_info": {
   "codemirror_mode": {
    "name": "ipython",
    "version": 3
   },
   "file_extension": ".py",
   "mimetype": "text/x-python",
   "name": "python",
   "nbconvert_exporter": "python",
   "pygments_lexer": "ipython3",
   "version": "3.7.3"
  }
 },
 "nbformat": 4,
 "nbformat_minor": 2
}
