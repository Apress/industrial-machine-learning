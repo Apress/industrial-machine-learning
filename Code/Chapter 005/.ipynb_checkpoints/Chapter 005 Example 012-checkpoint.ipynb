{
 "cells": [
  {
   "cell_type": "markdown",
   "metadata": {},
   "source": [
    "## Apress - Industrialized Machine Learning Examples\n",
    "\n",
    "Andreas Francois Vermeulen\n",
    "2019\n",
    "\n",
    "### This is an example add-on to a book and needs to be accepted as part of that copyright."
   ]
  },
  {
   "cell_type": "markdown",
   "metadata": {},
   "source": [
    "# Chapter 005 Example 012"
   ]
  },
  {
   "cell_type": "markdown",
   "metadata": {},
   "source": [
    "## Part A - Load Libraries"
   ]
  },
  {
   "cell_type": "code",
   "execution_count": 1,
   "metadata": {},
   "outputs": [],
   "source": [
    "from sklearn.ensemble import RandomForestClassifier\n",
    "\n",
    "import pandas as pd\n",
    "import numpy as np\n",
    "import os\n",
    "\n",
    "np.random.seed(0)"
   ]
  },
  {
   "cell_type": "code",
   "execution_count": 2,
   "metadata": {},
   "outputs": [],
   "source": [
    "sfeature=['F01', 'F02', 'F03', 'F04']\n",
    "rosenames = np.array(['Rosaceae (Blue)','Floribunda (White)','Rosa kordesii (Red)'])"
   ]
  },
  {
   "cell_type": "markdown",
   "metadata": {},
   "source": [
    "## Part B - Load the Roses dataset"
   ]
  },
  {
   "cell_type": "code",
   "execution_count": 3,
   "metadata": {},
   "outputs": [
    {
     "name": "stdout",
     "output_type": "stream",
     "text": [
      "C:\\Users\\AndreVermeulen\\Documents\\My Book\\apress\\Industrial Machine Learning\\book\\GitHub\\Upload\\industrial-machine-learning\\Data\\Roses05.csv\n"
     ]
    }
   ],
   "source": [
    "fileName = '../../Data/Roses05.csv'\n",
    "fileFullName = os.path.abspath(fileName)\n",
    "print(fileFullName)"
   ]
  },
  {
   "cell_type": "code",
   "execution_count": 4,
   "metadata": {},
   "outputs": [
    {
     "name": "stdout",
     "output_type": "stream",
     "text": [
      "(600, 6)\n",
      "Index(['F01', 'F02', 'F03', 'F04', 'T01', 'T02'], dtype='object')\n"
     ]
    }
   ],
   "source": [
    "datadf= pd.read_csv(fileFullName, header=0)\n",
    "print(datadf.shape)\n",
    "print(datadf.columns)"
   ]
  },
  {
   "cell_type": "code",
   "execution_count": 5,
   "metadata": {},
   "outputs": [],
   "source": [
    "data_X = datadf[sfeature].copy(deep=True)"
   ]
  },
  {
   "cell_type": "code",
   "execution_count": 6,
   "metadata": {},
   "outputs": [],
   "source": [
    "data_y = datadf['T02'].copy(deep=True)\n",
    "data_y.columns = (['T'])\n",
    "yc=np.array(data_y, dtype=np.int8)"
   ]
  },
  {
   "cell_type": "code",
   "execution_count": 7,
   "metadata": {},
   "outputs": [
    {
     "name": "stdout",
     "output_type": "stream",
     "text": [
      "   Leaf Length (mm)  Leaf Width (mm)  Stem length (mm)  Stem width (mm)\n",
      "0             4.209            2.995             1.043            0.052\n",
      "1             4.264            3.045             1.011            0.173\n",
      "2             4.300            3.000             1.100            0.100\n",
      "3             4.309            2.895             1.343            0.152\n",
      "4             4.309            2.995             1.243            0.152\n"
     ]
    }
   ],
   "source": [
    "df=data_X.copy(deep=True)\n",
    "df.columns=['Leaf Length (mm)','Leaf Width (mm)', 'Stem length (mm)', 'Stem width (mm)']\n",
    "\n",
    "# View the top 5 rows\n",
    "print(df.head())"
   ]
  },
  {
   "cell_type": "code",
   "execution_count": 8,
   "metadata": {},
   "outputs": [],
   "source": [
    "# Add a new column with the species names, this is what we are going to try to predict\n",
    "df['Flower Color'] = pd.Categorical.from_codes(yc,rosenames)"
   ]
  },
  {
   "cell_type": "markdown",
   "metadata": {},
   "source": [
    "## Part C - Training and Test Data set with np.random.uniform"
   ]
  },
  {
   "cell_type": "code",
   "execution_count": 9,
   "metadata": {},
   "outputs": [
    {
     "name": "stdout",
     "output_type": "stream",
     "text": [
      "   Leaf Length (mm)  Leaf Width (mm)  Stem length (mm)  Stem width (mm)  \\\n",
      "0             4.209            2.995             1.043            0.052   \n",
      "1             4.264            3.045             1.011            0.173   \n",
      "2             4.300            3.000             1.100            0.100   \n",
      "3             4.309            2.895             1.343            0.152   \n",
      "4             4.309            2.995             1.243            0.152   \n",
      "\n",
      "      Flower Color  is_train  \n",
      "0  Rosaceae (Blue)      True  \n",
      "1  Rosaceae (Blue)      True  \n",
      "2  Rosaceae (Blue)      True  \n",
      "3  Rosaceae (Blue)      True  \n",
      "4  Rosaceae (Blue)      True  \n"
     ]
    }
   ],
   "source": [
    "# Create a new column that for each row, generates a random number between 0 and 1, and\n",
    "# if that value is less than or equal to .75, then sets the value of that cell as True\n",
    "# and false otherwise. This is a quick way of randomly assigning rows to be used as the training data and test data.\n",
    "df['is_train'] = np.random.uniform(0, 1, len(df)) <= .75\n",
    "\n",
    "# View the top 5 rows\n",
    "print(df.head())"
   ]
  },
  {
   "cell_type": "code",
   "execution_count": 10,
   "metadata": {},
   "outputs": [],
   "source": [
    "# Create two new dataframes, one with the training rows, one with the test rows\n",
    "train, test = df[df['is_train']==True], df[df['is_train']==False]"
   ]
  },
  {
   "cell_type": "code",
   "execution_count": 11,
   "metadata": {},
   "outputs": [
    {
     "name": "stdout",
     "output_type": "stream",
     "text": [
      "Number of observations in the training data: 457\n",
      "Number of observations in the test data: 143\n"
     ]
    }
   ],
   "source": [
    "# Show the number of observations for the test and training dataframes\n",
    "print('Number of observations in the training data:', len(train))\n",
    "print('Number of observations in the test data:',len(test))"
   ]
  },
  {
   "cell_type": "code",
   "execution_count": 12,
   "metadata": {},
   "outputs": [
    {
     "name": "stdout",
     "output_type": "stream",
     "text": [
      "['Leaf Length (mm)' 'Leaf Width (mm)' 'Stem length (mm)' 'Stem width (mm)']\n"
     ]
    }
   ],
   "source": [
    "# Create a list of the feature column's names\n",
    "features = np.array(df.columns[:4])\n",
    "\n",
    "# View features\n",
    "print(features)"
   ]
  },
  {
   "cell_type": "markdown",
   "metadata": {},
   "source": [
    "## Part D - Apply factorize to Training Data"
   ]
  },
  {
   "cell_type": "code",
   "execution_count": 13,
   "metadata": {},
   "outputs": [
    {
     "name": "stdout",
     "output_type": "stream",
     "text": [
      "[[0 0 0 0 0 0 0 0 0 0 0 0 0 0 0 0 0 0 0 0 0 0 0 0 0 0 0 0 0 0 0 0 0 0 0 0\n",
      "  0 0 0 0 0 0 0 0 0 1 2 0 0 0 0 1 0 0 0 0 0 0 1 2 0 0 0 0 1 1 0 0 0 0 0 0\n",
      "  0 1 1 0 0 0 0 0 0 0 1 0 0 0 0 1 0 0 0 0 0 0 0 0 0 0 0 0 1 0 0 0 0 0 0 0\n",
      "  0 1 1 0 0 0 0 0 1 0 0 0 0 0 0 0 1 0 0 0 0 0 0 0 0 0 1 0 0 0 1 0 0 0 0 1\n",
      "  0 0 0 0 1 0 0 0 0 0 1 0 0 0 0 0 1 1 1 1 1 0 0 1 1 1 0 1 0 0 0 1 1 1 0 1\n",
      "  1 2 1 1 1 1 1 2 1 1 1 1 1 1 1 0 0 1 1 2 1 1 1 1 1 0 0 2 1 1 1 0 0 2 1 1\n",
      "  1 0 0 1 1 2 2 2 0 1 1 2 2 2 1 1 0 0 1 1 1 2 2 0 1 2 1 1 2 1 1 1 2 2 2 0\n",
      "  1 2 1 1 2 1 2 2 1 1 2 1 1 2 1 2 1 1 2 2 1 1 1 1 2 2 1 1 1 1 2 1 2 1 1 1\n",
      "  1 2 1 2 1 2 2 1 2 1 2 1 2 1 2 2 2 1 2 2 1 2 2 1 2 2 1 2 1 2 1 1 2 2 2 2\n",
      "  2 2 2 2 2 2 2 2 2 1 2 1 2 1 1 2 2 1 2 2 2 2 1 2 2 2 1 2 2 2 2 2 2 1 2 2\n",
      "  1 2 1 1 2 2 2 2 1 1 2 1 1 2 2 2 1 2 1 1 2 2 2 1 2 1 1 2 2 2 1 2 2 1 2 2\n",
      "  2 2 1 1 2 2 2 1 2 1 2 2 2 1 2 2 2 1 2 1 2 2 2 1 1 2 2 2 2 1 2 2 2 2 2 2\n",
      "  2 2 2 2 2 2 2 2 2 2 2 2 2 2 2 2 2 2 2 2 2 2 2 2 2]]\n"
     ]
    }
   ],
   "source": [
    "# train['species'] contains the actual species names. Before we can use it,\n",
    "# we need to convert each species name into a digit. So, in this case there\n",
    "# are three species, which have been coded as 0, 1, or 2.\n",
    "y = pd.factorize(train['Flower Color'])[0]\n",
    "\n",
    "# View target\n",
    "print(y.reshape(1,-1))"
   ]
  },
  {
   "cell_type": "markdown",
   "metadata": {},
   "source": [
    "## Part E - Apply RandomForestClassifier"
   ]
  },
  {
   "cell_type": "code",
   "execution_count": 14,
   "metadata": {},
   "outputs": [],
   "source": [
    "# Create a random forest Classifier. By convention, clf means 'Classifier'\n",
    "clf = RandomForestClassifier(n_jobs=-1, \n",
    "                             random_state=0, \n",
    "                             n_estimators=150\n",
    "                            )"
   ]
  },
  {
   "cell_type": "code",
   "execution_count": 15,
   "metadata": {},
   "outputs": [
    {
     "data": {
      "text/plain": [
       "RandomForestClassifier(bootstrap=True, class_weight=None, criterion='gini',\n",
       "                       max_depth=None, max_features='auto', max_leaf_nodes=None,\n",
       "                       min_impurity_decrease=0.0, min_impurity_split=None,\n",
       "                       min_samples_leaf=1, min_samples_split=2,\n",
       "                       min_weight_fraction_leaf=0.0, n_estimators=150,\n",
       "                       n_jobs=-1, oob_score=False, random_state=0, verbose=0,\n",
       "                       warm_start=False)"
      ]
     },
     "execution_count": 15,
     "metadata": {},
     "output_type": "execute_result"
    }
   ],
   "source": [
    "# Train the Classifier to take the training features and learn how they relate\n",
    "# to the training y (the species)\n",
    "clf.fit(train[features], y)"
   ]
  },
  {
   "cell_type": "markdown",
   "metadata": {},
   "source": [
    "## Part F - Predict Test Results"
   ]
  },
  {
   "cell_type": "code",
   "execution_count": 16,
   "metadata": {},
   "outputs": [],
   "source": [
    "# Apply the Classifier we trained to the test data\n",
    "y_pred=clf.predict(test[features])"
   ]
  },
  {
   "cell_type": "code",
   "execution_count": 17,
   "metadata": {},
   "outputs": [
    {
     "data": {
      "text/plain": [
       "array([[1.        , 0.        , 0.        ],\n",
       "       [1.        , 0.        , 0.        ],\n",
       "       [1.        , 0.        , 0.        ],\n",
       "       [0.97333333, 0.02      , 0.00666667],\n",
       "       [1.        , 0.        , 0.        ],\n",
       "       [0.97333333, 0.02      , 0.00666667],\n",
       "       [1.        , 0.        , 0.        ],\n",
       "       [1.        , 0.        , 0.        ],\n",
       "       [1.        , 0.        , 0.        ],\n",
       "       [1.        , 0.        , 0.        ]])"
      ]
     },
     "execution_count": 17,
     "metadata": {},
     "output_type": "execute_result"
    }
   ],
   "source": [
    "# View the predicted probabilities of the first 10 observations\n",
    "clf.predict_proba(test[features])[0:10]"
   ]
  },
  {
   "cell_type": "markdown",
   "metadata": {},
   "source": [
    "## Part G - Display the predicted Test Results"
   ]
  },
  {
   "cell_type": "code",
   "execution_count": 18,
   "metadata": {},
   "outputs": [],
   "source": [
    "# Create actual english names for the plants for each predicted plant class\n",
    "preds = rosenames[clf.predict(test[features])]"
   ]
  },
  {
   "cell_type": "code",
   "execution_count": 19,
   "metadata": {},
   "outputs": [
    {
     "name": "stdout",
     "output_type": "stream",
     "text": [
      "----------------------------------\n",
      "Predicted Species\n",
      "----------------------------------\n",
      "[['Rosaceae (Blue)']\n",
      " ['Rosaceae (Blue)']\n",
      " ['Rosaceae (Blue)']\n",
      " ['Rosaceae (Blue)']\n",
      " ['Rosaceae (Blue)']\n",
      " ['Rosaceae (Blue)']\n",
      " ['Rosaceae (Blue)']\n",
      " ['Rosaceae (Blue)']\n",
      " ['Rosaceae (Blue)']\n",
      " ['Rosaceae (Blue)']\n",
      " ['Rosaceae (Blue)']\n",
      " ['Rosaceae (Blue)']\n",
      " ['Rosaceae (Blue)']\n",
      " ['Rosaceae (Blue)']\n",
      " ['Rosa kordesii (Red)']\n",
      " ['Rosaceae (Blue)']\n",
      " ['Rosaceae (Blue)']\n",
      " ['Rosaceae (Blue)']\n",
      " ['Rosaceae (Blue)']\n",
      " ['Rosaceae (Blue)']]\n",
      "----------------------------------\n",
      "Actual Species\n",
      "----------------------------------\n",
      "7         Rosaceae (Blue)\n",
      "8         Rosaceae (Blue)\n",
      "10        Rosaceae (Blue)\n",
      "13        Rosaceae (Blue)\n",
      "17        Rosaceae (Blue)\n",
      "18        Rosaceae (Blue)\n",
      "19        Rosaceae (Blue)\n",
      "20        Rosaceae (Blue)\n",
      "21        Rosaceae (Blue)\n",
      "23        Rosaceae (Blue)\n",
      "27        Rosaceae (Blue)\n",
      "31        Rosaceae (Blue)\n",
      "38        Rosaceae (Blue)\n",
      "52        Rosaceae (Blue)\n",
      "66    Rosa kordesii (Red)\n",
      "68        Rosaceae (Blue)\n",
      "70        Rosaceae (Blue)\n",
      "72        Rosaceae (Blue)\n",
      "89        Rosaceae (Blue)\n",
      "98        Rosaceae (Blue)\n",
      "Name: Flower Color, dtype: category\n",
      "Categories (3, object): [Rosaceae (Blue), Floribunda (White), Rosa kordesii (Red)]\n"
     ]
    }
   ],
   "source": [
    "# View the PREDICTED species for the first five observations\n",
    "print('----------------------------------')\n",
    "print('Predicted Species')\n",
    "print('----------------------------------')\n",
    "print(preds[0:20].reshape(1,-1).T)\n",
    "print('----------------------------------')\n",
    "# View the ACTUAL species for the first five observations\n",
    "print('Actual Species')\n",
    "print('----------------------------------')\n",
    "print(test['Flower Color'].head(20))"
   ]
  },
  {
   "cell_type": "code",
   "execution_count": 20,
   "metadata": {},
   "outputs": [
    {
     "data": {
      "text/html": [
       "<div>\n",
       "<style scoped>\n",
       "    .dataframe tbody tr th:only-of-type {\n",
       "        vertical-align: middle;\n",
       "    }\n",
       "\n",
       "    .dataframe tbody tr th {\n",
       "        vertical-align: top;\n",
       "    }\n",
       "\n",
       "    .dataframe thead th {\n",
       "        text-align: right;\n",
       "    }\n",
       "</style>\n",
       "<table border=\"1\" class=\"dataframe\">\n",
       "  <thead>\n",
       "    <tr style=\"text-align: right;\">\n",
       "      <th>Predicted Species</th>\n",
       "      <th>Floribunda (White)</th>\n",
       "      <th>Rosa kordesii (Red)</th>\n",
       "      <th>Rosaceae (Blue)</th>\n",
       "    </tr>\n",
       "    <tr>\n",
       "      <th>Actual Species</th>\n",
       "      <th></th>\n",
       "      <th></th>\n",
       "      <th></th>\n",
       "    </tr>\n",
       "  </thead>\n",
       "  <tbody>\n",
       "    <tr>\n",
       "      <th>Rosaceae (Blue)</th>\n",
       "      <td>0</td>\n",
       "      <td>0</td>\n",
       "      <td>41</td>\n",
       "    </tr>\n",
       "    <tr>\n",
       "      <th>Floribunda (White)</th>\n",
       "      <td>53</td>\n",
       "      <td>4</td>\n",
       "      <td>0</td>\n",
       "    </tr>\n",
       "    <tr>\n",
       "      <th>Rosa kordesii (Red)</th>\n",
       "      <td>0</td>\n",
       "      <td>45</td>\n",
       "      <td>0</td>\n",
       "    </tr>\n",
       "  </tbody>\n",
       "</table>\n",
       "</div>"
      ],
      "text/plain": [
       "Predicted Species    Floribunda (White)  Rosa kordesii (Red)  Rosaceae (Blue)\n",
       "Actual Species                                                               \n",
       "Rosaceae (Blue)                       0                    0               41\n",
       "Floribunda (White)                   53                    4                0\n",
       "Rosa kordesii (Red)                   0                   45                0"
      ]
     },
     "execution_count": 20,
     "metadata": {},
     "output_type": "execute_result"
    }
   ],
   "source": [
    "# Create confusion matrix\n",
    "pd.crosstab(test['Flower Color'], preds, rownames=['Actual Species'], colnames=['Predicted Species'])"
   ]
  },
  {
   "cell_type": "code",
   "execution_count": 21,
   "metadata": {},
   "outputs": [
    {
     "name": "stdout",
     "output_type": "stream",
     "text": [
      "     Leaf Length (mm) :  9.3581 %\n",
      "      Leaf Width (mm) :  3.2167 %\n",
      "     Stem length (mm) : 43.2882 %\n",
      "      Stem width (mm) : 44.1370 %\n"
     ]
    }
   ],
   "source": [
    "# View a list of the features and their importance scores\n",
    "l=list(zip(train[features], clf.feature_importances_))\n",
    "\n",
    "for i in range(len(l)):\n",
    "    print(' %20s : %7.4f %%' % (l[i][0],l[i][1]*100))"
   ]
  },
  {
   "cell_type": "markdown",
   "metadata": {},
   "source": [
    "## Done"
   ]
  },
  {
   "cell_type": "code",
   "execution_count": 22,
   "metadata": {},
   "outputs": [
    {
     "name": "stdout",
     "output_type": "stream",
     "text": [
      "Done! 2019-10-19 17:54:19.095458\n"
     ]
    }
   ],
   "source": [
    "import datetime\n",
    "now = datetime.datetime.now()\n",
    "print('Done!',str(now))"
   ]
  },
  {
   "cell_type": "code",
   "execution_count": null,
   "metadata": {},
   "outputs": [],
   "source": []
  }
 ],
 "metadata": {
  "kernelspec": {
   "display_name": "Python 3",
   "language": "python",
   "name": "python3"
  },
  "language_info": {
   "codemirror_mode": {
    "name": "ipython",
    "version": 3
   },
   "file_extension": ".py",
   "mimetype": "text/x-python",
   "name": "python",
   "nbconvert_exporter": "python",
   "pygments_lexer": "ipython3",
   "version": "3.7.3"
  }
 },
 "nbformat": 4,
 "nbformat_minor": 2
}
