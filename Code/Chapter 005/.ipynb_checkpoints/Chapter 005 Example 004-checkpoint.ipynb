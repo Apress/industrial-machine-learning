{
 "cells": [
  {
   "cell_type": "markdown",
   "metadata": {},
   "source": [
    "## Apress - Industrialized Machine Learning Examples\n",
    "\n",
    "Andreas Francois Vermeulen\n",
    "2019\n",
    "\n",
    "### This is an example add-on to a book and needs to be accepted as part of that copyright."
   ]
  },
  {
   "cell_type": "markdown",
   "metadata": {},
   "source": [
    "# Chapter 05 Example 004"
   ]
  },
  {
   "cell_type": "code",
   "execution_count": 1,
   "metadata": {},
   "outputs": [],
   "source": [
    "#!pip install --upgrade tensorflow\n",
    "#conda install -c conda-forge tensorflow\n",
    "#conda install tensorflow-mkl"
   ]
  },
  {
   "cell_type": "markdown",
   "metadata": {},
   "source": [
    "## Part A - Load Libraries"
   ]
  },
  {
   "cell_type": "code",
   "execution_count": 2,
   "metadata": {},
   "outputs": [],
   "source": [
    "import tensorflow as tf\n",
    "import numpy as np"
   ]
  },
  {
   "cell_type": "markdown",
   "metadata": {},
   "source": [
    "## Part B - Basic constant operations\n",
    "### The value returned by the constructor represents the output of the Constant operator."
   ]
  },
  {
   "cell_type": "code",
   "execution_count": 3,
   "metadata": {},
   "outputs": [
    {
     "name": "stdout",
     "output_type": "stream",
     "text": [
      "a=5.000, b=10.000, c=20.000, d=12.000, e=89.000\n",
      "x=5.000 + 10.000 + 20.000\n",
      "Addition with constants: x = 35\n",
      "y=5.000 x 10.000 x 20.000\n",
      "Multiplication with constants: y = 1000\n",
      "z=2.000 ^ 12.000\n",
      "Power with constants: z = 4096\n",
      "s=sqrt(89.000)\n",
      "Square root with constants: s = 9\n"
     ]
    }
   ],
   "source": [
    "a = np.array(5.0, dtype=np.float64)\n",
    "b = np.array(10.0, dtype=np.float64)\n",
    "c = np.array(20.0, dtype=np.float64)\n",
    "d = np.array(12.0, dtype=np.float64)\n",
    "e = np.array(89.0, dtype=np.float64)\n",
    "f = np.array(2.0, dtype=np.float64)\n",
    "\n",
    "tf_a = tf.constant(a)\n",
    "tf_b = tf.constant(b)\n",
    "tf_c = tf.constant(c)\n",
    "tf_d = tf.constant(d)\n",
    "tf_e = tf.constant(e)\n",
    "tf_f = tf.constant(f)\n",
    "\n",
    "tf_s = tf.sqrt(tf_e)\n",
    "tf_x = tf.math.add_n([tf_a,tf_b,tf_c])\n",
    "tf_y = tf.multiply(tf.multiply(tf_a,tf_b),tf_c)\n",
    "tf_z = tf.pow(tf_f,tf_d)\n",
    "\n",
    "with tf.Session() as sess:\n",
    "    print(\"a=%0.3f, b=%0.3f, c=%0.3f, d=%0.3f, e=%0.3f\" % (a,b,c,d,e))\n",
    "    print(\"x=%0.3f + %0.3f + %0.3f\" % (a,b,c))\n",
    "    print(\"Addition with constants: x = %i\" % sess.run(tf_x))\n",
    "    \n",
    "    print(\"y=%0.3f x %0.3f x %0.3f\" % (a,b,c))\n",
    "    print(\"Multiplication with constants: y = %i\" % sess.run(tf_y))\n",
    "    \n",
    "    print(\"z=%0.3f ^ %0.3f\" % (f,d))    \n",
    "    print(\"Power with constants: z = %i\" % sess.run(tf_z))\n",
    "    \n",
    "    print(\"s=sqrt(%0.3f)\" % (e))    \n",
    "    print(\"Square root with constants: s = %i\" % sess.run(tf_s))"
   ]
  },
  {
   "cell_type": "markdown",
   "metadata": {},
   "source": [
    "## Part C - Basic Operations with variable as graph input\n",
    "### The value returned by the constructor represents the output\n",
    "### of the Variable operator. (Define it as an input when running session)\n",
    "### tf Graph input"
   ]
  },
  {
   "cell_type": "code",
   "execution_count": 4,
   "metadata": {},
   "outputs": [
    {
     "name": "stdout",
     "output_type": "stream",
     "text": [
      "Addition with variables: 35\n",
      "Multiplication with variables: 1000\n"
     ]
    }
   ],
   "source": [
    "a = tf.placeholder(tf.float64)\n",
    "b = tf.placeholder(tf.float64)\n",
    "c = tf.placeholder(tf.float64)\n",
    "\n",
    "# Define more operations\n",
    "add = tf.add(tf.add(a, b),c)\n",
    "mul = tf.multiply(tf.multiply(a, b),c)\n",
    "\n",
    "# Launch the default graph.\n",
    "with tf.Session() as sess:\n",
    "    # Run every operation with variable input\n",
    "    print(\"Addition with variables: %i\" % sess.run(add, feed_dict={a: 5.0, b: 10.0, c: 20.0}))\n",
    "    print(\"Multiplication with variables: %i\" % sess.run(mul, feed_dict={a: 5.0, b: 10.0, c: 20.0}))\n"
   ]
  },
  {
   "cell_type": "markdown",
   "metadata": {},
   "source": [
    "## Part D - Matrix Multiplication from TensorFlow\n",
    "\n",
    "### Create a Constant op that produces a 1x3 matrix.  The operator is added as a node to the default graph.\n",
    "### The value returned by the constructor represents the output of the Constant operator."
   ]
  },
  {
   "cell_type": "code",
   "execution_count": 5,
   "metadata": {},
   "outputs": [
    {
     "name": "stdout",
     "output_type": "stream",
     "text": [
      "Tensor(\"Const_6:0\", shape=(1, 4), dtype=float32)\n",
      "Tensor(\"Const_7:0\", shape=(4, 1), dtype=float32)\n"
     ]
    }
   ],
   "source": [
    "matrix1 = tf.constant([[10., 11., 12.,13.]])\n",
    "print(matrix1)\n",
    "# Create another Constant that produces a 3x1 matrix.\n",
    "matrix2 = tf.constant([[14.],[15.],[16.],[17.]])\n",
    "print(matrix2)"
   ]
  },
  {
   "cell_type": "markdown",
   "metadata": {},
   "source": [
    "## Part E - Create a Matmul op that takes 'matrix1' and 'matrix2' as inputs.\n",
    "### The returned value, 'product', represents the result of the matrix multiplication."
   ]
  },
  {
   "cell_type": "code",
   "execution_count": 6,
   "metadata": {},
   "outputs": [],
   "source": [
    "product = tf.matmul(matrix1, matrix2)"
   ]
  },
  {
   "cell_type": "markdown",
   "metadata": {},
   "source": [
    "### To run the matmul op we call the session 'run()' method, passing 'product'\n",
    "### which represents the output of the matmul op.  This indicates to the call\n",
    "### that we want to get the output of the matmul op back.\n",
    "### All inputs needed by the op are run automatically by the session.  They\n",
    "### typically are run in parallel.\n",
    "### The call 'run(product)' thus causes the execution of threes ops in the\n",
    "### graph: the two constants and matmul.\n",
    "### The output of the op is returned in 'result' as a numpy `ndarray` object."
   ]
  },
  {
   "cell_type": "markdown",
   "metadata": {},
   "source": [
    "## Part F - Run the TF session"
   ]
  },
  {
   "cell_type": "code",
   "execution_count": 7,
   "metadata": {},
   "outputs": [
    {
     "name": "stdout",
     "output_type": "stream",
     "text": [
      "[[718.]]\n"
     ]
    }
   ],
   "source": [
    "with tf.Session() as sess:\n",
    "    result = sess.run(product)\n",
    "    print(result)"
   ]
  },
  {
   "cell_type": "markdown",
   "metadata": {},
   "source": [
    "## Part G - Extra Matrix Calculations"
   ]
  },
  {
   "cell_type": "code",
   "execution_count": 8,
   "metadata": {},
   "outputs": [
    {
     "name": "stdout",
     "output_type": "stream",
     "text": [
      "(100,)\n",
      "(100, 1)\n",
      "(1, 100)\n"
     ]
    }
   ],
   "source": [
    "i=100\n",
    "matrix0 = np.array(np.arange(i, 0.0, -1.0),dtype=np.float32)\n",
    "n=int(matrix0.shape[0])\n",
    "matrix1 = matrix0.reshape((n,1))\n",
    "matrix2 = np.transpose(matrix1)\n",
    "print(matrix0.shape)\n",
    "print(matrix1.shape)\n",
    "print(matrix2.shape)"
   ]
  },
  {
   "cell_type": "code",
   "execution_count": 9,
   "metadata": {},
   "outputs": [
    {
     "name": "stdout",
     "output_type": "stream",
     "text": [
      "Tensor(\"Const_8:0\", shape=(100, 1), dtype=float32)\n",
      "Tensor(\"Const_9:0\", shape=(1, 100), dtype=float32)\n"
     ]
    }
   ],
   "source": [
    "tf_matrix1 = tf.constant(matrix1)\n",
    "print(tf_matrix1)\n",
    "# Create another Constant that produces a 3x1 matrix.\n",
    "tf_matrix2 = tf.constant(matrix2)\n",
    "print(tf_matrix2)"
   ]
  },
  {
   "cell_type": "code",
   "execution_count": 10,
   "metadata": {},
   "outputs": [],
   "source": [
    "tf_product = tf.matmul(tf_matrix1, tf_matrix2)"
   ]
  },
  {
   "cell_type": "code",
   "execution_count": 11,
   "metadata": {},
   "outputs": [
    {
     "name": "stdout",
     "output_type": "stream",
     "text": [
      "(100, 100)\n",
      "[[1.000e+04 9.900e+03 9.800e+03 ... 3.000e+02 2.000e+02 1.000e+02]\n",
      " [9.900e+03 9.801e+03 9.702e+03 ... 2.970e+02 1.980e+02 9.900e+01]\n",
      " [9.800e+03 9.702e+03 9.604e+03 ... 2.940e+02 1.960e+02 9.800e+01]\n",
      " ...\n",
      " [3.000e+02 2.970e+02 2.940e+02 ... 9.000e+00 6.000e+00 3.000e+00]\n",
      " [2.000e+02 1.980e+02 1.960e+02 ... 6.000e+00 4.000e+00 2.000e+00]\n",
      " [1.000e+02 9.900e+01 9.800e+01 ... 3.000e+00 2.000e+00 1.000e+00]]\n"
     ]
    }
   ],
   "source": [
    "with tf.Session() as sess:\n",
    "    tf_result = sess.run(tf_product)\n",
    "    print(tf_result.shape)\n",
    "    print(tf_result)"
   ]
  },
  {
   "cell_type": "markdown",
   "metadata": {},
   "source": [
    "## Done"
   ]
  },
  {
   "cell_type": "code",
   "execution_count": 12,
   "metadata": {},
   "outputs": [
    {
     "name": "stdout",
     "output_type": "stream",
     "text": [
      "Done! 2019-10-19 18:29:50.377035\n"
     ]
    }
   ],
   "source": [
    "import datetime\n",
    "now = datetime.datetime.now()\n",
    "print('Done!',str(now))"
   ]
  },
  {
   "cell_type": "code",
   "execution_count": null,
   "metadata": {},
   "outputs": [],
   "source": []
  }
 ],
 "metadata": {
  "kernelspec": {
   "display_name": "Python 3",
   "language": "python",
   "name": "python3"
  },
  "language_info": {
   "codemirror_mode": {
    "name": "ipython",
    "version": 3
   },
   "file_extension": ".py",
   "mimetype": "text/x-python",
   "name": "python",
   "nbconvert_exporter": "python",
   "pygments_lexer": "ipython3",
   "version": "3.7.3"
  }
 },
 "nbformat": 4,
 "nbformat_minor": 2
}
