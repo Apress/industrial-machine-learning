{
 "cells": [
  {
   "cell_type": "markdown",
   "metadata": {},
   "source": [
    "## Apress - Industrialized Machine Learning Examples\n",
    "\n",
    "Andreas Francois Vermeulen\n",
    "2019\n",
    "\n",
    "### This is an example add-on to a book and needs to be accepted as part of that copyright."
   ]
  },
  {
   "cell_type": "markdown",
   "metadata": {},
   "source": [
    "# Chapter 05 Example 010A"
   ]
  },
  {
   "cell_type": "code",
   "execution_count": null,
   "metadata": {},
   "outputs": [],
   "source": [
    "# conda install -c anaconda mayavi"
   ]
  },
  {
   "cell_type": "code",
   "execution_count": null,
   "metadata": {},
   "outputs": [],
   "source": [
    "#!pip install mayavi"
   ]
  },
  {
   "cell_type": "code",
   "execution_count": null,
   "metadata": {},
   "outputs": [],
   "source": [
    "from mayavi import mlab\n",
    "import numpy as np"
   ]
  },
  {
   "cell_type": "code",
   "execution_count": null,
   "metadata": {},
   "outputs": [],
   "source": [
    "import os\n",
    "from scipy.stats import gaussian_kde\n",
    "\n",
    "import mpl_toolkits.mplot3d.axes3d as axes3d\n",
    "import matplotlib.pyplot as plt\n",
    "%matplotlib inline"
   ]
  },
  {
   "cell_type": "code",
   "execution_count": null,
   "metadata": {},
   "outputs": [],
   "source": [
    "mu=np.array([1,10,20])\n",
    "sigma=np.matrix([[20,10,10],\n",
    "                 [10,25,1],\n",
    "                 [10,1,50]])\n",
    "\n",
    "data=np.random.multivariate_normal(mu,sigma,1000)\n",
    "values = data.T\n",
    "values.shape"
   ]
  },
  {
   "cell_type": "code",
   "execution_count": null,
   "metadata": {},
   "outputs": [],
   "source": [
    "kde = gaussian_kde(values, \n",
    "                   bw_method=None, \n",
    "                   weights=None\n",
    "                  )"
   ]
  },
  {
   "cell_type": "markdown",
   "metadata": {},
   "source": [
    "## Create a regular 3D grid with 50 points in each dimension"
   ]
  },
  {
   "cell_type": "code",
   "execution_count": null,
   "metadata": {},
   "outputs": [],
   "source": [
    "xmin, ymin, zmin = data.min(axis=0)\n",
    "xmax, ymax, zmax = data.max(axis=0)\n",
    "xi, yi, zi = np.mgrid[xmin:xmax:50j, ymin:ymax:50j, zmin:zmax:50j]"
   ]
  },
  {
   "cell_type": "markdown",
   "metadata": {},
   "source": [
    "## Evaluate the KDE on a regular grid"
   ]
  },
  {
   "cell_type": "code",
   "execution_count": null,
   "metadata": {},
   "outputs": [],
   "source": [
    "coords = np.vstack([item.ravel() for item in [xi, yi, zi]])\n",
    "coords.shape"
   ]
  },
  {
   "cell_type": "code",
   "execution_count": null,
   "metadata": {},
   "outputs": [],
   "source": [
    "density = kde(coords).reshape(xi.shape)\n",
    "density.shape"
   ]
  },
  {
   "cell_type": "markdown",
   "metadata": {},
   "source": [
    "## Interactive Visualize using Mayavi: 3D scientific data visualization"
   ]
  },
  {
   "cell_type": "code",
   "execution_count": null,
   "metadata": {},
   "outputs": [],
   "source": [
    "mlab.init_notebook('x3d', 3200, 3200)\n",
    "mlab.options.offscreen = False\n",
    "fig0=mlab.figure(fgcolor=(0.0, 0.0, 0.0), bgcolor=(1.0, 1.0, 1.0))\n",
    "mlab.contour3d(xi, yi, zi, density, opacity=0.9, figure=fig0)\n",
    "mlab.axes()\n",
    "mlab.show()"
   ]
  },
  {
   "cell_type": "markdown",
   "metadata": {},
   "source": [
    "## Visualize the density estimate as isosurfaces using Mayavi: 3D scientific data visualization"
   ]
  },
  {
   "cell_type": "code",
   "execution_count": null,
   "metadata": {},
   "outputs": [],
   "source": [
    "mlab.init_notebook('x3d', 3200, 3200)\n",
    "mlab.options.offscreen = True"
   ]
  },
  {
   "cell_type": "code",
   "execution_count": null,
   "metadata": {},
   "outputs": [],
   "source": [
    "fig1=mlab.figure(fgcolor=(0.0, 0.0, 0.0), bgcolor=(1.0, 1.0, 1.0))\n",
    "mlab.contour3d(xi, yi, zi, density, opacity=0.9, figure=fig1)\n",
    "mlab.axes()\n",
    "mlab.show()"
   ]
  },
  {
   "cell_type": "code",
   "execution_count": null,
   "metadata": {},
   "outputs": [],
   "source": [
    "if mlab.options.offscreen == True:\n",
    "    imagepath = os.path.join(*[os.path.dirname(os.path.dirname(os.getcwd())),'Results','Chapter 05'])\n",
    "    print(imagepath)\n",
    "    if not os.path.exists(imagepath):\n",
    "        os.makedirs(imagepath)\n",
    "    imagename = os.path.join(*[os.path.dirname(os.path.dirname(os.getcwd())),'Results','Chapter 05','Chapter-005-Example-010-01.png'])\n",
    "\n",
    "    mlab.savefig(imagename, figure=fig1, magnification='auto')"
   ]
  },
  {
   "cell_type": "markdown",
   "metadata": {},
   "source": [
    "## Visualize the formula using Mayavi: 3D scientific data visualization"
   ]
  },
  {
   "cell_type": "code",
   "execution_count": null,
   "metadata": {},
   "outputs": [],
   "source": [
    "mlab.init_notebook('x3d', 3200, 3200)\n",
    "mlab.options.offscreen = True"
   ]
  },
  {
   "cell_type": "code",
   "execution_count": null,
   "metadata": {},
   "outputs": [],
   "source": [
    "def f(x, y):\n",
    "    sin, cos = np.sin, np.cos\n",
    "    z = sin(x + y) + sin(2 * x - y) + cos(2 * x + 4 * y)\n",
    "    return z\n",
    "\n",
    "fig2=mlab.figure(fgcolor=(0.0, 0.0, 0.0), bgcolor=(1.0, 1.0, 1.0))\n",
    "x, y = np.mgrid[-7.:7.05:0.1, -5.:5.05:0.05]\n",
    "mlab.surf(x, y, f, figure=fig2)\n",
    "mlab.axes()\n",
    "print('Before:', mlab.view())\n",
    "mlab.view(azimuth=45,\n",
    "          elevation=50, \n",
    "          distance=40, \n",
    "          focalpoint=[10.0, 10.0, 10.0],\n",
    "          roll=0,\n",
    "          figure=fig2\n",
    "         )\n",
    "print('After:', mlab.view())\n",
    "mlab.show()"
   ]
  },
  {
   "cell_type": "code",
   "execution_count": null,
   "metadata": {},
   "outputs": [],
   "source": [
    "if mlab.options.offscreen == True:\n",
    "    imagepath = os.path.join(*[os.path.dirname(os.path.dirname(os.getcwd())),'Results','Chapter 05'])\n",
    "    print(imagepath)\n",
    "    if not os.path.exists(imagepath):\n",
    "        os.makedirs(imagepath)\n",
    "    imagename = os.path.join(*[os.path.dirname(os.path.dirname(os.getcwd())),'Results','Chapter 05','Chapter-005-Example-010-02.png'])\n",
    "\n",
    "    mlab.savefig(imagename,figure=fig2, magnification='auto')"
   ]
  },
  {
   "cell_type": "markdown",
   "metadata": {},
   "source": [
    "## Visualize the formula using Mayavi: 3D scientific data visualization"
   ]
  },
  {
   "cell_type": "code",
   "execution_count": null,
   "metadata": {},
   "outputs": [],
   "source": [
    "n=50\n",
    "theta, phi = np.linspace(0, 2 * np.pi, n), np.linspace(0, np.pi, n)\n",
    "THETA, PHI = np.meshgrid(theta, phi)\n",
    "\n",
    "R = np.abs(np.cos(PHI**2))\n",
    "X = R * np.sin(PHI) * np.cos(THETA)\n",
    "Y = R * np.sin(PHI) * np.sin(THETA)\n",
    "Z = R * np.cos(PHI)\n",
    "fig = plt.figure(figsize=(12, 12))\n",
    "ax = fig.add_subplot(1,1,1, projection='3d')\n",
    "plot = ax.plot_surface(\n",
    "    X, Y, Z, rstride=1, cstride=1, cmap=plt.get_cmap('jet'),\n",
    "    linewidth=0, antialiased=False, alpha=0.5)\n",
    "\n",
    "plt.axis('off')\n",
    "plt.show()"
   ]
  },
  {
   "cell_type": "code",
   "execution_count": null,
   "metadata": {},
   "outputs": [],
   "source": [
    "mlab.init_notebook('x3d', 1024, 1024)\n",
    "mlab.options.offscreen = False\n",
    "\n",
    "fig3=mlab.figure()\n",
    "mlab.points3d(X, Y, Z, colormap='Paired', scale_factor=.25, figure=fig3)\n",
    "mlab.show()"
   ]
  },
  {
   "cell_type": "code",
   "execution_count": null,
   "metadata": {},
   "outputs": [],
   "source": [
    "fig4=mlab.figure()\n",
    "mlab.mesh(X, Y, Z, figure=fig4)\n",
    "mlab.show()"
   ]
  },
  {
   "cell_type": "code",
   "execution_count": null,
   "metadata": {},
   "outputs": [],
   "source": [
    "fig5=mlab.figure()\n",
    "x, y, z = np.ogrid[-16:16:128j, -16:16:128j, -16:16:128j]\n",
    "\n",
    "scalars = x * x * 1.75 + y * y + z * z * 1.5\n",
    "\n",
    "mlab.contour3d(scalars, contours=8, transparent=False, figure=fig5)\n",
    "mlab.show()"
   ]
  },
  {
   "cell_type": "code",
   "execution_count": null,
   "metadata": {},
   "outputs": [],
   "source": [
    "fig6=mlab.figure()\n",
    "x, y, z = np.mgrid[-6:6:40j, -6:6:40j, 0:6:20j]\n",
    "\n",
    "r = np.sqrt(x ** 2 + y ** 2 + z ** 2 + 0.25)\n",
    "u = y * np.sin(r) / r\n",
    "v = -x * np.sin(r) / r\n",
    "w = np.ones_like(z)*0.05\n",
    "\n",
    "mlab.flow(u, v, w, figure=fig6)\n",
    "mlab.show()"
   ]
  },
  {
   "cell_type": "code",
   "execution_count": null,
   "metadata": {},
   "outputs": [],
   "source": [
    "fig7=mlab.figure()\n",
    "\n",
    "pi = np.pi\n",
    "cos = np.cos\n",
    "sin = np.sin\n",
    "dphi, dtheta = pi / 125.0, pi / 125.0\n",
    "[phi, theta] = np.mgrid[0:pi + dphi * 2.5:dphi, 0:4 * pi + dtheta * 2.5:dtheta]\n",
    "m0 = 1\n",
    "m1 = 9\n",
    "m2 = 6\n",
    "m3 = 8\n",
    "m4 = 6\n",
    "m5 = 2\n",
    "m6 = 6\n",
    "m7 = 4\n",
    "r = sin(m0 * phi) ** m1 + cos(m2 * phi) ** m3 + \\\n",
    "    sin(m4 * theta) ** m5 + cos(m6 * theta) ** m7\n",
    "x = r * cos(phi) * cos(theta)\n",
    "y = r * sin(phi) * 1.968\n",
    "z = r * cos(phi) * sin(theta)\n",
    "\n",
    "mlab.mesh(x, y, z, colormap='copper', figure=fig7)\n",
    "\n",
    "\n",
    "mlab.show()"
   ]
  },
  {
   "cell_type": "code",
   "execution_count": null,
   "metadata": {},
   "outputs": [],
   "source": [
    "fig8=mlab.figure()\n",
    "\n",
    "x, y, z = np.mgrid[-2:3, -2:3, -2:3]\n",
    "\n",
    "r = np.sqrt(x ** 2 + y ** 2 + z ** 4)\n",
    "u = y * np.sin(r) / (r + 0.001)\n",
    "v = -x * np.sin(r) / (r + 0.001)\n",
    "\n",
    "w = np.zeros_like(z)\n",
    "mlab.quiver3d(x, y, z, u, v, w, line_width=2, scale_factor=2, figure=fig8)\n",
    "\n",
    "\n",
    "mlab.show()"
   ]
  },
  {
   "cell_type": "code",
   "execution_count": null,
   "metadata": {},
   "outputs": [],
   "source": [
    "fig9=mlab.figure()\n",
    "n = 8\n",
    "t = np.linspace(-2*np.pi, 2*np.pi, n)\n",
    "z = np.exp(1j * t) + (np.pi/n)\n",
    "x = z.real.copy()\n",
    "y = z.imag.copy()\n",
    "z = np.zeros_like(x)\n",
    "\n",
    "triangles = [(0, i, i + 1) for i in range(1, n)]\n",
    "x = np.r_[0, x]\n",
    "y = np.r_[0, y]\n",
    "z = np.r_[1, z]\n",
    "t = np.r_[0, t]\n",
    "\n",
    "mlab.triangular_mesh(x, y, z, triangles, scalars=t, figure=fig9)\n",
    "\n",
    "mlab.show()"
   ]
  },
  {
   "cell_type": "code",
   "execution_count": null,
   "metadata": {},
   "outputs": [],
   "source": [
    "fig10=mlab.figure()\n",
    "\n",
    "x, y, z = np.ogrid[-7:7:64j, -7:7:64j, -2:2:64j]\n",
    "\n",
    "scalars = x * x * 0.75 + y * y + z * z * 2.5\n",
    "\n",
    "mlab.volume_slice(scalars, plane_orientation='x_axes', figure=fig10)\n",
    "mlab.show()\n",
    "\n",
    "fig11=mlab.figure()\n",
    "mlab.volume_slice(scalars, plane_orientation='y_axes', figure=fig11)\n",
    "mlab.show()"
   ]
  },
  {
   "cell_type": "markdown",
   "metadata": {},
   "source": [
    "## Done"
   ]
  },
  {
   "cell_type": "code",
   "execution_count": null,
   "metadata": {},
   "outputs": [],
   "source": [
    "import datetime\n",
    "now = datetime.datetime.now()\n",
    "print('Done!',str(now))"
   ]
  },
  {
   "cell_type": "code",
   "execution_count": null,
   "metadata": {},
   "outputs": [],
   "source": []
  }
 ],
 "metadata": {
  "kernelspec": {
   "display_name": "Python 3",
   "language": "python",
   "name": "python3"
  },
  "language_info": {
   "codemirror_mode": {
    "name": "ipython",
    "version": 3
   },
   "file_extension": ".py",
   "mimetype": "text/x-python",
   "name": "python",
   "nbconvert_exporter": "python",
   "pygments_lexer": "ipython3",
   "version": "3.7.3"
  }
 },
 "nbformat": 4,
 "nbformat_minor": 2
}
