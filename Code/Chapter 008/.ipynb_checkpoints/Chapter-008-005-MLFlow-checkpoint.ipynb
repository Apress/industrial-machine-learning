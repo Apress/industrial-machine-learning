{
 "cells": [
  {
   "cell_type": "markdown",
   "metadata": {},
   "source": [
    "## Apress - Industrialized Machine Learning Examples\n",
    "\n",
    "Andreas Francois Vermeulen\n",
    "2019\n",
    "\n",
    "### This is an example add-on to a book and needs to be accepted as part of that copyright."
   ]
  },
  {
   "cell_type": "code",
   "execution_count": null,
   "metadata": {},
   "outputs": [],
   "source": [
    "#!conda install -c conda-forge mlflow"
   ]
  },
  {
   "cell_type": "code",
   "execution_count": null,
   "metadata": {},
   "outputs": [],
   "source": [
    "import mlflow"
   ]
  },
  {
   "cell_type": "code",
   "execution_count": null,
   "metadata": {},
   "outputs": [],
   "source": [
    "mlflow.start_run()\n",
    "mlflow.log_param(\"my\", \"param\")\n",
    "mlflow.log_metric(\"score\", 100)\n",
    "mlflow.end_run()"
   ]
  },
  {
   "cell_type": "code",
   "execution_count": null,
   "metadata": {},
   "outputs": [],
   "source": [
    "from keras import Dense, layers\n",
    "import mlflow\n",
    "# Build, compile, and train your model\n",
    "keras_model = ...\n",
    "keras_model.compile(optimizer=\"rmsprop\", loss=\"mse\", metrics=[\"accuracy\"])\n",
    "results = keras_model.fit(x_train, y_train, epochs=20, batch_size = 128, validation_data=(x_val, y_val))\n",
    "# Log metrics and log the model\n",
    "with mlflow.start_run() as run:\n",
    "    mlflow.keras.log_model(keras_model, \"models\")\n",
    "mlflow.keras.save_model(keras_model, keras_model_path)\n",
    "keras_model = mlflow.keras.load_model(\"models\")\n",
    "predictions = keras_model.predict(x_test)\n",
    "mlflow.end_run()"
   ]
  },
  {
   "cell_type": "code",
   "execution_count": null,
   "metadata": {},
   "outputs": [],
   "source": [
    "import mlflow\n",
    "# Build, compile, and train your model\n",
    "keras_model = ...\n",
    "keras_model_path = ...\n",
    "keras_model.compile(optimizer=\"rmsprop\", loss=\"mse\", metrics=[\"accuracy\"])\n",
    "results = keras_model.fit(\n",
    "    x_train, y_train, epochs=20, batch_size = 128, validation_data=(x_val, y_val))\n",
    "# Save the model as an MLflow Model\n",
    "mlflow.keras.save_model(keras_model, keras_model_path)"
   ]
  },
  {
   "cell_type": "code",
   "execution_count": null,
   "metadata": {},
   "outputs": [],
   "source": [
    "import mlflow\n",
    "import mlflow.sklearn\n",
    "from sklearn.datasets import load_iris\n",
    "from sklearn import tree\n",
    "iris = load_iris()\n",
    "sk_model = tree.DecisionTreeClassifier()\n",
    "sk_model = sk_model.fit(iris.data, iris.target)\n",
    "#set the artifact_path to location where experiment artifacts will be saved\n",
    "#log model params\n",
    "mlflow.log_param(\"criterion\", sk_model.criterion)\n",
    "mlflow.log_param(\"splitter\", sk_model.splitter)\n",
    "#log model\n",
    "mlflow.sklearn.log_model(sk_model, \"sk_models\")"
   ]
  }
 ],
 "metadata": {
  "kernelspec": {
   "display_name": "Python 3",
   "language": "python",
   "name": "python3"
  },
  "language_info": {
   "codemirror_mode": {
    "name": "ipython",
    "version": 3
   },
   "file_extension": ".py",
   "mimetype": "text/x-python",
   "name": "python",
   "nbconvert_exporter": "python",
   "pygments_lexer": "ipython3",
   "version": "3.7.3"
  }
 },
 "nbformat": 4,
 "nbformat_minor": 2
}
