{
 "cells": [
  {
   "cell_type": "markdown",
   "metadata": {},
   "source": [
    "## Apress - Industrialized Machine Learning Examples\n",
    "\n",
    "Andreas Francois Vermeulen\n",
    "2019\n",
    "\n",
    "### This is an example add-on to a book and needs to be accepted as part of that copyright."
   ]
  },
  {
   "cell_type": "markdown",
   "metadata": {},
   "source": [
    "## Chapter-009-011-MQN-01"
   ]
  },
  {
   "cell_type": "code",
   "execution_count": 1,
   "metadata": {},
   "outputs": [
    {
     "name": "stdout",
     "output_type": "stream",
     "text": [
      "Converged in  2508 steps.\n",
      "Queue A:\n",
      "[[ 0.83962471  0.5139529 ]\n",
      " [-0.25544823  1.36541413]\n",
      " [ 1.85543967  0.56495731]\n",
      " [ 0.78441901  0.22182067]\n",
      " [ 0.04572881  1.62831527]\n",
      " [ 0.23591731  0.37398543]\n",
      " [ 0.05739667  0.40515617]\n",
      " [ 1.88717115  0.65490776]]\n",
      "Queue B:\n",
      "[[2.25353891 3.9085151 ]\n",
      " [2.69335838 3.26402956]\n",
      " [1.58549811 3.51588018]\n",
      " [3.88834294 3.82200338]\n",
      " [2.91617193 3.27560706]\n",
      " [3.31639792 2.48455688]\n",
      " [3.93139145 3.85418114]\n",
      " [2.0977205  2.54123407]]\n",
      "Queue C:\n",
      "[[ 3.51120029 -0.29882446]\n",
      " [ 3.27631308 -0.03736786]\n",
      " [ 2.5653657  -0.48813334]\n",
      " [ 3.3607615  -0.2424006 ]\n",
      " [ 3.23332632 -0.21975316]\n",
      " [ 3.56860998  0.14385839]\n",
      " [ 2.2683925  -0.22973789]\n",
      " [ 2.99312847 -0.10975155]]\n"
     ]
    }
   ],
   "source": [
    "import numpy as np\n",
    "# Generate three random clusters of 2D data\n",
    "N_c = 8\n",
    "A = 0.6*np.random.randn(N_c, 2)+[1, 1]\n",
    "B = 0.6*np.random.randn(N_c, 2)+[3, 3]\n",
    "C = 0.6*np.random.randn(N_c, 2)+[3, 0]\n",
    "X = np.hstack((np.ones(3*N_c).reshape(3*N_c, 1), np.vstack((A, B, C))))\n",
    "Y = np.vstack(((np.zeros(N_c)).reshape(N_c, 1), \n",
    "        np.ones(N_c).reshape(N_c, 1), 2*np.ones(N_c).reshape(N_c, 1)))\n",
    "K = 3\n",
    "N = K*N_c\n",
    "\n",
    "# Next we run gradient descent using the multinomial logistic regression gradient: \n",
    "\n",
    "# Run gradient descent\n",
    "eta = 1E-2\n",
    "max_iter = 8000\n",
    "w = np.zeros((3, 3))\n",
    "grad_thresh = 5 \n",
    "for t in range(0, max_iter):\n",
    "    grad_t = np.zeros((3, 3))\n",
    "    for i in range(0, N):\n",
    "        x_i = X[i, :]\n",
    "        y_i = Y[i]\n",
    "        exp_vals = np.exp(w.dot(x_i))\n",
    "        lik = exp_vals[int(y_i)]/np.sum(exp_vals)\n",
    "        grad_t[int(y_i), :] += x_i*(1-lik)\n",
    "\n",
    "    w = w + 1/float(N)*eta*grad_t\n",
    "    grad_norm = np.linalg.norm(grad_t)\n",
    "\n",
    "    if grad_norm < grad_thresh:\n",
    "        print (\"Converged in \",t+1,\"steps.\")\n",
    "        print('Queue A:')\n",
    "        print(A)\n",
    "        print('Queue B:')\n",
    "        print(B)\n",
    "        print('Queue C:')\n",
    "        print(C)\n",
    "        break\n",
    "\n",
    "    if t == max_iter-1:\n",
    "        print (\"Warning, did not converge.\")\n",
    "    "
   ]
  },
  {
   "cell_type": "markdown",
   "metadata": {},
   "source": [
    "## Done"
   ]
  },
  {
   "cell_type": "code",
   "execution_count": 2,
   "metadata": {},
   "outputs": [
    {
     "name": "stdout",
     "output_type": "stream",
     "text": [
      "Done! 2019-10-19 21:46:26.885028\n"
     ]
    }
   ],
   "source": [
    "import datetime\n",
    "now = datetime.datetime.now()\n",
    "print('Done!',str(now))"
   ]
  }
 ],
 "metadata": {
  "kernelspec": {
   "display_name": "Python 3",
   "language": "python",
   "name": "python3"
  },
  "language_info": {
   "codemirror_mode": {
    "name": "ipython",
    "version": 3
   },
   "file_extension": ".py",
   "mimetype": "text/x-python",
   "name": "python",
   "nbconvert_exporter": "python",
   "pygments_lexer": "ipython3",
   "version": "3.7.3"
  }
 },
 "nbformat": 4,
 "nbformat_minor": 2
}
