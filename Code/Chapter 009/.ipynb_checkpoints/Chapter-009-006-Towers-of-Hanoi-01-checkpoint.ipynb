{
 "cells": [
  {
   "cell_type": "markdown",
   "metadata": {},
   "source": [
    "## Apress - Industrialized Machine Learning Examples\n",
    "\n",
    "Andreas Francois Vermeulen\n",
    "2019\n",
    "\n",
    "### This is an example add-on to a book and needs to be accepted as part of that copyright."
   ]
  },
  {
   "cell_type": "markdown",
   "metadata": {},
   "source": [
    "## Chapter-009-006-Towers-of-Hanoi-01"
   ]
  },
  {
   "cell_type": "code",
   "execution_count": 1,
   "metadata": {},
   "outputs": [
    {
     "name": "stdout",
     "output_type": "stream",
     "text": [
      "3 [3]\n",
      "2 [3, 2]\n",
      "1 [3, 2, 1]\n"
     ]
    }
   ],
   "source": [
    "def hanoi(n, source, helper, target):\n",
    "    #print (\"Hanoi( \", n, source, helper, target, \" called\")\n",
    "    if n > 0:\n",
    "        # move tower of size n - 1 to helper:\n",
    "        hanoi(n - 1, source, target, helper)\n",
    "        # move disk from source peg to target peg\n",
    "        if source[0]:\n",
    "            disk = source[0].pop()\n",
    "            print (\"moving \" + str(disk) + \" from \" + source[1] + \" to \" + target[1])\n",
    "            target[0].append(disk)\n",
    "        # move tower of size n-1 from helper to target\n",
    "        hanoi(n - 1, helper, source, target)\n",
    "\n",
    "stackdisks = []\n",
    "for i in range(3,0,-1):\n",
    "    stackdisks = stackdisks + [i]\n",
    "    print(i, stackdisks)"
   ]
  },
  {
   "cell_type": "code",
   "execution_count": 2,
   "metadata": {},
   "outputs": [
    {
     "name": "stdout",
     "output_type": "stream",
     "text": [
      "Begin: ([3, 2, 1], 'source') ([], 'helper') ([], 'target')\n",
      "moving 1 from source to target\n",
      "moving 2 from source to helper\n",
      "moving 1 from target to helper\n",
      "moving 3 from source to target\n",
      "moving 1 from helper to source\n",
      "moving 2 from helper to target\n",
      "moving 1 from source to target\n",
      "End: ([], 'source') ([], 'helper') ([3, 2, 1], 'target')\n"
     ]
    }
   ],
   "source": [
    "source = (stackdisks, \"source\")\n",
    "target = ([], \"target\")\n",
    "helper = ([], \"helper\")\n",
    "\n",
    "print ('Begin:', source, helper, target)\n",
    "\n",
    "hanoi(len(source[0]),source,helper,target)\n",
    "\n",
    "print ('End:', source, helper, target)"
   ]
  },
  {
   "cell_type": "markdown",
   "metadata": {},
   "source": [
    "## Done"
   ]
  },
  {
   "cell_type": "code",
   "execution_count": 3,
   "metadata": {},
   "outputs": [
    {
     "name": "stdout",
     "output_type": "stream",
     "text": [
      "Done! 2019-10-19 21:43:52.849027\n"
     ]
    }
   ],
   "source": [
    "import datetime\n",
    "now = datetime.datetime.now()\n",
    "print('Done!',str(now))"
   ]
  }
 ],
 "metadata": {
  "kernelspec": {
   "display_name": "Python 3",
   "language": "python",
   "name": "python3"
  },
  "language_info": {
   "codemirror_mode": {
    "name": "ipython",
    "version": 3
   },
   "file_extension": ".py",
   "mimetype": "text/x-python",
   "name": "python",
   "nbconvert_exporter": "python",
   "pygments_lexer": "ipython3",
   "version": "3.7.3"
  }
 },
 "nbformat": 4,
 "nbformat_minor": 2
}
