{
 "cells": [
  {
   "cell_type": "markdown",
   "metadata": {},
   "source": [
    "## Apress - Industrialized Machine Learning Examples\n",
    "\n",
    "Andreas Francois Vermeulen\n",
    "2019\n",
    "\n",
    "### This is an example add-on to a book and needs to be accepted as part of that copyright."
   ]
  },
  {
   "cell_type": "markdown",
   "metadata": {},
   "source": [
    "# Chapter-014-09-Movies-Sim-01"
   ]
  },
  {
   "cell_type": "code",
   "execution_count": 1,
   "metadata": {},
   "outputs": [],
   "source": [
    "import random\n",
    "import simpy\n",
    "\n",
    "RANDOM_SEED = 1968\n",
    "SIM_TIME = 45"
   ]
  },
  {
   "cell_type": "markdown",
   "metadata": {},
   "source": [
    "![Movie](../../images/movie.png)"
   ]
  },
  {
   "cell_type": "code",
   "execution_count": 2,
   "metadata": {},
   "outputs": [
    {
     "data": {
      "application/javascript": [
       "IPython.OutputArea.auto_scroll_threshold = 9999;"
      ],
      "text/plain": [
       "<IPython.core.display.Javascript object>"
      ]
     },
     "metadata": {},
     "output_type": "display_data"
    }
   ],
   "source": [
    "%%javascript\n",
    "IPython.OutputArea.auto_scroll_threshold = 9999;"
   ]
  },
  {
   "cell_type": "code",
   "execution_count": 3,
   "metadata": {},
   "outputs": [],
   "source": [
    "def MovieServer(name, env, out_pipe):\n",
    "    \"\"\"A process which randomly generates movies requests.\"\"\"\n",
    "    while True:\n",
    "        # wait for next movie transmission\n",
    "        yield env.timeout(random.randint(6, 12))\n",
    "        \n",
    "        MoviesRequest=' movie request '\n",
    "\n",
    "        msg = (env.now, '%s send %s at %d' % (name, MoviesRequest, env.now))\n",
    "        out_pipe.put(msg)"
   ]
  },
  {
   "cell_type": "code",
   "execution_count": 4,
   "metadata": {},
   "outputs": [],
   "source": [
    "def MovieBox(name, env, in_pipe):\n",
    "    \"\"\"A process which consumes movie.\"\"\"\n",
    "    while True:\n",
    "        # Get event for message pipe\n",
    "        msg = yield in_pipe.get()\n",
    "\n",
    "        if msg[0] < env.now:\n",
    "            # if message was already put into pipe, then\n",
    "            # message_consumer was late getting to it. Depending on what\n",
    "            # is being modeled this, may, or may not have some\n",
    "            # significance\n",
    "            print('LATE Getting Movie: at time %d: %s received movie request: %s' %\n",
    "                  (env.now, name, msg[1]))\n",
    "\n",
    "        else:\n",
    "            print('at time %d: %s received movie: %s.' %\n",
    "                  (env.now, name, msg[1]))\n",
    "\n",
    "        # Process damages requests\n",
    "        yield env.timeout(random.randint(3, 9))"
   ]
  },
  {
   "cell_type": "code",
   "execution_count": 5,
   "metadata": {},
   "outputs": [],
   "source": [
    "class BroadcastChannel(object):\n",
    "    def __init__(self, env, capacity=simpy.core.Infinity):\n",
    "        self.env = env\n",
    "        self.capacity = capacity\n",
    "        self.pipes = []\n",
    "\n",
    "    def put(self, value):\n",
    "        \"\"\"Broadcast a *value* to all receivers.\"\"\"\n",
    "        if not self.pipes:\n",
    "            raise RuntimeError('There are no output channels.')\n",
    "        events = [store.put(value) for store in self.pipes]\n",
    "        return self.env.all_of(events)  # Condition event for all \"events\"\n",
    "\n",
    "    def get_output_conn(self):\n",
    "        \n",
    "        pipe = simpy.Store(self.env, capacity=self.capacity)\n",
    "        self.pipes.append(pipe)\n",
    "        return pipe"
   ]
  },
  {
   "cell_type": "markdown",
   "metadata": {},
   "source": [
    "## Build Movie House"
   ]
  },
  {
   "cell_type": "code",
   "execution_count": 6,
   "metadata": {},
   "outputs": [
    {
     "name": "stdout",
     "output_type": "stream",
     "text": [
      "Process communication\n",
      "\n",
      "Movies Streaming - Enjoy\n",
      "\n",
      "at time 6: Movie-box-005 received movie: Stream Movie - Weird Science II send  movie request  at 6.\n",
      "at time 6: Movie-box-006 received movie: Stream Movie - Weird Science II send  movie request  at 6.\n",
      "at time 6: Movie-box-007 received movie: Stream Movie - Weird Science II send  movie request  at 6.\n",
      "at time 6: Movie-box-008 received movie: Stream Movie - Weird Science II send  movie request  at 6.\n",
      "at time 6: Movie-box-009 received movie: Stream Movie - Weird Science II send  movie request  at 6.\n",
      "at time 6: Movie-box-010 received movie: Stream Movie - Weird Science II send  movie request  at 6.\n",
      "at time 6: Movie-box-011 received movie: Stream Movie - Weird Science II send  movie request  at 6.\n",
      "at time 6: Movie-box-012 received movie: Stream Movie - Weird Science II send  movie request  at 6.\n",
      "at time 6: Movie-box-013 received movie: Stream Movie - Weird Science II send  movie request  at 6.\n",
      "at time 6: Movie-box-014 received movie: Stream Movie - Weird Science II send  movie request  at 6.\n",
      "at time 6: Movie-box-015 received movie: Stream Movie - Weird Science II send  movie request  at 6.\n",
      "at time 6: Movie-box-016 received movie: Stream Movie - Weird Science II send  movie request  at 6.\n",
      "at time 6: Movie-box-017 received movie: Stream Movie - Weird Science II send  movie request  at 6.\n",
      "at time 6: Movie-box-018 received movie: Stream Movie - Weird Science II send  movie request  at 6.\n",
      "at time 6: Movie-box-019 received movie: Stream Movie - Weird Science II send  movie request  at 6.\n",
      "at time 10: Movie-box-000 received movie: Stream Movie - Weird Science send  movie request  at 10.\n",
      "at time 10: Movie-box-001 received movie: Stream Movie - Weird Science send  movie request  at 10.\n",
      "at time 10: Movie-box-002 received movie: Stream Movie - Weird Science send  movie request  at 10.\n",
      "at time 10: Movie-box-003 received movie: Stream Movie - Weird Science send  movie request  at 10.\n",
      "at time 10: Movie-box-004 received movie: Stream Movie - Weird Science send  movie request  at 10.\n",
      "at time 10: Movie-box-005 received movie: Stream Movie - Weird Science send  movie request  at 10.\n",
      "at time 10: Movie-box-006 received movie: Stream Movie - Weird Science send  movie request  at 10.\n",
      "at time 10: Movie-box-007 received movie: Stream Movie - Weird Science send  movie request  at 10.\n",
      "at time 10: Movie-box-008 received movie: Stream Movie - Weird Science send  movie request  at 10.\n",
      "at time 10: Movie-box-009 received movie: Stream Movie - Weird Science send  movie request  at 10.\n",
      "at time 10: Movie-box-015 received movie: Stream Movie - Weird Science III send  movie request  at 10.\n",
      "at time 10: Movie-box-016 received movie: Stream Movie - Weird Science III send  movie request  at 10.\n",
      "at time 10: Movie-box-017 received movie: Stream Movie - Weird Science III send  movie request  at 10.\n",
      "at time 10: Movie-box-018 received movie: Stream Movie - Weird Science III send  movie request  at 10.\n",
      "at time 10: Movie-box-019 received movie: Stream Movie - Weird Science III send  movie request  at 10.\n",
      "at time 10: Movie-box-020 received movie: Stream Movie - Weird Science III send  movie request  at 10.\n",
      "at time 10: Movie-box-021 received movie: Stream Movie - Weird Science III send  movie request  at 10.\n",
      "at time 10: Movie-box-022 received movie: Stream Movie - Weird Science III send  movie request  at 10.\n",
      "at time 10: Movie-box-023 received movie: Stream Movie - Weird Science III send  movie request  at 10.\n",
      "at time 10: Movie-box-024 received movie: Stream Movie - Weird Science III send  movie request  at 10.\n",
      "at time 10: Movie-box-025 received movie: Stream Movie - Weird Science III send  movie request  at 10.\n",
      "at time 10: Movie-box-026 received movie: Stream Movie - Weird Science III send  movie request  at 10.\n",
      "at time 10: Movie-box-027 received movie: Stream Movie - Weird Science III send  movie request  at 10.\n",
      "at time 10: Movie-box-028 received movie: Stream Movie - Weird Science III send  movie request  at 10.\n",
      "at time 10: Movie-box-029 received movie: Stream Movie - Weird Science III send  movie request  at 10.\n",
      "at time 12: Movie-box-014 received movie: Stream Movie - Weird Science II send  movie request  at 12.\n",
      "at time 12: Movie-box-008 received movie: Stream Movie - Weird Science II send  movie request  at 12.\n",
      "at time 12: Movie-box-009 received movie: Stream Movie - Weird Science II send  movie request  at 12.\n",
      "at time 12: Movie-box-011 received movie: Stream Movie - Weird Science II send  movie request  at 12.\n",
      "at time 12: Movie-box-012 received movie: Stream Movie - Weird Science II send  movie request  at 12.\n",
      "at time 12: Movie-box-013 received movie: Stream Movie - Weird Science II send  movie request  at 12.\n",
      "at time 12: Movie-box-015 received movie: Stream Movie - Weird Science II send  movie request  at 12.\n",
      "at time 12: Movie-box-016 received movie: Stream Movie - Weird Science II send  movie request  at 12.\n",
      "at time 12: Movie-box-017 received movie: Stream Movie - Weird Science II send  movie request  at 12.\n",
      "LATE Getting Movie: at time 13: Movie-box-005 received movie request: Stream Movie - Weird Science II send  movie request  at 12\n",
      "LATE Getting Movie: at time 14: Movie-box-010 received movie request: Stream Movie - Weird Science II send  movie request  at 12\n",
      "LATE Getting Movie: at time 14: Movie-box-018 received movie request: Stream Movie - Weird Science II send  movie request  at 12\n",
      "LATE Getting Movie: at time 14: Movie-box-019 received movie request: Stream Movie - Weird Science II send  movie request  at 12\n",
      "LATE Getting Movie: at time 15: Movie-box-006 received movie request: Stream Movie - Weird Science II send  movie request  at 12\n",
      "LATE Getting Movie: at time 15: Movie-box-007 received movie request: Stream Movie - Weird Science II send  movie request  at 12\n",
      "at time 18: Movie-box-006 received movie: Stream Movie - Weird Science send  movie request  at 18.\n",
      "at time 18: Movie-box-007 received movie: Stream Movie - Weird Science send  movie request  at 18.\n",
      "at time 18: Movie-box-001 received movie: Stream Movie - Weird Science send  movie request  at 18.\n",
      "at time 18: Movie-box-002 received movie: Stream Movie - Weird Science send  movie request  at 18.\n",
      "at time 18: Movie-box-003 received movie: Stream Movie - Weird Science send  movie request  at 18.\n",
      "at time 18: Movie-box-004 received movie: Stream Movie - Weird Science send  movie request  at 18.\n",
      "at time 18: Movie-box-005 received movie: Stream Movie - Weird Science send  movie request  at 18.\n",
      "at time 18: Movie-box-008 received movie: Stream Movie - Weird Science send  movie request  at 18.\n",
      "at time 18: Movie-box-009 received movie: Stream Movie - Weird Science send  movie request  at 18.\n",
      "LATE Getting Movie: at time 19: Movie-box-000 received movie request: Stream Movie - Weird Science send  movie request  at 18\n",
      "at time 19: Movie-box-011 received movie: Stream Movie - Weird Science II send  movie request  at 19.\n",
      "at time 19: Movie-box-015 received movie: Stream Movie - Weird Science II send  movie request  at 19.\n",
      "at time 19: Movie-box-016 received movie: Stream Movie - Weird Science II send  movie request  at 19.\n",
      "at time 19: Movie-box-017 received movie: Stream Movie - Weird Science II send  movie request  at 19.\n",
      "at time 19: Movie-box-005 received movie: Stream Movie - Weird Science II send  movie request  at 19.\n",
      "at time 19: Movie-box-019 received movie: Stream Movie - Weird Science II send  movie request  at 19.\n",
      "at time 19: Movie-box-009 received movie: Stream Movie - Weird Science II send  movie request  at 19.\n",
      "at time 19: Movie-box-010 received movie: Stream Movie - Weird Science II send  movie request  at 19.\n",
      "at time 19: Movie-box-013 received movie: Stream Movie - Weird Science II send  movie request  at 19.\n",
      "LATE Getting Movie: at time 20: Movie-box-008 received movie request: Stream Movie - Weird Science II send  movie request  at 19\n",
      "LATE Getting Movie: at time 20: Movie-box-012 received movie request: Stream Movie - Weird Science II send  movie request  at 19\n",
      "at time 20: Movie-box-015 received movie: Stream Movie - Weird Science III send  movie request  at 20.\n",
      "at time 20: Movie-box-016 received movie: Stream Movie - Weird Science III send  movie request  at 20.\n",
      "at time 20: Movie-box-017 received movie: Stream Movie - Weird Science III send  movie request  at 20.\n",
      "at time 20: Movie-box-018 received movie: Stream Movie - Weird Science III send  movie request  at 20.\n",
      "at time 20: Movie-box-019 received movie: Stream Movie - Weird Science III send  movie request  at 20.\n",
      "at time 20: Movie-box-020 received movie: Stream Movie - Weird Science III send  movie request  at 20.\n",
      "at time 20: Movie-box-021 received movie: Stream Movie - Weird Science III send  movie request  at 20.\n",
      "at time 20: Movie-box-022 received movie: Stream Movie - Weird Science III send  movie request  at 20.\n",
      "at time 20: Movie-box-023 received movie: Stream Movie - Weird Science III send  movie request  at 20.\n",
      "at time 20: Movie-box-024 received movie: Stream Movie - Weird Science III send  movie request  at 20.\n",
      "at time 20: Movie-box-025 received movie: Stream Movie - Weird Science III send  movie request  at 20.\n",
      "at time 20: Movie-box-026 received movie: Stream Movie - Weird Science III send  movie request  at 20.\n",
      "at time 20: Movie-box-027 received movie: Stream Movie - Weird Science III send  movie request  at 20.\n",
      "at time 20: Movie-box-028 received movie: Stream Movie - Weird Science III send  movie request  at 20.\n",
      "at time 20: Movie-box-029 received movie: Stream Movie - Weird Science III send  movie request  at 20.\n",
      "LATE Getting Movie: at time 21: Movie-box-014 received movie request: Stream Movie - Weird Science II send  movie request  at 19\n",
      "LATE Getting Movie: at time 21: Movie-box-006 received movie request: Stream Movie - Weird Science II send  movie request  at 19\n",
      "LATE Getting Movie: at time 23: Movie-box-018 received movie request: Stream Movie - Weird Science II send  movie request  at 19\n",
      "LATE Getting Movie: at time 24: Movie-box-007 received movie request: Stream Movie - Weird Science II send  movie request  at 19\n",
      "at time 26: Movie-box-010 received movie: Stream Movie - Weird Science II send  movie request  at 26.\n",
      "at time 26: Movie-box-024 received movie: Stream Movie - Weird Science III send  movie request  at 26.\n",
      "at time 26: Movie-box-029 received movie: Stream Movie - Weird Science III send  movie request  at 26.\n",
      "at time 26: Movie-box-006 received movie: Stream Movie - Weird Science II send  movie request  at 26.\n",
      "at time 26: Movie-box-005 received movie: Stream Movie - Weird Science II send  movie request  at 26.\n",
      "at time 26: Movie-box-009 received movie: Stream Movie - Weird Science II send  movie request  at 26.\n",
      "at time 26: Movie-box-011 received movie: Stream Movie - Weird Science II send  movie request  at 26.\n",
      "at time 26: Movie-box-016 received movie: Stream Movie - Weird Science III send  movie request  at 26.\n",
      "at time 26: Movie-box-017 received movie: Stream Movie - Weird Science III send  movie request  at 26.\n",
      "at time 26: Movie-box-020 received movie: Stream Movie - Weird Science III send  movie request  at 26.\n",
      "at time 26: Movie-box-021 received movie: Stream Movie - Weird Science III send  movie request  at 26.\n",
      "at time 26: Movie-box-023 received movie: Stream Movie - Weird Science III send  movie request  at 26.\n",
      "LATE Getting Movie: at time 27: Movie-box-015 received movie request: Stream Movie - Weird Science II send  movie request  at 26\n",
      "LATE Getting Movie: at time 27: Movie-box-019 received movie request: Stream Movie - Weird Science II send  movie request  at 26\n",
      "LATE Getting Movie: at time 27: Movie-box-015 received movie request: Stream Movie - Weird Science III send  movie request  at 26\n",
      "LATE Getting Movie: at time 27: Movie-box-019 received movie request: Stream Movie - Weird Science III send  movie request  at 26\n",
      "LATE Getting Movie: at time 27: Movie-box-014 received movie request: Stream Movie - Weird Science II send  movie request  at 26\n",
      "at time 27: Movie-box-000 received movie: Stream Movie - Weird Science send  movie request  at 27.\n",
      "at time 27: Movie-box-001 received movie: Stream Movie - Weird Science send  movie request  at 27.\n",
      "at time 27: Movie-box-002 received movie: Stream Movie - Weird Science send  movie request  at 27.\n",
      "at time 27: Movie-box-003 received movie: Stream Movie - Weird Science send  movie request  at 27.\n",
      "at time 27: Movie-box-004 received movie: Stream Movie - Weird Science send  movie request  at 27.\n",
      "at time 27: Movie-box-005 received movie: Stream Movie - Weird Science send  movie request  at 27.\n",
      "at time 27: Movie-box-006 received movie: Stream Movie - Weird Science send  movie request  at 27.\n",
      "at time 27: Movie-box-007 received movie: Stream Movie - Weird Science send  movie request  at 27.\n",
      "at time 27: Movie-box-008 received movie: Stream Movie - Weird Science send  movie request  at 27.\n",
      "at time 27: Movie-box-009 received movie: Stream Movie - Weird Science send  movie request  at 27.\n",
      "LATE Getting Movie: at time 28: Movie-box-016 received movie request: Stream Movie - Weird Science II send  movie request  at 26\n",
      "LATE Getting Movie: at time 28: Movie-box-017 received movie request: Stream Movie - Weird Science II send  movie request  at 26\n",
      "LATE Getting Movie: at time 28: Movie-box-013 received movie request: Stream Movie - Weird Science II send  movie request  at 26\n",
      "LATE Getting Movie: at time 28: Movie-box-022 received movie request: Stream Movie - Weird Science III send  movie request  at 26\n",
      "LATE Getting Movie: at time 28: Movie-box-027 received movie request: Stream Movie - Weird Science III send  movie request  at 26\n",
      "LATE Getting Movie: at time 28: Movie-box-028 received movie request: Stream Movie - Weird Science III send  movie request  at 26\n",
      "LATE Getting Movie: at time 29: Movie-box-008 received movie request: Stream Movie - Weird Science II send  movie request  at 26\n",
      "LATE Getting Movie: at time 29: Movie-box-012 received movie request: Stream Movie - Weird Science II send  movie request  at 26\n",
      "LATE Getting Movie: at time 29: Movie-box-018 received movie request: Stream Movie - Weird Science III send  movie request  at 26\n",
      "LATE Getting Movie: at time 29: Movie-box-025 received movie request: Stream Movie - Weird Science III send  movie request  at 26\n",
      "LATE Getting Movie: at time 29: Movie-box-026 received movie request: Stream Movie - Weird Science III send  movie request  at 26\n",
      "LATE Getting Movie: at time 29: Movie-box-018 received movie request: Stream Movie - Weird Science II send  movie request  at 26\n",
      "LATE Getting Movie: at time 30: Movie-box-007 received movie request: Stream Movie - Weird Science II send  movie request  at 26\n",
      "at time 34: Movie-box-010 received movie: Stream Movie - Weird Science II send  movie request  at 34.\n",
      "at time 34: Movie-box-006 received movie: Stream Movie - Weird Science II send  movie request  at 34.\n",
      "at time 34: Movie-box-011 received movie: Stream Movie - Weird Science II send  movie request  at 34.\n",
      "at time 34: Movie-box-017 received movie: Stream Movie - Weird Science II send  movie request  at 34.\n",
      "at time 34: Movie-box-005 received movie: Stream Movie - Weird Science II send  movie request  at 34.\n",
      "at time 34: Movie-box-007 received movie: Stream Movie - Weird Science II send  movie request  at 34.\n",
      "at time 34: Movie-box-013 received movie: Stream Movie - Weird Science II send  movie request  at 34.\n",
      "at time 34: Movie-box-015 received movie: Stream Movie - Weird Science II send  movie request  at 34.\n",
      "at time 34: Movie-box-016 received movie: Stream Movie - Weird Science II send  movie request  at 34.\n",
      "at time 34: Movie-box-019 received movie: Stream Movie - Weird Science II send  movie request  at 34.\n",
      "LATE Getting Movie: at time 35: Movie-box-009 received movie request: Stream Movie - Weird Science II send  movie request  at 34\n",
      "LATE Getting Movie: at time 35: Movie-box-014 received movie request: Stream Movie - Weird Science II send  movie request  at 34\n",
      "LATE Getting Movie: at time 36: Movie-box-018 received movie request: Stream Movie - Weird Science II send  movie request  at 34\n",
      "LATE Getting Movie: at time 38: Movie-box-008 received movie request: Stream Movie - Weird Science II send  movie request  at 34\n",
      "LATE Getting Movie: at time 38: Movie-box-012 received movie request: Stream Movie - Weird Science II send  movie request  at 34\n",
      "at time 38: Movie-box-015 received movie: Stream Movie - Weird Science III send  movie request  at 38.\n",
      "at time 38: Movie-box-016 received movie: Stream Movie - Weird Science III send  movie request  at 38.\n",
      "at time 38: Movie-box-017 received movie: Stream Movie - Weird Science III send  movie request  at 38.\n",
      "at time 38: Movie-box-018 received movie: Stream Movie - Weird Science III send  movie request  at 38.\n",
      "at time 38: Movie-box-019 received movie: Stream Movie - Weird Science III send  movie request  at 38.\n",
      "at time 38: Movie-box-020 received movie: Stream Movie - Weird Science III send  movie request  at 38.\n",
      "at time 38: Movie-box-021 received movie: Stream Movie - Weird Science III send  movie request  at 38.\n",
      "at time 38: Movie-box-022 received movie: Stream Movie - Weird Science III send  movie request  at 38.\n",
      "at time 38: Movie-box-023 received movie: Stream Movie - Weird Science III send  movie request  at 38.\n",
      "at time 38: Movie-box-024 received movie: Stream Movie - Weird Science III send  movie request  at 38.\n",
      "at time 38: Movie-box-025 received movie: Stream Movie - Weird Science III send  movie request  at 38.\n",
      "at time 38: Movie-box-026 received movie: Stream Movie - Weird Science III send  movie request  at 38.\n",
      "at time 38: Movie-box-027 received movie: Stream Movie - Weird Science III send  movie request  at 38.\n",
      "at time 38: Movie-box-028 received movie: Stream Movie - Weird Science III send  movie request  at 38.\n",
      "at time 38: Movie-box-029 received movie: Stream Movie - Weird Science III send  movie request  at 38.\n",
      "at time 38: Movie-box-000 received movie: Stream Movie - Weird Science send  movie request  at 38.\n",
      "at time 38: Movie-box-001 received movie: Stream Movie - Weird Science send  movie request  at 38.\n",
      "at time 38: Movie-box-002 received movie: Stream Movie - Weird Science send  movie request  at 38.\n",
      "at time 38: Movie-box-003 received movie: Stream Movie - Weird Science send  movie request  at 38.\n",
      "at time 38: Movie-box-004 received movie: Stream Movie - Weird Science send  movie request  at 38.\n",
      "at time 38: Movie-box-005 received movie: Stream Movie - Weird Science send  movie request  at 38.\n",
      "at time 38: Movie-box-006 received movie: Stream Movie - Weird Science send  movie request  at 38.\n",
      "at time 38: Movie-box-007 received movie: Stream Movie - Weird Science send  movie request  at 38.\n",
      "at time 38: Movie-box-008 received movie: Stream Movie - Weird Science send  movie request  at 38.\n",
      "at time 38: Movie-box-009 received movie: Stream Movie - Weird Science send  movie request  at 38.\n",
      "at time 44: Movie-box-016 received movie: Stream Movie - Weird Science III send  movie request  at 44.\n",
      "at time 44: Movie-box-017 received movie: Stream Movie - Weird Science III send  movie request  at 44.\n",
      "at time 44: Movie-box-021 received movie: Stream Movie - Weird Science III send  movie request  at 44.\n",
      "at time 44: Movie-box-022 received movie: Stream Movie - Weird Science III send  movie request  at 44.\n",
      "at time 44: Movie-box-026 received movie: Stream Movie - Weird Science III send  movie request  at 44.\n"
     ]
    }
   ],
   "source": [
    "print('Process communication')\n",
    "random.seed(RANDOM_SEED)\n",
    "env = simpy.Environment()\n",
    "\n",
    "moviechannel001 = BroadcastChannel(env)\n",
    "moviechannel002 = BroadcastChannel(env)\n",
    "moviechannel003 = BroadcastChannel(env)\n",
    "\n",
    "env.process(MovieServer('Stream Movie - Weird Science', env, moviechannel001))\n",
    "env.process(MovieServer('Stream Movie - Weird Science II', env, moviechannel002))\n",
    "env.process(MovieServer('Stream Movie - Weird Science III', env, moviechannel003))\n",
    "\n",
    "for m in range(0,10,1):\n",
    "    movieboxname = 'Movie-box-%03d' % (m)\n",
    "    env.process(MovieBox(movieboxname, env, moviechannel001.get_output_conn()))\n",
    "    \n",
    "for m in range(5,20,1):\n",
    "    movieboxname = 'Movie-box-%03d' % (m)\n",
    "    env.process(MovieBox(movieboxname, env, moviechannel002.get_output_conn()))\n",
    "    \n",
    "for m in range(15,30,1):\n",
    "    movieboxname = 'Movie-box-%03d' % (m)\n",
    "    env.process(MovieBox(movieboxname, env, moviechannel003.get_output_conn()))\n",
    "\n",
    "print('\\nMovies Streaming - Enjoy\\n')\n",
    "env.run(until=SIM_TIME)\n"
   ]
  },
  {
   "cell_type": "markdown",
   "metadata": {},
   "source": [
    "## Done"
   ]
  },
  {
   "cell_type": "code",
   "execution_count": 7,
   "metadata": {},
   "outputs": [
    {
     "name": "stdout",
     "output_type": "stream",
     "text": [
      "('Done!', '2019-05-03 15:19:03.240000')\n"
     ]
    }
   ],
   "source": [
    "import datetime\n",
    "now = datetime.datetime.now()\n",
    "print('Done!',str(now))"
   ]
  }
 ],
 "metadata": {
  "kernelspec": {
   "display_name": "Python 3",
   "language": "python",
   "name": "python3"
  },
  "language_info": {
   "codemirror_mode": {
    "name": "ipython",
    "version": 3
   },
   "file_extension": ".py",
   "mimetype": "text/x-python",
   "name": "python",
   "nbconvert_exporter": "python",
   "pygments_lexer": "ipython3",
   "version": "3.7.3"
  }
 },
 "nbformat": 4,
 "nbformat_minor": 2
}
