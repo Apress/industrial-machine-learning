{
 "cells": [
  {
   "cell_type": "markdown",
   "metadata": {},
   "source": [
    "## Apress - Industrialized Machine Learning Examples\n",
    "\n",
    "Andreas Francois Vermeulen\n",
    "2019\n",
    "\n",
    "### This is an example add-on to a book and needs to be accepted as part of that copyright."
   ]
  },
  {
   "cell_type": "code",
   "execution_count": 1,
   "metadata": {},
   "outputs": [],
   "source": [
    "import datetime\n",
    "nowStart = datetime.datetime.now()"
   ]
  },
  {
   "cell_type": "markdown",
   "metadata": {},
   "source": [
    "# Chapter-014-01-Setup"
   ]
  },
  {
   "cell_type": "markdown",
   "metadata": {},
   "source": [
    "## Creates the basic Rapid Information Factory and Six Zone Data lake"
   ]
  },
  {
   "cell_type": "markdown",
   "metadata": {},
   "source": [
    "![RIF plus Data Lake](../../images/RIF-Core.JPG)"
   ]
  },
  {
   "cell_type": "code",
   "execution_count": 2,
   "metadata": {},
   "outputs": [],
   "source": [
    "import os\n",
    "import time\n",
    "import shutil"
   ]
  },
  {
   "cell_type": "markdown",
   "metadata": {},
   "source": [
    "# Create Rapid Information Factory"
   ]
  },
  {
   "cell_type": "code",
   "execution_count": 3,
   "metadata": {},
   "outputs": [
    {
     "name": "stdout",
     "output_type": "stream",
     "text": [
      "Synchronise Rapid Information Factory: (000-RIF) with (..\\..\\Results\\Chapter 14\\000-RIF)\n"
     ]
    }
   ],
   "source": [
    "pathRIFInName=os.path.relpath('./000-RIF/')\n",
    "pathRIFOutName=os.path.relpath('../../Results/Chapter 14/000-RIF/')\n",
    "\n",
    "print('Synchronise Rapid Information Factory: (%s) with (%s)' % (pathRIFInName, pathRIFOutName))"
   ]
  },
  {
   "cell_type": "code",
   "execution_count": 4,
   "metadata": {},
   "outputs": [],
   "source": [
    "for root, dirs, files in os.walk(pathRIFInName, topdown=True):\n",
    "    for name in dirs:\n",
    "        pathClearName = os.path.join(root, name)\n",
    "        if name == '.ipynb_checkpoints':\n",
    "            print('Clear: %s' % pathClearName)\n",
    "            shutil.rmtree(pathClearName, ignore_errors=True)\n",
    "            time.sleep(2)"
   ]
  },
  {
   "cell_type": "code",
   "execution_count": 5,
   "metadata": {},
   "outputs": [],
   "source": [
    "for root, dirs, files in os.walk(pathRIFInName, topdown=True):    \n",
    "    for name in dirs:\n",
    "        dirReadName=os.path.relpath(os.path.join(root, name))\n",
    "        readfile = os.path.abspath(os.path.join(dirReadName,'ReadMe.txt'))\n",
    "        f=open(readfile, 'w', encoding='utf-8')\n",
    "        f.write('================================================================================\\n')\n",
    "        f.write('Apress - Industrial Machine Learning\\n')\n",
    "        f.write('This code base is example section of a book.\\n')\n",
    "        f.write('================================================================================\\n')\n",
    "        f.write('Author: Andreas François Vermeulen\\n')\n",
    "        f.write('================================================================================\\n')\n",
    "        f.write('ISBN-10: 1484253159\\n')\n",
    "        f.write('ISBN-13: 978-1484253151\\n')\n",
    "        f.write('================================================================================\\n')\n",
    "        f.write(f'Directory: {dirReadName}\\n')\n",
    "        f.write('================================================================================\\n')\n",
    "        f.close()"
   ]
  },
  {
   "cell_type": "code",
   "execution_count": 6,
   "metadata": {},
   "outputs": [
    {
     "name": "stdout",
     "output_type": "stream",
     "text": [
      "Clear directory: ..\\..\\Results\\Chapter 14\\000-RIF\n"
     ]
    }
   ],
   "source": [
    "if os.path.exists(pathRIFOutName):\n",
    "    print('Clear directory: %s' % pathRIFOutName)\n",
    "    shutil.rmtree(pathRIFOutName)\n",
    "    time.sleep(15)\n",
    "else:\n",
    "    print('No directory to clear: %s' % pathRIFOutName)"
   ]
  },
  {
   "cell_type": "markdown",
   "metadata": {},
   "source": [
    "# Copy Basic Rapid Information Factory"
   ]
  },
  {
   "cell_type": "code",
   "execution_count": 7,
   "metadata": {},
   "outputs": [
    {
     "name": "stdout",
     "output_type": "stream",
     "text": [
      "Synchronise: (000-RIF) with (..\\..\\Results\\Chapter 14\\000-RIF)\n"
     ]
    }
   ],
   "source": [
    "if not os.path.exists(pathRIFOutName):\n",
    "    print('Synchronise: (%s) with (%s)' % (pathRIFInName, pathRIFOutName))\n",
    "    shutil.copytree(pathRIFInName, pathRIFOutName)"
   ]
  },
  {
   "cell_type": "code",
   "execution_count": 8,
   "metadata": {},
   "outputs": [
    {
     "name": "stdout",
     "output_type": "stream",
     "text": [
      "Synchronised: (000-RIF) with (..\\..\\Results\\Chapter 14\\000-RIF)\n"
     ]
    }
   ],
   "source": [
    "if os.path.exists(pathRIFOutName):\n",
    "    print('Synchronised: (%s) with (%s)' % (pathRIFInName, pathRIFOutName))\n",
    "else:    \n",
    "    print('Not synchronised: (%s) with (%s)' % (pathRIFInName, pathRIFOutName))"
   ]
  },
  {
   "cell_type": "markdown",
   "metadata": {},
   "source": [
    "# Create Functional Layer"
   ]
  },
  {
   "cell_type": "markdown",
   "metadata": {},
   "source": [
    "![RIF Functional Layer](../../images/RIF-FL.JPG)"
   ]
  },
  {
   "cell_type": "code",
   "execution_count": 9,
   "metadata": {},
   "outputs": [
    {
     "name": "stdout",
     "output_type": "stream",
     "text": [
      "Keep: ..\\..\\Results\\Chapter 14\\000-RIF\\100-Functional-Layer\n"
     ]
    }
   ],
   "source": [
    "pathRIFname=pathRIFOutName\n",
    "dirLayerpath='100-Functional-Layer'\n",
    "dirname = os.path.join(pathRIFname, dirLayerpath)\n",
    "if not os.path.exists(dirname):\n",
    "    print('Build: %s' % dirname)\n",
    "    os.makedirs(dirname)\n",
    "else:\n",
    "    print('Keep: %s' % dirname)    "
   ]
  },
  {
   "cell_type": "markdown",
   "metadata": {},
   "source": [
    "# Create Functional Layer - Retrieve Step"
   ]
  },
  {
   "cell_type": "markdown",
   "metadata": {},
   "source": [
    "![RIF Functional Layer - Retrieve Step](../../images/RIF-FL-RET.JPG)"
   ]
  },
  {
   "cell_type": "code",
   "execution_count": 10,
   "metadata": {},
   "outputs": [
    {
     "name": "stdout",
     "output_type": "stream",
     "text": [
      "Keep: ..\\..\\Results\\Chapter 14\\000-RIF\\100-Functional-Layer\\100-Retrieve\n"
     ]
    }
   ],
   "source": [
    "dirpath='100-Retrieve'\n",
    "dirname = os.path.join(pathRIFname, dirLayerpath, dirpath)\n",
    "if not os.path.exists(dirname):\n",
    "    print('Build: %s' % dirname)\n",
    "    os.makedirs(dirname)\n",
    "else:\n",
    "    print('Keep: %s' % dirname)    "
   ]
  },
  {
   "cell_type": "markdown",
   "metadata": {},
   "source": [
    "# Create Functional Layer - Assess Step"
   ]
  },
  {
   "cell_type": "markdown",
   "metadata": {},
   "source": [
    "![RIF Functional Layer - Assess Step](../../images/RIF-FL-ASS.JPG)"
   ]
  },
  {
   "cell_type": "code",
   "execution_count": 11,
   "metadata": {},
   "outputs": [
    {
     "name": "stdout",
     "output_type": "stream",
     "text": [
      "Keep: ..\\..\\Results\\Chapter 14\\000-RIF\\100-Functional-Layer\\200-Assess\n"
     ]
    }
   ],
   "source": [
    "dirpath='200-Assess'\n",
    "dirname = os.path.join(pathRIFname, dirLayerpath, dirpath)\n",
    "if not os.path.exists(dirname):\n",
    "    print('Build: %s' % dirname)\n",
    "    os.makedirs(dirname)\n",
    "else:\n",
    "    print('Keep: %s' % dirname)  "
   ]
  },
  {
   "cell_type": "markdown",
   "metadata": {},
   "source": [
    "# Create Functional Layer - Process Step"
   ]
  },
  {
   "cell_type": "markdown",
   "metadata": {},
   "source": [
    "![RIF Functional Layer - Process Step](../../images/RIF-FL-PRC.JPG)"
   ]
  },
  {
   "cell_type": "code",
   "execution_count": 12,
   "metadata": {},
   "outputs": [
    {
     "name": "stdout",
     "output_type": "stream",
     "text": [
      "Keep: ..\\..\\Results\\Chapter 14\\000-RIF\\100-Functional-Layer\\300-Process\n"
     ]
    }
   ],
   "source": [
    "dirpath='300-Process'\n",
    "dirname = os.path.join(pathRIFname, dirLayerpath, dirpath)\n",
    "if not os.path.exists(dirname):\n",
    "    print('Build: %s' % dirname)\n",
    "    os.makedirs(dirname)\n",
    "else:\n",
    "    print('Keep: %s' % dirname)  "
   ]
  },
  {
   "cell_type": "markdown",
   "metadata": {},
   "source": [
    "# Create Functional Layer - Transform Step"
   ]
  },
  {
   "cell_type": "markdown",
   "metadata": {},
   "source": [
    "![RIF Functional Layer - Transform Step](../../images/RIF-FL-TRF.JPG)"
   ]
  },
  {
   "cell_type": "code",
   "execution_count": 13,
   "metadata": {},
   "outputs": [
    {
     "name": "stdout",
     "output_type": "stream",
     "text": [
      "Keep: ..\\..\\Results\\Chapter 14\\000-RIF\\100-Functional-Layer\\400-Transform\n"
     ]
    }
   ],
   "source": [
    "dirpath='400-Transform'\n",
    "dirname = os.path.join(pathRIFname, dirLayerpath, dirpath)\n",
    "if not os.path.exists(dirname):\n",
    "    print('Build: %s' % dirname)\n",
    "    os.makedirs(dirname)\n",
    "else:\n",
    "    print('Keep: %s' % dirname)  "
   ]
  },
  {
   "cell_type": "markdown",
   "metadata": {},
   "source": [
    "# Create Functional Layer - Organize Step"
   ]
  },
  {
   "cell_type": "markdown",
   "metadata": {},
   "source": [
    "![RIF Functional Layer - Organise](../../images/RIF-FL-ORG.JPG)"
   ]
  },
  {
   "cell_type": "code",
   "execution_count": 14,
   "metadata": {},
   "outputs": [
    {
     "name": "stdout",
     "output_type": "stream",
     "text": [
      "Keep: ..\\..\\Results\\Chapter 14\\000-RIF\\100-Functional-Layer\\500-Organise\n"
     ]
    }
   ],
   "source": [
    "dirpath='500-Organise'\n",
    "dirname = os.path.join(pathRIFname, dirLayerpath, dirpath)\n",
    "if not os.path.exists(dirname):\n",
    "    print('Build: %s' % dirname)\n",
    "    os.makedirs(dirname)\n",
    "else:\n",
    "    print('Keep: %s' % dirname)  "
   ]
  },
  {
   "cell_type": "markdown",
   "metadata": {},
   "source": [
    "# Create Functional Layer - Report Step"
   ]
  },
  {
   "cell_type": "markdown",
   "metadata": {},
   "source": [
    "![RIF Functional Layer](../../images/RIF-FL-RPT.JPG)"
   ]
  },
  {
   "cell_type": "code",
   "execution_count": 15,
   "metadata": {},
   "outputs": [
    {
     "name": "stdout",
     "output_type": "stream",
     "text": [
      "Keep: ..\\..\\Results\\Chapter 14\\000-RIF\\100-Functional-Layer\\600-Report\n"
     ]
    }
   ],
   "source": [
    "dirpath='600-Report'\n",
    "dirname = os.path.join(pathRIFname, dirLayerpath, dirpath)\n",
    "if not os.path.exists(dirname):\n",
    "    print('Build: %s' % dirname)\n",
    "    os.makedirs(dirname)\n",
    "else:\n",
    "    print('Keep: %s' % dirname)  "
   ]
  },
  {
   "cell_type": "markdown",
   "metadata": {},
   "source": [
    "# Create Operational Management Layer"
   ]
  },
  {
   "cell_type": "markdown",
   "metadata": {},
   "source": [
    "![RIF OML Layer](../../images/RIF-OML.JPG)"
   ]
  },
  {
   "cell_type": "code",
   "execution_count": 16,
   "metadata": {},
   "outputs": [
    {
     "name": "stdout",
     "output_type": "stream",
     "text": [
      "Keep: ..\\..\\Results\\Chapter 14\\000-RIF\\200-Operational-Management-Layer\n"
     ]
    }
   ],
   "source": [
    "dirLayerpath='200-Operational-Management-Layer'\n",
    "dirname = os.path.join(pathRIFname, dirLayerpath)\n",
    "if not os.path.exists(dirname):\n",
    "    print('Build: %s' % dirname)\n",
    "    os.makedirs(dirname)\n",
    "else:\n",
    "    print('Keep: %s' % dirname)  "
   ]
  },
  {
   "cell_type": "markdown",
   "metadata": {},
   "source": [
    "# Audit, Balance and Control Layer"
   ]
  },
  {
   "cell_type": "markdown",
   "metadata": {},
   "source": [
    "![RIF ABC Layer](../../images/RIF-ABC.JPG)"
   ]
  },
  {
   "cell_type": "code",
   "execution_count": 17,
   "metadata": {},
   "outputs": [
    {
     "name": "stdout",
     "output_type": "stream",
     "text": [
      "Keep: ..\\..\\Results\\Chapter 14\\000-RIF\\300-Audit-Balance-Control-Layer\n"
     ]
    }
   ],
   "source": [
    "dirLayerpath='300-Audit-Balance-Control-Layer'\n",
    "dirname = os.path.join(pathRIFname, dirLayerpath)\n",
    "if not os.path.exists(dirname):\n",
    "    print('Build: %s' % dirname)\n",
    "    os.makedirs(dirname)\n",
    "else:\n",
    "    print('Keep: %s' % dirname)  "
   ]
  },
  {
   "cell_type": "code",
   "execution_count": 18,
   "metadata": {},
   "outputs": [
    {
     "name": "stdout",
     "output_type": "stream",
     "text": [
      "Keep: ..\\..\\Results\\Chapter 14\\000-RIF\\300-Audit-Balance-Control-Layer\\100-Audit\n"
     ]
    }
   ],
   "source": [
    "dirsubLayerpath='100-Audit'\n",
    "dirname = os.path.join(pathRIFname, dirLayerpath, dirsubLayerpath)\n",
    "if not os.path.exists(dirname):\n",
    "    print('Build: %s' % dirname)\n",
    "    os.makedirs(dirname)\n",
    "else:\n",
    "    print('Keep: %s' % dirname)  "
   ]
  },
  {
   "cell_type": "code",
   "execution_count": 19,
   "metadata": {},
   "outputs": [
    {
     "name": "stdout",
     "output_type": "stream",
     "text": [
      "Keep: ..\\..\\Results\\Chapter 14\\000-RIF\\300-Audit-Balance-Control-Layer\\200-Balance\n"
     ]
    }
   ],
   "source": [
    "dirsubLayerpath='200-Balance'\n",
    "dirname = os.path.join(pathRIFname, dirLayerpath, dirsubLayerpath)\n",
    "if not os.path.exists(dirname):\n",
    "    print('Build: %s' % dirname)\n",
    "    os.makedirs(dirname)\n",
    "else:\n",
    "    print('Keep: %s' % dirname)  "
   ]
  },
  {
   "cell_type": "code",
   "execution_count": 20,
   "metadata": {},
   "outputs": [
    {
     "name": "stdout",
     "output_type": "stream",
     "text": [
      "Keep: ..\\..\\Results\\Chapter 14\\000-RIF\\300-Audit-Balance-Control-Layer\\300-Control\n"
     ]
    }
   ],
   "source": [
    "dirsubLayerpath='300-Control'\n",
    "dirname = os.path.join(pathRIFname, dirLayerpath, dirsubLayerpath)\n",
    "if not os.path.exists(dirname):\n",
    "    print('Build: %s' % dirname)\n",
    "    os.makedirs(dirname)\n",
    "else:\n",
    "    print('Keep: %s' % dirname)  "
   ]
  },
  {
   "cell_type": "markdown",
   "metadata": {},
   "source": [
    "# Utility Layer"
   ]
  },
  {
   "cell_type": "markdown",
   "metadata": {},
   "source": [
    "![RIF Utility Layer](../../images/RIF-UL.JPG)"
   ]
  },
  {
   "cell_type": "code",
   "execution_count": 21,
   "metadata": {},
   "outputs": [
    {
     "name": "stdout",
     "output_type": "stream",
     "text": [
      "Keep: ..\\..\\Results\\Chapter 14\\000-RIF\\400-Utility-Layer\n"
     ]
    }
   ],
   "source": [
    "dirLayerpath='400-Utility-Layer'\n",
    "dirname = os.path.join(pathRIFname, dirLayerpath)\n",
    "if not os.path.exists(dirname):\n",
    "    print('Build: %s' % dirname)\n",
    "    os.makedirs(dirname)\n",
    "else:\n",
    "    print('Keep: %s' % dirname)  "
   ]
  },
  {
   "cell_type": "markdown",
   "metadata": {},
   "source": [
    "## Utility Layer - Maintenance Utilities"
   ]
  },
  {
   "cell_type": "code",
   "execution_count": 22,
   "metadata": {},
   "outputs": [
    {
     "name": "stdout",
     "output_type": "stream",
     "text": [
      "Keep: ..\\..\\Results\\Chapter 14\\000-RIF\\400-Utility-Layer\\100-Maintenance-Utilities\n"
     ]
    }
   ],
   "source": [
    "dirpath='100-Maintenance-Utilities'\n",
    "dirname = os.path.join(pathRIFname, dirLayerpath, dirpath)\n",
    "if not os.path.exists(dirname):\n",
    "    print('Build: %s' % dirname)\n",
    "    os.makedirs(dirname)\n",
    "else:\n",
    "    print('Keep: %s' % dirname)  "
   ]
  },
  {
   "cell_type": "markdown",
   "metadata": {},
   "source": [
    "## Utility Layer - Data Utilities"
   ]
  },
  {
   "cell_type": "code",
   "execution_count": 23,
   "metadata": {},
   "outputs": [
    {
     "name": "stdout",
     "output_type": "stream",
     "text": [
      "Keep: ..\\..\\Results\\Chapter 14\\000-RIF\\400-Utility-Layer\\200-Data-Utilities\n"
     ]
    }
   ],
   "source": [
    "dirpath='200-Data-Utilities'\n",
    "dirname = os.path.join(pathRIFname, dirLayerpath, dirpath)\n",
    "if not os.path.exists(dirname):\n",
    "    print('Build: %s' % dirname)\n",
    "    os.makedirs(dirname)\n",
    "else:\n",
    "    print('Keep: %s' % dirname)  "
   ]
  },
  {
   "cell_type": "markdown",
   "metadata": {},
   "source": [
    "## Utility Layer - Processing Utilities"
   ]
  },
  {
   "cell_type": "code",
   "execution_count": 24,
   "metadata": {},
   "outputs": [
    {
     "name": "stdout",
     "output_type": "stream",
     "text": [
      "Keep: ..\\..\\Results\\Chapter 14\\000-RIF\\400-Utility-Layer\\300-Processing Utilities\n"
     ]
    }
   ],
   "source": [
    "dirpath='300-Processing Utilities'\n",
    "dirname = os.path.join(pathRIFname, dirLayerpath, dirpath)\n",
    "if not os.path.exists(dirname):\n",
    "    print('Build: %s' % dirname)\n",
    "    os.makedirs(dirname)\n",
    "else:\n",
    "    print('Keep: %s' % dirname)  "
   ]
  },
  {
   "cell_type": "markdown",
   "metadata": {},
   "source": [
    "# Business Layer"
   ]
  },
  {
   "cell_type": "markdown",
   "metadata": {},
   "source": [
    "![RIF Business Layer](../../images/RIF-BL.JPG)"
   ]
  },
  {
   "cell_type": "code",
   "execution_count": 25,
   "metadata": {},
   "outputs": [
    {
     "name": "stdout",
     "output_type": "stream",
     "text": [
      "Keep: ..\\..\\Results\\Chapter 14\\000-RIF\\500-Business-Layer\n"
     ]
    }
   ],
   "source": [
    "dirLayerpath='500-Business-Layer'\n",
    "dirname = os.path.join(pathRIFname, dirLayerpath)\n",
    "if not os.path.exists(dirname):\n",
    "    print('Build: %s' % dirname)\n",
    "    os.makedirs(dirname)\n",
    "else:\n",
    "    print('Keep: %s' % dirname)  "
   ]
  },
  {
   "cell_type": "markdown",
   "metadata": {},
   "source": [
    "## Business Layer - Functional Requirements"
   ]
  },
  {
   "cell_type": "code",
   "execution_count": 26,
   "metadata": {},
   "outputs": [
    {
     "name": "stdout",
     "output_type": "stream",
     "text": [
      "Keep: ..\\..\\Results\\Chapter 14\\000-RIF\\500-Business-Layer\\100-Functional-Requirements\n"
     ]
    }
   ],
   "source": [
    "dirpath='100-Functional-Requirements'\n",
    "dirname = os.path.join(pathRIFname, dirLayerpath, dirpath)\n",
    "if not os.path.exists(dirname):\n",
    "    print('Build: %s' % dirname)\n",
    "    os.makedirs(dirname)\n",
    "else:\n",
    "    print('Keep: %s' % dirname)  "
   ]
  },
  {
   "cell_type": "markdown",
   "metadata": {},
   "source": [
    "## Business Layer - Non-functional Requirements"
   ]
  },
  {
   "cell_type": "code",
   "execution_count": 27,
   "metadata": {},
   "outputs": [
    {
     "name": "stdout",
     "output_type": "stream",
     "text": [
      "Keep: ..\\..\\Results\\Chapter 14\\000-RIF\\500-Business-Layer\\200-Non-functional-Requirements\n"
     ]
    }
   ],
   "source": [
    "dirpath='200-Non-functional-Requirements'\n",
    "dirname = os.path.join(pathRIFname, dirLayerpath, dirpath)\n",
    "if not os.path.exists(dirname):\n",
    "    print('Build: %s' % dirname)\n",
    "    os.makedirs(dirname)\n",
    "else:\n",
    "    print('Keep: %s' % dirname)  "
   ]
  },
  {
   "cell_type": "markdown",
   "metadata": {},
   "source": [
    "## Business Layer - Data Profiles"
   ]
  },
  {
   "cell_type": "code",
   "execution_count": 28,
   "metadata": {},
   "outputs": [
    {
     "name": "stdout",
     "output_type": "stream",
     "text": [
      "Keep: ..\\..\\Results\\Chapter 14\\000-RIF\\500-Business-Layer\\300-Data-Profiles\n"
     ]
    }
   ],
   "source": [
    "dirpath='300-Data-Profiles'\n",
    "dirname = os.path.join(pathRIFname, dirLayerpath, dirpath)\n",
    "if not os.path.exists(dirname):\n",
    "    print('Build: %s' % dirname)\n",
    "    os.makedirs(dirname)\n",
    "else:\n",
    "    print('Keep: %s' % dirname)  "
   ]
  },
  {
   "cell_type": "markdown",
   "metadata": {},
   "source": [
    "## Business Layer - Sun Models"
   ]
  },
  {
   "cell_type": "code",
   "execution_count": 29,
   "metadata": {},
   "outputs": [
    {
     "name": "stdout",
     "output_type": "stream",
     "text": [
      "Keep: ..\\..\\Results\\Chapter 14\\000-RIF\\500-Business-Layer\\400-Sun-Models\n"
     ]
    }
   ],
   "source": [
    "dirpath='400-Sun-Models'\n",
    "dirname = os.path.join(pathRIFname, dirLayerpath, dirpath)\n",
    "if not os.path.exists(dirname):\n",
    "    print('Build: %s' % dirname)\n",
    "    os.makedirs(dirname)\n",
    "else:\n",
    "    print('Keep: %s' % dirname)  "
   ]
  },
  {
   "cell_type": "markdown",
   "metadata": {},
   "source": [
    "# Create Six Zone Data Lake"
   ]
  },
  {
   "cell_type": "markdown",
   "metadata": {},
   "source": [
    "![Data Lake](../../images/DataLake.JPG)"
   ]
  },
  {
   "cell_type": "markdown",
   "metadata": {},
   "source": [
    "# Copy Basic Rapid Information Factory"
   ]
  },
  {
   "cell_type": "code",
   "execution_count": 30,
   "metadata": {},
   "outputs": [
    {
     "name": "stdout",
     "output_type": "stream",
     "text": [
      "Synchronise Data Lake: 990-DL with ..\\..\\Results\\Chapter 14\\990-DL\n"
     ]
    }
   ],
   "source": [
    "pathDLInName=os.path.relpath('./990-DL/')\n",
    "pathDLOutName=os.path.relpath('../../Results/Chapter 14/990-DL/')\n",
    "print('Synchronise Data Lake: %s with %s' % (pathDLInName, pathDLOutName))"
   ]
  },
  {
   "cell_type": "code",
   "execution_count": 31,
   "metadata": {},
   "outputs": [],
   "source": [
    "for root, dirs, files in os.walk(pathDLInName, topdown=True):\n",
    "    for name in files:\n",
    "        if name == 'ReadMe.txt':\n",
    "            readfile = os.path.relpath(os.path.join(root, name))\n",
    "            os.remove(readfile)"
   ]
  },
  {
   "cell_type": "code",
   "execution_count": 32,
   "metadata": {},
   "outputs": [
    {
     "name": "stdout",
     "output_type": "stream",
     "text": [
      "Clear directory: ..\\..\\Results\\Chapter 14\\990-DL\n"
     ]
    }
   ],
   "source": [
    "if os.path.exists(pathDLOutName):\n",
    "    print('Clear directory: %s' % pathDLOutName)\n",
    "    shutil.rmtree(pathDLOutName)\n",
    "    time.sleep(15)\n",
    "else:\n",
    "    print('No directory: %s' % pathDLOutName)"
   ]
  },
  {
   "cell_type": "code",
   "execution_count": 33,
   "metadata": {},
   "outputs": [
    {
     "name": "stdout",
     "output_type": "stream",
     "text": [
      "Synchronise: (990-DL) with (..\\..\\Results\\Chapter 14\\990-DL)\n"
     ]
    }
   ],
   "source": [
    "if not os.path.exists(pathDLOutName):\n",
    "    print('Synchronise: (%s) with (%s)' % (pathDLInName, pathDLOutName))\n",
    "    shutil.copytree(pathDLInName, pathDLOutName)"
   ]
  },
  {
   "cell_type": "code",
   "execution_count": 34,
   "metadata": {},
   "outputs": [
    {
     "name": "stdout",
     "output_type": "stream",
     "text": [
      "Synchronised: (990-DL) with (..\\..\\Results\\Chapter 14\\990-DL)\n"
     ]
    }
   ],
   "source": [
    "if os.path.exists(pathDLOutName):\n",
    "    print('Synchronised: (%s) with (%s)' % (pathDLInName, pathDLOutName))\n",
    "else:    \n",
    "    print('Not synchronised: (%s) with (%s)' % (pathDLInName, pathDLOutName)) "
   ]
  },
  {
   "cell_type": "code",
   "execution_count": 35,
   "metadata": {},
   "outputs": [],
   "source": [
    "pathDLname=pathDLOutName"
   ]
  },
  {
   "cell_type": "markdown",
   "metadata": {},
   "source": [
    "# Create Workspace Zone"
   ]
  },
  {
   "cell_type": "markdown",
   "metadata": {},
   "source": [
    "![Data Lake Workspace Zone](../../images/DL-WSZ.JPG)"
   ]
  },
  {
   "cell_type": "code",
   "execution_count": 36,
   "metadata": {},
   "outputs": [
    {
     "name": "stdout",
     "output_type": "stream",
     "text": [
      "Keep: ..\\..\\Results\\Chapter 14\\990-DL\\000-Workspace-Zone\n"
     ]
    }
   ],
   "source": [
    "dirpath='000-Workspace-Zone'\n",
    "dirname = os.path.join(pathDLname, dirpath)\n",
    "if not os.path.exists(dirname):\n",
    "    print('Build: %s' % dirname)\n",
    "    os.makedirs(dirname)\n",
    "else:\n",
    "    print('Keep: %s' % dirname)  "
   ]
  },
  {
   "cell_type": "markdown",
   "metadata": {},
   "source": [
    "# Create Raw Zone"
   ]
  },
  {
   "cell_type": "markdown",
   "metadata": {},
   "source": [
    "![Data Lake Raw Zone](../../images/DL-RZ.JPG)"
   ]
  },
  {
   "cell_type": "code",
   "execution_count": 37,
   "metadata": {},
   "outputs": [
    {
     "name": "stdout",
     "output_type": "stream",
     "text": [
      "Keep: ..\\..\\Results\\Chapter 14\\990-DL\\100-Raw-Zone\n"
     ]
    }
   ],
   "source": [
    "dirpath='100-Raw-Zone'\n",
    "dirname = os.path.join(pathDLname, dirpath)\n",
    "if not os.path.exists(dirname):\n",
    "    print('Build: %s' % dirname)\n",
    "    os.makedirs(dirname)\n",
    "else:\n",
    "    print('Keep: %s' % dirname)  "
   ]
  },
  {
   "cell_type": "markdown",
   "metadata": {},
   "source": [
    "# Create Structured Zone"
   ]
  },
  {
   "cell_type": "markdown",
   "metadata": {},
   "source": [
    "![Data Lake Structured Zone](../../images/DL-SZ.JPG)"
   ]
  },
  {
   "cell_type": "code",
   "execution_count": 38,
   "metadata": {},
   "outputs": [
    {
     "name": "stdout",
     "output_type": "stream",
     "text": [
      "Keep: ..\\..\\Results\\Chapter 14\\990-DL\\200-Structured-Zone\n"
     ]
    }
   ],
   "source": [
    "dirpath='200-Structured-Zone'\n",
    "dirname = os.path.join(pathDLname, dirpath)\n",
    "if not os.path.exists(dirname):\n",
    "    print('Build: %s' % dirname)\n",
    "    os.makedirs(dirname)\n",
    "else:\n",
    "    print('Keep: %s' % dirname)  "
   ]
  },
  {
   "cell_type": "markdown",
   "metadata": {},
   "source": [
    "# Create Curated Zone"
   ]
  },
  {
   "cell_type": "markdown",
   "metadata": {},
   "source": [
    "![Data Lake Curated Zone](../../images/DL-CUZ.JPG)"
   ]
  },
  {
   "cell_type": "code",
   "execution_count": 39,
   "metadata": {},
   "outputs": [
    {
     "name": "stdout",
     "output_type": "stream",
     "text": [
      "Keep: ..\\..\\Results\\Chapter 14\\990-DL\\300-Curated-Zone\n"
     ]
    }
   ],
   "source": [
    "dirpath='300-Curated-Zone'\n",
    "dirname = os.path.join(pathDLname, dirpath)\n",
    "if not os.path.exists(dirname):\n",
    "    print('Build: %s' % dirname)\n",
    "    os.makedirs(dirname)\n",
    "else:\n",
    "    print('Keep: %s' % dirname)  "
   ]
  },
  {
   "cell_type": "markdown",
   "metadata": {},
   "source": [
    "# Create Curated Zone - TPOLE Structure"
   ]
  },
  {
   "cell_type": "markdown",
   "metadata": {},
   "source": [
    "![Data Lake Curated Zone](../../images/TPOLE.JPG)"
   ]
  },
  {
   "cell_type": "code",
   "execution_count": 40,
   "metadata": {},
   "outputs": [],
   "source": [
    "DV=['Hub','Satellite','Link']\n",
    "TPOLE=['Time','Person','Object','Location','Event']"
   ]
  },
  {
   "cell_type": "code",
   "execution_count": 41,
   "metadata": {},
   "outputs": [],
   "source": [
    "for dvpath in DV:    \n",
    "    if dvpath == 'Link':        \n",
    "        for hubpath1 in TPOLE:\n",
    "            for hubpath2 in TPOLE:\n",
    "                hubpath = hubpath1 + '-' + hubpath2\n",
    "                dirname = os.path.join(pathDLname, dirpath, dvpath, hubpath)\n",
    "                if not os.path.exists(dirname):\n",
    "                    os.makedirs(dirname)\n",
    "                    print(dirname)\n",
    "    else:\n",
    "        for hubpath in TPOLE:\n",
    "            dirname = os.path.join(pathDLname, dirpath, dvpath, hubpath)\n",
    "            if not os.path.exists(dirname):\n",
    "                os.makedirs(dirname)\n",
    "                print(dirname)"
   ]
  },
  {
   "cell_type": "markdown",
   "metadata": {},
   "source": [
    "# Create Consumer Zone"
   ]
  },
  {
   "cell_type": "markdown",
   "metadata": {},
   "source": [
    "![Data Lake Consumer Zone](../../images/DL-COZ.JPG)"
   ]
  },
  {
   "cell_type": "code",
   "execution_count": 42,
   "metadata": {},
   "outputs": [
    {
     "name": "stdout",
     "output_type": "stream",
     "text": [
      "Keep: ..\\..\\Results\\Chapter 14\\990-DL\\400-Consumer-Zone\n"
     ]
    }
   ],
   "source": [
    "dirpath='400-Consumer-Zone'\n",
    "dirname = os.path.join(pathDLname, dirpath)\n",
    "if not os.path.exists(dirname):\n",
    "    print('Build: %s' % dirname)\n",
    "    os.makedirs(dirname)\n",
    "else:\n",
    "    print('Keep: %s' % dirname)  "
   ]
  },
  {
   "cell_type": "markdown",
   "metadata": {},
   "source": [
    "# Create Analytics Zone"
   ]
  },
  {
   "cell_type": "markdown",
   "metadata": {},
   "source": [
    "![Data Lake Analytics Zone](../../images/DL-AZ.JPG)"
   ]
  },
  {
   "cell_type": "code",
   "execution_count": 43,
   "metadata": {},
   "outputs": [
    {
     "name": "stdout",
     "output_type": "stream",
     "text": [
      "Keep: ..\\..\\Results\\Chapter 14\\990-DL\\500-Analytics-Zone\n"
     ]
    }
   ],
   "source": [
    "dirpath='500-Analytics-Zone'\n",
    "dirname = os.path.join(pathDLname, dirpath)\n",
    "if not os.path.exists(dirname):\n",
    "    print('Build: %s' % dirname)\n",
    "    os.makedirs(dirname)\n",
    "else:\n",
    "    print('Keep: %s' % dirname)  "
   ]
  },
  {
   "cell_type": "markdown",
   "metadata": {},
   "source": [
    "# Clear Checkpoints"
   ]
  },
  {
   "cell_type": "markdown",
   "metadata": {},
   "source": [
    "![Trash Bin](../../images/TrashBin.JPG)"
   ]
  },
  {
   "cell_type": "code",
   "execution_count": 44,
   "metadata": {},
   "outputs": [],
   "source": [
    "pathRIFname='../../Results/Chapter 09/000-RIF/'\n",
    "for root, dirs, files in os.walk(pathRIFname, topdown=True):\n",
    "    for name in dirs:\n",
    "        fullDir=os.path.join(root, name)\n",
    "        #print(fullDir)\n",
    "        if name=='.ipynb_checkpoints':\n",
    "            print('Remove:', fullDir)\n",
    "            if os.path.exists(fullDir):\n",
    "                shutil.rmtree(fullDir)\n",
    "            time.sleep(0.1)"
   ]
  },
  {
   "cell_type": "markdown",
   "metadata": {},
   "source": [
    "# Show Rapid Information Factory (RIF)"
   ]
  },
  {
   "cell_type": "markdown",
   "metadata": {},
   "source": [
    "![RIF](../../images/RAPTOR.JPG)"
   ]
  },
  {
   "cell_type": "markdown",
   "metadata": {},
   "source": [
    "## Show RIF directories"
   ]
  },
  {
   "cell_type": "code",
   "execution_count": 45,
   "metadata": {},
   "outputs": [
    {
     "name": "stdout",
     "output_type": "stream",
     "text": [
      "../../Results/Chapter 14/000-RIF/100-Functional-Layer\n",
      "../../Results/Chapter 14/000-RIF/200-Operational-Management-Layer\n",
      "../../Results/Chapter 14/000-RIF/300-Audit-Balance-Control-Layer\n",
      "../../Results/Chapter 14/000-RIF/400-Utility-Layer\n",
      "../../Results/Chapter 14/000-RIF/500-Business-Layer\n",
      "../../Results/Chapter 14/000-RIF/100-Functional-Layer\\100-Retrieve\n",
      "../../Results/Chapter 14/000-RIF/100-Functional-Layer\\200-Assess\n",
      "../../Results/Chapter 14/000-RIF/100-Functional-Layer\\300-Process\n",
      "../../Results/Chapter 14/000-RIF/100-Functional-Layer\\400-Transform\n",
      "../../Results/Chapter 14/000-RIF/100-Functional-Layer\\500-Organise\n",
      "../../Results/Chapter 14/000-RIF/100-Functional-Layer\\600-Report\n",
      "../../Results/Chapter 14/000-RIF/300-Audit-Balance-Control-Layer\\100-Audit\n",
      "../../Results/Chapter 14/000-RIF/300-Audit-Balance-Control-Layer\\200-Balance\n",
      "../../Results/Chapter 14/000-RIF/300-Audit-Balance-Control-Layer\\300-Control\n",
      "../../Results/Chapter 14/000-RIF/400-Utility-Layer\\100-Maintenance-Utilities\n",
      "../../Results/Chapter 14/000-RIF/400-Utility-Layer\\200-Data-Utilities\n",
      "../../Results/Chapter 14/000-RIF/400-Utility-Layer\\300-Processing Utilities\n",
      "../../Results/Chapter 14/000-RIF/500-Business-Layer\\100-Functional-Requirements\n",
      "../../Results/Chapter 14/000-RIF/500-Business-Layer\\200-Non-functional-Requirements\n",
      "../../Results/Chapter 14/000-RIF/500-Business-Layer\\300-Data-Profiles\n",
      "../../Results/Chapter 14/000-RIF/500-Business-Layer\\400-Sun-Models\n"
     ]
    }
   ],
   "source": [
    "pathRIFname=os.path.relpath('../../Results/Chapter 14/000-RIF/')\n",
    "for root, dirs, files in os.walk(pathRIFname, topdown=True):\n",
    "    for name in dirs:\n",
    "        print(os.path.join(root, name))"
   ]
  },
  {
   "cell_type": "markdown",
   "metadata": {},
   "source": [
    "## Show RIF files"
   ]
  },
  {
   "cell_type": "code",
   "execution_count": 46,
   "metadata": {},
   "outputs": [
    {
     "name": "stdout",
     "output_type": "stream",
     "text": [
      "../../Results/Chapter 14/000-RIF/100-Functional-Layer\\100-Retrieve\\14-01-Retrieve-Healthcare-01.ipynb\n",
      "../../Results/Chapter 14/000-RIF/100-Functional-Layer\\100-Retrieve\\14-01-Retrieve-Healthcare-01.py\n",
      "../../Results/Chapter 14/000-RIF/100-Functional-Layer\\200-Assess\\14-01-Assess-Healthcare-01.ipynb\n",
      "../../Results/Chapter 14/000-RIF/100-Functional-Layer\\200-Assess\\14-01-Assess-Healthcare-01.py\n"
     ]
    }
   ],
   "source": [
    "for root, dirs, files in os.walk(pathRIFname, topdown=True):\n",
    "    for name in files:\n",
    "        print(os.path.join(root, name))"
   ]
  },
  {
   "cell_type": "markdown",
   "metadata": {},
   "source": [
    "# Show Data Lake"
   ]
  },
  {
   "cell_type": "markdown",
   "metadata": {},
   "source": [
    "![RIF](../../images/DataLake.JPG)"
   ]
  },
  {
   "cell_type": "markdown",
   "metadata": {},
   "source": [
    "## Show Data Lake directories"
   ]
  },
  {
   "cell_type": "code",
   "execution_count": 1,
   "metadata": {},
   "outputs": [
    {
     "ename": "NameError",
     "evalue": "name 'os' is not defined",
     "output_type": "error",
     "traceback": [
      "\u001b[1;31m---------------------------------------------------------------------------\u001b[0m",
      "\u001b[1;31mNameError\u001b[0m                                 Traceback (most recent call last)",
      "\u001b[1;32m<ipython-input-1-0f9e19814eed>\u001b[0m in \u001b[0;36m<module>\u001b[1;34m\u001b[0m\n\u001b[1;32m----> 1\u001b[1;33m \u001b[0mpathDLname\u001b[0m\u001b[1;33m=\u001b[0m\u001b[0mos\u001b[0m\u001b[1;33m.\u001b[0m\u001b[0mpath\u001b[0m\u001b[1;33m.\u001b[0m\u001b[0mrelpath\u001b[0m\u001b[1;33m(\u001b[0m\u001b[1;34m'../../Results/Chapter 14/990-DL/'\u001b[0m\u001b[1;33m)\u001b[0m\u001b[1;33m\u001b[0m\u001b[1;33m\u001b[0m\u001b[0m\n\u001b[0m\u001b[0;32m      2\u001b[0m \u001b[1;32mfor\u001b[0m \u001b[0mroot\u001b[0m\u001b[1;33m,\u001b[0m \u001b[0mdirs\u001b[0m\u001b[1;33m,\u001b[0m \u001b[0mfiles\u001b[0m \u001b[1;32min\u001b[0m \u001b[0mos\u001b[0m\u001b[1;33m.\u001b[0m\u001b[0mwalk\u001b[0m\u001b[1;33m(\u001b[0m\u001b[0mpathDLname\u001b[0m\u001b[1;33m,\u001b[0m \u001b[0mtopdown\u001b[0m\u001b[1;33m=\u001b[0m\u001b[1;32mTrue\u001b[0m\u001b[1;33m)\u001b[0m\u001b[1;33m:\u001b[0m\u001b[1;33m\u001b[0m\u001b[1;33m\u001b[0m\u001b[0m\n\u001b[0;32m      3\u001b[0m     \u001b[1;32mfor\u001b[0m \u001b[0mname\u001b[0m \u001b[1;32min\u001b[0m \u001b[0mdirs\u001b[0m\u001b[1;33m:\u001b[0m\u001b[1;33m\u001b[0m\u001b[1;33m\u001b[0m\u001b[0m\n\u001b[0;32m      4\u001b[0m         \u001b[0mprint\u001b[0m\u001b[1;33m(\u001b[0m\u001b[0mos\u001b[0m\u001b[1;33m.\u001b[0m\u001b[0mpath\u001b[0m\u001b[1;33m.\u001b[0m\u001b[0mjoin\u001b[0m\u001b[1;33m(\u001b[0m\u001b[0mroot\u001b[0m\u001b[1;33m,\u001b[0m \u001b[0mname\u001b[0m\u001b[1;33m)\u001b[0m\u001b[1;33m)\u001b[0m\u001b[1;33m\u001b[0m\u001b[1;33m\u001b[0m\u001b[0m\n",
      "\u001b[1;31mNameError\u001b[0m: name 'os' is not defined"
     ]
    }
   ],
   "source": [
    "pathDLname=os.path.relpath('../../Results/Chapter 14/990-DL/')\n",
    "for root, dirs, files in os.walk(pathDLname, topdown=True):\n",
    "    for name in dirs:\n",
    "        print(os.path.join(root, name))"
   ]
  },
  {
   "cell_type": "markdown",
   "metadata": {},
   "source": [
    "## Show Data Lake files"
   ]
  },
  {
   "cell_type": "code",
   "execution_count": 48,
   "metadata": {},
   "outputs": [
    {
     "name": "stdout",
     "output_type": "stream",
     "text": [
      "../../Results/Chapter 14/990-DL/100-Raw-Zone\\14-01-Retrieve-Healthcare.csv.gz\n",
      "../../Results/Chapter 14/990-DL/200-Structured-Zone\\14-01-Assess-Healthcare.csv.gz\n"
     ]
    }
   ],
   "source": [
    "for root, dirs, files in os.walk(pathDLname, topdown=True):\n",
    "    for name in files:\n",
    "        print(os.path.join(root, name))"
   ]
  },
  {
   "cell_type": "markdown",
   "metadata": {},
   "source": [
    "![Processor](../../images/Runner.JPG)"
   ]
  },
  {
   "cell_type": "code",
   "execution_count": 49,
   "metadata": {},
   "outputs": [],
   "source": [
    "pathOutName=os.path.relpath('../../Results/Chapter 14/')\n",
    "for root, dirs, files in os.walk(pathOutName, topdown=True):\n",
    "    for name in dirs:\n",
    "        dirReadName=os.path.relpath(os.path.join(root, name))\n",
    "        readfile = os.path.abspath(os.path.join(dirReadName,'ReadMe.txt'))\n",
    "        f=open(readfile, 'w', encoding='utf-8')\n",
    "        f.write('================================================================================\\n')\n",
    "        f.write('Apress - Industrial Machine Learning\\n')\n",
    "        f.write('This code base is example section of a book.\\n')\n",
    "        f.write('================================================================================\\n')\n",
    "        f.write('Author: Andreas François Vermeulen\\n')\n",
    "        f.write('================================================================================\\n')\n",
    "        f.write('ISBN-10: 1484253159\\n')\n",
    "        f.write('ISBN-13: 978-1484253151\\n')\n",
    "        f.write('================================================================================\\n')\n",
    "        f.write(f'Directory: {dirReadName}\\n')\n",
    "        f.write('================================================================================\\n')\n",
    "        f.close()"
   ]
  },
  {
   "cell_type": "markdown",
   "metadata": {},
   "source": [
    "# Run Time"
   ]
  },
  {
   "cell_type": "code",
   "execution_count": 50,
   "metadata": {},
   "outputs": [
    {
     "name": "stdout",
     "output_type": "stream",
     "text": [
      "Start: 2019-10-26 19:12:41\n",
      "Stop:  2019-10-26 19:13:12\n",
      "Time:  0:00:31.215001\n"
     ]
    }
   ],
   "source": [
    "nowStop = datetime.datetime.now()\n",
    "runTime=nowStop-nowStart\n",
    "print('Start:', nowStart.strftime('%Y-%m-%d %H:%M:%S'))\n",
    "print('Stop: ', nowStop.strftime('%Y-%m-%d %H:%M:%S'))\n",
    "print('Time: ', runTime)"
   ]
  },
  {
   "cell_type": "code",
   "execution_count": null,
   "metadata": {},
   "outputs": [],
   "source": []
  }
 ],
 "metadata": {
  "kernelspec": {
   "display_name": "Python 3",
   "language": "python",
   "name": "python3"
  },
  "language_info": {
   "codemirror_mode": {
    "name": "ipython",
    "version": 3
   },
   "file_extension": ".py",
   "mimetype": "text/x-python",
   "name": "python",
   "nbconvert_exporter": "python",
   "pygments_lexer": "ipython3",
   "version": "3.7.3"
  }
 },
 "nbformat": 4,
 "nbformat_minor": 2
}
