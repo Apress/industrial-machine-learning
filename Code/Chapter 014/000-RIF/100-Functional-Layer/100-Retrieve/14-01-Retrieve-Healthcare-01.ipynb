{
 "cells": [
  {
   "cell_type": "markdown",
   "metadata": {},
   "source": [
    "## Apress - Industrialized Machine Learning Examples\n",
    "\n",
    "Andreas Francois Vermeulen\n",
    "2019\n",
    "\n",
    "### This is an example add-on to a book and needs to be accepted as part of that copyright."
   ]
  },
  {
   "cell_type": "markdown",
   "metadata": {},
   "source": [
    "# 14-01-Retrieve-Healthcare-01"
   ]
  },
  {
   "cell_type": "code",
   "execution_count": 1,
   "metadata": {},
   "outputs": [],
   "source": [
    "import datetime\n",
    "nowStart = datetime.datetime.now()"
   ]
  },
  {
   "cell_type": "markdown",
   "metadata": {},
   "source": [
    "![RIF Functional Layer - Retrieve Step](../../../../../images/DV-Location.JPG)"
   ]
  },
  {
   "cell_type": "markdown",
   "metadata": {},
   "source": [
    "![RIF Functional Layer - Retrieve Step](../../../../../images/RIF-FL-RET.JPG)"
   ]
  },
  {
   "cell_type": "code",
   "execution_count": 2,
   "metadata": {},
   "outputs": [],
   "source": [
    "import pandas as pd\n",
    "import zipfile as zp\n",
    "import os"
   ]
  },
  {
   "cell_type": "code",
   "execution_count": 6,
   "metadata": {},
   "outputs": [
    {
     "name": "stdout",
     "output_type": "stream",
     "text": [
      "14-01-Retrieve-Healthcare.csv.gz\n"
     ]
    }
   ],
   "source": [
    "dirname = os.path.relpath('../../../../../Results/Chapter 14/990-DL/100-Raw-Zone/')\n",
    "filename='14-01-Retrieve-Healthcare.csv'\n",
    "fileZipname=filename + '.gz'\n",
    "print(fileZipname)"
   ]
  },
  {
   "cell_type": "markdown",
   "metadata": {},
   "source": [
    "# Create 100-Raw-Zone"
   ]
  },
  {
   "cell_type": "markdown",
   "metadata": {},
   "source": [
    "![Raw Zone](../../../../../images/DL-RZ.JPG)"
   ]
  },
  {
   "cell_type": "code",
   "execution_count": 7,
   "metadata": {},
   "outputs": [
    {
     "name": "stdout",
     "output_type": "stream",
     "text": [
      "C:\\Users\\AndreVermeulen\\Documents\\My Book\\apress\\Industrial Machine Learning\\book\\GitHub\\Upload\\industrial-machine-learning\\Results\\Chapter 14\\990-DL\\100-Raw-Zone\n"
     ]
    }
   ],
   "source": [
    "pathRealName=os.path.realpath(dirname)\n",
    "print(pathRealName)\n",
    "fullRealZipName = os.path.join(pathRealName, fileZipname)"
   ]
  },
  {
   "cell_type": "code",
   "execution_count": 8,
   "metadata": {},
   "outputs": [],
   "source": [
    "if not os.path.exists(pathRealName):\n",
    "    print('Make:', pathRealName)\n",
    "    os.makedirs(pathRealName)"
   ]
  },
  {
   "cell_type": "markdown",
   "metadata": {},
   "source": [
    "# Create Healthcare"
   ]
  },
  {
   "cell_type": "code",
   "execution_count": 10,
   "metadata": {},
   "outputs": [
    {
     "name": "stdout",
     "output_type": "stream",
     "text": [
      "C:\\Users\\AndreVermeulen\\Documents\\My Book\\apress\\Industrial Machine Learning\\book\\GitHub\\Upload\\industrial-machine-learning\\Data\\Chapter 14\\000-ExternalData\\01-Healthcare\n"
     ]
    }
   ],
   "source": [
    "dirDataName = os.path.relpath('../../../../../Data/Chapter 14/000-ExternalData/01-Healthcare/')\n",
    "pathRealDataName=os.path.realpath(dirDataName)\n",
    "print(pathRealDataName)"
   ]
  },
  {
   "cell_type": "markdown",
   "metadata": {},
   "source": [
    "## Get Healthcare"
   ]
  },
  {
   "cell_type": "code",
   "execution_count": 11,
   "metadata": {},
   "outputs": [
    {
     "name": "stdout",
     "output_type": "stream",
     "text": [
      "C:\\Users\\AndreVermeulen\\Documents\\My Book\\apress\\Industrial Machine Learning\\book\\GitHub\\Upload\\industrial-machine-learning\\Data\\Chapter 14\\000-ExternalData\\01-Healthcare\\Hospital-General-Information.csv\n"
     ]
    }
   ],
   "source": [
    "fileDataName='Hospital-General-Information.csv'\n",
    "fileFullName= os.path.join(pathRealDataName, fileDataName)\n",
    "print(fileFullName)"
   ]
  },
  {
   "cell_type": "code",
   "execution_count": 12,
   "metadata": {},
   "outputs": [
    {
     "name": "stdout",
     "output_type": "stream",
     "text": [
      "(4793, 28)\n"
     ]
    }
   ],
   "source": [
    "healthDF = pd.read_csv(fileFullName, header=0, delimiter=',')\n",
    "print(healthDF.shape)"
   ]
  },
  {
   "cell_type": "code",
   "execution_count": 13,
   "metadata": {},
   "outputs": [
    {
     "name": "stdout",
     "output_type": "stream",
     "text": [
      "(4793, 28)\n",
      "       Provider ID                     Hospital Name  \\\n",
      "IDKey                                                  \n",
      "0            10001  SOUTHEAST ALABAMA MEDICAL CENTER   \n",
      "1            10005     MARSHALL MEDICAL CENTER SOUTH   \n",
      "2            10006    ELIZA COFFEE MEMORIAL HOSPITAL   \n",
      "3            10007          MIZELL MEMORIAL HOSPITAL   \n",
      "4            10008       CRENSHAW COMMUNITY HOSPITAL   \n",
      "\n",
      "                          Address      City State  ZIP Code County Name  \\\n",
      "IDKey                                                                     \n",
      "0          1108 ROSS CLARK CIRCLE    DOTHAN    AL     36301     HOUSTON   \n",
      "1      2505 U S HIGHWAY 431 NORTH      BOAZ    AL     35957    MARSHALL   \n",
      "2              205 MARENGO STREET  FLORENCE    AL     35631  LAUDERDALE   \n",
      "3                   702 N MAIN ST       OPP    AL     36467   COVINGTON   \n",
      "4             101 HOSPITAL CIRCLE   LUVERNE    AL     36049    CRENSHAW   \n",
      "\n",
      "       Phone Number         Hospital Type  \\\n",
      "IDKey                                       \n",
      "0        3347938701  Acute Care Hospitals   \n",
      "1        2565938310  Acute Care Hospitals   \n",
      "2        2567688400  Acute Care Hospitals   \n",
      "3        3344933541  Acute Care Hospitals   \n",
      "4        3343353374  Acute Care Hospitals   \n",
      "\n",
      "                                Hospital Ownership  ...  \\\n",
      "IDKey                                               ...   \n",
      "0      Government - Hospital District or Authority  ...   \n",
      "1      Government - Hospital District or Authority  ...   \n",
      "2      Government - Hospital District or Authority  ...   \n",
      "3                   Voluntary non-profit - Private  ...   \n",
      "4                                      Proprietary  ...   \n",
      "\n",
      "      Readmission national comparison  \\\n",
      "IDKey                                   \n",
      "0          Below the national average   \n",
      "1          Above the national average   \n",
      "2          Below the national average   \n",
      "3          Below the national average   \n",
      "4          Above the national average   \n",
      "\n",
      "      Readmission national comparison footnote  \\\n",
      "IDKey                                            \n",
      "0                                          NaN   \n",
      "1                                          NaN   \n",
      "2                                          NaN   \n",
      "3                                          NaN   \n",
      "4                                          NaN   \n",
      "\n",
      "      Patient experience national comparison  \\\n",
      "IDKey                                          \n",
      "0                 Below the national average   \n",
      "1               Same as the national average   \n",
      "2                 Below the national average   \n",
      "3               Same as the national average   \n",
      "4                              Not Available   \n",
      "\n",
      "         Patient experience national comparison footnote  \\\n",
      "IDKey                                                      \n",
      "0                                                    NaN   \n",
      "1                                                    NaN   \n",
      "2                                                    NaN   \n",
      "3                                                    NaN   \n",
      "4      There are too few measures or measure groups r...   \n",
      "\n",
      "      Effectiveness of care national comparison  \\\n",
      "IDKey                                             \n",
      "0                  Same as the national average   \n",
      "1                  Same as the national average   \n",
      "2                  Same as the national average   \n",
      "3                    Below the national average   \n",
      "4                  Same as the national average   \n",
      "\n",
      "      Effectiveness of care national comparison footnote  \\\n",
      "IDKey                                                      \n",
      "0                                                    NaN   \n",
      "1                                                    NaN   \n",
      "2                                                    NaN   \n",
      "3                                                    NaN   \n",
      "4                                                    NaN   \n",
      "\n",
      "      Timeliness of care national comparison  \\\n",
      "IDKey                                          \n",
      "0               Same as the national average   \n",
      "1                 Above the national average   \n",
      "2                 Above the national average   \n",
      "3                 Above the national average   \n",
      "4                 Above the national average   \n",
      "\n",
      "      Timeliness of care national comparison footnote  \\\n",
      "IDKey                                                   \n",
      "0                                                 NaN   \n",
      "1                                                 NaN   \n",
      "2                                                 NaN   \n",
      "3                                                 NaN   \n",
      "4                                                 NaN   \n",
      "\n",
      "      Efficient use of medical imaging national comparison  \\\n",
      "IDKey                                                        \n",
      "0                           Same as the national average     \n",
      "1                             Below the national average     \n",
      "2                             Below the national average     \n",
      "3                                          Not Available     \n",
      "4                                          Not Available     \n",
      "\n",
      "      Efficient use of medical imaging national comparison footnote  \n",
      "IDKey                                                                \n",
      "0                                                    NaN             \n",
      "1                                                    NaN             \n",
      "2                                                    NaN             \n",
      "3      Results are not available for this reporting p...             \n",
      "4      Results are not available for this reporting p...             \n",
      "\n",
      "[5 rows x 28 columns]\n"
     ]
    }
   ],
   "source": [
    "healthDF.index.name='IDKey'\n",
    "print(healthDF.shape)\n",
    "print(healthDF.head())"
   ]
  },
  {
   "cell_type": "code",
   "execution_count": 14,
   "metadata": {},
   "outputs": [
    {
     "name": "stdout",
     "output_type": "stream",
     "text": [
      "C:\\Users\\AndreVermeulen\\Documents\\My Book\\apress\\Industrial Machine Learning\\book\\GitHub\\Upload\\industrial-machine-learning\\Results\\Chapter 14\\990-DL\\100-Raw-Zone\\14-01-Retrieve-Healthcare.csv.gz\n"
     ]
    }
   ],
   "source": [
    "print(fullRealZipName)"
   ]
  },
  {
   "cell_type": "code",
   "execution_count": 15,
   "metadata": {},
   "outputs": [],
   "source": [
    "healthDF.to_csv(fullRealZipName, index=False, encoding='utf-8', compression='gzip')"
   ]
  },
  {
   "cell_type": "code",
   "execution_count": 16,
   "metadata": {},
   "outputs": [
    {
     "name": "stdout",
     "output_type": "stream",
     "text": [
      "Start: 2019-10-26 20:07:55\n",
      "Stop:  2019-10-26 20:09:52\n",
      "Time:  0:01:57.291995\n"
     ]
    }
   ],
   "source": [
    "nowStop = datetime.datetime.now()\n",
    "runTime=nowStop-nowStart\n",
    "print('Start:', nowStart.strftime('%Y-%m-%d %H:%M:%S'))\n",
    "print('Stop: ', nowStop.strftime('%Y-%m-%d %H:%M:%S'))\n",
    "print('Time: ', runTime)"
   ]
  },
  {
   "cell_type": "code",
   "execution_count": null,
   "metadata": {},
   "outputs": [],
   "source": []
  }
 ],
 "metadata": {
  "kernelspec": {
   "display_name": "Python 3",
   "language": "python",
   "name": "python3"
  },
  "language_info": {
   "codemirror_mode": {
    "name": "ipython",
    "version": 3
   },
   "file_extension": ".py",
   "mimetype": "text/x-python",
   "name": "python",
   "nbconvert_exporter": "python",
   "pygments_lexer": "ipython3",
   "version": "3.7.3"
  }
 },
 "nbformat": 4,
 "nbformat_minor": 2
}
