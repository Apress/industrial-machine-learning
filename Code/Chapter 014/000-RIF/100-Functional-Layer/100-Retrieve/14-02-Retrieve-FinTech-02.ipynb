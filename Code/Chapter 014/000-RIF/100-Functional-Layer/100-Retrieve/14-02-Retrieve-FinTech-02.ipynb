{
 "cells": [
  {
   "cell_type": "markdown",
   "metadata": {},
   "source": [
    "## Apress - Industrialized Machine Learning Examples\n",
    "\n",
    "Andreas Francois Vermeulen\n",
    "2019\n",
    "\n",
    "### This is an example add-on to a book and needs to be accepted as part of that copyright."
   ]
  },
  {
   "cell_type": "markdown",
   "metadata": {},
   "source": [
    "# 14-02-Retrieve-FinTech-02"
   ]
  },
  {
   "cell_type": "code",
   "execution_count": 1,
   "metadata": {},
   "outputs": [],
   "source": [
    "import datetime\n",
    "nowStart = datetime.datetime.now()"
   ]
  },
  {
   "cell_type": "markdown",
   "metadata": {},
   "source": [
    "![RIF Functional Layer - Retrieve Step](../../../../../images/DV-Location.JPG)"
   ]
  },
  {
   "cell_type": "markdown",
   "metadata": {},
   "source": [
    "![RIF Functional Layer - Retrieve Step](../../../../../images/RIF-FL-RET.JPG)"
   ]
  },
  {
   "cell_type": "code",
   "execution_count": 2,
   "metadata": {},
   "outputs": [],
   "source": [
    "import pandas as pd\n",
    "import zipfile as zp\n",
    "import os"
   ]
  },
  {
   "cell_type": "code",
   "execution_count": 3,
   "metadata": {},
   "outputs": [],
   "source": [
    "dirname1 = os.path.relpath('../../../../../Results/Chapter 14/990-DL/100-Raw-Zone/')\n",
    "dirname2 = os.path.relpath('../../../../../Results/Chapter 14/990-DL/200-Structured-Zone/')"
   ]
  },
  {
   "cell_type": "markdown",
   "metadata": {},
   "source": [
    "# Create 100-Raw-Zone"
   ]
  },
  {
   "cell_type": "markdown",
   "metadata": {},
   "source": [
    "![Raw Zone](../../../../../images/DL-RZ.JPG)"
   ]
  },
  {
   "cell_type": "code",
   "execution_count": 4,
   "metadata": {},
   "outputs": [
    {
     "name": "stdout",
     "output_type": "stream",
     "text": [
      "C:\\Users\\AndreVermeulen\\Documents\\My Book\\apress\\Industrial Machine Learning\\book\\GitHub\\Upload\\industrial-machine-learning\\Results\\Chapter 14\\990-DL\\100-Raw-Zone\n"
     ]
    }
   ],
   "source": [
    "pathRealName1=os.path.realpath(dirname1)\n",
    "print(pathRealName1)"
   ]
  },
  {
   "cell_type": "code",
   "execution_count": 5,
   "metadata": {},
   "outputs": [],
   "source": [
    "if not os.path.exists(pathRealName1):\n",
    "    print('Make:', pathRealName1)\n",
    "    os.makedirs(pathRealName1)"
   ]
  },
  {
   "cell_type": "code",
   "execution_count": 6,
   "metadata": {},
   "outputs": [
    {
     "name": "stdout",
     "output_type": "stream",
     "text": [
      "C:\\Users\\AndreVermeulen\\Documents\\My Book\\apress\\Industrial Machine Learning\\book\\GitHub\\Upload\\industrial-machine-learning\\Results\\Chapter 14\\990-DL\\200-Structured-Zone\n"
     ]
    }
   ],
   "source": [
    "pathRealName2=os.path.realpath(dirname2)\n",
    "print(pathRealName2)"
   ]
  },
  {
   "cell_type": "code",
   "execution_count": 7,
   "metadata": {},
   "outputs": [],
   "source": [
    "if not os.path.exists(pathRealName2):\n",
    "    print('Make:', pathRealName2)\n",
    "    os.makedirs(pathRealName2)"
   ]
  },
  {
   "cell_type": "markdown",
   "metadata": {},
   "source": [
    "# Create FinTech"
   ]
  },
  {
   "cell_type": "code",
   "execution_count": 8,
   "metadata": {},
   "outputs": [
    {
     "name": "stdout",
     "output_type": "stream",
     "text": [
      "C:\\Users\\AndreVermeulen\\Documents\\My Book\\apress\\Industrial Machine Learning\\book\\GitHub\\Upload\\industrial-machine-learning\\Data\\Chapter 14\\000-ExternalData\\02-FinTech\n"
     ]
    }
   ],
   "source": [
    "dirDataName = os.path.relpath('../../../../../Data/Chapter 14/000-ExternalData/02-FinTech')\n",
    "pathRealDataName=os.path.realpath(dirDataName)\n",
    "print(pathRealDataName)"
   ]
  },
  {
   "cell_type": "markdown",
   "metadata": {},
   "source": [
    "## Get FinTech"
   ]
  },
  {
   "cell_type": "code",
   "execution_count": 9,
   "metadata": {},
   "outputs": [
    {
     "name": "stdout",
     "output_type": "stream",
     "text": [
      "--------------------------------------------------------------------------------\n",
      "C:\\Users\\AndreVermeulen\\Documents\\My Book\\apress\\Industrial Machine Learning\\book\\GitHub\\Upload\\industrial-machine-learning\\Data\\Chapter 14\\000-ExternalData\\02-FinTech\\EURUSD_T_201809.csv\n",
      "(1318249, 4)\n",
      "             DateTime  EuroBuyAtUSD  EuroSellAtUSD  VolumeTrade\n",
      "0  20180902 170051910       1.15951        1.15980            0\n",
      "1  20180902 170052160       1.15951        1.16000            0\n",
      "2  20180902 170103410       1.15951        1.15991            0\n",
      "3  20180902 170104160       1.15951        1.15990            0\n",
      "4  20180902 170205160       1.15950        1.15990            0\n",
      "--------------------------------------------------------------------------------\n"
     ]
    }
   ],
   "source": [
    "fileInname=os.path.abspath(os.path.join(dirDataName, 'EURUSD_T_201809.csv'))\n",
    "print('-'*80)\n",
    "print(fileInname)\n",
    "finTechRawDF = pd.read_csv(fileInname, header=0, sep=',')\n",
    "finTechRawDF.columns=['DateTime','EuroBuyAtUSD','EuroSellAtUSD','VolumeTrade']\n",
    "print(finTechRawDF.shape)\n",
    "print(finTechRawDF.head())\n",
    "print('-'*80)"
   ]
  },
  {
   "cell_type": "code",
   "execution_count": 13,
   "metadata": {},
   "outputs": [
    {
     "name": "stdout",
     "output_type": "stream",
     "text": [
      "--------------------------------------------------------------------------------\n",
      "(5000, 4)\n",
      "                   DateTime  EuroBuyAtUSD  EuroSellAtUSD  VolumeTrade\n",
      "1128458  20180926 143201787       1.17607        1.17611            0\n",
      "128950   20180905 022036687       1.15830        1.15834            0\n",
      "323378   20180907 114645187       1.15756        1.15759            0\n",
      "423388   20180911 065956163       1.15846        1.15849            0\n",
      "638928   20180916 232846927       1.16348        1.16353            0\n",
      "--------------------------------------------------------------------------------\n",
      "--------------------------------------------------------------------------------\n",
      "C:\\Users\\AndreVermeulen\\Documents\\My Book\\apress\\Industrial Machine Learning\\book\\GitHub\\Upload\\industrial-machine-learning\\Results\\Chapter 14\\990-DL\\100-Raw-Zone\\14-05-Retrieve-Fintech-01.csv\n",
      "--------------------------------------------------------------------------------\n",
      "--------------------------------------------------------------------------------\n",
      "C:\\Users\\AndreVermeulen\\Documents\\My Book\\apress\\Industrial Machine Learning\\book\\GitHub\\Upload\\industrial-machine-learning\\Results\\Chapter 14\\990-DL\\200-Structured-Zone\\14-05-Access-Fintech-01.csv\n",
      "--------------------------------------------------------------------------------\n",
      "TestTestTestTest\n",
      "             DateTime  EuroBuyAtUSD  EuroSellAtUSD  VolumeTrade\n",
      "0  20180926 143201787       1.17607        1.17611            0\n",
      "1  20180905 022036687       1.15830        1.15834            0\n",
      "2  20180907 114645187       1.15756        1.15759            0\n",
      "3  20180911 065956163       1.15846        1.15849            0\n",
      "4  20180916 232846927       1.16348        1.16353            0\n",
      "--------------------------------------------------------------------------------\n",
      "(10000, 4)\n",
      "                   DateTime  EuroBuyAtUSD  EuroSellAtUSD  VolumeTrade\n",
      "403800   20180911 014057733       1.16078        1.16080            0\n",
      "383144   20180910 111855867       1.16059        1.16062            0\n",
      "100766   20180904 112221810       1.15547        1.15549            0\n",
      "932421   20180921 104616430       1.17555        1.17557            0\n",
      "1234493  20180927 220459303       1.16452        1.16455            0\n",
      "--------------------------------------------------------------------------------\n",
      "--------------------------------------------------------------------------------\n",
      "C:\\Users\\AndreVermeulen\\Documents\\My Book\\apress\\Industrial Machine Learning\\book\\GitHub\\Upload\\industrial-machine-learning\\Results\\Chapter 14\\990-DL\\100-Raw-Zone\\14-05-Retrieve-Fintech-02.csv\n",
      "--------------------------------------------------------------------------------\n",
      "--------------------------------------------------------------------------------\n",
      "C:\\Users\\AndreVermeulen\\Documents\\My Book\\apress\\Industrial Machine Learning\\book\\GitHub\\Upload\\industrial-machine-learning\\Results\\Chapter 14\\990-DL\\200-Structured-Zone\\14-05-Access-Fintech-02.csv\n",
      "--------------------------------------------------------------------------------\n",
      "TestTestTestTest\n",
      "             DateTime  EuroBuyAtUSD  EuroSellAtUSD  VolumeTrade\n",
      "0  20180911 014057733       1.16078        1.16080            0\n",
      "1  20180910 111855867       1.16059        1.16062            0\n",
      "2  20180904 112221810       1.15547        1.15549            0\n",
      "3  20180921 104616430       1.17555        1.17557            0\n",
      "4  20180927 220459303       1.16452        1.16455            0\n",
      "--------------------------------------------------------------------------------\n",
      "(15000, 4)\n",
      "                   DateTime  EuroBuyAtUSD  EuroSellAtUSD  VolumeTrade\n",
      "1185748  20180927 063825670       1.17138        1.17140            0\n",
      "947386   20180923 202012047       1.17520        1.17523            0\n",
      "1227058  20180927 165014343       1.16409        1.16413            0\n",
      "662314   20180917 085822127       1.16852        1.16857            0\n",
      "374918   20180910 094144133       1.16024        1.16028            0\n",
      "--------------------------------------------------------------------------------\n",
      "--------------------------------------------------------------------------------\n",
      "C:\\Users\\AndreVermeulen\\Documents\\My Book\\apress\\Industrial Machine Learning\\book\\GitHub\\Upload\\industrial-machine-learning\\Results\\Chapter 14\\990-DL\\100-Raw-Zone\\14-05-Retrieve-Fintech-03.csv\n",
      "--------------------------------------------------------------------------------\n",
      "--------------------------------------------------------------------------------\n",
      "C:\\Users\\AndreVermeulen\\Documents\\My Book\\apress\\Industrial Machine Learning\\book\\GitHub\\Upload\\industrial-machine-learning\\Results\\Chapter 14\\990-DL\\200-Structured-Zone\\14-05-Access-Fintech-03.csv\n",
      "--------------------------------------------------------------------------------\n",
      "TestTestTestTest\n",
      "             DateTime  EuroBuyAtUSD  EuroSellAtUSD  VolumeTrade\n",
      "0  20180927 063825670       1.17138        1.17140            0\n",
      "1  20180923 202012047       1.17520        1.17523            0\n",
      "2  20180927 165014343       1.16409        1.16413            0\n",
      "3  20180917 085822127       1.16852        1.16857            0\n",
      "4  20180910 094144133       1.16024        1.16028            0\n",
      "--------------------------------------------------------------------------------\n",
      "(20000, 4)\n",
      "                   DateTime  EuroBuyAtUSD  EuroSellAtUSD  VolumeTrade\n",
      "416524   20180911 050145683       1.16133        1.16139            0\n",
      "39301    20180903 112410257       1.16233        1.16237            0\n",
      "443589   20180911 113232117       1.15874        1.15878            0\n",
      "1060850  20180925 111921240       1.17730        1.17732            0\n",
      "1029746  20180925 041915310       1.17402        1.17407            0\n",
      "--------------------------------------------------------------------------------\n",
      "--------------------------------------------------------------------------------\n",
      "C:\\Users\\AndreVermeulen\\Documents\\My Book\\apress\\Industrial Machine Learning\\book\\GitHub\\Upload\\industrial-machine-learning\\Results\\Chapter 14\\990-DL\\100-Raw-Zone\\14-05-Retrieve-Fintech-04.csv\n",
      "--------------------------------------------------------------------------------\n",
      "--------------------------------------------------------------------------------\n",
      "C:\\Users\\AndreVermeulen\\Documents\\My Book\\apress\\Industrial Machine Learning\\book\\GitHub\\Upload\\industrial-machine-learning\\Results\\Chapter 14\\990-DL\\200-Structured-Zone\\14-05-Access-Fintech-04.csv\n",
      "--------------------------------------------------------------------------------\n",
      "TestTestTestTest\n",
      "             DateTime  EuroBuyAtUSD  EuroSellAtUSD  VolumeTrade\n",
      "0  20180911 050145683       1.16133        1.16139            0\n",
      "1  20180903 112410257       1.16233        1.16237            0\n",
      "2  20180911 113232117       1.15874        1.15878            0\n",
      "3  20180925 111921240       1.17730        1.17732            0\n",
      "4  20180925 041915310       1.17402        1.17407            0\n",
      "--------------------------------------------------------------------------------\n",
      "(25000, 4)\n",
      "                   DateTime  EuroBuyAtUSD  EuroSellAtUSD  VolumeTrade\n",
      "696819   20180918 015704990       1.17016        1.17021            0\n",
      "129101   20180905 022226687       1.15776        1.15780            0\n",
      "1144192  20180926 203055743       1.17555        1.17559            0\n",
      "774042   20180919 045713810       1.17019        1.17023            0\n",
      "1055036  20180925 101525497       1.17891        1.17895            0\n",
      "--------------------------------------------------------------------------------\n",
      "--------------------------------------------------------------------------------\n",
      "C:\\Users\\AndreVermeulen\\Documents\\My Book\\apress\\Industrial Machine Learning\\book\\GitHub\\Upload\\industrial-machine-learning\\Results\\Chapter 14\\990-DL\\100-Raw-Zone\\14-05-Retrieve-Fintech-05.csv\n",
      "--------------------------------------------------------------------------------\n",
      "--------------------------------------------------------------------------------\n",
      "C:\\Users\\AndreVermeulen\\Documents\\My Book\\apress\\Industrial Machine Learning\\book\\GitHub\\Upload\\industrial-machine-learning\\Results\\Chapter 14\\990-DL\\200-Structured-Zone\\14-05-Access-Fintech-05.csv\n",
      "--------------------------------------------------------------------------------\n",
      "TestTestTestTest\n",
      "             DateTime  EuroBuyAtUSD  EuroSellAtUSD  VolumeTrade\n",
      "0  20180918 015704990       1.17016        1.17021            0\n",
      "1  20180905 022226687       1.15776        1.15780            0\n",
      "2  20180926 203055743       1.17555        1.17559            0\n",
      "3  20180919 045713810       1.17019        1.17023            0\n",
      "4  20180925 101525497       1.17891        1.17895            0\n",
      "--------------------------------------------------------------------------------\n",
      "(30000, 4)\n",
      "                   DateTime  EuroBuyAtUSD  EuroSellAtUSD  VolumeTrade\n",
      "1216761  20180927 125217373       1.16812        1.16814            0\n",
      "580027   20180913 192355093       1.16957        1.16961            0\n",
      "475287   20180912 052143947       1.15900        1.15905            0\n",
      "1044697  20180925 075535267       1.17813        1.17817            0\n"
     ]
    },
    {
     "name": "stdout",
     "output_type": "stream",
     "text": [
      "716970   20180918 070246707       1.16837        1.16840            0\n",
      "--------------------------------------------------------------------------------\n",
      "--------------------------------------------------------------------------------\n",
      "C:\\Users\\AndreVermeulen\\Documents\\My Book\\apress\\Industrial Machine Learning\\book\\GitHub\\Upload\\industrial-machine-learning\\Results\\Chapter 14\\990-DL\\100-Raw-Zone\\14-05-Retrieve-Fintech-06.csv\n",
      "--------------------------------------------------------------------------------\n",
      "--------------------------------------------------------------------------------\n",
      "C:\\Users\\AndreVermeulen\\Documents\\My Book\\apress\\Industrial Machine Learning\\book\\GitHub\\Upload\\industrial-machine-learning\\Results\\Chapter 14\\990-DL\\200-Structured-Zone\\14-05-Access-Fintech-06.csv\n",
      "--------------------------------------------------------------------------------\n",
      "TestTestTestTest\n",
      "             DateTime  EuroBuyAtUSD  EuroSellAtUSD  VolumeTrade\n",
      "0  20180927 125217373       1.16812        1.16814            0\n",
      "1  20180913 192355093       1.16957        1.16961            0\n",
      "2  20180912 052143947       1.15900        1.15905            0\n",
      "3  20180925 075535267       1.17813        1.17817            0\n",
      "4  20180918 070246707       1.16837        1.16840            0\n",
      "--------------------------------------------------------------------------------\n",
      "(35000, 4)\n",
      "                  DateTime  EuroBuyAtUSD  EuroSellAtUSD  VolumeTrade\n",
      "261280  20180906 150604887       1.16248        1.16253            0\n",
      "227833  20180906 075410693       1.16364        1.16367            0\n",
      "777626  20180919 055910303       1.16997        1.17001            0\n",
      "998790  20180924 125039670       1.17661        1.17663            0\n",
      "961444  20180924 035457257       1.17381        1.17385            0\n",
      "--------------------------------------------------------------------------------\n",
      "--------------------------------------------------------------------------------\n",
      "C:\\Users\\AndreVermeulen\\Documents\\My Book\\apress\\Industrial Machine Learning\\book\\GitHub\\Upload\\industrial-machine-learning\\Results\\Chapter 14\\990-DL\\100-Raw-Zone\\14-05-Retrieve-Fintech-07.csv\n",
      "--------------------------------------------------------------------------------\n",
      "--------------------------------------------------------------------------------\n",
      "C:\\Users\\AndreVermeulen\\Documents\\My Book\\apress\\Industrial Machine Learning\\book\\GitHub\\Upload\\industrial-machine-learning\\Results\\Chapter 14\\990-DL\\200-Structured-Zone\\14-05-Access-Fintech-07.csv\n",
      "--------------------------------------------------------------------------------\n",
      "TestTestTestTest\n",
      "             DateTime  EuroBuyAtUSD  EuroSellAtUSD  VolumeTrade\n",
      "0  20180906 150604887       1.16248        1.16253            0\n",
      "1  20180906 075410693       1.16364        1.16367            0\n",
      "2  20180919 055910303       1.16997        1.17001            0\n",
      "3  20180924 125039670       1.17661        1.17663            0\n",
      "4  20180924 035457257       1.17381        1.17385            0\n",
      "--------------------------------------------------------------------------------\n",
      "(40000, 4)\n",
      "                   DateTime  EuroBuyAtUSD  EuroSellAtUSD  VolumeTrade\n",
      "243261   20180906 104600420       1.16420        1.16424            0\n",
      "653228   20180917 061149880       1.16527        1.16530            0\n",
      "145622   20180905 060731153       1.15747        1.15751            0\n",
      "838303   20180920 050231637       1.16913        1.16916            0\n",
      "1145500  20180926 210617240       1.17546        1.17549            0\n",
      "--------------------------------------------------------------------------------\n",
      "--------------------------------------------------------------------------------\n",
      "C:\\Users\\AndreVermeulen\\Documents\\My Book\\apress\\Industrial Machine Learning\\book\\GitHub\\Upload\\industrial-machine-learning\\Results\\Chapter 14\\990-DL\\100-Raw-Zone\\14-05-Retrieve-Fintech-08.csv\n",
      "--------------------------------------------------------------------------------\n",
      "--------------------------------------------------------------------------------\n",
      "C:\\Users\\AndreVermeulen\\Documents\\My Book\\apress\\Industrial Machine Learning\\book\\GitHub\\Upload\\industrial-machine-learning\\Results\\Chapter 14\\990-DL\\200-Structured-Zone\\14-05-Access-Fintech-08.csv\n",
      "--------------------------------------------------------------------------------\n",
      "TestTestTestTest\n",
      "             DateTime  EuroBuyAtUSD  EuroSellAtUSD  VolumeTrade\n",
      "0  20180906 104600420       1.16420        1.16424            0\n",
      "1  20180917 061149880       1.16527        1.16530            0\n",
      "2  20180905 060731153       1.15747        1.15751            0\n",
      "3  20180920 050231637       1.16913        1.16916            0\n",
      "4  20180926 210617240       1.17546        1.17549            0\n",
      "--------------------------------------------------------------------------------\n",
      "(45000, 4)\n",
      "                   DateTime  EuroBuyAtUSD  EuroSellAtUSD  VolumeTrade\n",
      "821914   20180919 220502190       1.16830        1.16834            0\n",
      "986043   20180924 094840460       1.18062        1.18064            0\n",
      "779351   20180919 063458050       1.16993        1.16999            0\n",
      "1119711  20180926 123331550       1.17456        1.17460            0\n",
      "1079780  20180926 001027390       1.17651        1.17655            0\n",
      "--------------------------------------------------------------------------------\n",
      "--------------------------------------------------------------------------------\n",
      "C:\\Users\\AndreVermeulen\\Documents\\My Book\\apress\\Industrial Machine Learning\\book\\GitHub\\Upload\\industrial-machine-learning\\Results\\Chapter 14\\990-DL\\100-Raw-Zone\\14-05-Retrieve-Fintech-09.csv\n",
      "--------------------------------------------------------------------------------\n",
      "--------------------------------------------------------------------------------\n",
      "C:\\Users\\AndreVermeulen\\Documents\\My Book\\apress\\Industrial Machine Learning\\book\\GitHub\\Upload\\industrial-machine-learning\\Results\\Chapter 14\\990-DL\\200-Structured-Zone\\14-05-Access-Fintech-09.csv\n",
      "--------------------------------------------------------------------------------\n",
      "TestTestTestTest\n",
      "             DateTime  EuroBuyAtUSD  EuroSellAtUSD  VolumeTrade\n",
      "0  20180919 220502190       1.16830        1.16834            0\n",
      "1  20180924 094840460       1.18062        1.18064            0\n",
      "2  20180919 063458050       1.16993        1.16999            0\n",
      "3  20180926 123331550       1.17456        1.17460            0\n",
      "4  20180926 001027390       1.17651        1.17655            0\n"
     ]
    }
   ],
   "source": [
    "for t in range(1,10,1):\n",
    "    finTechDF=finTechRawDF.sample(n=(5000*t), random_state=(1968+t))\n",
    "    finTechDF.columns=['DateTime','EuroBuyAtUSD','EuroSellAtUSD','VolumeTrade']\n",
    "    print('-'*80)\n",
    "    print(finTechDF.shape)\n",
    "    print(finTechDF.head())\n",
    "    print('-'*80)\n",
    "\n",
    "    fileOutname='14-05-Retrieve-Fintech-%02d.csv' % t\n",
    "    fullRealName = os.path.abspath(os.path.join(dirname1, fileOutname))        \n",
    "    finTechDF.to_csv(fullRealName, header=True, index=False, encoding='utf-8', compression=None, sep=',')\n",
    "    print('-'*80)\n",
    "    print(fullRealName)\n",
    "    print('-'*80)\n",
    "\n",
    "\n",
    "    fileOutname='14-05-Access-Fintech-%02d.csv' % t\n",
    "    fullRealName = os.path.abspath(os.path.join(dirname2, fileOutname))        \n",
    "    finTechDF.to_csv(fullRealName, header=True, index=False, encoding='utf-8', compression=None, sep=',')\n",
    "    print('-'*80)\n",
    "    print(fullRealName)\n",
    "    print('-'*80)\n",
    "    \n",
    "    print('Test'*4)\n",
    "    finTechTestDF=pd.read_csv(fullRealName)\n",
    "    print(finTechTestDF.head())"
   ]
  },
  {
   "cell_type": "code",
   "execution_count": 11,
   "metadata": {},
   "outputs": [
    {
     "name": "stdout",
     "output_type": "stream",
     "text": [
      "Start: 2019-10-26 21:39:11\n",
      "Stop:  2019-10-26 21:39:17\n",
      "Time:  0:00:05.970000\n"
     ]
    }
   ],
   "source": [
    "nowStop = datetime.datetime.now()\n",
    "runTime=nowStop-nowStart\n",
    "print('Start:', nowStart.strftime('%Y-%m-%d %H:%M:%S'))\n",
    "print('Stop: ', nowStop.strftime('%Y-%m-%d %H:%M:%S'))\n",
    "print('Time: ', runTime)"
   ]
  },
  {
   "cell_type": "code",
   "execution_count": null,
   "metadata": {},
   "outputs": [],
   "source": []
  }
 ],
 "metadata": {
  "kernelspec": {
   "display_name": "Python 3",
   "language": "python",
   "name": "python3"
  },
  "language_info": {
   "codemirror_mode": {
    "name": "ipython",
    "version": 3
   },
   "file_extension": ".py",
   "mimetype": "text/x-python",
   "name": "python",
   "nbconvert_exporter": "python",
   "pygments_lexer": "ipython3",
   "version": "3.7.3"
  }
 },
 "nbformat": 4,
 "nbformat_minor": 2
}
