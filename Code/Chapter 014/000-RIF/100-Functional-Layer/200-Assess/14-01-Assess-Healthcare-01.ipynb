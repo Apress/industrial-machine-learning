{
 "cells": [
  {
   "cell_type": "markdown",
   "metadata": {},
   "source": [
    "## Apress - Industrialized Machine Learning Examples\n",
    "\n",
    "Andreas Francois Vermeulen\n",
    "2019\n",
    "\n",
    "### This is an example add-on to a book and needs to be accepted as part of that copyright."
   ]
  },
  {
   "cell_type": "markdown",
   "metadata": {},
   "source": [
    "# 14-01-Assess-Healthcare-01"
   ]
  },
  {
   "cell_type": "code",
   "execution_count": 1,
   "metadata": {},
   "outputs": [],
   "source": [
    "import datetime\n",
    "nowStart = datetime.datetime.now()"
   ]
  },
  {
   "cell_type": "markdown",
   "metadata": {},
   "source": [
    "![RIF Functional Layer - Assess Step](../../../../../images/DV-Location.JPG)"
   ]
  },
  {
   "cell_type": "markdown",
   "metadata": {},
   "source": [
    "![RIF Functional Layer - Assess Step](../../../../../images/RIF-FL-ASS.JPG)"
   ]
  },
  {
   "cell_type": "code",
   "execution_count": 2,
   "metadata": {},
   "outputs": [
    {
     "name": "stdout",
     "output_type": "stream",
     "text": [
      "14-01-Assess-Healthcare.csv.gz\n"
     ]
    }
   ],
   "source": [
    "dirname = '../../../../Chapter 014/990-DL/200-Structured-Zone/'\n",
    "filename='14-01-Assess-Healthcare.csv'\n",
    "fileZipname=filename + '.gz'\n",
    "print(fileZipname)"
   ]
  },
  {
   "cell_type": "code",
   "execution_count": 3,
   "metadata": {},
   "outputs": [],
   "source": [
    "import pandas as pd\n",
    "import os"
   ]
  },
  {
   "cell_type": "markdown",
   "metadata": {},
   "source": [
    "# Load Healthcare"
   ]
  },
  {
   "cell_type": "code",
   "execution_count": 4,
   "metadata": {},
   "outputs": [
    {
     "name": "stdout",
     "output_type": "stream",
     "text": [
      "C:\\Users\\sirve\\OneDrive\\My Documents\\My Book\\Code\\Chapter 014\\990-DL\\100-Raw-Zone\n"
     ]
    }
   ],
   "source": [
    "dirDataName = '../../../../Chapter 014/990-DL/100-Raw-Zone/'\n",
    "pathRealDataName=os.path.realpath(dirDataName)\n",
    "print(pathRealDataName)"
   ]
  },
  {
   "cell_type": "code",
   "execution_count": 5,
   "metadata": {},
   "outputs": [
    {
     "name": "stdout",
     "output_type": "stream",
     "text": [
      "C:\\Users\\sirve\\OneDrive\\My Documents\\My Book\\Code\\Chapter 014\\990-DL\\100-Raw-Zone\\14-01-Retrieve-Healthcare.csv.gz\n"
     ]
    }
   ],
   "source": [
    "fileDataName='14-01-Retrieve-Healthcare.csv.gz'\n",
    "fileFullDataName= os.path.join(pathRealDataName, fileDataName)\n",
    "print(fileFullDataName)"
   ]
  },
  {
   "cell_type": "code",
   "execution_count": 6,
   "metadata": {},
   "outputs": [
    {
     "name": "stdout",
     "output_type": "stream",
     "text": [
      "(4793, 28)\n"
     ]
    }
   ],
   "source": [
    "healthFullDF= pd.read_csv(fileFullDataName, encoding='utf-8', compression='gzip')\n",
    "print(healthFullDF.shape)"
   ]
  },
  {
   "cell_type": "code",
   "execution_count": 7,
   "metadata": {},
   "outputs": [
    {
     "name": "stdout",
     "output_type": "stream",
     "text": [
      "Index(['Provider ID', 'Hospital Name', 'Address', 'City', 'State', 'ZIP Code',\n",
      "       'County Name', 'Phone Number', 'Hospital Type', 'Hospital Ownership',\n",
      "       'Emergency Services', 'Meets criteria for meaningful use of EHRs',\n",
      "       'Hospital overall rating', 'Hospital overall rating footnote',\n",
      "       'Mortality national comparison',\n",
      "       'Mortality national comparison footnote',\n",
      "       'Safety of care national comparison',\n",
      "       'Safety of care national comparison footnote',\n",
      "       'Readmission national comparison',\n",
      "       'Readmission national comparison footnote',\n",
      "       'Patient experience national comparison',\n",
      "       'Patient experience national comparison footnote',\n",
      "       'Effectiveness of care national comparison',\n",
      "       'Effectiveness of care national comparison footnote',\n",
      "       'Timeliness of care national comparison',\n",
      "       'Timeliness of care national comparison footnote',\n",
      "       'Efficient use of medical imaging national comparison',\n",
      "       'Efficient use of medical imaging national comparison footnote'],\n",
      "      dtype='object')\n"
     ]
    }
   ],
   "source": [
    "print(healthFullDF.columns)"
   ]
  },
  {
   "cell_type": "markdown",
   "metadata": {},
   "source": [
    "# Perform Data Quality Checks"
   ]
  },
  {
   "cell_type": "code",
   "execution_count": 8,
   "metadata": {},
   "outputs": [],
   "source": [
    "columnnames = ['Provider ID', 'Hospital Name', 'Address', 'City', 'State', 'ZIP Code',\n",
    "       'County Name', 'Phone Number', 'Hospital Type', 'Hospital Ownership',\n",
    "       'Emergency Services', 'Meets criteria for meaningful use of EHRs',\n",
    "       'Hospital overall rating', 'Mortality national comparison',\n",
    "       'Safety of care national comparison',\n",
    "       'Readmission national comparison',\n",
    "       'Patient experience national comparison',\n",
    "       'Effectiveness of care national comparison',\n",
    "       'Timeliness of care national comparison',\n",
    "       'Efficient use of medical imaging national comparison']"
   ]
  },
  {
   "cell_type": "code",
   "execution_count": 9,
   "metadata": {},
   "outputs": [
    {
     "name": "stdout",
     "output_type": "stream",
     "text": [
      "A (4793, 20)\n",
      "E (4793, 20)\n"
     ]
    }
   ],
   "source": [
    "A=healthFullDF[columnnames]\n",
    "print('A',A.shape)\n",
    "\n",
    "E=A.drop_duplicates(keep='last')\n",
    "print('E',E.shape)"
   ]
  },
  {
   "cell_type": "markdown",
   "metadata": {},
   "source": [
    "# Create Clean Data"
   ]
  },
  {
   "cell_type": "code",
   "execution_count": 10,
   "metadata": {},
   "outputs": [],
   "source": [
    "healthFinalDF=E"
   ]
  },
  {
   "cell_type": "markdown",
   "metadata": {},
   "source": [
    "# Create 200-Structured-Zone"
   ]
  },
  {
   "cell_type": "markdown",
   "metadata": {},
   "source": [
    "![Structured Zone](../../../../../images/DL-SZ.JPG)"
   ]
  },
  {
   "cell_type": "code",
   "execution_count": 11,
   "metadata": {},
   "outputs": [
    {
     "name": "stdout",
     "output_type": "stream",
     "text": [
      "C:\\Users\\sirve\\OneDrive\\My Documents\\My Book\\Code\\Chapter 014\\990-DL\\200-Structured-Zone\n"
     ]
    }
   ],
   "source": [
    "pathRealName=os.path.realpath(dirname)\n",
    "print(pathRealName)\n",
    "fullRealZipName = os.path.join(pathRealName, fileZipname)"
   ]
  },
  {
   "cell_type": "code",
   "execution_count": 12,
   "metadata": {},
   "outputs": [],
   "source": [
    "if not os.path.exists(pathRealName):\n",
    "    print('Make:', pathRealName)\n",
    "    os.makedirs(pathRealName)"
   ]
  },
  {
   "cell_type": "markdown",
   "metadata": {},
   "source": [
    "# Save Location"
   ]
  },
  {
   "cell_type": "code",
   "execution_count": 13,
   "metadata": {},
   "outputs": [
    {
     "name": "stdout",
     "output_type": "stream",
     "text": [
      "C:\\Users\\sirve\\OneDrive\\My Documents\\My Book\\Code\\Chapter 014\\990-DL\\200-Structured-Zone\\14-01-Assess-Healthcare.csv.gz\n"
     ]
    }
   ],
   "source": [
    "healthFinalDF.to_csv(fullRealZipName, index=False, encoding='utf-8', compression='gzip')\n",
    "print(fullRealZipName)"
   ]
  },
  {
   "cell_type": "code",
   "execution_count": 14,
   "metadata": {},
   "outputs": [
    {
     "name": "stdout",
     "output_type": "stream",
     "text": [
      "Start: 2019-05-01 22:27:21\n",
      "Stop:  2019-05-01 22:27:22\n",
      "Time:  0:00:01.572285\n"
     ]
    }
   ],
   "source": [
    "nowStop = datetime.datetime.now()\n",
    "runTime=nowStop-nowStart\n",
    "print('Start:', nowStart.strftime('%Y-%m-%d %H:%M:%S'))\n",
    "print('Stop: ', nowStop.strftime('%Y-%m-%d %H:%M:%S'))\n",
    "print('Time: ', runTime)"
   ]
  },
  {
   "cell_type": "code",
   "execution_count": null,
   "metadata": {},
   "outputs": [],
   "source": []
  }
 ],
 "metadata": {
  "kernelspec": {
   "display_name": "Python 3",
   "language": "python",
   "name": "python3"
  },
  "language_info": {
   "codemirror_mode": {
    "name": "ipython",
    "version": 3
   },
   "file_extension": ".py",
   "mimetype": "text/x-python",
   "name": "python",
   "nbconvert_exporter": "python",
   "pygments_lexer": "ipython3",
   "version": "3.7.3"
  }
 },
 "nbformat": 4,
 "nbformat_minor": 2
}
