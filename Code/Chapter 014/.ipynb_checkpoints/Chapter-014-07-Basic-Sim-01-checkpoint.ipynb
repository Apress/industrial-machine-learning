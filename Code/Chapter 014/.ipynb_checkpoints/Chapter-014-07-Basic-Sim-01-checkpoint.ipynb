{
 "cells": [
  {
   "cell_type": "markdown",
   "metadata": {},
   "source": [
    "## Apress - Industrialized Machine Learning Examples\n",
    "\n",
    "Andreas Francois Vermeulen\n",
    "2019\n",
    "\n",
    "### This is an example add-on to a book and needs to be accepted as part of that copyright."
   ]
  },
  {
   "cell_type": "markdown",
   "metadata": {},
   "source": [
    "# Chapter-014-07-Basic-Sim-01"
   ]
  },
  {
   "cell_type": "code",
   "execution_count": 1,
   "metadata": {},
   "outputs": [],
   "source": [
    "# !pip install simpy"
   ]
  },
  {
   "cell_type": "code",
   "execution_count": 2,
   "metadata": {},
   "outputs": [],
   "source": [
    "import simpy"
   ]
  },
  {
   "cell_type": "code",
   "execution_count": 3,
   "metadata": {},
   "outputs": [
    {
     "data": {
      "text/html": [
       "<style>.container { width:50% !important; }</style>"
      ],
      "text/plain": [
       "<IPython.core.display.HTML object>"
      ]
     },
     "metadata": {},
     "output_type": "display_data"
    }
   ],
   "source": [
    "from IPython.core.display import display, HTML\n",
    "display(HTML(\"<style>.container { width:50% !important; }</style>\"))"
   ]
  },
  {
   "cell_type": "markdown",
   "metadata": {},
   "source": [
    "![Clock](../../images/clock.gif)"
   ]
  },
  {
   "cell_type": "code",
   "execution_count": 4,
   "metadata": {},
   "outputs": [],
   "source": [
    "def clock(env, name, tick):\n",
    "    while True:\n",
    "        print('%6.3f > %s' % (env.now, name))\n",
    "        yield env.timeout(tick)"
   ]
  },
  {
   "cell_type": "code",
   "execution_count": 5,
   "metadata": {},
   "outputs": [
    {
     "name": "stdout",
     "output_type": "stream",
     "text": [
      " 0.000 > Very fast\n",
      " 0.000 > Fast\n",
      " 0.000 > Slow\n",
      " 0.000 > Very slow\n",
      " 0.250 > Very fast\n",
      " 0.500 > Fast\n",
      " 0.500 > Very fast\n",
      " 0.750 > Very fast\n",
      " 1.000 > Slow\n",
      " 1.000 > Fast\n",
      " 1.000 > Very fast\n",
      " 1.250 > Very fast\n",
      " 1.500 > Fast\n",
      " 1.500 > Very fast\n",
      " 1.750 > Very fast\n",
      " 2.000 > Very slow\n",
      " 2.000 > Slow\n",
      " 2.000 > Fast\n",
      " 2.000 > Very fast\n",
      " 2.250 > Very fast\n",
      " 2.500 > Fast\n",
      " 2.500 > Very fast\n",
      " 2.750 > Very fast\n"
     ]
    }
   ],
   "source": [
    "env = simpy.Environment()\n",
    "env.process(clock(env, 'Very fast', 0.25))\n",
    "env.process(clock(env, 'Fast', 0.5))\n",
    "env.process(clock(env, 'Slow', 1))\n",
    "env.process(clock(env, 'Very slow', 2))\n",
    "env.run(until=3)"
   ]
  },
  {
   "cell_type": "markdown",
   "metadata": {},
   "source": [
    "## Done"
   ]
  },
  {
   "cell_type": "code",
   "execution_count": 6,
   "metadata": {},
   "outputs": [
    {
     "name": "stdout",
     "output_type": "stream",
     "text": [
      "('Done!', '2019-05-03 15:04:40.096000')\n"
     ]
    }
   ],
   "source": [
    "import datetime\n",
    "now = datetime.datetime.now()\n",
    "print('Done!',str(now))"
   ]
  }
 ],
 "metadata": {
  "kernelspec": {
   "display_name": "Python 3",
   "language": "python",
   "name": "python3"
  },
  "language_info": {
   "codemirror_mode": {
    "name": "ipython",
    "version": 3
   },
   "file_extension": ".py",
   "mimetype": "text/x-python",
   "name": "python",
   "nbconvert_exporter": "python",
   "pygments_lexer": "ipython3",
   "version": "3.7.3"
  }
 },
 "nbformat": 4,
 "nbformat_minor": 2
}
