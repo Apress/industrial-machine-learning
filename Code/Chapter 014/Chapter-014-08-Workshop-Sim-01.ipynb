{
 "cells": [
  {
   "cell_type": "markdown",
   "metadata": {},
   "source": [
    "## Apress - Industrialized Machine Learning Examples\n",
    "\n",
    "Andreas Francois Vermeulen\n",
    "2019\n",
    "\n",
    "### This is an example add-on to a book and needs to be accepted as part of that copyright."
   ]
  },
  {
   "cell_type": "markdown",
   "metadata": {},
   "source": [
    "# Chapter-014-08-Workshop-Sim-01"
   ]
  },
  {
   "cell_type": "markdown",
   "metadata": {},
   "source": [
    "![car](../../images/car-workshop7.jpg)"
   ]
  },
  {
   "cell_type": "code",
   "execution_count": 1,
   "metadata": {},
   "outputs": [],
   "source": [
    "import random\n",
    "import simpy\n",
    "RANDOM_SEED = 1963\n",
    "SIM_TIME = 25"
   ]
  },
  {
   "cell_type": "code",
   "execution_count": 2,
   "metadata": {},
   "outputs": [
    {
     "data": {
      "application/javascript": [
       "IPython.OutputArea.auto_scroll_threshold = 9999;"
      ],
      "text/plain": [
       "<IPython.core.display.Javascript object>"
      ]
     },
     "metadata": {},
     "output_type": "display_data"
    }
   ],
   "source": [
    "%%javascript\n",
    "IPython.OutputArea.auto_scroll_threshold = 9999;"
   ]
  },
  {
   "cell_type": "code",
   "execution_count": 3,
   "metadata": {},
   "outputs": [],
   "source": [
    "class MultiWorkFlow(object):\n",
    "    def __init__(self, env, capacity=simpy.core.Infinity):\n",
    "        self.env = env\n",
    "        self.capacity = capacity\n",
    "        self.pipes = []\n",
    "\n",
    "    def put(self, value):\n",
    "        if not self.pipes:\n",
    "            raise RuntimeError('There are no output workflow.')\n",
    "        events = [store.put(value) for store in self.pipes]\n",
    "        return self.env.all_of(events)  # Condition event for all \"events\"\n",
    "\n",
    "    def get_output_conn(self):\n",
    "        pipe = simpy.Store(self.env, capacity=self.capacity)\n",
    "        self.pipes.append(pipe)\n",
    "        return pipe"
   ]
  },
  {
   "cell_type": "code",
   "execution_count": 4,
   "metadata": {},
   "outputs": [],
   "source": [
    "def FrontDesk(name, env, out_pipe):\n",
    "    while True:\n",
    "        # wait for next transmission\n",
    "        yield env.timeout(random.randint(4, 6))\n",
    "        msg = (env.now, '%s book in work at %d' % (name, env.now))\n",
    "        out_pipe.put(msg)"
   ]
  },
  {
   "cell_type": "code",
   "execution_count": 5,
   "metadata": {},
   "outputs": [],
   "source": [
    "def WorkshopStaff(name, env, in_pipe):\n",
    "    while True:\n",
    "        # Get event for message pipe\n",
    "        msg = yield in_pipe.get()\n",
    "\n",
    "        if msg[0] < env.now:\n",
    "            print('LATE Work Order: at time %d: %s not completed work: %s' %\n",
    "                  (env.now, name, msg[1]))\n",
    "\n",
    "        else:\n",
    "            # message_consumer is synchronized with message_generator\n",
    "            print('at time %d: %s completed work: %s.' %\n",
    "                  (env.now, name, msg[1]))\n",
    "\n",
    "        # Things happen and goes wrong!!\n",
    "        yield env.timeout(random.randint(2, 12))"
   ]
  },
  {
   "cell_type": "markdown",
   "metadata": {},
   "source": [
    "## Simulation One - Small startup"
   ]
  },
  {
   "cell_type": "code",
   "execution_count": 6,
   "metadata": {},
   "outputs": [
    {
     "name": "stdout",
     "output_type": "stream",
     "text": [
      "Small Shop\n",
      "\n",
      "One-to-one Workflow\n",
      "\n",
      "at time 5: Worker completed work: FrontDesk book in work at 5.\n",
      "LATE Work Order: at time 10: Worker not completed work: FrontDesk book in work at 9\n",
      "at time 13: Worker completed work: FrontDesk book in work at 13.\n",
      "at time 18: Worker completed work: FrontDesk book in work at 18.\n"
     ]
    }
   ],
   "source": [
    "# Setup and start the simulation\n",
    "print('Small Shop')\n",
    "random.seed(RANDOM_SEED)\n",
    "env01 = simpy.Environment()\n",
    "\n",
    "# You only have two staff - One on frontdesk - one worker.\n",
    "\n",
    "pipe101 = simpy.Store(env01)\n",
    "\n",
    "env01.process(FrontDesk('FrontDesk', env01, pipe101))\n",
    "\n",
    "env01.process(WorkshopStaff('Worker', env01, pipe101))\n",
    "\n",
    "print('\\nOne-to-one Workflow\\n')\n",
    "env01.run(until=SIM_TIME)"
   ]
  },
  {
   "cell_type": "markdown",
   "metadata": {},
   "source": [
    "## Simulation Two - Multi-Workflow Workshop"
   ]
  },
  {
   "cell_type": "code",
   "execution_count": 7,
   "metadata": {},
   "outputs": [
    {
     "name": "stdout",
     "output_type": "stream",
     "text": [
      "\n",
      "Multi-flow Workshop\n",
      "\n",
      "at time 4: Salesperson A completed work: Frontdesk - Sales book in work at 4.\n",
      "at time 4: Salesperson B completed work: Frontdesk - Sales book in work at 4.\n",
      "at time 4: Workshop Worker 000 completed work: Frontdesk - Workshop book in work at 4.\n",
      "at time 4: Workshop Worker 001 completed work: Frontdesk - Workshop book in work at 4.\n",
      "at time 5: Supplierperson A completed work: Frontdesk - Suppliers book in work at 5.\n",
      "at time 5: Supplierperson B completed work: Frontdesk - Suppliers book in work at 5.\n",
      "at time 8: Workshop Worker 001 completed work: Frontdesk - Workshop book in work at 8.\n",
      "at time 9: Salesperson B completed work: Frontdesk - Sales book in work at 9.\n",
      "LATE Work Order: at time 9: Workshop Worker 000 not completed work: Frontdesk - Workshop book in work at 8\n",
      "at time 9: Supplierperson A completed work: Frontdesk - Suppliers book in work at 9.\n",
      "LATE Work Order: at time 15: Supplierperson B not completed work: Frontdesk - Suppliers book in work at 9\n",
      "LATE Work Order: at time 16: Salesperson A not completed work: Frontdesk - Sales book in work at 9\n",
      "LATE Work Order: at time 18: Workshop Worker 001 not completed work: Frontdesk - Workshop book in work at 13\n",
      "LATE Work Order: at time 18: Salesperson A not completed work: Frontdesk - Sales book in work at 14\n",
      "LATE Work Order: at time 19: Supplierperson A not completed work: Frontdesk - Suppliers book in work at 15\n",
      "LATE Work Order: at time 20: Salesperson B not completed work: Frontdesk - Sales book in work at 14\n",
      "LATE Work Order: at time 21: Workshop Worker 000 not completed work: Frontdesk - Workshop book in work at 13\n",
      "LATE Work Order: at time 22: Supplierperson B not completed work: Frontdesk - Suppliers book in work at 15\n",
      "LATE Work Order: at time 23: Salesperson A not completed work: Frontdesk - Sales book in work at 20\n",
      "LATE Work Order: at time 23: Salesperson B not completed work: Frontdesk - Sales book in work at 20\n",
      "LATE Work Order: at time 24: Workshop Worker 001 not completed work: Frontdesk - Workshop book in work at 19\n",
      "LATE Work Order: at time 24: Supplierperson A not completed work: Frontdesk - Suppliers book in work at 21\n",
      "LATE Work Order: at time 24: Supplierperson B not completed work: Frontdesk - Suppliers book in work at 21\n"
     ]
    }
   ],
   "source": [
    "# Setup Multi-flow Workshop\n",
    "env02 = simpy.Environment()\n",
    "\n",
    "bc_pipe201 = MultiWorkFlow(env02)\n",
    "bc_pipe202 = MultiWorkFlow(env02)\n",
    "bc_pipe203 = MultiWorkFlow(env02)\n",
    "\n",
    "env02.process(FrontDesk('Frontdesk - Sales', env02, bc_pipe201))\n",
    "env02.process(FrontDesk('Frontdesk - Workshop', env02, bc_pipe202))\n",
    "env02.process(FrontDesk('Frontdesk - Suppliers', env02, bc_pipe203))\n",
    "\n",
    "alphabet = list(map(chr, range(65, 91)))\n",
    "\n",
    "sales=alphabet[:2]\n",
    "for s in sales:\n",
    "    salesperson='Salesperson %s' % s\n",
    "    env02.process(WorkshopStaff(salesperson, env02, bc_pipe201.get_output_conn()))\n",
    "    \n",
    "for w in range(2):\n",
    "    workerperson = 'Workshop Worker %03d' % (w)\n",
    "    env02.process(WorkshopStaff(workerperson, env02, bc_pipe202.get_output_conn()))\n",
    "\n",
    "suppliers=alphabet[:2]\n",
    "for s in suppliers:\n",
    "    supplierperson='Supplierperson %s' % s\n",
    "    env02.process(WorkshopStaff(supplierperson, env02, bc_pipe203.get_output_conn()))\n",
    "\n",
    "print('\\nMulti-flow Workshop\\n')\n",
    "env02.run(until=SIM_TIME)"
   ]
  },
  {
   "cell_type": "markdown",
   "metadata": {},
   "source": [
    "## Simulation Three - Successful Multi-Workflow Workshop"
   ]
  },
  {
   "cell_type": "code",
   "execution_count": 8,
   "metadata": {},
   "outputs": [
    {
     "name": "stdout",
     "output_type": "stream",
     "text": [
      "\n",
      "Multi-flow Workshopn\n",
      "\n",
      "at time 4: Supplierperson A completed work: Frontdesk - Suppliers book in work at 4.\n",
      "at time 4: Supplierperson B completed work: Frontdesk - Suppliers book in work at 4.\n",
      "at time 4: Supplierperson C completed work: Frontdesk - Suppliers book in work at 4.\n",
      "at time 4: Supplierperson D completed work: Frontdesk - Suppliers book in work at 4.\n",
      "at time 4: Supplierperson E completed work: Frontdesk - Suppliers book in work at 4.\n",
      "at time 4: Supplierperson F completed work: Frontdesk - Suppliers book in work at 4.\n",
      "at time 4: Supplierperson G completed work: Frontdesk - Suppliers book in work at 4.\n",
      "at time 4: Supplierperson H completed work: Frontdesk - Suppliers book in work at 4.\n",
      "at time 4: Supplierperson I completed work: Frontdesk - Suppliers book in work at 4.\n",
      "at time 4: Supplierperson J completed work: Frontdesk - Suppliers book in work at 4.\n",
      "at time 4: Supplierperson K completed work: Frontdesk - Suppliers book in work at 4.\n",
      "at time 4: Supplierperson L completed work: Frontdesk - Suppliers book in work at 4.\n",
      "at time 4: Supplierperson M completed work: Frontdesk - Suppliers book in work at 4.\n",
      "at time 4: Supplierperson N completed work: Frontdesk - Suppliers book in work at 4.\n",
      "at time 4: Supplierperson O completed work: Frontdesk - Suppliers book in work at 4.\n",
      "at time 5: Workshop Worker 000 completed work: Frontdesk - Workshop book in work at 5.\n",
      "at time 5: Workshop Worker 001 completed work: Frontdesk - Workshop book in work at 5.\n",
      "at time 5: Workshop Worker 002 completed work: Frontdesk - Workshop book in work at 5.\n",
      "at time 5: Workshop Worker 003 completed work: Frontdesk - Workshop book in work at 5.\n",
      "at time 5: Workshop Worker 004 completed work: Frontdesk - Workshop book in work at 5.\n",
      "at time 5: Workshop Worker 005 completed work: Frontdesk - Workshop book in work at 5.\n",
      "at time 5: Workshop Worker 006 completed work: Frontdesk - Workshop book in work at 5.\n",
      "at time 5: Workshop Worker 007 completed work: Frontdesk - Workshop book in work at 5.\n",
      "at time 5: Workshop Worker 008 completed work: Frontdesk - Workshop book in work at 5.\n",
      "at time 5: Workshop Worker 009 completed work: Frontdesk - Workshop book in work at 5.\n",
      "at time 5: Workshop Worker 010 completed work: Frontdesk - Workshop book in work at 5.\n",
      "at time 5: Workshop Worker 011 completed work: Frontdesk - Workshop book in work at 5.\n",
      "at time 5: Workshop Worker 012 completed work: Frontdesk - Workshop book in work at 5.\n",
      "at time 5: Workshop Worker 013 completed work: Frontdesk - Workshop book in work at 5.\n",
      "at time 5: Workshop Worker 014 completed work: Frontdesk - Workshop book in work at 5.\n",
      "at time 6: Salesperson A completed work: Frontdesk - Sales book in work at 6.\n",
      "at time 6: Salesperson B completed work: Frontdesk - Sales book in work at 6.\n",
      "at time 6: Salesperson C completed work: Frontdesk - Sales book in work at 6.\n",
      "at time 6: Salesperson D completed work: Frontdesk - Sales book in work at 6.\n",
      "at time 6: Salesperson E completed work: Frontdesk - Sales book in work at 6.\n",
      "at time 6: Salesperson F completed work: Frontdesk - Sales book in work at 6.\n",
      "at time 6: Salesperson G completed work: Frontdesk - Sales book in work at 6.\n",
      "at time 6: Salesperson H completed work: Frontdesk - Sales book in work at 6.\n",
      "at time 6: Salesperson I completed work: Frontdesk - Sales book in work at 6.\n",
      "at time 6: Salesperson J completed work: Frontdesk - Sales book in work at 6.\n",
      "at time 6: Salesperson K completed work: Frontdesk - Sales book in work at 6.\n",
      "at time 6: Salesperson L completed work: Frontdesk - Sales book in work at 6.\n",
      "at time 6: Salesperson M completed work: Frontdesk - Sales book in work at 6.\n",
      "at time 6: Salesperson N completed work: Frontdesk - Sales book in work at 6.\n",
      "at time 6: Salesperson O completed work: Frontdesk - Sales book in work at 6.\n",
      "at time 8: Supplierperson A completed work: Frontdesk - Suppliers book in work at 8.\n",
      "at time 8: Supplierperson K completed work: Frontdesk - Suppliers book in work at 8.\n",
      "at time 8: Supplierperson B completed work: Frontdesk - Suppliers book in work at 8.\n",
      "at time 8: Supplierperson D completed work: Frontdesk - Suppliers book in work at 8.\n",
      "at time 8: Supplierperson H completed work: Frontdesk - Suppliers book in work at 8.\n",
      "at time 8: Supplierperson J completed work: Frontdesk - Suppliers book in work at 8.\n",
      "at time 8: Supplierperson L completed work: Frontdesk - Suppliers book in work at 8.\n",
      "at time 8: Supplierperson N completed work: Frontdesk - Suppliers book in work at 8.\n",
      "at time 8: Supplierperson O completed work: Frontdesk - Suppliers book in work at 8.\n",
      "LATE Work Order: at time 9: Supplierperson C not completed work: Frontdesk - Suppliers book in work at 8\n",
      "LATE Work Order: at time 10: Supplierperson G not completed work: Frontdesk - Suppliers book in work at 8\n",
      "at time 10: Workshop Worker 004 completed work: Frontdesk - Workshop book in work at 10.\n",
      "at time 10: Workshop Worker 014 completed work: Frontdesk - Workshop book in work at 10.\n",
      "LATE Work Order: at time 11: Workshop Worker 000 not completed work: Frontdesk - Workshop book in work at 10\n",
      "LATE Work Order: at time 12: Workshop Worker 009 not completed work: Frontdesk - Workshop book in work at 10\n",
      "LATE Work Order: at time 12: Workshop Worker 013 not completed work: Frontdesk - Workshop book in work at 10\n",
      "at time 12: Salesperson C completed work: Frontdesk - Sales book in work at 12.\n",
      "at time 12: Salesperson I completed work: Frontdesk - Sales book in work at 12.\n",
      "at time 12: Salesperson M completed work: Frontdesk - Sales book in work at 12.\n",
      "at time 12: Salesperson O completed work: Frontdesk - Sales book in work at 12.\n",
      "LATE Work Order: at time 13: Workshop Worker 003 not completed work: Frontdesk - Workshop book in work at 10\n",
      "LATE Work Order: at time 13: Workshop Worker 005 not completed work: Frontdesk - Workshop book in work at 10\n",
      "LATE Work Order: at time 13: Salesperson B not completed work: Frontdesk - Sales book in work at 12\n",
      "LATE Work Order: at time 13: Salesperson E not completed work: Frontdesk - Sales book in work at 12\n",
      "at time 13: Supplierperson B completed work: Frontdesk - Suppliers book in work at 13.\n",
      "at time 13: Supplierperson C completed work: Frontdesk - Suppliers book in work at 13.\n",
      "at time 13: Supplierperson H completed work: Frontdesk - Suppliers book in work at 13.\n",
      "at time 13: Supplierperson K completed work: Frontdesk - Suppliers book in work at 13.\n",
      "at time 13: Supplierperson O completed work: Frontdesk - Suppliers book in work at 13.\n",
      "LATE Work Order: at time 14: Supplierperson I not completed work: Frontdesk - Suppliers book in work at 8\n",
      "LATE Work Order: at time 14: Workshop Worker 001 not completed work: Frontdesk - Workshop book in work at 10\n",
      "LATE Work Order: at time 14: Workshop Worker 007 not completed work: Frontdesk - Workshop book in work at 10\n",
      "LATE Work Order: at time 14: Salesperson H not completed work: Frontdesk - Sales book in work at 12\n",
      "LATE Work Order: at time 14: Salesperson K not completed work: Frontdesk - Sales book in work at 12\n",
      "LATE Work Order: at time 14: Salesperson N not completed work: Frontdesk - Sales book in work at 12\n",
      "LATE Work Order: at time 14: Supplierperson G not completed work: Frontdesk - Suppliers book in work at 13\n",
      "LATE Work Order: at time 15: Workshop Worker 002 not completed work: Frontdesk - Workshop book in work at 10\n",
      "LATE Work Order: at time 15: Workshop Worker 006 not completed work: Frontdesk - Workshop book in work at 10\n",
      "LATE Work Order: at time 15: Workshop Worker 008 not completed work: Frontdesk - Workshop book in work at 10\n",
      "LATE Work Order: at time 15: Salesperson D not completed work: Frontdesk - Sales book in work at 12\n",
      "LATE Work Order: at time 15: Salesperson J not completed work: Frontdesk - Sales book in work at 12\n",
      "LATE Work Order: at time 16: Supplierperson E not completed work: Frontdesk - Suppliers book in work at 8\n",
      "LATE Work Order: at time 16: Supplierperson F not completed work: Frontdesk - Suppliers book in work at 8\n",
      "LATE Work Order: at time 16: Supplierperson M not completed work: Frontdesk - Suppliers book in work at 8\n",
      "LATE Work Order: at time 16: Workshop Worker 010 not completed work: Frontdesk - Workshop book in work at 10\n",
      "LATE Work Order: at time 16: Salesperson L not completed work: Frontdesk - Sales book in work at 12\n",
      "LATE Work Order: at time 16: Supplierperson N not completed work: Frontdesk - Suppliers book in work at 13\n",
      "at time 16: Workshop Worker 005 completed work: Frontdesk - Workshop book in work at 16.\n",
      "at time 16: Workshop Worker 009 completed work: Frontdesk - Workshop book in work at 16.\n",
      "at time 16: Workshop Worker 013 completed work: Frontdesk - Workshop book in work at 16.\n",
      "LATE Work Order: at time 17: Workshop Worker 011 not completed work: Frontdesk - Workshop book in work at 10\n",
      "LATE Work Order: at time 17: Workshop Worker 012 not completed work: Frontdesk - Workshop book in work at 10\n",
      "LATE Work Order: at time 17: Salesperson F not completed work: Frontdesk - Sales book in work at 12\n",
      "LATE Work Order: at time 17: Salesperson G not completed work: Frontdesk - Sales book in work at 12\n",
      "LATE Work Order: at time 17: Workshop Worker 004 not completed work: Frontdesk - Workshop book in work at 16\n",
      "at time 17: Salesperson B completed work: Frontdesk - Sales book in work at 17.\n",
      "at time 17: Salesperson I completed work: Frontdesk - Sales book in work at 17.\n",
      "at time 17: Salesperson M completed work: Frontdesk - Sales book in work at 17.\n",
      "LATE Work Order: at time 18: Salesperson A not completed work: Frontdesk - Sales book in work at 12\n",
      "LATE Work Order: at time 18: Supplierperson A not completed work: Frontdesk - Suppliers book in work at 13\n",
      "LATE Work Order: at time 18: Workshop Worker 001 not completed work: Frontdesk - Workshop book in work at 16\n",
      "LATE Work Order: at time 18: Salesperson K not completed work: Frontdesk - Sales book in work at 17\n",
      "LATE Work Order: at time 19: Supplierperson D not completed work: Frontdesk - Suppliers book in work at 13\n",
      "LATE Work Order: at time 19: Supplierperson L not completed work: Frontdesk - Suppliers book in work at 13\n",
      "LATE Work Order: at time 19: Salesperson O not completed work: Frontdesk - Sales book in work at 17\n",
      "LATE Work Order: at time 19: Workshop Worker 007 not completed work: Frontdesk - Workshop book in work at 16\n",
      "LATE Work Order: at time 19: Supplierperson F not completed work: Frontdesk - Suppliers book in work at 13\n",
      "at time 19: Supplierperson B completed work: Frontdesk - Suppliers book in work at 19.\n",
      "at time 19: Supplierperson H completed work: Frontdesk - Suppliers book in work at 19.\n",
      "at time 19: Supplierperson K completed work: Frontdesk - Suppliers book in work at 19.\n",
      "LATE Work Order: at time 20: Supplierperson J not completed work: Frontdesk - Suppliers book in work at 13\n",
      "LATE Work Order: at time 20: Workshop Worker 000 not completed work: Frontdesk - Workshop book in work at 16\n",
      "LATE Work Order: at time 20: Workshop Worker 003 not completed work: Frontdesk - Workshop book in work at 16\n",
      "LATE Work Order: at time 20: Salesperson A not completed work: Frontdesk - Sales book in work at 17\n",
      "LATE Work Order: at time 21: Workshop Worker 014 not completed work: Frontdesk - Workshop book in work at 16\n",
      "LATE Work Order: at time 21: Supplierperson I not completed work: Frontdesk - Suppliers book in work at 13\n",
      "LATE Work Order: at time 21: Salesperson H not completed work: Frontdesk - Sales book in work at 17\n",
      "at time 21: Workshop Worker 004 completed work: Frontdesk - Workshop book in work at 21.\n",
      "at time 21: Workshop Worker 013 completed work: Frontdesk - Workshop book in work at 21.\n",
      "LATE Work Order: at time 22: Supplierperson C not completed work: Frontdesk - Suppliers book in work at 19\n",
      "LATE Work Order: at time 22: Supplierperson O not completed work: Frontdesk - Suppliers book in work at 19\n",
      "LATE Work Order: at time 22: Supplierperson G not completed work: Frontdesk - Suppliers book in work at 19\n",
      "at time 22: Salesperson M completed work: Frontdesk - Sales book in work at 22.\n",
      "LATE Work Order: at time 23: Salesperson E not completed work: Frontdesk - Sales book in work at 17\n",
      "LATE Work Order: at time 23: Workshop Worker 010 not completed work: Frontdesk - Workshop book in work at 16\n",
      "LATE Work Order: at time 23: Workshop Worker 012 not completed work: Frontdesk - Workshop book in work at 16\n",
      "LATE Work Order: at time 23: Salesperson I not completed work: Frontdesk - Sales book in work at 22\n",
      "LATE Work Order: at time 23: Workshop Worker 000 not completed work: Frontdesk - Workshop book in work at 21\n"
     ]
    },
    {
     "name": "stdout",
     "output_type": "stream",
     "text": [
      "LATE Work Order: at time 24: Salesperson C not completed work: Frontdesk - Sales book in work at 17\n",
      "LATE Work Order: at time 24: Workshop Worker 006 not completed work: Frontdesk - Workshop book in work at 16\n",
      "LATE Work Order: at time 24: Salesperson D not completed work: Frontdesk - Sales book in work at 17\n",
      "LATE Work Order: at time 24: Supplierperson E not completed work: Frontdesk - Suppliers book in work at 13\n",
      "LATE Work Order: at time 24: Salesperson G not completed work: Frontdesk - Sales book in work at 17\n",
      "LATE Work Order: at time 24: Workshop Worker 001 not completed work: Frontdesk - Workshop book in work at 21\n",
      "LATE Work Order: at time 24: Supplierperson F not completed work: Frontdesk - Suppliers book in work at 19\n",
      "LATE Work Order: at time 24: Supplierperson I not completed work: Frontdesk - Suppliers book in work at 19\n",
      "at time 24: Supplierperson K completed work: Frontdesk - Suppliers book in work at 24.\n"
     ]
    }
   ],
   "source": [
    "# Setup Multi-flow Workshop\n",
    "env03 = simpy.Environment()\n",
    "\n",
    "bc_pipe301 = MultiWorkFlow(env03)\n",
    "bc_pipe302 = MultiWorkFlow(env03)\n",
    "bc_pipe303 = MultiWorkFlow(env03)\n",
    "\n",
    "env03.process(FrontDesk('Frontdesk - Sales', env03, bc_pipe301))\n",
    "env03.process(FrontDesk('Frontdesk - Workshop', env03, bc_pipe302))\n",
    "env03.process(FrontDesk('Frontdesk - Suppliers', env03, bc_pipe303))\n",
    "\n",
    "alphabet = list(map(chr, range(65, 91)))\n",
    "\n",
    "sales=alphabet[:15]\n",
    "for s in sales:\n",
    "    salesperson='Salesperson %s' % s\n",
    "    env03.process(WorkshopStaff(salesperson, env03, bc_pipe301.get_output_conn()))\n",
    "    \n",
    "for w in range(15):\n",
    "    workerperson = 'Workshop Worker %03d' % (w)\n",
    "    env03.process(WorkshopStaff(workerperson, env03, bc_pipe302.get_output_conn()))\n",
    "\n",
    "suppliers=alphabet[:15]\n",
    "for s in suppliers:\n",
    "    supplierperson='Supplierperson %s' % s\n",
    "    env03.process(WorkshopStaff(supplierperson, env03, bc_pipe303.get_output_conn()))\n",
    "\n",
    "print('\\nMulti-flow Workshopn\\n')\n",
    "env03.run(until=SIM_TIME)"
   ]
  },
  {
   "cell_type": "markdown",
   "metadata": {},
   "source": [
    "## Simulation Four - Multi-Workflow Workshop with Better Training"
   ]
  },
  {
   "cell_type": "code",
   "execution_count": 9,
   "metadata": {},
   "outputs": [],
   "source": [
    "def NewWorkshopStaff(name, env, in_pipe):\n",
    "    while True:\n",
    "        # Get event for message pipe\n",
    "        msg = yield in_pipe.get()\n",
    "\n",
    "        if msg[0] < env.now:\n",
    "            print('LATE Work Order: at time %d: %s not completed work: %s' %\n",
    "                  (env.now, name, msg[1]))\n",
    "\n",
    "        else:\n",
    "            # message_consumer is synchronized with message_generator\n",
    "            print('at time %d: %s completed work: %s.' %\n",
    "                  (env.now, name, msg[1]))\n",
    "\n",
    "        # Things happen and goes wrong but they recover quicker!!\n",
    "        yield env.timeout(random.randint(0, 2))"
   ]
  },
  {
   "cell_type": "code",
   "execution_count": 10,
   "metadata": {},
   "outputs": [
    {
     "name": "stdout",
     "output_type": "stream",
     "text": [
      "\n",
      "Multi-flow Workshop with Training\n",
      "\n",
      "at time 6: Salesperson A completed work: Frontdesk - Sales book in work at 6.\n",
      "at time 6: Salesperson B completed work: Frontdesk - Sales book in work at 6.\n",
      "at time 6: Workshop Worker 000 completed work: Frontdesk - Workshop book in work at 6.\n",
      "at time 6: Workshop Worker 001 completed work: Frontdesk - Workshop book in work at 6.\n",
      "at time 6: Supplierperson A completed work: Frontdesk - Suppliers book in work at 6.\n",
      "at time 6: Supplierperson B completed work: Frontdesk - Suppliers book in work at 6.\n",
      "at time 10: Workshop Worker 000 completed work: Frontdesk - Workshop book in work at 10.\n",
      "at time 10: Workshop Worker 001 completed work: Frontdesk - Workshop book in work at 10.\n",
      "at time 11: Salesperson A completed work: Frontdesk - Sales book in work at 11.\n",
      "at time 11: Salesperson B completed work: Frontdesk - Sales book in work at 11.\n",
      "at time 11: Supplierperson A completed work: Frontdesk - Suppliers book in work at 11.\n",
      "at time 11: Supplierperson B completed work: Frontdesk - Suppliers book in work at 11.\n",
      "at time 15: Salesperson A completed work: Frontdesk - Sales book in work at 15.\n",
      "at time 15: Salesperson B completed work: Frontdesk - Sales book in work at 15.\n",
      "at time 15: Supplierperson A completed work: Frontdesk - Suppliers book in work at 15.\n",
      "at time 15: Supplierperson B completed work: Frontdesk - Suppliers book in work at 15.\n",
      "at time 16: Workshop Worker 000 completed work: Frontdesk - Workshop book in work at 16.\n",
      "at time 16: Workshop Worker 001 completed work: Frontdesk - Workshop book in work at 16.\n",
      "at time 19: Supplierperson A completed work: Frontdesk - Suppliers book in work at 19.\n",
      "at time 19: Supplierperson B completed work: Frontdesk - Suppliers book in work at 19.\n",
      "at time 21: Salesperson A completed work: Frontdesk - Sales book in work at 21.\n",
      "at time 21: Salesperson B completed work: Frontdesk - Sales book in work at 21.\n",
      "at time 22: Workshop Worker 000 completed work: Frontdesk - Workshop book in work at 22.\n",
      "at time 22: Workshop Worker 001 completed work: Frontdesk - Workshop book in work at 22.\n",
      "at time 23: Supplierperson A completed work: Frontdesk - Suppliers book in work at 23.\n",
      "at time 23: Supplierperson B completed work: Frontdesk - Suppliers book in work at 23.\n"
     ]
    }
   ],
   "source": [
    "# Setup Multi-flow Workshop with Better workers\n",
    "env04 = simpy.Environment()\n",
    "\n",
    "bc_pipe401 = MultiWorkFlow(env04)\n",
    "bc_pipe402 = MultiWorkFlow(env04)\n",
    "bc_pipe403 = MultiWorkFlow(env04)\n",
    "\n",
    "env04.process(FrontDesk('Frontdesk - Sales', env04, bc_pipe401))\n",
    "env04.process(FrontDesk('Frontdesk - Workshop', env04, bc_pipe402))\n",
    "env04.process(FrontDesk('Frontdesk - Suppliers', env04, bc_pipe403))\n",
    "\n",
    "alphabet = list(map(chr, range(65, 91)))\n",
    "\n",
    "sales=alphabet[:2]\n",
    "for s in sales:\n",
    "    salesperson='Salesperson %s' % s\n",
    "    env04.process(NewWorkshopStaff(salesperson, env04, bc_pipe401.get_output_conn()))\n",
    "    \n",
    "for w in range(2):\n",
    "    workerperson = 'Workshop Worker %03d' % (w)\n",
    "    env04.process(NewWorkshopStaff(workerperson, env04, bc_pipe402.get_output_conn()))\n",
    "\n",
    "suppliers=alphabet[:2]\n",
    "for s in suppliers:\n",
    "    supplierperson='Supplierperson %s' % s\n",
    "    env04.process(NewWorkshopStaff(supplierperson, env04, bc_pipe403.get_output_conn()))\n",
    "\n",
    "print('\\nMulti-flow Workshop with Training\\n')\n",
    "env04.run(until=SIM_TIME)"
   ]
  },
  {
   "cell_type": "markdown",
   "metadata": {},
   "source": [
    "## Done"
   ]
  },
  {
   "cell_type": "code",
   "execution_count": 11,
   "metadata": {},
   "outputs": [
    {
     "name": "stdout",
     "output_type": "stream",
     "text": [
      "('Done!', '2019-05-03 15:21:02.360000')\n"
     ]
    }
   ],
   "source": [
    "import datetime\n",
    "now = datetime.datetime.now()\n",
    "print('Done!',str(now))"
   ]
  }
 ],
 "metadata": {
  "kernelspec": {
   "display_name": "Python 3",
   "language": "python",
   "name": "python3"
  },
  "language_info": {
   "codemirror_mode": {
    "name": "ipython",
    "version": 3
   },
   "file_extension": ".py",
   "mimetype": "text/x-python",
   "name": "python",
   "nbconvert_exporter": "python",
   "pygments_lexer": "ipython3",
   "version": "3.7.3"
  }
 },
 "nbformat": 4,
 "nbformat_minor": 2
}
