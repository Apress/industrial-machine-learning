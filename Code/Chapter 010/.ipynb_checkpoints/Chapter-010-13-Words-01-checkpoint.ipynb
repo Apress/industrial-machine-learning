{
 "cells": [
  {
   "cell_type": "markdown",
   "metadata": {},
   "source": [
    "## Apress - Industrialized Machine Learning Examples\n",
    "\n",
    "Andreas Francois Vermeulen\n",
    "2019\n",
    "\n",
    "### This is an example add-on to a book and needs to be accepted as part of that copyright."
   ]
  },
  {
   "cell_type": "markdown",
   "metadata": {
    "collapsed": true
   },
   "source": [
    "## Chapter-010-13-Words-01"
   ]
  },
  {
   "cell_type": "code",
   "execution_count": 1,
   "metadata": {},
   "outputs": [],
   "source": [
    "import matplotlib\n",
    "import numpy as np\n",
    "matplotlib.use('TkAgg')\n",
    "%matplotlib inline\n",
    "import random "
   ]
  },
  {
   "cell_type": "code",
   "execution_count": 2,
   "metadata": {},
   "outputs": [],
   "source": [
    "# Target string to be generated \n",
    "TARGETS = np.array([\n",
    "            'I love Denise.',\n",
    "            'Evolutionary Computing Rocks!',\n",
    "            'Industrialized Machine Learning - Evolutionary Computing',\n",
    "            'One, Two - done!'\n",
    "          ])"
   ]
  },
  {
   "cell_type": "code",
   "execution_count": 3,
   "metadata": {},
   "outputs": [],
   "source": [
    "# Valid genes \n",
    "GENES = '''abcdefghijklmnopqrstuvwxyzABCDEFGHIJKLMNOPQRSTUVWXYZ 1234567890, .-;:_!\"#%&/()=?@${[]}'''"
   ]
  },
  {
   "cell_type": "code",
   "execution_count": 4,
   "metadata": {},
   "outputs": [],
   "source": [
    "def GetBruteForce():\n",
    "    BruteForce = len(GENES) * len(TARGET)\n",
    "    return BruteForce"
   ]
  },
  {
   "cell_type": "code",
   "execution_count": 5,
   "metadata": {},
   "outputs": [],
   "source": [
    "class Individual(object): \n",
    "    ''' \n",
    "    Class representing individual in population \n",
    "    '''\n",
    "    def __init__(self, chromosome): \n",
    "        self.chromosome = chromosome  \n",
    "        self.fitness = self.cal_fitness() \n",
    "  \n",
    "    @classmethod\n",
    "    def mutated_genes(self): \n",
    "        ''' \n",
    "        create random genes for mutation \n",
    "        '''\n",
    "        global GENES \n",
    "        gene = random.choice(GENES) \n",
    "        return gene \n",
    "  \n",
    "    @classmethod\n",
    "    def create_gnome(self): \n",
    "        ''' \n",
    "        create chromosome or string of genes \n",
    "        '''\n",
    "        global TARGET \n",
    "        gnome_len = len(TARGET) \n",
    "        return [self.mutated_genes() for _ in range(gnome_len)] \n",
    "  \n",
    "    def mate(self, par2): \n",
    "        ''' \n",
    "        Perform mating and produce new offspring \n",
    "        '''\n",
    "  \n",
    "        # chromosome for offspring \n",
    "        child_chromosome = [] \n",
    "        for gp1, gp2 in zip(self.chromosome, par2.chromosome):     \n",
    "  \n",
    "            # random probability   \n",
    "            prob = random.random() \n",
    "  \n",
    "            # if prob is less than 0.45, insert gene \n",
    "            # from parent 1  \n",
    "            if prob < 0.45: \n",
    "                child_chromosome.append(gp1) \n",
    "  \n",
    "            # if prob is between 0.45 and 0.90, insert \n",
    "            # gene from parent 2 \n",
    "            elif prob < 0.90: \n",
    "                child_chromosome.append(gp2) \n",
    "  \n",
    "            # otherwise insert random gene(mutate),  \n",
    "            # for maintaining diversity \n",
    "            else: \n",
    "                child_chromosome.append(self.mutated_genes()) \n",
    "  \n",
    "        # create new Individual(offspring) using  \n",
    "        # generated chromosome for offspring \n",
    "        return Individual(child_chromosome) \n",
    "  \n",
    "    def cal_fitness(self): \n",
    "        ''' \n",
    "        Calculate fittness score, it is the number of \n",
    "        characters in string which differ from target \n",
    "        string. \n",
    "        '''\n",
    "        global TARGET \n",
    "        fitness = 0\n",
    "        for gs, gt in zip(self.chromosome, TARGET): \n",
    "            if gs != gt: fitness+= 1\n",
    "        return fitness \n",
    "  \n",
    "# Driver code \n",
    "def EPMain(): \n",
    "    global POPULATION_SIZE \n",
    "  \n",
    "    #current generation \n",
    "    generation = 1\n",
    "  \n",
    "    found = False\n",
    "    population = [] \n",
    "  \n",
    "    # create initial population \n",
    "    for _ in range(POPULATION_SIZE): \n",
    "                gnome = Individual.create_gnome() \n",
    "                population.append(Individual(gnome)) \n",
    "  \n",
    "    while not found: \n",
    "  \n",
    "        # sort the population in increasing order of fitness score \n",
    "        population = sorted(population, key = lambda x:x.fitness) \n",
    "  \n",
    "        # if the individual having lowest fitness score ie.  \n",
    "        # 0 then we know that we have reached to the target \n",
    "        # and break the loop \n",
    "        if population[0].fitness <= 0: \n",
    "            found = True\n",
    "            break\n",
    "  \n",
    "        # Otherwise generate new offsprings for new generation \n",
    "        new_generation = [] \n",
    "  \n",
    "        # Perform Elitism, that mean 10% of fittest population \n",
    "        # goes to the next generation \n",
    "        s = int((10*POPULATION_SIZE)/100) \n",
    "        new_generation.extend(population[:s]) \n",
    "  \n",
    "        # From 50% of fittest population, Individuals  \n",
    "        # will mate to produce offspring \n",
    "        s = int((90*POPULATION_SIZE)/100) \n",
    "        for _ in range(s): \n",
    "            parent1 = random.choice(population[:50]) \n",
    "            parent2 = random.choice(population[:50]) \n",
    "            child = parent1.mate(parent2) \n",
    "            new_generation.append(child) \n",
    "  \n",
    "        population = new_generation \n",
    "  \n",
    "        print(\"Generation: {}\\tString: {}\\tFitness: {}\". \n",
    "              format(generation, \n",
    "              \"\".join(population[0].chromosome), \n",
    "              population[0].fitness)) \n",
    "  \n",
    "        generation += 1\n",
    "  \n",
    "      \n",
    "    print(\"Generation: {}\\tString: {}\\tFitness: {}\".format(generation, \"\".join(population[0].chromosome), population[0].fitness)) \n",
    "    return generation"
   ]
  },
  {
   "cell_type": "code",
   "execution_count": 6,
   "metadata": {},
   "outputs": [
    {
     "name": "stdout",
     "output_type": "stream",
     "text": [
      "========================================================================================================================\n",
      "  1> Solve: I love Denise.\n",
      "========================================================================================================================\n",
      "Generation: 1\tString: C lg8X4W?IiBeA\tFitness: 10\n",
      "Generation: 2\tString: uTl4vY4DmnFseF\tFitness: 8\n",
      "Generation: 3\tString: I lo:P D?ni,e%\tFitness: 5\n",
      "Generation: 4\tString: I lHve D?nise.\tFitness: 2\n",
      "Generation: 5\tString: I love Denise.\tFitness: 0\n",
      "========================================================================================================================\n",
      "========================================================================================================================\n",
      "  2> Solve: Evolutionary Computing Rocks!\n",
      "========================================================================================================================\n",
      "Generation: 1\tString: tOi1=t$$R fO %%m\" Mb-u#LYJisa\tFitness: 25\n",
      "Generation: 2\tString: zuqlQfdonaL[\",[mPutun5?O.ec9#\tFitness: 21\n",
      "Generation: 3\tString: EvolW/&o4K=;xCcmputid@ =2u7 !\tFitness: 16\n",
      "Generation: 4\tString: EvolufiBnaTM/Homputun5mLo@Zs!\tFitness: 12\n",
      "Generation: 5\tString: Evolufio1ary=Com(uting 8oc.s!\tFitness: 6\n",
      "Generation: 6\tString: Evolutionary Computing Nowks!\tFitness: 2\n",
      "Generation: 7\tString: Evolutionary Computing Ro)ks!\tFitness: 1\n",
      "Generation: 8\tString: Evolutionary Computing Rocks!\tFitness: 0\n",
      "========================================================================================================================\n",
      "========================================================================================================================\n",
      "  3> Solve: Industrialized Machine Learning - Evolutionary Computing\n",
      "========================================================================================================================\n",
      "Generation: 1\tString: EtdKsp%pagQgU$QDa{H6G8N2\"aIuB6d 6HS7,irAzE.,K!yR,#p9!tY1\tFitness: 49\n",
      "Generation: 2\tString: iEYl\"W(rahi#}b]8O5U,9eXae8$YSOg Pl3(sb0K.oGlIyTxoSp!a@Zb\tFitness: 46\n",
      "Generation: 3\tString: ,ndSO\"gi6l9/c2fMVwh($elL#MgnY}g M EvZaUt%a arstPo,p]F6gc\tFitness: 37\n",
      "Generation: 4\tString: IKd2sK{#aXi_md SaPhite/L;4rnz=g -Tlvvarm Tnavs nVmpAoRt-\tFitness: 33\n",
      "Generation: 5\tString: ,ndust%za4izJd@y]jhiDe 2]\"aYERg - yvo0et$onary CQ5put$n \tFitness: 25\n",
      "Generation: 6\tString: IndPst%ializJd M]jh(De L#arYE&g = EIMaut$onary Eo5put$n1\tFitness: 20\n",
      "Generation: 7\tString: Ind$stre64izQd MacHiDf L]arning 1 Evoiutvonar2 Co]puying\tFitness: 15\n",
      "Generation: 8\tString: %nXustgia4izQd MachiDe Learning 1 EvAlutvonary  omputing\tFitness: 10\n",
      "Generation: 9\tString: Indust%iaBi3Qd Machi]e Learning - EvoluuGonary Computing\tFitness: 7\n",
      "Generation: 10\tString: IndustriaUiz(d Machin) Learning - Evolutionary C7mputing\tFitness: 4\n",
      "Generation: 11\tString: Industrializ(d Machine Learning - EvolutLonary Computing\tFitness: 2\n",
      "Generation: 12\tString: IndustrializOd Machine Learning - Evolutionary Computing\tFitness: 1\n",
      "Generation: 13\tString: Industrialized Machine Learning - Evolutionary Computing\tFitness: 0\n",
      "========================================================================================================================\n",
      "========================================================================================================================\n",
      "  4> Solve: One, Two - done!\n",
      "========================================================================================================================\n",
      "Generation: 1\tString: O5kgPU-V dc7oXeK\tFitness: 12\n",
      "Generation: 2\tString: 7n,@WTwtj-9duYez\tFitness: 10\n",
      "Generation: 3\tString: OQB, TwH 7cdoneK\tFitness: 6\n",
      "Generation: 4\tString: One, TwH 7 done!\tFitness: 2\n",
      "Generation: 5\tString: One, Two - done!\tFitness: 0\n",
      "========================================================================================================================\n"
     ]
    }
   ],
   "source": [
    "res=[]\n",
    "for i in range(TARGETS.shape[0]):\n",
    "    TARGET = TARGETS[i]\n",
    "    print('='*120)\n",
    "    print('%3d> Solve: %s' % (i+1, TARGET))\n",
    "    print('='*120)\n",
    "    l = len(str(TARGET))\n",
    "    bf = GetBruteForce()\n",
    "    # Number of individuals in each generation \n",
    "    POPULATION_SIZE = 500 + (bf*10)\n",
    "    ep = EPMain()\n",
    "    r=bf/ep\n",
    "    res.append([r,l,TARGET])\n",
    "    print('='*120)"
   ]
  },
  {
   "cell_type": "code",
   "execution_count": 7,
   "metadata": {},
   "outputs": [
    {
     "name": "stdout",
     "output_type": "stream",
     "text": [
      "EP is 240.8000 times faster than Brute Force on 14 letters\n",
      "I love Denise. \n",
      "\n",
      "EP is 311.7500 times faster than Brute Force on 29 letters\n",
      "Evolutionary Computing Rocks! \n",
      "\n",
      "EP is 370.4615 times faster than Brute Force on 56 letters\n",
      "Industrialized Machine Learning - Evolutionary Computing \n",
      "\n",
      "EP is 275.2000 times faster than Brute Force on 16 letters\n",
      "One, Two - done! \n",
      "\n"
     ]
    }
   ],
   "source": [
    "ans=np.array(res)\n",
    "for j in range(ans.shape[0]):\n",
    "    t=float(ans[j][0])\n",
    "    l=float(ans[j][1])\n",
    "    print('EP is %0.4f times faster than Brute Force on %0d letters' % (t, l))\n",
    "    print(ans[j,2],'\\n')"
   ]
  },
  {
   "cell_type": "markdown",
   "metadata": {},
   "source": [
    "## Done"
   ]
  },
  {
   "cell_type": "code",
   "execution_count": 8,
   "metadata": {},
   "outputs": [
    {
     "name": "stdout",
     "output_type": "stream",
     "text": [
      "Done! 2019-10-19 22:25:21.031608\n"
     ]
    }
   ],
   "source": [
    "import datetime\n",
    "now = datetime.datetime.now()\n",
    "print('Done!',str(now))"
   ]
  }
 ],
 "metadata": {
  "kernelspec": {
   "display_name": "Python 3",
   "language": "python",
   "name": "python3"
  },
  "language_info": {
   "codemirror_mode": {
    "name": "ipython",
    "version": 3
   },
   "file_extension": ".py",
   "mimetype": "text/x-python",
   "name": "python",
   "nbconvert_exporter": "python",
   "pygments_lexer": "ipython3",
   "version": "3.7.3"
  }
 },
 "nbformat": 4,
 "nbformat_minor": 2
}
