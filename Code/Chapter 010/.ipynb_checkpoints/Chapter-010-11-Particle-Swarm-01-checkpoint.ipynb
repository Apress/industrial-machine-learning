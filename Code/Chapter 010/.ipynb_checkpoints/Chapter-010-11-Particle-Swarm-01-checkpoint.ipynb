{
 "cells": [
  {
   "cell_type": "markdown",
   "metadata": {},
   "source": [
    "## Apress - Industrialized Machine Learning Examples\n",
    "\n",
    "Andreas Francois Vermeulen\n",
    "2019\n",
    "\n",
    "### This is an example add-on to a book and needs to be accepted as part of that copyright."
   ]
  },
  {
   "cell_type": "markdown",
   "metadata": {},
   "source": [
    "## Chapter-010-11-Particle-Swarm-01"
   ]
  },
  {
   "cell_type": "code",
   "execution_count": 1,
   "metadata": {},
   "outputs": [],
   "source": [
    "import numpy as np;"
   ]
  },
  {
   "cell_type": "code",
   "execution_count": 2,
   "metadata": {},
   "outputs": [],
   "source": [
    "# Particle Swarm Optimization\n",
    "def PSO(problem, MaxIter = 250, PopSize = 1968, c1 = 1.25, c2 = 1.25, w = 0.75, wdamp = 1.0):\n",
    "    np.random.seed(1968)\n",
    "\n",
    "    # Empty Particle Template\n",
    "    empty_particle = {\n",
    "        'position': None,\n",
    "        'velocity': None,\n",
    "        'cost': None,\n",
    "        'best_position': None,\n",
    "        'best_cost': None,\n",
    "    };\n",
    "\n",
    "    # Extract Problem Info\n",
    "    CostFunction = problem['CostFunction'];\n",
    "    VarMin = problem['VarMin'];\n",
    "    VarMax = problem['VarMax'];\n",
    "    nVar = problem['nVar'];\n",
    "\n",
    "    # Initialize Global Best\n",
    "    gbest = {'position': None, 'cost': np.inf};\n",
    "\n",
    "    # Create Initial Population\n",
    "    pop = [];\n",
    "    for i in range(0, PopSize):\n",
    "        pop.append(empty_particle.copy());\n",
    "        pop[i]['position'] = np.random.uniform(VarMin, VarMax, nVar);\n",
    "        pop[i]['velocity'] = np.zeros(nVar);\n",
    "        pop[i]['cost'] = CostFunction(pop[i]['position']);\n",
    "        pop[i]['best_position'] = pop[i]['position'].copy();\n",
    "        pop[i]['best_cost'] = pop[i]['cost'];\n",
    "        \n",
    "        if pop[i]['best_cost'] < gbest['cost']:\n",
    "            gbest['position'] = pop[i]['best_position'].copy();\n",
    "            gbest['cost'] = pop[i]['best_cost'];\n",
    "    \n",
    "    # PSO Loop\n",
    "    for it in range(0, MaxIter):\n",
    "        for i in range(0, PopSize):\n",
    "            \n",
    "            pop[i]['velocity'] = w*pop[i]['velocity'] \\\n",
    "                + c1*np.random.rand(nVar)*(pop[i]['best_position'] - pop[i]['position']) \\\n",
    "                + c2*np.random.rand(nVar)*(gbest['position'] - pop[i]['position']);\n",
    "\n",
    "            pop[i]['position'] += pop[i]['velocity'];\n",
    "            pop[i]['position'] = np.maximum(pop[i]['position'], VarMin);\n",
    "            pop[i]['position'] = np.minimum(pop[i]['position'], VarMax);\n",
    "\n",
    "            pop[i]['cost'] = CostFunction(pop[i]['position']);\n",
    "            \n",
    "            if pop[i]['cost'] < pop[i]['best_cost']:\n",
    "                pop[i]['best_position'] = pop[i]['position'].copy();\n",
    "                pop[i]['best_cost'] = pop[i]['cost'];\n",
    "\n",
    "                if pop[i]['best_cost'] < gbest['cost']:\n",
    "                    gbest['position'] = pop[i]['best_position'].copy();\n",
    "                    gbest['cost'] = pop[i]['best_cost'];\n",
    "\n",
    "        w *= wdamp;\n",
    "        print('Iteration %3d: Best Cost = %12.6f' % (it, gbest['cost']));\n",
    "\n",
    "    return gbest, pop;\n",
    "\n"
   ]
  },
  {
   "cell_type": "code",
   "execution_count": 3,
   "metadata": {},
   "outputs": [],
   "source": [
    "# A Sample Cost Function\n",
    "def Sphere(x):\n",
    "    return sum(x**2);"
   ]
  },
  {
   "cell_type": "code",
   "execution_count": 4,
   "metadata": {},
   "outputs": [],
   "source": [
    "# Define Optimization Problem\n",
    "problem = {\n",
    "        'CostFunction': Sphere,\n",
    "        'nVar': 10,\n",
    "        'VarMin': -15,   \n",
    "        'VarMax': 15,   \n",
    "    };"
   ]
  },
  {
   "cell_type": "code",
   "execution_count": 5,
   "metadata": {},
   "outputs": [
    {
     "name": "stdout",
     "output_type": "stream",
     "text": [
      "Running PSO ...\n",
      "Iteration   0: Best Cost =   170.169112\n",
      "Iteration   1: Best Cost =   170.169112\n",
      "Iteration   2: Best Cost =   170.169112\n",
      "Iteration   3: Best Cost =    92.195249\n",
      "Iteration   4: Best Cost =    92.195249\n",
      "Iteration   5: Best Cost =    92.195249\n",
      "Iteration   6: Best Cost =    76.262130\n",
      "Iteration   7: Best Cost =    76.262130\n",
      "Iteration   8: Best Cost =    76.262130\n",
      "Iteration   9: Best Cost =    76.262130\n",
      "Iteration  10: Best Cost =    76.262130\n",
      "Iteration  11: Best Cost =    76.262130\n",
      "Iteration  12: Best Cost =    55.563958\n",
      "Iteration  13: Best Cost =    55.563958\n",
      "Iteration  14: Best Cost =    30.536027\n",
      "Iteration  15: Best Cost =    28.562706\n",
      "Iteration  16: Best Cost =    28.562706\n",
      "Iteration  17: Best Cost =    28.562706\n",
      "Iteration  18: Best Cost =    28.562706\n",
      "Iteration  19: Best Cost =    28.562706\n",
      "Iteration  20: Best Cost =    27.465831\n",
      "Iteration  21: Best Cost =    27.465831\n",
      "Iteration  22: Best Cost =    18.611333\n",
      "Iteration  23: Best Cost =    18.611333\n",
      "Iteration  24: Best Cost =    17.340371\n",
      "Iteration  25: Best Cost =    17.340371\n",
      "Iteration  26: Best Cost =    15.809187\n",
      "Iteration  27: Best Cost =    15.626623\n",
      "Iteration  28: Best Cost =    15.587336\n",
      "Iteration  29: Best Cost =    12.596439\n",
      "Iteration  30: Best Cost =    12.444431\n",
      "Iteration  31: Best Cost =     7.344022\n",
      "Iteration  32: Best Cost =     7.344022\n",
      "Iteration  33: Best Cost =     6.060212\n",
      "Iteration  34: Best Cost =     5.923484\n",
      "Iteration  35: Best Cost =     5.909337\n",
      "Iteration  36: Best Cost =     5.907576\n",
      "Iteration  37: Best Cost =     5.907360\n",
      "Iteration  38: Best Cost =     4.983182\n",
      "Iteration  39: Best Cost =     4.556583\n",
      "Iteration  40: Best Cost =     4.466276\n",
      "Iteration  41: Best Cost =     4.314065\n",
      "Iteration  42: Best Cost =     3.569262\n",
      "Iteration  43: Best Cost =     3.192531\n",
      "Iteration  44: Best Cost =     3.178780\n",
      "Iteration  45: Best Cost =     2.696350\n",
      "Iteration  46: Best Cost =     2.681384\n",
      "Iteration  47: Best Cost =     2.681384\n",
      "Iteration  48: Best Cost =     2.313131\n",
      "Iteration  49: Best Cost =     2.071224\n"
     ]
    }
   ],
   "source": [
    "# Running PSO\n",
    "print('Running PSO ...');\n",
    "gbest, pop = PSO(problem, \n",
    "                 MaxIter = 50, \n",
    "                 PopSize = 100, \n",
    "                 c1 = 1.5, \n",
    "                 c2 = 3, \n",
    "                 w = 1, \n",
    "                 wdamp = 0.945\n",
    "                );"
   ]
  },
  {
   "cell_type": "code",
   "execution_count": 6,
   "metadata": {},
   "outputs": [
    {
     "name": "stdout",
     "output_type": "stream",
     "text": [
      "Global Best:\n",
      "Cost: 2.07122\n",
      "P-000 : -0.077541\n",
      "P-001 : -0.743544\n",
      "P-002 :  0.874136\n",
      "P-003 :  0.482049\n",
      "P-004 : -0.492341\n",
      "P-005 : -0.263344\n",
      "P-006 :  0.207279\n",
      "P-007 :  0.156491\n",
      "P-008 : -0.320758\n",
      "P-009 : -0.183794\n"
     ]
    }
   ],
   "source": [
    "# Final Result\n",
    "print('Global Best:');\n",
    "print('Cost: %0.5f' % (gbest['cost']))\n",
    "\n",
    "\n",
    "p=np.array(gbest['position'])\n",
    "for i in range(p.shape[0]):\n",
    "    print('P-%03d : %9.6f' % (i, p[i]))"
   ]
  },
  {
   "cell_type": "markdown",
   "metadata": {},
   "source": [
    "## Done"
   ]
  },
  {
   "cell_type": "code",
   "execution_count": 7,
   "metadata": {},
   "outputs": [
    {
     "name": "stdout",
     "output_type": "stream",
     "text": [
      "Done! 2019-10-19 22:27:47.405607\n"
     ]
    }
   ],
   "source": [
    "import datetime\n",
    "now = datetime.datetime.now()\n",
    "print('Done!',str(now))"
   ]
  }
 ],
 "metadata": {
  "kernelspec": {
   "display_name": "Python 3",
   "language": "python",
   "name": "python3"
  },
  "language_info": {
   "codemirror_mode": {
    "name": "ipython",
    "version": 3
   },
   "file_extension": ".py",
   "mimetype": "text/x-python",
   "name": "python",
   "nbconvert_exporter": "python",
   "pygments_lexer": "ipython3",
   "version": "3.7.3"
  }
 },
 "nbformat": 4,
 "nbformat_minor": 2
}
