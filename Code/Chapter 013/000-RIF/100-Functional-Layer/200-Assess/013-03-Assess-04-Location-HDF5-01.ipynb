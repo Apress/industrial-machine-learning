{
 "cells": [
  {
   "cell_type": "markdown",
   "metadata": {},
   "source": [
    "## Apress - Industrialized Machine Learning Examples\n",
    "\n",
    "Andreas Francois Vermeulen\n",
    "2019\n",
    "\n",
    "### This is an example add-on to a book and needs to be accepted as part of that copyright."
   ]
  },
  {
   "cell_type": "markdown",
   "metadata": {},
   "source": [
    "# 13-03-Assess-04-Location-HDF5-01"
   ]
  },
  {
   "cell_type": "code",
   "execution_count": 3,
   "metadata": {},
   "outputs": [],
   "source": [
    "import datetime\n",
    "nowStart = datetime.datetime.now()"
   ]
  },
  {
   "cell_type": "markdown",
   "metadata": {},
   "source": [
    "![RIF Functional Layer - Retrieve Step](../../../../../images/DV-Location.JPG)"
   ]
  },
  {
   "cell_type": "markdown",
   "metadata": {},
   "source": [
    "![RIF Functional Layer - Retrieve Step](../../../../../images/RIF-FL-ASS.JPG)"
   ]
  },
  {
   "cell_type": "code",
   "execution_count": 5,
   "metadata": {},
   "outputs": [],
   "source": [
    "import pandas as pd\n",
    "import os"
   ]
  },
  {
   "cell_type": "code",
   "execution_count": 6,
   "metadata": {},
   "outputs": [
    {
     "name": "stdout",
     "output_type": "stream",
     "text": [
      "C:\\Users\\AndreVermeulen\\Documents\\My Book\\apress\\Industrial Machine Learning\\book\\GitHub\\Upload\\industrial-machine-learning\\Code\\Chapter 013\n",
      "C:\\Users\\AndreVermeulen\\Documents\\My Book\\apress\\Industrial Machine Learning\\book\\GitHub\\Upload\\industrial-machine-learning\\Code\\Chapter 013\\900-DL\\200-Structured-Zone\n"
     ]
    }
   ],
   "source": [
    "dirbasename=os.path.abspath(os.path.join(*[os.path.dirname(os.path.dirname(os.getcwd()))], os.pardir))\n",
    "print(dirbasename)\n",
    "dirname = os.path.abspath(os.path.join(dirbasename,'900-DL/200-Structured-Zone/'))\n",
    "print(dirname)"
   ]
  },
  {
   "cell_type": "code",
   "execution_count": 7,
   "metadata": {},
   "outputs": [
    {
     "name": "stdout",
     "output_type": "stream",
     "text": [
      "13-02-Assess-Location-01.h5\n"
     ]
    }
   ],
   "source": [
    "filename1='13-02-Assess-Location-01.h5'\n",
    "print(filename1)"
   ]
  },
  {
   "cell_type": "code",
   "execution_count": 8,
   "metadata": {},
   "outputs": [
    {
     "name": "stdout",
     "output_type": "stream",
     "text": [
      "13-02-Assess-Location-02.h5\n"
     ]
    }
   ],
   "source": [
    "filename2='13-02-Assess-Location-02.h5'\n",
    "print(filename2)"
   ]
  },
  {
   "cell_type": "markdown",
   "metadata": {},
   "source": [
    "# Create 200-Structured-Zone"
   ]
  },
  {
   "cell_type": "markdown",
   "metadata": {},
   "source": [
    "![Raw Zone](../../../../../images/DL-SZ.JPG)"
   ]
  },
  {
   "cell_type": "code",
   "execution_count": 9,
   "metadata": {},
   "outputs": [
    {
     "name": "stdout",
     "output_type": "stream",
     "text": [
      "C:\\Users\\AndreVermeulen\\Documents\\My Book\\apress\\Industrial Machine Learning\\book\\GitHub\\Upload\\industrial-machine-learning\\Code\\Chapter 013\\900-DL\\200-Structured-Zone\n"
     ]
    }
   ],
   "source": [
    "pathRealName=os.path.realpath(dirname)\n",
    "print(pathRealName)\n",
    "fullRealName1 = os.path.join(pathRealName, filename1)\n",
    "fullRealName2 = os.path.join(pathRealName, filename2)"
   ]
  },
  {
   "cell_type": "code",
   "execution_count": 10,
   "metadata": {},
   "outputs": [],
   "source": [
    "if not os.path.exists(pathRealName):\n",
    "    print('Make:', pathRealName)\n",
    "    os.makedirs(pathRealName)"
   ]
  },
  {
   "cell_type": "markdown",
   "metadata": {},
   "source": [
    "# Create Location"
   ]
  },
  {
   "cell_type": "code",
   "execution_count": 11,
   "metadata": {},
   "outputs": [
    {
     "name": "stdout",
     "output_type": "stream",
     "text": [
      "C:\\Users\\AndreVermeulen\\Documents\\My Book\\apress\\Industrial Machine Learning\\book\\GitHub\\Upload\\industrial-machine-learning\\Code\\Chapter 013\\900-DL\\100-Raw-Zone\\200-Load-Data\\04-Location\n"
     ]
    }
   ],
   "source": [
    "dirDataName = os.path.abspath(os.path.join(dirbasename,'900-DL/100-Raw-Zone/200-Load-Data/04-Location'))\n",
    "pathRealDataName=os.path.realpath(dirDataName)\n",
    "print(pathRealDataName)"
   ]
  },
  {
   "cell_type": "markdown",
   "metadata": {},
   "source": [
    "## Get Location"
   ]
  },
  {
   "cell_type": "code",
   "execution_count": 12,
   "metadata": {},
   "outputs": [
    {
     "name": "stdout",
     "output_type": "stream",
     "text": [
      "C:\\Users\\AndreVermeulen\\Documents\\My Book\\apress\\Industrial Machine Learning\\book\\GitHub\\Upload\\industrial-machine-learning\\Code\\Chapter 013\\900-DL\\100-Raw-Zone\\200-Load-Data\\04-Location\\13-02-Retrieve-Location-000001.csv.gz\n"
     ]
    }
   ],
   "source": [
    "fileDataName='13-02-Retrieve-Location-000001.csv.gz'\n",
    "fileFullDataName= os.path.join(pathRealDataName, fileDataName)\n",
    "print(fileFullDataName)"
   ]
  },
  {
   "cell_type": "code",
   "execution_count": 13,
   "metadata": {},
   "outputs": [],
   "source": [
    "locationDF = pd.read_csv(fileFullDataName, encoding='utf-8', compression='gzip')"
   ]
  },
  {
   "cell_type": "code",
   "execution_count": 14,
   "metadata": {},
   "outputs": [
    {
     "name": "stdout",
     "output_type": "stream",
     "text": [
      "(176238, 4)\n",
      "       id  postcode   latitude  longitude\n",
      "IDKey                                    \n",
      "0       1  AB10 1XG  57.144165  -2.114848\n",
      "1       2  AB10 6RN  57.137880  -2.121487\n",
      "2       3  AB10 7JB  57.124274  -2.127190\n",
      "3       4  AB11 5QN  57.142701  -2.093295\n",
      "4       5  AB11 6UL  57.137547  -2.112233\n"
     ]
    }
   ],
   "source": [
    "locationDF.index.name='IDKey'\n",
    "print(locationDF.shape)\n",
    "print(locationDF.head())"
   ]
  },
  {
   "cell_type": "code",
   "execution_count": 15,
   "metadata": {},
   "outputs": [
    {
     "name": "stdout",
     "output_type": "stream",
     "text": [
      "C:\\Users\\AndreVermeulen\\Documents\\My Book\\apress\\Industrial Machine Learning\\book\\GitHub\\Upload\\industrial-machine-learning\\Code\\Chapter 013\\900-DL\\200-Structured-Zone\\13-02-Assess-Location-01.h5\n"
     ]
    }
   ],
   "source": [
    "locationDF.to_hdf(fullRealName1, format='fixed', key='location', index=False, encoding='utf-8')\n",
    "print(fullRealName1)"
   ]
  },
  {
   "cell_type": "code",
   "execution_count": 17,
   "metadata": {},
   "outputs": [
    {
     "name": "stdout",
     "output_type": "stream",
     "text": [
      "(176238, 4)\n"
     ]
    }
   ],
   "source": [
    "locationTest1DF= pd.read_hdf(fullRealName1, key='location', encoding='utf-8')\n",
    "print(locationTest1DF.shape)"
   ]
  },
  {
   "cell_type": "code",
   "execution_count": 18,
   "metadata": {},
   "outputs": [
    {
     "name": "stdout",
     "output_type": "stream",
     "text": [
      "C:\\Users\\AndreVermeulen\\Documents\\My Book\\apress\\Industrial Machine Learning\\book\\GitHub\\Upload\\industrial-machine-learning\\Code\\Chapter 013\\900-DL\\200-Structured-Zone\\13-02-Assess-Location-02.h5\n"
     ]
    }
   ],
   "source": [
    "locationDF.to_hdf(fullRealName2, format='table', key='location', index=False, encoding='utf-8')\n",
    "print(fullRealName2)"
   ]
  },
  {
   "cell_type": "code",
   "execution_count": 19,
   "metadata": {},
   "outputs": [
    {
     "name": "stdout",
     "output_type": "stream",
     "text": [
      "(176238, 4)\n"
     ]
    }
   ],
   "source": [
    "locationTest2DF= pd.read_hdf(fullRealName2, key='location', encoding='utf-8')\n",
    "print(locationTest2DF.shape)"
   ]
  },
  {
   "cell_type": "code",
   "execution_count": 20,
   "metadata": {},
   "outputs": [
    {
     "name": "stdout",
     "output_type": "stream",
     "text": [
      "Start: 2019-10-26 16:25:14\n",
      "Stop:  2019-10-26 16:28:17\n",
      "Time:  0:03:02.867010\n"
     ]
    }
   ],
   "source": [
    "nowStop = datetime.datetime.now()\n",
    "runTime=nowStop-nowStart\n",
    "print('Start:', nowStart.strftime('%Y-%m-%d %H:%M:%S'))\n",
    "print('Stop: ', nowStop.strftime('%Y-%m-%d %H:%M:%S'))\n",
    "print('Time: ', runTime)"
   ]
  },
  {
   "cell_type": "code",
   "execution_count": null,
   "metadata": {},
   "outputs": [],
   "source": []
  }
 ],
 "metadata": {
  "kernelspec": {
   "display_name": "Python 3",
   "language": "python",
   "name": "python3"
  },
  "language_info": {
   "codemirror_mode": {
    "name": "ipython",
    "version": 3
   },
   "file_extension": ".py",
   "mimetype": "text/x-python",
   "name": "python",
   "nbconvert_exporter": "python",
   "pygments_lexer": "ipython3",
   "version": "3.7.3"
  }
 },
 "nbformat": 4,
 "nbformat_minor": 2
}
