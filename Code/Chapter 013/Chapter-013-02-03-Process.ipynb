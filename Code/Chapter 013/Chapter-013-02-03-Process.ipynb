{
 "cells": [
  {
   "cell_type": "markdown",
   "metadata": {},
   "source": [
    "## Apress - Industrialized Machine Learning Examples\n",
    "\n",
    "Andreas Francois Vermeulen\n",
    "2019\n",
    "\n",
    "### This is an example add-on to a book and needs to be accepted as part of that copyright."
   ]
  },
  {
   "cell_type": "markdown",
   "metadata": {},
   "source": [
    "# Chapter-013-02-03-Process"
   ]
  },
  {
   "cell_type": "code",
   "execution_count": null,
   "metadata": {},
   "outputs": [],
   "source": [
    "import datetime\n",
    "nowStart = datetime.datetime.now()"
   ]
  },
  {
   "cell_type": "markdown",
   "metadata": {},
   "source": [
    "![RIF Functional Layer - Assess Step](../../images/RIF-FL-PRC.JPG)"
   ]
  },
  {
   "cell_type": "code",
   "execution_count": null,
   "metadata": {},
   "outputs": [],
   "source": [
    "import subprocess\n",
    "import os\n",
    "import time\n",
    "import sys\n",
    "import numpy as np"
   ]
  },
  {
   "cell_type": "code",
   "execution_count": null,
   "metadata": {},
   "outputs": [],
   "source": [
    "pathRIFname=os.path.abspath('../../Results/Chapter 13/000-RIF/100-Functional-Layer/300-Process/')\n",
    "print(pathRIFname)"
   ]
  },
  {
   "cell_type": "code",
   "execution_count": null,
   "metadata": {},
   "outputs": [],
   "source": [
    "path=np.array(sys.path)\n",
    "print(path.shape)\n",
    "for i in range(path.shape[0]):\n",
    "    pathTestPython=os.path.join(path[i],'python.exe')\n",
    "    if os.path.exists(pathTestPython):\n",
    "        pathPython=pathTestPython\n",
    "pathPython=pathPython.replace('\\\\','/')\n",
    "print(pathPython)"
   ]
  },
  {
   "cell_type": "code",
   "execution_count": null,
   "metadata": {},
   "outputs": [],
   "source": [
    "holddir=os.getcwd()\n",
    "print(holddir)"
   ]
  },
  {
   "cell_type": "markdown",
   "metadata": {},
   "source": [
    "![Processor](../../images/Processor.JPG)"
   ]
  },
  {
   "cell_type": "code",
   "execution_count": null,
   "metadata": {},
   "outputs": [],
   "source": [
    "def run_command(command, wait=True):\n",
    "\n",
    "    try:\n",
    "        if (wait):\n",
    "\n",
    "            p = subprocess.Popen(\n",
    "                [command]\n",
    "                , stdout = subprocess.PIPE\n",
    "                , shell = True)\n",
    "            p.wait()\n",
    "        else:\n",
    "            p = subprocess.Popen(\n",
    "                [command], \n",
    "                shell = True, \n",
    "                stdin = None, stdout = None, stderr = None, close_fds = True)\n",
    "\n",
    "        (result, error) = p.communicate()\n",
    "        \n",
    "    except subprocess.CalledProcessError as e:\n",
    "        sys.stderr.write(\n",
    "            \"common::run_command() : [ERROR]: output = %s, error code = %s\\n\" \n",
    "            % (e.output, e.returncode))\n",
    "\n",
    "    return result "
   ]
  },
  {
   "cell_type": "markdown",
   "metadata": {},
   "source": [
    "![Runner](../../images/Runner.JPG)"
   ]
  },
  {
   "cell_type": "code",
   "execution_count": null,
   "metadata": {},
   "outputs": [],
   "source": [
    "pathRealRIFname=os.path.realpath(pathRIFname)\n",
    "pathRealRIFname=pathRealRIFname.replace('\\\\','/')\n",
    "print(pathRealRIFname)"
   ]
  },
  {
   "cell_type": "code",
   "execution_count": null,
   "metadata": {},
   "outputs": [],
   "source": [
    "if not os.path.exists(pathRealRIFname):\n",
    "    print(' Please run the Chapter-013-01-Setup program first to setup your examples')\n",
    "else:\n",
    "    os.chdir(pathRealRIFname)\n",
    "    for root, dirs, files in os.walk(pathRealRIFname, topdown=True):\n",
    "        for name in files:\n",
    "            fullfilename=os.path.join(root, name)\n",
    "            fullfilename=fullfilename.replace('\\\\','/')\n",
    "            filename, file_extension = os.path.splitext(name)\n",
    "            if file_extension.lower()=='.py':\n",
    "                #print(filename)\n",
    "                commandstr=name\n",
    "                print(commandstr,'\\n')\n",
    "                res = run_command(commandstr)\n",
    "                time.sleep(0.5)\n",
    "                print('###################\\n')\n",
    "                print(res)\n",
    "                print('###################\\n')"
   ]
  },
  {
   "cell_type": "code",
   "execution_count": null,
   "metadata": {},
   "outputs": [],
   "source": [
    "os.chdir(holddir)\n",
    "print(os.getcwd())"
   ]
  },
  {
   "cell_type": "markdown",
   "metadata": {},
   "source": [
    "# Run Time"
   ]
  },
  {
   "cell_type": "code",
   "execution_count": null,
   "metadata": {},
   "outputs": [],
   "source": [
    "nowStop = datetime.datetime.now()\n",
    "runTime=nowStop-nowStart\n",
    "print('Start:', nowStart.strftime('%Y-%m-%d %H:%M:%S'))\n",
    "print('Stop: ', nowStop.strftime('%Y-%m-%d %H:%M:%S'))\n",
    "print('Time: ', runTime)"
   ]
  },
  {
   "cell_type": "code",
   "execution_count": null,
   "metadata": {},
   "outputs": [],
   "source": []
  }
 ],
 "metadata": {
  "kernelspec": {
   "display_name": "Python 3",
   "language": "python",
   "name": "python3"
  },
  "language_info": {
   "codemirror_mode": {
    "name": "ipython",
    "version": 3
   },
   "file_extension": ".py",
   "mimetype": "text/x-python",
   "name": "python",
   "nbconvert_exporter": "python",
   "pygments_lexer": "ipython3",
   "version": "3.7.3"
  }
 },
 "nbformat": 4,
 "nbformat_minor": 2
}
