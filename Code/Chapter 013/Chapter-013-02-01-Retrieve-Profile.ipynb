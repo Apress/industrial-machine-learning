{
 "cells": [
  {
   "cell_type": "markdown",
   "metadata": {},
   "source": [
    "## Apress - Industrialized Machine Learning Examples\n",
    "\n",
    "Andreas Francois Vermeulen\n",
    "2019\n",
    "\n",
    "### This is an example add-on to a book and needs to be accepted as part of that copyright."
   ]
  },
  {
   "cell_type": "markdown",
   "metadata": {},
   "source": [
    "# 13-02-Retrieve-Processing"
   ]
  },
  {
   "cell_type": "code",
   "execution_count": 1,
   "metadata": {},
   "outputs": [],
   "source": [
    "import datetime\n",
    "import os\n",
    "nowStart = datetime.datetime.now()"
   ]
  },
  {
   "cell_type": "markdown",
   "metadata": {},
   "source": [
    "![RIF Functional Layer - Retrieve Step](../../images/RIF-FL-RET.JPG)"
   ]
  },
  {
   "cell_type": "code",
   "execution_count": 2,
   "metadata": {},
   "outputs": [
    {
     "name": "stdout",
     "output_type": "stream",
     "text": [
      "Scan: ..\\..\\Results\\Chapter 13\\000-RIF\\100-Functional-Layer\\100-Retrieve\n"
     ]
    }
   ],
   "source": [
    "pathRIFname=os.path.relpath('../../Results/Chapter 13/000-RIF/100-Functional-Layer/100-Retrieve/')\n",
    "print('Scan: %s' % pathRIFname)"
   ]
  },
  {
   "cell_type": "code",
   "execution_count": 3,
   "metadata": {},
   "outputs": [],
   "source": [
    "import subprocess\n",
    "import os\n",
    "import time\n",
    "import sys\n",
    "import numpy as np"
   ]
  },
  {
   "cell_type": "code",
   "execution_count": 4,
   "metadata": {},
   "outputs": [
    {
     "name": "stdout",
     "output_type": "stream",
     "text": [
      "(13,)\n",
      "C:/Users/AndreVermeulen/.conda/envs/andre/python.exe\n"
     ]
    }
   ],
   "source": [
    "path=np.array(sys.path)\n",
    "print(path.shape)\n",
    "for i in range(path.shape[0]):\n",
    "    pathTestPython=os.path.join(path[i],'python.exe')\n",
    "    if os.path.exists(pathTestPython):\n",
    "        pathPython=pathTestPython\n",
    "pathPython=pathPython.replace('\\\\','/')\n",
    "print(pathPython)"
   ]
  },
  {
   "cell_type": "code",
   "execution_count": 5,
   "metadata": {},
   "outputs": [
    {
     "name": "stdout",
     "output_type": "stream",
     "text": [
      "Running: C:\\Users\\AndreVermeulen\\Documents\\My Book\\apress\\Industrial Machine Learning\\book\\GitHub\\Upload\\industrial-machine-learning\\Code\\Chapter 013\n"
     ]
    }
   ],
   "source": [
    "holddir=os.path.abspath(os.getcwd())\n",
    "print(f'Running: {holddir}')"
   ]
  },
  {
   "cell_type": "markdown",
   "metadata": {},
   "source": [
    "![Processor](../../images/Processor.JPG)"
   ]
  },
  {
   "cell_type": "code",
   "execution_count": 6,
   "metadata": {},
   "outputs": [],
   "source": [
    "def run_command(command, wait=True):\n",
    "\n",
    "    try:\n",
    "        if (wait):\n",
    "\n",
    "            p = subprocess.Popen(\n",
    "                [command]\n",
    "                , stdout = subprocess.PIPE\n",
    "                , shell = True)\n",
    "            p.wait()\n",
    "        else:\n",
    "            p = subprocess.Popen(\n",
    "                [command], \n",
    "                shell = True, \n",
    "                stdin = None, stdout = None, stderr = None, close_fds = True)\n",
    "\n",
    "        (result, error) = p.communicate()\n",
    "        \n",
    "    except subprocess.CalledProcessError as e:\n",
    "        sys.stderr.write(\n",
    "            \"common::run_command() : [ERROR]: output = %s, error code = %s\\n\" \n",
    "            % (e.output, e.returncode))\n",
    "\n",
    "    return result "
   ]
  },
  {
   "cell_type": "markdown",
   "metadata": {},
   "source": [
    "![Runner](../../images/Runner.JPG)"
   ]
  },
  {
   "cell_type": "code",
   "execution_count": 7,
   "metadata": {},
   "outputs": [
    {
     "name": "stdout",
     "output_type": "stream",
     "text": [
      "C:\\Users\\AndreVermeulen\\Documents\\My Book\\apress\\Industrial Machine Learning\\book\\GitHub\\Upload\\industrial-machine-learning\\Results\\Chapter 13\\000-RIF\\100-Functional-Layer\\100-Retrieve\n"
     ]
    }
   ],
   "source": [
    "pathRealRIFname=os.path.abspath(pathRIFname)\n",
    "print(pathRealRIFname)"
   ]
  },
  {
   "cell_type": "code",
   "execution_count": 8,
   "metadata": {},
   "outputs": [
    {
     "name": "stdout",
     "output_type": "stream",
     "text": [
      "C:/Users/AndreVermeulen/.conda/envs/andre/python.exe -m cProfile -o 013-02-Retrieve-01-Time-01.profile 013-02-Retrieve-01-Time-01.py \n",
      "\n",
      "###################\n",
      "\n",
      "b''\n",
      "###################\n",
      "\n",
      "C:/Users/AndreVermeulen/.conda/envs/andre/python.exe -m cProfile -o 013-02-Retrieve-01-Time-02.profile 013-02-Retrieve-01-Time-02.py \n",
      "\n",
      "###################\n",
      "\n",
      "b''\n",
      "###################\n",
      "\n",
      "C:/Users/AndreVermeulen/.conda/envs/andre/python.exe -m cProfile -o 013-02-Retrieve-01-Time-03.profile 013-02-Retrieve-01-Time-03.py \n",
      "\n",
      "###################\n",
      "\n",
      "b''\n",
      "###################\n",
      "\n",
      "C:/Users/AndreVermeulen/.conda/envs/andre/python.exe -m cProfile -o 013-02-Retrieve-02-Person-01.profile 013-02-Retrieve-02-Person-01.py \n",
      "\n",
      "###################\n",
      "\n",
      "b''\n",
      "###################\n",
      "\n",
      "C:/Users/AndreVermeulen/.conda/envs/andre/python.exe -m cProfile -o 013-02-Retrieve-03-Object-01.profile 013-02-Retrieve-03-Object-01.py \n",
      "\n",
      "###################\n",
      "\n",
      "b''\n",
      "###################\n",
      "\n",
      "C:/Users/AndreVermeulen/.conda/envs/andre/python.exe -m cProfile -o 013-02-Retrieve-03-Object-02.profile 013-02-Retrieve-03-Object-02.py \n",
      "\n",
      "###################\n",
      "\n",
      "b''\n",
      "###################\n",
      "\n",
      "C:/Users/AndreVermeulen/.conda/envs/andre/python.exe -m cProfile -o 013-02-Retrieve-03-Object-03.profile 013-02-Retrieve-03-Object-03.py \n",
      "\n",
      "###################\n",
      "\n",
      "b''\n",
      "###################\n",
      "\n",
      "C:/Users/AndreVermeulen/.conda/envs/andre/python.exe -m cProfile -o 013-02-Retrieve-03-Object-04.profile 013-02-Retrieve-03-Object-04.py \n",
      "\n",
      "###################\n",
      "\n",
      "b''\n",
      "###################\n",
      "\n",
      "C:/Users/AndreVermeulen/.conda/envs/andre/python.exe -m cProfile -o 013-02-Retrieve-03-Object-05.profile 013-02-Retrieve-03-Object-05.py \n",
      "\n",
      "###################\n",
      "\n",
      "b''\n",
      "###################\n",
      "\n",
      "C:/Users/AndreVermeulen/.conda/envs/andre/python.exe -m cProfile -o 013-02-Retrieve-03-Object-06.profile 013-02-Retrieve-03-Object-06.py \n",
      "\n",
      "###################\n",
      "\n",
      "b''\n",
      "###################\n",
      "\n",
      "C:/Users/AndreVermeulen/.conda/envs/andre/python.exe -m cProfile -o 013-02-Retrieve-03-Object-07.profile 013-02-Retrieve-03-Object-07.py \n",
      "\n",
      "###################\n",
      "\n",
      "b''\n",
      "###################\n",
      "\n",
      "C:/Users/AndreVermeulen/.conda/envs/andre/python.exe -m cProfile -o 013-02-Retrieve-03-Object-08.profile 013-02-Retrieve-03-Object-08.py \n",
      "\n",
      "###################\n",
      "\n",
      "b''\n",
      "###################\n",
      "\n",
      "C:/Users/AndreVermeulen/.conda/envs/andre/python.exe -m cProfile -o 013-02-Retrieve-03-Object-09.profile 013-02-Retrieve-03-Object-09.py \n",
      "\n",
      "###################\n",
      "\n",
      "b''\n",
      "###################\n",
      "\n",
      "C:/Users/AndreVermeulen/.conda/envs/andre/python.exe -m cProfile -o 013-02-Retrieve-03-Object-10.profile 013-02-Retrieve-03-Object-10.py \n",
      "\n",
      "###################\n",
      "\n",
      "b''\n",
      "###################\n",
      "\n",
      "C:/Users/AndreVermeulen/.conda/envs/andre/python.exe -m cProfile -o 013-02-Retrieve-04-Location-01.profile 013-02-Retrieve-04-Location-01.py \n",
      "\n",
      "###################\n",
      "\n",
      "b''\n",
      "###################\n",
      "\n",
      "C:/Users/AndreVermeulen/.conda/envs/andre/python.exe -m cProfile -o 013-02-Retrieve-04-Location-02.profile 013-02-Retrieve-04-Location-02.py \n",
      "\n",
      "###################\n",
      "\n",
      "b''\n",
      "###################\n",
      "\n",
      "C:/Users/AndreVermeulen/.conda/envs/andre/python.exe -m cProfile -o 013-02-Retrieve-04-Location-03.profile 013-02-Retrieve-04-Location-03.py \n",
      "\n",
      "###################\n",
      "\n",
      "b''\n",
      "###################\n",
      "\n",
      "C:/Users/AndreVermeulen/.conda/envs/andre/python.exe -m cProfile -o 013-02-Retrieve-04-Location-04.profile 013-02-Retrieve-04-Location-04.py \n",
      "\n",
      "###################\n",
      "\n",
      "b''\n",
      "###################\n",
      "\n",
      "C:/Users/AndreVermeulen/.conda/envs/andre/python.exe -m cProfile -o 013-02-Retrieve-04-Location-05.profile 013-02-Retrieve-04-Location-05.py \n",
      "\n",
      "###################\n",
      "\n",
      "b''\n",
      "###################\n",
      "\n",
      "C:/Users/AndreVermeulen/.conda/envs/andre/python.exe -m cProfile -o 013-02-Retrieve-04-Location-06.profile 013-02-Retrieve-04-Location-06.py \n",
      "\n",
      "###################\n",
      "\n",
      "b''\n",
      "###################\n",
      "\n",
      "C:/Users/AndreVermeulen/.conda/envs/andre/python.exe -m cProfile -o 013-02-Retrieve-04-Location-07.profile 013-02-Retrieve-04-Location-07.py \n",
      "\n",
      "###################\n",
      "\n",
      "b''\n",
      "###################\n",
      "\n",
      "C:/Users/AndreVermeulen/.conda/envs/andre/python.exe -m cProfile -o 013-02-Retrieve-04-Location-08.profile 013-02-Retrieve-04-Location-08.py \n",
      "\n",
      "###################\n",
      "\n",
      "b''\n",
      "###################\n",
      "\n",
      "C:/Users/AndreVermeulen/.conda/envs/andre/python.exe -m cProfile -o 013-02-Retrieve-04-Location-09.profile 013-02-Retrieve-04-Location-09.py \n",
      "\n",
      "###################\n",
      "\n",
      "b''\n",
      "###################\n",
      "\n",
      "C:/Users/AndreVermeulen/.conda/envs/andre/python.exe -m cProfile -o 013-02-Retrieve-04-Location-10.profile 013-02-Retrieve-04-Location-10.py \n",
      "\n",
      "###################\n",
      "\n",
      "b''\n",
      "###################\n",
      "\n",
      "C:/Users/AndreVermeulen/.conda/envs/andre/python.exe -m cProfile -o 013-02-Retrieve-05-Event-01.profile 013-02-Retrieve-05-Event-01.py \n",
      "\n",
      "###################\n",
      "\n",
      "b''\n",
      "###################\n",
      "\n",
      "C:/Users/AndreVermeulen/.conda/envs/andre/python.exe -m cProfile -o 013-02-Retrieve-05-Event-02.profile 013-02-Retrieve-05-Event-02.py \n",
      "\n",
      "###################\n",
      "\n",
      "b''\n",
      "###################\n",
      "\n",
      "C:/Users/AndreVermeulen/.conda/envs/andre/python.exe -m cProfile -o 013-02-Retrieve-05-Event-03.profile 013-02-Retrieve-05-Event-03.py \n",
      "\n",
      "###################\n",
      "\n",
      "b''\n",
      "###################\n",
      "\n",
      "C:/Users/AndreVermeulen/.conda/envs/andre/python.exe -m cProfile -o 013-02-Retrieve-05-Event-04.profile 013-02-Retrieve-05-Event-04.py \n",
      "\n",
      "###################\n",
      "\n",
      "b''\n",
      "###################\n",
      "\n",
      "C:/Users/AndreVermeulen/.conda/envs/andre/python.exe -m cProfile -o 013-02-Retrieve-05-Event-05.profile 013-02-Retrieve-05-Event-05.py \n",
      "\n",
      "###################\n",
      "\n",
      "b''\n",
      "###################\n",
      "\n",
      "C:/Users/AndreVermeulen/.conda/envs/andre/python.exe -m cProfile -o 013-02-Retrieve-05-Event-06.profile 013-02-Retrieve-05-Event-06.py \n",
      "\n",
      "###################\n",
      "\n",
      "b''\n",
      "###################\n",
      "\n",
      "C:/Users/AndreVermeulen/.conda/envs/andre/python.exe -m cProfile -o 013-02-Retrieve-05-Event-07.profile 013-02-Retrieve-05-Event-07.py \n",
      "\n",
      "###################\n",
      "\n",
      "b''\n",
      "###################\n",
      "\n",
      "C:/Users/AndreVermeulen/.conda/envs/andre/python.exe -m cProfile -o 013-02-Retrieve-05-Event-08.profile 013-02-Retrieve-05-Event-08.py \n",
      "\n",
      "###################\n",
      "\n",
      "b''\n",
      "###################\n",
      "\n",
      "C:/Users/AndreVermeulen/.conda/envs/andre/python.exe -m cProfile -o 013-02-Retrieve-05-Event-09.profile 013-02-Retrieve-05-Event-09.py \n",
      "\n",
      "###################\n",
      "\n",
      "b''\n",
      "###################\n",
      "\n",
      "C:/Users/AndreVermeulen/.conda/envs/andre/python.exe -m cProfile -o 013-02-Retrieve-05-Event-10.profile 013-02-Retrieve-05-Event-10.py \n",
      "\n",
      "###################\n",
      "\n",
      "b''\n",
      "###################\n",
      "\n"
     ]
    }
   ],
   "source": [
    "if not os.path.exists(pathRealRIFname):\n",
    "    print(' Please run the Chapter-013-01-Setup program first to setup your examples')\n",
    "else:\n",
    "    os.chdir(pathRealRIFname)\n",
    "    \n",
    "    for root, dirs, files in os.walk(pathRealRIFname, topdown=True):\n",
    "        for name in files:\n",
    "            fullfilename=os.path.abspath(os.path.join(root, name))\n",
    "            filename, file_extension = os.path.splitext(name)\n",
    "            if file_extension.lower()=='.py':\n",
    "                #print(filename)\n",
    "                pname = filename + '.profile'\n",
    "                commandstr= pathPython + ' -m cProfile -o ' + pname + ' ' + name\n",
    "                print(commandstr,'\\n')\n",
    "                res = run_command(commandstr)\n",
    "                time.sleep(0.5)\n",
    "                print('###################\\n')\n",
    "                print(res)\n",
    "                print('###################\\n')"
   ]
  },
  {
   "cell_type": "code",
   "execution_count": 9,
   "metadata": {},
   "outputs": [
    {
     "name": "stdout",
     "output_type": "stream",
     "text": [
      "C:\\Users\\AndreVermeulen\\Documents\\My Book\\apress\\Industrial Machine Learning\\book\\GitHub\\Upload\\industrial-machine-learning\\Code\\Chapter 013\n"
     ]
    }
   ],
   "source": [
    "os.chdir(holddir)\n",
    "print(os.getcwd())"
   ]
  },
  {
   "cell_type": "markdown",
   "metadata": {},
   "source": [
    "# Run Time"
   ]
  },
  {
   "cell_type": "code",
   "execution_count": 10,
   "metadata": {},
   "outputs": [
    {
     "name": "stdout",
     "output_type": "stream",
     "text": [
      "Start: 2019-10-26 15:08:32\n",
      "Stop:  2019-10-26 15:08:50\n",
      "Time:  0:00:18.124001\n"
     ]
    }
   ],
   "source": [
    "nowStop = datetime.datetime.now()\n",
    "runTime=nowStop-nowStart\n",
    "print('Start:', nowStart.strftime('%Y-%m-%d %H:%M:%S'))\n",
    "print('Stop: ', nowStop.strftime('%Y-%m-%d %H:%M:%S'))\n",
    "print('Time: ', runTime)"
   ]
  },
  {
   "cell_type": "code",
   "execution_count": null,
   "metadata": {},
   "outputs": [],
   "source": []
  }
 ],
 "metadata": {
  "kernelspec": {
   "display_name": "Python 3",
   "language": "python",
   "name": "python3"
  },
  "language_info": {
   "codemirror_mode": {
    "name": "ipython",
    "version": 3
   },
   "file_extension": ".py",
   "mimetype": "text/x-python",
   "name": "python",
   "nbconvert_exporter": "python",
   "pygments_lexer": "ipython3",
   "version": "3.7.3"
  }
 },
 "nbformat": 4,
 "nbformat_minor": 2
}
