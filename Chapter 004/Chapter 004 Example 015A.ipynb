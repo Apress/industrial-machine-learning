{
 "cells": [
  {
   "cell_type": "markdown",
   "metadata": {},
   "source": [
    "## Apress - Industrialized Machine Learning Examples\n",
    "\n",
    "Andreas Francois Vermeulen\n",
    "2019\n",
    "\n",
    "### This is an example add-on to a book and needs to be accepted as part of that copyright."
   ]
  },
  {
   "cell_type": "markdown",
   "metadata": {},
   "source": [
    "# Chapter 004 Example 015A"
   ]
  },
  {
   "cell_type": "code",
   "execution_count": 1,
   "metadata": {},
   "outputs": [],
   "source": [
    "#!pip install graphviz"
   ]
  },
  {
   "cell_type": "markdown",
   "metadata": {},
   "source": [
    "## Part A - Load Libraries"
   ]
  },
  {
   "cell_type": "code",
   "execution_count": 2,
   "metadata": {},
   "outputs": [],
   "source": [
    "import os\n",
    "import shutil\n",
    "import graphviz as gv\n",
    "import pandas as pd\n",
    "import numpy as np\n",
    "from sklearn import tree"
   ]
  },
  {
   "cell_type": "code",
   "execution_count": 3,
   "metadata": {},
   "outputs": [],
   "source": [
    "os.environ[\"PATH\"] += os.pathsep + 'c:/Program Files (x86)/Graphviz/bin/'"
   ]
  },
  {
   "cell_type": "markdown",
   "metadata": {},
   "source": [
    "## Part B - Load Data"
   ]
  },
  {
   "cell_type": "code",
   "execution_count": 4,
   "metadata": {},
   "outputs": [
    {
     "name": "stdout",
     "output_type": "stream",
     "text": [
      "C:\\Users\\AndreVermeulen\\Documents\\My Book\\apress\\Industrialized Machine Learning\\book\\IML\\Data\\Roses01.csv\n"
     ]
    }
   ],
   "source": [
    "fileName = '../../Data/Roses01.csv'\n",
    "fileFullName = os.path.abspath(fileName)\n",
    "print(fileFullName)"
   ]
  },
  {
   "cell_type": "code",
   "execution_count": 5,
   "metadata": {},
   "outputs": [
    {
     "name": "stdout",
     "output_type": "stream",
     "text": [
      "(150, 6)\n",
      "Index(['F01', 'F02', 'F03', 'F04', 'T', 'T2'], dtype='object')\n"
     ]
    }
   ],
   "source": [
    "rosedf= pd.read_csv(fileFullName, header=0)\n",
    "print(rosedf.shape)\n",
    "print(rosedf.columns)"
   ]
  },
  {
   "cell_type": "code",
   "execution_count": 6,
   "metadata": {},
   "outputs": [],
   "source": [
    "rose = np.array(rosedf)\n",
    "rose_data = np.array(rosedf[['F01','F02']].copy(deep=True))\n",
    "rose_target = np.array(rosedf[['T']].copy(deep=True))"
   ]
  },
  {
   "cell_type": "markdown",
   "metadata": {},
   "source": [
    "## Part C - Load Model"
   ]
  },
  {
   "cell_type": "code",
   "execution_count": 7,
   "metadata": {},
   "outputs": [],
   "source": [
    "clf = tree.DecisionTreeClassifier(max_features=None, presort=True, criterion='gini', class_weight='balanced',random_state=321)"
   ]
  },
  {
   "cell_type": "code",
   "execution_count": 8,
   "metadata": {},
   "outputs": [
    {
     "name": "stdout",
     "output_type": "stream",
     "text": [
      "{'class_weight': 'balanced', 'criterion': 'gini', 'max_depth': None, 'max_features': None, 'max_leaf_nodes': None, 'min_impurity_decrease': 0.0, 'min_impurity_split': None, 'min_samples_leaf': 1, 'min_samples_split': 2, 'min_weight_fraction_leaf': 0.0, 'presort': True, 'random_state': 321, 'splitter': 'best'}\n"
     ]
    }
   ],
   "source": [
    "print(clf.get_params(deep=True))"
   ]
  },
  {
   "cell_type": "markdown",
   "metadata": {},
   "source": [
    "## Part D - Train the Model"
   ]
  },
  {
   "cell_type": "code",
   "execution_count": 9,
   "metadata": {},
   "outputs": [],
   "source": [
    "clfr = clf.fit(rose_data, rose_target)"
   ]
  },
  {
   "cell_type": "markdown",
   "metadata": {},
   "source": [
    "## Part E - Score the Model"
   ]
  },
  {
   "cell_type": "code",
   "execution_count": 10,
   "metadata": {},
   "outputs": [
    {
     "name": "stdout",
     "output_type": "stream",
     "text": [
      "Score:  0.9067\n"
     ]
    }
   ],
   "source": [
    "print('Score: %7.4f' % (clf.score(rose_data[75:], rose_target[75:])))"
   ]
  },
  {
   "cell_type": "code",
   "execution_count": 11,
   "metadata": {},
   "outputs": [
    {
     "name": "stdout",
     "output_type": "stream",
     "text": [
      "Features:\n",
      "[[5.  2. ]\n",
      " [6.  2.2]\n",
      " [6.2 2.2]\n",
      " [6.  2.2]\n",
      " [4.5 2.3]\n",
      " [5.5 2.3]\n",
      " [6.3 2.3]\n",
      " [5.  2.3]]\n",
      "Targets:\n",
      "[[2]\n",
      " [2]\n",
      " [2]\n",
      " [3]\n",
      " [1]\n",
      " [2]\n",
      " [2]\n",
      " [2]]\n",
      "Predict Targets:\n",
      "[[2]\n",
      " [2]\n",
      " [2]\n",
      " [3]\n",
      " [1]\n",
      " [2]\n",
      " [2]\n",
      " [2]]\n",
      "----------------------------------\n",
      "Predict class probabilities:\n",
      "[[0.  1.  0. ]\n",
      " [0.  0.5 0.5]\n",
      " [0.  1.  0. ]\n",
      " [0.  0.5 0.5]\n",
      " [1.  0.  0. ]\n",
      " [0.  1.  0. ]\n",
      " [0.  1.  0. ]\n",
      " [0.  1.  0. ]]\n",
      "----------------------------------\n",
      "Score:  0.8750\n"
     ]
    }
   ],
   "source": [
    "tx=rose_data[:8]\n",
    "ty=rose_target[:8]\n",
    "typ=clfr.predict(tx)\n",
    "print('Features:')\n",
    "print(tx)\n",
    "print('Targets:')\n",
    "print(ty)\n",
    "print('Predict Targets:')\n",
    "print(ty)\n",
    "print('----------------------------------')\n",
    "print('Predict class probabilities:')\n",
    "print(clfr.predict_proba(tx))\n",
    "print('----------------------------------')\n",
    "print('Score: %7.4f' % (clf.score(tx, ty)))"
   ]
  },
  {
   "cell_type": "code",
   "execution_count": 12,
   "metadata": {},
   "outputs": [
    {
     "name": "stdout",
     "output_type": "stream",
     "text": [
      "[[5.7 4.4]]\n"
     ]
    }
   ],
   "source": [
    "t=rose_data[-1:]\n",
    "print(t)"
   ]
  },
  {
   "cell_type": "code",
   "execution_count": 13,
   "metadata": {},
   "outputs": [
    {
     "name": "stdout",
     "output_type": "stream",
     "text": [
      "  (0, 0)\t1\n",
      "  (0, 14)\t1\n",
      "  (0, 15)\t1\n",
      "  (0, 51)\t1\n"
     ]
    }
   ],
   "source": [
    "print(clfr.decision_path(t))"
   ]
  },
  {
   "cell_type": "code",
   "execution_count": 14,
   "metadata": {},
   "outputs": [
    {
     "name": "stdout",
     "output_type": "stream",
     "text": [
      "Number of Classes:\n",
      "3\n"
     ]
    }
   ],
   "source": [
    "print('Number of Classes:')\n",
    "print(clfr.n_classes_)"
   ]
  },
  {
   "cell_type": "code",
   "execution_count": 15,
   "metadata": {},
   "outputs": [
    {
     "name": "stdout",
     "output_type": "stream",
     "text": [
      "Classes:\n",
      "[1 2 3]\n"
     ]
    }
   ],
   "source": [
    "print('Classes:')\n",
    "print(clfr.classes_)"
   ]
  },
  {
   "cell_type": "code",
   "execution_count": 16,
   "metadata": {},
   "outputs": [
    {
     "name": "stdout",
     "output_type": "stream",
     "text": [
      "Feature importances:\n",
      "[0.6604608 0.3395392]\n"
     ]
    }
   ],
   "source": [
    "print('Feature importances:')\n",
    "print(clfr.feature_importances_)"
   ]
  },
  {
   "cell_type": "code",
   "execution_count": 17,
   "metadata": {},
   "outputs": [
    {
     "name": "stdout",
     "output_type": "stream",
     "text": [
      "Number of features:\n",
      "2\n"
     ]
    }
   ],
   "source": [
    "print('Number of features:')\n",
    "print(clfr.n_features_)"
   ]
  },
  {
   "cell_type": "code",
   "execution_count": 18,
   "metadata": {},
   "outputs": [
    {
     "name": "stdout",
     "output_type": "stream",
     "text": [
      "Inferred value of max features:\n",
      "2\n"
     ]
    }
   ],
   "source": [
    "print('Inferred value of max features:')\n",
    "print(clfr.max_features_)"
   ]
  },
  {
   "cell_type": "code",
   "execution_count": 19,
   "metadata": {},
   "outputs": [
    {
     "name": "stdout",
     "output_type": "stream",
     "text": [
      "Number of Outputs:\n",
      "1\n"
     ]
    }
   ],
   "source": [
    "print('Number of Outputs:')\n",
    "print(clfr.n_outputs_)"
   ]
  },
  {
   "cell_type": "code",
   "execution_count": 20,
   "metadata": {},
   "outputs": [
    {
     "name": "stdout",
     "output_type": "stream",
     "text": [
      "Tree Nodes:\n",
      "93\n"
     ]
    }
   ],
   "source": [
    "print('Tree Nodes:')\n",
    "print(clfr.tree_.node_count)"
   ]
  },
  {
   "cell_type": "markdown",
   "metadata": {},
   "source": [
    "## Part F - Display the Model"
   ]
  },
  {
   "cell_type": "code",
   "execution_count": 21,
   "metadata": {},
   "outputs": [
    {
     "name": "stdout",
     "output_type": "stream",
     "text": [
      "The tree structure has 93 nodes and has the following tree structure:\n",
      "node=0 test node: go to node 1 if X[:, 0] <= 5.450000047683716 else to node 14.\n",
      "\tnode=1 test node: go to node 2 if X[:, 1] <= 2.8000000715255737 else to node 9.\n",
      "\t\tnode=2 test node: go to node 3 if X[:, 0] <= 4.700000047683716 else to node 4.\n",
      "\t\t\tnode=3 leaf node.\n",
      "\t\t\tnode=4 test node: go to node 5 if X[:, 0] <= 4.950000047683716 else to node 8.\n",
      "\t\t\t\tnode=5 test node: go to node 6 if X[:, 1] <= 2.450000047683716 else to node 7.\n",
      "\t\t\t\t\tnode=6 leaf node.\n",
      "\t\t\t\t\tnode=7 leaf node.\n",
      "\t\t\t\tnode=8 leaf node.\n",
      "\t\tnode=9 test node: go to node 10 if X[:, 0] <= 5.3500001430511475 else to node 11.\n",
      "\t\t\tnode=10 leaf node.\n",
      "\t\t\tnode=11 test node: go to node 12 if X[:, 1] <= 3.200000047683716 else to node 13.\n",
      "\t\t\t\tnode=12 leaf node.\n",
      "\t\t\t\tnode=13 leaf node.\n",
      "\tnode=14 test node: go to node 15 if X[:, 0] <= 6.1499998569488525 else to node 52.\n",
      "\t\tnode=15 test node: go to node 16 if X[:, 1] <= 3.450000047683716 else to node 51.\n",
      "\t\t\tnode=16 test node: go to node 17 if X[:, 0] <= 5.75 else to node 30.\n",
      "\t\t\t\tnode=17 test node: go to node 18 if X[:, 0] <= 5.549999952316284 else to node 19.\n",
      "\t\t\t\t\tnode=18 leaf node.\n",
      "\t\t\t\t\tnode=19 test node: go to node 20 if X[:, 1] <= 2.549999952316284 else to node 23.\n",
      "\t\t\t\t\t\tnode=20 test node: go to node 21 if X[:, 0] <= 5.6499998569488525 else to node 22.\n",
      "\t\t\t\t\t\t\tnode=21 leaf node.\n",
      "\t\t\t\t\t\t\tnode=22 leaf node.\n",
      "\t\t\t\t\t\tnode=23 test node: go to node 24 if X[:, 1] <= 2.850000023841858 else to node 29.\n",
      "\t\t\t\t\t\t\tnode=24 test node: go to node 25 if X[:, 0] <= 5.6499998569488525 else to node 28.\n",
      "\t\t\t\t\t\t\t\tnode=25 test node: go to node 26 if X[:, 1] <= 2.75 else to node 27.\n",
      "\t\t\t\t\t\t\t\t\tnode=26 leaf node.\n",
      "\t\t\t\t\t\t\t\t\tnode=27 leaf node.\n",
      "\t\t\t\t\t\t\t\tnode=28 leaf node.\n",
      "\t\t\t\t\t\t\tnode=29 leaf node.\n",
      "\t\t\t\tnode=30 test node: go to node 31 if X[:, 1] <= 3.100000023841858 else to node 50.\n",
      "\t\t\t\t\tnode=31 test node: go to node 32 if X[:, 1] <= 2.950000047683716 else to node 45.\n",
      "\t\t\t\t\t\tnode=32 test node: go to node 33 if X[:, 1] <= 2.850000023841858 else to node 44.\n",
      "\t\t\t\t\t\t\tnode=33 test node: go to node 34 if X[:, 0] <= 5.900000095367432 else to node 39.\n",
      "\t\t\t\t\t\t\t\tnode=34 test node: go to node 35 if X[:, 1] <= 2.649999976158142 else to node 36.\n",
      "\t\t\t\t\t\t\t\t\tnode=35 leaf node.\n",
      "\t\t\t\t\t\t\t\t\tnode=36 test node: go to node 37 if X[:, 1] <= 2.75 else to node 38.\n",
      "\t\t\t\t\t\t\t\t\t\tnode=37 leaf node.\n",
      "\t\t\t\t\t\t\t\t\t\tnode=38 leaf node.\n",
      "\t\t\t\t\t\t\t\tnode=39 test node: go to node 40 if X[:, 1] <= 2.649999976158142 else to node 43.\n",
      "\t\t\t\t\t\t\t\t\tnode=40 test node: go to node 41 if X[:, 1] <= 2.399999976158142 else to node 42.\n",
      "\t\t\t\t\t\t\t\t\t\tnode=41 leaf node.\n",
      "\t\t\t\t\t\t\t\t\t\tnode=42 leaf node.\n",
      "\t\t\t\t\t\t\t\t\tnode=43 leaf node.\n",
      "\t\t\t\t\t\t\tnode=44 leaf node.\n",
      "\t\t\t\t\t\tnode=45 test node: go to node 46 if X[:, 0] <= 5.950000047683716 else to node 47.\n",
      "\t\t\t\t\t\t\tnode=46 leaf node.\n",
      "\t\t\t\t\t\t\tnode=47 test node: go to node 48 if X[:, 0] <= 6.049999952316284 else to node 49.\n",
      "\t\t\t\t\t\t\t\tnode=48 leaf node.\n",
      "\t\t\t\t\t\t\t\tnode=49 leaf node.\n",
      "\t\t\t\t\tnode=50 leaf node.\n",
      "\t\t\tnode=51 leaf node.\n",
      "\t\tnode=52 test node: go to node 53 if X[:, 0] <= 7.049999952316284 else to node 92.\n",
      "\t\t\tnode=53 test node: go to node 54 if X[:, 1] <= 2.399999976158142 else to node 55.\n",
      "\t\t\t\tnode=54 leaf node.\n",
      "\t\t\t\tnode=55 test node: go to node 56 if X[:, 0] <= 6.950000047683716 else to node 91.\n",
      "\t\t\t\t\tnode=56 test node: go to node 57 if X[:, 1] <= 3.149999976158142 else to node 84.\n",
      "\t\t\t\t\t\tnode=57 test node: go to node 58 if X[:, 0] <= 6.549999952316284 else to node 71.\n",
      "\t\t\t\t\t\t\tnode=58 test node: go to node 59 if X[:, 1] <= 2.950000047683716 else to node 70.\n",
      "\t\t\t\t\t\t\t\tnode=59 test node: go to node 60 if X[:, 0] <= 6.450000047683716 else to node 69.\n",
      "\t\t\t\t\t\t\t\t\tnode=60 test node: go to node 61 if X[:, 1] <= 2.850000023841858 else to node 64.\n",
      "\t\t\t\t\t\t\t\t\t\tnode=61 test node: go to node 62 if X[:, 1] <= 2.600000023841858 else to node 63.\n",
      "\t\t\t\t\t\t\t\t\t\t\tnode=62 leaf node.\n",
      "\t\t\t\t\t\t\t\t\t\t\tnode=63 leaf node.\n",
      "\t\t\t\t\t\t\t\t\t\tnode=64 test node: go to node 65 if X[:, 0] <= 6.25 else to node 66.\n",
      "\t\t\t\t\t\t\t\t\t\t\tnode=65 leaf node.\n",
      "\t\t\t\t\t\t\t\t\t\t\tnode=66 test node: go to node 67 if X[:, 0] <= 6.3500001430511475 else to node 68.\n",
      "\t\t\t\t\t\t\t\t\t\t\t\tnode=67 leaf node.\n",
      "\t\t\t\t\t\t\t\t\t\t\t\tnode=68 leaf node.\n",
      "\t\t\t\t\t\t\t\t\tnode=69 leaf node.\n",
      "\t\t\t\t\t\t\t\tnode=70 leaf node.\n",
      "\t\t\t\t\t\t\tnode=71 test node: go to node 72 if X[:, 0] <= 6.6499998569488525 else to node 73.\n",
      "\t\t\t\t\t\t\t\tnode=72 leaf node.\n",
      "\t\t\t\t\t\t\t\tnode=73 test node: go to node 74 if X[:, 1] <= 2.649999976158142 else to node 75.\n",
      "\t\t\t\t\t\t\t\t\tnode=74 leaf node.\n",
      "\t\t\t\t\t\t\t\t\tnode=75 test node: go to node 76 if X[:, 1] <= 2.899999976158142 else to node 77.\n",
      "\t\t\t\t\t\t\t\t\t\tnode=76 leaf node.\n",
      "\t\t\t\t\t\t\t\t\t\tnode=77 test node: go to node 78 if X[:, 0] <= 6.75 else to node 81.\n",
      "\t\t\t\t\t\t\t\t\t\t\tnode=78 test node: go to node 79 if X[:, 1] <= 3.049999952316284 else to node 80.\n",
      "\t\t\t\t\t\t\t\t\t\t\t\tnode=79 leaf node.\n",
      "\t\t\t\t\t\t\t\t\t\t\t\tnode=80 leaf node.\n",
      "\t\t\t\t\t\t\t\t\t\t\tnode=81 test node: go to node 82 if X[:, 1] <= 3.049999952316284 else to node 83.\n",
      "\t\t\t\t\t\t\t\t\t\t\t\tnode=82 leaf node.\n",
      "\t\t\t\t\t\t\t\t\t\t\t\tnode=83 leaf node.\n",
      "\t\t\t\t\t\tnode=84 test node: go to node 85 if X[:, 0] <= 6.450000047683716 else to node 90.\n",
      "\t\t\t\t\t\t\tnode=85 test node: go to node 86 if X[:, 1] <= 3.350000023841858 else to node 89.\n",
      "\t\t\t\t\t\t\t\tnode=86 test node: go to node 87 if X[:, 1] <= 3.25 else to node 88.\n",
      "\t\t\t\t\t\t\t\t\tnode=87 leaf node.\n",
      "\t\t\t\t\t\t\t\t\tnode=88 leaf node.\n",
      "\t\t\t\t\t\t\t\tnode=89 leaf node.\n",
      "\t\t\t\t\t\t\tnode=90 leaf node.\n",
      "\t\t\t\t\tnode=91 leaf node.\n",
      "\t\t\tnode=92 leaf node.\n",
      "\n"
     ]
    }
   ],
   "source": [
    "n_nodes = clfr.tree_.node_count\n",
    "children_left = clfr.tree_.children_left\n",
    "children_right = clfr.tree_.children_right\n",
    "feature = clfr.tree_.feature\n",
    "threshold = clfr.tree_.threshold\n",
    "\n",
    "\n",
    "node_depth = np.zeros(shape=n_nodes, dtype=np.int64)\n",
    "is_leaves = np.zeros(shape=n_nodes, dtype=bool)\n",
    "stack = [(0, -1)]  # seed is the root node id plus parent depth\n",
    "while len(stack) > 0:\n",
    "    node_id, parent_depth = stack.pop()\n",
    "    node_depth[node_id] = parent_depth + 1\n",
    "\n",
    "    if (children_left[node_id] != children_right[node_id]):\n",
    "        stack.append((children_left[node_id], parent_depth + 1))\n",
    "        stack.append((children_right[node_id], parent_depth + 1))\n",
    "    else:\n",
    "        is_leaves[node_id] = True\n",
    "\n",
    "print(\"The tree structure has %s nodes and has the following tree structure:\" % n_nodes)\n",
    "for i in range(n_nodes):\n",
    "    if is_leaves[i]:\n",
    "        print(\"%snode=%s leaf node.\" % (node_depth[i] * \"\\t\", i))\n",
    "    else:\n",
    "        print(\"%snode=%s test node: go to node %s if X[:, %s] <= %s else to node %s.\" % (node_depth[i] * \"\\t\",\n",
    "                 i,\n",
    "                 children_left[i],\n",
    "                 feature[i],\n",
    "                 threshold[i],\n",
    "                 children_right[i],\n",
    "                 ))\n",
    "print()"
   ]
  },
  {
   "cell_type": "code",
   "execution_count": 22,
   "metadata": {},
   "outputs": [],
   "source": [
    "dot_data = tree.export_graphviz(clfr, out_file=None) \n",
    "graph = gv.Source(dot_data, format='png')"
   ]
  },
  {
   "cell_type": "code",
   "execution_count": 23,
   "metadata": {},
   "outputs": [
    {
     "name": "stdout",
     "output_type": "stream",
     "text": [
      "C:\\Users\\AndreVermeulen\\Documents\\My Book\\apress\\Industrialized Machine Learning\\book\\IML\\Results\\Chapter 04\n"
     ]
    }
   ],
   "source": [
    "imagepath = os.path.join(*[os.path.dirname(os.path.dirname(os.getcwd())),'Results','Chapter 04'])\n",
    "print(imagepath)"
   ]
  },
  {
   "cell_type": "code",
   "execution_count": 24,
   "metadata": {},
   "outputs": [],
   "source": [
    "if not os.path.exists(imagepath):\n",
    "    os.makedirs(imagepath)"
   ]
  },
  {
   "cell_type": "code",
   "execution_count": 25,
   "metadata": {},
   "outputs": [],
   "source": [
    "imagename = os.path.join(*[os.path.dirname(os.path.dirname(os.getcwd())),'Results','Chapter 04','Chapter-004-Example-015-01.dot'])"
   ]
  },
  {
   "cell_type": "code",
   "execution_count": 26,
   "metadata": {},
   "outputs": [
    {
     "data": {
      "text/plain": [
       "'C:\\\\Users\\\\AndreVermeulen\\\\Documents\\\\My Book\\\\apress\\\\Industrialized Machine Learning\\\\book\\\\IML\\\\Results\\\\Chapter 04\\\\Chapter-004-Example-015-01.dot.png'"
      ]
     },
     "execution_count": 26,
     "metadata": {},
     "output_type": "execute_result"
    }
   ],
   "source": [
    "graph.render(filename=imagename)"
   ]
  },
  {
   "cell_type": "code",
   "execution_count": 27,
   "metadata": {},
   "outputs": [
    {
     "data": {
      "text/plain": [
       "'C:\\\\Users\\\\AndreVermeulen\\\\Documents\\\\My Book\\\\apress\\\\Industrialized Machine Learning\\\\book\\\\IML\\\\Results\\\\Chapter 04\\\\Chapter-004-Example-015-01.png'"
      ]
     },
     "execution_count": 27,
     "metadata": {},
     "output_type": "execute_result"
    }
   ],
   "source": [
    "imagename1 = os.path.join(*[os.path.dirname(os.path.dirname(os.getcwd())),'Results','Chapter 04','Chapter-004-Example-015-01.dot.png'])\n",
    "imagename2 = os.path.join(*[os.path.dirname(os.path.dirname(os.getcwd())),'Results','Chapter 04','Chapter-004-Example-015-01.png'])\n",
    "os.remove(imagename)\n",
    "shutil.move(imagename1,imagename2)"
   ]
  },
  {
   "cell_type": "code",
   "execution_count": 28,
   "metadata": {},
   "outputs": [],
   "source": [
    "gv.view(imagename2)"
   ]
  },
  {
   "cell_type": "markdown",
   "metadata": {},
   "source": [
    "## Done"
   ]
  },
  {
   "cell_type": "code",
   "execution_count": 29,
   "metadata": {},
   "outputs": [
    {
     "name": "stdout",
     "output_type": "stream",
     "text": [
      "Done! 2019-04-09 08:58:55.840393\n"
     ]
    }
   ],
   "source": [
    "import datetime\n",
    "now = datetime.datetime.now()\n",
    "print('Done!',str(now))"
   ]
  },
  {
   "cell_type": "code",
   "execution_count": null,
   "metadata": {},
   "outputs": [],
   "source": []
  }
 ],
 "metadata": {
  "kernelspec": {
   "display_name": "Python 3",
   "language": "python",
   "name": "python3"
  },
  "language_info": {
   "codemirror_mode": {
    "name": "ipython",
    "version": 3
   },
   "file_extension": ".py",
   "mimetype": "text/x-python",
   "name": "python",
   "nbconvert_exporter": "python",
   "pygments_lexer": "ipython3",
   "version": "3.6.7"
  }
 },
 "nbformat": 4,
 "nbformat_minor": 2
}
