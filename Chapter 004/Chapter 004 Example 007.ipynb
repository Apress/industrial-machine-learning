{
 "cells": [
  {
   "cell_type": "markdown",
   "metadata": {},
   "source": [
    "## Apress - Industrialized Machine Learning Examples\n",
    "\n",
    "Andreas Francois Vermeulen\n",
    "2019\n",
    "\n",
    "### This is an example add-on to a book and needs to be accepted as part of that copyright."
   ]
  },
  {
   "cell_type": "markdown",
   "metadata": {},
   "source": [
    "# Chapter 004 Example 007"
   ]
  },
  {
   "cell_type": "markdown",
   "metadata": {},
   "source": [
    "## Part A - Load libraries"
   ]
  },
  {
   "cell_type": "code",
   "execution_count": 1,
   "metadata": {},
   "outputs": [],
   "source": [
    "from sklearn.naive_bayes import GaussianNB\n",
    "import pandas as pd\n",
    "import os\n",
    "import numpy as np"
   ]
  },
  {
   "cell_type": "markdown",
   "metadata": {},
   "source": [
    "## Part B - Load Data"
   ]
  },
  {
   "cell_type": "code",
   "execution_count": 2,
   "metadata": {},
   "outputs": [
    {
     "name": "stdout",
     "output_type": "stream",
     "text": [
      "C:\\Users\\AndreVermeulen\\Documents\\My Book\\apress\\Industrialized Machine Learning\\book\\IML\\Data\\Roses01.csv\n"
     ]
    }
   ],
   "source": [
    "fileName = '../../Data/Roses01.csv'\n",
    "fileFullName = os.path.abspath(fileName)\n",
    "print(fileFullName)"
   ]
  },
  {
   "cell_type": "code",
   "execution_count": 3,
   "metadata": {},
   "outputs": [
    {
     "name": "stdout",
     "output_type": "stream",
     "text": [
      "(150, 6)\n",
      "Index(['F01', 'F02', 'F03', 'F04', 'T', 'T2'], dtype='object')\n"
     ]
    }
   ],
   "source": [
    "rosesdf= pd.read_csv(fileFullName,header=0)\n",
    "print(rosesdf.shape)\n",
    "print(rosesdf.columns)"
   ]
  },
  {
   "cell_type": "code",
   "execution_count": 4,
   "metadata": {},
   "outputs": [],
   "source": [
    "X_raw = np.array(rosesdf[['F01', 'F02', 'F03', 'F04']]) \n",
    "Y = np.array(rosesdf['T'])"
   ]
  },
  {
   "cell_type": "markdown",
   "metadata": {},
   "source": [
    "## Part C - Load Data Feature F01 and test for mislabeled data"
   ]
  },
  {
   "cell_type": "code",
   "execution_count": 5,
   "metadata": {},
   "outputs": [
    {
     "name": "stdout",
     "output_type": "stream",
     "text": [
      "Number of mislabeled Rose Feature F01 points out of a total 150 points : 41 =>  27.333 %\n"
     ]
    }
   ],
   "source": [
    "X = np.array(X_raw[:,[0]]) \n",
    "gnb1 = GaussianNB()\n",
    "y_pred = gnb1.fit(X, Y).predict(X)\n",
    "tot=X.shape[0]\n",
    "totwrong=(Y != y_pred).sum()\n",
    "perswrong=(totwrong/tot) * 100\n",
    "print(\"Number of mislabeled Rose Feature F01 points out of a total %d points : %d => %7.3f %%\" % (tot, totwrong, perswrong))"
   ]
  },
  {
   "cell_type": "code",
   "execution_count": 6,
   "metadata": {},
   "outputs": [
    {
     "name": "stdout",
     "output_type": "stream",
     "text": [
      "Probability of each class:\n",
      "[0.33333333 0.33333333 0.33333333]\n"
     ]
    }
   ],
   "source": [
    "print('Probability of each class:')\n",
    "print(gnb1.class_prior_)"
   ]
  },
  {
   "cell_type": "code",
   "execution_count": 7,
   "metadata": {},
   "outputs": [
    {
     "name": "stdout",
     "output_type": "stream",
     "text": [
      "Number of training samples observed in each class:\n",
      "[50. 50. 50.]\n"
     ]
    }
   ],
   "source": [
    "print('Number of training samples observed in each class:')\n",
    "print(gnb1.class_count_)"
   ]
  },
  {
   "cell_type": "code",
   "execution_count": 8,
   "metadata": {},
   "outputs": [
    {
     "name": "stdout",
     "output_type": "stream",
     "text": [
      "Mean of each feature per class:\n",
      "[[5.006]\n",
      " [5.936]\n",
      " [6.588]]\n"
     ]
    }
   ],
   "source": [
    "print('Mean of each feature per class:')\n",
    "print(gnb1.theta_)"
   ]
  },
  {
   "cell_type": "code",
   "execution_count": 9,
   "metadata": {},
   "outputs": [
    {
     "name": "stdout",
     "output_type": "stream",
     "text": [
      "Variance of each feature per class:\n",
      "[[0.121764]\n",
      " [0.261104]\n",
      " [0.396256]]\n"
     ]
    }
   ],
   "source": [
    "print('Variance of each feature per class:')\n",
    "print(gnb1.sigma_)"
   ]
  },
  {
   "cell_type": "code",
   "execution_count": 10,
   "metadata": {},
   "outputs": [
    {
     "name": "stdout",
     "output_type": "stream",
     "text": [
      "Absolute additive value to variances:\n",
      "6.811222222222224e-10\n"
     ]
    }
   ],
   "source": [
    "print('Absolute additive value to variances:')\n",
    "print(gnb1.epsilon_)"
   ]
  },
  {
   "cell_type": "markdown",
   "metadata": {},
   "source": [
    "## Part D - Load Data Feature F02 and test for mislabeled data"
   ]
  },
  {
   "cell_type": "code",
   "execution_count": 11,
   "metadata": {},
   "outputs": [
    {
     "name": "stdout",
     "output_type": "stream",
     "text": [
      "Number of mislabeled Rose Feature F02 points out of a total 150 points : 68 =>  45.333 %\n"
     ]
    }
   ],
   "source": [
    "X = np.array(X_raw[:,[1]]) \n",
    "gnb2 = GaussianNB()\n",
    "y_pred = gnb2.fit(X, Y).predict(X)\n",
    "tot=X.shape[0]\n",
    "totwrong=(Y != y_pred).sum()\n",
    "perswrong=(totwrong/tot) * 100\n",
    "print(\"Number of mislabeled Rose Feature F02 points out of a total %d points : %d => %7.3f %%\" % (tot, totwrong, perswrong))"
   ]
  },
  {
   "cell_type": "code",
   "execution_count": 12,
   "metadata": {},
   "outputs": [
    {
     "name": "stdout",
     "output_type": "stream",
     "text": [
      "Probability of each class:\n",
      "[0.33333333 0.33333333 0.33333333]\n"
     ]
    }
   ],
   "source": [
    "print('Probability of each class:')\n",
    "print(gnb2.class_prior_)"
   ]
  },
  {
   "cell_type": "code",
   "execution_count": 13,
   "metadata": {},
   "outputs": [
    {
     "name": "stdout",
     "output_type": "stream",
     "text": [
      "Number of training samples observed in each class:\n",
      "[50. 50. 50.]\n"
     ]
    }
   ],
   "source": [
    "print('Number of training samples observed in each class:')\n",
    "print(gnb2.class_count_)"
   ]
  },
  {
   "cell_type": "code",
   "execution_count": 14,
   "metadata": {},
   "outputs": [
    {
     "name": "stdout",
     "output_type": "stream",
     "text": [
      "Mean of each feature per class:\n",
      "[[3.418]\n",
      " [2.77 ]\n",
      " [2.974]]\n"
     ]
    }
   ],
   "source": [
    "print('Mean of each feature per class:')\n",
    "print(gnb2.theta_)"
   ]
  },
  {
   "cell_type": "code",
   "execution_count": 15,
   "metadata": {},
   "outputs": [
    {
     "name": "stdout",
     "output_type": "stream",
     "text": [
      "Variance of each feature per class:\n",
      "[[0.142276]\n",
      " [0.0965  ]\n",
      " [0.101924]]\n"
     ]
    }
   ],
   "source": [
    "print('Variance of each feature per class:')\n",
    "print(gnb2.sigma_)"
   ]
  },
  {
   "cell_type": "code",
   "execution_count": 16,
   "metadata": {},
   "outputs": [
    {
     "name": "stdout",
     "output_type": "stream",
     "text": [
      "Absolute additive value to variances:\n",
      "1.8675066666666667e-10\n"
     ]
    }
   ],
   "source": [
    "print('Absolute additive value to variances:')\n",
    "print(gnb2.epsilon_)"
   ]
  },
  {
   "cell_type": "markdown",
   "metadata": {},
   "source": [
    "## Part E - Load Data Feature F03 and test for mislabeled data"
   ]
  },
  {
   "cell_type": "code",
   "execution_count": 17,
   "metadata": {},
   "outputs": [
    {
     "name": "stdout",
     "output_type": "stream",
     "text": [
      "Number of mislabeled Rose Feature F03 points out of a total 150 points : 7 =>   4.667 %\n"
     ]
    }
   ],
   "source": [
    "X = np.array(X_raw[:,[2]]) \n",
    "gnb3 = GaussianNB()\n",
    "y_pred = gnb3.fit(X, Y).predict(X)\n",
    "tot=X.shape[0]\n",
    "totwrong=(Y != y_pred).sum()\n",
    "perswrong=(totwrong/tot) * 100\n",
    "print(\"Number of mislabeled Rose Feature F03 points out of a total %d points : %d => %7.3f %%\" % (tot, totwrong, perswrong))"
   ]
  },
  {
   "cell_type": "code",
   "execution_count": 18,
   "metadata": {},
   "outputs": [
    {
     "name": "stdout",
     "output_type": "stream",
     "text": [
      "Probability of each class:\n",
      "[0.33333333 0.33333333 0.33333333]\n"
     ]
    }
   ],
   "source": [
    "print('Probability of each class:')\n",
    "print(gnb3.class_prior_)"
   ]
  },
  {
   "cell_type": "code",
   "execution_count": 19,
   "metadata": {},
   "outputs": [
    {
     "name": "stdout",
     "output_type": "stream",
     "text": [
      "Number of training samples observed in each class:\n",
      "[50. 50. 50.]\n"
     ]
    }
   ],
   "source": [
    "print('Number of training samples observed in each class:')\n",
    "print(gnb3.class_count_)"
   ]
  },
  {
   "cell_type": "code",
   "execution_count": 20,
   "metadata": {},
   "outputs": [
    {
     "name": "stdout",
     "output_type": "stream",
     "text": [
      "Mean of each feature per class:\n",
      "[[1.464]\n",
      " [4.26 ]\n",
      " [5.552]]\n"
     ]
    }
   ],
   "source": [
    "print('Mean of each feature per class:')\n",
    "print(gnb3.theta_)"
   ]
  },
  {
   "cell_type": "code",
   "execution_count": 21,
   "metadata": {},
   "outputs": [
    {
     "name": "stdout",
     "output_type": "stream",
     "text": [
      "Variance of each feature per class:\n",
      "[[0.029504]\n",
      " [0.2164  ]\n",
      " [0.298496]]\n"
     ]
    }
   ],
   "source": [
    "print('Variance of each feature per class:')\n",
    "print(gnb3.sigma_)"
   ]
  },
  {
   "cell_type": "code",
   "execution_count": 22,
   "metadata": {},
   "outputs": [
    {
     "name": "stdout",
     "output_type": "stream",
     "text": [
      "Absolute additive value to variances:\n",
      "3.092424888888889e-09\n"
     ]
    }
   ],
   "source": [
    "print('Absolute additive value to variances:')\n",
    "print(gnb3.epsilon_)"
   ]
  },
  {
   "cell_type": "markdown",
   "metadata": {},
   "source": [
    "## Part F - Load Data Feature F04 and test for mislabeled data"
   ]
  },
  {
   "cell_type": "code",
   "execution_count": 23,
   "metadata": {},
   "outputs": [
    {
     "name": "stdout",
     "output_type": "stream",
     "text": [
      "Number of mislabeled Rose Feature F04 points out of a total 150 points : 6 =>   4.000 %\n"
     ]
    }
   ],
   "source": [
    "X = np.array(X_raw[:,[3]]) \n",
    "gnb4 = GaussianNB()\n",
    "y_pred = gnb4.fit(X, Y).predict(X)\n",
    "tot=X.shape[0]\n",
    "totwrong=(Y != y_pred).sum()\n",
    "perswrong=(totwrong/tot) * 100\n",
    "print(\"Number of mislabeled Rose Feature F04 points out of a total %d points : %d => %7.3f %%\" % (tot, totwrong, perswrong))"
   ]
  },
  {
   "cell_type": "code",
   "execution_count": 24,
   "metadata": {},
   "outputs": [
    {
     "name": "stdout",
     "output_type": "stream",
     "text": [
      "Probability of each class:\n",
      "[0.33333333 0.33333333 0.33333333]\n"
     ]
    }
   ],
   "source": [
    "print('Probability of each class:')\n",
    "print(gnb4.class_prior_)"
   ]
  },
  {
   "cell_type": "code",
   "execution_count": 25,
   "metadata": {},
   "outputs": [
    {
     "name": "stdout",
     "output_type": "stream",
     "text": [
      "Number of training samples observed in each class:\n",
      "[50. 50. 50.]\n"
     ]
    }
   ],
   "source": [
    "print('Number of training samples observed in each class:')\n",
    "print(gnb4.class_count_)"
   ]
  },
  {
   "cell_type": "code",
   "execution_count": 26,
   "metadata": {},
   "outputs": [
    {
     "name": "stdout",
     "output_type": "stream",
     "text": [
      "Mean of each feature per class:\n",
      "[[0.244]\n",
      " [1.326]\n",
      " [2.026]]\n"
     ]
    }
   ],
   "source": [
    "print('Mean of each feature per class:')\n",
    "print(gnb4.theta_)"
   ]
  },
  {
   "cell_type": "code",
   "execution_count": 27,
   "metadata": {},
   "outputs": [
    {
     "name": "stdout",
     "output_type": "stream",
     "text": [
      "Variance of each feature per class:\n",
      "[[0.011264]\n",
      " [0.038324]\n",
      " [0.073924]]\n"
     ]
    }
   ],
   "source": [
    "print('Variance of each feature per class:')\n",
    "print(gnb4.sigma_)"
   ]
  },
  {
   "cell_type": "code",
   "execution_count": 28,
   "metadata": {},
   "outputs": [
    {
     "name": "stdout",
     "output_type": "stream",
     "text": [
      "Absolute additive value to variances:\n",
      "5.785315555555557e-10\n"
     ]
    }
   ],
   "source": [
    "print('Absolute additive value to variances:')\n",
    "print(gnb4.epsilon_)"
   ]
  },
  {
   "cell_type": "markdown",
   "metadata": {},
   "source": [
    "## Part G - Load Data Feature F01, F02, F03 and F04 and test for mislabeled data"
   ]
  },
  {
   "cell_type": "code",
   "execution_count": 29,
   "metadata": {},
   "outputs": [
    {
     "name": "stdout",
     "output_type": "stream",
     "text": [
      "Number of mislabeled Rose Feature F01, F02, F03 and F04 points out of a total 150 points : 6 =>   4.000 %\n"
     ]
    }
   ],
   "source": [
    "X = np.array(X_raw[:,[0,1,2,3]]) \n",
    "gnb5 = GaussianNB()\n",
    "y_pred = gnb5.fit(X, Y).predict(X)\n",
    "tot=X.shape[0]\n",
    "totwrong=(Y != y_pred).sum()\n",
    "perswrong=(totwrong/tot) * 100\n",
    "print(\"Number of mislabeled Rose Feature F01, F02, F03 and F04 points out of a total %d points : %d => %7.3f %%\" % (tot, totwrong, perswrong))"
   ]
  },
  {
   "cell_type": "code",
   "execution_count": 30,
   "metadata": {},
   "outputs": [
    {
     "name": "stdout",
     "output_type": "stream",
     "text": [
      "Probability of each class:\n",
      "[0.33333333 0.33333333 0.33333333]\n"
     ]
    }
   ],
   "source": [
    "print('Probability of each class:')\n",
    "print(gnb5.class_prior_)"
   ]
  },
  {
   "cell_type": "code",
   "execution_count": 31,
   "metadata": {},
   "outputs": [
    {
     "name": "stdout",
     "output_type": "stream",
     "text": [
      "Number of training samples observed in each class:\n",
      "[50. 50. 50.]\n"
     ]
    }
   ],
   "source": [
    "print('Number of training samples observed in each class:')\n",
    "print(gnb5.class_count_)"
   ]
  },
  {
   "cell_type": "code",
   "execution_count": 32,
   "metadata": {},
   "outputs": [
    {
     "name": "stdout",
     "output_type": "stream",
     "text": [
      "Mean of each feature per class:\n",
      "[[5.006 3.418 1.464 0.244]\n",
      " [5.936 2.77  4.26  1.326]\n",
      " [6.588 2.974 5.552 2.026]]\n"
     ]
    }
   ],
   "source": [
    "print('Mean of each feature per class:')\n",
    "print(gnb5.theta_)"
   ]
  },
  {
   "cell_type": "code",
   "execution_count": 33,
   "metadata": {},
   "outputs": [
    {
     "name": "stdout",
     "output_type": "stream",
     "text": [
      "Variance of each feature per class:\n",
      "[[0.121764 0.142276 0.029504 0.011264]\n",
      " [0.261104 0.0965   0.2164   0.038324]\n",
      " [0.396256 0.101924 0.298496 0.073924]]\n"
     ]
    }
   ],
   "source": [
    "print('Variance of each feature per class:')\n",
    "print(gnb5.sigma_)"
   ]
  },
  {
   "cell_type": "code",
   "execution_count": 34,
   "metadata": {},
   "outputs": [
    {
     "name": "stdout",
     "output_type": "stream",
     "text": [
      "Absolute additive value to variances:\n",
      "3.092424888888889e-09\n"
     ]
    }
   ],
   "source": [
    "print('Absolute additive value to variances:')\n",
    "print(gnb5.epsilon_)"
   ]
  },
  {
   "cell_type": "code",
   "execution_count": 35,
   "metadata": {},
   "outputs": [
    {
     "name": "stdout",
     "output_type": "stream",
     "text": [
      "{'priors': None, 'var_smoothing': 1e-09}\n"
     ]
    }
   ],
   "source": [
    "print(gnb5.get_params(deep=True))"
   ]
  },
  {
   "cell_type": "markdown",
   "metadata": {},
   "source": [
    "## Done"
   ]
  },
  {
   "cell_type": "code",
   "execution_count": 36,
   "metadata": {},
   "outputs": [
    {
     "name": "stdout",
     "output_type": "stream",
     "text": [
      "Done! 2019-04-08 10:52:11.347850\n"
     ]
    }
   ],
   "source": [
    "import datetime\n",
    "now = datetime.datetime.now()\n",
    "print('Done!',str(now))"
   ]
  },
  {
   "cell_type": "code",
   "execution_count": null,
   "metadata": {},
   "outputs": [],
   "source": []
  }
 ],
 "metadata": {
  "kernelspec": {
   "display_name": "Python 3",
   "language": "python",
   "name": "python3"
  },
  "language_info": {
   "codemirror_mode": {
    "name": "ipython",
    "version": 3
   },
   "file_extension": ".py",
   "mimetype": "text/x-python",
   "name": "python",
   "nbconvert_exporter": "python",
   "pygments_lexer": "ipython3",
   "version": "3.6.7"
  }
 },
 "nbformat": 4,
 "nbformat_minor": 2
}
