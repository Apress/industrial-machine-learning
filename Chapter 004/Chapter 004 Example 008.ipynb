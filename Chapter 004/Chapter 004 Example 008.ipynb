{
 "cells": [
  {
   "cell_type": "markdown",
   "metadata": {},
   "source": [
    "## Apress - Industrialized Machine Learning Examples\n",
    "\n",
    "Andreas Francois Vermeulen\n",
    "2019\n",
    "\n",
    "### This is an example add-on to a book and needs to be accepted as part of that copyright."
   ]
  },
  {
   "cell_type": "markdown",
   "metadata": {},
   "source": [
    "# Chapter 004 Example 008"
   ]
  },
  {
   "cell_type": "markdown",
   "metadata": {},
   "source": [
    "## Part A - Load libraries"
   ]
  },
  {
   "cell_type": "code",
   "execution_count": 1,
   "metadata": {},
   "outputs": [],
   "source": [
    "from sklearn.naive_bayes import MultinomialNB\n",
    "import pandas as pd\n",
    "import os\n",
    "import numpy as np\n",
    "import random as r"
   ]
  },
  {
   "cell_type": "markdown",
   "metadata": {},
   "source": [
    "## Part B - Load Data"
   ]
  },
  {
   "cell_type": "code",
   "execution_count": 2,
   "metadata": {},
   "outputs": [
    {
     "name": "stdout",
     "output_type": "stream",
     "text": [
      "C:\\Users\\AndreVermeulen\\Documents\\My Book\\apress\\Industrialized Machine Learning\\book\\IML\\Data\\Roses01.csv\n"
     ]
    }
   ],
   "source": [
    "fileName = '../../Data/Roses01.csv'\n",
    "fileFullName = os.path.abspath(fileName)\n",
    "print(fileFullName)"
   ]
  },
  {
   "cell_type": "code",
   "execution_count": 3,
   "metadata": {},
   "outputs": [
    {
     "name": "stdout",
     "output_type": "stream",
     "text": [
      "(150, 6)\n",
      "Index(['F01', 'F02', 'F03', 'F04', 'T', 'T2'], dtype='object')\n"
     ]
    }
   ],
   "source": [
    "rosesdf= pd.read_csv(fileFullName,header=0)\n",
    "print(rosesdf.shape)\n",
    "print(rosesdf.columns)"
   ]
  },
  {
   "cell_type": "code",
   "execution_count": 4,
   "metadata": {},
   "outputs": [],
   "source": [
    "X_raw = np.array(rosesdf[['F01', 'F02', 'F03', 'F04']]) \n",
    "Y = np.array(rosesdf['T'])"
   ]
  },
  {
   "cell_type": "markdown",
   "metadata": {},
   "source": [
    "## Part C - Load Data Feature F01, F02, F03 and F04 and test for mislabeled data"
   ]
  },
  {
   "cell_type": "code",
   "execution_count": 5,
   "metadata": {},
   "outputs": [
    {
     "name": "stdout",
     "output_type": "stream",
     "text": [
      "Number of mislabeled Rose Feature F01, F02, F03 and F04 points out of a total 150 points : 7 =>   4.667 %\n"
     ]
    }
   ],
   "source": [
    "X = np.array(X_raw[:,[0,1,2,3]]) \n",
    "mnb = MultinomialNB()\n",
    "y_pred = mnb.fit(X, Y).predict(X)\n",
    "tot=X.shape[0]\n",
    "totwrong=(Y != y_pred).sum()\n",
    "perswrong=(totwrong/tot) * 100\n",
    "print(\"Number of mislabeled Rose Feature F01, F02, F03 and F04 points out of a total %d points : %d => %7.3f %%\" % (tot, totwrong, perswrong))"
   ]
  },
  {
   "cell_type": "code",
   "execution_count": 6,
   "metadata": {},
   "outputs": [
    {
     "name": "stdout",
     "output_type": "stream",
     "text": [
      "Smoothed empirical log probability for each class:\n",
      "[-1.09861229 -1.09861229 -1.09861229]\n"
     ]
    }
   ],
   "source": [
    "print('Smoothed empirical log probability for each class:')\n",
    "print(mnb.class_log_prior_)"
   ]
  },
  {
   "cell_type": "code",
   "execution_count": 7,
   "metadata": {},
   "outputs": [
    {
     "name": "stdout",
     "output_type": "stream",
     "text": [
      "Mirrors class_log_prior_ for interpreting MultinomialNB as a linear model:\n",
      "[-1.09861229 -1.09861229 -1.09861229]\n"
     ]
    }
   ],
   "source": [
    "print('Mirrors class_log_prior_ for interpreting MultinomialNB as a linear model:')\n",
    "print(mnb.intercept_)"
   ]
  },
  {
   "cell_type": "code",
   "execution_count": 8,
   "metadata": {},
   "outputs": [
    {
     "name": "stdout",
     "output_type": "stream",
     "text": [
      "Empirical log probability of features given a class, P(x_i|y):\n",
      "[[-0.70893906 -1.08867359 -1.92882235 -3.65536968]\n",
      " [-0.88088275 -1.63924027 -1.21132886 -2.36814464]\n",
      " [-0.95779046 -1.74946121 -1.12831744 -2.13018483]]\n"
     ]
    }
   ],
   "source": [
    "print('Empirical log probability of features given a class, P(x_i|y):')\n",
    "print(mnb.feature_log_prob_)"
   ]
  },
  {
   "cell_type": "code",
   "execution_count": 9,
   "metadata": {},
   "outputs": [
    {
     "name": "stdout",
     "output_type": "stream",
     "text": [
      "Mirrors feature_log_prob_ for interpreting MultinomialNB as a linear model:\n",
      "[[-0.70893906 -1.08867359 -1.92882235 -3.65536968]\n",
      " [-0.88088275 -1.63924027 -1.21132886 -2.36814464]\n",
      " [-0.95779046 -1.74946121 -1.12831744 -2.13018483]]\n"
     ]
    }
   ],
   "source": [
    "print('Mirrors feature_log_prob_ for interpreting MultinomialNB as a linear model:')\n",
    "print(mnb.coef_)"
   ]
  },
  {
   "cell_type": "code",
   "execution_count": 10,
   "metadata": {},
   "outputs": [
    {
     "name": "stdout",
     "output_type": "stream",
     "text": [
      "Number of samples encountered for each (class, feature) during fitting:\n",
      "[[250.3 170.9  73.2  12.2]\n",
      " [296.8 138.5 213.   66.3]\n",
      " [329.4 148.7 277.6 101.3]]\n"
     ]
    }
   ],
   "source": [
    "print('Number of samples encountered for each (class, feature) during fitting:')\n",
    "print(mnb.feature_count_)"
   ]
  },
  {
   "cell_type": "markdown",
   "metadata": {},
   "source": [
    "## Done"
   ]
  },
  {
   "cell_type": "code",
   "execution_count": 11,
   "metadata": {},
   "outputs": [
    {
     "name": "stdout",
     "output_type": "stream",
     "text": [
      "Done! 2019-04-08 11:05:28.091874\n"
     ]
    }
   ],
   "source": [
    "import datetime\n",
    "now = datetime.datetime.now()\n",
    "print('Done!',str(now))"
   ]
  },
  {
   "cell_type": "code",
   "execution_count": null,
   "metadata": {},
   "outputs": [],
   "source": []
  }
 ],
 "metadata": {
  "kernelspec": {
   "display_name": "Python 3",
   "language": "python",
   "name": "python3"
  },
  "language_info": {
   "codemirror_mode": {
    "name": "ipython",
    "version": 3
   },
   "file_extension": ".py",
   "mimetype": "text/x-python",
   "name": "python",
   "nbconvert_exporter": "python",
   "pygments_lexer": "ipython3",
   "version": "3.6.7"
  }
 },
 "nbformat": 4,
 "nbformat_minor": 2
}
