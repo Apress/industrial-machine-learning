{
 "cells": [
  {
   "cell_type": "markdown",
   "metadata": {},
   "source": [
    "## Apress - Industrialized Machine Learning Examples\n",
    "\n",
    "Andreas Francois Vermeulen\n",
    "2019\n",
    "\n",
    "### This is an example add-on to a book and needs to be accepted as part of that copyright."
   ]
  },
  {
   "cell_type": "markdown",
   "metadata": {},
   "source": [
    "# Chapter 004 Example 002B-F08"
   ]
  },
  {
   "cell_type": "code",
   "execution_count": 1,
   "metadata": {},
   "outputs": [],
   "source": [
    "sfeature=['F08']"
   ]
  },
  {
   "cell_type": "markdown",
   "metadata": {},
   "source": [
    "## Part A - Load Libraries"
   ]
  },
  {
   "cell_type": "code",
   "execution_count": 2,
   "metadata": {},
   "outputs": [],
   "source": [
    "from sklearn import linear_model\n",
    "from sklearn.metrics import mean_squared_error, r2_score, average_precision_score, precision_recall_curve\n",
    "from sklearn.utils.fixes import signature\n",
    "from math import sqrt\n",
    "\n",
    "import pandas as pd\n",
    "import numpy as np\n",
    "import os\n",
    "import matplotlib.pyplot as plt\n",
    "%matplotlib inline"
   ]
  },
  {
   "cell_type": "markdown",
   "metadata": {},
   "source": [
    "## Part B - Load the diabetes dataset"
   ]
  },
  {
   "cell_type": "code",
   "execution_count": 3,
   "metadata": {},
   "outputs": [
    {
     "name": "stdout",
     "output_type": "stream",
     "text": [
      "C:\\Users\\AndreVermeulen\\Documents\\My Book\\apress\\Industrialized Machine Learning\\book\\IML\\Data\\Sickness05.csv\n"
     ]
    }
   ],
   "source": [
    "fileName = '../../Data/Sickness05.csv'\n",
    "fileFullName = os.path.abspath(fileName)\n",
    "print(fileFullName)"
   ]
  },
  {
   "cell_type": "code",
   "execution_count": 4,
   "metadata": {},
   "outputs": [
    {
     "name": "stdout",
     "output_type": "stream",
     "text": [
      "(442, 16)\n",
      "Index(['F01', 'F02', 'F03', 'F04', 'F05', 'F06', 'F07', 'F08', 'F09', 'F10',\n",
      "       'F11', 'F12', 'T01', 'T02', 'T03', 'T'],\n",
      "      dtype='object')\n"
     ]
    }
   ],
   "source": [
    "sickdf= pd.read_csv(fileFullName, header=0)\n",
    "print(sickdf.shape)\n",
    "print(sickdf.columns)"
   ]
  },
  {
   "cell_type": "markdown",
   "metadata": {},
   "source": [
    "## Part C - Use only one feature"
   ]
  },
  {
   "cell_type": "code",
   "execution_count": 5,
   "metadata": {},
   "outputs": [],
   "source": [
    "sickness_X = sickdf[sfeature].copy(deep=True)\n",
    "sickness_X.columns = (['F'])"
   ]
  },
  {
   "cell_type": "code",
   "execution_count": 6,
   "metadata": {},
   "outputs": [
    {
     "name": "stdout",
     "output_type": "stream",
     "text": [
      "                  F\n",
      "count  4.420000e+02\n",
      "mean  -1.809955e-11\n",
      "std    4.761905e-02\n",
      "min   -7.639450e-02\n",
      "25%   -3.949338e-02\n",
      "50%   -2.592262e-03\n",
      "75%    3.430886e-02\n",
      "max    1.852344e-01\n"
     ]
    }
   ],
   "source": [
    "print(sickness_X.describe())"
   ]
  },
  {
   "cell_type": "code",
   "execution_count": 7,
   "metadata": {},
   "outputs": [
    {
     "name": "stdout",
     "output_type": "stream",
     "text": [
      "(442, 1)\n"
     ]
    }
   ],
   "source": [
    "print(sickness_X.shape)"
   ]
  },
  {
   "cell_type": "markdown",
   "metadata": {},
   "source": [
    "## Part D - Extract train feature set"
   ]
  },
  {
   "cell_type": "code",
   "execution_count": 8,
   "metadata": {},
   "outputs": [],
   "source": [
    "sickness_X_train = pd.DataFrame(sickness_X[:-100])"
   ]
  },
  {
   "cell_type": "code",
   "execution_count": 9,
   "metadata": {},
   "outputs": [
    {
     "name": "stdout",
     "output_type": "stream",
     "text": [
      "(342, 1)\n"
     ]
    }
   ],
   "source": [
    "print(sickness_X_train.shape)"
   ]
  },
  {
   "cell_type": "markdown",
   "metadata": {},
   "source": [
    "## Part E - Extract the Test feature set"
   ]
  },
  {
   "cell_type": "code",
   "execution_count": 10,
   "metadata": {},
   "outputs": [],
   "source": [
    "sickness_X_test = pd.DataFrame(sickness_X[-100:])"
   ]
  },
  {
   "cell_type": "code",
   "execution_count": 11,
   "metadata": {},
   "outputs": [
    {
     "name": "stdout",
     "output_type": "stream",
     "text": [
      "(100, 1)\n"
     ]
    }
   ],
   "source": [
    "print(sickness_X_test.shape)"
   ]
  },
  {
   "cell_type": "markdown",
   "metadata": {},
   "source": [
    "## Part C - Split the targets into training/testing sets "
   ]
  },
  {
   "cell_type": "code",
   "execution_count": 12,
   "metadata": {},
   "outputs": [],
   "source": [
    "sickness_y = sickdf[['T02']].copy(deep=True)\n",
    "sickness_y.columns = (['T'])"
   ]
  },
  {
   "cell_type": "code",
   "execution_count": 13,
   "metadata": {},
   "outputs": [],
   "source": [
    "sickness_y_train = pd.DataFrame(sickness_y[:-100])"
   ]
  },
  {
   "cell_type": "code",
   "execution_count": 14,
   "metadata": {},
   "outputs": [],
   "source": [
    "sickness_y_test = pd.DataFrame(sickness_y[-100:])"
   ]
  },
  {
   "cell_type": "code",
   "execution_count": 15,
   "metadata": {},
   "outputs": [
    {
     "name": "stdout",
     "output_type": "stream",
     "text": [
      "Test Feature:  -0.0026 results in target:  1\n",
      "Test Feature:  -0.0395 results in target:  0\n",
      "Test Feature:  -0.0026 results in target:  1\n",
      "Test Feature:   0.0343 results in target:  0\n",
      "Test Feature:  -0.0026 results in target:  1\n"
     ]
    }
   ],
   "source": [
    "for i in range(5):\n",
    "    print('Test Feature: % 8.4f results in target: % 1d' % (sickness_X_train['F'].iloc[i], sickness_y_train['T'].iloc[i]))"
   ]
  },
  {
   "cell_type": "code",
   "execution_count": 16,
   "metadata": {},
   "outputs": [
    {
     "name": "stdout",
     "output_type": "stream",
     "text": [
      "Test Feature:  -0.0026 results in target:  1\n",
      "Test Feature:  -0.0395 results in target:  0\n",
      "Test Feature:   0.0343 results in target:  0\n",
      "Test Feature:   0.0343 results in target:  1\n",
      "Test Feature:   0.0712 results in target:  1\n"
     ]
    }
   ],
   "source": [
    "for i in range(5):\n",
    "    print('Test Feature: % 8.4f results in target: % 1d' % (sickness_X_test['F'].iloc[i], sickness_y_test['T'].iloc[i]))"
   ]
  },
  {
   "cell_type": "markdown",
   "metadata": {},
   "source": [
    "## Part D - Create linear regression object"
   ]
  },
  {
   "cell_type": "code",
   "execution_count": 17,
   "metadata": {},
   "outputs": [],
   "source": [
    "regr = linear_model.LinearRegression(n_jobs=4, normalize=True)"
   ]
  },
  {
   "cell_type": "code",
   "execution_count": 18,
   "metadata": {},
   "outputs": [
    {
     "name": "stdout",
     "output_type": "stream",
     "text": [
      "LinearRegression(copy_X=True, fit_intercept=True, n_jobs=4, normalize=True)\n"
     ]
    }
   ],
   "source": [
    "print(regr)"
   ]
  },
  {
   "cell_type": "markdown",
   "metadata": {},
   "source": [
    "## Part E - Train the model using the training sets"
   ]
  },
  {
   "cell_type": "code",
   "execution_count": 19,
   "metadata": {},
   "outputs": [
    {
     "data": {
      "text/plain": [
       "LinearRegression(copy_X=True, fit_intercept=True, n_jobs=4, normalize=True)"
      ]
     },
     "execution_count": 19,
     "metadata": {},
     "output_type": "execute_result"
    }
   ],
   "source": [
    "regr.fit(sickness_X_train, sickness_y_train)"
   ]
  },
  {
   "cell_type": "markdown",
   "metadata": {},
   "source": [
    "## Part F - Make predictions using the testing set"
   ]
  },
  {
   "cell_type": "code",
   "execution_count": 20,
   "metadata": {},
   "outputs": [],
   "source": [
    "sickness_y_pred = regr.predict(sickness_X_test)"
   ]
  },
  {
   "cell_type": "markdown",
   "metadata": {},
   "source": [
    "## Part G - The coefficients"
   ]
  },
  {
   "cell_type": "code",
   "execution_count": 21,
   "metadata": {},
   "outputs": [
    {
     "name": "stdout",
     "output_type": "stream",
     "text": [
      "Coefficients: \n",
      " [[1.23131624]]\n"
     ]
    }
   ],
   "source": [
    "print('Coefficients: \\n', regr.coef_)"
   ]
  },
  {
   "cell_type": "markdown",
   "metadata": {},
   "source": [
    "## Part H - The mean squared error"
   ]
  },
  {
   "cell_type": "code",
   "execution_count": 22,
   "metadata": {},
   "outputs": [
    {
     "name": "stdout",
     "output_type": "stream",
     "text": [
      "Mean squared error (MSE): 0.2475\n"
     ]
    }
   ],
   "source": [
    "meanSquaredError=mean_squared_error(sickness_y_test, sickness_y_pred)\n",
    "print(\"Mean squared error (MSE): %0.4f\"\n",
    "      % meanSquaredError)"
   ]
  },
  {
   "cell_type": "code",
   "execution_count": 23,
   "metadata": {},
   "outputs": [
    {
     "name": "stdout",
     "output_type": "stream",
     "text": [
      "Root Mean Square Error (RMSE): 0.4975\n"
     ]
    }
   ],
   "source": [
    "rootMeanSquaredError = sqrt(meanSquaredError)\n",
    "print(\"Root Mean Square Error (RMSE): %0.4f\" % rootMeanSquaredError)"
   ]
  },
  {
   "cell_type": "markdown",
   "metadata": {},
   "source": [
    "## Part I - Explained variance score: 1 is perfect prediction"
   ]
  },
  {
   "cell_type": "code",
   "execution_count": 24,
   "metadata": {},
   "outputs": [
    {
     "name": "stdout",
     "output_type": "stream",
     "text": [
      "Variance score: 0.0101\n"
     ]
    }
   ],
   "source": [
    "print('Variance score: %0.4f' % r2_score(sickness_y_test, sickness_y_pred))"
   ]
  },
  {
   "cell_type": "code",
   "execution_count": 25,
   "metadata": {},
   "outputs": [
    {
     "name": "stdout",
     "output_type": "stream",
     "text": [
      "Average precision-recall score: 0.5849\n"
     ]
    }
   ],
   "source": [
    "average_precision = average_precision_score(sickness_y_test, sickness_y_pred)\n",
    "\n",
    "print('Average precision-recall score: {0:0.4f}'.format(average_precision))"
   ]
  },
  {
   "cell_type": "code",
   "execution_count": 26,
   "metadata": {},
   "outputs": [
    {
     "data": {
      "text/plain": [
       "Text(0.5, 1.0, '2-class Precision-Recall Curve: AP=0.5849')"
      ]
     },
     "execution_count": 26,
     "metadata": {},
     "output_type": "execute_result"
    },
    {
     "data": {
      "image/png": "[encoded data removed]",
      "text/plain": [
       "<Figure size 1008x576 with 1 Axes>"
      ]
     },
     "metadata": {
      "needs_background": "light"
     },
     "output_type": "display_data"
    }
   ],
   "source": [
    "precision, recall, thresholds = precision_recall_curve(sickness_y_test, sickness_y_pred)\n",
    "step_kwargs = ({'step': 'post'}\n",
    "               if 'step' in signature(plt.fill_between).parameters\n",
    "               else {})\n",
    "fig1 = plt.figure(figsize=(14, 8))\n",
    "plt.title('Water Sickness Precision Recall Curve')\n",
    "plt.step(recall, precision, color='red', alpha=0.8,\n",
    "         where='post')\n",
    "plt.fill_between(recall, precision, alpha=0.5, color='blue', **step_kwargs)\n",
    "\n",
    "plt.xlabel('Recall')\n",
    "plt.ylabel('Precision')\n",
    "plt.ylim([0.0, 1.05])\n",
    "plt.xlim([0.0, 1.0])\n",
    "plt.title('2-class Precision-Recall Curve: AP={0:0.4f}'.format(\n",
    "          average_precision))"
   ]
  },
  {
   "cell_type": "markdown",
   "metadata": {},
   "source": [
    "## Part J - Plot outputs"
   ]
  },
  {
   "cell_type": "code",
   "execution_count": 27,
   "metadata": {},
   "outputs": [
    {
     "data": {
      "image/png": "[encoded data removed]",
      "text/plain": [
       "<Figure size 1008x576 with 1 Axes>"
      ]
     },
     "metadata": {},
     "output_type": "display_data"
    }
   ],
   "source": [
    "fig2 = plt.figure(figsize=(14, 8))\n",
    "plt.title('Water Sickness Training')\n",
    "plt.xlabel('Feature')\n",
    "plt.ylabel('Target')\n",
    "plt.scatter(sickness_X_train, sickness_y_train,  color='blue', alpha=0.5, marker='*')\n",
    "plt.xticks(())\n",
    "plt.yticks(())\n",
    "\n",
    "plt.show()"
   ]
  },
  {
   "cell_type": "code",
   "execution_count": 28,
   "metadata": {},
   "outputs": [
    {
     "data": {
      "image/png": "[encoded data removed]",
      "text/plain": [
       "<Figure size 1008x576 with 1 Axes>"
      ]
     },
     "metadata": {},
     "output_type": "display_data"
    }
   ],
   "source": [
    "fig3 = plt.figure(figsize=(14, 8))\n",
    "plt.title('Water Sickness Predictions')\n",
    "plt.xlabel('Feature')\n",
    "plt.ylabel('Target')\n",
    "plt.scatter(sickness_X_test, sickness_y_test,  color='blue', alpha=0.5, marker='*')\n",
    "plt.plot(sickness_X_test, sickness_y_pred, color='red', linewidth=3)\n",
    "plt.xticks(())\n",
    "plt.yticks(())\n",
    "\n",
    "plt.show()"
   ]
  },
  {
   "cell_type": "code",
   "execution_count": 29,
   "metadata": {},
   "outputs": [
    {
     "name": "stdout",
     "output_type": "stream",
     "text": [
      "C:\\Users\\AndreVermeulen\\Documents\\My Book\\apress\\Industrialized Machine Learning\\book\\IML\\Results\\Chapter 04\n"
     ]
    }
   ],
   "source": [
    "imagepath = os.path.join(*[os.path.dirname(os.path.dirname(os.getcwd())),'Results','Chapter 04'])\n",
    "print(imagepath)"
   ]
  },
  {
   "cell_type": "code",
   "execution_count": 30,
   "metadata": {},
   "outputs": [],
   "source": [
    "if not os.path.exists(imagepath):\n",
    "    os.makedirs(imagepath)"
   ]
  },
  {
   "cell_type": "code",
   "execution_count": 31,
   "metadata": {},
   "outputs": [
    {
     "name": "stdout",
     "output_type": "stream",
     "text": [
      "Chapter-004-Example-002B-F08-01.jpg\n",
      "Chapter-004-Example-002B-F08-02.jpg\n",
      "Chapter-004-Example-002B-F08-03.jpg\n"
     ]
    }
   ],
   "source": [
    "figname1 = 'Chapter-004-Example-002B-'+sfeature[0]+'-01.jpg'\n",
    "print(figname1)\n",
    "figname2 = 'Chapter-004-Example-002B-'+sfeature[0]+'-02.jpg'\n",
    "print(figname2)\n",
    "figname3 = 'Chapter-004-Example-002B-'+sfeature[0]+'-03.jpg'\n",
    "print(figname3)"
   ]
  },
  {
   "cell_type": "code",
   "execution_count": 32,
   "metadata": {},
   "outputs": [],
   "source": [
    "imagename = os.path.join(*[os.path.dirname(os.path.dirname(os.getcwd())),'Results','Chapter 04',figname1])\n",
    "fig1.savefig(imagename, bbox_inches='tight')"
   ]
  },
  {
   "cell_type": "code",
   "execution_count": 33,
   "metadata": {},
   "outputs": [],
   "source": [
    "imagename = os.path.join(*[os.path.dirname(os.path.dirname(os.getcwd())),'Results','Chapter 04',figname2])\n",
    "fig2.savefig(imagename, bbox_inches='tight')"
   ]
  },
  {
   "cell_type": "code",
   "execution_count": 34,
   "metadata": {},
   "outputs": [],
   "source": [
    "imagename = os.path.join(*[os.path.dirname(os.path.dirname(os.getcwd())),'Results','Chapter 04',figname3])\n",
    "fig3.savefig(imagename, bbox_inches='tight')"
   ]
  },
  {
   "cell_type": "code",
   "execution_count": 35,
   "metadata": {},
   "outputs": [
    {
     "name": "stdout",
     "output_type": "stream",
     "text": [
      "Done! 2019-04-07 13:03:41.200269\n"
     ]
    }
   ],
   "source": [
    "import datetime\n",
    "now = datetime.datetime.now()\n",
    "print('Done!',str(now))"
   ]
  },
  {
   "cell_type": "code",
   "execution_count": null,
   "metadata": {},
   "outputs": [],
   "source": []
  }
 ],
 "metadata": {
  "kernelspec": {
   "display_name": "Python 3",
   "language": "python",
   "name": "python3"
  },
  "language_info": {
   "codemirror_mode": {
    "name": "ipython",
    "version": 3
   },
   "file_extension": ".py",
   "mimetype": "text/x-python",
   "name": "python",
   "nbconvert_exporter": "python",
   "pygments_lexer": "ipython3",
   "version": "3.6.7"
  }
 },
 "nbformat": 4,
 "nbformat_minor": 2
}
