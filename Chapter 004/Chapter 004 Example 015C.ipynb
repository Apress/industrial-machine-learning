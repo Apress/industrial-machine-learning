{
 "cells": [
  {
   "cell_type": "markdown",
   "metadata": {},
   "source": [
    "## Apress - Industrialized Machine Learning Examples\n",
    "\n",
    "Andreas Francois Vermeulen\n",
    "2019\n",
    "\n",
    "### This is an example add-on to a book and needs to be accepted as part of that copyright."
   ]
  },
  {
   "cell_type": "markdown",
   "metadata": {},
   "source": [
    "# Chapter 004 Example 015C"
   ]
  },
  {
   "cell_type": "code",
   "execution_count": 1,
   "metadata": {},
   "outputs": [],
   "source": [
    "#!pip install graphviz"
   ]
  },
  {
   "cell_type": "markdown",
   "metadata": {},
   "source": [
    "## Part A - Load Libraries"
   ]
  },
  {
   "cell_type": "code",
   "execution_count": 2,
   "metadata": {},
   "outputs": [],
   "source": [
    "import os\n",
    "import shutil\n",
    "import graphviz as gv\n",
    "import pandas as pd\n",
    "import numpy as np\n",
    "from sklearn import tree"
   ]
  },
  {
   "cell_type": "code",
   "execution_count": 3,
   "metadata": {},
   "outputs": [],
   "source": [
    "os.environ[\"PATH\"] += os.pathsep + 'c:/Program Files (x86)/Graphviz/bin/'"
   ]
  },
  {
   "cell_type": "markdown",
   "metadata": {},
   "source": [
    "## Part B - Load Data"
   ]
  },
  {
   "cell_type": "code",
   "execution_count": 4,
   "metadata": {},
   "outputs": [
    {
     "name": "stdout",
     "output_type": "stream",
     "text": [
      "C:\\Users\\AndreVermeulen\\Documents\\My Book\\apress\\Industrialized Machine Learning\\book\\IML\\Data\\Roses03.csv\n"
     ]
    }
   ],
   "source": [
    "fileName = '../../Data/Roses03.csv'\n",
    "fileFullName = os.path.abspath(fileName)\n",
    "print(fileFullName)"
   ]
  },
  {
   "cell_type": "code",
   "execution_count": 5,
   "metadata": {},
   "outputs": [
    {
     "name": "stdout",
     "output_type": "stream",
     "text": [
      "(1000, 5)\n",
      "Index(['F01', 'F02', 'F03', 'F04', 'T'], dtype='object')\n"
     ]
    }
   ],
   "source": [
    "rosedf= pd.read_csv(fileFullName, header=0)\n",
    "print(rosedf.shape)\n",
    "print(rosedf.columns)"
   ]
  },
  {
   "cell_type": "code",
   "execution_count": 6,
   "metadata": {},
   "outputs": [],
   "source": [
    "rose = np.array(rosedf)\n",
    "rose_data = np.array(rosedf[['F01', 'F02', 'F03', 'F04']].copy(deep=True))\n",
    "rose_target = np.array(rosedf[['T']].copy(deep=True))"
   ]
  },
  {
   "cell_type": "markdown",
   "metadata": {},
   "source": [
    "## Part C - Load Model"
   ]
  },
  {
   "cell_type": "code",
   "execution_count": 7,
   "metadata": {},
   "outputs": [],
   "source": [
    "clf = tree.DecisionTreeClassifier()"
   ]
  },
  {
   "cell_type": "code",
   "execution_count": 8,
   "metadata": {},
   "outputs": [],
   "source": [
    "clfr = clf.fit(rose_data, rose_target)"
   ]
  },
  {
   "cell_type": "code",
   "execution_count": 9,
   "metadata": {},
   "outputs": [
    {
     "name": "stdout",
     "output_type": "stream",
     "text": [
      "Number of Classes:\n",
      "4\n"
     ]
    }
   ],
   "source": [
    "print('Number of Classes:')\n",
    "print(clfr.n_classes_)"
   ]
  },
  {
   "cell_type": "code",
   "execution_count": 10,
   "metadata": {},
   "outputs": [
    {
     "name": "stdout",
     "output_type": "stream",
     "text": [
      "Classes:\n",
      "[1 2 3 4]\n"
     ]
    }
   ],
   "source": [
    "print('Classes:')\n",
    "print(clfr.classes_)"
   ]
  },
  {
   "cell_type": "code",
   "execution_count": 11,
   "metadata": {},
   "outputs": [
    {
     "name": "stdout",
     "output_type": "stream",
     "text": [
      "Feature importances:\n",
      "[0.00684541 0.00856643 0.75676629 0.22782186]\n"
     ]
    }
   ],
   "source": [
    "print('Feature importances:')\n",
    "print(clfr.feature_importances_)"
   ]
  },
  {
   "cell_type": "code",
   "execution_count": 12,
   "metadata": {},
   "outputs": [
    {
     "name": "stdout",
     "output_type": "stream",
     "text": [
      "Number of features:\n",
      "4\n"
     ]
    }
   ],
   "source": [
    "print('Number of features:')\n",
    "print(clfr.n_features_)"
   ]
  },
  {
   "cell_type": "code",
   "execution_count": 13,
   "metadata": {},
   "outputs": [
    {
     "name": "stdout",
     "output_type": "stream",
     "text": [
      "Inferred value of max features:\n",
      "4\n"
     ]
    }
   ],
   "source": [
    "print('Inferred value of max features:')\n",
    "print(clfr.max_features_)"
   ]
  },
  {
   "cell_type": "code",
   "execution_count": 14,
   "metadata": {},
   "outputs": [
    {
     "name": "stdout",
     "output_type": "stream",
     "text": [
      "Number of Outputs:\n",
      "1\n"
     ]
    }
   ],
   "source": [
    "print('Number of Outputs:')\n",
    "print(clfr.n_outputs_)"
   ]
  },
  {
   "cell_type": "code",
   "execution_count": 15,
   "metadata": {},
   "outputs": [
    {
     "name": "stdout",
     "output_type": "stream",
     "text": [
      "Tree Nodes:\n",
      "37\n"
     ]
    }
   ],
   "source": [
    "print('Tree Nodes:')\n",
    "print(clfr.tree_.node_count)"
   ]
  },
  {
   "cell_type": "code",
   "execution_count": 16,
   "metadata": {},
   "outputs": [
    {
     "name": "stdout",
     "output_type": "stream",
     "text": [
      "The tree structure has 37 nodes and has the following tree structure:\n",
      "node=0 test node: go to node 1 if X[:, 2] <= 8.928000211715698 else to node 36.\n",
      "\tnode=1 test node: go to node 2 if X[:, 2] <= 2.428000032901764 else to node 3.\n",
      "\t\tnode=2 leaf node.\n",
      "\t\tnode=3 test node: go to node 4 if X[:, 3] <= 1.7260000109672546 else to node 25.\n",
      "\t\t\tnode=4 test node: go to node 5 if X[:, 2] <= 4.9054999351501465 else to node 12.\n",
      "\t\t\t\tnode=5 test node: go to node 6 if X[:, 3] <= 1.6865000128746033 else to node 11.\n",
      "\t\t\t\t\tnode=6 test node: go to node 7 if X[:, 0] <= 4.836499929428101 else to node 10.\n",
      "\t\t\t\t\t\tnode=7 test node: go to node 8 if X[:, 3] <= 1.3019999861717224 else to node 9.\n",
      "\t\t\t\t\t\t\tnode=8 leaf node.\n",
      "\t\t\t\t\t\t\tnode=9 leaf node.\n",
      "\t\t\t\t\t\tnode=10 leaf node.\n",
      "\t\t\t\t\tnode=11 leaf node.\n",
      "\t\t\t\tnode=12 test node: go to node 13 if X[:, 2] <= 5.328000068664551 else to node 24.\n",
      "\t\t\t\t\tnode=13 test node: go to node 14 if X[:, 3] <= 1.5864999890327454 else to node 23.\n",
      "\t\t\t\t\t\tnode=14 test node: go to node 15 if X[:, 0] <= 6.334000110626221 else to node 20.\n",
      "\t\t\t\t\t\t\tnode=15 test node: go to node 16 if X[:, 0] <= 5.936500072479248 else to node 19.\n",
      "\t\t\t\t\t\t\t\tnode=16 test node: go to node 17 if X[:, 2] <= 4.993000030517578 else to node 18.\n",
      "\t\t\t\t\t\t\t\t\tnode=17 leaf node.\n",
      "\t\t\t\t\t\t\t\t\tnode=18 leaf node.\n",
      "\t\t\t\t\t\t\t\tnode=19 leaf node.\n",
      "\t\t\t\t\t\t\tnode=20 test node: go to node 21 if X[:, 2] <= 5.045000076293945 else to node 22.\n",
      "\t\t\t\t\t\t\t\tnode=21 leaf node.\n",
      "\t\t\t\t\t\t\t\tnode=22 leaf node.\n",
      "\t\t\t\t\t\tnode=23 leaf node.\n",
      "\t\t\t\t\tnode=24 leaf node.\n",
      "\t\t\tnode=25 test node: go to node 26 if X[:, 2] <= 4.926999807357788 else to node 31.\n",
      "\t\t\t\tnode=26 test node: go to node 27 if X[:, 1] <= 3.1200000047683716 else to node 30.\n",
      "\t\t\t\t\tnode=27 test node: go to node 28 if X[:, 0] <= 6.482000112533569 else to node 29.\n",
      "\t\t\t\t\t\tnode=28 leaf node.\n",
      "\t\t\t\t\t\tnode=29 leaf node.\n",
      "\t\t\t\t\tnode=30 leaf node.\n",
      "\t\t\t\tnode=31 test node: go to node 32 if X[:, 3] <= 1.7839999794960022 else to node 35.\n",
      "\t\t\t\t\tnode=32 test node: go to node 33 if X[:, 3] <= 1.7599999904632568 else to node 34.\n",
      "\t\t\t\t\t\tnode=33 leaf node.\n",
      "\t\t\t\t\t\tnode=34 leaf node.\n",
      "\t\t\t\t\tnode=35 leaf node.\n",
      "\tnode=36 leaf node.\n",
      "\n"
     ]
    }
   ],
   "source": [
    "n_nodes = clfr.tree_.node_count\n",
    "children_left = clfr.tree_.children_left\n",
    "children_right = clfr.tree_.children_right\n",
    "feature = clfr.tree_.feature\n",
    "threshold = clfr.tree_.threshold\n",
    "\n",
    "\n",
    "node_depth = np.zeros(shape=n_nodes, dtype=np.int64)\n",
    "is_leaves = np.zeros(shape=n_nodes, dtype=bool)\n",
    "stack = [(0, -1)]  # seed is the root node id plus parent depth\n",
    "while len(stack) > 0:\n",
    "    node_id, parent_depth = stack.pop()\n",
    "    node_depth[node_id] = parent_depth + 1\n",
    "\n",
    "    # If we have a test node\n",
    "    if (children_left[node_id] != children_right[node_id]):\n",
    "        stack.append((children_left[node_id], parent_depth + 1))\n",
    "        stack.append((children_right[node_id], parent_depth + 1))\n",
    "    else:\n",
    "        is_leaves[node_id] = True\n",
    "\n",
    "print(\"The tree structure has %s nodes and has the following tree structure:\" % n_nodes)\n",
    "for i in range(n_nodes):\n",
    "    if is_leaves[i]:\n",
    "        print(\"%snode=%s leaf node.\" % (node_depth[i] * \"\\t\", i))\n",
    "    else:\n",
    "        print(\"%snode=%s test node: go to node %s if X[:, %s] <= %s else to node %s.\" % (node_depth[i] * \"\\t\",\n",
    "                 i,\n",
    "                 children_left[i],\n",
    "                 feature[i],\n",
    "                 threshold[i],\n",
    "                 children_right[i],\n",
    "                 ))\n",
    "print()"
   ]
  },
  {
   "cell_type": "code",
   "execution_count": 17,
   "metadata": {},
   "outputs": [],
   "source": [
    "dot_data = tree.export_graphviz(clfr, out_file=None) \n",
    "graph = gv.Source(dot_data, format='png')"
   ]
  },
  {
   "cell_type": "code",
   "execution_count": 18,
   "metadata": {},
   "outputs": [
    {
     "name": "stdout",
     "output_type": "stream",
     "text": [
      "C:\\Users\\AndreVermeulen\\Documents\\My Book\\apress\\Industrialized Machine Learning\\book\\IML\\Results\\Chapter 04\n"
     ]
    }
   ],
   "source": [
    "imagepath = os.path.join(*[os.path.dirname(os.path.dirname(os.getcwd())),'Results','Chapter 04'])\n",
    "print(imagepath)"
   ]
  },
  {
   "cell_type": "code",
   "execution_count": 19,
   "metadata": {},
   "outputs": [],
   "source": [
    "if not os.path.exists(imagepath):\n",
    "    os.makedirs(imagepath)"
   ]
  },
  {
   "cell_type": "code",
   "execution_count": 20,
   "metadata": {},
   "outputs": [],
   "source": [
    "imagename = os.path.join(*[os.path.dirname(os.path.dirname(os.getcwd())),'Results','Chapter 04','Chapter-004-Example-015-03.dot'])"
   ]
  },
  {
   "cell_type": "code",
   "execution_count": 21,
   "metadata": {},
   "outputs": [
    {
     "data": {
      "text/plain": [
       "'C:\\\\Users\\\\AndreVermeulen\\\\Documents\\\\My Book\\\\apress\\\\Industrialized Machine Learning\\\\book\\\\IML\\\\Results\\\\Chapter 04\\\\Chapter-004-Example-015-03.dot.png'"
      ]
     },
     "execution_count": 21,
     "metadata": {},
     "output_type": "execute_result"
    }
   ],
   "source": [
    "graph.render(filename=imagename)"
   ]
  },
  {
   "cell_type": "code",
   "execution_count": 22,
   "metadata": {},
   "outputs": [
    {
     "data": {
      "text/plain": [
       "'C:\\\\Users\\\\AndreVermeulen\\\\Documents\\\\My Book\\\\apress\\\\Industrialized Machine Learning\\\\book\\\\IML\\\\Results\\\\Chapter 04\\\\Chapter-004-Example-015-03.png'"
      ]
     },
     "execution_count": 22,
     "metadata": {},
     "output_type": "execute_result"
    }
   ],
   "source": [
    "imagename1 = os.path.join(*[os.path.dirname(os.path.dirname(os.getcwd())),'Results','Chapter 04','Chapter-004-Example-015-03.dot.png'])\n",
    "imagename2 = os.path.join(*[os.path.dirname(os.path.dirname(os.getcwd())),'Results','Chapter 04','Chapter-004-Example-015-03.png'])\n",
    "os.remove(imagename)\n",
    "shutil.move(imagename1,imagename2)"
   ]
  },
  {
   "cell_type": "code",
   "execution_count": 23,
   "metadata": {},
   "outputs": [],
   "source": [
    "gv.view(imagename2)"
   ]
  },
  {
   "cell_type": "code",
   "execution_count": 24,
   "metadata": {},
   "outputs": [
    {
     "name": "stdout",
     "output_type": "stream",
     "text": [
      "Done! 2019-04-08 16:08:37.369059\n"
     ]
    }
   ],
   "source": [
    "import datetime\n",
    "now = datetime.datetime.now()\n",
    "print('Done!',str(now))"
   ]
  },
  {
   "cell_type": "code",
   "execution_count": null,
   "metadata": {},
   "outputs": [],
   "source": []
  }
 ],
 "metadata": {
  "kernelspec": {
   "display_name": "Python 3",
   "language": "python",
   "name": "python3"
  },
  "language_info": {
   "codemirror_mode": {
    "name": "ipython",
    "version": 3
   },
   "file_extension": ".py",
   "mimetype": "text/x-python",
   "name": "python",
   "nbconvert_exporter": "python",
   "pygments_lexer": "ipython3",
   "version": "3.6.7"
  }
 },
 "nbformat": 4,
 "nbformat_minor": 2
}
