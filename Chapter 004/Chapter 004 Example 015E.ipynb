{
 "cells": [
  {
   "cell_type": "markdown",
   "metadata": {},
   "source": [
    "## Apress - Industrialized Machine Learning Examples\n",
    "\n",
    "Andreas Francois Vermeulen\n",
    "2019\n",
    "\n",
    "### This is an example add-on to a book and needs to be accepted as part of that copyright."
   ]
  },
  {
   "cell_type": "markdown",
   "metadata": {},
   "source": [
    "# Chapter 004 Example 015E - Sickness 06"
   ]
  },
  {
   "cell_type": "code",
   "execution_count": 1,
   "metadata": {},
   "outputs": [],
   "source": [
    "#!pip install graphviz"
   ]
  },
  {
   "cell_type": "markdown",
   "metadata": {},
   "source": [
    "## Part A - Load Libraries"
   ]
  },
  {
   "cell_type": "code",
   "execution_count": 2,
   "metadata": {},
   "outputs": [],
   "source": [
    "import os\n",
    "import shutil\n",
    "import graphviz as gv\n",
    "import pandas as pd\n",
    "import numpy as np\n",
    "from sklearn import tree"
   ]
  },
  {
   "cell_type": "code",
   "execution_count": 3,
   "metadata": {},
   "outputs": [],
   "source": [
    "os.environ[\"PATH\"] += os.pathsep + 'c:/Program Files (x86)/Graphviz/bin/'"
   ]
  },
  {
   "cell_type": "markdown",
   "metadata": {},
   "source": [
    "## Part B - Load Data"
   ]
  },
  {
   "cell_type": "code",
   "execution_count": 4,
   "metadata": {},
   "outputs": [
    {
     "name": "stdout",
     "output_type": "stream",
     "text": [
      "C:\\Users\\AndreVermeulen\\Documents\\My Book\\apress\\Industrialized Machine Learning\\book\\IML\\Data\\Sickness06.csv\n"
     ]
    }
   ],
   "source": [
    "fileName = '../../Data/Sickness06.csv'\n",
    "fileFullName = os.path.abspath(fileName)\n",
    "print(fileFullName)"
   ]
  },
  {
   "cell_type": "code",
   "execution_count": 5,
   "metadata": {},
   "outputs": [
    {
     "name": "stdout",
     "output_type": "stream",
     "text": [
      "(5000, 10)\n",
      "Index(['F01', 'F02', 'F03', 'F04', 'F05', 'F06', 'F07', 'F08', 'T01', 'T02'], dtype='object')\n"
     ]
    }
   ],
   "source": [
    "sickdf= pd.read_csv(fileFullName, header=0)\n",
    "print(sickdf.shape)\n",
    "print(sickdf.columns)"
   ]
  },
  {
   "cell_type": "code",
   "execution_count": 6,
   "metadata": {},
   "outputs": [],
   "source": [
    "sick = np.array(sickdf)\n",
    "sick_data = np.array(sickdf[['F01', 'F02', 'F03', 'F04', 'F05', 'F06', 'F07', 'F08']].copy(deep=True))\n",
    "sick_target = np.array(sickdf[['T01', 'T02']].copy(deep=True))"
   ]
  },
  {
   "cell_type": "markdown",
   "metadata": {},
   "source": [
    "## Part C - Load Model"
   ]
  },
  {
   "cell_type": "code",
   "execution_count": 7,
   "metadata": {},
   "outputs": [],
   "source": [
    "clf = tree.DecisionTreeClassifier(class_weight='balanced', criterion='entropy', presort = True)"
   ]
  },
  {
   "cell_type": "code",
   "execution_count": 8,
   "metadata": {},
   "outputs": [],
   "source": [
    "clfr = clf.fit(sick_data, sick_target)"
   ]
  },
  {
   "cell_type": "code",
   "execution_count": 9,
   "metadata": {},
   "outputs": [
    {
     "name": "stdout",
     "output_type": "stream",
     "text": [
      "Number of Classes:\n",
      "[2 2]\n"
     ]
    }
   ],
   "source": [
    "print('Number of Classes:')\n",
    "print(clfr.n_classes_)"
   ]
  },
  {
   "cell_type": "code",
   "execution_count": 10,
   "metadata": {},
   "outputs": [
    {
     "name": "stdout",
     "output_type": "stream",
     "text": [
      "Classes:\n",
      "[array([0, 1], dtype=int64), array([1, 2], dtype=int64)]\n"
     ]
    }
   ],
   "source": [
    "print('Classes:')\n",
    "print(clfr.classes_)"
   ]
  },
  {
   "cell_type": "code",
   "execution_count": 11,
   "metadata": {},
   "outputs": [
    {
     "name": "stdout",
     "output_type": "stream",
     "text": [
      "Feature importances:\n",
      "[0.03304675 0.23342179 0.08913345 0.04869978 0.09344653 0.24341384\n",
      " 0.1440316  0.11480626]\n"
     ]
    }
   ],
   "source": [
    "print('Feature importances:')\n",
    "print(clfr.feature_importances_)"
   ]
  },
  {
   "cell_type": "code",
   "execution_count": 12,
   "metadata": {},
   "outputs": [
    {
     "name": "stdout",
     "output_type": "stream",
     "text": [
      "Number of features:\n",
      "8\n"
     ]
    }
   ],
   "source": [
    "print('Number of features:')\n",
    "print(clfr.n_features_)"
   ]
  },
  {
   "cell_type": "code",
   "execution_count": 13,
   "metadata": {},
   "outputs": [
    {
     "name": "stdout",
     "output_type": "stream",
     "text": [
      "Inferred value of max features:\n",
      "8\n"
     ]
    }
   ],
   "source": [
    "print('Inferred value of max features:')\n",
    "print(clfr.max_features_)"
   ]
  },
  {
   "cell_type": "code",
   "execution_count": 14,
   "metadata": {},
   "outputs": [
    {
     "name": "stdout",
     "output_type": "stream",
     "text": [
      "Number of Outputs:\n",
      "2\n"
     ]
    }
   ],
   "source": [
    "print('Number of Outputs:')\n",
    "print(clfr.n_outputs_)"
   ]
  },
  {
   "cell_type": "code",
   "execution_count": 15,
   "metadata": {},
   "outputs": [
    {
     "name": "stdout",
     "output_type": "stream",
     "text": [
      "Tree Nodes:\n",
      "489\n"
     ]
    }
   ],
   "source": [
    "print('Tree Nodes:')\n",
    "print(clfr.tree_.node_count)"
   ]
  },
  {
   "cell_type": "code",
   "execution_count": 16,
   "metadata": {},
   "outputs": [
    {
     "name": "stdout",
     "output_type": "stream",
     "text": [
      "The tree structure has 489 nodes and has the following tree structure:\n",
      "node=0 test node: go to node 1 if X[:, 1] <= 123.5 else to node 256.\n",
      "\tnode=1 test node: go to node 2 if X[:, 5] <= 26.49899959564209 else to node 15.\n",
      "\t\tnode=2 test node: go to node 3 if X[:, 1] <= 106.5 else to node 4.\n",
      "\t\t\tnode=3 leaf node.\n",
      "\t\t\tnode=4 test node: go to node 5 if X[:, 5] <= 22.951499938964844 else to node 14.\n",
      "\t\t\t\tnode=5 test node: go to node 6 if X[:, 4] <= 49.0 else to node 13.\n",
      "\t\t\t\t\tnode=6 test node: go to node 7 if X[:, 6] <= 0.24849999696016312 else to node 8.\n",
      "\t\t\t\t\t\tnode=7 leaf node.\n",
      "\t\t\t\t\t\tnode=8 test node: go to node 9 if X[:, 7] <= 35.5 else to node 12.\n",
      "\t\t\t\t\t\t\tnode=9 test node: go to node 10 if X[:, 4] <= -0.5 else to node 11.\n",
      "\t\t\t\t\t\t\t\tnode=10 leaf node.\n",
      "\t\t\t\t\t\t\t\tnode=11 leaf node.\n",
      "\t\t\t\t\t\t\tnode=12 leaf node.\n",
      "\t\t\t\t\tnode=13 leaf node.\n",
      "\t\t\t\tnode=14 leaf node.\n",
      "\t\tnode=15 test node: go to node 16 if X[:, 7] <= 28.5 else to node 101.\n",
      "\t\t\tnode=16 test node: go to node 17 if X[:, 5] <= 31.399999618530273 else to node 28.\n",
      "\t\t\t\tnode=17 test node: go to node 18 if X[:, 1] <= 116.5 else to node 23.\n",
      "\t\t\t\t\tnode=18 test node: go to node 19 if X[:, 5] <= 26.502500534057617 else to node 22.\n",
      "\t\t\t\t\t\tnode=19 test node: go to node 20 if X[:, 3] <= 20.0 else to node 21.\n",
      "\t\t\t\t\t\t\tnode=20 leaf node.\n",
      "\t\t\t\t\t\t\tnode=21 leaf node.\n",
      "\t\t\t\t\t\tnode=22 leaf node.\n",
      "\t\t\t\t\tnode=23 test node: go to node 24 if X[:, 0] <= 4.5 else to node 27.\n",
      "\t\t\t\t\t\tnode=24 test node: go to node 25 if X[:, 4] <= -3.5 else to node 26.\n",
      "\t\t\t\t\t\t\tnode=25 leaf node.\n",
      "\t\t\t\t\t\t\tnode=26 leaf node.\n",
      "\t\t\t\t\t\tnode=27 leaf node.\n",
      "\t\t\t\tnode=28 test node: go to node 29 if X[:, 5] <= 45.4010009765625 else to node 98.\n",
      "\t\t\t\t\tnode=29 test node: go to node 30 if X[:, 4] <= 74.5 else to node 79.\n",
      "\t\t\t\t\t\tnode=30 test node: go to node 31 if X[:, 1] <= 102.5 else to node 56.\n",
      "\t\t\t\t\t\t\tnode=31 test node: go to node 32 if X[:, 2] <= 81.5 else to node 47.\n",
      "\t\t\t\t\t\t\t\tnode=32 test node: go to node 33 if X[:, 7] <= 26.5 else to node 38.\n",
      "\t\t\t\t\t\t\t\t\tnode=33 test node: go to node 34 if X[:, 3] <= 41.5 else to node 35.\n",
      "\t\t\t\t\t\t\t\t\t\tnode=34 leaf node.\n",
      "\t\t\t\t\t\t\t\t\t\tnode=35 test node: go to node 36 if X[:, 4] <= 23.0 else to node 37.\n",
      "\t\t\t\t\t\t\t\t\t\t\tnode=36 leaf node.\n",
      "\t\t\t\t\t\t\t\t\t\t\tnode=37 leaf node.\n",
      "\t\t\t\t\t\t\t\t\tnode=38 test node: go to node 39 if X[:, 3] <= 40.5 else to node 46.\n",
      "\t\t\t\t\t\t\t\t\t\tnode=39 test node: go to node 40 if X[:, 5] <= 34.2495002746582 else to node 45.\n",
      "\t\t\t\t\t\t\t\t\t\t\tnode=40 test node: go to node 41 if X[:, 0] <= 0.5 else to node 42.\n",
      "\t\t\t\t\t\t\t\t\t\t\t\tnode=41 leaf node.\n",
      "\t\t\t\t\t\t\t\t\t\t\t\tnode=42 test node: go to node 43 if X[:, 3] <= 30.5 else to node 44.\n",
      "\t\t\t\t\t\t\t\t\t\t\t\t\tnode=43 leaf node.\n",
      "\t\t\t\t\t\t\t\t\t\t\t\t\tnode=44 leaf node.\n",
      "\t\t\t\t\t\t\t\t\t\t\tnode=45 leaf node.\n",
      "\t\t\t\t\t\t\t\t\t\tnode=46 leaf node.\n",
      "\t\t\t\t\t\t\t\tnode=47 test node: go to node 48 if X[:, 2] <= 87.5 else to node 55.\n",
      "\t\t\t\t\t\t\t\t\tnode=48 test node: go to node 49 if X[:, 3] <= 32.5 else to node 54.\n",
      "\t\t\t\t\t\t\t\t\t\tnode=49 test node: go to node 50 if X[:, 7] <= 23.5 else to node 53.\n",
      "\t\t\t\t\t\t\t\t\t\t\tnode=50 test node: go to node 51 if X[:, 4] <= 40.0 else to node 52.\n",
      "\t\t\t\t\t\t\t\t\t\t\t\tnode=51 leaf node.\n",
      "\t\t\t\t\t\t\t\t\t\t\t\tnode=52 leaf node.\n",
      "\t\t\t\t\t\t\t\t\t\t\tnode=53 leaf node.\n",
      "\t\t\t\t\t\t\t\t\t\tnode=54 leaf node.\n",
      "\t\t\t\t\t\t\t\t\tnode=55 leaf node.\n",
      "\t\t\t\t\t\t\tnode=56 test node: go to node 57 if X[:, 5] <= 33.852500915527344 else to node 68.\n",
      "\t\t\t\t\t\t\t\tnode=57 test node: go to node 58 if X[:, 5] <= 32.90049934387207 else to node 67.\n",
      "\t\t\t\t\t\t\t\t\tnode=58 test node: go to node 59 if X[:, 5] <= 32.45050048828125 else to node 66.\n",
      "\t\t\t\t\t\t\t\t\t\tnode=59 test node: go to node 60 if X[:, 4] <= -2.5 else to node 61.\n",
      "\t\t\t\t\t\t\t\t\t\t\tnode=60 leaf node.\n",
      "\t\t\t\t\t\t\t\t\t\t\tnode=61 test node: go to node 62 if X[:, 7] <= 26.5 else to node 63.\n",
      "\t\t\t\t\t\t\t\t\t\t\t\tnode=62 leaf node.\n",
      "\t\t\t\t\t\t\t\t\t\t\t\tnode=63 test node: go to node 64 if X[:, 2] <= 81.0 else to node 65.\n",
      "\t\t\t\t\t\t\t\t\t\t\t\t\tnode=64 leaf node.\n",
      "\t\t\t\t\t\t\t\t\t\t\t\t\tnode=65 leaf node.\n",
      "\t\t\t\t\t\t\t\t\t\tnode=66 leaf node.\n",
      "\t\t\t\t\t\t\t\t\tnode=67 leaf node.\n",
      "\t\t\t\t\t\t\t\tnode=68 test node: go to node 69 if X[:, 2] <= 63.5 else to node 74.\n",
      "\t\t\t\t\t\t\t\t\tnode=69 test node: go to node 70 if X[:, 5] <= 35.9010009765625 else to node 71.\n",
      "\t\t\t\t\t\t\t\t\t\tnode=70 leaf node.\n",
      "\t\t\t\t\t\t\t\t\t\tnode=71 test node: go to node 72 if X[:, 5] <= 37.70249938964844 else to node 73.\n",
      "\t\t\t\t\t\t\t\t\t\t\tnode=72 leaf node.\n",
      "\t\t\t\t\t\t\t\t\t\t\tnode=73 leaf node.\n",
      "\t\t\t\t\t\t\t\t\tnode=74 test node: go to node 75 if X[:, 5] <= 39.04999923706055 else to node 76.\n",
      "\t\t\t\t\t\t\t\t\t\tnode=75 leaf node.\n",
      "\t\t\t\t\t\t\t\t\t\tnode=76 test node: go to node 77 if X[:, 5] <= 43.69900131225586 else to node 78.\n",
      "\t\t\t\t\t\t\t\t\t\t\tnode=77 leaf node.\n",
      "\t\t\t\t\t\t\t\t\t\t\tnode=78 leaf node.\n",
      "\t\t\t\t\t\tnode=79 test node: go to node 80 if X[:, 6] <= 0.5104999840259552 else to node 81.\n",
      "\t\t\t\t\t\t\tnode=80 leaf node.\n",
      "\t\t\t\t\t\t\tnode=81 test node: go to node 82 if X[:, 2] <= 67.5 else to node 93.\n",
      "\t\t\t\t\t\t\t\tnode=82 test node: go to node 83 if X[:, 1] <= 115.5 else to node 92.\n",
      "\t\t\t\t\t\t\t\t\tnode=83 test node: go to node 84 if X[:, 0] <= 0.5 else to node 85.\n",
      "\t\t\t\t\t\t\t\t\t\tnode=84 leaf node.\n",
      "\t\t\t\t\t\t\t\t\t\tnode=85 test node: go to node 86 if X[:, 7] <= 22.5 else to node 91.\n",
      "\t\t\t\t\t\t\t\t\t\t\tnode=86 test node: go to node 87 if X[:, 2] <= 61.5 else to node 90.\n",
      "\t\t\t\t\t\t\t\t\t\t\t\tnode=87 test node: go to node 88 if X[:, 7] <= 19.5 else to node 89.\n",
      "\t\t\t\t\t\t\t\t\t\t\t\t\tnode=88 leaf node.\n",
      "\t\t\t\t\t\t\t\t\t\t\t\t\tnode=89 leaf node.\n",
      "\t\t\t\t\t\t\t\t\t\t\t\tnode=90 leaf node.\n",
      "\t\t\t\t\t\t\t\t\t\t\tnode=91 leaf node.\n",
      "\t\t\t\t\t\t\t\t\tnode=92 leaf node.\n",
      "\t\t\t\t\t\t\t\tnode=93 test node: go to node 94 if X[:, 0] <= 4.5 else to node 95.\n",
      "\t\t\t\t\t\t\t\t\tnode=94 leaf node.\n",
      "\t\t\t\t\t\t\t\t\tnode=95 test node: go to node 96 if X[:, 5] <= 32.40250015258789 else to node 97.\n",
      "\t\t\t\t\t\t\t\t\t\tnode=96 leaf node.\n",
      "\t\t\t\t\t\t\t\t\t\tnode=97 leaf node.\n",
      "\t\t\t\t\tnode=98 test node: go to node 99 if X[:, 6] <= 0.6855000108480453 else to node 100.\n",
      "\t\t\t\t\t\tnode=99 leaf node.\n",
      "\t\t\t\t\t\tnode=100 leaf node.\n",
      "\t\t\tnode=101 test node: go to node 102 if X[:, 6] <= 0.6245000064373016 else to node 211.\n",
      "\t\t\t\tnode=102 test node: go to node 103 if X[:, 1] <= 92.5 else to node 116.\n",
      "\t\t\t\t\tnode=103 test node: go to node 104 if X[:, 3] <= 26.5 else to node 105.\n",
      "\t\t\t\t\t\tnode=104 leaf node.\n",
      "\t\t\t\t\t\tnode=105 test node: go to node 106 if X[:, 6] <= 0.2900000065565109 else to node 109.\n",
      "\t\t\t\t\t\t\tnode=106 test node: go to node 107 if X[:, 4] <= 152.0 else to node 108.\n",
      "\t\t\t\t\t\t\t\tnode=107 leaf node.\n",
      "\t\t\t\t\t\t\t\tnode=108 leaf node.\n",
      "\t\t\t\t\t\t\tnode=109 test node: go to node 110 if X[:, 2] <= 85.0 else to node 115.\n",
      "\t\t\t\t\t\t\t\tnode=110 test node: go to node 111 if X[:, 6] <= 0.3554999977350235 else to node 112.\n",
      "\t\t\t\t\t\t\t\t\tnode=111 leaf node.\n",
      "\t\t\t\t\t\t\t\t\tnode=112 test node: go to node 113 if X[:, 2] <= 46.5 else to node 114.\n",
      "\t\t\t\t\t\t\t\t\t\tnode=113 leaf node.\n",
      "\t\t\t\t\t\t\t\t\t\tnode=114 leaf node.\n",
      "\t\t\t\t\t\t\t\tnode=115 leaf node.\n",
      "\t\t\t\t\tnode=116 test node: go to node 117 if X[:, 3] <= 27.5 else to node 174.\n",
      "\t\t\t\t\t\tnode=117 test node: go to node 118 if X[:, 6] <= 0.466499999165535 else to node 173.\n",
      "\t\t\t\t\t\t\tnode=118 test node: go to node 119 if X[:, 2] <= 89.5 else to node 170.\n",
      "\t\t\t\t\t\t\t\tnode=119 test node: go to node 120 if X[:, 6] <= 0.12599999830126762 else to node 121.\n",
      "\t\t\t\t\t\t\t\t\tnode=120 leaf node.\n",
      "\t\t\t\t\t\t\t\t\tnode=121 test node: go to node 122 if X[:, 7] <= 59.5 else to node 169.\n",
      "\t\t\t\t\t\t\t\t\t\tnode=122 test node: go to node 123 if X[:, 7] <= 34.5 else to node 140.\n",
      "\t\t\t\t\t\t\t\t\t\t\tnode=123 test node: go to node 124 if X[:, 2] <= 73.5 else to node 135.\n",
      "\t\t\t\t\t\t\t\t\t\t\t\tnode=124 test node: go to node 125 if X[:, 2] <= 52.5 else to node 128.\n",
      "\t\t\t\t\t\t\t\t\t\t\t\t\tnode=125 test node: go to node 126 if X[:, 5] <= 31.601500511169434 else to node 127.\n",
      "\t\t\t\t\t\t\t\t\t\t\t\t\t\tnode=126 leaf node.\n",
      "\t\t\t\t\t\t\t\t\t\t\t\t\t\tnode=127 leaf node.\n",
      "\t\t\t\t\t\t\t\t\t\t\t\t\tnode=128 test node: go to node 129 if X[:, 5] <= 32.90049934387207 else to node 132.\n",
      "\t\t\t\t\t\t\t\t\t\t\t\t\t\tnode=129 test node: go to node 130 if X[:, 3] <= 25.5 else to node 131.\n",
      "\t\t\t\t\t\t\t\t\t\t\t\t\t\t\tnode=130 leaf node.\n",
      "\t\t\t\t\t\t\t\t\t\t\t\t\t\t\tnode=131 leaf node.\n",
      "\t\t\t\t\t\t\t\t\t\t\t\t\t\tnode=132 test node: go to node 133 if X[:, 2] <= 56.5 else to node 134.\n",
      "\t\t\t\t\t\t\t\t\t\t\t\t\t\t\tnode=133 leaf node.\n",
      "\t\t\t\t\t\t\t\t\t\t\t\t\t\t\tnode=134 leaf node.\n",
      "\t\t\t\t\t\t\t\t\t\t\t\tnode=135 test node: go to node 136 if X[:, 3] <= -2.5 else to node 139.\n",
      "\t\t\t\t\t\t\t\t\t\t\t\t\tnode=136 test node: go to node 137 if X[:, 0] <= 4.5 else to node 138.\n",
      "\t\t\t\t\t\t\t\t\t\t\t\t\t\tnode=137 leaf node.\n",
      "\t\t\t\t\t\t\t\t\t\t\t\t\t\tnode=138 leaf node.\n",
      "\t\t\t\t\t\t\t\t\t\t\t\t\tnode=139 leaf node.\n",
      "\t\t\t\t\t\t\t\t\t\t\tnode=140 test node: go to node 141 if X[:, 6] <= 0.16750000417232513 else to node 144.\n",
      "\t\t\t\t\t\t\t\t\t\t\t\tnode=141 test node: go to node 142 if X[:, 3] <= 15.0 else to node 143.\n",
      "\t\t\t\t\t\t\t\t\t\t\t\t\tnode=142 leaf node.\n",
      "\t\t\t\t\t\t\t\t\t\t\t\t\tnode=143 leaf node.\n",
      "\t\t\t\t\t\t\t\t\t\t\t\tnode=144 test node: go to node 145 if X[:, 0] <= 7.5 else to node 156.\n",
      "\t\t\t\t\t\t\t\t\t\t\t\t\tnode=145 test node: go to node 146 if X[:, 6] <= 0.421999990940094 else to node 155.\n",
      "\t\t\t\t\t\t\t\t\t\t\t\t\t\tnode=146 test node: go to node 147 if X[:, 7] <= 40.5 else to node 154.\n",
      "\t\t\t\t\t\t\t\t\t\t\t\t\t\t\tnode=147 test node: go to node 148 if X[:, 5] <= 38.25150108337402 else to node 153.\n",
      "\t\t\t\t\t\t\t\t\t\t\t\t\t\t\t\tnode=148 test node: go to node 149 if X[:, 3] <= -1.0 else to node 152.\n",
      "\t\t\t\t\t\t\t\t\t\t\t\t\t\t\t\t\tnode=149 test node: go to node 150 if X[:, 7] <= 36.0 else to node 151.\n",
      "\t\t\t\t\t\t\t\t\t\t\t\t\t\t\t\t\t\tnode=150 leaf node.\n",
      "\t\t\t\t\t\t\t\t\t\t\t\t\t\t\t\t\t\tnode=151 leaf node.\n",
      "\t\t\t\t\t\t\t\t\t\t\t\t\t\t\t\t\tnode=152 leaf node.\n",
      "\t\t\t\t\t\t\t\t\t\t\t\t\t\t\t\tnode=153 leaf node.\n",
      "\t\t\t\t\t\t\t\t\t\t\t\t\t\t\tnode=154 leaf node.\n",
      "\t\t\t\t\t\t\t\t\t\t\t\t\t\tnode=155 leaf node.\n",
      "\t\t\t\t\t\t\t\t\t\t\t\t\tnode=156 test node: go to node 157 if X[:, 7] <= 51.5 else to node 168.\n",
      "\t\t\t\t\t\t\t\t\t\t\t\t\t\tnode=157 test node: go to node 158 if X[:, 6] <= 0.3959999978542328 else to node 167.\n",
      "\t\t\t\t\t\t\t\t\t\t\t\t\t\t\tnode=158 test node: go to node 159 if X[:, 6] <= 0.27950000762939453 else to node 166.\n",
      "\t\t\t\t\t\t\t\t\t\t\t\t\t\t\t\tnode=159 test node: go to node 160 if X[:, 7] <= 39.5 else to node 161.\n",
      "\t\t\t\t\t\t\t\t\t\t\t\t\t\t\t\t\tnode=160 leaf node.\n",
      "\t\t\t\t\t\t\t\t\t\t\t\t\t\t\t\t\tnode=161 test node: go to node 162 if X[:, 6] <= 0.26500000059604645 else to node 165.\n",
      "\t\t\t\t\t\t\t\t\t\t\t\t\t\t\t\t\t\tnode=162 test node: go to node 163 if X[:, 1] <= 122.5 else to node 164.\n",
      "\t\t\t\t\t\t\t\t\t\t\t\t\t\t\t\t\t\t\tnode=163 leaf node.\n",
      "\t\t\t\t\t\t\t\t\t\t\t\t\t\t\t\t\t\t\tnode=164 leaf node.\n",
      "\t\t\t\t\t\t\t\t\t\t\t\t\t\t\t\t\t\tnode=165 leaf node.\n",
      "\t\t\t\t\t\t\t\t\t\t\t\t\t\t\t\tnode=166 leaf node.\n",
      "\t\t\t\t\t\t\t\t\t\t\t\t\t\t\tnode=167 leaf node.\n",
      "\t\t\t\t\t\t\t\t\t\t\t\t\t\tnode=168 leaf node.\n",
      "\t\t\t\t\t\t\t\t\t\tnode=169 leaf node.\n",
      "\t\t\t\t\t\t\t\tnode=170 test node: go to node 171 if X[:, 5] <= 42.85200119018555 else to node 172.\n",
      "\t\t\t\t\t\t\t\t\tnode=171 leaf node.\n",
      "\t\t\t\t\t\t\t\t\tnode=172 leaf node.\n",
      "\t\t\t\t\t\t\tnode=173 leaf node.\n",
      "\t\t\t\t\t\tnode=174 test node: go to node 175 if X[:, 1] <= 102.5 else to node 184.\n",
      "\t\t\t\t\t\t\tnode=175 test node: go to node 176 if X[:, 0] <= 5.5 else to node 177.\n",
      "\t\t\t\t\t\t\t\tnode=176 leaf node.\n",
      "\t\t\t\t\t\t\t\tnode=177 test node: go to node 178 if X[:, 4] <= 2.5 else to node 183.\n",
      "\t\t\t\t\t\t\t\t\tnode=178 test node: go to node 179 if X[:, 6] <= 0.32199999690055847 else to node 182.\n",
      "\t\t\t\t\t\t\t\t\t\tnode=179 test node: go to node 180 if X[:, 4] <= 0.5 else to node 181.\n",
      "\t\t\t\t\t\t\t\t\t\t\tnode=180 leaf node.\n",
      "\t\t\t\t\t\t\t\t\t\t\tnode=181 leaf node.\n",
      "\t\t\t\t\t\t\t\t\t\tnode=182 leaf node.\n",
      "\t\t\t\t\t\t\t\t\tnode=183 leaf node.\n",
      "\t\t\t\t\t\t\tnode=184 test node: go to node 185 if X[:, 7] <= 30.5 else to node 188.\n",
      "\t\t\t\t\t\t\t\tnode=185 test node: go to node 186 if X[:, 0] <= 6.5 else to node 187.\n",
      "\t\t\t\t\t\t\t\t\tnode=186 leaf node.\n",
      "\t\t\t\t\t\t\t\t\tnode=187 leaf node.\n",
      "\t\t\t\t\t\t\t\tnode=188 test node: go to node 189 if X[:, 2] <= 66.5 else to node 194.\n",
      "\t\t\t\t\t\t\t\t\tnode=189 test node: go to node 190 if X[:, 6] <= 0.4035000056028366 else to node 193.\n",
      "\t\t\t\t\t\t\t\t\t\tnode=190 test node: go to node 191 if X[:, 6] <= 0.17749999463558197 else to node 192.\n",
      "\t\t\t\t\t\t\t\t\t\t\tnode=191 leaf node.\n",
      "\t\t\t\t\t\t\t\t\t\t\tnode=192 leaf node.\n",
      "\t\t\t\t\t\t\t\t\t\tnode=193 leaf node.\n",
      "\t\t\t\t\t\t\t\t\tnode=194 test node: go to node 195 if X[:, 5] <= 43.098501205444336 else to node 206.\n",
      "\t\t\t\t\t\t\t\t\t\tnode=195 test node: go to node 196 if X[:, 5] <= 34.74849891662598 else to node 205.\n",
      "\t\t\t\t\t\t\t\t\t\t\tnode=196 test node: go to node 197 if X[:, 3] <= 37.0 else to node 204.\n",
      "\t\t\t\t\t\t\t\t\t\t\t\tnode=197 test node: go to node 198 if X[:, 6] <= 0.1340000033378601 else to node 199.\n",
      "\t\t\t\t\t\t\t\t\t\t\t\t\tnode=198 leaf node.\n",
      "\t\t\t\t\t\t\t\t\t\t\t\t\tnode=199 test node: go to node 200 if X[:, 6] <= 0.38600000739097595 else to node 201.\n",
      "\t\t\t\t\t\t\t\t\t\t\t\t\t\tnode=200 leaf node.\n",
      "\t\t\t\t\t\t\t\t\t\t\t\t\t\tnode=201 test node: go to node 202 if X[:, 0] <= 9.0 else to node 203.\n",
      "\t\t\t\t\t\t\t\t\t\t\t\t\t\t\tnode=202 leaf node.\n",
      "\t\t\t\t\t\t\t\t\t\t\t\t\t\t\tnode=203 leaf node.\n",
      "\t\t\t\t\t\t\t\t\t\t\t\tnode=204 leaf node.\n",
      "\t\t\t\t\t\t\t\t\t\t\tnode=205 leaf node.\n",
      "\t\t\t\t\t\t\t\t\t\tnode=206 test node: go to node 207 if X[:, 6] <= 0.18050000071525574 else to node 208.\n",
      "\t\t\t\t\t\t\t\t\t\t\tnode=207 leaf node.\n",
      "\t\t\t\t\t\t\t\t\t\t\tnode=208 test node: go to node 209 if X[:, 6] <= 0.4165000021457672 else to node 210.\n",
      "\t\t\t\t\t\t\t\t\t\t\t\tnode=209 leaf node.\n",
      "\t\t\t\t\t\t\t\t\t\t\t\tnode=210 leaf node.\n",
      "\t\t\t\tnode=211 test node: go to node 212 if X[:, 2] <= 89.5 else to node 255.\n",
      "\t\t\t\t\tnode=212 test node: go to node 213 if X[:, 4] <= 2.5 else to node 224.\n",
      "\t\t\t\t\t\tnode=213 test node: go to node 214 if X[:, 0] <= 6.5 else to node 223.\n",
      "\t\t\t\t\t\t\tnode=214 test node: go to node 215 if X[:, 3] <= 24.5 else to node 222.\n",
      "\t\t\t\t\t\t\t\tnode=215 test node: go to node 216 if X[:, 1] <= 106.0 else to node 217.\n",
      "\t\t\t\t\t\t\t\t\tnode=216 leaf node.\n",
      "\t\t\t\t\t\t\t\t\tnode=217 test node: go to node 218 if X[:, 4] <= -0.5 else to node 221.\n",
      "\t\t\t\t\t\t\t\t\t\tnode=218 test node: go to node 219 if X[:, 2] <= 66.5 else to node 220.\n",
      "\t\t\t\t\t\t\t\t\t\t\tnode=219 leaf node.\n",
      "\t\t\t\t\t\t\t\t\t\t\tnode=220 leaf node.\n",
      "\t\t\t\t\t\t\t\t\t\tnode=221 leaf node.\n",
      "\t\t\t\t\t\t\t\tnode=222 leaf node.\n",
      "\t\t\t\t\t\t\tnode=223 leaf node.\n",
      "\t\t\t\t\t\tnode=224 test node: go to node 225 if X[:, 4] <= 84.5 else to node 232.\n",
      "\t\t\t\t\t\t\tnode=225 test node: go to node 226 if X[:, 4] <= 26.0 else to node 229.\n",
      "\t\t\t\t\t\t\t\tnode=226 test node: go to node 227 if X[:, 3] <= 24.0 else to node 228.\n",
      "\t\t\t\t\t\t\t\t\tnode=227 leaf node.\n",
      "\t\t\t\t\t\t\t\t\tnode=228 leaf node.\n",
      "\t\t\t\t\t\t\t\tnode=229 test node: go to node 230 if X[:, 2] <= 81.5 else to node 231.\n",
      "\t\t\t\t\t\t\t\t\tnode=230 leaf node.\n",
      "\t\t\t\t\t\t\t\t\tnode=231 leaf node.\n",
      "\t\t\t\t\t\t\tnode=232 test node: go to node 233 if X[:, 6] <= 1.3950000405311584 else to node 254.\n",
      "\t\t\t\t\t\t\t\tnode=233 test node: go to node 234 if X[:, 0] <= 0.5 else to node 241.\n",
      "\t\t\t\t\t\t\t\t\tnode=234 test node: go to node 235 if X[:, 6] <= 0.8135000169277191 else to node 240.\n",
      "\t\t\t\t\t\t\t\t\t\tnode=235 test node: go to node 236 if X[:, 4] <= 220.0 else to node 239.\n",
      "\t\t\t\t\t\t\t\t\t\t\tnode=236 test node: go to node 237 if X[:, 4] <= 130.0 else to node 238.\n",
      "\t\t\t\t\t\t\t\t\t\t\t\tnode=237 leaf node.\n",
      "\t\t\t\t\t\t\t\t\t\t\t\tnode=238 leaf node.\n",
      "\t\t\t\t\t\t\t\t\t\t\tnode=239 leaf node.\n",
      "\t\t\t\t\t\t\t\t\t\tnode=240 leaf node.\n",
      "\t\t\t\t\t\t\t\t\tnode=241 test node: go to node 242 if X[:, 4] <= 198.5 else to node 247.\n",
      "\t\t\t\t\t\t\t\t\t\tnode=242 test node: go to node 243 if X[:, 5] <= 27.748499870300293 else to node 246.\n",
      "\t\t\t\t\t\t\t\t\t\t\tnode=243 test node: go to node 244 if X[:, 2] <= 63.0 else to node 245.\n",
      "\t\t\t\t\t\t\t\t\t\t\t\tnode=244 leaf node.\n",
      "\t\t\t\t\t\t\t\t\t\t\t\tnode=245 leaf node.\n",
      "\t\t\t\t\t\t\t\t\t\t\tnode=246 leaf node.\n",
      "\t\t\t\t\t\t\t\t\t\tnode=247 test node: go to node 248 if X[:, 1] <= 119.5 else to node 253.\n",
      "\t\t\t\t\t\t\t\t\t\t\tnode=248 test node: go to node 249 if X[:, 1] <= 112.0 else to node 250.\n",
      "\t\t\t\t\t\t\t\t\t\t\t\tnode=249 leaf node.\n",
      "\t\t\t\t\t\t\t\t\t\t\t\tnode=250 test node: go to node 251 if X[:, 6] <= 0.7705000042915344 else to node 252.\n",
      "\t\t\t\t\t\t\t\t\t\t\t\t\tnode=251 leaf node.\n",
      "\t\t\t\t\t\t\t\t\t\t\t\t\tnode=252 leaf node.\n",
      "\t\t\t\t\t\t\t\t\t\t\tnode=253 leaf node.\n",
      "\t\t\t\t\t\t\t\tnode=254 leaf node.\n",
      "\t\t\t\t\tnode=255 leaf node.\n",
      "\tnode=256 test node: go to node 257 if X[:, 5] <= 29.951000213623047 else to node 320.\n",
      "\t\tnode=257 test node: go to node 258 if X[:, 7] <= 22.5 else to node 263.\n",
      "\t\t\tnode=258 test node: go to node 259 if X[:, 3] <= 2.0 else to node 262.\n",
      "\t\t\t\tnode=259 test node: go to node 260 if X[:, 6] <= 0.3645000010728836 else to node 261.\n",
      "\t\t\t\t\tnode=260 leaf node.\n",
      "\t\t\t\t\tnode=261 leaf node.\n",
      "\t\t\t\tnode=262 leaf node.\n",
      "\t\t\tnode=263 test node: go to node 264 if X[:, 7] <= 61.5 else to node 319.\n",
      "\t\t\t\tnode=264 test node: go to node 265 if X[:, 1] <= 160.5 else to node 314.\n",
      "\t\t\t\t\tnode=265 test node: go to node 266 if X[:, 6] <= 0.1719999983906746 else to node 267.\n",
      "\t\t\t\t\t\tnode=266 leaf node.\n",
      "\t\t\t\t\t\tnode=267 test node: go to node 268 if X[:, 5] <= 29.550000190734863 else to node 313.\n",
      "\t\t\t\t\t\t\tnode=268 test node: go to node 269 if X[:, 4] <= 131.5 else to node 304.\n",
      "\t\t\t\t\t\t\t\tnode=269 test node: go to node 270 if X[:, 5] <= 23.447500228881836 else to node 271.\n",
      "\t\t\t\t\t\t\t\t\tnode=270 leaf node.\n",
      "\t\t\t\t\t\t\t\t\tnode=271 test node: go to node 272 if X[:, 6] <= 0.31050001084804535 else to node 291.\n",
      "\t\t\t\t\t\t\t\t\t\tnode=272 test node: go to node 273 if X[:, 7] <= 25.5 else to node 274.\n",
      "\t\t\t\t\t\t\t\t\t\t\tnode=273 leaf node.\n",
      "\t\t\t\t\t\t\t\t\t\t\tnode=274 test node: go to node 275 if X[:, 6] <= 0.28300000727176666 else to node 290.\n",
      "\t\t\t\t\t\t\t\t\t\t\t\tnode=275 test node: go to node 276 if X[:, 5] <= 26.699999809265137 else to node 279.\n",
      "\t\t\t\t\t\t\t\t\t\t\t\t\tnode=276 test node: go to node 277 if X[:, 1] <= 126.0 else to node 278.\n",
      "\t\t\t\t\t\t\t\t\t\t\t\t\t\tnode=277 leaf node.\n",
      "\t\t\t\t\t\t\t\t\t\t\t\t\t\tnode=278 leaf node.\n",
      "\t\t\t\t\t\t\t\t\t\t\t\t\tnode=279 test node: go to node 280 if X[:, 5] <= 27.349499702453613 else to node 281.\n",
      "\t\t\t\t\t\t\t\t\t\t\t\t\t\tnode=280 leaf node.\n",
      "\t\t\t\t\t\t\t\t\t\t\t\t\t\tnode=281 test node: go to node 282 if X[:, 5] <= 27.551000595092773 else to node 283.\n",
      "\t\t\t\t\t\t\t\t\t\t\t\t\t\t\tnode=282 leaf node.\n",
      "\t\t\t\t\t\t\t\t\t\t\t\t\t\t\tnode=283 test node: go to node 284 if X[:, 0] <= 4.5 else to node 285.\n",
      "\t\t\t\t\t\t\t\t\t\t\t\t\t\t\t\tnode=284 leaf node.\n",
      "\t\t\t\t\t\t\t\t\t\t\t\t\t\t\t\tnode=285 test node: go to node 286 if X[:, 5] <= 27.99899959564209 else to node 287.\n",
      "\t\t\t\t\t\t\t\t\t\t\t\t\t\t\t\t\tnode=286 leaf node.\n",
      "\t\t\t\t\t\t\t\t\t\t\t\t\t\t\t\t\tnode=287 test node: go to node 288 if X[:, 7] <= 33.0 else to node 289.\n",
      "\t\t\t\t\t\t\t\t\t\t\t\t\t\t\t\t\t\tnode=288 leaf node.\n",
      "\t\t\t\t\t\t\t\t\t\t\t\t\t\t\t\t\t\tnode=289 leaf node.\n",
      "\t\t\t\t\t\t\t\t\t\t\t\tnode=290 leaf node.\n",
      "\t\t\t\t\t\t\t\t\t\tnode=291 test node: go to node 292 if X[:, 2] <= 62.0 else to node 295.\n",
      "\t\t\t\t\t\t\t\t\t\t\tnode=292 test node: go to node 293 if X[:, 6] <= 0.528999999165535 else to node 294.\n",
      "\t\t\t\t\t\t\t\t\t\t\t\tnode=293 leaf node.\n",
      "\t\t\t\t\t\t\t\t\t\t\t\tnode=294 leaf node.\n",
      "\t\t\t\t\t\t\t\t\t\t\tnode=295 test node: go to node 296 if X[:, 5] <= 26.249500274658203 else to node 297.\n",
      "\t\t\t\t\t\t\t\t\t\t\t\tnode=296 leaf node.\n",
      "\t\t\t\t\t\t\t\t\t\t\t\tnode=297 test node: go to node 298 if X[:, 7] <= 55.5 else to node 303.\n",
      "\t\t\t\t\t\t\t\t\t\t\t\t\tnode=298 test node: go to node 299 if X[:, 4] <= -0.5 else to node 302.\n",
      "\t\t\t\t\t\t\t\t\t\t\t\t\t\tnode=299 test node: go to node 300 if X[:, 6] <= 0.5259999930858612 else to node 301.\n",
      "\t\t\t\t\t\t\t\t\t\t\t\t\t\t\tnode=300 leaf node.\n",
      "\t\t\t\t\t\t\t\t\t\t\t\t\t\t\tnode=301 leaf node.\n",
      "\t\t\t\t\t\t\t\t\t\t\t\t\t\tnode=302 leaf node.\n",
      "\t\t\t\t\t\t\t\t\t\t\t\t\tnode=303 leaf node.\n",
      "\t\t\t\t\t\t\t\tnode=304 test node: go to node 305 if X[:, 4] <= 341.5 else to node 310.\n",
      "\t\t\t\t\t\t\t\t\tnode=305 test node: go to node 306 if X[:, 3] <= 34.5 else to node 307.\n",
      "\t\t\t\t\t\t\t\t\t\tnode=306 leaf node.\n",
      "\t\t\t\t\t\t\t\t\t\tnode=307 test node: go to node 308 if X[:, 1] <= 136.5 else to node 309.\n",
      "\t\t\t\t\t\t\t\t\t\t\tnode=308 leaf node.\n",
      "\t\t\t\t\t\t\t\t\t\t\tnode=309 leaf node.\n",
      "\t\t\t\t\t\t\t\t\tnode=310 test node: go to node 311 if X[:, 5] <= 25.84850025177002 else to node 312.\n",
      "\t\t\t\t\t\t\t\t\t\tnode=311 leaf node.\n",
      "\t\t\t\t\t\t\t\t\t\tnode=312 leaf node.\n",
      "\t\t\t\t\t\t\tnode=313 leaf node.\n",
      "\t\t\t\t\tnode=314 test node: go to node 315 if X[:, 2] <= 80.0 else to node 318.\n",
      "\t\t\t\t\t\tnode=315 test node: go to node 316 if X[:, 7] <= 28.5 else to node 317.\n",
      "\t\t\t\t\t\t\tnode=316 leaf node.\n",
      "\t\t\t\t\t\t\tnode=317 leaf node.\n",
      "\t\t\t\t\t\tnode=318 leaf node.\n",
      "\t\t\t\tnode=319 leaf node.\n",
      "\t\tnode=320 test node: go to node 321 if X[:, 1] <= 157.5 else to node 446.\n",
      "\t\t\tnode=321 test node: go to node 322 if X[:, 7] <= 31.5 else to node 381.\n",
      "\t\t\t\tnode=322 test node: go to node 323 if X[:, 2] <= 72.5 else to node 356.\n",
      "\t\t\t\t\tnode=323 test node: go to node 324 if X[:, 5] <= 42.196998596191406 else to node 355.\n",
      "\t\t\t\t\t\tnode=324 test node: go to node 325 if X[:, 5] <= 40.60099983215332 else to node 354.\n",
      "\t\t\t\t\t\t\tnode=325 test node: go to node 326 if X[:, 6] <= 0.41050000488758087 else to node 345.\n",
      "\t\t\t\t\t\t\t\tnode=326 test node: go to node 327 if X[:, 5] <= 37.647499084472656 else to node 344.\n",
      "\t\t\t\t\t\t\t\t\tnode=327 test node: go to node 328 if X[:, 2] <= 66.5 else to node 339.\n",
      "\t\t\t\t\t\t\t\t\t\tnode=328 test node: go to node 329 if X[:, 1] <= 149.0 else to node 338.\n",
      "\t\t\t\t\t\t\t\t\t\t\tnode=329 test node: go to node 330 if X[:, 1] <= 128.0 else to node 333.\n",
      "\t\t\t\t\t\t\t\t\t\t\t\tnode=330 test node: go to node 331 if X[:, 2] <= 22.5 else to node 332.\n",
      "\t\t\t\t\t\t\t\t\t\t\t\t\tnode=331 leaf node.\n",
      "\t\t\t\t\t\t\t\t\t\t\t\t\tnode=332 leaf node.\n",
      "\t\t\t\t\t\t\t\t\t\t\t\tnode=333 test node: go to node 334 if X[:, 1] <= 147.0 else to node 335.\n",
      "\t\t\t\t\t\t\t\t\t\t\t\t\tnode=334 leaf node.\n",
      "\t\t\t\t\t\t\t\t\t\t\t\t\tnode=335 test node: go to node 336 if X[:, 6] <= 0.203000009059906 else to node 337.\n",
      "\t\t\t\t\t\t\t\t\t\t\t\t\t\tnode=336 leaf node.\n",
      "\t\t\t\t\t\t\t\t\t\t\t\t\t\tnode=337 leaf node.\n",
      "\t\t\t\t\t\t\t\t\t\t\tnode=338 leaf node.\n",
      "\t\t\t\t\t\t\t\t\t\tnode=339 test node: go to node 340 if X[:, 4] <= -1.5 else to node 343.\n",
      "\t\t\t\t\t\t\t\t\t\t\tnode=340 test node: go to node 341 if X[:, 4] <= -2.5 else to node 342.\n",
      "\t\t\t\t\t\t\t\t\t\t\t\tnode=341 leaf node.\n",
      "\t\t\t\t\t\t\t\t\t\t\t\tnode=342 leaf node.\n",
      "\t\t\t\t\t\t\t\t\t\t\tnode=343 leaf node.\n",
      "\t\t\t\t\t\t\t\t\tnode=344 leaf node.\n",
      "\t\t\t\t\t\t\t\tnode=345 test node: go to node 346 if X[:, 5] <= 35.44850158691406 else to node 351.\n",
      "\t\t\t\t\t\t\t\t\tnode=346 test node: go to node 347 if X[:, 4] <= 207.0 else to node 348.\n",
      "\t\t\t\t\t\t\t\t\t\tnode=347 leaf node.\n",
      "\t\t\t\t\t\t\t\t\t\tnode=348 test node: go to node 349 if X[:, 6] <= 0.7335000038146973 else to node 350.\n",
      "\t\t\t\t\t\t\t\t\t\t\tnode=349 leaf node.\n",
      "\t\t\t\t\t\t\t\t\t\t\tnode=350 leaf node.\n",
      "\t\t\t\t\t\t\t\t\tnode=351 test node: go to node 352 if X[:, 2] <= 54.0 else to node 353.\n",
      "\t\t\t\t\t\t\t\t\t\tnode=352 leaf node.\n",
      "\t\t\t\t\t\t\t\t\t\tnode=353 leaf node.\n",
      "\t\t\t\t\t\t\tnode=354 leaf node.\n",
      "\t\t\t\t\t\tnode=355 leaf node.\n",
      "\t\t\t\t\tnode=356 test node: go to node 357 if X[:, 4] <= 192.5 else to node 376.\n",
      "\t\t\t\t\t\tnode=357 test node: go to node 358 if X[:, 6] <= 0.31200000643730164 else to node 359.\n",
      "\t\t\t\t\t\t\tnode=358 leaf node.\n",
      "\t\t\t\t\t\t\tnode=359 test node: go to node 360 if X[:, 6] <= 0.37150000035762787 else to node 363.\n",
      "\t\t\t\t\t\t\t\tnode=360 test node: go to node 361 if X[:, 4] <= 176.5 else to node 362.\n",
      "\t\t\t\t\t\t\t\t\tnode=361 leaf node.\n",
      "\t\t\t\t\t\t\t\t\tnode=362 leaf node.\n",
      "\t\t\t\t\t\t\t\tnode=363 test node: go to node 364 if X[:, 6] <= 0.7215000092983246 else to node 375.\n",
      "\t\t\t\t\t\t\t\t\tnode=364 test node: go to node 365 if X[:, 3] <= 5.0 else to node 372.\n",
      "\t\t\t\t\t\t\t\t\t\tnode=365 test node: go to node 366 if X[:, 0] <= 1.5 else to node 367.\n",
      "\t\t\t\t\t\t\t\t\t\t\tnode=366 leaf node.\n",
      "\t\t\t\t\t\t\t\t\t\t\tnode=367 test node: go to node 368 if X[:, 6] <= 0.675000011920929 else to node 371.\n",
      "\t\t\t\t\t\t\t\t\t\t\t\tnode=368 test node: go to node 369 if X[:, 6] <= 0.46449999511241913 else to node 370.\n",
      "\t\t\t\t\t\t\t\t\t\t\t\t\tnode=369 leaf node.\n",
      "\t\t\t\t\t\t\t\t\t\t\t\t\tnode=370 leaf node.\n",
      "\t\t\t\t\t\t\t\t\t\t\t\tnode=371 leaf node.\n",
      "\t\t\t\t\t\t\t\t\t\tnode=372 test node: go to node 373 if X[:, 2] <= 75.0 else to node 374.\n",
      "\t\t\t\t\t\t\t\t\t\t\tnode=373 leaf node.\n",
      "\t\t\t\t\t\t\t\t\t\t\tnode=374 leaf node.\n",
      "\t\t\t\t\t\t\t\t\tnode=375 leaf node.\n",
      "\t\t\t\t\t\tnode=376 test node: go to node 377 if X[:, 0] <= 4.5 else to node 378.\n",
      "\t\t\t\t\t\t\tnode=377 leaf node.\n",
      "\t\t\t\t\t\t\tnode=378 test node: go to node 379 if X[:, 6] <= 0.7305000126361847 else to node 380.\n",
      "\t\t\t\t\t\t\t\tnode=379 leaf node.\n",
      "\t\t\t\t\t\t\t\tnode=380 leaf node.\n",
      "\t\t\t\tnode=381 test node: go to node 382 if X[:, 6] <= 0.4310000091791153 else to node 417.\n",
      "\t\t\t\t\tnode=382 test node: go to node 383 if X[:, 5] <= 45.55100059509277 else to node 416.\n",
      "\t\t\t\t\t\tnode=383 test node: go to node 384 if X[:, 5] <= 37.250999450683594 else to node 413.\n",
      "\t\t\t\t\t\t\tnode=384 test node: go to node 385 if X[:, 2] <= 68.0 else to node 386.\n",
      "\t\t\t\t\t\t\t\tnode=385 leaf node.\n",
      "\t\t\t\t\t\t\t\tnode=386 test node: go to node 387 if X[:, 0] <= 8.5 else to node 408.\n",
      "\t\t\t\t\t\t\t\t\tnode=387 test node: go to node 388 if X[:, 2] <= 80.5 else to node 401.\n",
      "\t\t\t\t\t\t\t\t\t\tnode=388 test node: go to node 389 if X[:, 3] <= 20.0 else to node 400.\n",
      "\t\t\t\t\t\t\t\t\t\t\tnode=389 test node: go to node 390 if X[:, 7] <= 58.5 else to node 397.\n",
      "\t\t\t\t\t\t\t\t\t\t\t\tnode=390 test node: go to node 391 if X[:, 5] <= 34.499000549316406 else to node 394.\n",
      "\t\t\t\t\t\t\t\t\t\t\t\t\tnode=391 test node: go to node 392 if X[:, 6] <= 0.41200000047683716 else to node 393.\n",
      "\t\t\t\t\t\t\t\t\t\t\t\t\t\tnode=392 leaf node.\n",
      "\t\t\t\t\t\t\t\t\t\t\t\t\t\tnode=393 leaf node.\n",
      "\t\t\t\t\t\t\t\t\t\t\t\t\tnode=394 test node: go to node 395 if X[:, 3] <= 0.5 else to node 396.\n",
      "\t\t\t\t\t\t\t\t\t\t\t\t\t\tnode=395 leaf node.\n",
      "\t\t\t\t\t\t\t\t\t\t\t\t\t\tnode=396 leaf node.\n",
      "\t\t\t\t\t\t\t\t\t\t\t\tnode=397 test node: go to node 398 if X[:, 6] <= 0.2280000001192093 else to node 399.\n",
      "\t\t\t\t\t\t\t\t\t\t\t\t\tnode=398 leaf node.\n",
      "\t\t\t\t\t\t\t\t\t\t\t\t\tnode=399 leaf node.\n",
      "\t\t\t\t\t\t\t\t\t\t\tnode=400 leaf node.\n",
      "\t\t\t\t\t\t\t\t\t\tnode=401 test node: go to node 402 if X[:, 5] <= 32.44849967956543 else to node 405.\n",
      "\t\t\t\t\t\t\t\t\t\t\tnode=402 test node: go to node 403 if X[:, 4] <= 317.0 else to node 404.\n",
      "\t\t\t\t\t\t\t\t\t\t\t\tnode=403 leaf node.\n",
      "\t\t\t\t\t\t\t\t\t\t\t\tnode=404 leaf node.\n",
      "\t\t\t\t\t\t\t\t\t\t\tnode=405 test node: go to node 406 if X[:, 1] <= 130.5 else to node 407.\n",
      "\t\t\t\t\t\t\t\t\t\t\t\tnode=406 leaf node.\n",
      "\t\t\t\t\t\t\t\t\t\t\t\tnode=407 leaf node.\n",
      "\t\t\t\t\t\t\t\t\tnode=408 test node: go to node 409 if X[:, 2] <= 71.5 else to node 412.\n",
      "\t\t\t\t\t\t\t\t\t\tnode=409 test node: go to node 410 if X[:, 7] <= 35.5 else to node 411.\n",
      "\t\t\t\t\t\t\t\t\t\t\tnode=410 leaf node.\n",
      "\t\t\t\t\t\t\t\t\t\t\tnode=411 leaf node.\n",
      "\t\t\t\t\t\t\t\t\t\tnode=412 leaf node.\n",
      "\t\t\t\t\t\t\tnode=413 test node: go to node 414 if X[:, 1] <= 152.0 else to node 415.\n",
      "\t\t\t\t\t\t\t\tnode=414 leaf node.\n",
      "\t\t\t\t\t\t\t\tnode=415 leaf node.\n",
      "\t\t\t\t\t\tnode=416 leaf node.\n",
      "\t\t\t\t\tnode=417 test node: go to node 418 if X[:, 6] <= 1.565999984741211 else to node 445.\n",
      "\t\t\t\t\t\tnode=418 test node: go to node 419 if X[:, 7] <= 42.5 else to node 440.\n",
      "\t\t\t\t\t\t\tnode=419 test node: go to node 420 if X[:, 4] <= 306.0 else to node 439.\n",
      "\t\t\t\t\t\t\t\tnode=420 test node: go to node 421 if X[:, 5] <= 30.251500129699707 else to node 422.\n",
      "\t\t\t\t\t\t\t\t\tnode=421 leaf node.\n",
      "\t\t\t\t\t\t\t\t\tnode=422 test node: go to node 423 if X[:, 5] <= 40.05100059509277 else to node 430.\n",
      "\t\t\t\t\t\t\t\t\t\tnode=423 test node: go to node 424 if X[:, 4] <= 174.0 else to node 429.\n",
      "\t\t\t\t\t\t\t\t\t\t\tnode=424 test node: go to node 425 if X[:, 2] <= 77.5 else to node 428.\n",
      "\t\t\t\t\t\t\t\t\t\t\t\tnode=425 test node: go to node 426 if X[:, 0] <= 2.0 else to node 427.\n",
      "\t\t\t\t\t\t\t\t\t\t\t\t\tnode=426 leaf node.\n",
      "\t\t\t\t\t\t\t\t\t\t\t\t\tnode=427 leaf node.\n",
      "\t\t\t\t\t\t\t\t\t\t\t\tnode=428 leaf node.\n",
      "\t\t\t\t\t\t\t\t\t\t\tnode=429 leaf node.\n",
      "\t\t\t\t\t\t\t\t\t\tnode=430 test node: go to node 431 if X[:, 5] <= 40.89849853515625 else to node 432.\n",
      "\t\t\t\t\t\t\t\t\t\t\tnode=431 leaf node.\n",
      "\t\t\t\t\t\t\t\t\t\t\tnode=432 test node: go to node 433 if X[:, 0] <= 7.0 else to node 438.\n",
      "\t\t\t\t\t\t\t\t\t\t\t\tnode=433 test node: go to node 434 if X[:, 5] <= 42.89900016784668 else to node 435.\n",
      "\t\t\t\t\t\t\t\t\t\t\t\t\tnode=434 leaf node.\n",
      "\t\t\t\t\t\t\t\t\t\t\t\t\tnode=435 test node: go to node 436 if X[:, 3] <= 38.5 else to node 437.\n",
      "\t\t\t\t\t\t\t\t\t\t\t\t\t\tnode=436 leaf node.\n",
      "\t\t\t\t\t\t\t\t\t\t\t\t\t\tnode=437 leaf node.\n",
      "\t\t\t\t\t\t\t\t\t\t\t\tnode=438 leaf node.\n",
      "\t\t\t\t\t\t\t\tnode=439 leaf node.\n",
      "\t\t\t\t\t\t\tnode=440 test node: go to node 441 if X[:, 4] <= 335.0 else to node 442.\n",
      "\t\t\t\t\t\t\t\tnode=441 leaf node.\n",
      "\t\t\t\t\t\t\t\tnode=442 test node: go to node 443 if X[:, 5] <= 34.35000038146973 else to node 444.\n",
      "\t\t\t\t\t\t\t\t\tnode=443 leaf node.\n",
      "\t\t\t\t\t\t\t\t\tnode=444 leaf node.\n",
      "\t\t\t\t\t\tnode=445 leaf node.\n",
      "\t\t\tnode=446 test node: go to node 447 if X[:, 5] <= 46.10050010681152 else to node 486.\n",
      "\t\t\t\tnode=447 test node: go to node 448 if X[:, 6] <= 2.2350000143051147 else to node 485.\n",
      "\t\t\t\t\tnode=448 test node: go to node 449 if X[:, 6] <= 0.3425000011920929 else to node 472.\n",
      "\t\t\t\t\t\tnode=449 test node: go to node 450 if X[:, 5] <= 35.30050086975098 else to node 465.\n",
      "\t\t\t\t\t\t\tnode=450 test node: go to node 451 if X[:, 5] <= 35.0004997253418 else to node 464.\n",
      "\t\t\t\t\t\t\t\tnode=451 test node: go to node 452 if X[:, 4] <= 284.0 else to node 463.\n",
      "\t\t\t\t\t\t\t\t\tnode=452 test node: go to node 453 if X[:, 6] <= 0.3305000066757202 else to node 462.\n",
      "\t\t\t\t\t\t\t\t\t\tnode=453 test node: go to node 454 if X[:, 7] <= 54.0 else to node 461.\n",
      "\t\t\t\t\t\t\t\t\t\t\tnode=454 test node: go to node 455 if X[:, 4] <= 35.5 else to node 456.\n",
      "\t\t\t\t\t\t\t\t\t\t\t\tnode=455 leaf node.\n",
      "\t\t\t\t\t\t\t\t\t\t\t\tnode=456 test node: go to node 457 if X[:, 4] <= 99.5 else to node 458.\n",
      "\t\t\t\t\t\t\t\t\t\t\t\t\tnode=457 leaf node.\n",
      "\t\t\t\t\t\t\t\t\t\t\t\t\tnode=458 test node: go to node 459 if X[:, 1] <= 188.0 else to node 460.\n",
      "\t\t\t\t\t\t\t\t\t\t\t\t\t\tnode=459 leaf node.\n",
      "\t\t\t\t\t\t\t\t\t\t\t\t\t\tnode=460 leaf node.\n",
      "\t\t\t\t\t\t\t\t\t\t\tnode=461 leaf node.\n",
      "\t\t\t\t\t\t\t\t\t\tnode=462 leaf node.\n",
      "\t\t\t\t\t\t\t\t\tnode=463 leaf node.\n",
      "\t\t\t\t\t\t\t\tnode=464 leaf node.\n",
      "\t\t\t\t\t\t\tnode=465 test node: go to node 466 if X[:, 1] <= 164.5 else to node 471.\n",
      "\t\t\t\t\t\t\t\tnode=466 test node: go to node 467 if X[:, 2] <= 44.5 else to node 468.\n",
      "\t\t\t\t\t\t\t\t\tnode=467 leaf node.\n",
      "\t\t\t\t\t\t\t\t\tnode=468 test node: go to node 469 if X[:, 6] <= 0.14399999380111694 else to node 470.\n",
      "\t\t\t\t\t\t\t\t\t\tnode=469 leaf node.\n",
      "\t\t\t\t\t\t\t\t\t\tnode=470 leaf node.\n",
      "\t\t\t\t\t\t\t\tnode=471 leaf node.\n",
      "\t\t\t\t\t\tnode=472 test node: go to node 473 if X[:, 7] <= 42.5 else to node 478.\n",
      "\t\t\t\t\t\t\tnode=473 test node: go to node 474 if X[:, 4] <= 512.5 else to node 475.\n",
      "\t\t\t\t\t\t\t\tnode=474 leaf node.\n",
      "\t\t\t\t\t\t\t\tnode=475 test node: go to node 476 if X[:, 7] <= 33.0 else to node 477.\n",
      "\t\t\t\t\t\t\t\t\tnode=476 leaf node.\n",
      "\t\t\t\t\t\t\t\t\tnode=477 leaf node.\n",
      "\t\t\t\t\t\t\tnode=478 test node: go to node 479 if X[:, 6] <= 1.4059999585151672 else to node 484.\n",
      "\t\t\t\t\t\t\t\tnode=479 test node: go to node 480 if X[:, 1] <= 166.0 else to node 483.\n",
      "\t\t\t\t\t\t\t\t\tnode=480 test node: go to node 481 if X[:, 6] <= 0.7195000052452087 else to node 482.\n",
      "\t\t\t\t\t\t\t\t\t\tnode=481 leaf node.\n",
      "\t\t\t\t\t\t\t\t\t\tnode=482 leaf node.\n",
      "\t\t\t\t\t\t\t\t\tnode=483 leaf node.\n",
      "\t\t\t\t\t\t\t\tnode=484 leaf node.\n",
      "\t\t\t\t\tnode=485 leaf node.\n",
      "\t\t\t\tnode=486 test node: go to node 487 if X[:, 4] <= 119.5 else to node 488.\n",
      "\t\t\t\t\tnode=487 leaf node.\n",
      "\t\t\t\t\tnode=488 leaf node.\n",
      "\n"
     ]
    }
   ],
   "source": [
    "n_nodes = clfr.tree_.node_count\n",
    "children_left = clfr.tree_.children_left\n",
    "children_right = clfr.tree_.children_right\n",
    "feature = clfr.tree_.feature\n",
    "threshold = clfr.tree_.threshold\n",
    "\n",
    "\n",
    "node_depth = np.zeros(shape=n_nodes, dtype=np.int64)\n",
    "is_leaves = np.zeros(shape=n_nodes, dtype=bool)\n",
    "stack = [(0, -1)]  # seed is the root node id plus parent depth\n",
    "while len(stack) > 0:\n",
    "    node_id, parent_depth = stack.pop()\n",
    "    node_depth[node_id] = parent_depth + 1\n",
    "\n",
    "    # If we have a test node\n",
    "    if (children_left[node_id] != children_right[node_id]):\n",
    "        stack.append((children_left[node_id], parent_depth + 1))\n",
    "        stack.append((children_right[node_id], parent_depth + 1))\n",
    "    else:\n",
    "        is_leaves[node_id] = True\n",
    "\n",
    "print(\"The tree structure has %s nodes and has the following tree structure:\" % n_nodes)\n",
    "for i in range(n_nodes):\n",
    "    if is_leaves[i]:\n",
    "        print(\"%snode=%s leaf node.\" % (node_depth[i] * \"\\t\", i))\n",
    "    else:\n",
    "        print(\"%snode=%s test node: go to node %s if X[:, %s] <= %s else to node %s.\" % (node_depth[i] * \"\\t\",\n",
    "                 i,\n",
    "                 children_left[i],\n",
    "                 feature[i],\n",
    "                 threshold[i],\n",
    "                 children_right[i],\n",
    "                 ))\n",
    "print()"
   ]
  },
  {
   "cell_type": "code",
   "execution_count": 17,
   "metadata": {},
   "outputs": [],
   "source": [
    "dot_data = tree.export_graphviz(clfr, out_file=None) \n",
    "graph = gv.Source(dot_data, format='png')"
   ]
  },
  {
   "cell_type": "code",
   "execution_count": 18,
   "metadata": {},
   "outputs": [
    {
     "name": "stdout",
     "output_type": "stream",
     "text": [
      "C:\\Users\\AndreVermeulen\\Documents\\My Book\\apress\\Industrialized Machine Learning\\book\\IML\\Results\\Chapter 04\n"
     ]
    }
   ],
   "source": [
    "imagepath = os.path.join(*[os.path.dirname(os.path.dirname(os.getcwd())),'Results','Chapter 04'])\n",
    "print(imagepath)"
   ]
  },
  {
   "cell_type": "code",
   "execution_count": 19,
   "metadata": {},
   "outputs": [],
   "source": [
    "if not os.path.exists(imagepath):\n",
    "    os.makedirs(imagepath)"
   ]
  },
  {
   "cell_type": "code",
   "execution_count": 20,
   "metadata": {},
   "outputs": [],
   "source": [
    "imagename = os.path.join(*[os.path.dirname(os.path.dirname(os.getcwd())),'Results','Chapter 04','Chapter-004-Example-015-05.dot'])"
   ]
  },
  {
   "cell_type": "code",
   "execution_count": 21,
   "metadata": {},
   "outputs": [
    {
     "data": {
      "text/plain": [
       "'C:\\\\Users\\\\AndreVermeulen\\\\Documents\\\\My Book\\\\apress\\\\Industrialized Machine Learning\\\\book\\\\IML\\\\Results\\\\Chapter 04\\\\Chapter-004-Example-015-05.dot.png'"
      ]
     },
     "execution_count": 21,
     "metadata": {},
     "output_type": "execute_result"
    }
   ],
   "source": [
    "graph.render(filename=imagename)"
   ]
  },
  {
   "cell_type": "code",
   "execution_count": 22,
   "metadata": {},
   "outputs": [
    {
     "data": {
      "text/plain": [
       "'C:\\\\Users\\\\AndreVermeulen\\\\Documents\\\\My Book\\\\apress\\\\Industrialized Machine Learning\\\\book\\\\IML\\\\Results\\\\Chapter 04\\\\Chapter-004-Example-015-05.png'"
      ]
     },
     "execution_count": 22,
     "metadata": {},
     "output_type": "execute_result"
    }
   ],
   "source": [
    "imagename1 = os.path.join(*[os.path.dirname(os.path.dirname(os.getcwd())),'Results','Chapter 04','Chapter-004-Example-015-05.dot.png'])\n",
    "imagename2 = os.path.join(*[os.path.dirname(os.path.dirname(os.getcwd())),'Results','Chapter 04','Chapter-004-Example-015-05.png'])\n",
    "os.remove(imagename)\n",
    "shutil.move(imagename1,imagename2)"
   ]
  },
  {
   "cell_type": "code",
   "execution_count": 23,
   "metadata": {},
   "outputs": [],
   "source": [
    "gv.view(imagename2)"
   ]
  },
  {
   "cell_type": "code",
   "execution_count": 24,
   "metadata": {},
   "outputs": [
    {
     "name": "stdout",
     "output_type": "stream",
     "text": [
      "Done! 2019-04-08 16:07:31.854959\n"
     ]
    }
   ],
   "source": [
    "import datetime\n",
    "now = datetime.datetime.now()\n",
    "print('Done!',str(now))"
   ]
  },
  {
   "cell_type": "code",
   "execution_count": null,
   "metadata": {},
   "outputs": [],
   "source": []
  }
 ],
 "metadata": {
  "kernelspec": {
   "display_name": "Python 3",
   "language": "python",
   "name": "python3"
  },
  "language_info": {
   "codemirror_mode": {
    "name": "ipython",
    "version": 3
   },
   "file_extension": ".py",
   "mimetype": "text/x-python",
   "name": "python",
   "nbconvert_exporter": "python",
   "pygments_lexer": "ipython3",
   "version": "3.6.7"
  }
 },
 "nbformat": 4,
 "nbformat_minor": 2
}
