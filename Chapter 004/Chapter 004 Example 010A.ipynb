{
 "cells": [
  {
   "cell_type": "markdown",
   "metadata": {},
   "source": [
    "## Apress - Industrialized Machine Learning Examples\n",
    "\n",
    "Andreas Francois Vermeulen\n",
    "2019\n",
    "\n",
    "### This is an example add-on to a book and needs to be accepted as part of that copyright."
   ]
  },
  {
   "cell_type": "markdown",
   "metadata": {},
   "source": [
    "# Chapter 004 Example 010A"
   ]
  },
  {
   "cell_type": "markdown",
   "metadata": {},
   "source": [
    "## Part A - Load libraries"
   ]
  },
  {
   "cell_type": "code",
   "execution_count": 1,
   "metadata": {},
   "outputs": [],
   "source": [
    "from sklearn.discriminant_analysis import LinearDiscriminantAnalysis\n",
    "from sklearn.preprocessing import StandardScaler, RobustScaler, binarize, normalize, QuantileTransformer, MaxAbsScaler\n",
    "from sklearn.metrics import f1_score\n",
    "import pandas as pd\n",
    "import numpy as np\n",
    "import os\n",
    "import matplotlib.pyplot as plt\n",
    "%matplotlib inline"
   ]
  },
  {
   "cell_type": "markdown",
   "metadata": {},
   "source": [
    "## Part B - Load Data"
   ]
  },
  {
   "cell_type": "code",
   "execution_count": 2,
   "metadata": {},
   "outputs": [
    {
     "name": "stdout",
     "output_type": "stream",
     "text": [
      "[[-1. -1.]\n",
      " [-2. -1.]\n",
      " [-3. -2.]\n",
      " [ 1.  1.]\n",
      " [ 2.  1.]\n",
      " [ 3.  2.]]\n"
     ]
    }
   ],
   "source": [
    "X_raw = np.array([[-1, -1], [-2, -1], [-3, -2], [1, 1], [2, 1], [3, 2]], dtype='float64')\n",
    "y = np.array([1, 1, 1, 2, 2, 2], dtype='float64')\n",
    "\n",
    "print(X_raw)"
   ]
  },
  {
   "cell_type": "markdown",
   "metadata": {},
   "source": [
    "## Part C - Transform Data"
   ]
  },
  {
   "cell_type": "markdown",
   "metadata": {},
   "source": [
    "### Part C/0 - Transform Data"
   ]
  },
  {
   "cell_type": "code",
   "execution_count": 3,
   "metadata": {},
   "outputs": [
    {
     "name": "stdout",
     "output_type": "stream",
     "text": [
      "[[-1. -1.]\n",
      " [-2. -1.]\n",
      " [-3. -2.]\n",
      " [ 1.  1.]\n",
      " [ 2.  1.]\n",
      " [ 3.  2.]]\n"
     ]
    }
   ],
   "source": [
    "X0=X_raw\n",
    "print(X0)\n",
    "\n",
    "xdf=pd.DataFrame(X0)\n",
    "xdf.columns = (['X','Y'])\n",
    "ydf=pd.DataFrame(y)\n",
    "ydf.columns = (['T'])\n",
    "Z=pd.concat([xdf, ydf], axis=1)\n",
    "Z.to_csv('../../Data/Cluster03-00.csv',index=False)"
   ]
  },
  {
   "cell_type": "markdown",
   "metadata": {},
   "source": [
    "### Part C/1 - Transform Data - Standard Scaler"
   ]
  },
  {
   "cell_type": "code",
   "execution_count": 4,
   "metadata": {},
   "outputs": [
    {
     "name": "stdout",
     "output_type": "stream",
     "text": [
      "Raw Data:\n",
      "[[-1. -1.]\n",
      " [-2. -1.]\n",
      " [-3. -2.]\n",
      " [ 1.  1.]\n",
      " [ 2.  1.]\n",
      " [ 3.  2.]]\n",
      "Transform Data:\n",
      "[[-0.46291005 -0.70710678]\n",
      " [-0.9258201  -0.70710678]\n",
      " [-1.38873015 -1.41421356]\n",
      " [ 0.46291005  0.70710678]\n",
      " [ 0.9258201   0.70710678]\n",
      " [ 1.38873015  1.41421356]]\n"
     ]
    }
   ],
   "source": [
    "print('Raw Data:')\n",
    "print(X_raw)\n",
    "transformer = StandardScaler(copy=True, with_mean=True, with_std=True).fit(X_raw)\n",
    "X1a=transformer.transform(X_raw)\n",
    "print('Transform Data:')\n",
    "print(X1a)\n",
    "\n",
    "xdf=pd.DataFrame(X1a)\n",
    "xdf.columns = (['X','Y'])\n",
    "ydf=pd.DataFrame(y)\n",
    "ydf.columns = (['T'])\n",
    "Z=pd.concat([xdf, ydf], axis=1)\n",
    "Z.to_csv('../../Data/Cluster03-01a.csv',index=False)"
   ]
  },
  {
   "cell_type": "code",
   "execution_count": 5,
   "metadata": {},
   "outputs": [
    {
     "name": "stdout",
     "output_type": "stream",
     "text": [
      "Raw Data:\n",
      "[[-1. -1.]\n",
      " [-2. -1.]\n",
      " [-3. -2.]\n",
      " [ 1.  1.]\n",
      " [ 2.  1.]\n",
      " [ 3.  2.]]\n",
      "Transform Data:\n",
      "[[-0.46291005 -0.70710678]\n",
      " [-0.9258201  -0.70710678]\n",
      " [-1.38873015 -1.41421356]\n",
      " [ 0.46291005  0.70710678]\n",
      " [ 0.9258201   0.70710678]\n",
      " [ 1.38873015  1.41421356]]\n"
     ]
    }
   ],
   "source": [
    "print('Raw Data:')\n",
    "print(X_raw)\n",
    "transformer = StandardScaler(copy=True, with_mean=False, with_std=True).fit(X_raw)\n",
    "X1b=transformer.transform(X_raw)\n",
    "print('Transform Data:')\n",
    "print(X1b)\n",
    "\n",
    "xdf=pd.DataFrame(X1b)\n",
    "xdf.columns = (['X','Y'])\n",
    "ydf=pd.DataFrame(y)\n",
    "ydf.columns = (['T'])\n",
    "Z=pd.concat([xdf, ydf], axis=1)\n",
    "Z.to_csv('../../Data/Cluster03-01b.csv',index=False)"
   ]
  },
  {
   "cell_type": "code",
   "execution_count": 6,
   "metadata": {},
   "outputs": [
    {
     "name": "stdout",
     "output_type": "stream",
     "text": [
      "Raw Data:\n",
      "[[-1. -1.]\n",
      " [-2. -1.]\n",
      " [-3. -2.]\n",
      " [ 1.  1.]\n",
      " [ 2.  1.]\n",
      " [ 3.  2.]]\n",
      "Transform Data:\n",
      "[[-1. -1.]\n",
      " [-2. -1.]\n",
      " [-3. -2.]\n",
      " [ 1.  1.]\n",
      " [ 2.  1.]\n",
      " [ 3.  2.]]\n"
     ]
    }
   ],
   "source": [
    "print('Raw Data:')\n",
    "print(X_raw)\n",
    "transformer = StandardScaler(copy=True, with_mean=True, with_std=False).fit(X_raw)\n",
    "X1c=transformer.transform(X_raw)\n",
    "print('Transform Data:')\n",
    "print(X1c)\n",
    "\n",
    "xdf=pd.DataFrame(X1c)\n",
    "xdf.columns = (['X','Y'])\n",
    "ydf=pd.DataFrame(y)\n",
    "ydf.columns = (['T'])\n",
    "Z=pd.concat([xdf, ydf], axis=1)\n",
    "Z.to_csv('../../Data/Cluster03-01c.csv',index=False)"
   ]
  },
  {
   "cell_type": "markdown",
   "metadata": {},
   "source": [
    "### Part C/2 - Transform Data - Robust Scaler"
   ]
  },
  {
   "cell_type": "code",
   "execution_count": 7,
   "metadata": {},
   "outputs": [
    {
     "name": "stdout",
     "output_type": "stream",
     "text": [
      "Raw Data:\n",
      "[[-1. -1.]\n",
      " [-2. -1.]\n",
      " [-3. -2.]\n",
      " [ 1.  1.]\n",
      " [ 2.  1.]\n",
      " [ 3.  2.]]\n",
      "Transform Data:\n",
      "[[-0.28571429 -0.5       ]\n",
      " [-0.57142857 -0.5       ]\n",
      " [-0.85714286 -1.        ]\n",
      " [ 0.28571429  0.5       ]\n",
      " [ 0.57142857  0.5       ]\n",
      " [ 0.85714286  1.        ]]\n"
     ]
    }
   ],
   "source": [
    "print('Raw Data:')\n",
    "print(X_raw)\n",
    "transformer = RobustScaler(copy=True, with_centering=True, with_scaling=True, quantile_range=(25.0, 75.0)).fit(X_raw)\n",
    "X2a=transformer.transform(X_raw)\n",
    "print('Transform Data:')\n",
    "print(X2a)\n",
    "\n",
    "xdf=pd.DataFrame(X2a)\n",
    "xdf.columns = (['X','Y'])\n",
    "ydf=pd.DataFrame(y)\n",
    "ydf.columns = (['T'])\n",
    "Z=pd.concat([xdf, ydf], axis=1)\n",
    "Z.to_csv('../../Data/Cluster03-02a.csv',index=False)"
   ]
  },
  {
   "cell_type": "code",
   "execution_count": 8,
   "metadata": {},
   "outputs": [
    {
     "name": "stdout",
     "output_type": "stream",
     "text": [
      "Raw Data:\n",
      "[[-1. -1.]\n",
      " [-2. -1.]\n",
      " [-3. -2.]\n",
      " [ 1.  1.]\n",
      " [ 2.  1.]\n",
      " [ 3.  2.]]\n",
      "Transform Data:\n",
      "[[-1. -1.]\n",
      " [-2. -1.]\n",
      " [-3. -2.]\n",
      " [ 1.  1.]\n",
      " [ 2.  1.]\n",
      " [ 3.  2.]]\n"
     ]
    }
   ],
   "source": [
    "print('Raw Data:')\n",
    "print(X_raw)\n",
    "transformer = RobustScaler(copy=True, with_centering=True, with_scaling=False, quantile_range=(25.0, 75.0)).fit(X_raw)\n",
    "X2b=transformer.transform(X_raw)\n",
    "print('Transform Data:')\n",
    "print(X2b)\n",
    "\n",
    "xdf=pd.DataFrame(X2b)\n",
    "xdf.columns = (['X','Y'])\n",
    "ydf=pd.DataFrame(y)\n",
    "ydf.columns = (['T'])\n",
    "Z=pd.concat([xdf, ydf], axis=1)\n",
    "Z.to_csv('../../Data/Cluster03-02b.csv',index=False)"
   ]
  },
  {
   "cell_type": "code",
   "execution_count": 9,
   "metadata": {},
   "outputs": [
    {
     "name": "stdout",
     "output_type": "stream",
     "text": [
      "Raw Data:\n",
      "[[-1. -1.]\n",
      " [-2. -1.]\n",
      " [-3. -2.]\n",
      " [ 1.  1.]\n",
      " [ 2.  1.]\n",
      " [ 3.  2.]]\n",
      "Transform Data:\n",
      "[[-0.28571429 -0.5       ]\n",
      " [-0.57142857 -0.5       ]\n",
      " [-0.85714286 -1.        ]\n",
      " [ 0.28571429  0.5       ]\n",
      " [ 0.57142857  0.5       ]\n",
      " [ 0.85714286  1.        ]]\n"
     ]
    }
   ],
   "source": [
    "print('Raw Data:')\n",
    "print(X_raw)\n",
    "transformer = RobustScaler(copy=True, with_centering=False, with_scaling=True, quantile_range=(25.0, 75.0)).fit(X_raw)\n",
    "X2c=transformer.transform(X_raw)\n",
    "print('Transform Data:')\n",
    "print(X2c)\n",
    "\n",
    "xdf=pd.DataFrame(X2c)\n",
    "xdf.columns = (['X','Y'])\n",
    "ydf=pd.DataFrame(y)\n",
    "ydf.columns = (['T'])\n",
    "Z=pd.concat([xdf, ydf], axis=1)\n",
    "Z.to_csv('../../Data/Cluster03-02c.csv',index=False)"
   ]
  },
  {
   "cell_type": "markdown",
   "metadata": {},
   "source": [
    "### Part C/3 - Transform Data - Binarize"
   ]
  },
  {
   "cell_type": "code",
   "execution_count": 10,
   "metadata": {},
   "outputs": [
    {
     "name": "stdout",
     "output_type": "stream",
     "text": [
      "Raw Data:\n",
      "[[-1. -1.]\n",
      " [-2. -1.]\n",
      " [-3. -2.]\n",
      " [ 1.  1.]\n",
      " [ 2.  1.]\n",
      " [ 3.  2.]]\n",
      "Transform Data:\n",
      "[[0. 0.]\n",
      " [0. 0.]\n",
      " [0. 0.]\n",
      " [0. 0.]\n",
      " [1. 0.]\n",
      " [1. 1.]]\n"
     ]
    }
   ],
   "source": [
    "print('Raw Data:')\n",
    "print(X_raw)\n",
    "X3a=binarize(X_raw, copy=True,  threshold=1.75)\n",
    "print('Transform Data:')\n",
    "print(X3a)\n",
    "\n",
    "xdf=pd.DataFrame(X3a)\n",
    "xdf.columns = (['X','Y'])\n",
    "ydf=pd.DataFrame(y)\n",
    "ydf.columns = (['T'])\n",
    "Z=pd.concat([xdf, ydf], axis=1)\n",
    "Z.to_csv('../../Data/Cluster03-03a.csv',index=False)"
   ]
  },
  {
   "cell_type": "code",
   "execution_count": 11,
   "metadata": {},
   "outputs": [
    {
     "name": "stdout",
     "output_type": "stream",
     "text": [
      "Raw Data:\n",
      "[[-1. -1.]\n",
      " [-2. -1.]\n",
      " [-3. -2.]\n",
      " [ 1.  1.]\n",
      " [ 2.  1.]\n",
      " [ 3.  2.]]\n",
      "Transform Data:\n",
      "[[0. 0.]\n",
      " [0. 0.]\n",
      " [0. 0.]\n",
      " [0. 0.]\n",
      " [1. 0.]\n",
      " [1. 1.]]\n"
     ]
    }
   ],
   "source": [
    "print('Raw Data:')\n",
    "print(X_raw)\n",
    "X3b=binarize(X_raw, copy=True,  threshold=1.0)\n",
    "print('Transform Data:')\n",
    "print(X3b)\n",
    "\n",
    "xdf=pd.DataFrame(X3b)\n",
    "xdf.columns = (['X','Y'])\n",
    "ydf=pd.DataFrame(y)\n",
    "ydf.columns = (['T'])\n",
    "Z=pd.concat([xdf, ydf], axis=1)\n",
    "Z.to_csv('../../Data/Cluster03-03b.csv',index=False)"
   ]
  },
  {
   "cell_type": "markdown",
   "metadata": {},
   "source": [
    "### Part C/4 - Transform Data - Normalize"
   ]
  },
  {
   "cell_type": "code",
   "execution_count": 12,
   "metadata": {},
   "outputs": [
    {
     "name": "stdout",
     "output_type": "stream",
     "text": [
      "Raw Data:\n",
      "[[-1. -1.]\n",
      " [-2. -1.]\n",
      " [-3. -2.]\n",
      " [ 1.  1.]\n",
      " [ 2.  1.]\n",
      " [ 3.  2.]]\n",
      "Transform Data:\n",
      "[[-0.5        -0.5       ]\n",
      " [-0.66666667 -0.33333333]\n",
      " [-0.6        -0.4       ]\n",
      " [ 0.5         0.5       ]\n",
      " [ 0.66666667  0.33333333]\n",
      " [ 0.6         0.4       ]]\n"
     ]
    }
   ],
   "source": [
    "print('Raw Data:')\n",
    "print(X_raw)\n",
    "X4a=normalize(X_raw, copy=True, norm='l1', axis=1, return_norm=False)\n",
    "print('Transform Data:')\n",
    "print(X4a)\n",
    "\n",
    "xdf=pd.DataFrame(X4a)\n",
    "xdf.columns = (['X','Y'])\n",
    "ydf=pd.DataFrame(y)\n",
    "ydf.columns = (['T'])\n",
    "Z=pd.concat([xdf, ydf], axis=1)\n",
    "Z.to_csv('../../Data/Cluster03-04a.csv',index=False)"
   ]
  },
  {
   "cell_type": "code",
   "execution_count": 13,
   "metadata": {},
   "outputs": [
    {
     "name": "stdout",
     "output_type": "stream",
     "text": [
      "Raw Data:\n",
      "[[-1. -1.]\n",
      " [-2. -1.]\n",
      " [-3. -2.]\n",
      " [ 1.  1.]\n",
      " [ 2.  1.]\n",
      " [ 3.  2.]]\n",
      "Transform Data:\n",
      "[[-0.70710678 -0.70710678]\n",
      " [-0.89442719 -0.4472136 ]\n",
      " [-0.83205029 -0.5547002 ]\n",
      " [ 0.70710678  0.70710678]\n",
      " [ 0.89442719  0.4472136 ]\n",
      " [ 0.83205029  0.5547002 ]]\n"
     ]
    }
   ],
   "source": [
    "print('Raw Data:')\n",
    "print(X_raw)\n",
    "X4b=normalize(X_raw, copy=True, norm='l2', axis=1, return_norm=False)\n",
    "print('Transform Data:')\n",
    "print(X4b)\n",
    "\n",
    "xdf=pd.DataFrame(X4b)\n",
    "xdf.columns = (['X','Y'])\n",
    "ydf=pd.DataFrame(y)\n",
    "ydf.columns = (['T'])\n",
    "Z=pd.concat([xdf, ydf], axis=1)\n",
    "Z.to_csv('../../Data/Cluster03-04b.csv',index=False)"
   ]
  },
  {
   "cell_type": "markdown",
   "metadata": {},
   "source": [
    "### Part C/5 - Transform Data - QuantileTransformer"
   ]
  },
  {
   "cell_type": "code",
   "execution_count": 14,
   "metadata": {},
   "outputs": [
    {
     "name": "stdout",
     "output_type": "stream",
     "text": [
      "Raw Data:\n",
      "[[-1. -1.]\n",
      " [-2. -1.]\n",
      " [-3. -2.]\n",
      " [ 1.  1.]\n",
      " [ 2.  1.]\n",
      " [ 3.  2.]]\n",
      "Transform Data:\n",
      "[[-0.31863936 -0.4307273 ]\n",
      " [-0.84162123 -0.4307273 ]\n",
      " [-5.19933758 -5.19933758]\n",
      " [ 0.31863936  0.4307273 ]\n",
      " [ 0.84162123  0.4307273 ]\n",
      " [ 5.19933758  5.19933758]]\n"
     ]
    }
   ],
   "source": [
    "print('Raw Data:')\n",
    "print(X_raw)\n",
    "transformer = QuantileTransformer(output_distribution='normal',n_quantiles=4, random_state=0).fit(X_raw)\n",
    "X5=transformer.transform(X_raw)\n",
    "print('Transform Data:')\n",
    "print(X5)\n",
    "\n",
    "xdf=pd.DataFrame(X5)\n",
    "xdf.columns = (['X','Y'])\n",
    "ydf=pd.DataFrame(y)\n",
    "ydf.columns = (['T'])\n",
    "Z=pd.concat([xdf, ydf], axis=1)\n",
    "Z.to_csv('../../Data/Cluster03-05.csv',index=False)"
   ]
  },
  {
   "cell_type": "markdown",
   "metadata": {},
   "source": [
    "### Part C/6 - Transform Data  - QuantileTransformer"
   ]
  },
  {
   "cell_type": "code",
   "execution_count": 15,
   "metadata": {},
   "outputs": [
    {
     "name": "stdout",
     "output_type": "stream",
     "text": [
      "Raw Data:\n",
      "[[-1. -1.]\n",
      " [-2. -1.]\n",
      " [-3. -2.]\n",
      " [ 1.  1.]\n",
      " [ 2.  1.]\n",
      " [ 3.  2.]]\n",
      "Transform Data:\n",
      "[[-0.30298045 -0.56594882]\n",
      " [-0.84162123 -0.56594882]\n",
      " [-5.19933758 -5.19933758]\n",
      " [ 0.30298045  0.56594882]\n",
      " [ 0.84162123  0.56594882]\n",
      " [ 5.19933758  5.19933758]]\n"
     ]
    }
   ],
   "source": [
    "print('Raw Data:')\n",
    "print(X_raw)\n",
    "transformer = QuantileTransformer(output_distribution='normal',n_quantiles=8, random_state=0).fit(X_raw)\n",
    "X6=transformer.transform(X_raw)\n",
    "print('Transform Data:')\n",
    "print(X6)\n",
    "\n",
    "xdf=pd.DataFrame(X6)\n",
    "xdf.columns = (['X','Y'])\n",
    "ydf=pd.DataFrame(y)\n",
    "ydf.columns = (['T'])\n",
    "Z=pd.concat([xdf, ydf], axis=1)\n",
    "Z.to_csv('../../Data/Cluster03-06.csv',index=False)"
   ]
  },
  {
   "cell_type": "markdown",
   "metadata": {},
   "source": [
    "### Part C/7 - Transform Data - QuantileTransformer"
   ]
  },
  {
   "cell_type": "code",
   "execution_count": 16,
   "metadata": {},
   "outputs": [
    {
     "name": "stdout",
     "output_type": "stream",
     "text": [
      "Raw Data:\n",
      "[[-1. -1.]\n",
      " [-2. -1.]\n",
      " [-3. -2.]\n",
      " [ 1.  1.]\n",
      " [ 2.  1.]\n",
      " [ 3.  2.]]\n",
      "Transform Data:\n",
      "[[3.75000000e-01 3.33333333e-01]\n",
      " [2.00000000e-01 3.33333333e-01]\n",
      " [9.99999998e-08 9.99999998e-08]\n",
      " [6.25000000e-01 6.66666667e-01]\n",
      " [8.00000000e-01 6.66666667e-01]\n",
      " [9.99999900e-01 9.99999900e-01]]\n"
     ]
    }
   ],
   "source": [
    "transformer = QuantileTransformer(output_distribution='uniform',n_quantiles=4, random_state=0).fit(X_raw)\n",
    "print('Raw Data:')\n",
    "print(X_raw)\n",
    "X7=transformer.transform(X_raw)\n",
    "print('Transform Data:')\n",
    "print(X7)\n",
    "\n",
    "xdf=pd.DataFrame(X7)\n",
    "xdf.columns = (['X','Y'])\n",
    "ydf=pd.DataFrame(y)\n",
    "ydf.columns = (['T'])\n",
    "Z=pd.concat([xdf, ydf], axis=1)\n",
    "Z.to_csv('../../Data/Cluster03-07.csv',index=False)"
   ]
  },
  {
   "cell_type": "markdown",
   "metadata": {},
   "source": [
    "### Part C/8 - Transform Data - QuantileTransformer"
   ]
  },
  {
   "cell_type": "code",
   "execution_count": 17,
   "metadata": {},
   "outputs": [
    {
     "name": "stdout",
     "output_type": "stream",
     "text": [
      "Raw Data:\n",
      "[[-1. -1.]\n",
      " [-2. -1.]\n",
      " [-3. -2.]\n",
      " [ 1.  1.]\n",
      " [ 2.  1.]\n",
      " [ 3.  2.]]\n",
      "Transform Data:\n",
      "[[3.80952381e-01 2.85714286e-01]\n",
      " [2.00000000e-01 2.85714286e-01]\n",
      " [9.99999998e-08 9.99999998e-08]\n",
      " [6.19047619e-01 7.14285714e-01]\n",
      " [8.00000000e-01 7.14285714e-01]\n",
      " [9.99999900e-01 9.99999900e-01]]\n"
     ]
    }
   ],
   "source": [
    "transformer = QuantileTransformer(output_distribution='uniform',n_quantiles=8, random_state=0).fit(X_raw)\n",
    "print('Raw Data:')\n",
    "print(X_raw)\n",
    "X8=transformer.transform(X_raw)\n",
    "print('Transform Data:')\n",
    "print(X8)\n",
    "\n",
    "xdf=pd.DataFrame(X8)\n",
    "xdf.columns = (['X','Y'])\n",
    "ydf=pd.DataFrame(y)\n",
    "ydf.columns = (['T'])\n",
    "Z=pd.concat([xdf, ydf], axis=1)\n",
    "Z.to_csv('../../Data/Cluster03-08.csv',index=False)"
   ]
  },
  {
   "cell_type": "markdown",
   "metadata": {},
   "source": [
    "## Part D - Select Scaler\n",
    "### Pick one of the transformers you already calculated"
   ]
  },
  {
   "cell_type": "code",
   "execution_count": 18,
   "metadata": {},
   "outputs": [
    {
     "name": "stdout",
     "output_type": "stream",
     "text": [
      "[[-1. -1.]\n",
      " [-2. -1.]\n",
      " [-3. -2.]\n",
      " [ 1.  1.]\n",
      " [ 2.  1.]\n",
      " [ 3.  2.]]\n"
     ]
    }
   ],
   "source": [
    "X=X0\n",
    "print(X)"
   ]
  },
  {
   "cell_type": "markdown",
   "metadata": {},
   "source": [
    "## Part E - Run Model"
   ]
  },
  {
   "cell_type": "code",
   "execution_count": 19,
   "metadata": {},
   "outputs": [],
   "source": [
    "clf = LinearDiscriminantAnalysis(solver='eigen', shrinkage='auto')"
   ]
  },
  {
   "cell_type": "code",
   "execution_count": 20,
   "metadata": {},
   "outputs": [
    {
     "data": {
      "text/plain": [
       "{'n_components': None,\n",
       " 'priors': None,\n",
       " 'shrinkage': 'auto',\n",
       " 'solver': 'eigen',\n",
       " 'store_covariance': False,\n",
       " 'tol': 0.0001}"
      ]
     },
     "execution_count": 20,
     "metadata": {},
     "output_type": "execute_result"
    }
   ],
   "source": [
    "clf.get_params(deep=True)"
   ]
  },
  {
   "cell_type": "code",
   "execution_count": 21,
   "metadata": {},
   "outputs": [],
   "source": [
    "MLName = 'Linear Discriminant Analysis'"
   ]
  },
  {
   "cell_type": "code",
   "execution_count": 22,
   "metadata": {},
   "outputs": [
    {
     "data": {
      "text/plain": [
       "LinearDiscriminantAnalysis(n_components=None, priors=None, shrinkage='auto',\n",
       "              solver='eigen', store_covariance=False, tol=0.0001)"
      ]
     },
     "execution_count": 22,
     "metadata": {},
     "output_type": "execute_result"
    }
   ],
   "source": [
    "clf.fit(X, y)"
   ]
  },
  {
   "cell_type": "code",
   "execution_count": 23,
   "metadata": {},
   "outputs": [],
   "source": [
    "def make_meshgrid(x, y, h=1):\n",
    "    x_min, x_max = int(x.min()) - 2, int(x.max()) + 2\n",
    "    y_min, y_max = int(y.min()) - 2, int(y.max()) + 2\n",
    "    xx, yy = np.meshgrid(np.arange(x_min, x_max, h),\n",
    "                         np.arange(y_min, y_max, h))\n",
    "    return xx, yy"
   ]
  },
  {
   "cell_type": "code",
   "execution_count": 24,
   "metadata": {},
   "outputs": [],
   "source": [
    "def plot_contours(ax, clf, xx, yy, **params):\n",
    "    Z = clf.predict(np.c_[xx.ravel(), yy.ravel()])\n",
    "    Z = Z.reshape(xx.shape)\n",
    "    out = ax.contourf(xx, yy, Z, **params)\n",
    "    return out"
   ]
  },
  {
   "cell_type": "code",
   "execution_count": 25,
   "metadata": {},
   "outputs": [
    {
     "name": "stdout",
     "output_type": "stream",
     "text": [
      "Decision function [ -4.7348226   -5.97319317 -10.70801577   4.7348226    5.97319317\n",
      "  10.70801577]\n"
     ]
    }
   ],
   "source": [
    "print('Decision function', clf.decision_function(X))"
   ]
  },
  {
   "cell_type": "code",
   "execution_count": 26,
   "metadata": {},
   "outputs": [
    {
     "name": "stdout",
     "output_type": "stream",
     "text": [
      "Predict Log Probability: [[-8.74565201e-03 -4.74356825e+00]\n",
      " [-2.54286249e-03 -5.97573603e+00]\n",
      " [-2.23646952e-05 -1.07080381e+01]\n",
      " [-4.74356825e+00 -8.74565201e-03]\n",
      " [-5.97573603e+00 -2.54286249e-03]\n",
      " [-1.07080381e+01 -2.23646952e-05]]\n"
     ]
    }
   ],
   "source": [
    "print('Predict Log Probability:', clf.predict_log_proba(X))"
   ]
  },
  {
   "cell_type": "code",
   "execution_count": 27,
   "metadata": {},
   "outputs": [
    {
     "name": "stdout",
     "output_type": "stream",
     "text": [
      "Predict Probability: [[9.91292480e-01 8.70752004e-03]\n",
      " [9.97460368e-01 2.53963215e-03]\n",
      " [9.99977636e-01 2.23644451e-05]\n",
      " [8.70752004e-03 9.91292480e-01]\n",
      " [2.53963215e-03 9.97460368e-01]\n",
      " [2.23644451e-05 9.99977636e-01]]\n"
     ]
    }
   ],
   "source": [
    "print('Predict Probability:',clf.predict_proba(X))"
   ]
  },
  {
   "cell_type": "code",
   "execution_count": 28,
   "metadata": {},
   "outputs": [
    {
     "name": "stdout",
     "output_type": "stream",
     "text": [
      "Fit Transform: [[ 1.26106094]\n",
      " [ 1.57154246]\n",
      " [ 2.8326034 ]\n",
      " [-1.26106094]\n",
      " [-1.57154246]\n",
      " [-2.8326034 ]]\n"
     ]
    }
   ],
   "source": [
    "print('Fit Transform:',clf.fit_transform(X, y))"
   ]
  },
  {
   "cell_type": "code",
   "execution_count": 29,
   "metadata": {},
   "outputs": [
    {
     "name": "stdout",
     "output_type": "stream",
     "text": [
      "Score: 1.0\n"
     ]
    }
   ],
   "source": [
    "print('Score:',clf.score(X, y))"
   ]
  },
  {
   "cell_type": "markdown",
   "metadata": {},
   "source": [
    "## Part F - Plot Graph of Results"
   ]
  },
  {
   "cell_type": "code",
   "execution_count": 30,
   "metadata": {},
   "outputs": [
    {
     "data": {
      "image/png": "[encoded data removed]",
      "text/plain": [
       "<Figure size 864x648 with 1 Axes>"
      ]
     },
     "metadata": {
      "needs_background": "light"
     },
     "output_type": "display_data"
    }
   ],
   "source": [
    "fig = plt.figure(1, figsize=(12, 9))\n",
    "ax = fig.subplots(1, 1)\n",
    "plt.title(MLName)\n",
    "X0, X1 = X[:, 0], X[:, 1]\n",
    "xx, yy = make_meshgrid(X0, X1)\n",
    "plot_contours(ax, clf, xx, yy, cmap=plt.cm.coolwarm, alpha=0.8)\n",
    "ax.scatter(X0, X1, c=y, cmap=plt.cm.coolwarm, s=150, edgecolors='k', marker='^')\n",
    "plt.show()"
   ]
  },
  {
   "cell_type": "code",
   "execution_count": 31,
   "metadata": {},
   "outputs": [],
   "source": [
    "p=[]\n",
    "t=[]\n",
    "for i in range(X.shape[0]):\n",
    "    x=int(clf.predict(np.c_[X[i][0],X[i][1]]))\n",
    "    p.append(x)\n",
    "    t.append(y[i])"
   ]
  },
  {
   "cell_type": "code",
   "execution_count": 32,
   "metadata": {},
   "outputs": [],
   "source": [
    "f1score1=f1_score(t, p, average='micro')\n",
    "f1score2=f1_score(t, p, average='macro')"
   ]
  },
  {
   "cell_type": "code",
   "execution_count": 33,
   "metadata": {},
   "outputs": [
    {
     "name": "stdout",
     "output_type": "stream",
     "text": [
      "F1 Score (micro): 1.0000\n",
      "F1 Score (macro): 1.0000\n"
     ]
    }
   ],
   "source": [
    "print('F1 Score (micro): %0.4f' % (f1score1))\n",
    "print('F1 Score (macro): %0.4f' % (f1score2))"
   ]
  },
  {
   "cell_type": "code",
   "execution_count": 34,
   "metadata": {},
   "outputs": [
    {
     "name": "stdout",
     "output_type": "stream",
     "text": [
      "C:\\Users\\AndreVermeulen\\Documents\\My Book\\apress\\Industrialized Machine Learning\\book\\IML\\Results\\Chapter 04\n"
     ]
    }
   ],
   "source": [
    "imagepath = os.path.join(*[os.path.dirname(os.path.dirname(os.getcwd())),'Results','Chapter 04'])\n",
    "print(imagepath)"
   ]
  },
  {
   "cell_type": "code",
   "execution_count": 35,
   "metadata": {},
   "outputs": [],
   "source": [
    "if not os.path.exists(imagepath):\n",
    "    os.makedirs(imagepath)"
   ]
  },
  {
   "cell_type": "code",
   "execution_count": 36,
   "metadata": {},
   "outputs": [],
   "source": [
    "imagename = os.path.join(*[os.path.dirname(os.path.dirname(os.getcwd())),'Results','Chapter 04','Chapter-004-Example-010A-01.jpg'])\n",
    "fig.savefig(imagename, bbox_inches='tight')"
   ]
  },
  {
   "cell_type": "code",
   "execution_count": 37,
   "metadata": {},
   "outputs": [
    {
     "name": "stdout",
     "output_type": "stream",
     "text": [
      "Done! 2019-04-08 12:07:43.382497\n"
     ]
    }
   ],
   "source": [
    "import datetime\n",
    "now = datetime.datetime.now()\n",
    "print('Done!',str(now))"
   ]
  },
  {
   "cell_type": "code",
   "execution_count": null,
   "metadata": {},
   "outputs": [],
   "source": []
  }
 ],
 "metadata": {
  "kernelspec": {
   "display_name": "Python 3",
   "language": "python",
   "name": "python3"
  },
  "language_info": {
   "codemirror_mode": {
    "name": "ipython",
    "version": 3
   },
   "file_extension": ".py",
   "mimetype": "text/x-python",
   "name": "python",
   "nbconvert_exporter": "python",
   "pygments_lexer": "ipython3",
   "version": "3.6.7"
  }
 },
 "nbformat": 4,
 "nbformat_minor": 2
}
