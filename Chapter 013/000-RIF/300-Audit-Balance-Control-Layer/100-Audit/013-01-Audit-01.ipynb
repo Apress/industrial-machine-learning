{
 "cells": [
  {
   "cell_type": "markdown",
   "metadata": {},
   "source": [
    "# 08-01-Audit-01"
   ]
  },
  {
   "cell_type": "code",
   "execution_count": 1,
   "metadata": {},
   "outputs": [],
   "source": [
    "import logging\n",
    "import os\n",
    "import time\n",
    "import datetime"
   ]
  },
  {
   "cell_type": "code",
   "execution_count": 2,
   "metadata": {},
   "outputs": [],
   "source": [
    "logging.basicConfig(level=logging.DEBUG)"
   ]
  },
  {
   "cell_type": "code",
   "execution_count": 3,
   "metadata": {},
   "outputs": [
    {
     "name": "stdout",
     "output_type": "stream",
     "text": [
      "2019-01-13 03:27:36.254345\n",
      "2019-01-13-03-27.log\n"
     ]
    }
   ],
   "source": [
    "logDateTime = datetime.datetime.now()\n",
    "print(logDateTime)\n",
    "logFilePath = logDateTime.strftime('%Y/%m/')\n",
    "logFileName = logDateTime.strftime('%Y-%m-%d-%H-%M') + '.log'\n",
    "print(logFileName)"
   ]
  },
  {
   "cell_type": "code",
   "execution_count": 4,
   "metadata": {},
   "outputs": [
    {
     "name": "stdout",
     "output_type": "stream",
     "text": [
      "C:/Users/andre.vermeulen/Documents/My Book/Code/Chapter 08/000-RIF/300-Audit-Balance-Control-Layer/100-Audit/0100-Logs/\n"
     ]
    }
   ],
   "source": [
    "pathLog=os.getcwd() + '/0100-Logs/'\n",
    "pathFixedLog=pathLog.replace('\\\\','/')\n",
    "print(pathFixedLog)"
   ]
  },
  {
   "cell_type": "code",
   "execution_count": 5,
   "metadata": {},
   "outputs": [
    {
     "name": "stdout",
     "output_type": "stream",
     "text": [
      "C:/Users/andre.vermeulen/Documents/My Book/Code/Chapter 08/000-RIF/300-Audit-Balance-Control-Layer/100-Audit/0100-Logs/2019/01/2019-01-13-03-27.log\n"
     ]
    }
   ],
   "source": [
    "dirname = os.path.join(pathFixedLog, logFilePath)\n",
    "if not os.path.exists(dirname):\n",
    "    os.makedirs(dirname)\n",
    "    \n",
    "logfile= os.path.join(dirname, logFileName)\n",
    "print(logfile)\n",
    "logger=logging.basicConfig(filename=logfile, filemode='w', format='%(name)s - %(levelname)s - %(message)s')"
   ]
  },
  {
   "cell_type": "code",
   "execution_count": 6,
   "metadata": {},
   "outputs": [
    {
     "name": "stderr",
     "output_type": "stream",
     "text": [
      "DEBUG:root:This is a debug message\n"
     ]
    }
   ],
   "source": [
    "rootLogger = logging.getLogger('')\n",
    "rootLogger.debug('This is a debug message')"
   ]
  },
  {
   "cell_type": "code",
   "execution_count": 7,
   "metadata": {},
   "outputs": [
    {
     "name": "stderr",
     "output_type": "stream",
     "text": [
      "DEBUG:root:This is a debug message\n",
      "INFO:root:This is an info message\n",
      "WARNING:root:This is a warning message\n",
      "ERROR:root:This is an error message\n",
      "CRITICAL:root:This is a critical message\n"
     ]
    }
   ],
   "source": [
    "logging.debug('This is a debug message')\n",
    "logging.info('This is an info message')\n",
    "logging.warning('This is a warning message')\n",
    "logging.error('This is an error message')\n",
    "logging.critical('This is a critical message')"
   ]
  },
  {
   "cell_type": "code",
   "execution_count": null,
   "metadata": {},
   "outputs": [],
   "source": []
  }
 ],
 "metadata": {
  "kernelspec": {
   "display_name": "Python 3",
   "language": "python",
   "name": "python3"
  },
  "language_info": {
   "codemirror_mode": {
    "name": "ipython",
    "version": 3
   },
   "file_extension": ".py",
   "mimetype": "text/x-python",
   "name": "python",
   "nbconvert_exporter": "python",
   "pygments_lexer": "ipython3",
   "version": "3.7.1"
  }
 },
 "nbformat": 4,
 "nbformat_minor": 2
}
