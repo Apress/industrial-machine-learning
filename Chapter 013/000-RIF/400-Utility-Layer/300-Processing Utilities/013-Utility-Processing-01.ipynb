{
 "cells": [
  {
   "cell_type": "markdown",
   "metadata": {},
   "source": [
    "# 08-Utility-Processing-01"
   ]
  },
  {
   "cell_type": "code",
   "execution_count": null,
   "metadata": {},
   "outputs": [],
   "source": [
    "python -m cProfile -o out.profile domath.py\n",
    "easy_install SquareMap RunSnakeRun\n",
    "runsnake out.profile"
   ]
  },
  {
   "cell_type": "code",
   "execution_count": 1,
   "metadata": {},
   "outputs": [
    {
     "name": "stdout",
     "output_type": "stream",
     "text": [
      "Collecting pycallgraph\n",
      "  Downloading https://files.pythonhosted.org/packages/ca/2e/fafa56316bc2c5fbfbda898f964137c8b5ef33a876cb1f35a54ff6afbd60/pycallgraph-1.0.1.tar.gz\n",
      "Building wheels for collected packages: pycallgraph\n",
      "  Running setup.py bdist_wheel for pycallgraph: started\n",
      "  Running setup.py bdist_wheel for pycallgraph: finished with status 'done'\n",
      "  Stored in directory: C:\\Users\\andre.vermeulen\\AppData\\Local\\pip\\Cache\\wheels\\8c\\4b\\98\\80b30394d77899669da7b8502cbc890d0f35e469022a66eeb3\n",
      "Successfully built pycallgraph\n",
      "Installing collected packages: pycallgraph\n",
      "Successfully installed pycallgraph-1.0.1\n"
     ]
    }
   ],
   "source": [
    "!pip install pycallgraph"
   ]
  },
  {
   "cell_type": "code",
   "execution_count": null,
   "metadata": {},
   "outputs": [],
   "source": [
    "!pycallgraph graphviz -- ./domath.py"
   ]
  },
  {
   "cell_type": "code",
   "execution_count": 2,
   "metadata": {},
   "outputs": [
    {
     "name": "stdout",
     "output_type": "stream",
     "text": [
      "Collecting vprof\n",
      "  Downloading https://files.pythonhosted.org/packages/b4/00/15b824b1a43c3d43befe61e3012cb1e615299f19d01ccb02d42cf907232e/vprof-0.37.6-py3-none-any.whl (318kB)\n",
      "Requirement already satisfied: six>=1.10.0 in c:\\users\\andre.vermeulen\\appdata\\local\\continuum\\anaconda3\\lib\\site-packages (from vprof) (1.12.0)\n",
      "Requirement already satisfied: psutil>=3 in c:\\users\\andre.vermeulen\\appdata\\local\\continuum\\anaconda3\\lib\\site-packages (from vprof) (5.4.8)\n",
      "Installing collected packages: vprof\n",
      "Successfully installed vprof-0.37.6\n"
     ]
    }
   ],
   "source": [
    "!pip install vprof"
   ]
  },
  {
   "cell_type": "code",
   "execution_count": null,
   "metadata": {},
   "outputs": [],
   "source": [
    "!vprof -s domath.py -c m\n",
    "!vprof -s domath.py -c h"
   ]
  }
 ],
 "metadata": {
  "kernelspec": {
   "display_name": "Python 3",
   "language": "python",
   "name": "python3"
  },
  "language_info": {
   "codemirror_mode": {
    "name": "ipython",
    "version": 3
   },
   "file_extension": ".py",
   "mimetype": "text/x-python",
   "name": "python",
   "nbconvert_exporter": "python",
   "pygments_lexer": "ipython3",
   "version": "3.7.1"
  }
 },
 "nbformat": 4,
 "nbformat_minor": 2
}
