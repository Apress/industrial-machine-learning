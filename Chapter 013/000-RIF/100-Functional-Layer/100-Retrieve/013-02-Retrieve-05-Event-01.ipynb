{
 "cells": [
  {
   "cell_type": "markdown",
   "metadata": {},
   "source": [
    "# 08-02-Retrieve-Event-01"
   ]
  },
  {
   "cell_type": "code",
   "execution_count": 1,
   "metadata": {},
   "outputs": [],
   "source": [
    "import datetime\n",
    "nowStart = datetime.datetime.now()"
   ]
  },
  {
   "cell_type": "markdown",
   "metadata": {},
   "source": [
    "![RIF Functional Layer - Retrieve Step](../../../../../images/DV-Event.JPG)"
   ]
  },
  {
   "cell_type": "markdown",
   "metadata": {},
   "source": [
    "![RIF Functional Layer - Retrieve Step](../../../../../images/RIF-FL-RET.JPG)"
   ]
  },
  {
   "cell_type": "code",
   "execution_count": 2,
   "metadata": {},
   "outputs": [
    {
     "name": "stdout",
     "output_type": "stream",
     "text": [
      "08-02-Retrieve-Event.csv.gz\n"
     ]
    }
   ],
   "source": [
    "dirname = '../../../../Chapter 08/990-DL/100-Raw-Zone/'\n",
    "filename='08-02-Retrieve-Event.csv'\n",
    "fileZipname=filename + '.gz'\n",
    "print(fileZipname)"
   ]
  },
  {
   "cell_type": "code",
   "execution_count": 3,
   "metadata": {},
   "outputs": [],
   "source": [
    "import pandas as pd\n",
    "import os"
   ]
  },
  {
   "cell_type": "markdown",
   "metadata": {},
   "source": [
    "# Load Events"
   ]
  },
  {
   "cell_type": "code",
   "execution_count": 4,
   "metadata": {},
   "outputs": [
    {
     "name": "stdout",
     "output_type": "stream",
     "text": [
      "C:\\Users\\AndreVermeulen\\Documents\\My Book\\apress\\Industrialized Machine Learning\\book\\IML\\Data\\Chapter 08\\000-ExternalData\\05-Event\\\n"
     ]
    }
   ],
   "source": [
    "dirDataName = '../../../../../Data/Chapter 08/000-ExternalData/05-Event/'\n",
    "pathRealDataName=os.path.realpath(dirDataName)\n",
    "print(pathRealDataName)"
   ]
  },
  {
   "cell_type": "code",
   "execution_count": 5,
   "metadata": {},
   "outputs": [
    {
     "name": "stdout",
     "output_type": "stream",
     "text": [
      "C:\\Users\\AndreVermeulen\\Documents\\My Book\\apress\\Industrialized Machine Learning\\book\\IML\\Data\\Chapter 08\\000-ExternalData\\05-Event\\Event.csv.gz\n"
     ]
    }
   ],
   "source": [
    "fileDataName='Event.csv.gz'\n",
    "fileFullDataName= os.path.join(pathRealDataName, fileDataName)\n",
    "print(fileFullDataName)"
   ]
  },
  {
   "cell_type": "code",
   "execution_count": 6,
   "metadata": {},
   "outputs": [
    {
     "name": "stdout",
     "output_type": "stream",
     "text": [
      "(750000, 9)\n"
     ]
    }
   ],
   "source": [
    "objectFullDF= pd.read_csv(fileFullDataName, encoding='utf-8', compression='gzip')\n",
    "print(objectFullDF.shape)"
   ]
  },
  {
   "cell_type": "markdown",
   "metadata": {},
   "source": [
    "# Create 100-Raw-Zone"
   ]
  },
  {
   "cell_type": "markdown",
   "metadata": {},
   "source": [
    "![Raw Zone](../../../../../images/DL-RZ.JPG)"
   ]
  },
  {
   "cell_type": "code",
   "execution_count": 7,
   "metadata": {},
   "outputs": [
    {
     "name": "stdout",
     "output_type": "stream",
     "text": [
      "C:\\Users\\AndreVermeulen\\Documents\\My Book\\apress\\Industrialized Machine Learning\\book\\IML\\Code\\Chapter 08\\990-DL\\100-Raw-Zone\\\n"
     ]
    }
   ],
   "source": [
    "pathRealName=os.path.realpath(dirname)\n",
    "print(pathRealName)\n",
    "fullRealZipName = os.path.join(pathRealName, fileZipname)"
   ]
  },
  {
   "cell_type": "code",
   "execution_count": 8,
   "metadata": {},
   "outputs": [],
   "source": [
    "if not os.path.exists(pathRealName):\n",
    "    print('Make:', pathRealName)\n",
    "    os.makedirs(pathRealName)"
   ]
  },
  {
   "cell_type": "markdown",
   "metadata": {},
   "source": [
    "# Save Events"
   ]
  },
  {
   "cell_type": "code",
   "execution_count": 9,
   "metadata": {},
   "outputs": [],
   "source": [
    "objectFullDF.to_csv(fullRealZipName, index=False, encoding='utf-8', compression='gzip')"
   ]
  },
  {
   "cell_type": "code",
   "execution_count": 10,
   "metadata": {},
   "outputs": [
    {
     "name": "stdout",
     "output_type": "stream",
     "text": [
      "C:\\Users\\AndreVermeulen\\Documents\\My Book\\apress\\Industrialized Machine Learning\\book\\IML\\Code\\Chapter 08\\990-DL\\100-Raw-Zone\\08-02-Retrieve-Event.csv.gz\n",
      "Start: 2019-01-06 10:07:56\n",
      "Stop:  2019-01-06 10:08:17\n",
      "Time:  0:00:20.658739\n"
     ]
    }
   ],
   "source": [
    "print(fullRealZipName)\n",
    "nowStop = datetime.datetime.now()\n",
    "runTime=nowStop-nowStart\n",
    "print('Start:', nowStart.strftime('%Y-%m-%d %H:%M:%S'))\n",
    "print('Stop: ', nowStop.strftime('%Y-%m-%d %H:%M:%S'))\n",
    "print('Time: ', runTime)"
   ]
  }
 ],
 "metadata": {
  "kernelspec": {
   "display_name": "Python 3",
   "language": "python",
   "name": "python3"
  },
  "language_info": {
   "codemirror_mode": {
    "name": "ipython",
    "version": 3
   },
   "file_extension": ".py",
   "mimetype": "text/x-python",
   "name": "python",
   "nbconvert_exporter": "python",
   "pygments_lexer": "ipython3",
   "version": "3.6.7"
  }
 },
 "nbformat": 4,
 "nbformat_minor": 2
}
