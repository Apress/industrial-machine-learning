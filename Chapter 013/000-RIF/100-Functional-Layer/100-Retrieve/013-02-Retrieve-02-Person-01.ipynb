{
 "cells": [
  {
   "cell_type": "markdown",
   "metadata": {},
   "source": [
    "# 08-02-Retrieve-Person-01"
   ]
  },
  {
   "cell_type": "code",
   "execution_count": 1,
   "metadata": {},
   "outputs": [],
   "source": [
    "import datetime\n",
    "nowStart = datetime.datetime.now()"
   ]
  },
  {
   "cell_type": "markdown",
   "metadata": {},
   "source": [
    "![RIF Functional Layer - Retrieve Step](../../../../../images/DV-Person.JPG)"
   ]
  },
  {
   "cell_type": "markdown",
   "metadata": {},
   "source": [
    "![RIF Functional Layer - Retrieve Step](../../../../../images/RIF-FL-RET.JPG)"
   ]
  },
  {
   "cell_type": "code",
   "execution_count": 2,
   "metadata": {},
   "outputs": [
    {
     "name": "stdout",
     "output_type": "stream",
     "text": [
      "08-02-Retrieve-Person.csv.gz\n"
     ]
    }
   ],
   "source": [
    "dirname = '../../../../Chapter 08/990-DL/100-Raw-Zone/'\n",
    "filename='08-02-Retrieve-Person.csv'\n",
    "fileZipname=filename + '.gz'\n",
    "print(fileZipname)"
   ]
  },
  {
   "cell_type": "code",
   "execution_count": 3,
   "metadata": {},
   "outputs": [],
   "source": [
    "import pandas as pd\n",
    "import os"
   ]
  },
  {
   "cell_type": "markdown",
   "metadata": {},
   "source": [
    "# Create 100-Raw-Zone"
   ]
  },
  {
   "cell_type": "markdown",
   "metadata": {},
   "source": [
    "![Raw Zone](../../../../../images/DL-RZ.JPG)"
   ]
  },
  {
   "cell_type": "code",
   "execution_count": 4,
   "metadata": {},
   "outputs": [
    {
     "name": "stdout",
     "output_type": "stream",
     "text": [
      "C:\\Users\\AndreVermeulen\\Documents\\My Book\\apress\\Industrialized Machine Learning\\book\\IML\\Code\\Chapter 08\\990-DL\\100-Raw-Zone\\\n"
     ]
    }
   ],
   "source": [
    "pathRealName=os.path.realpath(dirname)\n",
    "print(pathRealName)\n",
    "fullRealZipName = os.path.join(pathRealName, fileZipname)"
   ]
  },
  {
   "cell_type": "code",
   "execution_count": 5,
   "metadata": {},
   "outputs": [],
   "source": [
    "if not os.path.exists(pathRealName):\n",
    "    print('Make:', pathRealName)\n",
    "    os.makedirs(pathRealName)"
   ]
  },
  {
   "cell_type": "markdown",
   "metadata": {},
   "source": [
    "# Create Person"
   ]
  },
  {
   "cell_type": "code",
   "execution_count": 6,
   "metadata": {},
   "outputs": [
    {
     "name": "stdout",
     "output_type": "stream",
     "text": [
      "C:\\Users\\AndreVermeulen\\Documents\\My Book\\apress\\Industrialized Machine Learning\\book\\IML\\Data\\Chapter 08\\000-ExternalData\\02-Person\\\n"
     ]
    }
   ],
   "source": [
    "dirDataName = '../../../../../Data/Chapter 08/000-ExternalData/02-Person/'\n",
    "pathRealDataName=os.path.realpath(dirDataName)\n",
    "print(pathRealDataName)"
   ]
  },
  {
   "cell_type": "markdown",
   "metadata": {},
   "source": [
    "## Get First Name"
   ]
  },
  {
   "cell_type": "code",
   "execution_count": 7,
   "metadata": {},
   "outputs": [
    {
     "name": "stdout",
     "output_type": "stream",
     "text": [
      "C:\\Users\\AndreVermeulen\\Documents\\My Book\\apress\\Industrialized Machine Learning\\book\\IML\\Data\\Chapter 08\\000-ExternalData\\02-Person\\FirstNamesBoy2018.csv\n"
     ]
    }
   ],
   "source": [
    "fileDataName='FirstNamesBoy2018.csv'\n",
    "fileFullDataName= os.path.join(pathRealDataName, fileDataName)\n",
    "print(fileFullDataName)"
   ]
  },
  {
   "cell_type": "code",
   "execution_count": 8,
   "metadata": {},
   "outputs": [
    {
     "name": "stdout",
     "output_type": "stream",
     "text": [
      "(100, 1)\n",
      "    FirstName\n",
      "ID           \n",
      "1    Muhammad\n",
      "2      Oliver\n",
      "3        Noah\n",
      "4       Harry\n",
      "5         Leo\n"
     ]
    }
   ],
   "source": [
    "firstNameDF=pd.read_csv(fileFullDataName, header=0)\n",
    "firstNameDF.set_index(\"ID\", inplace = True)\n",
    "firstNameDF.columns=['FirstName']\n",
    "print(firstNameDF.shape)\n",
    "print(firstNameDF.head())"
   ]
  },
  {
   "cell_type": "markdown",
   "metadata": {},
   "source": [
    "## Get Last Name"
   ]
  },
  {
   "cell_type": "code",
   "execution_count": 9,
   "metadata": {},
   "outputs": [
    {
     "name": "stdout",
     "output_type": "stream",
     "text": [
      "C:\\Users\\AndreVermeulen\\Documents\\My Book\\apress\\Industrialized Machine Learning\\book\\IML\\Data\\Chapter 08\\000-ExternalData\\02-Person\\LastNames150.csv\n"
     ]
    }
   ],
   "source": [
    "fileDataName='LastNames150.csv'\n",
    "fileFullDataName= os.path.join(pathRealDataName, fileDataName)\n",
    "print(fileFullDataName)"
   ]
  },
  {
   "cell_type": "code",
   "execution_count": 10,
   "metadata": {},
   "outputs": [
    {
     "data": {
      "text/html": [
       "<div>\n",
       "<style scoped>\n",
       "    .dataframe tbody tr th:only-of-type {\n",
       "        vertical-align: middle;\n",
       "    }\n",
       "\n",
       "    .dataframe tbody tr th {\n",
       "        vertical-align: top;\n",
       "    }\n",
       "\n",
       "    .dataframe thead th {\n",
       "        text-align: right;\n",
       "    }\n",
       "</style>\n",
       "<table border=\"1\" class=\"dataframe\">\n",
       "  <thead>\n",
       "    <tr style=\"text-align: right;\">\n",
       "      <th></th>\n",
       "      <th>ID1</th>\n",
       "      <th>Name1</th>\n",
       "      <th>Cnt1</th>\n",
       "      <th>ID2</th>\n",
       "      <th>Name2</th>\n",
       "      <th>Cnt2</th>\n",
       "      <th>ID3</th>\n",
       "      <th>Name3</th>\n",
       "      <th>Cnt3</th>\n",
       "    </tr>\n",
       "    <tr>\n",
       "      <th>IDKey</th>\n",
       "      <th></th>\n",
       "      <th></th>\n",
       "      <th></th>\n",
       "      <th></th>\n",
       "      <th></th>\n",
       "      <th></th>\n",
       "      <th></th>\n",
       "      <th></th>\n",
       "      <th></th>\n",
       "    </tr>\n",
       "  </thead>\n",
       "  <tbody>\n",
       "    <tr>\n",
       "      <th>0</th>\n",
       "      <td>1</td>\n",
       "      <td>Smith</td>\n",
       "      <td>729 862</td>\n",
       "      <td>51</td>\n",
       "      <td>Bailey</td>\n",
       "      <td>111 011</td>\n",
       "      <td>101</td>\n",
       "      <td>Cole</td>\n",
       "      <td>68 854</td>\n",
       "    </tr>\n",
       "    <tr>\n",
       "      <th>1</th>\n",
       "      <td>2</td>\n",
       "      <td>Jones</td>\n",
       "      <td>578 261</td>\n",
       "      <td>52</td>\n",
       "      <td>Parker</td>\n",
       "      <td>109 943</td>\n",
       "      <td>102</td>\n",
       "      <td>Pearce</td>\n",
       "      <td>68 707</td>\n",
       "    </tr>\n",
       "    <tr>\n",
       "      <th>2</th>\n",
       "      <td>3</td>\n",
       "      <td>Taylor</td>\n",
       "      <td>458 268</td>\n",
       "      <td>53</td>\n",
       "      <td>Miller</td>\n",
       "      <td>109 474</td>\n",
       "      <td>103</td>\n",
       "      <td>Dean</td>\n",
       "      <td>68 073</td>\n",
       "    </tr>\n",
       "    <tr>\n",
       "      <th>3</th>\n",
       "      <td>4</td>\n",
       "      <td>Williams</td>\n",
       "      <td>411 385</td>\n",
       "      <td>54</td>\n",
       "      <td>Davis</td>\n",
       "      <td>108 041</td>\n",
       "      <td>104</td>\n",
       "      <td>Foster</td>\n",
       "      <td>67 675</td>\n",
       "    </tr>\n",
       "    <tr>\n",
       "      <th>4</th>\n",
       "      <td>5</td>\n",
       "      <td>Brown</td>\n",
       "      <td>380 443</td>\n",
       "      <td>55</td>\n",
       "      <td>Murphy</td>\n",
       "      <td>106 245</td>\n",
       "      <td>105</td>\n",
       "      <td>Harvey</td>\n",
       "      <td>67 231</td>\n",
       "    </tr>\n",
       "  </tbody>\n",
       "</table>\n",
       "</div>"
      ],
      "text/plain": [
       "       ID1     Name1     Cnt1  ID2   Name2     Cnt2  ID3   Name3    Cnt3\n",
       "IDKey                                                                   \n",
       "0        1     Smith  729 862   51  Bailey  111 011  101    Cole  68 854\n",
       "1        2     Jones  578 261   52  Parker  109 943  102  Pearce  68 707\n",
       "2        3    Taylor  458 268   53  Miller  109 474  103    Dean  68 073\n",
       "3        4  Williams  411 385   54   Davis  108 041  104  Foster  67 675\n",
       "4        5     Brown  380 443   55  Murphy  106 245  105  Harvey  67 231"
      ]
     },
     "execution_count": 10,
     "metadata": {},
     "output_type": "execute_result"
    }
   ],
   "source": [
    "lastNameRawDF=pd.read_csv(fileFullDataName, header=0)\n",
    "lastNameRawDF.index.name='IDKey'\n",
    "lastNameRawDF.shape\n",
    "lastNameRawDF.head()"
   ]
  },
  {
   "cell_type": "code",
   "execution_count": 11,
   "metadata": {},
   "outputs": [
    {
     "name": "stdout",
     "output_type": "stream",
     "text": [
      "(50, 2)\n",
      "    LastName      Cnt\n",
      "ID                   \n",
      "1      Smith  729 862\n",
      "2      Jones  578 261\n",
      "3     Taylor  458 268\n",
      "4   Williams  411 385\n",
      "5      Brown  380 443\n"
     ]
    }
   ],
   "source": [
    "lastName1DF=pd.DataFrame(lastNameRawDF.loc[:, ['ID1','Name1','Cnt1']])\n",
    "lastName1DF.columns=['ID','LastName','Cnt']\n",
    "lastName1DF.set_index(\"ID\", inplace = True) \n",
    "print(lastName1DF.shape)\n",
    "print(lastName1DF.head())"
   ]
  },
  {
   "cell_type": "code",
   "execution_count": 12,
   "metadata": {},
   "outputs": [
    {
     "name": "stdout",
     "output_type": "stream",
     "text": [
      "(50, 2)\n",
      "   LastName      Cnt\n",
      "ID                  \n",
      "51   Bailey  111 011\n",
      "52   Parker  109 943\n",
      "53   Miller  109 474\n",
      "54    Davis  108 041\n",
      "55   Murphy  106 245\n"
     ]
    }
   ],
   "source": [
    "lastName2DF=pd.DataFrame(lastNameRawDF.loc[:, ['ID2','Name2','Cnt2']])\n",
    "lastName2DF.columns=['ID','LastName','Cnt']\n",
    "lastName2DF.set_index(\"ID\", inplace = True) \n",
    "print(lastName2DF.shape)\n",
    "print(lastName2DF.head())"
   ]
  },
  {
   "cell_type": "code",
   "execution_count": 13,
   "metadata": {},
   "outputs": [
    {
     "name": "stdout",
     "output_type": "stream",
     "text": [
      "(50, 2)\n",
      "    LastName     Cnt\n",
      "ID                  \n",
      "101     Cole  68 854\n",
      "102   Pearce  68 707\n",
      "103     Dean  68 073\n",
      "104   Foster  67 675\n",
      "105   Harvey  67 231\n"
     ]
    }
   ],
   "source": [
    "lastName3DF=pd.DataFrame(lastNameRawDF.loc[:, ['ID3','Name3','Cnt3']])\n",
    "lastName3DF.columns=['ID','LastName','Cnt']\n",
    "lastName3DF.set_index(\"ID\", inplace = True) \n",
    "print(lastName3DF.shape)\n",
    "print(lastName3DF.head())"
   ]
  },
  {
   "cell_type": "code",
   "execution_count": 14,
   "metadata": {},
   "outputs": [
    {
     "name": "stdout",
     "output_type": "stream",
     "text": [
      "(150, 1)\n",
      "    LastName\n",
      "ID          \n",
      "1      Smith\n",
      "2      Jones\n",
      "3     Taylor\n",
      "4   Williams\n",
      "5      Brown\n"
     ]
    }
   ],
   "source": [
    "DFs = [lastName1DF, lastName2DF, lastName3DF]\n",
    "lastNameDF=pd.DataFrame(pd.concat(DFs))\n",
    "lastNameDF.drop(['Cnt'], axis=1, inplace=True)\n",
    "\n",
    "print(lastNameDF.shape)\n",
    "print(lastNameDF.head())"
   ]
  },
  {
   "cell_type": "markdown",
   "metadata": {},
   "source": [
    "## Create First Name with Last Name"
   ]
  },
  {
   "cell_type": "code",
   "execution_count": 15,
   "metadata": {},
   "outputs": [
    {
     "name": "stdout",
     "output_type": "stream",
     "text": [
      "(15000, 3)\n",
      "       ID  FirstName  LastName\n",
      "KeyID                         \n",
      "0       0   Muhammad     Smith\n",
      "1       1   Muhammad     Jones\n",
      "2       2   Muhammad    Taylor\n",
      "3       3   Muhammad  Williams\n",
      "4       4   Muhammad     Brown\n"
     ]
    }
   ],
   "source": [
    "firstNameDF['keyid']=0\n",
    "lastNameDF['keyid']=0\n",
    "\n",
    "NameDF=pd.merge(firstNameDF, lastNameDF, how='inner')\n",
    "NameDF.drop(['keyid'], axis=1, inplace=True)\n",
    "NameDF.reset_index(inplace=True)\n",
    "NameDF.index.name='KeyID'\n",
    "NameDF.columns=['ID','FirstName','LastName']\n",
    "\n",
    "print(NameDF.shape)\n",
    "print(NameDF.head())"
   ]
  },
  {
   "cell_type": "code",
   "execution_count": 16,
   "metadata": {},
   "outputs": [],
   "source": [
    "NameDF.to_csv(fullRealZipName, index=False, encoding='utf-8', compression='gzip')"
   ]
  },
  {
   "cell_type": "code",
   "execution_count": 17,
   "metadata": {},
   "outputs": [
    {
     "name": "stdout",
     "output_type": "stream",
     "text": [
      "C:\\Users\\AndreVermeulen\\Documents\\My Book\\apress\\Industrialized Machine Learning\\book\\IML\\Code\\Chapter 08\\990-DL\\100-Raw-Zone\\08-02-Retrieve-Person.csv.gz\n",
      "Start: 2019-01-06 10:05:48\n",
      "Stop:  2019-01-06 10:05:49\n",
      "Time:  0:00:01.440994\n"
     ]
    }
   ],
   "source": [
    "print(fullRealZipName)\n",
    "nowStop = datetime.datetime.now()\n",
    "runTime=nowStop-nowStart\n",
    "print('Start:', nowStart.strftime('%Y-%m-%d %H:%M:%S'))\n",
    "print('Stop: ', nowStop.strftime('%Y-%m-%d %H:%M:%S'))\n",
    "print('Time: ', runTime)"
   ]
  }
 ],
 "metadata": {
  "kernelspec": {
   "display_name": "Python 3",
   "language": "python",
   "name": "python3"
  },
  "language_info": {
   "codemirror_mode": {
    "name": "ipython",
    "version": 3
   },
   "file_extension": ".py",
   "mimetype": "text/x-python",
   "name": "python",
   "nbconvert_exporter": "python",
   "pygments_lexer": "ipython3",
   "version": "3.7.1"
  }
 },
 "nbformat": 4,
 "nbformat_minor": 2
}
