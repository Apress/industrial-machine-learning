{
 "cells": [
  {
   "cell_type": "markdown",
   "metadata": {},
   "source": [
    "# 08-02-Retrieve-Location-01"
   ]
  },
  {
   "cell_type": "code",
   "execution_count": 1,
   "metadata": {},
   "outputs": [],
   "source": [
    "import datetime\n",
    "nowStart = datetime.datetime.now()"
   ]
  },
  {
   "cell_type": "markdown",
   "metadata": {},
   "source": [
    "![RIF Functional Layer - Retrieve Step](../../../../../images/DV-Location.JPG)"
   ]
  },
  {
   "cell_type": "markdown",
   "metadata": {},
   "source": [
    "![RIF Functional Layer - Retrieve Step](../../../../../images/RIF-FL-RET.JPG)"
   ]
  },
  {
   "cell_type": "code",
   "execution_count": 2,
   "metadata": {},
   "outputs": [],
   "source": [
    "dirname = '../../../../Chapter 08/990-DL/100-Raw-Zone/'\n",
    "filename='08-02-Retrieve-Location.csv'\n",
    "fileZipname=filename + '.gz'\n",
    "print(fileZipname)"
   ]
  },
  {
   "cell_type": "code",
   "execution_count": 3,
   "metadata": {},
   "outputs": [],
   "source": [
    "import pandas as pd\n",
    "import zipfile as zp\n",
    "import os"
   ]
  },
  {
   "cell_type": "markdown",
   "metadata": {},
   "source": [
    "# Create 100-Raw-Zone"
   ]
  },
  {
   "cell_type": "markdown",
   "metadata": {},
   "source": [
    "![Raw Zone](../../../../../images/DL-RZ.JPG)"
   ]
  },
  {
   "cell_type": "code",
   "execution_count": 4,
   "metadata": {},
   "outputs": [
    {
     "name": "stdout",
     "output_type": "stream",
     "text": [
      "C:\\Users\\AndreVermeulen\\Documents\\My Book\\apress\\Industrialized Machine Learning\\book\\IML\\Code\\Chapter 08\\990-DL\\100-Raw-Zone\\\n"
     ]
    }
   ],
   "source": [
    "pathRealName=os.path.realpath(dirname)\n",
    "print(pathRealName)\n",
    "fullRealZipName = os.path.join(pathRealName, fileZipname)"
   ]
  },
  {
   "cell_type": "code",
   "execution_count": 5,
   "metadata": {},
   "outputs": [],
   "source": [
    "if not os.path.exists(pathRealName):\n",
    "    print('Make:', pathRealName)\n",
    "    os.makedirs(pathRealName)"
   ]
  },
  {
   "cell_type": "markdown",
   "metadata": {},
   "source": [
    "# Create Location"
   ]
  },
  {
   "cell_type": "code",
   "execution_count": 6,
   "metadata": {},
   "outputs": [
    {
     "name": "stdout",
     "output_type": "stream",
     "text": [
      "C:\\Users\\AndreVermeulen\\Documents\\My Book\\apress\\Industrialized Machine Learning\\book\\IML\\Data\\Chapter 08\\000-ExternalData\\04-Location\\\n"
     ]
    }
   ],
   "source": [
    "dirDataName = '../../../../../Data/Chapter 08/000-ExternalData/04-Location/'\n",
    "pathRealDataName=os.path.realpath(dirDataName)\n",
    "print(pathRealDataName)"
   ]
  },
  {
   "cell_type": "markdown",
   "metadata": {},
   "source": [
    "## Get Location"
   ]
  },
  {
   "cell_type": "code",
   "execution_count": 7,
   "metadata": {},
   "outputs": [
    {
     "name": "stdout",
     "output_type": "stream",
     "text": [
      "C:\\Users\\AndreVermeulen\\Documents\\My Book\\apress\\Industrialized Machine Learning\\book\\IML\\Data\\Chapter 08\\000-ExternalData\\04-Location\\ukpostcodes.zip\n"
     ]
    }
   ],
   "source": [
    "fileZipName='ukpostcodes.zip'\n",
    "fileDataName='ukpostcodes.csv'\n",
    "fileFullZipName= os.path.join(pathRealDataName, fileZipName)\n",
    "print(fileFullZipName)"
   ]
  },
  {
   "cell_type": "code",
   "execution_count": 8,
   "metadata": {},
   "outputs": [],
   "source": [
    "with zp.ZipFile(fileFullZipName) as z:\n",
    "    with z.open(fileDataName) as f:\n",
    "        locationDF = pd.read_csv(f, header=0, delimiter=',')"
   ]
  },
  {
   "cell_type": "code",
   "execution_count": 9,
   "metadata": {},
   "outputs": [
    {
     "name": "stdout",
     "output_type": "stream",
     "text": [
      "(1762397, 4)\n",
      "       id  postcode   latitude  longitude\n",
      "IDKey                                    \n",
      "0       1  AB10 1XG  57.144165  -2.114848\n",
      "1       2  AB10 6RN  57.137880  -2.121487\n",
      "2       3  AB10 7JB  57.124274  -2.127190\n",
      "3       4  AB11 5QN  57.142701  -2.093295\n",
      "4       5  AB11 6UL  57.137547  -2.112233\n"
     ]
    }
   ],
   "source": [
    "locationDF.index.name='IDKey'\n",
    "print(locationDF.shape)\n",
    "print(locationDF.head())"
   ]
  },
  {
   "cell_type": "code",
   "execution_count": 10,
   "metadata": {},
   "outputs": [],
   "source": [
    "locationDF.to_csv(fullRealZipName, index=False, encoding='utf-8', compression='gzip')"
   ]
  },
  {
   "cell_type": "code",
   "execution_count": 11,
   "metadata": {},
   "outputs": [
    {
     "name": "stdout",
     "output_type": "stream",
     "text": [
      "C:\\Users\\AndreVermeulen\\Documents\\My Book\\apress\\Industrialized Machine Learning\\book\\IML\\Code\\Chapter 08\\990-DL\\100-Raw-Zone\\08-02-Retrieve-Location.csv.gz\n",
      "Start: 2019-01-06 10:08:07\n",
      "Stop:  2019-01-06 10:08:53\n",
      "Time:  0:00:45.867407\n"
     ]
    }
   ],
   "source": [
    "print(fullRealZipName)\n",
    "nowStop = datetime.datetime.now()\n",
    "runTime=nowStop-nowStart\n",
    "print('Start:', nowStart.strftime('%Y-%m-%d %H:%M:%S'))\n",
    "print('Stop: ', nowStop.strftime('%Y-%m-%d %H:%M:%S'))\n",
    "print('Time: ', runTime)"
   ]
  }
 ],
 "metadata": {
  "kernelspec": {
   "display_name": "Python 3",
   "language": "python",
   "name": "python3"
  },
  "language_info": {
   "codemirror_mode": {
    "name": "ipython",
    "version": 3
   },
   "file_extension": ".py",
   "mimetype": "text/x-python",
   "name": "python",
   "nbconvert_exporter": "python",
   "pygments_lexer": "ipython3",
   "version": "3.7.1"
  }
 },
 "nbformat": 4,
 "nbformat_minor": 2
}
