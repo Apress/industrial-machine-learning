{
 "cells": [
  {
   "cell_type": "markdown",
   "metadata": {},
   "source": [
    "# 08-03-Assess-04-Location-Parquet-01"
   ]
  },
  {
   "cell_type": "code",
   "execution_count": 1,
   "metadata": {},
   "outputs": [],
   "source": [
    "import datetime\n",
    "nowStart = datetime.datetime.now()"
   ]
  },
  {
   "cell_type": "markdown",
   "metadata": {},
   "source": [
    "![RIF Functional Layer - Retrieve Step](../../../../../images/DV-Location.JPG)"
   ]
  },
  {
   "cell_type": "markdown",
   "metadata": {},
   "source": [
    "![RIF Functional Layer - Retrieve Step](../../../../../images/RIF-FL-ASS.JPG)"
   ]
  },
  {
   "cell_type": "code",
   "execution_count": 2,
   "metadata": {},
   "outputs": [
    {
     "name": "stdout",
     "output_type": "stream",
     "text": [
      "08-02-Assess-Location-01.parquet\n"
     ]
    }
   ],
   "source": [
    "dirname = '../../../../Chapter 08/990-DL/200-Structured-Zone/'\n",
    "filename1='08-02-Assess-Location-01.parquet'\n",
    "print(filename1)"
   ]
  },
  {
   "cell_type": "code",
   "execution_count": 3,
   "metadata": {},
   "outputs": [
    {
     "name": "stdout",
     "output_type": "stream",
     "text": [
      "08-02-Assess-Location-02.parquet\n"
     ]
    }
   ],
   "source": [
    "filename2='08-02-Assess-Location-02.parquet'\n",
    "print(filename2)"
   ]
  },
  {
   "cell_type": "code",
   "execution_count": 4,
   "metadata": {},
   "outputs": [],
   "source": [
    "import pandas as pd\n",
    "import os"
   ]
  },
  {
   "cell_type": "markdown",
   "metadata": {},
   "source": [
    "# Create 200-Structured-Zone"
   ]
  },
  {
   "cell_type": "markdown",
   "metadata": {},
   "source": [
    "![Raw Zone](../../../../../images/DL-SZ.JPG)"
   ]
  },
  {
   "cell_type": "code",
   "execution_count": 5,
   "metadata": {},
   "outputs": [
    {
     "name": "stdout",
     "output_type": "stream",
     "text": [
      "C:\\Users\\andre.vermeulen\\Documents\\My Book\\Code\\Chapter 08\\990-DL\\200-Structured-Zone\\\n"
     ]
    }
   ],
   "source": [
    "pathRealName=os.path.realpath(dirname)\n",
    "print(pathRealName)\n",
    "fullRealName1 = os.path.join(pathRealName, filename1)\n",
    "fullRealName2 = os.path.join(pathRealName, filename2)"
   ]
  },
  {
   "cell_type": "code",
   "execution_count": 6,
   "metadata": {},
   "outputs": [],
   "source": [
    "if not os.path.exists(pathRealName):\n",
    "    print('Make:', pathRealName)\n",
    "    os.makedirs(pathRealName)"
   ]
  },
  {
   "cell_type": "markdown",
   "metadata": {},
   "source": [
    "# Create Location"
   ]
  },
  {
   "cell_type": "code",
   "execution_count": 7,
   "metadata": {},
   "outputs": [
    {
     "name": "stdout",
     "output_type": "stream",
     "text": [
      "C:\\Users\\andre.vermeulen\\Documents\\My Book\\Code\\Chapter 08\\990-DL\\100-Raw-Zone\\\n"
     ]
    }
   ],
   "source": [
    "dirDataName = '../../../../Chapter 08/990-DL/100-Raw-Zone/'\n",
    "pathRealDataName=os.path.realpath(dirDataName)\n",
    "print(pathRealDataName)"
   ]
  },
  {
   "cell_type": "markdown",
   "metadata": {},
   "source": [
    "## Get Location"
   ]
  },
  {
   "cell_type": "code",
   "execution_count": 8,
   "metadata": {},
   "outputs": [
    {
     "name": "stdout",
     "output_type": "stream",
     "text": [
      "C:\\Users\\andre.vermeulen\\Documents\\My Book\\Code\\Chapter 08\\990-DL\\100-Raw-Zone\\08-02-Retrieve-Location.csv.gz\n"
     ]
    }
   ],
   "source": [
    "fileDataName='08-02-Retrieve-Location.csv.gz'\n",
    "fileFullDataName= os.path.join(pathRealDataName, fileDataName)\n",
    "print(fileFullDataName)"
   ]
  },
  {
   "cell_type": "code",
   "execution_count": 9,
   "metadata": {},
   "outputs": [
    {
     "name": "stdout",
     "output_type": "stream",
     "text": [
      "(1762397, 4)\n"
     ]
    }
   ],
   "source": [
    "locationDF= pd.read_csv(fileFullDataName, encoding='utf-8', compression='gzip')\n",
    "print(locationDF.shape)"
   ]
  },
  {
   "cell_type": "code",
   "execution_count": 10,
   "metadata": {},
   "outputs": [
    {
     "name": "stdout",
     "output_type": "stream",
     "text": [
      "(1762397, 4)\n",
      "       id  postcode   latitude  longitude\n",
      "IDKey                                    \n",
      "0       1  AB10 1XG  57.144165  -2.114848\n",
      "1       2  AB10 6RN  57.137880  -2.121487\n",
      "2       3  AB10 7JB  57.124274  -2.127190\n",
      "3       4  AB11 5QN  57.142701  -2.093295\n",
      "4       5  AB11 6UL  57.137547  -2.112233\n"
     ]
    }
   ],
   "source": [
    "locationDF.index.name='IDKey'\n",
    "print(locationDF.shape)\n",
    "print(locationDF.head())"
   ]
  },
  {
   "cell_type": "code",
   "execution_count": 11,
   "metadata": {},
   "outputs": [
    {
     "name": "stdout",
     "output_type": "stream",
     "text": [
      "C:\\Users\\andre.vermeulen\\Documents\\My Book\\Code\\Chapter 08\\990-DL\\200-Structured-Zone\\08-02-Assess-Location-01.parquet\n"
     ]
    }
   ],
   "source": [
    "locationDF.to_parquet(fullRealName1, engine='auto', compression='snappy')\n",
    "print(fullRealName1)"
   ]
  },
  {
   "cell_type": "code",
   "execution_count": 12,
   "metadata": {},
   "outputs": [
    {
     "name": "stdout",
     "output_type": "stream",
     "text": [
      "(1762397, 4)\n"
     ]
    }
   ],
   "source": [
    "locationTest1DF= pd.read_parquet(fullRealName1, engine='auto')\n",
    "print(locationTest1DF.shape)"
   ]
  },
  {
   "cell_type": "code",
   "execution_count": 13,
   "metadata": {},
   "outputs": [
    {
     "name": "stdout",
     "output_type": "stream",
     "text": [
      "Snappy file : 50487278\n"
     ]
    }
   ],
   "source": [
    "statinfo = os.stat(fullRealName1)\n",
    "filesize1=statinfo.st_size\n",
    "print('Snappy file :',filesize1)"
   ]
  },
  {
   "cell_type": "code",
   "execution_count": 14,
   "metadata": {},
   "outputs": [
    {
     "name": "stdout",
     "output_type": "stream",
     "text": [
      "C:\\Users\\andre.vermeulen\\Documents\\My Book\\Code\\Chapter 08\\990-DL\\200-Structured-Zone\\08-02-Assess-Location-02.parquet\n"
     ]
    }
   ],
   "source": [
    "locationDF.to_parquet(fullRealName2, engine='auto', compression='gzip')\n",
    "print(fullRealName2)"
   ]
  },
  {
   "cell_type": "code",
   "execution_count": 15,
   "metadata": {},
   "outputs": [
    {
     "name": "stdout",
     "output_type": "stream",
     "text": [
      "(1762397, 4)\n"
     ]
    }
   ],
   "source": [
    "locationTest2DF= pd.read_parquet(fullRealName2, engine='auto')\n",
    "print(locationTest2DF.shape)"
   ]
  },
  {
   "cell_type": "code",
   "execution_count": 16,
   "metadata": {},
   "outputs": [
    {
     "name": "stdout",
     "output_type": "stream",
     "text": [
      "GZip file : 33740799\n"
     ]
    }
   ],
   "source": [
    "statinfo = os.stat(fullRealName2)\n",
    "filesize2=statinfo.st_size\n",
    "print('GZip file :',filesize2)"
   ]
  },
  {
   "cell_type": "code",
   "execution_count": 17,
   "metadata": {},
   "outputs": [
    {
     "name": "stdout",
     "output_type": "stream",
     "text": [
      "Snappy (50487278 bytes) is 1.496 times bigger than GZip (33740799 bytes)\n"
     ]
    }
   ],
   "source": [
    "if filesize1 > filesize2:\n",
    "    print('Snappy (%0d bytes) is %0.3f times bigger than GZip (%0d bytes)' % (filesize1, filesize1/filesize2, filesize2))\n",
    "else:    \n",
    "    print('GZip (%0d bytes) is %0.3f times bigger than Snappy (%0d bytes)' % (filesize2, filesize2/filesize1, filesize1))"
   ]
  },
  {
   "cell_type": "code",
   "execution_count": 18,
   "metadata": {},
   "outputs": [
    {
     "name": "stdout",
     "output_type": "stream",
     "text": [
      "<class 'pandas.core.frame.DataFrame'>\n",
      "Int64Index: 1762397 entries, 0 to 1762396\n",
      "Data columns (total 4 columns):\n",
      "id           int64\n",
      "postcode     object\n",
      "latitude     float64\n",
      "longitude    float64\n",
      "dtypes: float64(2), int64(1), object(1)\n",
      "memory usage: 67.2+ MB\n",
      "None\n"
     ]
    }
   ],
   "source": [
    "print(locationTest1DF.info())"
   ]
  },
  {
   "cell_type": "code",
   "execution_count": 19,
   "metadata": {},
   "outputs": [
    {
     "name": "stdout",
     "output_type": "stream",
     "text": [
      "Start: 2019-01-14 23:00:56\n",
      "Stop:  2019-01-14 23:01:06\n",
      "Time:  0:00:10.113721\n"
     ]
    }
   ],
   "source": [
    "nowStop = datetime.datetime.now()\n",
    "runTime=nowStop-nowStart\n",
    "print('Start:', nowStart.strftime('%Y-%m-%d %H:%M:%S'))\n",
    "print('Stop: ', nowStop.strftime('%Y-%m-%d %H:%M:%S'))\n",
    "print('Time: ', runTime)"
   ]
  },
  {
   "cell_type": "code",
   "execution_count": null,
   "metadata": {},
   "outputs": [],
   "source": []
  }
 ],
 "metadata": {
  "kernelspec": {
   "display_name": "Python 3",
   "language": "python",
   "name": "python3"
  },
  "language_info": {
   "codemirror_mode": {
    "name": "ipython",
    "version": 3
   },
   "file_extension": ".py",
   "mimetype": "text/x-python",
   "name": "python",
   "nbconvert_exporter": "python",
   "pygments_lexer": "ipython3",
   "version": "3.7.1"
  }
 },
 "nbformat": 4,
 "nbformat_minor": 2
}
