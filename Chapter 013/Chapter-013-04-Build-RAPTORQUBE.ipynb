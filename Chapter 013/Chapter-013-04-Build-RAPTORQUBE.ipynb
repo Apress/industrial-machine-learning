{
 "cells": [
  {
   "cell_type": "markdown",
   "metadata": {},
   "source": [
    "## Apress - Industrialized Machine Learning Examples\n",
    "\n",
    "Andreas Francois Vermeulen\n",
    "2019\n",
    "\n",
    "### This is an example add-on to a book and needs to be accepted as part of that copyright."
   ]
  },
  {
   "cell_type": "markdown",
   "metadata": {},
   "source": [
    "# Chapter-013-04-Build-RAPTORQUBE"
   ]
  },
  {
   "cell_type": "code",
   "execution_count": 1,
   "metadata": {},
   "outputs": [],
   "source": [
    "import datetime\n",
    "nowStart = datetime.datetime.now()"
   ]
  },
  {
   "cell_type": "markdown",
   "metadata": {},
   "source": [
    "![RAPTOR-QUBE](../../images/raptorqube/raptorqube-full.bmp)"
   ]
  },
  {
   "cell_type": "code",
   "execution_count": 2,
   "metadata": {},
   "outputs": [],
   "source": [
    "import os\n",
    "import time\n",
    "import shutil\n",
    "import pandas as pd"
   ]
  },
  {
   "cell_type": "code",
   "execution_count": 3,
   "metadata": {},
   "outputs": [],
   "source": [
    "pathDL='../../Results/Chapter 13/995-DL/'\n",
    "pathRIFInName='../../Data/Chapter 13/100-Kafka-Data/'\n",
    "pathRIFOutName='../../Results/Chapter 13/995-DL/100-Raw-Zone/100-Kafka-Data/'"
   ]
  },
  {
   "cell_type": "code",
   "execution_count": 4,
   "metadata": {},
   "outputs": [],
   "source": [
    "if os.path.exists(pathRIFOutName):\n",
    "    shutil.rmtree(pathRIFOutName)\n",
    "    time.sleep(5)"
   ]
  },
  {
   "cell_type": "code",
   "execution_count": 5,
   "metadata": {},
   "outputs": [],
   "source": [
    "if not os.path.exists(pathRIFOutName):\n",
    "    shutil.copytree(pathRIFInName, pathRIFOutName)"
   ]
  },
  {
   "cell_type": "markdown",
   "metadata": {},
   "source": [
    "![Processor](../../images/Processor.JPG)"
   ]
  },
  {
   "cell_type": "code",
   "execution_count": 6,
   "metadata": {},
   "outputs": [
    {
     "name": "stdout",
     "output_type": "stream",
     "text": [
      "C:\\Users\\AndreVermeulen\\Documents\\My Book\\apress\\Industrialized Machine Learning\\book\\IML\\Results\\Chapter 13\\995-DL\\100-Raw-Zone\\100-Kafka-Data\\\n"
     ]
    }
   ],
   "source": [
    "pathRealDLname=os.path.realpath(pathRIFOutName)\n",
    "print(pathRealDLname)"
   ]
  },
  {
   "cell_type": "markdown",
   "metadata": {},
   "source": [
    "## Show RIF directories"
   ]
  },
  {
   "cell_type": "code",
   "execution_count": 7,
   "metadata": {},
   "outputs": [
    {
     "name": "stdout",
     "output_type": "stream",
     "text": [
      "C:\\Users\\AndreVermeulen\\Documents\\My Book\\apress\\Industrialized Machine Learning\\book\\IML\\Results\\Chapter 13\\995-DL\\100-Raw-Zone\\100-Kafka-Data\\01-Time\n",
      "C:\\Users\\AndreVermeulen\\Documents\\My Book\\apress\\Industrialized Machine Learning\\book\\IML\\Results\\Chapter 13\\995-DL\\100-Raw-Zone\\100-Kafka-Data\\02-Person\n",
      "C:\\Users\\AndreVermeulen\\Documents\\My Book\\apress\\Industrialized Machine Learning\\book\\IML\\Results\\Chapter 13\\995-DL\\100-Raw-Zone\\100-Kafka-Data\\03-Object\n",
      "C:\\Users\\AndreVermeulen\\Documents\\My Book\\apress\\Industrialized Machine Learning\\book\\IML\\Results\\Chapter 13\\995-DL\\100-Raw-Zone\\100-Kafka-Data\\04-Location\n",
      "C:\\Users\\AndreVermeulen\\Documents\\My Book\\apress\\Industrialized Machine Learning\\book\\IML\\Results\\Chapter 13\\995-DL\\100-Raw-Zone\\100-Kafka-Data\\05-Event\n"
     ]
    }
   ],
   "source": [
    "for root, dirs, files in os.walk(pathRealDLname, topdown=True):\n",
    "    for name in dirs:\n",
    "        print(os.path.join(root, name))"
   ]
  },
  {
   "cell_type": "code",
   "execution_count": 8,
   "metadata": {},
   "outputs": [
    {
     "name": "stdout",
     "output_type": "stream",
     "text": [
      "C:\\Users\\AndreVermeulen\\Documents\\My Book\\apress\\Industrialized Machine Learning\\book\\IML\\Results\\Chapter 13\\995-DL\\100-Raw-Zone\\100-Kafka-Data\\01-Time\\Time-Date.csv\n",
      "C:\\Users\\AndreVermeulen\\Documents\\My Book\\apress\\Industrialized Machine Learning\\book\\IML\\Results\\Chapter 13\\995-DL\\100-Raw-Zone\\100-Kafka-Data\\01-Time\\Time-Time.csv\n",
      "C:\\Users\\AndreVermeulen\\Documents\\My Book\\apress\\Industrialized Machine Learning\\book\\IML\\Results\\Chapter 13\\995-DL\\100-Raw-Zone\\100-Kafka-Data\\02-Person\\Person.csv\n",
      "C:\\Users\\AndreVermeulen\\Documents\\My Book\\apress\\Industrialized Machine Learning\\book\\IML\\Results\\Chapter 13\\995-DL\\100-Raw-Zone\\100-Kafka-Data\\03-Object\\Object.csv.gz\n",
      "C:\\Users\\AndreVermeulen\\Documents\\My Book\\apress\\Industrialized Machine Learning\\book\\IML\\Results\\Chapter 13\\995-DL\\100-Raw-Zone\\100-Kafka-Data\\04-Location\\Location.csv.gz\n",
      "C:\\Users\\AndreVermeulen\\Documents\\My Book\\apress\\Industrialized Machine Learning\\book\\IML\\Results\\Chapter 13\\995-DL\\100-Raw-Zone\\100-Kafka-Data\\05-Event\\Event.csv.gz\n"
     ]
    }
   ],
   "source": [
    "for root, dirs, files in os.walk(pathRealDLname, topdown=True):\n",
    "    for name in files:\n",
    "        print(os.path.join(root, name))"
   ]
  },
  {
   "cell_type": "markdown",
   "metadata": {},
   "source": [
    "![Processor](../../images/Processor.JPG)"
   ]
  },
  {
   "cell_type": "markdown",
   "metadata": {},
   "source": [
    "# Retrieve"
   ]
  },
  {
   "cell_type": "markdown",
   "metadata": {},
   "source": [
    "![RIF Functional Layer - Retrieve Step](../../images/RIF-FL-RET.JPG) ![Raw Zone](../../images/DL-RZ.JPG)"
   ]
  },
  {
   "cell_type": "markdown",
   "metadata": {},
   "source": [
    "### Time - Date"
   ]
  },
  {
   "cell_type": "code",
   "execution_count": 9,
   "metadata": {},
   "outputs": [
    {
     "name": "stdout",
     "output_type": "stream",
     "text": [
      "C:\\Users\\AndreVermeulen\\Documents\\My Book\\apress\\Industrialized Machine Learning\\book\\IML\\Results\\Chapter 13\\995-DL\\100-Raw-Zone\\100-Kafka-Data\\01-Time\\Time-Date.csv\n"
     ]
    }
   ],
   "source": [
    "kafkaName=os.path.join(pathRealDLname, '01-Time','Time-Date.csv')\n",
    "print(kafkaName)"
   ]
  },
  {
   "cell_type": "code",
   "execution_count": 10,
   "metadata": {},
   "outputs": [
    {
     "name": "stdout",
     "output_type": "stream",
     "text": [
      "(730, 2)\n"
     ]
    }
   ],
   "source": [
    "DateDF=pd.read_csv(kafkaName, header=0)\n",
    "print(DateDF.shape)"
   ]
  },
  {
   "cell_type": "code",
   "execution_count": 11,
   "metadata": {},
   "outputs": [],
   "source": [
    "retrieveName = os.path.join(pathDL, '100-Raw-Zone', '13-02-Time-Date.csv.gz')\n",
    "DateDF.to_csv(retrieveName, index=False, encoding='utf-8', compression='gzip')"
   ]
  },
  {
   "cell_type": "markdown",
   "metadata": {},
   "source": [
    "### Time - Time"
   ]
  },
  {
   "cell_type": "code",
   "execution_count": 12,
   "metadata": {},
   "outputs": [
    {
     "name": "stdout",
     "output_type": "stream",
     "text": [
      "C:\\Users\\AndreVermeulen\\Documents\\My Book\\apress\\Industrialized Machine Learning\\book\\IML\\Results\\Chapter 13\\995-DL\\100-Raw-Zone\\100-Kafka-Data\\01-Time\\Time-Time.csv\n"
     ]
    }
   ],
   "source": [
    "kafkaName=os.path.join(pathRealDLname, '01-Time','Time-Time.csv')\n",
    "print(kafkaName)"
   ]
  },
  {
   "cell_type": "code",
   "execution_count": 13,
   "metadata": {},
   "outputs": [
    {
     "name": "stdout",
     "output_type": "stream",
     "text": [
      "(1440, 2)\n"
     ]
    }
   ],
   "source": [
    "DateDF=pd.read_csv(kafkaName, header=0)\n",
    "print(DateDF.shape)"
   ]
  },
  {
   "cell_type": "code",
   "execution_count": 14,
   "metadata": {},
   "outputs": [],
   "source": [
    "retrieveName = os.path.join(pathDL, '100-Raw-Zone', '13-02-Time-Time.csv.gz')\n",
    "DateDF.to_csv(retrieveName, index=False, encoding='utf-8', compression='gzip')"
   ]
  },
  {
   "cell_type": "markdown",
   "metadata": {},
   "source": [
    "![Processor](../../images/Processor.JPG)"
   ]
  },
  {
   "cell_type": "markdown",
   "metadata": {},
   "source": [
    "# Assess"
   ]
  },
  {
   "cell_type": "markdown",
   "metadata": {},
   "source": [
    "![RIF Functional Layer - Retrieve Step](../../images/RIF-FL-ASS.JPG) ![Raw Zone](../../images/DL-SZ.JPG)"
   ]
  },
  {
   "cell_type": "markdown",
   "metadata": {},
   "source": [
    "### Time - Date"
   ]
  },
  {
   "cell_type": "code",
   "execution_count": 15,
   "metadata": {},
   "outputs": [],
   "source": [
    "retrieveName = os.path.join(pathDL, '100-Raw-Zone', '13-02-Time-Date.csv.gz')\n",
    "DateDF=pd.read_csv(retrieveName, header=0, encoding='utf-8', compression='gzip')"
   ]
  },
  {
   "cell_type": "code",
   "execution_count": 16,
   "metadata": {},
   "outputs": [
    {
     "name": "stdout",
     "output_type": "stream",
     "text": [
      "(730, 2)\n"
     ]
    }
   ],
   "source": [
    "print(DateDF.shape)"
   ]
  },
  {
   "cell_type": "code",
   "execution_count": 17,
   "metadata": {},
   "outputs": [
    {
     "name": "stdout",
     "output_type": "stream",
     "text": [
      "<class 'pandas.core.frame.DataFrame'>\n",
      "RangeIndex: 730 entries, 0 to 729\n",
      "Data columns (total 2 columns):\n",
      "DateKey    730 non-null object\n",
      "Date       730 non-null object\n",
      "dtypes: object(2)\n",
      "memory usage: 11.5+ KB\n",
      "None\n"
     ]
    }
   ],
   "source": [
    "print(DateDF.info())"
   ]
  },
  {
   "cell_type": "code",
   "execution_count": 18,
   "metadata": {},
   "outputs": [
    {
     "name": "stdout",
     "output_type": "stream",
     "text": [
      "          DateKey        Date\n",
      "count         730         730\n",
      "unique        730         730\n",
      "top     D20180226  2018-07-02\n",
      "freq            1           1\n"
     ]
    }
   ],
   "source": [
    "print(DateDF.describe())"
   ]
  },
  {
   "cell_type": "code",
   "execution_count": 19,
   "metadata": {},
   "outputs": [],
   "source": [
    "assessName = os.path.join(pathDL,'200-Structured-Zone', 'Time-Date.csv.gz')\n",
    "DateDF.to_csv(assessName, index=False, encoding='utf-8', compression='gzip')"
   ]
  },
  {
   "cell_type": "markdown",
   "metadata": {},
   "source": [
    "### Time - Time"
   ]
  },
  {
   "cell_type": "code",
   "execution_count": 20,
   "metadata": {},
   "outputs": [],
   "source": [
    "retrieveName = os.path.join(pathDL, '100-Raw-Zone', '13-02-Time-Time.csv.gz')\n",
    "DateDF=pd.read_csv(retrieveName, header=0, encoding='utf-8', compression='gzip')"
   ]
  },
  {
   "cell_type": "code",
   "execution_count": 21,
   "metadata": {},
   "outputs": [
    {
     "name": "stdout",
     "output_type": "stream",
     "text": [
      "(1440, 2)\n"
     ]
    }
   ],
   "source": [
    "print(DateDF.shape)"
   ]
  },
  {
   "cell_type": "code",
   "execution_count": 22,
   "metadata": {},
   "outputs": [
    {
     "name": "stdout",
     "output_type": "stream",
     "text": [
      "<class 'pandas.core.frame.DataFrame'>\n",
      "RangeIndex: 1440 entries, 0 to 1439\n",
      "Data columns (total 2 columns):\n",
      "TimeKey    1440 non-null object\n",
      "Time       1440 non-null object\n",
      "dtypes: object(2)\n",
      "memory usage: 22.6+ KB\n",
      "None\n"
     ]
    }
   ],
   "source": [
    "print(DateDF.info())"
   ]
  },
  {
   "cell_type": "code",
   "execution_count": 23,
   "metadata": {},
   "outputs": [
    {
     "name": "stdout",
     "output_type": "stream",
     "text": [
      "       TimeKey   Time\n",
      "count     1440   1440\n",
      "unique    1440   1440\n",
      "top      T1454  22:47\n",
      "freq         1      1\n"
     ]
    }
   ],
   "source": [
    "print(DateDF.describe())"
   ]
  },
  {
   "cell_type": "code",
   "execution_count": 24,
   "metadata": {},
   "outputs": [],
   "source": [
    "assessName = os.path.join(pathDL,'200-Structured-Zone', 'Time-Time.csv.gz')\n",
    "DateDF.to_csv(assessName, index=False, encoding='utf-8', compression='gzip')"
   ]
  },
  {
   "cell_type": "markdown",
   "metadata": {},
   "source": [
    "![Processor](../../images/Processor.JPG)"
   ]
  },
  {
   "cell_type": "markdown",
   "metadata": {},
   "source": [
    "# Process"
   ]
  },
  {
   "cell_type": "markdown",
   "metadata": {},
   "source": [
    "![RIF Functional Layer - Retrieve Step](../../images/RIF-FL-PRC.JPG) ![Raw Zone](../../images/DL-CUZ.JPG)"
   ]
  },
  {
   "cell_type": "markdown",
   "metadata": {},
   "source": [
    "![Data Lake Curated Zone](../../images/DV-Time.JPG)"
   ]
  },
  {
   "cell_type": "markdown",
   "metadata": {},
   "source": [
    "# Hub - Time"
   ]
  },
  {
   "cell_type": "code",
   "execution_count": 25,
   "metadata": {},
   "outputs": [],
   "source": [
    "retrieveName1 = os.path.join(pathDL, '100-Raw-Zone', '13-02-Time-Date.csv.gz')\n",
    "retrieveName2 = os.path.join(pathDL, '100-Raw-Zone', '13-02-Time-Time.csv.gz')"
   ]
  },
  {
   "cell_type": "code",
   "execution_count": 26,
   "metadata": {},
   "outputs": [],
   "source": [
    "Date1DF=pd.read_csv(retrieveName1, header=0, encoding='utf-8', compression='gzip')\n",
    "Date2DF=pd.read_csv(retrieveName2, header=0, encoding='utf-8', compression='gzip')"
   ]
  },
  {
   "cell_type": "code",
   "execution_count": 27,
   "metadata": {},
   "outputs": [
    {
     "name": "stdout",
     "output_type": "stream",
     "text": [
      "<class 'pandas.core.frame.DataFrame'>\n",
      "RangeIndex: 730 entries, 0 to 729\n",
      "Data columns (total 2 columns):\n",
      "DateKey    730 non-null object\n",
      "Date       730 non-null object\n",
      "dtypes: object(2)\n",
      "memory usage: 11.5+ KB\n",
      "None\n"
     ]
    }
   ],
   "source": [
    "print(Date1DF.info())"
   ]
  },
  {
   "cell_type": "code",
   "execution_count": 28,
   "metadata": {},
   "outputs": [
    {
     "name": "stdout",
     "output_type": "stream",
     "text": [
      "<class 'pandas.core.frame.DataFrame'>\n",
      "RangeIndex: 1440 entries, 0 to 1439\n",
      "Data columns (total 2 columns):\n",
      "TimeKey    1440 non-null object\n",
      "Time       1440 non-null object\n",
      "dtypes: object(2)\n",
      "memory usage: 22.6+ KB\n",
      "None\n"
     ]
    }
   ],
   "source": [
    "print(Date2DF.info())"
   ]
  },
  {
   "cell_type": "code",
   "execution_count": 29,
   "metadata": {},
   "outputs": [
    {
     "name": "stdout",
     "output_type": "stream",
     "text": [
      "<class 'pandas.core.frame.DataFrame'>\n",
      "Int64Index: 1051200 entries, 0 to 1051199\n",
      "Data columns (total 4 columns):\n",
      "DateKey    1051200 non-null object\n",
      "Date       1051200 non-null object\n",
      "TimeKey    1051200 non-null object\n",
      "Time       1051200 non-null object\n",
      "dtypes: object(4)\n",
      "memory usage: 40.1+ MB\n",
      "None\n"
     ]
    }
   ],
   "source": [
    "Date1DF['Key'] = 1\n",
    "Date2DF['Key'] = 1\n",
    "\n",
    "DateDF=Date1DF.merge(Date2DF, how='outer')\n",
    "DateDF.drop('Key',axis=1, inplace=True)\n",
    "#DateDF.set_index(['DateKey','TimeKey'], inplace=True)\n",
    "\n",
    "print(DateDF.info())"
   ]
  },
  {
   "cell_type": "code",
   "execution_count": 30,
   "metadata": {},
   "outputs": [
    {
     "name": "stdout",
     "output_type": "stream",
     "text": [
      "../../Results/Chapter 13/995-DL/300-Curated-Zone\\Hub\\Time\\Hub-Time.csv.gz\n"
     ]
    }
   ],
   "source": [
    "processName = os.path.join(pathDL,'300-Curated-Zone', 'Hub', 'Time', 'Hub-Time.csv.gz')\n",
    "DateDF.to_csv(processName, index=False, encoding='utf-8', compression='gzip')\n",
    "print(processName)"
   ]
  },
  {
   "cell_type": "markdown",
   "metadata": {},
   "source": [
    "# Time - Satellite"
   ]
  },
  {
   "cell_type": "code",
   "execution_count": 31,
   "metadata": {},
   "outputs": [],
   "source": [
    "TimeMax=DateDF.shape[0]\n",
    "TimeMax=5000\n",
    "for i in range(TimeMax):\n",
    "    d0 = str(DateDF['Date'][i] + ' ' + DateDF['Time'][i])\n",
    "    DateDF0 = datetime.datetime.strptime(d0,'%Y-%m-%d %H:%M')\n",
    "    DateDF1 = str(DateDF0)\n",
    "    fulldatetime=DateDF0.strftime('%Y-%m-%d %H:%M:%S')\n",
    "    yearweek = DateDF0.strftime('%Y-%W')\n",
    "    weekdaylong = DateDF0.strftime('%A')\n",
    "    weekdayshort = DateDF0.strftime('%a')\n",
    "    monthlong = DateDF0.strftime('%B')\n",
    "    monthshort = DateDF0.strftime('%b')\n",
    "    ampm = DateDF0.strftime('%p')\n",
    "    timezone = DateDF0.strftime('%Z')\n",
    "    year = DateDF0.strftime('%Y')\n",
    "    quarter = (int(DateDF0.strftime('%m')) % 4)\n",
    "    month = DateDF0.strftime('%m')\n",
    "    day = DateDF0.strftime('%d')\n",
    "    if i==0:    \n",
    "        s1=pd.DataFrame([[DateDF1,fulldatetime]])\n",
    "        s2=pd.DataFrame([[DateDF1,yearweek]])\n",
    "        s3=pd.DataFrame([[DateDF1,weekdaylong,weekdayshort]])\n",
    "        s4=pd.DataFrame([[DateDF1,monthlong,monthshort]])\n",
    "        s5=pd.DataFrame([[DateDF1,ampm]])\n",
    "        s6=pd.DataFrame([[DateDF1,timezone]])\n",
    "        s7=pd.DataFrame([[DateDF1,year]])\n",
    "        s8=pd.DataFrame([[DateDF1,month]])\n",
    "        s9=pd.DataFrame([[DateDF1,day]])\n",
    "        s10=pd.DataFrame([[DateDF1,quarter]])\n",
    "    else:      \n",
    "        s1a=pd.DataFrame([[DateDF1,fulldatetime]])\n",
    "        s2a=pd.DataFrame([[DateDF1,yearweek]])\n",
    "        s3a=pd.DataFrame([[DateDF1,weekdaylong,weekdayshort]])\n",
    "        s4a=pd.DataFrame([[DateDF1,monthlong,monthshort]])\n",
    "        s5a=pd.DataFrame([[DateDF1,ampm]])\n",
    "        s6a=pd.DataFrame([[DateDF1,timezone]])\n",
    "        s7a=pd.DataFrame([[DateDF1,year]])\n",
    "        s8a=pd.DataFrame([[DateDF1,month]])\n",
    "        s9a=pd.DataFrame([[DateDF1,day]])\n",
    "        s10a=pd.DataFrame([[DateDF1,quarter]])\n",
    "        s1=s1.append(s1a)\n",
    "        s2=s2.append(s2a)\n",
    "        s3=s3.append(s3a)\n",
    "        s4=s4.append(s4a)\n",
    "        s5=s5.append(s5a)\n",
    "        s6=s6.append(s6a)\n",
    "        s7=s7.append(s7a)\n",
    "        s8=s8.append(s8a)\n",
    "        s9=s9.append(s9a)\n",
    "        s10=s10.append(s10a)"
   ]
  },
  {
   "cell_type": "code",
   "execution_count": 32,
   "metadata": {},
   "outputs": [],
   "source": [
    "s1.columns = (['DateTime','FullDateTime'])\n",
    "s2.columns = (['DateTime','YearWeek'])\n",
    "s3.columns = (['DateTime','WeekDayLong','WeekDayShort'])\n",
    "s4.columns = (['DateTime','MonthDayLong','MonthDayShort'])\n",
    "s5.columns = (['DateTime','Am-PM'])\n",
    "s6.columns = (['DateTime','Time-Zone'])\n",
    "s7.columns = (['DateTime','Year'])\n",
    "s8.columns = (['DateTime','Month'])\n",
    "s9.columns = (['DateTime','Day'])\n",
    "s10.columns = (['DateTime','Quarter'])"
   ]
  },
  {
   "cell_type": "code",
   "execution_count": 33,
   "metadata": {},
   "outputs": [
    {
     "name": "stdout",
     "output_type": "stream",
     "text": [
      "(5000, 11)\n"
     ]
    }
   ],
   "source": [
    "s0=s1\n",
    "s0=s0.merge(s2, on='DateTime')\n",
    "s0=s0.merge(s3, on='DateTime')\n",
    "s0=s0.merge(s4, on='DateTime')\n",
    "s0=s0.merge(s5, on='DateTime')\n",
    "s0=s0.merge(s6, on='DateTime')\n",
    "s0=s0.merge(s7, on='DateTime')\n",
    "s0=s0.merge(s8, on='DateTime')\n",
    "print(s0.shape)"
   ]
  },
  {
   "cell_type": "code",
   "execution_count": 34,
   "metadata": {},
   "outputs": [
    {
     "name": "stdout",
     "output_type": "stream",
     "text": [
      "../../Results/Chapter 13/995-DL/300-Curated-Zone\\Satellite\\Hub\\Time\\Satellite-Hub-Time-00.csv.gz\n"
     ]
    }
   ],
   "source": [
    "DateDF=s0\n",
    "processName = os.path.join(pathDL,'300-Curated-Zone', 'Satellite', 'Hub', 'Time', 'Satellite-Hub-Time-00.csv.gz')\n",
    "DateDF.to_csv(processName, index=False, encoding='utf-8', compression='gzip')\n",
    "print(processName)"
   ]
  },
  {
   "cell_type": "code",
   "execution_count": 35,
   "metadata": {},
   "outputs": [
    {
     "name": "stdout",
     "output_type": "stream",
     "text": [
      "../../Results/Chapter 13/995-DL/300-Curated-Zone\\Satellite\\Hub\\Time\\Satellite-Hub-Time-01.csv.gz\n"
     ]
    }
   ],
   "source": [
    "DateDF=s1\n",
    "processName = os.path.join(pathDL,'300-Curated-Zone', 'Satellite', 'Hub', 'Time', 'Satellite-Hub-Time-01.csv.gz')\n",
    "DateDF.to_csv(processName, index=False, encoding='utf-8', compression='gzip')\n",
    "print(processName)"
   ]
  },
  {
   "cell_type": "code",
   "execution_count": 36,
   "metadata": {},
   "outputs": [
    {
     "name": "stdout",
     "output_type": "stream",
     "text": [
      "../../Results/Chapter 13/995-DL/300-Curated-Zone\\Satellite\\Hub\\Time\\Satellite-Hub-Time-02.csv.gz\n"
     ]
    }
   ],
   "source": [
    "DateDF=s2\n",
    "processName = os.path.join(pathDL,'300-Curated-Zone', 'Satellite', 'Hub', 'Time', 'Satellite-Hub-Time-02.csv.gz')\n",
    "DateDF.to_csv(processName, index=False, encoding='utf-8', compression='gzip')\n",
    "print(processName)"
   ]
  },
  {
   "cell_type": "code",
   "execution_count": 37,
   "metadata": {},
   "outputs": [
    {
     "name": "stdout",
     "output_type": "stream",
     "text": [
      "../../Results/Chapter 13/995-DL/300-Curated-Zone\\Satellite\\Hub\\Time\\Satellite-Hub-Time-03.csv.gz\n"
     ]
    }
   ],
   "source": [
    "DateDF=s3\n",
    "processName = os.path.join(pathDL,'300-Curated-Zone', 'Satellite', 'Hub', 'Time', 'Satellite-Hub-Time-03.csv.gz')\n",
    "DateDF.to_csv(processName, index=False, encoding='utf-8', compression='gzip')\n",
    "print(processName)"
   ]
  },
  {
   "cell_type": "code",
   "execution_count": 38,
   "metadata": {},
   "outputs": [
    {
     "name": "stdout",
     "output_type": "stream",
     "text": [
      "../../Results/Chapter 13/995-DL/300-Curated-Zone\\Satellite\\Hub\\Time\\Satellite-Hub-Time-04.csv.gz\n"
     ]
    }
   ],
   "source": [
    "DateDF=s4\n",
    "processName = os.path.join(pathDL,'300-Curated-Zone', 'Satellite', 'Hub', 'Time', 'Satellite-Hub-Time-04.csv.gz')\n",
    "DateDF.to_csv(processName, index=False, encoding='utf-8', compression='gzip')\n",
    "print(processName)"
   ]
  },
  {
   "cell_type": "code",
   "execution_count": 39,
   "metadata": {},
   "outputs": [
    {
     "name": "stdout",
     "output_type": "stream",
     "text": [
      "../../Results/Chapter 13/995-DL/300-Curated-Zone\\Satellite\\Hub\\Time\\Satellite-Hub-Time-05.csv.gz\n"
     ]
    }
   ],
   "source": [
    "DateDF=s5\n",
    "processName = os.path.join(pathDL,'300-Curated-Zone', 'Satellite', 'Hub', 'Time', 'Satellite-Hub-Time-05.csv.gz')\n",
    "DateDF.to_csv(processName, index=False, encoding='utf-8', compression='gzip')\n",
    "print(processName)"
   ]
  },
  {
   "cell_type": "code",
   "execution_count": 40,
   "metadata": {},
   "outputs": [
    {
     "name": "stdout",
     "output_type": "stream",
     "text": [
      "../../Results/Chapter 13/995-DL/300-Curated-Zone\\Satellite\\Hub\\Time\\Satellite-Hub-Time-06.csv.gz\n"
     ]
    }
   ],
   "source": [
    "DateDF=s6\n",
    "processName = os.path.join(pathDL,'300-Curated-Zone', 'Satellite', 'Hub', 'Time', 'Satellite-Hub-Time-06.csv.gz')\n",
    "DateDF.to_csv(processName, index=False, encoding='utf-8', compression='gzip')\n",
    "print(processName)"
   ]
  },
  {
   "cell_type": "code",
   "execution_count": 41,
   "metadata": {},
   "outputs": [
    {
     "name": "stdout",
     "output_type": "stream",
     "text": [
      "../../Results/Chapter 13/995-DL/300-Curated-Zone\\Satellite\\Hub\\Time\\Satellite-Hub-Time-07.csv.gz\n"
     ]
    }
   ],
   "source": [
    "DateDF=s7\n",
    "processName = os.path.join(pathDL,'300-Curated-Zone', 'Satellite', 'Hub', 'Time', 'Satellite-Hub-Time-07.csv.gz')\n",
    "DateDF.to_csv(processName, index=False, encoding='utf-8', compression='gzip')\n",
    "print(processName)"
   ]
  },
  {
   "cell_type": "code",
   "execution_count": 42,
   "metadata": {},
   "outputs": [
    {
     "name": "stdout",
     "output_type": "stream",
     "text": [
      "../../Results/Chapter 13/995-DL/300-Curated-Zone\\Satellite\\Hub\\Time\\Satellite-Hub-Time-08.csv.gz\n"
     ]
    }
   ],
   "source": [
    "DateDF=s8\n",
    "processName = os.path.join(pathDL,'300-Curated-Zone', 'Satellite', 'Hub', 'Time', 'Satellite-Hub-Time-08.csv.gz')\n",
    "DateDF.to_csv(processName, index=False, encoding='utf-8', compression='gzip')\n",
    "print(processName)"
   ]
  },
  {
   "cell_type": "code",
   "execution_count": 43,
   "metadata": {},
   "outputs": [
    {
     "name": "stdout",
     "output_type": "stream",
     "text": [
      "../../Results/Chapter 13/995-DL/300-Curated-Zone\\Satellite\\Hub\\Time\\Satellite-Hub-Time-09.csv.gz\n"
     ]
    }
   ],
   "source": [
    "DateDF=s9\n",
    "processName = os.path.join(pathDL,'300-Curated-Zone', 'Satellite', 'Hub', 'Time', 'Satellite-Hub-Time-09.csv.gz')\n",
    "DateDF.to_csv(processName, index=False, encoding='utf-8', compression='gzip')\n",
    "print(processName)"
   ]
  },
  {
   "cell_type": "code",
   "execution_count": 44,
   "metadata": {},
   "outputs": [
    {
     "name": "stdout",
     "output_type": "stream",
     "text": [
      "../../Results/Chapter 13/995-DL/300-Curated-Zone\\Satellite\\Hub\\Time\\Satellite-Hub-Time-10.csv.gz\n"
     ]
    }
   ],
   "source": [
    "DateDF=s10\n",
    "processName = os.path.join(pathDL,'300-Curated-Zone', 'Satellite', 'Hub', 'Time', 'Satellite-Hub-Time-10.csv.gz')\n",
    "DateDF.to_csv(processName, index=False, encoding='utf-8', compression='gzip')\n",
    "print(processName)"
   ]
  },
  {
   "cell_type": "markdown",
   "metadata": {},
   "source": [
    "# Results"
   ]
  },
  {
   "cell_type": "markdown",
   "metadata": {},
   "source": [
    "![Raw Zone](../../images/DL-RZ.JPG)"
   ]
  },
  {
   "cell_type": "code",
   "execution_count": 45,
   "metadata": {},
   "outputs": [
    {
     "name": "stdout",
     "output_type": "stream",
     "text": [
      "../../Results/Chapter 13/995-DL/100-Raw-Zone/13-02-Time-Date.csv.gz\n",
      "../../Results/Chapter 13/995-DL/100-Raw-Zone/13-02-Time-Time.csv.gz\n",
      "../../Results/Chapter 13/995-DL/100-Raw-Zone/100-Kafka-Data\\01-Time\\Time-Date.csv\n",
      "../../Results/Chapter 13/995-DL/100-Raw-Zone/100-Kafka-Data\\01-Time\\Time-Time.csv\n",
      "../../Results/Chapter 13/995-DL/100-Raw-Zone/100-Kafka-Data\\02-Person\\Person.csv\n",
      "../../Results/Chapter 13/995-DL/100-Raw-Zone/100-Kafka-Data\\03-Object\\Object.csv.gz\n",
      "../../Results/Chapter 13/995-DL/100-Raw-Zone/100-Kafka-Data\\04-Location\\Location.csv.gz\n",
      "../../Results/Chapter 13/995-DL/100-Raw-Zone/100-Kafka-Data\\05-Event\\Event.csv.gz\n"
     ]
    }
   ],
   "source": [
    "pathReportname= '../../Results/Chapter 13/995-DL/100-Raw-Zone/'\n",
    "for root, dirs, files in os.walk(pathReportname, topdown=True):\n",
    "    for name in files:\n",
    "        print(os.path.join(root, name))"
   ]
  },
  {
   "cell_type": "markdown",
   "metadata": {},
   "source": [
    "![Raw Zone](../../images/DL-SZ.JPG)"
   ]
  },
  {
   "cell_type": "code",
   "execution_count": 46,
   "metadata": {},
   "outputs": [
    {
     "name": "stdout",
     "output_type": "stream",
     "text": [
      "../../Results/Chapter 13/995-DL/200-Structured-Zone/Time-Date.csv.gz\n",
      "../../Results/Chapter 13/995-DL/200-Structured-Zone/Time-Time.csv.gz\n"
     ]
    }
   ],
   "source": [
    "pathReportname= '../../Results/Chapter 13/995-DL/200-Structured-Zone/'\n",
    "for root, dirs, files in os.walk(pathReportname, topdown=True):\n",
    "    for name in files:\n",
    "        print(os.path.join(root, name))"
   ]
  },
  {
   "cell_type": "markdown",
   "metadata": {},
   "source": [
    "![Raw Zone](../../images/DL-CUZ.JPG)"
   ]
  },
  {
   "cell_type": "code",
   "execution_count": 47,
   "metadata": {},
   "outputs": [
    {
     "name": "stdout",
     "output_type": "stream",
     "text": [
      "../../Results/Chapter 13/995-DL/300-Curated-Zone/Hub/Time\\Hub-Time.csv.gz\n"
     ]
    }
   ],
   "source": [
    "pathReportname= '../../Results/Chapter 13/995-DL/300-Curated-Zone/Hub/'\n",
    "for root, dirs, files in os.walk(pathReportname, topdown=True):\n",
    "    for name in files:\n",
    "        print(os.path.join(root, name))"
   ]
  },
  {
   "cell_type": "code",
   "execution_count": 48,
   "metadata": {},
   "outputs": [
    {
     "name": "stdout",
     "output_type": "stream",
     "text": [
      "../../Results/Chapter 13/995-DL/300-Curated-Zone/Satellite/Hub/Time\\Satellite-Hub-Time-00.csv.gz\n",
      "../../Results/Chapter 13/995-DL/300-Curated-Zone/Satellite/Hub/Time\\Satellite-Hub-Time-01.csv.gz\n",
      "../../Results/Chapter 13/995-DL/300-Curated-Zone/Satellite/Hub/Time\\Satellite-Hub-Time-02.csv.gz\n",
      "../../Results/Chapter 13/995-DL/300-Curated-Zone/Satellite/Hub/Time\\Satellite-Hub-Time-03.csv.gz\n",
      "../../Results/Chapter 13/995-DL/300-Curated-Zone/Satellite/Hub/Time\\Satellite-Hub-Time-04.csv.gz\n",
      "../../Results/Chapter 13/995-DL/300-Curated-Zone/Satellite/Hub/Time\\Satellite-Hub-Time-05.csv.gz\n",
      "../../Results/Chapter 13/995-DL/300-Curated-Zone/Satellite/Hub/Time\\Satellite-Hub-Time-06.csv.gz\n",
      "../../Results/Chapter 13/995-DL/300-Curated-Zone/Satellite/Hub/Time\\Satellite-Hub-Time-07.csv.gz\n",
      "../../Results/Chapter 13/995-DL/300-Curated-Zone/Satellite/Hub/Time\\Satellite-Hub-Time-08.csv.gz\n",
      "../../Results/Chapter 13/995-DL/300-Curated-Zone/Satellite/Hub/Time\\Satellite-Hub-Time-09.csv.gz\n",
      "../../Results/Chapter 13/995-DL/300-Curated-Zone/Satellite/Hub/Time\\Satellite-Hub-Time-10.csv.gz\n"
     ]
    }
   ],
   "source": [
    "pathReportname= '../../Results/Chapter 13/995-DL/300-Curated-Zone/Satellite/Hub/Time'\n",
    "for root, dirs, files in os.walk(pathReportname, topdown=True):\n",
    "    for name in files:\n",
    "        print(os.path.join(root, name))"
   ]
  },
  {
   "cell_type": "markdown",
   "metadata": {},
   "source": [
    "![RIF Functional Layer - Transform Step](../../images/RIF-FL-TRF.JPG) ![Raw Zone](../../images/DL-CUZ.JPG)"
   ]
  },
  {
   "cell_type": "code",
   "execution_count": 49,
   "metadata": {},
   "outputs": [],
   "source": [
    "processName = os.path.join(pathDL, '300-Curated-Zone','Satellite','Hub','Time', 'Satellite-Hub-Time-00.csv.gz')"
   ]
  },
  {
   "cell_type": "code",
   "execution_count": 50,
   "metadata": {},
   "outputs": [],
   "source": [
    "DateDF=pd.read_csv(processName, header=0, encoding='utf-8', compression='gzip')"
   ]
  },
  {
   "cell_type": "code",
   "execution_count": 51,
   "metadata": {},
   "outputs": [
    {
     "name": "stdout",
     "output_type": "stream",
     "text": [
      "(5000, 11)\n"
     ]
    }
   ],
   "source": [
    "print(DateDF.shape)"
   ]
  },
  {
   "cell_type": "code",
   "execution_count": 52,
   "metadata": {},
   "outputs": [
    {
     "name": "stdout",
     "output_type": "stream",
     "text": [
      "       Time-Zone    Year   Month\n",
      "count        0.0  5000.0  5000.0\n",
      "mean         NaN  2017.0     1.0\n",
      "std          NaN     0.0     0.0\n",
      "min          NaN  2017.0     1.0\n",
      "25%          NaN  2017.0     1.0\n",
      "50%          NaN  2017.0     1.0\n",
      "75%          NaN  2017.0     1.0\n",
      "max          NaN  2017.0     1.0\n"
     ]
    }
   ],
   "source": [
    "print(DateDF.describe())"
   ]
  },
  {
   "cell_type": "code",
   "execution_count": 53,
   "metadata": {},
   "outputs": [
    {
     "name": "stdout",
     "output_type": "stream",
     "text": [
      "<class 'pandas.core.frame.DataFrame'>\n",
      "RangeIndex: 5000 entries, 0 to 4999\n",
      "Data columns (total 11 columns):\n",
      "DateTime         5000 non-null object\n",
      "FullDateTime     5000 non-null object\n",
      "YearWeek         5000 non-null object\n",
      "WeekDayLong      5000 non-null object\n",
      "WeekDayShort     5000 non-null object\n",
      "MonthDayLong     5000 non-null object\n",
      "MonthDayShort    5000 non-null object\n",
      "Am-PM            5000 non-null object\n",
      "Time-Zone        0 non-null float64\n",
      "Year             5000 non-null int64\n",
      "Month            5000 non-null int64\n",
      "dtypes: float64(1), int64(2), object(8)\n",
      "memory usage: 429.8+ KB\n",
      "None\n"
     ]
    }
   ],
   "source": [
    "print(DateDF.info())"
   ]
  },
  {
   "cell_type": "code",
   "execution_count": 56,
   "metadata": {},
   "outputs": [],
   "source": [
    "#!conda install -c conda-forge pandas-profiling -y"
   ]
  },
  {
   "cell_type": "code",
   "execution_count": 57,
   "metadata": {},
   "outputs": [],
   "source": [
    "import pandas_profiling as pdp"
   ]
  },
  {
   "cell_type": "code",
   "execution_count": 58,
   "metadata": {},
   "outputs": [],
   "source": [
    "profile=pdp.ProfileReport(DateDF)"
   ]
  },
  {
   "cell_type": "code",
   "execution_count": 59,
   "metadata": {},
   "outputs": [
    {
     "data": {
      "application/javascript": [
       "IPython.OutputArea.auto_scroll_threshold = 9999;\n"
      ],
      "text/plain": [
       "<IPython.core.display.Javascript object>"
      ]
     },
     "metadata": {},
     "output_type": "display_data"
    }
   ],
   "source": [
    "%%javascript\n",
    "IPython.OutputArea.auto_scroll_threshold = 9999;"
   ]
  },
  {
   "cell_type": "code",
   "execution_count": 60,
   "metadata": {},
   "outputs": [
    {
     "data": {
      "text/html": [
       "<meta charset=\"UTF-8\">\n",
       "\n",
       "<style>\n",
       "\n",
       "        .variablerow {\n",
       "            border: 1px solid #e1e1e8;\n",
       "            border-top: hidden;\n",
       "            padding-top: 2em;\n",
       "            padding-bottom: 2em;\n",
       "            padding-left: 1em;\n",
       "            padding-right: 1em;\n",
       "        }\n",
       "\n",
       "        .headerrow {\n",
       "            border: 1px solid #e1e1e8;\n",
       "            background-color: #f5f5f5;\n",
       "            padding: 2em;\n",
       "        }\n",
       "        .namecol {\n",
       "            margin-top: -1em;\n",
       "            overflow-x: auto;\n",
       "        }\n",
       "\n",
       "        .dl-horizontal dt {\n",
       "            text-align: left;\n",
       "            padding-right: 1em;\n",
       "            white-space: normal;\n",
       "        }\n",
       "\n",
       "        .dl-horizontal dd {\n",
       "            margin-left: 0;\n",
       "        }\n",
       "\n",
       "        .ignore {\n",
       "            opacity: 0.4;\n",
       "        }\n",
       "\n",
       "        .container.pandas-profiling {\n",
       "            max-width:975px;\n",
       "        }\n",
       "\n",
       "        .col-md-12 {\n",
       "            padding-left: 2em;\n",
       "        }\n",
       "\n",
       "        .indent {\n",
       "            margin-left: 1em;\n",
       "        }\n",
       "\n",
       "        .center-img {\n",
       "            margin-left: auto !important;\n",
       "            margin-right: auto !important;\n",
       "            display: block;\n",
       "        }\n",
       "\n",
       "        /* Table example_values */\n",
       "            table.example_values {\n",
       "                border: 0;\n",
       "            }\n",
       "\n",
       "            .example_values th {\n",
       "                border: 0;\n",
       "                padding: 0 ;\n",
       "                color: #555;\n",
       "                font-weight: 600;\n",
       "            }\n",
       "\n",
       "            .example_values tr, .example_values td{\n",
       "                border: 0;\n",
       "                padding: 0;\n",
       "                color: #555;\n",
       "            }\n",
       "\n",
       "        /* STATS */\n",
       "            table.stats {\n",
       "                border: 0;\n",
       "            }\n",
       "\n",
       "            .stats th {\n",
       "                border: 0;\n",
       "                padding: 0 2em 0 0;\n",
       "                color: #555;\n",
       "                font-weight: 600;\n",
       "            }\n",
       "\n",
       "            .stats tr {\n",
       "                border: 0;\n",
       "            }\n",
       "\n",
       "            .stats td{\n",
       "                color: #555;\n",
       "                padding: 1px;\n",
       "                border: 0;\n",
       "            }\n",
       "\n",
       "\n",
       "        /* Sample table */\n",
       "            table.sample {\n",
       "                border: 0;\n",
       "                margin-bottom: 2em;\n",
       "                margin-left:1em;\n",
       "            }\n",
       "            .sample tr {\n",
       "                border:0;\n",
       "            }\n",
       "            .sample td, .sample th{\n",
       "                padding: 0.5em;\n",
       "                white-space: nowrap;\n",
       "                border: none;\n",
       "\n",
       "            }\n",
       "\n",
       "            .sample thead {\n",
       "                border-top: 0;\n",
       "                border-bottom: 2px solid #ddd;\n",
       "            }\n",
       "\n",
       "            .sample td {\n",
       "                width:100%;\n",
       "            }\n",
       "\n",
       "\n",
       "        /* There is no good solution available to make the divs equal height and then center ... */\n",
       "            .histogram {\n",
       "                margin-top: 3em;\n",
       "            }\n",
       "        /* Freq table */\n",
       "\n",
       "            table.freq {\n",
       "                margin-bottom: 2em;\n",
       "                border: 0;\n",
       "            }\n",
       "            table.freq th, table.freq tr, table.freq td {\n",
       "                border: 0;\n",
       "                padding: 0;\n",
       "            }\n",
       "\n",
       "            .freq thead {\n",
       "                font-weight: 600;\n",
       "                white-space: nowrap;\n",
       "                overflow: hidden;\n",
       "                text-overflow: ellipsis;\n",
       "\n",
       "            }\n",
       "\n",
       "            td.fillremaining{\n",
       "                width:auto;\n",
       "                max-width: none;\n",
       "            }\n",
       "\n",
       "            td.number, th.number {\n",
       "                text-align:right ;\n",
       "            }\n",
       "\n",
       "        /* Freq mini */\n",
       "            .freq.mini td{\n",
       "                width: 50%;\n",
       "                padding: 1px;\n",
       "                font-size: 12px;\n",
       "\n",
       "            }\n",
       "            table.freq.mini {\n",
       "                 width:100%;\n",
       "            }\n",
       "            .freq.mini th {\n",
       "                overflow: hidden;\n",
       "                text-overflow: ellipsis;\n",
       "                white-space: nowrap;\n",
       "                max-width: 5em;\n",
       "                font-weight: 400;\n",
       "                text-align:right;\n",
       "                padding-right: 0.5em;\n",
       "            }\n",
       "\n",
       "            .missing {\n",
       "                color: #a94442;\n",
       "            }\n",
       "            .alert, .alert > th, .alert > td {\n",
       "                color: #a94442;\n",
       "            }\n",
       "\n",
       "\n",
       "        /* Bars in tables */\n",
       "            .freq .bar{\n",
       "                float: left;\n",
       "                width: 0;\n",
       "                height: 100%;\n",
       "                line-height: 20px;\n",
       "                color: #fff;\n",
       "                text-align: center;\n",
       "                background-color: #337ab7;\n",
       "                border-radius: 3px;\n",
       "                margin-right: 4px;\n",
       "            }\n",
       "            .other .bar {\n",
       "                background-color: #999;\n",
       "            }\n",
       "            .missing .bar{\n",
       "                background-color: #a94442;\n",
       "            }\n",
       "            .tooltip-inner {\n",
       "                width: 100%;\n",
       "                white-space: nowrap;\n",
       "                text-align:left;\n",
       "            }\n",
       "\n",
       "            .extrapadding{\n",
       "                padding: 2em;\n",
       "            }\n",
       "\n",
       "            .pp-anchor{\n",
       "\n",
       "            }\n",
       "\n",
       "</style>\n",
       "\n",
       "<div class=\"container pandas-profiling\">\n",
       "    <div class=\"row headerrow highlight\">\n",
       "        <h1>Overview</h1>\n",
       "    </div>\n",
       "    <div class=\"row variablerow\">\n",
       "    <div class=\"col-md-6 namecol\">\n",
       "        <p class=\"h4\">Dataset info</p>\n",
       "        <table class=\"stats\" style=\"margin-left: 1em;\">\n",
       "            <tbody>\n",
       "            <tr>\n",
       "                <th>Number of variables</th>\n",
       "                <td>11 </td>\n",
       "            </tr>\n",
       "            <tr>\n",
       "                <th>Number of observations</th>\n",
       "                <td>5000 </td>\n",
       "            </tr>\n",
       "            <tr>\n",
       "                <th>Total Missing (%)</th>\n",
       "                <td>9.1% </td>\n",
       "            </tr>\n",
       "            <tr>\n",
       "                <th>Total size in memory</th>\n",
       "                <td>429.8 KiB </td>\n",
       "            </tr>\n",
       "            <tr>\n",
       "                <th>Average record size in memory</th>\n",
       "                <td>88.0 B </td>\n",
       "            </tr>\n",
       "            </tbody>\n",
       "        </table>\n",
       "    </div>\n",
       "    <div class=\"col-md-6 namecol\">\n",
       "        <p class=\"h4\">Variables types</p>\n",
       "        <table class=\"stats\" style=\"margin-left: 1em;\">\n",
       "            <tbody>\n",
       "            <tr>\n",
       "                <th>Numeric</th>\n",
       "                <td>0 </td>\n",
       "            </tr>\n",
       "            <tr>\n",
       "                <th>Categorical</th>\n",
       "                <td>4 </td>\n",
       "            </tr>\n",
       "            <tr>\n",
       "                <th>Boolean</th>\n",
       "                <td>0 </td>\n",
       "            </tr>\n",
       "            <tr>\n",
       "                <th>Date</th>\n",
       "                <td>0 </td>\n",
       "            </tr>\n",
       "            <tr>\n",
       "                <th>Text (Unique)</th>\n",
       "                <td>2 </td>\n",
       "            </tr>\n",
       "            <tr>\n",
       "                <th>Rejected</th>\n",
       "                <td>5 </td>\n",
       "            </tr>\n",
       "            <tr>\n",
       "                <th>Unsupported</th>\n",
       "                <td>0 </td>\n",
       "            </tr>\n",
       "            </tbody>\n",
       "        </table>\n",
       "    </div>\n",
       "    <div class=\"col-md-12\" style=\"padding-left: 1em;\">\n",
       "        \n",
       "        <p class=\"h4\">Warnings</p>\n",
       "        <ul class=\"list-unstyled\"><li><a href=\"#pp_var_Month\"><code>Month</code></a> has constant value 1 <span class=\"label label-primary\">Rejected</span></li><li><a href=\"#pp_var_MonthDayLong\"><code>MonthDayLong</code></a> has constant value January <span class=\"label label-primary\">Rejected</span></li><li><a href=\"#pp_var_MonthDayShort\"><code>MonthDayShort</code></a> has constant value Jan <span class=\"label label-primary\">Rejected</span></li><li><a href=\"#pp_var_Time-Zone\"><code>Time-Zone</code></a> has 5000 / 100.0% missing values <span class=\"label label-default\">Missing</span></li><li><a href=\"#pp_var_Time-Zone\"><code>Time-Zone</code></a> has constant value  <span class=\"label label-primary\">Rejected</span></li><li><a href=\"#pp_var_Year\"><code>Year</code></a> has constant value 2017 <span class=\"label label-primary\">Rejected</span></li> </ul>\n",
       "    </div>\n",
       "</div>\n",
       "    <div class=\"row headerrow highlight\">\n",
       "        <h1>Variables</h1>\n",
       "    </div>\n",
       "    <div class=\"row variablerow\">\n",
       "    <div class=\"col-md-3 namecol\">\n",
       "        <p class=\"h4 pp-anchor\" id=\"pp_var_Am-PM\">Am-PM<br/>\n",
       "            <small>Categorical</small>\n",
       "        </p>\n",
       "    </div><div class=\"col-md-3\">\n",
       "    <table class=\"stats \">\n",
       "        <tr class=\"\">\n",
       "            <th>Distinct count</th>\n",
       "            <td>2</td>\n",
       "        </tr>\n",
       "        <tr>\n",
       "            <th>Unique (%)</th>\n",
       "            <td>0.0%</td>\n",
       "        </tr>\n",
       "        <tr class=\"ignore\">\n",
       "            <th>Missing (%)</th>\n",
       "            <td>0.0%</td>\n",
       "        </tr>\n",
       "        <tr class=\"ignore\">\n",
       "            <th>Missing (n)</th>\n",
       "            <td>0</td>\n",
       "        </tr>\n",
       "    </table>\n",
       "</div>\n",
       "<div class=\"col-md-6 collapse in\" id=\"minifreqtable8075839571016822159\">\n",
       "    <table class=\"mini freq\">\n",
       "        <tr class=\"\">\n",
       "    <th>AM</th>\n",
       "    <td>\n",
       "        <div class=\"bar\" style=\"width:100%\" data-toggle=\"tooltip\" data-placement=\"right\" data-html=\"true\"\n",
       "             data-delay=500 title=\"Percentage: 56.8%\">\n",
       "            2840\n",
       "        </div>\n",
       "        \n",
       "    </td>\n",
       "</tr><tr class=\"\">\n",
       "    <th>PM</th>\n",
       "    <td>\n",
       "        <div class=\"bar\" style=\"width:76%\" data-toggle=\"tooltip\" data-placement=\"right\" data-html=\"true\"\n",
       "             data-delay=500 title=\"Percentage: 43.2%\">\n",
       "            2160\n",
       "        </div>\n",
       "        \n",
       "    </td>\n",
       "</tr>\n",
       "    </table>\n",
       "</div>\n",
       "<div class=\"col-md-12 text-right\">\n",
       "    <a role=\"button\" data-toggle=\"collapse\" data-target=\"#freqtable8075839571016822159, #minifreqtable8075839571016822159\"\n",
       "       aria-expanded=\"true\" aria-controls=\"collapseExample\">\n",
       "        Toggle details\n",
       "    </a>\n",
       "</div>\n",
       "<div class=\"col-md-12 extrapadding collapse\" id=\"freqtable8075839571016822159\">\n",
       "    \n",
       "<table class=\"freq table table-hover\">\n",
       "    <thead>\n",
       "    <tr>\n",
       "        <td class=\"fillremaining\">Value</td>\n",
       "        <td class=\"number\">Count</td>\n",
       "        <td class=\"number\">Frequency (%)</td>\n",
       "        <td style=\"min-width:200px\">&nbsp;</td>\n",
       "    </tr>\n",
       "    </thead>\n",
       "    <tr class=\"\">\n",
       "        <td class=\"fillremaining\">AM</td>\n",
       "        <td class=\"number\">2840</td>\n",
       "        <td class=\"number\">56.8%</td>\n",
       "        <td>\n",
       "            <div class=\"bar\" style=\"width:100%\">&nbsp;</div>\n",
       "        </td>\n",
       "</tr><tr class=\"\">\n",
       "        <td class=\"fillremaining\">PM</td>\n",
       "        <td class=\"number\">2160</td>\n",
       "        <td class=\"number\">43.2%</td>\n",
       "        <td>\n",
       "            <div class=\"bar\" style=\"width:76%\">&nbsp;</div>\n",
       "        </td>\n",
       "</tr>\n",
       "</table>\n",
       "</div>\n",
       "</div><div class=\"row variablerow\">\n",
       "    <div class=\"col-md-3 namecol\">\n",
       "        <p class=\"h4 pp-anchor\" id=\"pp_var_DateTime\">DateTime<br/>\n",
       "            <small>Categorical, Unique</small>\n",
       "        </p>\n",
       "    </div><div class=\"col-md-3 collapse in\" id=\"minivalues6934441829459866153\"><table border=\"1\" class=\"dataframe example_values\">\n",
       "  <thead>\n",
       "    <tr style=\"text-align: right;\">\n",
       "      <th>First 3 values</th>\n",
       "    </tr>\n",
       "  </thead>\n",
       "  <tbody>\n",
       "  </tbody>\n",
       "</table></div>\n",
       "<div class=\"col-md-6 collapse in\" id=\"minivalues6934441829459866153\"><table border=\"1\" class=\"dataframe example_values\">\n",
       "  <thead>\n",
       "    <tr style=\"text-align: right;\">\n",
       "      <th>Last 3 values</th>\n",
       "    </tr>\n",
       "  </thead>\n",
       "  <tbody>\n",
       "  </tbody>\n",
       "</table></div>\n",
       "<div class=\"col-md-12 text-right\">\n",
       "    <a role=\"button\" data-toggle=\"collapse\" data-target=\"#values6934441829459866153,#minivalues6934441829459866153\" aria-expanded=\"false\"\n",
       "       aria-controls=\"collapseExample\">\n",
       "        Toggle details\n",
       "    </a>\n",
       "</div>\n",
       "<div class=\"col-md-12 collapse\" id=\"values6934441829459866153\">\n",
       "    <p class=\"h4\">First 10 values</p>\n",
       "    \n",
       "<table class=\"freq table table-hover\">\n",
       "    <thead>\n",
       "    <tr>\n",
       "        <td class=\"fillremaining\">Value</td>\n",
       "        <td class=\"number\">Count</td>\n",
       "        <td class=\"number\">Frequency (%)</td>\n",
       "        <td style=\"min-width:200px\">&nbsp;</td>\n",
       "    </tr>\n",
       "    </thead>\n",
       "    <tr class=\"\">\n",
       "        <td class=\"fillremaining\">2017-01-01 00:00:00</td>\n",
       "        <td class=\"number\">1</td>\n",
       "        <td class=\"number\">0.0%</td>\n",
       "        <td>\n",
       "            <div class=\"bar\" style=\"width:100%\">&nbsp;</div>\n",
       "        </td>\n",
       "</tr><tr class=\"\">\n",
       "        <td class=\"fillremaining\">2017-01-01 00:01:00</td>\n",
       "        <td class=\"number\">1</td>\n",
       "        <td class=\"number\">0.0%</td>\n",
       "        <td>\n",
       "            <div class=\"bar\" style=\"width:100%\">&nbsp;</div>\n",
       "        </td>\n",
       "</tr><tr class=\"\">\n",
       "        <td class=\"fillremaining\">2017-01-01 00:02:00</td>\n",
       "        <td class=\"number\">1</td>\n",
       "        <td class=\"number\">0.0%</td>\n",
       "        <td>\n",
       "            <div class=\"bar\" style=\"width:100%\">&nbsp;</div>\n",
       "        </td>\n",
       "</tr><tr class=\"\">\n",
       "        <td class=\"fillremaining\">2017-01-01 00:03:00</td>\n",
       "        <td class=\"number\">1</td>\n",
       "        <td class=\"number\">0.0%</td>\n",
       "        <td>\n",
       "            <div class=\"bar\" style=\"width:100%\">&nbsp;</div>\n",
       "        </td>\n",
       "</tr><tr class=\"\">\n",
       "        <td class=\"fillremaining\">2017-01-01 00:04:00</td>\n",
       "        <td class=\"number\">1</td>\n",
       "        <td class=\"number\">0.0%</td>\n",
       "        <td>\n",
       "            <div class=\"bar\" style=\"width:100%\">&nbsp;</div>\n",
       "        </td>\n",
       "</tr>\n",
       "</table>\n",
       "    <p class=\"h4\">Last 10 values</p>\n",
       "    \n",
       "<table class=\"freq table table-hover\">\n",
       "    <thead>\n",
       "    <tr>\n",
       "        <td class=\"fillremaining\">Value</td>\n",
       "        <td class=\"number\">Count</td>\n",
       "        <td class=\"number\">Frequency (%)</td>\n",
       "        <td style=\"min-width:200px\">&nbsp;</td>\n",
       "    </tr>\n",
       "    </thead>\n",
       "    <tr class=\"\">\n",
       "        <td class=\"fillremaining\">2017-01-04 11:15:00</td>\n",
       "        <td class=\"number\">1</td>\n",
       "        <td class=\"number\">0.0%</td>\n",
       "        <td>\n",
       "            <div class=\"bar\" style=\"width:100%\">&nbsp;</div>\n",
       "        </td>\n",
       "</tr><tr class=\"\">\n",
       "        <td class=\"fillremaining\">2017-01-04 11:16:00</td>\n",
       "        <td class=\"number\">1</td>\n",
       "        <td class=\"number\">0.0%</td>\n",
       "        <td>\n",
       "            <div class=\"bar\" style=\"width:100%\">&nbsp;</div>\n",
       "        </td>\n",
       "</tr><tr class=\"\">\n",
       "        <td class=\"fillremaining\">2017-01-04 11:17:00</td>\n",
       "        <td class=\"number\">1</td>\n",
       "        <td class=\"number\">0.0%</td>\n",
       "        <td>\n",
       "            <div class=\"bar\" style=\"width:100%\">&nbsp;</div>\n",
       "        </td>\n",
       "</tr><tr class=\"\">\n",
       "        <td class=\"fillremaining\">2017-01-04 11:18:00</td>\n",
       "        <td class=\"number\">1</td>\n",
       "        <td class=\"number\">0.0%</td>\n",
       "        <td>\n",
       "            <div class=\"bar\" style=\"width:100%\">&nbsp;</div>\n",
       "        </td>\n",
       "</tr><tr class=\"\">\n",
       "        <td class=\"fillremaining\">2017-01-04 11:19:00</td>\n",
       "        <td class=\"number\">1</td>\n",
       "        <td class=\"number\">0.0%</td>\n",
       "        <td>\n",
       "            <div class=\"bar\" style=\"width:100%\">&nbsp;</div>\n",
       "        </td>\n",
       "</tr>\n",
       "</table>\n",
       "</div>\n",
       "</div><div class=\"row variablerow\">\n",
       "    <div class=\"col-md-3 namecol\">\n",
       "        <p class=\"h4 pp-anchor\" id=\"pp_var_FullDateTime\">FullDateTime<br/>\n",
       "            <small>Categorical, Unique</small>\n",
       "        </p>\n",
       "    </div><div class=\"col-md-3 collapse in\" id=\"minivalues-2321598159436820732\"><table border=\"1\" class=\"dataframe example_values\">\n",
       "  <thead>\n",
       "    <tr style=\"text-align: right;\">\n",
       "      <th>First 3 values</th>\n",
       "    </tr>\n",
       "  </thead>\n",
       "  <tbody>\n",
       "  </tbody>\n",
       "</table></div>\n",
       "<div class=\"col-md-6 collapse in\" id=\"minivalues-2321598159436820732\"><table border=\"1\" class=\"dataframe example_values\">\n",
       "  <thead>\n",
       "    <tr style=\"text-align: right;\">\n",
       "      <th>Last 3 values</th>\n",
       "    </tr>\n",
       "  </thead>\n",
       "  <tbody>\n",
       "  </tbody>\n",
       "</table></div>\n",
       "<div class=\"col-md-12 text-right\">\n",
       "    <a role=\"button\" data-toggle=\"collapse\" data-target=\"#values-2321598159436820732,#minivalues-2321598159436820732\" aria-expanded=\"false\"\n",
       "       aria-controls=\"collapseExample\">\n",
       "        Toggle details\n",
       "    </a>\n",
       "</div>\n",
       "<div class=\"col-md-12 collapse\" id=\"values-2321598159436820732\">\n",
       "    <p class=\"h4\">First 10 values</p>\n",
       "    \n",
       "<table class=\"freq table table-hover\">\n",
       "    <thead>\n",
       "    <tr>\n",
       "        <td class=\"fillremaining\">Value</td>\n",
       "        <td class=\"number\">Count</td>\n",
       "        <td class=\"number\">Frequency (%)</td>\n",
       "        <td style=\"min-width:200px\">&nbsp;</td>\n",
       "    </tr>\n",
       "    </thead>\n",
       "    <tr class=\"\">\n",
       "        <td class=\"fillremaining\">2017-01-01 00:00:00</td>\n",
       "        <td class=\"number\">1</td>\n",
       "        <td class=\"number\">0.0%</td>\n",
       "        <td>\n",
       "            <div class=\"bar\" style=\"width:100%\">&nbsp;</div>\n",
       "        </td>\n",
       "</tr><tr class=\"\">\n",
       "        <td class=\"fillremaining\">2017-01-01 00:01:00</td>\n",
       "        <td class=\"number\">1</td>\n",
       "        <td class=\"number\">0.0%</td>\n",
       "        <td>\n",
       "            <div class=\"bar\" style=\"width:100%\">&nbsp;</div>\n",
       "        </td>\n",
       "</tr><tr class=\"\">\n",
       "        <td class=\"fillremaining\">2017-01-01 00:02:00</td>\n",
       "        <td class=\"number\">1</td>\n",
       "        <td class=\"number\">0.0%</td>\n",
       "        <td>\n",
       "            <div class=\"bar\" style=\"width:100%\">&nbsp;</div>\n",
       "        </td>\n",
       "</tr><tr class=\"\">\n",
       "        <td class=\"fillremaining\">2017-01-01 00:03:00</td>\n",
       "        <td class=\"number\">1</td>\n",
       "        <td class=\"number\">0.0%</td>\n",
       "        <td>\n",
       "            <div class=\"bar\" style=\"width:100%\">&nbsp;</div>\n",
       "        </td>\n",
       "</tr><tr class=\"\">\n",
       "        <td class=\"fillremaining\">2017-01-01 00:04:00</td>\n",
       "        <td class=\"number\">1</td>\n",
       "        <td class=\"number\">0.0%</td>\n",
       "        <td>\n",
       "            <div class=\"bar\" style=\"width:100%\">&nbsp;</div>\n",
       "        </td>\n",
       "</tr>\n",
       "</table>\n",
       "    <p class=\"h4\">Last 10 values</p>\n",
       "    \n",
       "<table class=\"freq table table-hover\">\n",
       "    <thead>\n",
       "    <tr>\n",
       "        <td class=\"fillremaining\">Value</td>\n",
       "        <td class=\"number\">Count</td>\n",
       "        <td class=\"number\">Frequency (%)</td>\n",
       "        <td style=\"min-width:200px\">&nbsp;</td>\n",
       "    </tr>\n",
       "    </thead>\n",
       "    <tr class=\"\">\n",
       "        <td class=\"fillremaining\">2017-01-04 11:15:00</td>\n",
       "        <td class=\"number\">1</td>\n",
       "        <td class=\"number\">0.0%</td>\n",
       "        <td>\n",
       "            <div class=\"bar\" style=\"width:100%\">&nbsp;</div>\n",
       "        </td>\n",
       "</tr><tr class=\"\">\n",
       "        <td class=\"fillremaining\">2017-01-04 11:16:00</td>\n",
       "        <td class=\"number\">1</td>\n",
       "        <td class=\"number\">0.0%</td>\n",
       "        <td>\n",
       "            <div class=\"bar\" style=\"width:100%\">&nbsp;</div>\n",
       "        </td>\n",
       "</tr><tr class=\"\">\n",
       "        <td class=\"fillremaining\">2017-01-04 11:17:00</td>\n",
       "        <td class=\"number\">1</td>\n",
       "        <td class=\"number\">0.0%</td>\n",
       "        <td>\n",
       "            <div class=\"bar\" style=\"width:100%\">&nbsp;</div>\n",
       "        </td>\n",
       "</tr><tr class=\"\">\n",
       "        <td class=\"fillremaining\">2017-01-04 11:18:00</td>\n",
       "        <td class=\"number\">1</td>\n",
       "        <td class=\"number\">0.0%</td>\n",
       "        <td>\n",
       "            <div class=\"bar\" style=\"width:100%\">&nbsp;</div>\n",
       "        </td>\n",
       "</tr><tr class=\"\">\n",
       "        <td class=\"fillremaining\">2017-01-04 11:19:00</td>\n",
       "        <td class=\"number\">1</td>\n",
       "        <td class=\"number\">0.0%</td>\n",
       "        <td>\n",
       "            <div class=\"bar\" style=\"width:100%\">&nbsp;</div>\n",
       "        </td>\n",
       "</tr>\n",
       "</table>\n",
       "</div>\n",
       "</div><div class=\"row variablerow ignore\">\n",
       "    <div class=\"col-md-3 namecol\">\n",
       "        <p class=\"h4 pp-anchor\" id=\"pp_var_Month\"><s>Month</s><br/>\n",
       "            <small>Constant</small>\n",
       "        </p>\n",
       "    </div><div class=\"col-md-3\">\n",
       "    <p><em>This variable is constant and should be ignored for analysis</em></p>\n",
       "</div>\n",
       "<div class=\"col-md-6\">\n",
       "    <table class=\"stats \">\n",
       "        <tr>\n",
       "            <th>Constant value</th>\n",
       "            <td>1</td>\n",
       "        </tr>\n",
       "    </table>\n",
       "</div>\n",
       "</div><div class=\"row variablerow ignore\">\n",
       "    <div class=\"col-md-3 namecol\">\n",
       "        <p class=\"h4 pp-anchor\" id=\"pp_var_MonthDayLong\"><s>MonthDayLong</s><br/>\n",
       "            <small>Constant</small>\n",
       "        </p>\n",
       "    </div><div class=\"col-md-3\">\n",
       "    <p><em>This variable is constant and should be ignored for analysis</em></p>\n",
       "</div>\n",
       "<div class=\"col-md-6\">\n",
       "    <table class=\"stats \">\n",
       "        <tr>\n",
       "            <th>Constant value</th>\n",
       "            <td>January</td>\n",
       "        </tr>\n",
       "    </table>\n",
       "</div>\n",
       "</div><div class=\"row variablerow ignore\">\n",
       "    <div class=\"col-md-3 namecol\">\n",
       "        <p class=\"h4 pp-anchor\" id=\"pp_var_MonthDayShort\"><s>MonthDayShort</s><br/>\n",
       "            <small>Constant</small>\n",
       "        </p>\n",
       "    </div><div class=\"col-md-3\">\n",
       "    <p><em>This variable is constant and should be ignored for analysis</em></p>\n",
       "</div>\n",
       "<div class=\"col-md-6\">\n",
       "    <table class=\"stats \">\n",
       "        <tr>\n",
       "            <th>Constant value</th>\n",
       "            <td>Jan</td>\n",
       "        </tr>\n",
       "    </table>\n",
       "</div>\n",
       "</div><div class=\"row variablerow ignore\">\n",
       "    <div class=\"col-md-3 namecol\">\n",
       "        <p class=\"h4 pp-anchor\" id=\"pp_var_Time-Zone\"><s>Time-Zone</s><br/>\n",
       "            <small>Constant</small>\n",
       "        </p>\n",
       "    </div><div class=\"col-md-3\">\n",
       "    <p><em>This variable is constant and should be ignored for analysis</em></p>\n",
       "</div>\n",
       "<div class=\"col-md-6\">\n",
       "    <table class=\"stats \">\n",
       "        <tr>\n",
       "            <th>Constant value</th>\n",
       "            <td></td>\n",
       "        </tr>\n",
       "    </table>\n",
       "</div>\n",
       "</div><div class=\"row variablerow\">\n",
       "    <div class=\"col-md-3 namecol\">\n",
       "        <p class=\"h4 pp-anchor\" id=\"pp_var_WeekDayLong\">WeekDayLong<br/>\n",
       "            <small>Categorical</small>\n",
       "        </p>\n",
       "    </div><div class=\"col-md-3\">\n",
       "    <table class=\"stats \">\n",
       "        <tr class=\"\">\n",
       "            <th>Distinct count</th>\n",
       "            <td>4</td>\n",
       "        </tr>\n",
       "        <tr>\n",
       "            <th>Unique (%)</th>\n",
       "            <td>0.1%</td>\n",
       "        </tr>\n",
       "        <tr class=\"ignore\">\n",
       "            <th>Missing (%)</th>\n",
       "            <td>0.0%</td>\n",
       "        </tr>\n",
       "        <tr class=\"ignore\">\n",
       "            <th>Missing (n)</th>\n",
       "            <td>0</td>\n",
       "        </tr>\n",
       "    </table>\n",
       "</div>\n",
       "<div class=\"col-md-6 collapse in\" id=\"minifreqtable7268951141989109093\">\n",
       "    <table class=\"mini freq\">\n",
       "        <tr class=\"\">\n",
       "    <th>Tuesday</th>\n",
       "    <td>\n",
       "        <div class=\"bar\" style=\"width:100%\" data-toggle=\"tooltip\" data-placement=\"right\" data-html=\"true\"\n",
       "             data-delay=500 title=\"Percentage: 28.8%\">\n",
       "            1440\n",
       "        </div>\n",
       "        \n",
       "    </td>\n",
       "</tr><tr class=\"\">\n",
       "    <th>Sunday</th>\n",
       "    <td>\n",
       "        <div class=\"bar\" style=\"width:100%\" data-toggle=\"tooltip\" data-placement=\"right\" data-html=\"true\"\n",
       "             data-delay=500 title=\"Percentage: 28.8%\">\n",
       "            1440\n",
       "        </div>\n",
       "        \n",
       "    </td>\n",
       "</tr><tr class=\"\">\n",
       "    <th>Monday</th>\n",
       "    <td>\n",
       "        <div class=\"bar\" style=\"width:100%\" data-toggle=\"tooltip\" data-placement=\"right\" data-html=\"true\"\n",
       "             data-delay=500 title=\"Percentage: 28.8%\">\n",
       "            1440\n",
       "        </div>\n",
       "        \n",
       "    </td>\n",
       "</tr>\n",
       "    </table>\n",
       "</div>\n",
       "<div class=\"col-md-12 text-right\">\n",
       "    <a role=\"button\" data-toggle=\"collapse\" data-target=\"#freqtable7268951141989109093, #minifreqtable7268951141989109093\"\n",
       "       aria-expanded=\"true\" aria-controls=\"collapseExample\">\n",
       "        Toggle details\n",
       "    </a>\n",
       "</div>\n",
       "<div class=\"col-md-12 extrapadding collapse\" id=\"freqtable7268951141989109093\">\n",
       "    \n",
       "<table class=\"freq table table-hover\">\n",
       "    <thead>\n",
       "    <tr>\n",
       "        <td class=\"fillremaining\">Value</td>\n",
       "        <td class=\"number\">Count</td>\n",
       "        <td class=\"number\">Frequency (%)</td>\n",
       "        <td style=\"min-width:200px\">&nbsp;</td>\n",
       "    </tr>\n",
       "    </thead>\n",
       "    <tr class=\"\">\n",
       "        <td class=\"fillremaining\">Tuesday</td>\n",
       "        <td class=\"number\">1440</td>\n",
       "        <td class=\"number\">28.8%</td>\n",
       "        <td>\n",
       "            <div class=\"bar\" style=\"width:100%\">&nbsp;</div>\n",
       "        </td>\n",
       "</tr><tr class=\"\">\n",
       "        <td class=\"fillremaining\">Sunday</td>\n",
       "        <td class=\"number\">1440</td>\n",
       "        <td class=\"number\">28.8%</td>\n",
       "        <td>\n",
       "            <div class=\"bar\" style=\"width:100%\">&nbsp;</div>\n",
       "        </td>\n",
       "</tr><tr class=\"\">\n",
       "        <td class=\"fillremaining\">Monday</td>\n",
       "        <td class=\"number\">1440</td>\n",
       "        <td class=\"number\">28.8%</td>\n",
       "        <td>\n",
       "            <div class=\"bar\" style=\"width:100%\">&nbsp;</div>\n",
       "        </td>\n",
       "</tr><tr class=\"\">\n",
       "        <td class=\"fillremaining\">Wednesday</td>\n",
       "        <td class=\"number\">680</td>\n",
       "        <td class=\"number\">13.6%</td>\n",
       "        <td>\n",
       "            <div class=\"bar\" style=\"width:47%\">&nbsp;</div>\n",
       "        </td>\n",
       "</tr>\n",
       "</table>\n",
       "</div>\n",
       "</div><div class=\"row variablerow\">\n",
       "    <div class=\"col-md-3 namecol\">\n",
       "        <p class=\"h4 pp-anchor\" id=\"pp_var_WeekDayShort\">WeekDayShort<br/>\n",
       "            <small>Categorical</small>\n",
       "        </p>\n",
       "    </div><div class=\"col-md-3\">\n",
       "    <table class=\"stats \">\n",
       "        <tr class=\"\">\n",
       "            <th>Distinct count</th>\n",
       "            <td>4</td>\n",
       "        </tr>\n",
       "        <tr>\n",
       "            <th>Unique (%)</th>\n",
       "            <td>0.1%</td>\n",
       "        </tr>\n",
       "        <tr class=\"ignore\">\n",
       "            <th>Missing (%)</th>\n",
       "            <td>0.0%</td>\n",
       "        </tr>\n",
       "        <tr class=\"ignore\">\n",
       "            <th>Missing (n)</th>\n",
       "            <td>0</td>\n",
       "        </tr>\n",
       "    </table>\n",
       "</div>\n",
       "<div class=\"col-md-6 collapse in\" id=\"minifreqtable-8046851228033732432\">\n",
       "    <table class=\"mini freq\">\n",
       "        <tr class=\"\">\n",
       "    <th>Mon</th>\n",
       "    <td>\n",
       "        <div class=\"bar\" style=\"width:100%\" data-toggle=\"tooltip\" data-placement=\"right\" data-html=\"true\"\n",
       "             data-delay=500 title=\"Percentage: 28.8%\">\n",
       "            1440\n",
       "        </div>\n",
       "        \n",
       "    </td>\n",
       "</tr><tr class=\"\">\n",
       "    <th>Sun</th>\n",
       "    <td>\n",
       "        <div class=\"bar\" style=\"width:100%\" data-toggle=\"tooltip\" data-placement=\"right\" data-html=\"true\"\n",
       "             data-delay=500 title=\"Percentage: 28.8%\">\n",
       "            1440\n",
       "        </div>\n",
       "        \n",
       "    </td>\n",
       "</tr><tr class=\"\">\n",
       "    <th>Tue</th>\n",
       "    <td>\n",
       "        <div class=\"bar\" style=\"width:100%\" data-toggle=\"tooltip\" data-placement=\"right\" data-html=\"true\"\n",
       "             data-delay=500 title=\"Percentage: 28.8%\">\n",
       "            1440\n",
       "        </div>\n",
       "        \n",
       "    </td>\n",
       "</tr>\n",
       "    </table>\n",
       "</div>\n",
       "<div class=\"col-md-12 text-right\">\n",
       "    <a role=\"button\" data-toggle=\"collapse\" data-target=\"#freqtable-8046851228033732432, #minifreqtable-8046851228033732432\"\n",
       "       aria-expanded=\"true\" aria-controls=\"collapseExample\">\n",
       "        Toggle details\n",
       "    </a>\n",
       "</div>\n",
       "<div class=\"col-md-12 extrapadding collapse\" id=\"freqtable-8046851228033732432\">\n",
       "    \n",
       "<table class=\"freq table table-hover\">\n",
       "    <thead>\n",
       "    <tr>\n",
       "        <td class=\"fillremaining\">Value</td>\n",
       "        <td class=\"number\">Count</td>\n",
       "        <td class=\"number\">Frequency (%)</td>\n",
       "        <td style=\"min-width:200px\">&nbsp;</td>\n",
       "    </tr>\n",
       "    </thead>\n",
       "    <tr class=\"\">\n",
       "        <td class=\"fillremaining\">Mon</td>\n",
       "        <td class=\"number\">1440</td>\n",
       "        <td class=\"number\">28.8%</td>\n",
       "        <td>\n",
       "            <div class=\"bar\" style=\"width:100%\">&nbsp;</div>\n",
       "        </td>\n",
       "</tr><tr class=\"\">\n",
       "        <td class=\"fillremaining\">Sun</td>\n",
       "        <td class=\"number\">1440</td>\n",
       "        <td class=\"number\">28.8%</td>\n",
       "        <td>\n",
       "            <div class=\"bar\" style=\"width:100%\">&nbsp;</div>\n",
       "        </td>\n",
       "</tr><tr class=\"\">\n",
       "        <td class=\"fillremaining\">Tue</td>\n",
       "        <td class=\"number\">1440</td>\n",
       "        <td class=\"number\">28.8%</td>\n",
       "        <td>\n",
       "            <div class=\"bar\" style=\"width:100%\">&nbsp;</div>\n",
       "        </td>\n",
       "</tr><tr class=\"\">\n",
       "        <td class=\"fillremaining\">Wed</td>\n",
       "        <td class=\"number\">680</td>\n",
       "        <td class=\"number\">13.6%</td>\n",
       "        <td>\n",
       "            <div class=\"bar\" style=\"width:47%\">&nbsp;</div>\n",
       "        </td>\n",
       "</tr>\n",
       "</table>\n",
       "</div>\n",
       "</div><div class=\"row variablerow ignore\">\n",
       "    <div class=\"col-md-3 namecol\">\n",
       "        <p class=\"h4 pp-anchor\" id=\"pp_var_Year\"><s>Year</s><br/>\n",
       "            <small>Constant</small>\n",
       "        </p>\n",
       "    </div><div class=\"col-md-3\">\n",
       "    <p><em>This variable is constant and should be ignored for analysis</em></p>\n",
       "</div>\n",
       "<div class=\"col-md-6\">\n",
       "    <table class=\"stats \">\n",
       "        <tr>\n",
       "            <th>Constant value</th>\n",
       "            <td>2017</td>\n",
       "        </tr>\n",
       "    </table>\n",
       "</div>\n",
       "</div><div class=\"row variablerow\">\n",
       "    <div class=\"col-md-3 namecol\">\n",
       "        <p class=\"h4 pp-anchor\" id=\"pp_var_YearWeek\">YearWeek<br/>\n",
       "            <small>Categorical</small>\n",
       "        </p>\n",
       "    </div><div class=\"col-md-3\">\n",
       "    <table class=\"stats \">\n",
       "        <tr class=\"\">\n",
       "            <th>Distinct count</th>\n",
       "            <td>2</td>\n",
       "        </tr>\n",
       "        <tr>\n",
       "            <th>Unique (%)</th>\n",
       "            <td>0.0%</td>\n",
       "        </tr>\n",
       "        <tr class=\"ignore\">\n",
       "            <th>Missing (%)</th>\n",
       "            <td>0.0%</td>\n",
       "        </tr>\n",
       "        <tr class=\"ignore\">\n",
       "            <th>Missing (n)</th>\n",
       "            <td>0</td>\n",
       "        </tr>\n",
       "    </table>\n",
       "</div>\n",
       "<div class=\"col-md-6 collapse in\" id=\"minifreqtable-4398756559253303008\">\n",
       "    <table class=\"mini freq\">\n",
       "        <tr class=\"\">\n",
       "    <th>2017-01</th>\n",
       "    <td>\n",
       "        <div class=\"bar\" style=\"width:100%\" data-toggle=\"tooltip\" data-placement=\"right\" data-html=\"true\"\n",
       "             data-delay=500 title=\"Percentage: 71.2%\">\n",
       "            3560\n",
       "        </div>\n",
       "        \n",
       "    </td>\n",
       "</tr><tr class=\"\">\n",
       "    <th>2017-00</th>\n",
       "    <td>\n",
       "        <div class=\"bar\" style=\"width:41%\" data-toggle=\"tooltip\" data-placement=\"right\" data-html=\"true\"\n",
       "             data-delay=500 title=\"Percentage: 28.8%\">\n",
       "            1440\n",
       "        </div>\n",
       "        \n",
       "    </td>\n",
       "</tr>\n",
       "    </table>\n",
       "</div>\n",
       "<div class=\"col-md-12 text-right\">\n",
       "    <a role=\"button\" data-toggle=\"collapse\" data-target=\"#freqtable-4398756559253303008, #minifreqtable-4398756559253303008\"\n",
       "       aria-expanded=\"true\" aria-controls=\"collapseExample\">\n",
       "        Toggle details\n",
       "    </a>\n",
       "</div>\n",
       "<div class=\"col-md-12 extrapadding collapse\" id=\"freqtable-4398756559253303008\">\n",
       "    \n",
       "<table class=\"freq table table-hover\">\n",
       "    <thead>\n",
       "    <tr>\n",
       "        <td class=\"fillremaining\">Value</td>\n",
       "        <td class=\"number\">Count</td>\n",
       "        <td class=\"number\">Frequency (%)</td>\n",
       "        <td style=\"min-width:200px\">&nbsp;</td>\n",
       "    </tr>\n",
       "    </thead>\n",
       "    <tr class=\"\">\n",
       "        <td class=\"fillremaining\">2017-01</td>\n",
       "        <td class=\"number\">3560</td>\n",
       "        <td class=\"number\">71.2%</td>\n",
       "        <td>\n",
       "            <div class=\"bar\" style=\"width:100%\">&nbsp;</div>\n",
       "        </td>\n",
       "</tr><tr class=\"\">\n",
       "        <td class=\"fillremaining\">2017-00</td>\n",
       "        <td class=\"number\">1440</td>\n",
       "        <td class=\"number\">28.8%</td>\n",
       "        <td>\n",
       "            <div class=\"bar\" style=\"width:41%\">&nbsp;</div>\n",
       "        </td>\n",
       "</tr>\n",
       "</table>\n",
       "</div>\n",
       "</div>\n",
       "    <div class=\"row headerrow highlight\">\n",
       "        <h1>Correlations</h1>\n",
       "    </div>\n",
       "    \n",
       "    <div class=\"row headerrow highlight\">\n",
       "        <h1>Sample</h1>\n",
       "    </div>\n",
       "    <div class=\"row variablerow\">\n",
       "    <div class=\"col-md-12\" style=\"overflow:scroll; width: 100%%; overflow-y: hidden;\">\n",
       "        <table border=\"1\" class=\"dataframe sample\">\n",
       "  <thead>\n",
       "    <tr style=\"text-align: right;\">\n",
       "      <th></th>\n",
       "      <th>DateTime</th>\n",
       "      <th>FullDateTime</th>\n",
       "      <th>YearWeek</th>\n",
       "      <th>WeekDayLong</th>\n",
       "      <th>WeekDayShort</th>\n",
       "      <th>MonthDayLong</th>\n",
       "      <th>MonthDayShort</th>\n",
       "      <th>Am-PM</th>\n",
       "      <th>Time-Zone</th>\n",
       "      <th>Year</th>\n",
       "      <th>Month</th>\n",
       "    </tr>\n",
       "  </thead>\n",
       "  <tbody>\n",
       "    <tr>\n",
       "      <th>0</th>\n",
       "      <td>2017-01-01 00:00:00</td>\n",
       "      <td>2017-01-01 00:00:00</td>\n",
       "      <td>2017-00</td>\n",
       "      <td>Sunday</td>\n",
       "      <td>Sun</td>\n",
       "      <td>January</td>\n",
       "      <td>Jan</td>\n",
       "      <td>AM</td>\n",
       "      <td>NaN</td>\n",
       "      <td>2017</td>\n",
       "      <td>1</td>\n",
       "    </tr>\n",
       "    <tr>\n",
       "      <th>1</th>\n",
       "      <td>2017-01-01 00:01:00</td>\n",
       "      <td>2017-01-01 00:01:00</td>\n",
       "      <td>2017-00</td>\n",
       "      <td>Sunday</td>\n",
       "      <td>Sun</td>\n",
       "      <td>January</td>\n",
       "      <td>Jan</td>\n",
       "      <td>AM</td>\n",
       "      <td>NaN</td>\n",
       "      <td>2017</td>\n",
       "      <td>1</td>\n",
       "    </tr>\n",
       "    <tr>\n",
       "      <th>2</th>\n",
       "      <td>2017-01-01 00:02:00</td>\n",
       "      <td>2017-01-01 00:02:00</td>\n",
       "      <td>2017-00</td>\n",
       "      <td>Sunday</td>\n",
       "      <td>Sun</td>\n",
       "      <td>January</td>\n",
       "      <td>Jan</td>\n",
       "      <td>AM</td>\n",
       "      <td>NaN</td>\n",
       "      <td>2017</td>\n",
       "      <td>1</td>\n",
       "    </tr>\n",
       "    <tr>\n",
       "      <th>3</th>\n",
       "      <td>2017-01-01 00:03:00</td>\n",
       "      <td>2017-01-01 00:03:00</td>\n",
       "      <td>2017-00</td>\n",
       "      <td>Sunday</td>\n",
       "      <td>Sun</td>\n",
       "      <td>January</td>\n",
       "      <td>Jan</td>\n",
       "      <td>AM</td>\n",
       "      <td>NaN</td>\n",
       "      <td>2017</td>\n",
       "      <td>1</td>\n",
       "    </tr>\n",
       "    <tr>\n",
       "      <th>4</th>\n",
       "      <td>2017-01-01 00:04:00</td>\n",
       "      <td>2017-01-01 00:04:00</td>\n",
       "      <td>2017-00</td>\n",
       "      <td>Sunday</td>\n",
       "      <td>Sun</td>\n",
       "      <td>January</td>\n",
       "      <td>Jan</td>\n",
       "      <td>AM</td>\n",
       "      <td>NaN</td>\n",
       "      <td>2017</td>\n",
       "      <td>1</td>\n",
       "    </tr>\n",
       "  </tbody>\n",
       "</table>\n",
       "    </div>\n",
       "</div>\n",
       "</div>"
      ],
      "text/plain": [
       "<pandas_profiling.ProfileReport at 0x2c1cfda4f60>"
      ]
     },
     "execution_count": 60,
     "metadata": {},
     "output_type": "execute_result"
    }
   ],
   "source": [
    "profile"
   ]
  },
  {
   "cell_type": "markdown",
   "metadata": {},
   "source": [
    "![RIF Functional Layer - Organize Step](../../images/RIF-FL-ORG.JPG) ![Raw Zone](../../images/DL-CUZ.JPG)"
   ]
  },
  {
   "cell_type": "code",
   "execution_count": 61,
   "metadata": {},
   "outputs": [],
   "source": [
    "wwwfile= os.path.join(pathDL, '300-Curated-Zone','Satellite','Hub','Time', 'Satellite-Hub-Time-00.html')\n",
    "profile.to_file(outputfile=wwwfile)"
   ]
  },
  {
   "cell_type": "markdown",
   "metadata": {},
   "source": [
    "![RIF Functional Layer - Report Step](../../images/RIF-FL-RPT.JPG) ![Curated Zone](../../images/DL-CUZ.JPG)"
   ]
  },
  {
   "cell_type": "code",
   "execution_count": 62,
   "metadata": {},
   "outputs": [],
   "source": [
    "import webbrowser\n",
    "import os"
   ]
  },
  {
   "cell_type": "code",
   "execution_count": 63,
   "metadata": {},
   "outputs": [
    {
     "name": "stdout",
     "output_type": "stream",
     "text": [
      "C:\\Users\\AndreVermeulen\\Documents\\My Book\\apress\\Industrialized Machine Learning\\book\\IML\\Results\\Chapter 13\\995-DL\\300-Curated-Zone\\Satellite\\Hub\\Time\\Satellite-Hub-Time-00.html\n"
     ]
    }
   ],
   "source": [
    "wwwRealfile=os.path.realpath(wwwfile)\n",
    "print(wwwRealfile)"
   ]
  },
  {
   "cell_type": "code",
   "execution_count": 64,
   "metadata": {},
   "outputs": [
    {
     "data": {
      "text/plain": [
       "True"
      ]
     },
     "execution_count": 64,
     "metadata": {},
     "output_type": "execute_result"
    }
   ],
   "source": [
    "webbrowser.open_new_tab(wwwRealfile)"
   ]
  },
  {
   "cell_type": "markdown",
   "metadata": {},
   "source": [
    "# Process Done"
   ]
  },
  {
   "cell_type": "code",
   "execution_count": 65,
   "metadata": {},
   "outputs": [
    {
     "name": "stdout",
     "output_type": "stream",
     "text": [
      "Start: 2019-05-01 18:30:57\n",
      "Stop:  2019-05-01 19:00:22\n",
      "Time:  0:29:25.301137\n"
     ]
    }
   ],
   "source": [
    "nowStop = datetime.datetime.now()\n",
    "runTime=nowStop-nowStart\n",
    "print('Start:', nowStart.strftime('%Y-%m-%d %H:%M:%S'))\n",
    "print('Stop: ', nowStop.strftime('%Y-%m-%d %H:%M:%S'))\n",
    "print('Time: ', runTime)"
   ]
  },
  {
   "cell_type": "code",
   "execution_count": null,
   "metadata": {},
   "outputs": [],
   "source": []
  },
  {
   "cell_type": "code",
   "execution_count": null,
   "metadata": {},
   "outputs": [],
   "source": []
  }
 ],
 "metadata": {
  "kernelspec": {
   "display_name": "Python 3",
   "language": "python",
   "name": "python3"
  },
  "language_info": {
   "codemirror_mode": {
    "name": "ipython",
    "version": 3
   },
   "file_extension": ".py",
   "mimetype": "text/x-python",
   "name": "python",
   "nbconvert_exporter": "python",
   "pygments_lexer": "ipython3",
   "version": "3.7.1"
  }
 },
 "nbformat": 4,
 "nbformat_minor": 2
}
