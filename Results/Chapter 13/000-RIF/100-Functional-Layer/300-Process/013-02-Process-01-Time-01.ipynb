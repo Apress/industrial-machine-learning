{
 "cells": [
  {
   "cell_type": "markdown",
   "metadata": {},
   "source": [
    "## Apress - Industrialized Machine Learning Examples\n",
    "\n",
    "Andreas Francois Vermeulen\n",
    "2019\n",
    "\n",
    "### This is an example add-on to a book and needs to be accepted as part of that copyright."
   ]
  },
  {
   "cell_type": "markdown",
   "metadata": {},
   "source": [
    "# 13-02-Process-01-Time-01"
   ]
  },
  {
   "cell_type": "code",
   "execution_count": 1,
   "metadata": {},
   "outputs": [],
   "source": [
    "import datetime\n",
    "nowStart = datetime.datetime.now()"
   ]
  },
  {
   "cell_type": "markdown",
   "metadata": {},
   "source": [
    "![RIF Functional Layer - Process Step](../../../../../images/DV-Time.JPG)"
   ]
  },
  {
   "cell_type": "markdown",
   "metadata": {},
   "source": [
    "![RIF Functional Layer - Process Step](../../../../../images/RIF-FL-PRC.JPG)"
   ]
  },
  {
   "cell_type": "code",
   "execution_count": 2,
   "metadata": {},
   "outputs": [],
   "source": [
    "import pandas as pd\n",
    "import os"
   ]
  },
  {
   "cell_type": "code",
   "execution_count": 3,
   "metadata": {},
   "outputs": [
    {
     "name": "stdout",
     "output_type": "stream",
     "text": [
      "C:\\Users\\AndreVermeulen\\Documents\\My Book\\apress\\Industrial Machine Learning\\book\\GitHub\\Upload\\industrial-machine-learning\\Code\\Chapter 013\n",
      "C:\\Users\\AndreVermeulen\\Documents\\My Book\\apress\\Industrial Machine Learning\\book\\GitHub\\Upload\\industrial-machine-learning\\Code\\Chapter 013\\900-DL\\300-Curated-Zone\n"
     ]
    }
   ],
   "source": [
    "dirbasename=os.path.abspath(os.path.join(*[os.path.dirname(os.path.dirname(os.getcwd()))], os.pardir))\n",
    "print(dirbasename)\n",
    "dirname = os.path.abspath(os.path.join(dirbasename,'900-DL/300-Curated-Zone/'))\n",
    "print(dirname)"
   ]
  },
  {
   "cell_type": "code",
   "execution_count": 4,
   "metadata": {},
   "outputs": [
    {
     "name": "stdout",
     "output_type": "stream",
     "text": [
      "13-02-Process-Time.csv.gz\n"
     ]
    }
   ],
   "source": [
    "filename='13-02-Process-Time.csv'\n",
    "fileZipname=filename + '.gz'\n",
    "print(fileZipname)"
   ]
  },
  {
   "cell_type": "markdown",
   "metadata": {},
   "source": [
    "# Load Time"
   ]
  },
  {
   "cell_type": "code",
   "execution_count": 5,
   "metadata": {},
   "outputs": [
    {
     "name": "stdout",
     "output_type": "stream",
     "text": [
      "C:\\Users\\AndreVermeulen\\Documents\\My Book\\apress\\Industrial Machine Learning\\book\\GitHub\\Upload\\industrial-machine-learning\\Code\\Chapter 013\\900-DL\\200-Structured-Zone\n"
     ]
    }
   ],
   "source": [
    "dirDataName = os.path.abspath(os.path.join(dirbasename,'900-DL/200-Structured-Zone/'))\n",
    "pathRealDataName=os.path.realpath(dirDataName)\n",
    "print(pathRealDataName)"
   ]
  },
  {
   "cell_type": "code",
   "execution_count": 6,
   "metadata": {},
   "outputs": [
    {
     "name": "stdout",
     "output_type": "stream",
     "text": [
      "C:\\Users\\AndreVermeulen\\Documents\\My Book\\apress\\Industrial Machine Learning\\book\\GitHub\\Upload\\industrial-machine-learning\\Code\\Chapter 013\\900-DL\\200-Structured-Zone\\13-02-Assess-Time.csv.gz\n"
     ]
    }
   ],
   "source": [
    "fileDataName='13-02-Assess-Time.csv.gz'\n",
    "fileFullDataName= os.path.join(pathRealDataName, fileDataName)\n",
    "print(fileFullDataName)"
   ]
  },
  {
   "cell_type": "code",
   "execution_count": 7,
   "metadata": {},
   "outputs": [
    {
     "name": "stdout",
     "output_type": "stream",
     "text": [
      "(2103840, 2)\n"
     ]
    }
   ],
   "source": [
    "time1DF= pd.read_csv(fileFullDataName, encoding='utf-8', compression='gzip')\n",
    "print(time1DF.shape)"
   ]
  },
  {
   "cell_type": "code",
   "execution_count": 8,
   "metadata": {},
   "outputs": [
    {
     "name": "stdout",
     "output_type": "stream",
     "text": [
      "C:\\Users\\AndreVermeulen\\Documents\\My Book\\apress\\Industrial Machine Learning\\book\\GitHub\\Upload\\industrial-machine-learning\\Code\\Chapter 013\\900-DL\\200-Structured-Zone\\13-02-Assess-Time-Date.csv.gz\n"
     ]
    }
   ],
   "source": [
    "fileDataName='13-02-Assess-Time-Date.csv.gz'\n",
    "fileFullDataName= os.path.join(pathRealDataName, fileDataName)\n",
    "print(fileFullDataName)"
   ]
  },
  {
   "cell_type": "code",
   "execution_count": 9,
   "metadata": {},
   "outputs": [
    {
     "name": "stdout",
     "output_type": "stream",
     "text": [
      "(1461, 2)\n"
     ]
    }
   ],
   "source": [
    "time2DF= pd.read_csv(fileFullDataName, encoding='utf-8', compression='gzip')\n",
    "print(time2DF.shape)"
   ]
  },
  {
   "cell_type": "code",
   "execution_count": 10,
   "metadata": {},
   "outputs": [
    {
     "name": "stdout",
     "output_type": "stream",
     "text": [
      "C:\\Users\\AndreVermeulen\\Documents\\My Book\\apress\\Industrial Machine Learning\\book\\GitHub\\Upload\\industrial-machine-learning\\Code\\Chapter 013\\900-DL\\200-Structured-Zone\\13-02-Assess-Time-Time.csv.gz\n"
     ]
    }
   ],
   "source": [
    "fileDataName='13-02-Assess-Time-Time.csv.gz'\n",
    "fileFullDataName= os.path.join(pathRealDataName, fileDataName)\n",
    "print(fileFullDataName)"
   ]
  },
  {
   "cell_type": "code",
   "execution_count": 11,
   "metadata": {},
   "outputs": [
    {
     "name": "stdout",
     "output_type": "stream",
     "text": [
      "(1440, 2)\n"
     ]
    }
   ],
   "source": [
    "time3DF= pd.read_csv(fileFullDataName, encoding='utf-8', compression='gzip')\n",
    "print(time3DF.shape)"
   ]
  },
  {
   "cell_type": "code",
   "execution_count": 12,
   "metadata": {},
   "outputs": [
    {
     "name": "stdout",
     "output_type": "stream",
     "text": [
      "(2103840, 4)\n"
     ]
    }
   ],
   "source": [
    "time4DF=pd.merge(time1DF,time2DF)\n",
    "timeFullDF=pd.merge(time4DF,time3DF)\n",
    "print(timeFullDF.shape)"
   ]
  },
  {
   "cell_type": "markdown",
   "metadata": {},
   "source": [
    "# Create 300-Curated-Zone"
   ]
  },
  {
   "cell_type": "markdown",
   "metadata": {},
   "source": [
    "![Curated Zone](../../../../../images/DL-CUZ.JPG)"
   ]
  },
  {
   "cell_type": "code",
   "execution_count": 13,
   "metadata": {},
   "outputs": [
    {
     "name": "stdout",
     "output_type": "stream",
     "text": [
      "C:\\Users\\AndreVermeulen\\Documents\\My Book\\apress\\Industrial Machine Learning\\book\\GitHub\\Upload\\industrial-machine-learning\\Code\\Chapter 013\\900-DL\\300-Curated-Zone\n"
     ]
    }
   ],
   "source": [
    "pathRealName=os.path.realpath(dirname)\n",
    "print(pathRealName)\n",
    "fullRealZipName = os.path.join(pathRealName, fileZipname)"
   ]
  },
  {
   "cell_type": "code",
   "execution_count": 14,
   "metadata": {},
   "outputs": [],
   "source": [
    "if not os.path.exists(pathRealName):\n",
    "    print('Make:', pathRealName)\n",
    "    os.makedirs(pathRealName)"
   ]
  },
  {
   "cell_type": "markdown",
   "metadata": {},
   "source": [
    "# Save Time"
   ]
  },
  {
   "cell_type": "code",
   "execution_count": 15,
   "metadata": {},
   "outputs": [],
   "source": [
    "timeFullDF.to_csv(fullRealZipName, index=False, encoding='utf-8', compression='gzip')"
   ]
  },
  {
   "cell_type": "code",
   "execution_count": 16,
   "metadata": {},
   "outputs": [
    {
     "name": "stdout",
     "output_type": "stream",
     "text": [
      "C:\\Users\\AndreVermeulen\\Documents\\My Book\\apress\\Industrial Machine Learning\\book\\GitHub\\Upload\\industrial-machine-learning\\Code\\Chapter 013\\900-DL\\300-Curated-Zone\\13-02-Process-Time.csv.gz\n",
      "Start: 2019-10-26 17:02:40\n",
      "Stop:  2019-10-26 17:03:01\n",
      "Time:  0:00:20.789993\n"
     ]
    }
   ],
   "source": [
    "print(fullRealZipName)\n",
    "nowStop = datetime.datetime.now()\n",
    "runTime=nowStop-nowStart\n",
    "print('Start:', nowStart.strftime('%Y-%m-%d %H:%M:%S'))\n",
    "print('Stop: ', nowStop.strftime('%Y-%m-%d %H:%M:%S'))\n",
    "print('Time: ', runTime)"
   ]
  },
  {
   "cell_type": "code",
   "execution_count": null,
   "metadata": {},
   "outputs": [],
   "source": []
  }
 ],
 "metadata": {
  "kernelspec": {
   "display_name": "Python 3",
   "language": "python",
   "name": "python3"
  },
  "language_info": {
   "codemirror_mode": {
    "name": "ipython",
    "version": 3
   },
   "file_extension": ".py",
   "mimetype": "text/x-python",
   "name": "python",
   "nbconvert_exporter": "python",
   "pygments_lexer": "ipython3",
   "version": "3.7.3"
  }
 },
 "nbformat": 4,
 "nbformat_minor": 2
}
