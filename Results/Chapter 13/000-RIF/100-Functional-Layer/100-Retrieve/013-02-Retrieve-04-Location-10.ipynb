{
 "cells": [
  {
   "cell_type": "markdown",
   "metadata": {},
   "source": [
    "## Apress - Industrialized Machine Learning Examples\n",
    "\n",
    "Andreas Francois Vermeulen\n",
    "2019\n",
    "\n",
    "### This is an example add-on to a book and needs to be accepted as part of that copyright."
   ]
  },
  {
   "cell_type": "markdown",
   "metadata": {},
   "source": [
    "# Chapter-013-02-Retrieve-Location-10"
   ]
  },
  {
   "cell_type": "code",
   "execution_count": 13,
   "metadata": {},
   "outputs": [],
   "source": [
    "import datetime\n",
    "import os\n",
    "nowStart = datetime.datetime.now()"
   ]
  },
  {
   "cell_type": "code",
   "execution_count": 14,
   "metadata": {},
   "outputs": [
    {
     "name": "stdout",
     "output_type": "stream",
     "text": [
      "C:\\Users\\AndreVermeulen\\Documents\\My Book\\apress\\Industrial Machine Learning\\book\\GitHub\\Upload\\industrial-machine-learning\\Code\\Chapter 013\n",
      "C:\\Users\\AndreVermeulen\\Documents\\My Book\\apress\\Industrial Machine Learning\\book\\GitHub\\Upload\\industrial-machine-learning\\Code\\Chapter 013\\900-DL\\100-Raw-Zone\\200-Load-Data\\04-Location\n"
     ]
    }
   ],
   "source": [
    "dirbasename=os.path.abspath(os.path.join(*[os.path.dirname(os.path.dirname(os.getcwd()))], os.pardir))\n",
    "print(dirbasename)\n",
    "dirname = os.path.abspath(os.path.join(dirbasename,'900-DL/100-Raw-Zone/200-Load-Data/04-Location'))\n",
    "print(dirname)"
   ]
  },
  {
   "cell_type": "markdown",
   "metadata": {},
   "source": [
    "![RIF Functional Layer - Retrieve Step](../../../../../images/DV-Location.JPG)"
   ]
  },
  {
   "cell_type": "markdown",
   "metadata": {},
   "source": [
    "![RIF Functional Layer - Retrieve Step](../../../../../images/RIF-FL-RET.JPG)"
   ]
  },
  {
   "cell_type": "code",
   "execution_count": 15,
   "metadata": {},
   "outputs": [
    {
     "name": "stdout",
     "output_type": "stream",
     "text": [
      "13-02-Retrieve-Location-000010.csv.gz\n"
     ]
    }
   ],
   "source": [
    "setnr=10\n",
    "filename='13-02-Retrieve-Location-%06d.csv' % setnr\n",
    "fileZipname=filename + '.gz'\n",
    "print(fileZipname)"
   ]
  },
  {
   "cell_type": "code",
   "execution_count": 16,
   "metadata": {},
   "outputs": [],
   "source": [
    "import pandas as pd\n",
    "import zipfile as zp"
   ]
  },
  {
   "cell_type": "markdown",
   "metadata": {},
   "source": [
    "# Create 100-Raw-Zone"
   ]
  },
  {
   "cell_type": "markdown",
   "metadata": {},
   "source": [
    "![Raw Zone](../../../../../images/DL-RZ.JPG)"
   ]
  },
  {
   "cell_type": "code",
   "execution_count": 17,
   "metadata": {},
   "outputs": [
    {
     "name": "stdout",
     "output_type": "stream",
     "text": [
      "C:\\Users\\AndreVermeulen\\Documents\\My Book\\apress\\Industrial Machine Learning\\book\\GitHub\\Upload\\industrial-machine-learning\\Code\\Chapter 013\\900-DL\\100-Raw-Zone\\200-Load-Data\\04-Location\n"
     ]
    }
   ],
   "source": [
    "pathRealName=os.path.realpath(dirname)\n",
    "print(pathRealName)\n",
    "fullRealZipName = os.path.join(pathRealName, fileZipname)"
   ]
  },
  {
   "cell_type": "code",
   "execution_count": 18,
   "metadata": {},
   "outputs": [],
   "source": [
    "if not os.path.exists(pathRealName):\n",
    "    print('Make:', pathRealName)\n",
    "    os.makedirs(pathRealName)"
   ]
  },
  {
   "cell_type": "markdown",
   "metadata": {},
   "source": [
    "# Create Location"
   ]
  },
  {
   "cell_type": "code",
   "execution_count": 19,
   "metadata": {},
   "outputs": [
    {
     "name": "stdout",
     "output_type": "stream",
     "text": [
      "C:\\Users\\AndreVermeulen\\Documents\\My Book\\apress\\Industrial Machine Learning\\book\\GitHub\\Upload\\industrial-machine-learning\\Data\\Chapter 13\\000-ExternalData\\04-Location\n"
     ]
    }
   ],
   "source": [
    "dirDataName = os.path.abspath('../../../../../Data/Chapter 13/000-ExternalData/04-Location/')\n",
    "pathRealDataName=os.path.realpath(dirDataName)\n",
    "print(pathRealDataName)"
   ]
  },
  {
   "cell_type": "markdown",
   "metadata": {},
   "source": [
    "## Get Location"
   ]
  },
  {
   "cell_type": "code",
   "execution_count": 20,
   "metadata": {},
   "outputs": [
    {
     "name": "stdout",
     "output_type": "stream",
     "text": [
      "C:\\Users\\AndreVermeulen\\Documents\\My Book\\apress\\Industrial Machine Learning\\book\\GitHub\\Upload\\industrial-machine-learning\\Data\\Chapter 13\\000-ExternalData\\04-Location\\Location-000010.zip\n"
     ]
    }
   ],
   "source": [
    "fileZipName='Location-%06d.zip' % setnr\n",
    "fileDataName='Location-%06d.csv' % setnr\n",
    "fileFullZipName= os.path.join(pathRealDataName, fileZipName)\n",
    "print(fileFullZipName)"
   ]
  },
  {
   "cell_type": "code",
   "execution_count": 21,
   "metadata": {},
   "outputs": [],
   "source": [
    "with zp.ZipFile(fileFullZipName) as z:\n",
    "    with z.open(fileDataName) as f:\n",
    "        locationDF = pd.read_csv(f, header=0, delimiter=',')"
   ]
  },
  {
   "cell_type": "code",
   "execution_count": 22,
   "metadata": {},
   "outputs": [
    {
     "name": "stdout",
     "output_type": "stream",
     "text": [
      "(176238, 4)\n",
      "            id postcode   latitude  longitude\n",
      "IDKey                                        \n",
      "0      1665914  B70 9JG  52.519750  -2.005792\n",
      "1      1665915  B70 9JH  52.519705  -2.006382\n",
      "2      1665916  B70 9JJ  52.520245  -2.005792\n",
      "3      1665917  B70 9JL  52.520434  -2.005409\n",
      "4      1665918  B70 9JR  52.522745  -2.002152\n"
     ]
    }
   ],
   "source": [
    "locationDF.index.name='IDKey'\n",
    "print(locationDF.shape)\n",
    "print(locationDF.head())"
   ]
  },
  {
   "cell_type": "code",
   "execution_count": 23,
   "metadata": {},
   "outputs": [],
   "source": [
    "locationDF.to_csv(fullRealZipName, index=False, encoding='utf-8', compression='gzip')"
   ]
  },
  {
   "cell_type": "code",
   "execution_count": 24,
   "metadata": {},
   "outputs": [
    {
     "name": "stdout",
     "output_type": "stream",
     "text": [
      "C:\\Users\\AndreVermeulen\\Documents\\My Book\\apress\\Industrial Machine Learning\\book\\GitHub\\Upload\\industrial-machine-learning\\Code\\Chapter 013\\900-DL\\100-Raw-Zone\\200-Load-Data\\04-Location\\13-02-Retrieve-Location-000010.csv.gz\n",
      "Start: 2019-10-26 14:27:51\n",
      "Stop:  2019-10-26 14:27:55\n",
      "Time:  0:00:03.942000\n"
     ]
    }
   ],
   "source": [
    "print(fullRealZipName)\n",
    "nowStop = datetime.datetime.now()\n",
    "runTime=nowStop-nowStart\n",
    "print('Start:', nowStart.strftime('%Y-%m-%d %H:%M:%S'))\n",
    "print('Stop: ', nowStop.strftime('%Y-%m-%d %H:%M:%S'))\n",
    "print('Time: ', runTime)"
   ]
  },
  {
   "cell_type": "code",
   "execution_count": null,
   "metadata": {},
   "outputs": [],
   "source": []
  }
 ],
 "metadata": {
  "kernelspec": {
   "display_name": "Python 3",
   "language": "python",
   "name": "python3"
  },
  "language_info": {
   "codemirror_mode": {
    "name": "ipython",
    "version": 3
   },
   "file_extension": ".py",
   "mimetype": "text/x-python",
   "name": "python",
   "nbconvert_exporter": "python",
   "pygments_lexer": "ipython3",
   "version": "3.7.3"
  }
 },
 "nbformat": 4,
 "nbformat_minor": 4
}
