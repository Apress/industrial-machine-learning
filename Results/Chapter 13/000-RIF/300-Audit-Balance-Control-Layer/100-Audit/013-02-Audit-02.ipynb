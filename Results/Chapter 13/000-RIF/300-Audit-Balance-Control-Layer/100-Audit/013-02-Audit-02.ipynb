{
 "cells": [
  {
   "cell_type": "markdown",
   "metadata": {},
   "source": [
    "# 08-02-Audit-02"
   ]
  },
  {
   "cell_type": "code",
   "execution_count": 1,
   "metadata": {},
   "outputs": [
    {
     "name": "stdout",
     "output_type": "stream",
     "text": [
      "Start\n"
     ]
    },
    {
     "name": "stderr",
     "output_type": "stream",
     "text": [
      "  1174 Thread-6 Hi from Worker Process\n",
      "  1174 MainThread Hello from Main Process\n",
      "  1686 Thread-6 Hi from Worker Process\n",
      "  1932 MainThread Hello from Main Process\n",
      "  2191 Thread-6 Hi from Worker Process\n",
      "  2687 MainThread Hello from Main Process\n",
      "  2694 Thread-6 Hi from Worker Process\n",
      "  3204 Thread-6 Hi from Worker Process\n",
      "  3449 MainThread Hello from Main Process\n",
      "  3708 Thread-6 Hi from Worker Process\n",
      "  4202 MainThread Hello from Main Process\n",
      "  4209 Thread-6 Hi from Worker Process\n",
      "  4719 Thread-6 Hi from Worker Process\n",
      "  4965 MainThread Hello from Main Process\n",
      "  5224 Thread-6 Hi from Worker Process\n",
      "  5718 MainThread Hello from Main Process\n",
      "  5725 Thread-6 Hi from Worker Process\n",
      "  6232 Thread-6 Hi from Worker Process\n",
      "  6476 MainThread Hello from Main Process\n",
      "  6736 Thread-6 Hi from Worker Process\n",
      "  7233 MainThread Hello from Main Process\n",
      "  7241 Thread-6 Hi from Worker Process\n",
      "  7744 Thread-6 Hi from Worker Process\n",
      "  7987 MainThread Hello from Main Process\n",
      "  8257 Thread-6 Hi from Worker Process\n",
      "  8744 MainThread Hello from Main Process\n",
      "  8759 Thread-6 Hi from Worker Process\n",
      "  9271 Thread-6 Hi from Worker Process\n"
     ]
    },
    {
     "name": "stdout",
     "output_type": "stream",
     "text": [
      "Done\n"
     ]
    }
   ],
   "source": [
    "import logging\n",
    "import threading\n",
    "import time\n",
    "\n",
    "def worker(arg):\n",
    "    while not arg['stop']:\n",
    "        logging.debug('Hi from Worker Process')\n",
    "        time.sleep(0.5)\n",
    "\n",
    "def main():\n",
    "    logging.basicConfig(level=logging.DEBUG, format='%(relativeCreated)6d %(threadName)s %(message)s')\n",
    "    info = {'stop': False}\n",
    "    thread = threading.Thread(target=worker, args=(info,))\n",
    "    thread.start()\n",
    "    l=0\n",
    "    while True:\n",
    "        try:\n",
    "            logging.debug('Hello from Main Process')\n",
    "            time.sleep(0.75)\n",
    "            l+=1\n",
    "            if l > 10:\n",
    "                info['stop'] = True\n",
    "                break\n",
    "        except KeyboardInterrupt:\n",
    "            info['stop'] = True\n",
    "            break\n",
    "    thread.join()\n",
    "\n",
    "if __name__ == '__main__':\n",
    "    print('Start')\n",
    "    time.sleep(0.2)\n",
    "    main()\n",
    "    time.sleep(1)\n",
    "    print('Done')"
   ]
  }
 ],
 "metadata": {
  "kernelspec": {
   "display_name": "Python 3",
   "language": "python",
   "name": "python3"
  },
  "language_info": {
   "codemirror_mode": {
    "name": "ipython",
    "version": 3
   },
   "file_extension": ".py",
   "mimetype": "text/x-python",
   "name": "python",
   "nbconvert_exporter": "python",
   "pygments_lexer": "ipython3",
   "version": "3.7.1"
  }
 },
 "nbformat": 4,
 "nbformat_minor": 2
}
