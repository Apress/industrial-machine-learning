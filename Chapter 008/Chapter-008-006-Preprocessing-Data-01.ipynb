{
 "cells": [
  {
   "cell_type": "markdown",
   "metadata": {},
   "source": [
    "## Apress - Industrialized Machine Learning Examples\n",
    "\n",
    "Andreas Francois Vermeulen\n",
    "2019\n",
    "\n",
    "### This is an example add-on to a book and needs to be accepted as part of that copyright."
   ]
  },
  {
   "cell_type": "markdown",
   "metadata": {},
   "source": [
    "## Chapter-008-006-Preprocessing-Data-01"
   ]
  },
  {
   "cell_type": "markdown",
   "metadata": {},
   "source": [
    "## Part A - Load Libraries"
   ]
  },
  {
   "cell_type": "code",
   "execution_count": 1,
   "metadata": {},
   "outputs": [],
   "source": [
    "from sklearn import preprocessing\n",
    "\n",
    "import numpy as np"
   ]
  },
  {
   "cell_type": "markdown",
   "metadata": {},
   "source": [
    "## Part B - Setup Data set."
   ]
  },
  {
   "cell_type": "code",
   "execution_count": 2,
   "metadata": {},
   "outputs": [],
   "source": [
    "X_train = np.array([[ 1.1, -1.5,  2.5,  0.1],\n",
    "                    [ 2.2,  0.1,  0.5,  2.2],\n",
    "                    [ 0.1,  2.2, -2.5,  2.3],\n",
    "                    [ 1.1,  1.2, -1.8,  6.3],\n",
    "                    [ 0.8,  3.2,  5.5,  0.2],\n",
    "                    [ 0.1,  1.2, -2.5,  1.3],\n",
    "                    [ 1.1,  3.2,  1.8,  6.3],\n",
    "                    [ 0.8,  3.2, -1.5,  0.2],\n",
    "                    [ 2.1,  4.2, -1.5,  2.1]])"
   ]
  },
  {
   "cell_type": "markdown",
   "metadata": {},
   "source": [
    "## Part C - Run Scale preprocessing"
   ]
  },
  {
   "cell_type": "code",
   "execution_count": 3,
   "metadata": {},
   "outputs": [],
   "source": [
    "X_scaled = preprocessing.scale(X_train, \n",
    "                               axis=0, \n",
    "                               with_mean=True, \n",
    "                               with_std=False, \n",
    "                               copy=True\n",
    "                              )"
   ]
  },
  {
   "cell_type": "code",
   "execution_count": 4,
   "metadata": {},
   "outputs": [
    {
     "name": "stdout",
     "output_type": "stream",
     "text": [
      "[[ 0.05555556 -3.38888889  2.44444444 -2.23333333]\n",
      " [ 1.15555556 -1.78888889  0.44444444 -0.13333333]\n",
      " [-0.94444444  0.31111111 -2.55555556 -0.03333333]\n",
      " [ 0.05555556 -0.68888889 -1.85555556  3.96666667]\n",
      " [-0.24444444  1.31111111  5.44444444 -2.13333333]\n",
      " [-0.94444444 -0.68888889 -2.55555556 -1.03333333]\n",
      " [ 0.05555556  1.31111111  1.74444444  3.96666667]\n",
      " [-0.24444444  1.31111111 -1.55555556 -2.13333333]\n",
      " [ 1.05555556  2.31111111 -1.55555556 -0.23333333]]\n"
     ]
    }
   ],
   "source": [
    "print(X_scaled)"
   ]
  },
  {
   "cell_type": "code",
   "execution_count": 5,
   "metadata": {},
   "outputs": [
    {
     "name": "stdout",
     "output_type": "stream",
     "text": [
      "[ 0.00000000e+00  1.48029737e-16  9.86864911e-17 -1.48029737e-16]\n"
     ]
    }
   ],
   "source": [
    "print(X_scaled.mean(axis=0))"
   ]
  },
  {
   "cell_type": "code",
   "execution_count": 6,
   "metadata": {},
   "outputs": [
    {
     "name": "stdout",
     "output_type": "stream",
     "text": [
      "[0.69619779 1.70713825 2.58633637 2.27791328]\n"
     ]
    }
   ],
   "source": [
    "print(X_scaled.std(axis=0))"
   ]
  },
  {
   "cell_type": "code",
   "execution_count": 7,
   "metadata": {},
   "outputs": [
    {
     "name": "stdout",
     "output_type": "stream",
     "text": [
      "[-0.94444444 -3.38888889 -2.55555556 -2.23333333]\n"
     ]
    }
   ],
   "source": [
    "print(X_scaled.min(axis=0))"
   ]
  },
  {
   "cell_type": "code",
   "execution_count": 8,
   "metadata": {},
   "outputs": [
    {
     "name": "stdout",
     "output_type": "stream",
     "text": [
      "[1.15555556 2.31111111 5.44444444 3.96666667]\n"
     ]
    }
   ],
   "source": [
    "print(X_scaled.max(axis=0))"
   ]
  },
  {
   "cell_type": "markdown",
   "metadata": {},
   "source": [
    "## Part D - Run RobustScaler preprocessing"
   ]
  },
  {
   "cell_type": "code",
   "execution_count": 9,
   "metadata": {},
   "outputs": [],
   "source": [
    "scaler = preprocessing.RobustScaler(with_centering=True, \n",
    "                                    with_scaling=True, \n",
    "                                    quantile_range=(25.0, 75.0), \n",
    "                                    copy=True\n",
    "                                   ).fit(X_train)"
   ]
  },
  {
   "cell_type": "code",
   "execution_count": 10,
   "metadata": {},
   "outputs": [
    {
     "name": "stdout",
     "output_type": "stream",
     "text": [
      "RobustScaler(copy=True, quantile_range=(25.0, 75.0), with_centering=True,\n",
      "       with_scaling=True)\n"
     ]
    }
   ],
   "source": [
    "print(scaler)"
   ]
  },
  {
   "cell_type": "code",
   "execution_count": 11,
   "metadata": {},
   "outputs": [
    {
     "name": "stdout",
     "output_type": "stream",
     "text": [
      "[ 1.1  2.2 -1.5  2.1]\n"
     ]
    }
   ],
   "source": [
    "print(scaler.center_)"
   ]
  },
  {
   "cell_type": "code",
   "execution_count": 12,
   "metadata": {},
   "outputs": [
    {
     "name": "stdout",
     "output_type": "stream",
     "text": [
      "[0.3 2.  3.6 2.1]\n"
     ]
    }
   ],
   "source": [
    "print(scaler.scale_)"
   ]
  },
  {
   "cell_type": "code",
   "execution_count": 13,
   "metadata": {},
   "outputs": [
    {
     "name": "stdout",
     "output_type": "stream",
     "text": [
      "[[ 0.         -1.85        1.11111111 -0.95238095]\n",
      " [ 3.66666667 -1.05        0.55555556  0.04761905]\n",
      " [-3.33333333  0.         -0.27777778  0.0952381 ]\n",
      " [ 0.         -0.5        -0.08333333  2.        ]\n",
      " [-1.          0.5         1.94444444 -0.9047619 ]\n",
      " [-3.33333333 -0.5        -0.27777778 -0.38095238]\n",
      " [ 0.          0.5         0.91666667  2.        ]\n",
      " [-1.          0.5         0.         -0.9047619 ]\n",
      " [ 3.33333333  1.          0.          0.        ]]\n"
     ]
    }
   ],
   "source": [
    "print(scaler.transform(X_train))"
   ]
  },
  {
   "cell_type": "code",
   "execution_count": 14,
   "metadata": {},
   "outputs": [],
   "source": [
    "X_test = [[-1.5, 1.3, 6.5, 3.0]]"
   ]
  },
  {
   "cell_type": "code",
   "execution_count": 15,
   "metadata": {},
   "outputs": [
    {
     "name": "stdout",
     "output_type": "stream",
     "text": [
      "[[-8.66666667 -0.45        2.22222222  0.42857143]]\n"
     ]
    }
   ],
   "source": [
    "print(scaler.transform(X_test))"
   ]
  },
  {
   "cell_type": "markdown",
   "metadata": {},
   "source": [
    "## Done"
   ]
  },
  {
   "cell_type": "code",
   "execution_count": 16,
   "metadata": {},
   "outputs": [
    {
     "name": "stdout",
     "output_type": "stream",
     "text": [
      "Done! 2019-04-22 20:25:02.381620\n"
     ]
    }
   ],
   "source": [
    "import datetime\n",
    "now = datetime.datetime.now()\n",
    "print('Done!',str(now))"
   ]
  }
 ],
 "metadata": {
  "kernelspec": {
   "display_name": "Python 3",
   "language": "python",
   "name": "python3"
  },
  "language_info": {
   "codemirror_mode": {
    "name": "ipython",
    "version": 3
   },
   "file_extension": ".py",
   "mimetype": "text/x-python",
   "name": "python",
   "nbconvert_exporter": "python",
   "pygments_lexer": "ipython3",
   "version": "3.7.3"
  }
 },
 "nbformat": 4,
 "nbformat_minor": 2
}
