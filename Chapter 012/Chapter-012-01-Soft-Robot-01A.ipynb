{
 "cells": [
  {
   "cell_type": "markdown",
   "metadata": {},
   "source": [
    "## Apress - Industrialized Machine Learning Examples\n",
    "\n",
    "Andreas Francois Vermeulen\n",
    "2019\n",
    "\n",
    "### This is an example add-on to a book and needs to be accepted as part of that copyright."
   ]
  },
  {
   "cell_type": "markdown",
   "metadata": {},
   "source": [
    "# Chapter-012-01-Soft-Robot-01A"
   ]
  },
  {
   "cell_type": "markdown",
   "metadata": {},
   "source": [
    "## Create mail to sort by soft robots"
   ]
  },
  {
   "cell_type": "code",
   "execution_count": 1,
   "metadata": {},
   "outputs": [],
   "source": [
    "postcodecnt=2\n",
    "subpostcodecnt=3"
   ]
  },
  {
   "cell_type": "code",
   "execution_count": 2,
   "metadata": {},
   "outputs": [],
   "source": [
    "posize=psize=postcodecnt*subpostcodecnt\n",
    "psize=postcodecnt*subpostcodecnt*postcodecnt*subpostcodecnt"
   ]
  },
  {
   "cell_type": "code",
   "execution_count": 3,
   "metadata": {},
   "outputs": [
    {
     "name": "stdout",
     "output_type": "stream",
     "text": [
      "Eco-system Size: 2 by 3 => 6 post offices with 36 mail items\n"
     ]
    }
   ],
   "source": [
    "print('Eco-system Size: %d by %d => %d post offices with %d mail items' % (postcodecnt, subpostcodecnt, posize, psize))"
   ]
  },
  {
   "cell_type": "markdown",
   "metadata": {},
   "source": [
    "## Part A - Load Libraries"
   ]
  },
  {
   "cell_type": "code",
   "execution_count": 4,
   "metadata": {},
   "outputs": [],
   "source": [
    "import numpy as np\n",
    "import itertools\n",
    "import os\n",
    "import shutil"
   ]
  },
  {
   "cell_type": "markdown",
   "metadata": {},
   "source": [
    "## Part B - Prepare Postoffices Plans"
   ]
  },
  {
   "cell_type": "code",
   "execution_count": 5,
   "metadata": {},
   "outputs": [
    {
     "name": "stdout",
     "output_type": "stream",
     "text": [
      "['A', 'B']\n"
     ]
    }
   ],
   "source": [
    "alphabet = list(map(chr, range(65, 91)))\n",
    "alphabet = alphabet[0:postcodecnt]\n",
    "print(alphabet)"
   ]
  },
  {
   "cell_type": "code",
   "execution_count": 6,
   "metadata": {},
   "outputs": [
    {
     "name": "stdout",
     "output_type": "stream",
     "text": [
      "[0, 1, 2]\n"
     ]
    }
   ],
   "source": [
    "numbers = list(range(0, 10))\n",
    "numbers = numbers[0:subpostcodecnt]\n",
    "print(numbers)"
   ]
  },
  {
   "cell_type": "code",
   "execution_count": 7,
   "metadata": {},
   "outputs": [],
   "source": [
    "taglist=[]\n",
    "for i, (a, b, c, d) in enumerate(itertools.product(alphabet, numbers, alphabet, numbers)):\n",
    "    taglist.append([i, a, b, c, d])\n",
    "    \n",
    "tag=np.array(taglist)"
   ]
  },
  {
   "cell_type": "code",
   "execution_count": 8,
   "metadata": {},
   "outputs": [
    {
     "name": "stdout",
     "output_type": "stream",
     "text": [
      "(36, 5)\n"
     ]
    }
   ],
   "source": [
    "print(tag.shape)"
   ]
  },
  {
   "cell_type": "markdown",
   "metadata": {},
   "source": [
    "## Part C -Remove old Postoffices"
   ]
  },
  {
   "cell_type": "code",
   "execution_count": 9,
   "metadata": {},
   "outputs": [
    {
     "name": "stdout",
     "output_type": "stream",
     "text": [
      "Remove previous post\n"
     ]
    }
   ],
   "source": [
    "resultspath = '../../Results/Chapter 12/Chapter-012-01-Soft-Robot-01/raw/'\n",
    "if os.path.exists(resultspath):\n",
    "    print('Remove previous post')\n",
    "    shutil.rmtree(resultspath)\n",
    "else:\n",
    "    print('No previous post')"
   ]
  },
  {
   "cell_type": "markdown",
   "metadata": {},
   "source": [
    "## Part D - Build new Postoffices"
   ]
  },
  {
   "cell_type": "code",
   "execution_count": 10,
   "metadata": {},
   "outputs": [
    {
     "data": {
      "application/javascript": [
       "IPython.OutputArea.auto_scroll_threshold = 9999;\n"
      ],
      "text/plain": [
       "<IPython.core.display.Javascript object>"
      ]
     },
     "metadata": {},
     "output_type": "display_data"
    }
   ],
   "source": [
    "%%javascript\n",
    "IPython.OutputArea.auto_scroll_threshold = 9999;"
   ]
  },
  {
   "cell_type": "code",
   "execution_count": 11,
   "metadata": {
    "scrolled": true
   },
   "outputs": [
    {
     "name": "stdout",
     "output_type": "stream",
     "text": [
      "001 - Create Post Office: ../../Results/Chapter 12/Chapter-012-01-Soft-Robot-01/raw/PostOffice/A/0/\n",
      "002 - Create Post Office: ../../Results/Chapter 12/Chapter-012-01-Soft-Robot-01/raw/PostOffice/A/1/\n",
      "003 - Create Post Office: ../../Results/Chapter 12/Chapter-012-01-Soft-Robot-01/raw/PostOffice/A/2/\n",
      "004 - Create Post Office: ../../Results/Chapter 12/Chapter-012-01-Soft-Robot-01/raw/PostOffice/B/0/\n",
      "005 - Create Post Office: ../../Results/Chapter 12/Chapter-012-01-Soft-Robot-01/raw/PostOffice/B/1/\n",
      "006 - Create Post Office: ../../Results/Chapter 12/Chapter-012-01-Soft-Robot-01/raw/PostOffice/B/2/\n"
     ]
    }
   ],
   "source": [
    "m=0\n",
    "p=0\n",
    "for i in range(tag.shape[0]):\n",
    "    letterstr=[]\n",
    "    for j in range(1,tag.shape[1]):\n",
    "        letterstr.append(tag[i][j])\n",
    "    pathstr=letterstr[0:2]\n",
    "    letterstr.append(tag[i][0])\n",
    "    lettername='Letter-' + '-'.join(letterstr) + '.txt'\n",
    "    pathname='PostOffice/' + '/'.join(pathstr) + '/'\n",
    "    pname=os.path.join(resultspath,pathname)\n",
    "    if not os.path.isdir(pname):\n",
    "        p+=1\n",
    "        print('%03d - Create Post Office: %s' % (p, pname))\n",
    "        os.makedirs(pname)\n",
    "    \n",
    "    fname=os.path.join(pname,lettername)\n",
    "    #print(fname) \n",
    "    PostCode=lettername.split('-')\n",
    "    m+=1\n",
    "    #print('Post Letter #: %5d' % (m))\n",
    "    file = open(fname,'w')\n",
    "    wline=''.join(['from:', PostCode[1], PostCode[2],'\\n'])\n",
    "    file.write(wline)\n",
    "    wline=''.join(['to:', PostCode[3], PostCode[4],'\\n'])\n",
    "    file.write(wline)\n",
    "    wline=''.join(['Subject:', lettername,'\\n'])\n",
    "    file.write(wline)\n",
    "    file.close()\n",
    "    "
   ]
  },
  {
   "cell_type": "code",
   "execution_count": 12,
   "metadata": {},
   "outputs": [
    {
     "name": "stdout",
     "output_type": "stream",
     "text": [
      "Done sending 36 mails from 6 post offices\n"
     ]
    }
   ],
   "source": [
    "print('Done sending %0d mails from %0d post offices' % (m, p))"
   ]
  },
  {
   "cell_type": "markdown",
   "metadata": {},
   "source": [
    "## Done"
   ]
  },
  {
   "cell_type": "code",
   "execution_count": 13,
   "metadata": {},
   "outputs": [
    {
     "name": "stdout",
     "output_type": "stream",
     "text": [
      "Done! 2019-05-01 08:33:01.478558\n"
     ]
    }
   ],
   "source": [
    "import datetime\n",
    "now = datetime.datetime.now()\n",
    "print('Done!',str(now))"
   ]
  }
 ],
 "metadata": {
  "kernelspec": {
   "display_name": "Python 3",
   "language": "python",
   "name": "python3"
  },
  "language_info": {
   "codemirror_mode": {
    "name": "ipython",
    "version": 3
   },
   "file_extension": ".py",
   "mimetype": "text/x-python",
   "name": "python",
   "nbconvert_exporter": "python",
   "pygments_lexer": "ipython3",
   "version": "3.7.1"
  }
 },
 "nbformat": 4,
 "nbformat_minor": 2
}
