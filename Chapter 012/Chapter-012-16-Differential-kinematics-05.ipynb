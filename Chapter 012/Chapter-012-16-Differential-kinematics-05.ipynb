{
 "cells": [
  {
   "cell_type": "markdown",
   "metadata": {},
   "source": [
    "## Apress - Industrialized Machine Learning Examples\n",
    "\n",
    "Andreas Francois Vermeulen\n",
    "2019\n",
    "\n",
    "### This is an example add-on to a book and needs to be accepted as part of that copyright."
   ]
  },
  {
   "cell_type": "markdown",
   "metadata": {},
   "source": [
    "# Chapter-012-16-Differential-kinematics-05"
   ]
  },
  {
   "cell_type": "markdown",
   "metadata": {},
   "source": [
    "## Part A - Load Libraries"
   ]
  },
  {
   "cell_type": "code",
   "execution_count": 1,
   "metadata": {},
   "outputs": [],
   "source": [
    "import numpy as np"
   ]
  },
  {
   "cell_type": "markdown",
   "metadata": {},
   "source": [
    "## Part B - Calculate Robot"
   ]
  },
  {
   "cell_type": "code",
   "execution_count": 2,
   "metadata": {},
   "outputs": [],
   "source": [
    "V0=200\n",
    "d=10\n",
    "T=4 # 0,1,2,3,4\n",
    "D=0 # 0,1\n",
    "B=0.95\n",
    "SP=True  # Show Image = True\n",
    "PP=True  # Save Image = True"
   ]
  },
  {
   "cell_type": "code",
   "execution_count": 3,
   "metadata": {},
   "outputs": [
    {
     "name": "stdout",
     "output_type": "stream",
     "text": [
      "(5,)\n",
      "(5,)\n",
      "(5,)\n",
      "Pivot-Right 190.0 -190.0\n"
     ]
    }
   ],
   "source": [
    "DirectionTxt=np.array(['Forward','Backward'])\n",
    "Direction=np.array([1.0,-1.0])\n",
    "TurnAll=np.array(['No-Turn', 'Left',  'Right','Pivot-Left','Pivot-Right'])\n",
    "VLeft  =np.array([ V0,        V0*B  ,  V0*1.0, V0*-B,       V0* B])\n",
    "VRight =np.array([ V0,        V0*1.0,  V0*B  , V0* B,       V0*-B])\n",
    "print(TurnAll.shape)\n",
    "print(VLeft.shape)\n",
    "print(VRight.shape)\n",
    "\n",
    "TurnWant=TurnAll[T]\n",
    "for i in range(TurnAll.shape[0]):\n",
    "    if TurnAll[i] == TurnWant:\n",
    "        TSeek=TurnAll[i]\n",
    "        V1=VLeft[i]*Direction[D]\n",
    "        V2=VRight[i]*Direction[D]\n",
    "print(TSeek,V1,V2)"
   ]
  },
  {
   "cell_type": "code",
   "execution_count": 4,
   "metadata": {},
   "outputs": [
    {
     "name": "stdout",
     "output_type": "stream",
     "text": [
      "(201, 6)\n",
      "200\n"
     ]
    }
   ],
   "source": [
    "if V1==V2 and V1==0:\n",
    "    R=0\n",
    "    V=0\n",
    "    Qr=0\n",
    "    tmax=V+1\n",
    "elif V1==V2 and V1>0:\n",
    "    R=0\n",
    "    V=V0\n",
    "    Qr=0\n",
    "    tmax=V+1\n",
    "elif V1==V2 and V1<0:\n",
    "    R=0\n",
    "    V=V1\n",
    "    Qr=0\n",
    "    tmax=V+1\n",
    "else:\n",
    "    R=(2*d)*((V1+V2)/(V1-V2))\n",
    "    W=(V1-V2)/(2*d)\n",
    "    V21=W*(R+d)\n",
    "    V22=W*(R-d)\n",
    "    V=W*R    \n",
    "    Qr=np.arctan(W)\n",
    "    tmax=int(V+1)\n",
    "\n",
    "pmax=200\n",
    "t=np.linspace(0,tmax,pmax)\n",
    "dl=[]\n",
    "dl.append([d/2,0,0,0,-d/2,0])\n",
    "dp=np.array(dl)\n",
    "maxV=150\n",
    "Pr=Qr-(np.pi/2)\n",
    "dx=(d/2)*np.sin(Pr)\n",
    "dy=(d/2)*np.cos(Pr)\n",
    "tcnt=0\n",
    "for i in range(pmax):\n",
    "    tcnt+=1\n",
    "    x=t[i]*np.sin(Qr)\n",
    "    y=t[i]*np.cos(Qr)\n",
    "    xl=x-dx\n",
    "    yl=y-dy\n",
    "    xr=x+dx\n",
    "    yr=y+dy\n",
    "    dl.append([xl,yl,x,y,xr,yr])\n",
    "    maxV=np.max([maxV,xl,yl,xr,yr])\n",
    "    maxV=np.max([maxV,-xl,-yl,-xr,-yr])\n",
    "\n",
    "dp=np.array(dl)\n",
    "\n",
    "print(dp.shape)\n",
    "dmax=dp.shape[0]\n",
    "maxV=(int(maxV/10)*10)+50\n",
    "print(maxV)"
   ]
  },
  {
   "cell_type": "code",
   "execution_count": 5,
   "metadata": {},
   "outputs": [],
   "source": [
    "Qd=np.degrees(Qr)"
   ]
  },
  {
   "cell_type": "code",
   "execution_count": 6,
   "metadata": {},
   "outputs": [],
   "source": [
    "%matplotlib inline\n",
    "import numpy as np\n",
    "from PIL import Image, ImageDraw"
   ]
  },
  {
   "cell_type": "code",
   "execution_count": 7,
   "metadata": {},
   "outputs": [],
   "source": [
    "lmax=int(maxV*2)\n",
    "lcen=int(lmax/2)\n",
    "if V < 0:\n",
    "    lbase=int(1*(lmax/5))\n",
    "else:\n",
    "    lbase=int(4*(lmax/5))\n",
    "\n",
    "im = Image.new('RGBA', (lmax, lmax), (255, 255, 255, 255)) \n",
    "draw = ImageDraw.Draw(im)\n",
    "if V1==V2:\n",
    "    tpstr='No-turn Robot - VL=%0.3f VR=%0.3f - %s-%s' % (V1,V2,DirectionTxt[D],TSeek)\n",
    "    draw.text((10, 10), tpstr, fill=(0,0,0,0))\n",
    "    \n",
    "if V1>V2:\n",
    "    tpstr='Turn Right Robot - VL=%0.3f VR=%0.3f - %s-%s' % (V1,V2,DirectionTxt[D],TSeek)\n",
    "    draw.text((10, 10), tpstr, fill=(0,0,0,0))\n",
    "    \n",
    "if V1<V2:\n",
    "    tpstr='Turn left Robot - VL=%0.3f VR=%0.3f - %s-%s' % (V1,V2,DirectionTxt[D],TSeek)\n",
    "    draw.text((10, 10), tpstr, fill=(0,0,0,0))\n",
    "    \n",
    "for i in range(1, dmax):\n",
    "    px0=lcen+dp[i-1][0]\n",
    "    py0=lbase-dp[i-1][1]\n",
    "    px1=lcen+dp[i][0]\n",
    "    py1=lbase-dp[i][1]\n",
    "    draw.line((px0 ,py0, px1, py1), fill=(255,0,0,0), width=3)\n",
    "    px0=lcen+dp[i-1][4]\n",
    "    py0=lbase-dp[i-1][5]\n",
    "    px1=lcen+dp[i][4]\n",
    "    py1=lbase-dp[i][5]\n",
    "    draw.line((px0 ,py0, px1, py1), fill=(0,255,0,0), width=3)\n",
    "    \n",
    "il=[0,dmax-1]    \n",
    "for i in il:\n",
    "    px0=lcen+dp[i][0]\n",
    "    py0=lbase-dp[i][1]\n",
    "    px1=lcen+dp[i][4]\n",
    "    py1=lbase-dp[i][5]\n",
    "    r=d/3\n",
    "    draw.ellipse((px0-r, py0-r, px0+r, py0+r), fill=(0,0,0,0))\n",
    "    draw.ellipse((px1-r, py1-r, px1+r, py1+r), fill=(0,0,0,0))\n",
    "    draw.line((px0 ,py0, px1, py1), fill=(0,0,0,0), width=3)\n",
    "    \n",
    "    if i==0:\n",
    "        tpstr='X=%0d Y=%0d - Start' % (dp[i][2],dp[i][3])\n",
    "    else:\n",
    "        tpstr='X=%0d Y=%0d - Stop' % (dp[i][2],dp[i][3])\n",
    "    draw.text((px1+25, py1), tpstr, fill=(0,0,0,0))"
   ]
  },
  {
   "cell_type": "code",
   "execution_count": 8,
   "metadata": {},
   "outputs": [],
   "source": [
    "if SP==True:\n",
    "    im.show()"
   ]
  },
  {
   "cell_type": "code",
   "execution_count": 9,
   "metadata": {},
   "outputs": [
    {
     "name": "stdout",
     "output_type": "stream",
     "text": [
      "../../Results/Chapter 12/Chapter-012-16-Differential-kinematics-05-01-05-95.bmp\n"
     ]
    }
   ],
   "source": [
    "if PP==True:\n",
    "    resultimage='../../Results/Chapter 12/Chapter-012-16-Differential-kinematics-05-%02d-%02d-%02d.bmp' % (D+1,T+1,B*100)\n",
    "    print(resultimage)\n",
    "    im.save(resultimage)"
   ]
  },
  {
   "cell_type": "markdown",
   "metadata": {},
   "source": [
    "## Done"
   ]
  },
  {
   "cell_type": "code",
   "execution_count": 10,
   "metadata": {},
   "outputs": [
    {
     "name": "stdout",
     "output_type": "stream",
     "text": [
      "Done! 2019-04-30 17:31:05.611893\n"
     ]
    }
   ],
   "source": [
    "import datetime\n",
    "now = datetime.datetime.now()\n",
    "print('Done!',str(now))"
   ]
  }
 ],
 "metadata": {
  "kernelspec": {
   "display_name": "Python 3",
   "language": "python",
   "name": "python3"
  },
  "language_info": {
   "codemirror_mode": {
    "name": "ipython",
    "version": 3
   },
   "file_extension": ".py",
   "mimetype": "text/x-python",
   "name": "python",
   "nbconvert_exporter": "python",
   "pygments_lexer": "ipython3",
   "version": "3.7.3"
  }
 },
 "nbformat": 4,
 "nbformat_minor": 2
}
