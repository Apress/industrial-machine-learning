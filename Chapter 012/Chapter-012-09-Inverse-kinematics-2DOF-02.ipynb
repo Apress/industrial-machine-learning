{
 "cells": [
  {
   "cell_type": "markdown",
   "metadata": {},
   "source": [
    "## Apress - Industrialized Machine Learning Examples\n",
    "\n",
    "Andreas Francois Vermeulen\n",
    "2019\n",
    "\n",
    "### This is an example add-on to a book and needs to be accepted as part of that copyright."
   ]
  },
  {
   "cell_type": "markdown",
   "metadata": {},
   "source": [
    "# Chapter-012-09-Inverse-kinematics-2DOF-02"
   ]
  },
  {
   "cell_type": "code",
   "execution_count": 1,
   "metadata": {},
   "outputs": [],
   "source": [
    "x=float(130)\n",
    "y=float(80)\n",
    "\n",
    "A=float(75)\n",
    "B=float(50)"
   ]
  },
  {
   "cell_type": "code",
   "execution_count": 2,
   "metadata": {},
   "outputs": [],
   "source": [
    "resultimage='../../Results/Chapter 12/Chapter-012-09-Inverse-kinematics-2DOF-02.bmp'"
   ]
  },
  {
   "cell_type": "markdown",
   "metadata": {},
   "source": [
    "## Part A - Load Libraries"
   ]
  },
  {
   "cell_type": "code",
   "execution_count": 3,
   "metadata": {},
   "outputs": [],
   "source": [
    "import numpy as np"
   ]
  },
  {
   "cell_type": "markdown",
   "metadata": {},
   "source": [
    "## Part B - Calculate Robot"
   ]
  },
  {
   "cell_type": "code",
   "execution_count": 4,
   "metadata": {},
   "outputs": [
    {
     "name": "stdout",
     "output_type": "stream",
     "text": [
      "Need reach of 152.643 cm and have max reach of 125.000 cm\n",
      "Robot can not reach target: X=130.000 Y=80.000\n"
     ]
    }
   ],
   "source": [
    "r1=np.sqrt(np.power(x,2)+np.power(y,2))\n",
    "r2=A+B\n",
    "print('Need reach of %0.3f cm and have max reach of %0.3f cm' % (r1,r2))\n",
    "if r1 < r2:\n",
    "    print('Robot can reach target: X=%0.3f Y=%0.3f'%(x,y))\n",
    "else:    \n",
    "    print('Robot can not reach target: X=%0.3f Y=%0.3f'%(x,y))"
   ]
  },
  {
   "cell_type": "code",
   "execution_count": 5,
   "metadata": {},
   "outputs": [
    {
     "name": "stderr",
     "output_type": "stream",
     "text": [
      "C:\\Users\\sirve\\Anaconda3\\lib\\site-packages\\ipykernel_launcher.py:5: RuntimeWarning: invalid value encountered in arccos\n",
      "  \"\"\"\n"
     ]
    }
   ],
   "source": [
    "robot=True\n",
    "try:\n",
    "    u=(np.power(x,2)+np.power(x,2)-np.power(A,2)-np.power(B,2))\n",
    "    l=(2*A*B)\n",
    "    P=np.arccos(u/l)\n",
    "except Exception: \n",
    "    robot=False\n",
    "    pass"
   ]
  },
  {
   "cell_type": "code",
   "execution_count": 6,
   "metadata": {},
   "outputs": [],
   "source": [
    "if np.isnan(P):\n",
    "   robot=False "
   ]
  },
  {
   "cell_type": "code",
   "execution_count": 7,
   "metadata": {},
   "outputs": [],
   "source": [
    "if robot==True:\n",
    "    try:\n",
    "        ukx=(-1*(B*np.sin(P)))\n",
    "        uky=(A+(B*np.cos(P)))\n",
    "        u=ukx*x + uky*y\n",
    "\n",
    "\n",
    "        lkx=(A+(B*np.cos(P)))\n",
    "        lky=(B*np.sin(P))\n",
    "        l=lkx*x + lky*y\n",
    "\n",
    "        Q=u/l\n",
    "    except Exception: \n",
    "        robot=False\n",
    "        pass"
   ]
  },
  {
   "cell_type": "code",
   "execution_count": 8,
   "metadata": {},
   "outputs": [
    {
     "name": "stdout",
     "output_type": "stream",
     "text": [
      "Invalid Robot\n"
     ]
    }
   ],
   "source": [
    "if robot==True:\n",
    "    print('Valid Robot')\n",
    "else:\n",
    "    print('Invalid Robot')"
   ]
  },
  {
   "cell_type": "code",
   "execution_count": 9,
   "metadata": {},
   "outputs": [],
   "source": [
    "if robot==True:\n",
    "    x2=x\n",
    "    y2=y\n",
    "else:\n",
    "    Q=np.arctan(y/x)\n",
    "    P=np.pi\n",
    "    x2 = (A+B) * np.cos(Q)\n",
    "    y2 = (A+B) * np.sin(Q)"
   ]
  },
  {
   "cell_type": "code",
   "execution_count": 10,
   "metadata": {},
   "outputs": [
    {
     "name": "stdout",
     "output_type": "stream",
     "text": [
      "Angles Q=31.608 P=180.000\n"
     ]
    }
   ],
   "source": [
    "Qd=np.degrees(Q)\n",
    "Pd=np.degrees(P)\n",
    "print('Angles Q=%0.3f P=%0.3f' % (Qd,Pd))"
   ]
  },
  {
   "cell_type": "code",
   "execution_count": 11,
   "metadata": {},
   "outputs": [
    {
     "name": "stdout",
     "output_type": "stream",
     "text": [
      "x1=63.874 y1=39.307 x2=106.457 y2=65.512 x=130.000 y=80.000\n"
     ]
    }
   ],
   "source": [
    "x0=0\n",
    "y0=0\n",
    "x1 = A * np.cos(Q)\n",
    "y1 = A * np.sin(Q)\n",
    "print('x1=%0.3f y1=%0.3f x2=%0.3f y2=%0.3f x=%0.3f y=%0.3f' % (x1,y1,x2,y2,x,y))"
   ]
  },
  {
   "cell_type": "code",
   "execution_count": 12,
   "metadata": {},
   "outputs": [],
   "source": [
    "%matplotlib inline\n",
    "import numpy as np\n",
    "from PIL import Image, ImageDraw"
   ]
  },
  {
   "cell_type": "code",
   "execution_count": 13,
   "metadata": {},
   "outputs": [],
   "source": [
    "lmax = np.max([int(1.1*(A+B)),int(x*1.5),int(y*1.5)])+50\n",
    "lcenX = int(4*(lmax/5))\n",
    "lcenY = int(lmax/2)\n",
    "\n",
    "py0=int(lcenX)\n",
    "px0=int(lcenY)\n",
    "\n",
    "py1=int(lcenX-x1)\n",
    "px1=int(lcenY+y1)\n",
    "\n",
    "py2=int(lcenX-x2)\n",
    "px2=int(lcenY+y2)\n",
    "\n",
    "py3=int(lcenX-x)\n",
    "px3=int(lcenY+y)\n",
    "\n",
    "lmaxY=int(lmax*1.1) \n",
    "lmaxX=int(lmax*1.5)\n",
    "\n",
    "#print(lmaxX ,lmaxY)\n",
    "#print(px0 ,py0, px1, py1)\n",
    "#print(px1 ,py1, px2, py2)\n",
    "#print(px3 ,py3)"
   ]
  },
  {
   "cell_type": "code",
   "execution_count": 14,
   "metadata": {},
   "outputs": [],
   "source": [
    "im = Image.new('RGBA', (lmaxX, lmaxY), (255, 255, 255, 255)) \n",
    "draw = ImageDraw.Draw(im)\n",
    "if robot==True:\n",
    "    tpstr='Valid Robot'\n",
    "    draw.text((10, 10), tpstr, fill=(0,0,0,0))\n",
    "    tpstr='(A=%0d B=%0d Q=%0.3f P=%0.3f)' % (A,B,Qd,Pd)\n",
    "    draw.text((10, 20), tpstr, fill=(0,0,0,0))\n",
    "else:    \n",
    "    tpstr='Invalid Robot' \n",
    "    draw.text((10, 10), tpstr, fill=(0,0,0,0))  \n",
    "    tpstr='(A=%0d B=%0d Q=%0.3f P=%0.3f)' % (A,B,Qd,Pd)\n",
    "    draw.text((10, 20), tpstr, fill=(0,0,0,0))   \n",
    "    tpstr='(Need Reach=%0.3f Only have=%0.3f)' % (r1,r2)\n",
    "    draw.text((10, 30), tpstr, fill=(0,0,0,0))\n",
    "\n",
    "tpstr='X=%0d Y=%0d' % (x0,y0)\n",
    "draw.text((px0+15, py0), tpstr, fill=(0,0,0,0))\n",
    "\n",
    "tpstr='X=%0d Y=%0d' % (x1,y1)\n",
    "draw.text((px1-75, py1), tpstr, fill=(0,0,0,0))\n",
    "\n",
    "tpstr='X=%0d Y=%0d' % (x2,y2)\n",
    "draw.text((px2+15, py2), tpstr, fill=(0,0,0,0))\n",
    "\n",
    "tpstr='X=%0d Y=%0d' % (x,y)\n",
    "draw.text((px3+15, py3), tpstr, fill=(0,0,0,0))\n",
    "\n",
    "draw.line((px0 ,py0, px1, py1), fill=(255,0,0,0), width=3)\n",
    "draw.line((px1 ,py1, px2, py2), fill=(0,255,0,0), width=3)\n",
    "r=10\n",
    "draw.ellipse((px0-r, py0-r, px0+r, py0+r), fill=(0,0,0,0))\n",
    "r=2\n",
    "draw.ellipse((px1-r, py1-r, px1+r, py1+r), fill=(255,0,0,0))\n",
    "r=5\n",
    "draw.ellipse((px2-r, py2-r, px2+r, py2+r), fill=(0,255,0,0))\n",
    "r=2\n",
    "draw.ellipse((px3-r, py3-r, px3+r, py3+r), fill=(0,0,255,0))\n",
    "im.show()"
   ]
  },
  {
   "cell_type": "code",
   "execution_count": 15,
   "metadata": {},
   "outputs": [],
   "source": [
    "im.save(resultimage)"
   ]
  },
  {
   "cell_type": "markdown",
   "metadata": {},
   "source": [
    "## Done"
   ]
  },
  {
   "cell_type": "code",
   "execution_count": 16,
   "metadata": {},
   "outputs": [
    {
     "name": "stdout",
     "output_type": "stream",
     "text": [
      "Done! 2019-04-30 16:46:31.924900\n"
     ]
    }
   ],
   "source": [
    "import datetime\n",
    "now = datetime.datetime.now()\n",
    "print('Done!',str(now))"
   ]
  }
 ],
 "metadata": {
  "kernelspec": {
   "display_name": "Python 3",
   "language": "python",
   "name": "python3"
  },
  "language_info": {
   "codemirror_mode": {
    "name": "ipython",
    "version": 3
   },
   "file_extension": ".py",
   "mimetype": "text/x-python",
   "name": "python",
   "nbconvert_exporter": "python",
   "pygments_lexer": "ipython3",
   "version": "3.7.3"
  }
 },
 "nbformat": 4,
 "nbformat_minor": 2
}
