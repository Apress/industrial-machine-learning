{
 "cells": [
  {
   "cell_type": "markdown",
   "metadata": {},
   "source": [
    "## Apress - Industrialized Machine Learning Examples\n",
    "\n",
    "Andreas Francois Vermeulen\n",
    "2019\n",
    "\n",
    "### This is an example add-on to a book and needs to be accepted as part of that copyright."
   ]
  },
  {
   "cell_type": "markdown",
   "metadata": {
    "collapsed": true
   },
   "source": [
    "## Chapter-012-06-Hard-Robot-2DOF-Path-01"
   ]
  },
  {
   "cell_type": "markdown",
   "metadata": {},
   "source": [
    "## Part A - Load Libraries"
   ]
  },
  {
   "cell_type": "code",
   "execution_count": null,
   "metadata": {},
   "outputs": [],
   "source": [
    "import numpy as np\n",
    "import pandas as pd\n",
    "import matplotlib.pyplot as plt\n",
    "import mpl_toolkits.mplot3d.axes3d as p3\n",
    "import matplotlib.animation as animation\n",
    "from IPython.display import HTML"
   ]
  },
  {
   "cell_type": "markdown",
   "metadata": {},
   "source": [
    "## Part B - Calculate Robot"
   ]
  },
  {
   "cell_type": "code",
   "execution_count": null,
   "metadata": {},
   "outputs": [],
   "source": [
    "def update_lines(num, dataLines, lines):\n",
    "    for line, data in zip(lines, dataLines):\n",
    "        # NOTE: there is no .set_data() for 3 dim data...\n",
    "        line.set_data(data[0:2, :num])\n",
    "        line.set_3d_properties(data[2, :num])\n",
    "        line.set_marker(\"*\")\n",
    "    return lines"
   ]
  },
  {
   "cell_type": "code",
   "execution_count": null,
   "metadata": {},
   "outputs": [],
   "source": [
    "armAngleRangeMin= -100\n",
    "armAngleRangeMax=  100\n",
    "armLiftRangeMin= -200\n",
    "armLiftRangeMax=  200\n",
    "l=500\n",
    "s1=2\n",
    "s2=5\n",
    "\n",
    "t=0\n",
    "\n",
    "\n",
    "for Q2d in range(armLiftRangeMin,armLiftRangeMax+1,s1):\n",
    "    Q2r = np.radians(Q2d)\n",
    "    z=l*np.sin(Q2r)\n",
    "    p=l*np.cos(Q2r)\n",
    "    \n",
    "    for Q1d in range(armAngleRangeMin,armAngleRangeMax+1,s2):\n",
    "        Q1r = np.radians(Q1d)\n",
    "        x=p*np.sin(Q1r)\n",
    "        y=p*np.cos(Q1r)\n",
    "        #print('Angle Disk: %+9.3f Angle Lift: %+9.3f Arm length= %+5.3f x= %+5.3f y= %+5.3f z= %+5.3f' % (Q1d,Q2d,l,x,y,z))\n",
    "        \n",
    "        t+=1\n",
    "        if t==1:\n",
    "            xp=pd.DataFrame([x])\n",
    "            yp=pd.DataFrame([y])\n",
    "            zp=pd.DataFrame([z])\n",
    "        else:\n",
    "            xp=xp.append([x])\n",
    "            yp=yp.append([y])\n",
    "            zp=zp.append([z])"
   ]
  },
  {
   "cell_type": "code",
   "execution_count": null,
   "metadata": {},
   "outputs": [],
   "source": [
    "x=xp[0]\n",
    "y=yp[0]\n",
    "z=zp[0]\n",
    "frames = [x, y, z]\n",
    "dp=pd.concat(frames, axis=1)\n",
    "dp.columns = ['X','Y','Z']\n",
    "t=dp.shape[0]\n",
    "print(dp.shape)"
   ]
  },
  {
   "cell_type": "code",
   "execution_count": null,
   "metadata": {},
   "outputs": [],
   "source": [
    "# Attaching 3D axis to the figure\n",
    "fig = plt.figure()\n",
    "ax = p3.Axes3D(fig)\n",
    "\n",
    "# Lines to plot in 3D\n",
    "xyz = np.array(dp)\n",
    "print(xyz.shape)\n",
    "\n",
    "xlimMin=np.round(np.min(xyz[0]) * 1.1,0)\n",
    "xlimMax=np.round(np.max(xyz[0]) * 1.1,0)\n",
    "\n",
    "ylimMin=np.round(np.min(xyz[1]) * 1.1,0)\n",
    "ylimMax=np.round(np.max(xyz[1]) * 1.1,0)\n",
    "\n",
    "zlimMin=np.round(np.min(xyz[2]) * 1.1,0)\n",
    "zlimMax=np.round(np.max(xyz[2]) * 1.1,0)\n",
    "\n",
    "data = np.array([xyz])\n",
    "print(data.shape)"
   ]
  },
  {
   "cell_type": "code",
   "execution_count": null,
   "metadata": {},
   "outputs": [],
   "source": [
    "# NOTE: Can't pass empty arrays into 3d version of plot()\n",
    "lines = [ax.plot(dat[0, 0:1], dat[1, 0:1], dat[2, 0:1])[0] for dat in data]"
   ]
  },
  {
   "cell_type": "code",
   "execution_count": null,
   "metadata": {},
   "outputs": [],
   "source": [
    "ax.set_xlim(xlimMin,xlimMax)\n",
    "ax.set_ylim(ylimMin,ylimMax)\n",
    "ax.set_zlim(zlimMin,zlimMax)\n",
    "ax.set_xlabel(\"x\")\n",
    "ax.set_ylabel(\"y\")\n",
    "ax.set_zlabel(\"z\")\n",
    "plt.rcParams['animation.html'] = 'html5'\n",
    "i=t*2\n",
    "\n",
    "line_ani = animation.FuncAnimation(fig, update_lines, t, fargs=(data, lines),\n",
    "                                   interval=i, blit=True, repeat=True)\n",
    "#line_ani"
   ]
  },
  {
   "cell_type": "code",
   "execution_count": null,
   "metadata": {},
   "outputs": [],
   "source": [
    "line_ani.save('../../Results/Chapter 12/Chapter-012-06-Hard-Robot-2DOF-Path-01-01.mp4', writer='ffmpeg',fps=1000/i)"
   ]
  },
  {
   "cell_type": "markdown",
   "metadata": {},
   "source": [
    "## Done"
   ]
  },
  {
   "cell_type": "code",
   "execution_count": null,
   "metadata": {},
   "outputs": [],
   "source": [
    "import datetime\n",
    "now = datetime.datetime.now()\n",
    "print('Done!',str(now))"
   ]
  }
 ],
 "metadata": {
  "kernelspec": {
   "display_name": "Python 3",
   "language": "python",
   "name": "python3"
  },
  "language_info": {
   "codemirror_mode": {
    "name": "ipython",
    "version": 3
   },
   "file_extension": ".py",
   "mimetype": "text/x-python",
   "name": "python",
   "nbconvert_exporter": "python",
   "pygments_lexer": "ipython3",
   "version": "3.7.3"
  }
 },
 "nbformat": 4,
 "nbformat_minor": 2
}
