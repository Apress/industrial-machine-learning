{
 "cells": [
  {
   "cell_type": "markdown",
   "metadata": {},
   "source": [
    "  "
   ]
  },
  {
   "cell_type": "markdown",
   "metadata": {},
   "source": [
    "  "
   ]
  },
  {
   "cell_type": "markdown",
   "metadata": {},
   "source": [
    "## Apress - Industrialized Machine Learning Examples\n",
    "\n",
    "Andreas Francois Vermeulen\n",
    "2019\n",
    "\n",
    "### This is an example add-on to a book and needs to be accepted as part of that copyright."
   ]
  },
  {
   "cell_type": "markdown",
   "metadata": {},
   "source": [
    "## Chapter-010-21-Basic-Scheduling-Three-way"
   ]
  },
  {
   "cell_type": "markdown",
   "metadata": {},
   "source": [
    "## pyschedule - Resource-constrained Scheduling in Python"
   ]
  },
  {
   "cell_type": "markdown",
   "metadata": {},
   "source": [
    "![](https://github.com/timnon/pyschedule/blob/master/pics/gantt.png)"
   ]
  },
  {
   "cell_type": "markdown",
   "metadata": {},
   "source": [
    "pyschedule is the easiest way to match tasks with resources. "
   ]
  },
  {
   "cell_type": "code",
   "execution_count": 1,
   "metadata": {},
   "outputs": [],
   "source": [
    "#!pip install pyschedule"
   ]
  },
  {
   "cell_type": "code",
   "execution_count": 2,
   "metadata": {},
   "outputs": [],
   "source": [
    "# Load pyschedule and create a scenario with ten steps planning horizon\n",
    "from pyschedule import Scenario, solvers, plotters\n",
    "import os"
   ]
  },
  {
   "cell_type": "code",
   "execution_count": 3,
   "metadata": {},
   "outputs": [
    {
     "name": "stdout",
     "output_type": "stream",
     "text": [
      "INFO: execution time for solving mip (sec) = 0.0959923267364502\n",
      "INFO: objective = 5.0\n",
      "[(eat_food_1, Angus, 0, 2), (eat_food_2, Zhaan, 0, 2), (steal_mail, Jock, 0, 1), (eat_food_3, Jock, 1, 3), (dig_hole, Angus, 2, 5), (play_mud, Zhaan, 4, 5), (MakeSpan, Angus, 5, 6)]\n"
     ]
    }
   ],
   "source": [
    "S = Scenario('Angus_Jock_Zhaan_Backyard',horizon=10)\n",
    "\n",
    "# Create three resources\n",
    "Angus, Jock, Zhaan = S.Resource('Angus'), S.Resource('Jock'), S.Resource('Zhaan')\n",
    "\n",
    "# Create three tasks with lengths 1,2 and 3\n",
    "mail, hole, mud = S.Task('steal_mail',1), S.Task('dig_hole',3), S.Task('play_mud',1)\n",
    "food1, food2, food3 = S.Task('eat_food_1',2), S.Task('eat_food_2',2), S.Task('eat_food_3',2)\n",
    "# Assign tasks to resources, either Angus, Jock or Zhaan,\n",
    "# the %-operator connects tasks and resource\n",
    "mail += Jock|Zhaan\n",
    "mud += Zhaan\n",
    "hole += Angus\n",
    "\n",
    "food1 += Angus\n",
    "food2 += Jock|Zhaan\n",
    "food3 += Jock|Zhaan\n",
    "\n",
    "# Solve and print solution\n",
    "S.use_makespan_objective()\n",
    "solvers.mip.solve(S,msg=1)\n",
    "\n",
    "# Print the solution\n",
    "print(S.solution())"
   ]
  },
  {
   "cell_type": "markdown",
   "metadata": {},
   "source": [
    "In example we use a makespan objective which means that we want to minimize the completion time of the last task. \n",
    "\n",
    "Hence, Jock should stealing mail from 0 to 1 and then do the eating of the food from 1 to 3, whereas Angus will only do the digging of holes from 0 to 3. \n",
    "\n",
    "This will ensure that both are done after three hours. \n",
    "\n",
    "This table representation is a little hard to read, we can visualize the plan using matplotlib:"
   ]
  },
  {
   "cell_type": "code",
   "execution_count": 4,
   "metadata": {},
   "outputs": [
    {
     "name": "stdout",
     "output_type": "stream",
     "text": [
      "C:\\Users\\AndreVermeulen\\Documents\\My Book\\apress\\Industrialized Machine Learning\\book\\IML\\Results\\Chapter 10\n"
     ]
    }
   ],
   "source": [
    "imagepath = os.path.join(*[os.path.dirname(os.path.dirname(os.getcwd())),'Results','Chapter 10'])\n",
    "print(imagepath)"
   ]
  },
  {
   "cell_type": "code",
   "execution_count": 5,
   "metadata": {},
   "outputs": [],
   "source": [
    "if not os.path.exists(imagepath):\n",
    "    os.makedirs(imagepath)"
   ]
  },
  {
   "cell_type": "code",
   "execution_count": 6,
   "metadata": {},
   "outputs": [
    {
     "name": "stdout",
     "output_type": "stream",
     "text": [
      "C:\\Users\\AndreVermeulen\\Documents\\My Book\\apress\\Industrialized Machine Learning\\book\\IML\\Results\\Chapter 10\\Chapter-010-21-Basic-Scheduling-Three-way-01.jpg\n"
     ]
    }
   ],
   "source": [
    "imagename = os.path.join(*[os.path.dirname(os.path.dirname(os.getcwd())),'Results','Chapter 10','Chapter-010-21-Basic-Scheduling-Three-way-01.jpg'])\n",
    "print(imagename)"
   ]
  },
  {
   "cell_type": "code",
   "execution_count": 7,
   "metadata": {},
   "outputs": [],
   "source": [
    "plotters.matplotlib.plot(S,fig_size=(20,3),img_filename=imagename)"
   ]
  },
  {
   "cell_type": "code",
   "execution_count": 8,
   "metadata": {},
   "outputs": [
    {
     "data": {
      "image/png": "[encoded data removed]",
      "text/plain": [
       "<Figure size 1440x216 with 1 Axes>"
      ]
     },
     "metadata": {
      "needs_background": "light"
     },
     "output_type": "display_data"
    }
   ],
   "source": [
    "%matplotlib inline\n",
    "plotters.matplotlib.plot(S,fig_size=(20,3))"
   ]
  },
  {
   "cell_type": "markdown",
   "metadata": {},
   "source": [
    "## Done"
   ]
  },
  {
   "cell_type": "code",
   "execution_count": 9,
   "metadata": {},
   "outputs": [
    {
     "name": "stdout",
     "output_type": "stream",
     "text": [
      "Done! 2019-04-27 17:37:16.624907\n"
     ]
    }
   ],
   "source": [
    "import datetime\n",
    "now = datetime.datetime.now()\n",
    "print('Done!',str(now))"
   ]
  }
 ],
 "metadata": {
  "anaconda-cloud": {},
  "kernelspec": {
   "display_name": "Python 3",
   "language": "python",
   "name": "python3"
  },
  "language_info": {
   "codemirror_mode": {
    "name": "ipython",
    "version": 3
   },
   "file_extension": ".py",
   "mimetype": "text/x-python",
   "name": "python",
   "nbconvert_exporter": "python",
   "pygments_lexer": "ipython3",
   "version": "3.7.3"
  }
 },
 "nbformat": 4,
 "nbformat_minor": 1
}
