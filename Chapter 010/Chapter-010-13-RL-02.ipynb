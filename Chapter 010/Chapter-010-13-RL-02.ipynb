{
 "cells": [
  {
   "cell_type": "markdown",
   "metadata": {},
   "source": [
    "## Apress - Industrialized Machine Learning Examples\n",
    "\n",
    "Andreas Francois Vermeulen\n",
    "2019\n",
    "\n",
    "### This is an example add-on to a book and needs to be accepted as part of that copyright."
   ]
  },
  {
   "cell_type": "markdown",
   "metadata": {},
   "source": [
    "## Chapter-010-13-RL-02"
   ]
  },
  {
   "cell_type": "code",
   "execution_count": 1,
   "metadata": {},
   "outputs": [],
   "source": [
    "import matplotlib\n",
    "import numpy as np\n",
    "matplotlib.use('TkAgg')\n",
    "%matplotlib inline\n",
    "import matplotlib.pyplot as plt\n",
    "from matplotlib.table import Table\n",
    "\n",
    "WORLD_SIZE = 5\n",
    "A_POS = [0, 1]\n",
    "A_PRIME_POS = [4, 1]\n",
    "B_POS = [0, 3]\n",
    "B_PRIME_POS = [2, 3]\n",
    "DISCOUNT = 0.9\n",
    "\n",
    "# left, up, right, down\n",
    "ACTIONS = [np.array([0, -1]),\n",
    "           np.array([-1, 0]),\n",
    "           np.array([0, 1]),\n",
    "           np.array([1, 0])]\n",
    "\n",
    "ACTION_PROB = 0.25\n",
    "\n",
    "def step(state, action):\n",
    "\n",
    "    if state == A_POS:\n",
    "        return A_PRIME_POS, 10\n",
    "\n",
    "    if state == B_POS:\n",
    "        return B_PRIME_POS, 5\n",
    "\n",
    "    state = np.array(state)\n",
    "    next_state = (state + action).tolist()\n",
    "    x, y = next_state\n",
    "\n",
    "    if x < 0 or x >= WORLD_SIZE or y < 0 or y >= WORLD_SIZE:\n",
    "        reward = -1.0\n",
    "        next_state = state\n",
    "    else:\n",
    "        reward = 0\n",
    "    return next_state, reward\n",
    "\n",
    "\n",
    "\n",
    "def draw_image(image):\n",
    "    fig, ax = plt.subplots()\n",
    "    ax.set_axis_off()\n",
    "    tb = Table(ax, bbox=[0, 0, 1, 1])\n",
    "\n",
    "\n",
    "    nrows, ncols = image.shape\n",
    "\n",
    "    width, height = 1.0 / ncols, 1.0 / nrows\n",
    "\n",
    "\n",
    "\n",
    "    # Add cells\n",
    "\n",
    "    for (i,j), val in np.ndenumerate(image):\n",
    "\n",
    "        # Index either the first or second item of bkg_colors based on\n",
    "\n",
    "        # a checker board pattern\n",
    "\n",
    "        idx = [j % 2, (j + 1) % 2][i % 2]\n",
    "\n",
    "        color = 'white'\n",
    "\n",
    "\n",
    "\n",
    "        tb.add_cell(i, j, width, height, text=val, \n",
    "\n",
    "                    loc='center', facecolor=color)\n",
    "\n",
    "\n",
    "\n",
    "    # Row Labels...\n",
    "\n",
    "    for i, label in enumerate(range(len(image))):\n",
    "\n",
    "        tb.add_cell(i, -1, width, height, text=label+1, loc='right', \n",
    "\n",
    "                    edgecolor='none', facecolor='none')\n",
    "\n",
    "    # Column Labels...\n",
    "\n",
    "    for j, label in enumerate(range(len(image))):\n",
    "\n",
    "        tb.add_cell(-1, j, width, height/2, text=label+1, loc='center', \n",
    "\n",
    "                           edgecolor='none', facecolor='none')\n",
    "\n",
    "    ax.add_table(tb)\n",
    "\n",
    "\n",
    "\n",
    "def figure_5_10_02_01():\n",
    "\n",
    "    value = np.zeros((WORLD_SIZE, WORLD_SIZE))\n",
    "\n",
    "    while True:\n",
    "\n",
    "        # keep iteration until convergence\n",
    "\n",
    "        new_value = np.zeros(value.shape)\n",
    "\n",
    "        for i in range(0, WORLD_SIZE):\n",
    "\n",
    "            for j in range(0, WORLD_SIZE):\n",
    "\n",
    "                for action in ACTIONS:\n",
    "\n",
    "                    (next_i, next_j), reward = step([i, j], action)\n",
    "\n",
    "                    # bellman equation\n",
    "\n",
    "                    new_value[i, j] += ACTION_PROB * (reward + DISCOUNT * value[next_i, next_j])\n",
    "\n",
    "        if np.sum(np.abs(value - new_value)) < 1e-4:\n",
    "\n",
    "            draw_image(np.round(new_value, decimals=2))\n",
    "            plt.show()\n",
    "\n",
    "            plt.close()\n",
    "\n",
    "            break\n",
    "\n",
    "        value = new_value\n",
    "\n",
    "\n",
    "\n",
    "def figure_5_10_02_02():\n",
    "\n",
    "    value = np.zeros((WORLD_SIZE, WORLD_SIZE))\n",
    "\n",
    "    while True:\n",
    "\n",
    "        # keep iteration until convergence\n",
    "\n",
    "        new_value = np.zeros(value.shape)\n",
    "\n",
    "        for i in range(0, WORLD_SIZE):\n",
    "\n",
    "            for j in range(0, WORLD_SIZE):\n",
    "\n",
    "                values = []\n",
    "\n",
    "                for action in ACTIONS:\n",
    "\n",
    "                    (next_i, next_j), reward = step([i, j], action)\n",
    "\n",
    "                    # value iteration\n",
    "\n",
    "                    values.append(reward + DISCOUNT * value[next_i, next_j])\n",
    "\n",
    "                new_value[i, j] = np.max(values)\n",
    "\n",
    "        if np.sum(np.abs(new_value - value)) < 1e-4:\n",
    "\n",
    "            draw_image(np.round(new_value, decimals=2))\n",
    "            plt.show()\n",
    "\n",
    "            plt.close()\n",
    "\n",
    "            break\n",
    "\n",
    "        value = new_value\n",
    "\n",
    "\n",
    "\n",
    "\n"
   ]
  },
  {
   "cell_type": "code",
   "execution_count": 2,
   "metadata": {},
   "outputs": [
    {
     "data": {
      "image/png": "[encoded data removed]",
      "text/plain": [
       "<Figure size 432x288 with 1 Axes>"
      ]
     },
     "metadata": {
      "needs_background": "light"
     },
     "output_type": "display_data"
    }
   ],
   "source": [
    "figure_5_10_02_01()"
   ]
  },
  {
   "cell_type": "code",
   "execution_count": 3,
   "metadata": {},
   "outputs": [
    {
     "data": {
      "image/png": "[encoded data removed]",
      "text/plain": [
       "<Figure size 432x288 with 1 Axes>"
      ]
     },
     "metadata": {
      "needs_background": "light"
     },
     "output_type": "display_data"
    }
   ],
   "source": [
    "figure_5_10_02_02()"
   ]
  },
  {
   "cell_type": "markdown",
   "metadata": {},
   "source": [
    "## Done"
   ]
  },
  {
   "cell_type": "code",
   "execution_count": 4,
   "metadata": {},
   "outputs": [
    {
     "name": "stdout",
     "output_type": "stream",
     "text": [
      "Done! 2019-04-27 14:37:45.841840\n"
     ]
    }
   ],
   "source": [
    "import datetime\n",
    "now = datetime.datetime.now()\n",
    "print('Done!',str(now))"
   ]
  }
 ],
 "metadata": {
  "kernelspec": {
   "display_name": "Python 3",
   "language": "python",
   "name": "python3"
  },
  "language_info": {
   "codemirror_mode": {
    "name": "ipython",
    "version": 3
   },
   "file_extension": ".py",
   "mimetype": "text/x-python",
   "name": "python",
   "nbconvert_exporter": "python",
   "pygments_lexer": "ipython3",
   "version": "3.7.3"
  }
 },
 "nbformat": 4,
 "nbformat_minor": 2
}
