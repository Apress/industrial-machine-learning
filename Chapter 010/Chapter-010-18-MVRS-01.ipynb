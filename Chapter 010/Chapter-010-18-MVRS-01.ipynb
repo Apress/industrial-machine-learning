{
 "cells": [
  {
   "cell_type": "markdown",
   "metadata": {},
   "source": [
    "## Apress - Industrialized Machine Learning Examples\n",
    "\n",
    "Andreas Francois Vermeulen\n",
    "2019\n",
    "\n",
    "### This is an example add-on to a book and needs to be accepted as part of that copyright."
   ]
  },
  {
   "cell_type": "markdown",
   "metadata": {
    "collapsed": true
   },
   "source": [
    "## Chapter-010-18-MVRS-01"
   ]
  },
  {
   "cell_type": "code",
   "execution_count": 1,
   "metadata": {},
   "outputs": [],
   "source": [
    "import random\n",
    "from math import sqrt\n",
    "import numpy as np\n",
    "\n",
    "import matplotlib\n",
    "import numpy as np\n",
    "matplotlib.use('TkAgg')\n",
    "%matplotlib inline\n",
    "\n",
    "import matplotlib.pyplot as plt"
   ]
  },
  {
   "cell_type": "code",
   "execution_count": 2,
   "metadata": {},
   "outputs": [],
   "source": [
    "class Truck(object):\n",
    "\n",
    "    def __init__(self, name):\n",
    "        self.name = name\n",
    "        self.x = float(random.randint(0, 40))\n",
    "        self.y = float(random.randint(0, 40))\n",
    "        self.target = None\n",
    "\n",
    "    def get_distance(self, target):\n",
    "        \"\"\"\n",
    "        Return distance between self and any target object\n",
    "        \"\"\"\n",
    "        x_squared = pow((self.x - target.x), 2)\n",
    "        y_squared = pow((self.y - target.y), 2)\n",
    "\n",
    "        return sqrt(x_squared + y_squared)\n",
    "\n",
    "    def drive_to_target(self):\n",
    "        \"\"\"\n",
    "        Moves self closer to current target\n",
    "        \"\"\"\n",
    "\n",
    "        if self.target is None:\n",
    "            return\n",
    "\n",
    "        if self.get_distance(self.target) < .2:\n",
    "            self.target.reached = True\n",
    "        else:\n",
    "            self.x += (self.target.x - self.x) * .2\n",
    "            self.y += (self.target.y - self.y) * .2"
   ]
  },
  {
   "cell_type": "code",
   "execution_count": 3,
   "metadata": {},
   "outputs": [],
   "source": [
    "class Target(object):\n",
    "\n",
    "    def __init__(self, reached=False):\n",
    "        self.x = float(random.randint(0, 40))\n",
    "        self.y = float(random.randint(0, 40))\n",
    "        self.reached = reached"
   ]
  },
  {
   "cell_type": "code",
   "execution_count": 4,
   "metadata": {},
   "outputs": [],
   "source": [
    "class Dispatcher(object):\n",
    "    \"\"\"\n",
    "    Class responsible for moving trucks and tracking targets\n",
    "    \"\"\"\n",
    "\n",
    "    def __init__(self):\n",
    "        self.trucks = [Truck(\"RED\"), Truck(\"GREEN\")]\n",
    "        self.targets = list(set([Target() for i in range(100)]))\n",
    "        self.job_complete = False\n",
    "\n",
    "    def move_trucks(self):\n",
    "        \"\"\"\n",
    "        Brute force to find best targets for respective trucks\n",
    "        \"\"\"\n",
    "\n",
    "        # Check if all targets have been reached\n",
    "        unreached_targets = [target for target in self.targets if target.reached is False]\n",
    "        if len(unreached_targets) == 0:\n",
    "            self.job_complete = True\n",
    "            return\n",
    "\n",
    "        # List of tuples: (truck object, target object, distance)\n",
    "        truck_target_distance = []\n",
    "\n",
    "        for truck in self.trucks:\n",
    "            for target in unreached_targets:\n",
    "                truck_target_distance.append((truck, target, truck.get_distance(target)))\n",
    "\n",
    "        # Sort by distance\n",
    "        truck_target_distance.sort(key=lambda x: x[2])\n",
    "\n",
    "        next_moves = truck_target_distance[:1]\n",
    "\n",
    "        for potential_move in truck_target_distance:\n",
    "            if potential_move[0] != next_moves[0][0]:\n",
    "                if potential_move[1] != next_moves[0][1]:\n",
    "                    next_moves.append(potential_move)\n",
    "                    break\n",
    "            else:\n",
    "                continue\n",
    "\n",
    "        for move in next_moves:\n",
    "            move[0].target = move[1]\n",
    "            move[0].drive_to_target()"
   ]
  },
  {
   "cell_type": "code",
   "execution_count": 5,
   "metadata": {},
   "outputs": [],
   "source": [
    "class Plot(object):\n",
    "    \"\"\"\n",
    "    Class responsible for plotting the movement of Trucks and Targets\n",
    "    \"\"\"\n",
    "\n",
    "    def __init__(self, dispatch):\n",
    "        \"\"\"\n",
    "        Takes a Dispatcher object and plots its state.\n",
    "        \"\"\"\n",
    "        self.dispatch = dispatch\n",
    "\n",
    "        # Initalize plot\n",
    "        self.fig = plt.figure(figsize=(15,15))\n",
    "        self.ax = self.fig.subplots()\n",
    "        self.ax.set_xlim(0, 40)\n",
    "        self.ax.set_ylim(0, 40)\n",
    "\n",
    "        # Trucks represented by points\n",
    "        self.points_red, = self.ax.plot(self.dispatch.trucks[0].x, self.dispatch.trucks[0].y, color='red', marker='^', linestyle='None')\n",
    "\n",
    "        self.points_green, = self.ax.plot(self.dispatch.trucks[1].x, self.dispatch.trucks[1].y, color='green', marker='^', linestyle='None')\n",
    "\n",
    "        # Targets represented by points.\n",
    "        targets_x_coordinates = [target.x for target in self.dispatch.targets]\n",
    "        targets_y_coordinates = [target.y for target in self.dispatch.targets]\n",
    "        self.points_targets_unreached, = self.ax.plot(targets_x_coordinates, targets_y_coordinates, color=\"blue\", marker='o', linestyle='None')\n",
    "\n",
    "        # No completed targets initially\n",
    "        self.points_targets_reached, = self.ax.plot([], [], color=\"pink\", marker='o', linestyle='None')\n",
    "\n",
    "    def update(self):\n",
    "        \"\"\"\n",
    "        Updates plot as trucks move and targets are reached\n",
    "        \"\"\"\n",
    "\n",
    "        # Plot unreached targets\n",
    "        targets_unreached_x_coordinates = [target.x for target in self.dispatch.targets if target.reached is False]\n",
    "        targets_unreached_y_coordinates = [target.y for target in self.dispatch.targets if target.reached is False]\n",
    "        self.points_targets_unreached.set_data(targets_unreached_x_coordinates, targets_unreached_y_coordinates)\n",
    "\n",
    "        # Plot reached targets\n",
    "        targets_reached_x_coordinates = [target.x for target in self.dispatch.targets if target.reached is True]\n",
    "        targets_reached_y_coordinates = [target.y for target in self.dispatch.targets if target.reached is True]\n",
    "        self.points_targets_reached.set_data(targets_reached_x_coordinates, targets_reached_y_coordinates)\n",
    "\n",
    "        # Plot movement of trucks\n",
    "        self.points_red.set_data(np.float(self.dispatch.trucks[0].x), np.float(self.dispatch.trucks[0].y))\n",
    "        self.points_green.set_data(np.float(self.dispatch.trucks[1].x), np.float(self.dispatch.trucks[1].y))\n",
    "\n",
    "        # Pause for capture animation\n",
    "        plt.pause(0.001)"
   ]
  },
  {
   "cell_type": "code",
   "execution_count": 6,
   "metadata": {},
   "outputs": [],
   "source": [
    "def main_proc():\n",
    "    \"\"\"\n",
    "    1. Creates an instance of the Dispatcher class.\n",
    "    2. Creates an instance of the Plot class.\n",
    "    3. Move trucks towards targets until all targets have been reached.\n",
    "    \"\"\"\n",
    "\n",
    "    random.seed(1968)\n",
    "    d = Dispatcher()\n",
    "    p = Plot(d)\n",
    "\n",
    "    while d.job_complete is False:\n",
    "        d.move_trucks()\n",
    "        p.update()"
   ]
  },
  {
   "cell_type": "code",
   "execution_count": 7,
   "metadata": {},
   "outputs": [
    {
     "data": {
      "image/png": "[encoded data removed]",
      "text/plain": [
       "<Figure size 1080x1080 with 1 Axes>"
      ]
     },
     "metadata": {
      "needs_background": "light"
     },
     "output_type": "display_data"
    }
   ],
   "source": [
    "main_proc()"
   ]
  },
  {
   "cell_type": "markdown",
   "metadata": {},
   "source": [
    "## Done"
   ]
  },
  {
   "cell_type": "code",
   "execution_count": 8,
   "metadata": {},
   "outputs": [
    {
     "name": "stdout",
     "output_type": "stream",
     "text": [
      "Done! 2019-04-27 16:41:09.530505\n"
     ]
    }
   ],
   "source": [
    "import datetime\n",
    "now = datetime.datetime.now()\n",
    "print('Done!',str(now))"
   ]
  }
 ],
 "metadata": {
  "kernelspec": {
   "display_name": "Python 3",
   "language": "python",
   "name": "python3"
  },
  "language_info": {
   "codemirror_mode": {
    "name": "ipython",
    "version": 3
   },
   "file_extension": ".py",
   "mimetype": "text/x-python",
   "name": "python",
   "nbconvert_exporter": "python",
   "pygments_lexer": "ipython3",
   "version": "3.7.3"
  }
 },
 "nbformat": 4,
 "nbformat_minor": 2
}
