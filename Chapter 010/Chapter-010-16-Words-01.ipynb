{
 "cells": [
  {
   "cell_type": "markdown",
   "metadata": {},
   "source": [
    "## Apress - Industrialized Machine Learning Examples\n",
    "\n",
    "Andreas Francois Vermeulen\n",
    "2019\n",
    "\n",
    "### This is an example add-on to a book and needs to be accepted as part of that copyright."
   ]
  },
  {
   "cell_type": "markdown",
   "metadata": {
    "collapsed": true
   },
   "source": [
    "## Chapter-010-16-Words-01"
   ]
  },
  {
   "cell_type": "code",
   "execution_count": 1,
   "metadata": {},
   "outputs": [],
   "source": [
    "import matplotlib\n",
    "import numpy as np\n",
    "matplotlib.use('TkAgg')\n",
    "%matplotlib inline\n",
    "\n",
    "import random \n",
    "random.seed(1)"
   ]
  },
  {
   "cell_type": "code",
   "execution_count": 2,
   "metadata": {},
   "outputs": [],
   "source": [
    "# Number of individuals in each generation \n",
    "POPULATION_SIZE = 1963"
   ]
  },
  {
   "cell_type": "code",
   "execution_count": 3,
   "metadata": {},
   "outputs": [],
   "source": [
    "# Valid genes \n",
    "GENES = '''abcdefghijklmnopqrstuvwxyzABCDEFGHIJKLMNOPQRSTUVWXYZ 1234567890, .-;:_!\"#%&/()=?@${[]}'''"
   ]
  },
  {
   "cell_type": "code",
   "execution_count": 4,
   "metadata": {},
   "outputs": [],
   "source": [
    "# Target string to be generated \n",
    "TARGET = 'I love Denise very much! She is a great wife!!'"
   ]
  },
  {
   "cell_type": "code",
   "execution_count": 5,
   "metadata": {},
   "outputs": [],
   "source": [
    "class Individual(object): \n",
    "    ''' \n",
    "    Class representing individual in population \n",
    "    '''\n",
    "    def __init__(self, chromosome): \n",
    "        self.chromosome = chromosome  \n",
    "        self.fitness = self.cal_fitness() \n",
    "  \n",
    "    @classmethod\n",
    "    def mutated_genes(self): \n",
    "        ''' \n",
    "        create random genes for mutation \n",
    "        '''\n",
    "        global GENES \n",
    "        gene = random.choice(GENES) \n",
    "        return gene \n",
    "  \n",
    "    @classmethod\n",
    "    def create_gnome(self): \n",
    "        ''' \n",
    "        create chromosome or string of genes \n",
    "        '''\n",
    "        global TARGET \n",
    "        gnome_len = len(TARGET) \n",
    "        return [self.mutated_genes() for _ in range(gnome_len)] \n",
    "  \n",
    "    def mate(self, par2): \n",
    "        ''' \n",
    "        Perform mating and produce new offspring \n",
    "        '''\n",
    "  \n",
    "        # chromosome for offspring \n",
    "        child_chromosome = [] \n",
    "        for gp1, gp2 in zip(self.chromosome, par2.chromosome):     \n",
    "  \n",
    "            # random probability   \n",
    "            prob = random.random() \n",
    "  \n",
    "            # if prob is less than 0.45, insert gene \n",
    "            # from parent 1  \n",
    "            if prob < 0.45: \n",
    "                child_chromosome.append(gp1) \n",
    "  \n",
    "            # if prob is between 0.45 and 0.90, insert \n",
    "            # gene from parent 2 \n",
    "            elif prob < 0.90: \n",
    "                child_chromosome.append(gp2) \n",
    "  \n",
    "            # otherwise insert random gene(mutate),  \n",
    "            # for maintaining diversity \n",
    "            else: \n",
    "                child_chromosome.append(self.mutated_genes()) \n",
    "  \n",
    "        # create new Individual(offspring) using  \n",
    "        # generated chromosome for offspring \n",
    "        return Individual(child_chromosome) \n",
    "  \n",
    "    def cal_fitness(self): \n",
    "        ''' \n",
    "        Calculate fittness score, it is the number of \n",
    "        characters in string which differ from target \n",
    "        string. \n",
    "        '''\n",
    "        global TARGET \n",
    "        fitness = 0\n",
    "        for gs, gt in zip(self.chromosome, TARGET): \n",
    "            if gs != gt: fitness+= 1\n",
    "        return fitness \n"
   ]
  },
  {
   "cell_type": "code",
   "execution_count": 6,
   "metadata": {},
   "outputs": [],
   "source": [
    "# Driver code \n",
    "def main_proc(): \n",
    "    global POPULATION_SIZE \n",
    "  \n",
    "    #current generation \n",
    "    generation = 1\n",
    "  \n",
    "    found = False\n",
    "    population = [] \n",
    "  \n",
    "    # create initial population \n",
    "    for _ in range(POPULATION_SIZE): \n",
    "                gnome = Individual.create_gnome() \n",
    "                population.append(Individual(gnome)) \n",
    "  \n",
    "    while not found: \n",
    "  \n",
    "        # sort the population in increasing order of fitness score \n",
    "        population = sorted(population, key = lambda x:x.fitness) \n",
    "  \n",
    "        # if the individual having lowest fitness score ie.  \n",
    "        # 0 then we know that we have reached to the target \n",
    "        # and break the loop \n",
    "        if population[0].fitness <= 0: \n",
    "            found = True\n",
    "            break\n",
    "  \n",
    "        # Otherwise generate new offsprings for new generation \n",
    "        new_generation = [] \n",
    "  \n",
    "        # Perform Elitism, that mean 10% of fittest population \n",
    "        # goes to the next generation \n",
    "        s = int((10*POPULATION_SIZE)/100) \n",
    "        new_generation.extend(population[:s]) \n",
    "  \n",
    "        # From 50% of fittest population, Individuals  \n",
    "        # will mate to produce offspring \n",
    "        s = int((90*POPULATION_SIZE)/100) \n",
    "        for _ in range(s): \n",
    "            parent1 = random.choice(population[:50]) \n",
    "            parent2 = random.choice(population[:50]) \n",
    "            child = parent1.mate(parent2) \n",
    "            new_generation.append(child) \n",
    "  \n",
    "        population = new_generation \n",
    "  \n",
    "        print(\"Generation: {}\\tString: {}\\tFitness: {}\". \n",
    "              format(generation, \n",
    "              ''.join(population[0].chromosome), \n",
    "              population[0].fitness)) \n",
    "  \n",
    "        generation += 1\n",
    "  \n",
    "      \n",
    "    print('Generation: {}\\tString: {}\\tFitness: {}'.format(generation, ''.join(population[0].chromosome), population[0].fitness)) \n"
   ]
  },
  {
   "cell_type": "code",
   "execution_count": 7,
   "metadata": {},
   "outputs": [
    {
     "data": {
      "application/javascript": [
       "IPython.OutputArea.auto_scroll_threshold = 9999;\n"
      ],
      "text/plain": [
       "<IPython.core.display.Javascript object>"
      ]
     },
     "metadata": {},
     "output_type": "display_data"
    }
   ],
   "source": [
    "%%javascript\n",
    "IPython.OutputArea.auto_scroll_threshold = 9999;"
   ]
  },
  {
   "cell_type": "code",
   "execution_count": 8,
   "metadata": {},
   "outputs": [
    {
     "name": "stdout",
     "output_type": "stream",
     "text": [
      "Generation: 1\tString: \"$Jp KdL$;hKhlVTo} 5Jeh!IRSFJ0HiD W8u= 63C6.@k\tFitness: 42\n",
      "Generation: 2\tString: \"  p KSD$;gKKl:Tc} vJeh!!RnFf:HiE W82=  O-u.@r\tFitness: 39\n",
      "Generation: 3\tString: pMjAMecD$1s6b$vMr8 b%?Cv tEe 6?{ #_sm/n:wnx_]!\tFitness: 36\n",
      "Generation: 4\tString: I (8Me D$1\"6b$rorG b8ahP t e zG P[Prm;d@wn :s!\tFitness: 31\n",
      "Generation: 5\tString: I (8He ,edLsogXeys\"%8yhoHJhe zt n:Prqa- wq=)!!\tFitness: 28\n",
      "Generation: 6\tString: I X{xen@edLsegvers\"!xRho the 5t   g7Zat w#fwh!\tFitness: 23\n",
      "Generation: 7\tString: F XJQe2Wen=sAFverC mucg2 She 6E . ,r9#tzmxfn!!\tFitness: 22\n",
      "Generation: 8\tString: F lmQe2DenqsAmv&r2 mOch5 She 6  . ,r9at wxfn!!\tFitness: 18\n",
      "Generation: 9\tString: I loLe Den=sAbv&ra m0ch!ZShe #  P freatZw-fn!!\tFitness: 15\n",
      "Generation: 10\tString: I l{ve DenL#emverG vPch5 She  s t grBat wnfe!!\tFitness: 12\n",
      "Generation: 11\tString: I love Den3se verD m:ih! She #56  gr?at wHfe!!\tFitness: 10\n",
      "Generation: 12\tString: I love2De1=sCmver2 much! Vhe is a freat w-fe!!\tFitness: 9\n",
      "Generation: 13\tString: I love Den=sCgver2 much! Vhe is 6 great wifeq!\tFitness: 7\n",
      "Generation: 14\tString: I loveNDenVse ver2 much! She is a gr/at wHfe!!\tFitness: 5\n",
      "Generation: 15\tString: I love DenLsF verN much! She is P great wife!!\tFitness: 4\n",
      "Generation: 16\tString: I love DenHse verf mu h! She is a great wife!!\tFitness: 3\n",
      "Generation: 17\tString: I love DenHse verf mu h! She is a great wife!!\tFitness: 3\n",
      "Generation: 18\tString: I love DenHse verf mu h! She is a great wife!!\tFitness: 3\n",
      "Generation: 19\tString: I love DenHse verf much! She is a great wife!!\tFitness: 2\n",
      "Generation: 20\tString: I love DenHse verf much! She is a great wife!!\tFitness: 2\n",
      "Generation: 21\tString: I love DenHse verf much! She is a great wife!!\tFitness: 2\n",
      "Generation: 22\tString: I love DenHse verf much! She is a great wife!!\tFitness: 2\n",
      "Generation: 23\tString: I love DenHse verf much! She is a great wife!!\tFitness: 2\n",
      "Generation: 24\tString: I love DenMse very much! She is a great wife!!\tFitness: 1\n",
      "Generation: 25\tString: I love DenMse very much! She is a great wife!!\tFitness: 1\n",
      "Generation: 26\tString: I love DenMse very much! She is a great wife!!\tFitness: 1\n",
      "Generation: 27\tString: I love DenMse very much! She is a great wife!!\tFitness: 1\n",
      "Generation: 28\tString: I love DenMse very much! She is a great wife!!\tFitness: 1\n",
      "Generation: 29\tString: I love DenMse very much! She is a great wife!!\tFitness: 1\n",
      "Generation: 30\tString: I love DenMse very much! She is a great wife!!\tFitness: 1\n",
      "Generation: 31\tString: I love DenMse very much! She is a great wife!!\tFitness: 1\n",
      "Generation: 32\tString: I love DenMse very much! She is a great wife!!\tFitness: 1\n",
      "Generation: 33\tString: I love DenMse very much! She is a great wife!!\tFitness: 1\n",
      "Generation: 34\tString: I love DenMse very much! She is a great wife!!\tFitness: 1\n",
      "Generation: 35\tString: I love DenMse very much! She is a great wife!!\tFitness: 1\n",
      "Generation: 36\tString: I love DenMse very much! She is a great wife!!\tFitness: 1\n",
      "Generation: 37\tString: I love DenMse very much! She is a great wife!!\tFitness: 1\n",
      "Generation: 38\tString: I love DenMse very much! She is a great wife!!\tFitness: 1\n",
      "Generation: 39\tString: I love DenMse very much! She is a great wife!!\tFitness: 1\n",
      "Generation: 40\tString: I love DenMse very much! She is a great wife!!\tFitness: 1\n",
      "Generation: 41\tString: I love DenMse very much! She is a great wife!!\tFitness: 1\n",
      "Generation: 42\tString: I love DenMse very much! She is a great wife!!\tFitness: 1\n",
      "Generation: 43\tString: I love DenMse very much! She is a great wife!!\tFitness: 1\n",
      "Generation: 44\tString: I love DenMse very much! She is a great wife!!\tFitness: 1\n",
      "Generation: 45\tString: I love Denise very much! She is a great wife!!\tFitness: 0\n"
     ]
    }
   ],
   "source": [
    "main_proc()"
   ]
  },
  {
   "cell_type": "markdown",
   "metadata": {},
   "source": [
    "## Done"
   ]
  },
  {
   "cell_type": "code",
   "execution_count": 9,
   "metadata": {},
   "outputs": [
    {
     "name": "stdout",
     "output_type": "stream",
     "text": [
      "Done! 2019-04-27 15:43:51.295129\n"
     ]
    }
   ],
   "source": [
    "import datetime\n",
    "now = datetime.datetime.now()\n",
    "print('Done!',str(now))"
   ]
  }
 ],
 "metadata": {
  "kernelspec": {
   "display_name": "Python 3",
   "language": "python",
   "name": "python3"
  },
  "language_info": {
   "codemirror_mode": {
    "name": "ipython",
    "version": 3
   },
   "file_extension": ".py",
   "mimetype": "text/x-python",
   "name": "python",
   "nbconvert_exporter": "python",
   "pygments_lexer": "ipython3",
   "version": "3.7.3"
  }
 },
 "nbformat": 4,
 "nbformat_minor": 2
}
